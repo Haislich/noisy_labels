{
 "cells": [
  {
   "cell_type": "code",
   "execution_count": 28,
   "metadata": {
    "id": "xSkgt1zf-raF",
    "outputId": "59f4a52f-5eb4-41e5-9fba-07432989fe78",
    "trusted": true
   },
   "outputs": [],
   "source": [
    "# !pip install https://github.com/pyg-team/pytorch_geometric.git"
   ]
  },
  {
   "cell_type": "code",
   "execution_count": 29,
   "metadata": {
    "id": "5oR2D2Us-xSQ",
    "outputId": "7086cadf-a7fe-4d75-f271-6339bee8164d",
    "trusted": true
   },
   "outputs": [],
   "source": [
    "# !git clone --branch baselineCe https://github.com/Graph-Classification-Noisy-Label/hackaton.git"
   ]
  },
  {
   "cell_type": "code",
   "execution_count": 30,
   "metadata": {
    "id": "tEhfPly6-7UK",
    "outputId": "3078ee06-6312-4fca-f5f9-888fa628c80a",
    "trusted": true
   },
   "outputs": [
    {
     "name": "stdout",
     "output_type": "stream",
     "text": [
      "[Errno 2] No such file or directory: 'hackaton/'\n",
      "/home/valerio/Desktop/noisy_labels/hackaton\n"
     ]
    },
    {
     "name": "stderr",
     "output_type": "stream",
     "text": [
      "/home/valerio/.pyenv/versions/3.10.15/envs/hackaton/lib/python3.10/site-packages/IPython/core/magics/osm.py:393: UserWarning: This is now an optional IPython functionality, using bookmarks requires you to install the `pickleshare` library.\n",
      "  bkms = self.shell.db.get('bookmarks', {})\n"
     ]
    }
   ],
   "source": [
    "%cd hackaton/"
   ]
  },
  {
   "cell_type": "code",
   "execution_count": 31,
   "metadata": {
    "id": "PxBvwB0_6xI8",
    "outputId": "5933387c-2cfb-474f-d842-f36a3e2d2a73",
    "trusted": true
   },
   "outputs": [],
   "source": [
    "# !gdown --folder https://drive.google.com/drive/folders/1Z-1JkPJ6q4C6jX4brvq1VRbJH5RPUCAk -O datasets\n"
   ]
  },
  {
   "cell_type": "code",
   "execution_count": 32,
   "metadata": {
    "id": "1rockhiQ7Nny",
    "outputId": "2cd2e6f4-5f8f-4a62-f0ec-53e6fc78c9b7",
    "trusted": true
   },
   "outputs": [
    {
     "name": "stdout",
     "output_type": "stream",
     "text": [
      "total 4.0K\n",
      "drwxrwxr-x 6 valerio valerio 4.0K May 25 13:03 data\n"
     ]
    }
   ],
   "source": [
    "!ls -lh datasets"
   ]
  },
  {
   "cell_type": "code",
   "execution_count": 33,
   "metadata": {
    "id": "lAQuCuIoBbq5",
    "trusted": true
   },
   "outputs": [],
   "source": [
    "import os\n",
    "import torch\n",
    "import pandas as pd\n",
    "import matplotlib.pyplot as plt\n",
    "import logging\n",
    "from tqdm import tqdm\n",
    "from torch_geometric.loader import DataLoader\n",
    "from torch.utils.data import random_split\n",
    "# Load utility functions from cloned repository\n",
    "from src.loadData import GraphDataset\n",
    "from src.utils import set_seed\n",
    "from src.models import GNN\n",
    "import argparse\n",
    "\n",
    "\n",
    "# Set the random seed\n",
    "set_seed()\n"
   ]
  },
  {
   "cell_type": "code",
   "execution_count": 34,
   "metadata": {
    "id": "Dyf0I2-t9IcW",
    "trusted": true
   },
   "outputs": [],
   "source": [
    "def add_zeros(data):\n",
    "    data.x = torch.zeros(data.num_nodes, dtype=torch.long)\n",
    "    return data"
   ]
  },
  {
   "cell_type": "code",
   "execution_count": 35,
   "metadata": {
    "id": "3jKvoQYI9Zbc",
    "trusted": true
   },
   "outputs": [],
   "source": [
    "def train(data_loader, model, optimizer, criterion, device, save_checkpoints, checkpoint_path, current_epoch):\n",
    "    model.train()\n",
    "    total_loss = 0\n",
    "    correct = 0\n",
    "    total = 0\n",
    "    for data in tqdm(data_loader, desc=\"Iterating training graphs\", unit=\"batch\"):\n",
    "        data = data.to(device)\n",
    "        output = model(data)\n",
    "        loss = criterion(output, data.y)\n",
    "        loss.backward()\n",
    "        optimizer.step()\n",
    "        optimizer.zero_grad()\n",
    "        total_loss += loss.item()\n",
    "        pred = output.argmax(dim=1)\n",
    "        correct += (pred == data.y).sum().item()\n",
    "        total += data.y.size(0)\n",
    "\n",
    "    # Save checkpoints if required\n",
    "    if save_checkpoints:\n",
    "        checkpoint_file = f\"{checkpoint_path}_epoch_{current_epoch + 1}.pth\"\n",
    "        torch.save(model.state_dict(), checkpoint_file)\n",
    "        print(f\"Checkpoint saved at {checkpoint_file}\")\n",
    "\n",
    "    return total_loss / len(data_loader),  correct / total"
   ]
  },
  {
   "cell_type": "code",
   "execution_count": 36,
   "metadata": {
    "id": "8peFiIS19ZpK",
    "trusted": true
   },
   "outputs": [],
   "source": [
    "from sklearn.metrics import f1_score\n",
    "from tqdm import tqdm\n",
    "import torch\n",
    "\n",
    "def evaluate(data_loader, model, device, calculate_accuracy=False):\n",
    "    model.eval()\n",
    "    total_loss = 0.0\n",
    "    correct = 0\n",
    "    total = 0\n",
    "    all_preds = []\n",
    "    all_labels = []\n",
    "\n",
    "    criterion = torch.nn.CrossEntropyLoss()\n",
    "\n",
    "    with torch.no_grad():\n",
    "        for data in tqdm(data_loader, desc=\"Iterating eval graphs\", unit=\"batch\"):\n",
    "            data = data.to(device)\n",
    "            logits = model(data)\n",
    "            pred = logits.argmax(dim=1)\n",
    "\n",
    "            if calculate_accuracy:\n",
    "                loss = criterion(logits, data.y)\n",
    "                total_loss += loss.item()\n",
    "                correct += (pred == data.y).sum().item()\n",
    "                total += data.y.size(0)\n",
    "\n",
    "                all_preds.extend(pred.cpu().tolist())\n",
    "                all_labels.extend(data.y.cpu().tolist())\n",
    "            else:\n",
    "                all_preds.extend(pred.cpu().tolist())\n",
    "\n",
    "    if calculate_accuracy:\n",
    "        avg_loss = total_loss / len(data_loader)\n",
    "        accuracy = correct / total\n",
    "        macro_f1 = f1_score(all_labels, all_preds, average='macro')\n",
    "        return avg_loss, accuracy, macro_f1\n",
    "\n",
    "    return all_preds\n"
   ]
  },
  {
   "cell_type": "code",
   "execution_count": 37,
   "metadata": {
    "id": "WanuZKxy9Zs-",
    "trusted": true
   },
   "outputs": [],
   "source": [
    "def save_predictions(predictions, test_path):\n",
    "    script_dir = os.getcwd() \n",
    "    submission_folder = os.path.join(script_dir, \"submission\")\n",
    "    test_dir_name = os.path.basename(os.path.dirname(test_path))\n",
    "    \n",
    "    os.makedirs(submission_folder, exist_ok=True)\n",
    "    \n",
    "    output_csv_path = os.path.join(submission_folder, f\"testset_{test_dir_name}.csv\")\n",
    "    \n",
    "    test_graph_ids = list(range(len(predictions)))\n",
    "    output_df = pd.DataFrame({\n",
    "        \"id\": test_graph_ids,\n",
    "        \"pred\": predictions\n",
    "    })\n",
    "    \n",
    "    output_df.to_csv(output_csv_path, index=False)\n",
    "    print(f\"Predictions saved to {output_csv_path}\")"
   ]
  },
  {
   "cell_type": "code",
   "execution_count": 38,
   "metadata": {
    "id": "uyHIJS5U9ZzB",
    "trusted": true
   },
   "outputs": [],
   "source": [
    "def plot_training_progress(train_losses, train_accuracies, output_dir):\n",
    "    epochs = range(1, len(train_losses) + 1)\n",
    "    plt.figure(figsize=(12, 6))\n",
    "\n",
    "    # Plot loss\n",
    "    plt.subplot(1, 2, 1)\n",
    "    plt.plot(epochs, train_losses, label=\"Training Loss\", color='blue')\n",
    "    plt.xlabel('Epoch')\n",
    "    plt.ylabel('Loss')\n",
    "    plt.title('Training Loss per Epoch')\n",
    "\n",
    "    # Plot accuracy\n",
    "    plt.subplot(1, 2, 2)\n",
    "    plt.plot(epochs, train_accuracies, label=\"Training Accuracy\", color='green')\n",
    "    plt.xlabel('Epoch')\n",
    "    plt.ylabel('Accuracy')\n",
    "    plt.title('Training Accuracy per Epoch')\n",
    "\n",
    "    # Save plots in the current directory\n",
    "    os.makedirs(output_dir, exist_ok=True)\n",
    "    plt.tight_layout()\n",
    "    plt.savefig(os.path.join(output_dir, \"training_progress.png\"))\n",
    "    plt.close()"
   ]
  },
  {
   "cell_type": "code",
   "execution_count": 39,
   "metadata": {
    "trusted": true
   },
   "outputs": [],
   "source": [
    "def get_user_input(prompt, default=None, required=False, type_cast=str):\n",
    "\n",
    "    while True:\n",
    "        user_input = \"\"#input(f\"{prompt} [{default}]: \")\n",
    "        \n",
    "        if user_input == \"\" and required:\n",
    "            print(\"This field is required. Please enter a value.\")\n",
    "            continue\n",
    "        \n",
    "        if user_input == \"\" and default is not None:\n",
    "            return default\n",
    "        \n",
    "        if user_input == \"\" and not required:\n",
    "            return None\n",
    "        \n",
    "        try:\n",
    "            return type_cast(user_input)\n",
    "        except ValueError:\n",
    "            print(f\"Invalid input. Please enter a valid {type_cast.__name__}.\")"
   ]
  },
  {
   "cell_type": "code",
   "execution_count": 40,
   "metadata": {
    "trusted": true
   },
   "outputs": [],
   "source": [
    "def get_arguments():\n",
    "    args = {}\n",
    "    args['train_path'] = get_user_input(\"Path to the training dataset (optional)\", default = \"./datasets/data/A/train.json.gz\")\n",
    "    args['test_path'] = get_user_input(\"Path to the test dataset\",default = \"./datasets/data/A/test.json.gz\")\n",
    "    args['num_checkpoints'] = get_user_input(\"Number of checkpoints to save during training\", type_cast=int)\n",
    "    args['device'] = get_user_input(\"Which GPU to use if any\", default=0, type_cast=int)\n",
    "    args['gnn'] = get_user_input(\"GNN type (gin, gin-virtual, gcn, gcn-virtual)\", default='gin-virtual')\n",
    "    args['drop_ratio'] = get_user_input(\"Dropout ratio\", default=0.1, type_cast=float)\n",
    "    args['num_layer'] = get_user_input(\"Number of GNN message passing layers\", default=5, type_cast=int)\n",
    "    args['emb_dim'] = get_user_input(\"Dimensionality of hidden units in GNNs\", default=300, type_cast=int)\n",
    "    args['batch_size'] = get_user_input(\"Input batch size for training\", default=32, type_cast=int)\n",
    "    args['epochs'] = get_user_input(\"Number of epochs to train\", default=50, type_cast=int)\n",
    "    args['baseline_mode'] = get_user_input(\"Baseline mode: 1 (CE), 2 (Noisy CE)\", default=2, type_cast=int)\n",
    "    args['noise_prob'] = get_user_input(\"Noise probability p (used if baseline_mode=2)\", default=0.2, type_cast=float)\n",
    "\n",
    "    \n",
    "    return argparse.Namespace(**args)\n"
   ]
  },
  {
   "cell_type": "code",
   "execution_count": 41,
   "metadata": {
    "trusted": true
   },
   "outputs": [
    {
     "name": "stdout",
     "output_type": "stream",
     "text": [
      "Arguments received:\n",
      "train_path: ./datasets/data/A/train.json.gz\n",
      "test_path: ./datasets/data/A/test.json.gz\n",
      "num_checkpoints: None\n",
      "device: 0\n",
      "gnn: gin-virtual\n",
      "drop_ratio: 0.1\n",
      "num_layer: 5\n",
      "emb_dim: 300\n",
      "batch_size: 32\n",
      "epochs: 50\n",
      "baseline_mode: 2\n",
      "noise_prob: 0.2\n"
     ]
    }
   ],
   "source": [
    "def populate_args(args):\n",
    "    print(\"Arguments received:\")\n",
    "    for key, value in vars(args).items():\n",
    "        print(f\"{key}: {value}\")\n",
    "args = get_arguments()\n",
    "populate_args(args)"
   ]
  },
  {
   "cell_type": "code",
   "execution_count": 42,
   "metadata": {
    "trusted": true
   },
   "outputs": [],
   "source": [
    "class NoisyCrossEntropyLoss(torch.nn.Module):\n",
    "    def __init__(self, p_noisy):\n",
    "        super().__init__()\n",
    "        self.p = p_noisy\n",
    "        self.ce = torch.nn.CrossEntropyLoss(reduction='none')\n",
    "\n",
    "    def forward(self, logits, targets):\n",
    "        losses = self.ce(logits, targets)\n",
    "        weights = (1 - self.p) + self.p * (1 - torch.nn.functional.one_hot(targets, num_classes=logits.size(1)).float().sum(dim=1))\n",
    "        return (losses * weights).mean()"
   ]
  },
  {
   "cell_type": "code",
   "execution_count": 43,
   "metadata": {
    "id": "lHX55XGECXBr",
    "trusted": true
   },
   "outputs": [],
   "source": [
    "script_dir = os.getcwd() \n",
    "# device = torch.device(f\"cuda:{args.device}\" if torch.cuda.is_available() else \"cpu\")\n",
    "device = torch.device(\"cuda\" if torch.cuda.is_available() else \"cpu\")\n",
    "num_checkpoints = args.num_checkpoints if args.num_checkpoints else 3\n",
    "    \n",
    "if args.gnn == 'gin':\n",
    "    model = GNN(gnn_type='gin', num_class=6, num_layer=args.num_layer, emb_dim=args.emb_dim, drop_ratio=args.drop_ratio, virtual_node=False).to(device)\n",
    "elif args.gnn == 'gin-virtual':\n",
    "    model = GNN(gnn_type='gin', num_class=6, num_layer=args.num_layer, emb_dim=args.emb_dim, drop_ratio=args.drop_ratio, virtual_node=True).to(device)\n",
    "elif args.gnn == 'gcn':\n",
    "    model = GNN(gnn_type='gcn', num_class=6, num_layer=args.num_layer, emb_dim=args.emb_dim, drop_ratio=args.drop_ratio, virtual_node=False).to(device)\n",
    "elif args.gnn == 'gcn-virtual':\n",
    "    model = GNN(gnn_type='gcn', num_class=6, num_layer=args.num_layer, emb_dim=args.emb_dim, drop_ratio=args.drop_ratio, virtual_node=True).to(device)\n",
    "else:\n",
    "    raise ValueError('Invalid GNN type')\n",
    "    \n",
    "optimizer = torch.optim.Adam(model.parameters(), lr=0.001)\n",
    "# criterion = torch.nn.CrossEntropyLoss()\n",
    "\n",
    "if args.baseline_mode == 2:\n",
    "    criterion = NoisyCrossEntropyLoss(args.noise_prob)\n",
    "else:\n",
    "    criterion = torch.nn.CrossEntropyLoss()"
   ]
  },
  {
   "cell_type": "code",
   "execution_count": 44,
   "metadata": {
    "id": "BTYT5jYuChPb",
    "trusted": true
   },
   "outputs": [],
   "source": [
    "test_dir_name = os.path.basename(os.path.dirname(args.test_path))\n",
    "logs_folder = os.path.join(script_dir, \"logs\", test_dir_name)\n",
    "log_file = os.path.join(logs_folder, \"training.log\")\n",
    "os.makedirs(os.path.dirname(log_file), exist_ok=True)\n",
    "logging.basicConfig(filename=log_file, level=logging.INFO, format='%(asctime)s - %(message)s')\n",
    "logging.getLogger().addHandler(logging.StreamHandler())\n",
    "\n",
    "checkpoint_path = os.path.join(script_dir, \"checkpoints\", f\"model_{test_dir_name}_best.pth\")\n",
    "checkpoints_folder = os.path.join(script_dir, \"checkpoints\", test_dir_name)\n",
    "os.makedirs(checkpoints_folder, exist_ok=True)\n"
   ]
  },
  {
   "cell_type": "code",
   "execution_count": 45,
   "metadata": {
    "trusted": true
   },
   "outputs": [],
   "source": [
    "if os.path.exists(checkpoint_path) and not args.train_path:\n",
    "    model.load_state_dict(torch.load(checkpoint_path))\n",
    "    print(f\"Loaded best model from {checkpoint_path}\")"
   ]
  },
  {
   "cell_type": "code",
   "execution_count": 46,
   "metadata": {},
   "outputs": [],
   "source": [
    "def plot_all_metrics(train_losses, train_accuracies, val_losses, val_accuracies, save_dir):\n",
    "    \"\"\"\n",
    "    Plots and saves a single figure containing training/validation loss and accuracy over epochs.\n",
    "    \"\"\"\n",
    "    os.makedirs(save_dir, exist_ok=True)\n",
    "    epochs = range(1, len(train_losses) + 1)\n",
    "    plt.figure(figsize=(10, 6))\n",
    "    # Loss curves\n",
    "    plt.plot(epochs, train_losses, label='Train Loss', linestyle='-')\n",
    "    plt.plot(epochs, val_losses, label='Val Loss', linestyle='--')\n",
    "    # Accuracy curves\n",
    "    plt.plot(epochs, train_accuracies, label='Train Acc', linestyle='-.')\n",
    "    plt.plot(epochs, val_accuracies, label='Val Acc', linestyle=':')\n",
    "\n",
    "    plt.xlabel('Epoch')\n",
    "    plt.ylabel('Value')\n",
    "    plt.title('Training and Validation Metrics')\n",
    "    plt.legend()\n",
    "    plt.grid(True)\n",
    "    plt.tight_layout()\n",
    "\n",
    "    save_path = os.path.join(save_dir, 'all_metrics.png')\n",
    "    plt.savefig(save_path)\n",
    "    plt.close()\n",
    "    print(f\"All metrics plot saved to {save_path}\")\n"
   ]
  },
  {
   "cell_type": "code",
   "execution_count": null,
   "metadata": {
    "trusted": true
   },
   "outputs": [
    {
     "name": "stdout",
     "output_type": "stream",
     "text": [
      "./datasets/data/A/train.json.gz ./datasets/data/A/test.json.gz\n",
      "./datasets/data/B/train.json.gz ./datasets/data/B/test.json.gz\n",
      "./datasets/data/C/train.json.gz ./datasets/data/C/test.json.gz\n",
      "./datasets/data/D/train.json.gz ./datasets/data/D/test.json.gz\n"
     ]
    }
   ],
   "source": [
    "from collections import Counter\n",
    "\n",
    "train_paths = [\"./datasets/data/A/train.json.gz\", \n",
    "              \"./datasets/data/B/train.json.gz\", \n",
    "              \"./datasets/data/C/train.json.gz\", \n",
    "              \"./datasets/data/D/train.json.gz\"]\n",
    "\n",
    "test_paths = [\"./datasets/data/A/test.json.gz\", \n",
    "              \"./datasets/data/B/test.json.gz\", \n",
    "              \"./datasets/data/C/test.json.gz\", \n",
    "              \"./datasets/data/D/test.json.gz\"]\n",
    "\n",
    "for train_path, test_path in zip(train_paths, test_paths):\n",
    "\n",
    "    args.train_path = train_path\n",
    "    args.test_path = test_path\n",
    "    print(args.train_path, args.test_path)\n",
    "    test_dir_name = os.path.basename(os.path.dirname(args.test_path))\n",
    "    print(f\"Processing dataset: {test_dir_name}\")\n",
    "    continue\n",
    "    logs_folder = os.path.join(script_dir, \"logs\", test_dir_name)\n",
    "    log_file = os.path.join(logs_folder, \"training.log\")\n",
    "    os.makedirs(os.path.dirname(log_file), exist_ok=True)\n",
    "    logging.basicConfig(filename=log_file, level=logging.INFO, format='%(asctime)s - %(message)s')\n",
    "    logging.getLogger().addHandler(logging.StreamHandler())\n",
    "\n",
    "    checkpoint_path = os.path.join(script_dir, \"checkpoints\", f\"model_{test_dir_name}_best.pth\")\n",
    "    checkpoints_folder = os.path.join(script_dir, \"checkpoints\", test_dir_name)\n",
    "    os.makedirs(checkpoints_folder, exist_ok=True)\n",
    "\n",
    "    if args.train_path:\n",
    "        # Carico l’intero dataset e lo splitto\n",
    "\n",
    "        full_dataset = GraphDataset(args.train_path, transform=add_zeros)\n",
    "        val_size = int(0.2 * len(full_dataset))\n",
    "        train_size = len(full_dataset) - val_size\n",
    "\n",
    "        generator = torch.Generator().manual_seed(12)\n",
    "        train_dataset, val_dataset = random_split(\n",
    "            full_dataset, [train_size, val_size], generator=generator\n",
    "        )\n",
    "\n",
    "        labels = [d.y.item() for d in train_dataset]\n",
    "        label_counts = Counter(labels)\n",
    "        total = len(labels)\n",
    "        num_classes = len(label_counts) \n",
    "\n",
    "        # weights = torch.tensor([total / (num_classes * label_counts[c]) for c in range(num_classes)], \n",
    "        #                        dtype=torch.float,\n",
    "        #                        device=device)\n",
    "\n",
    "        # if args.baseline_mode == 1:\n",
    "        #     criterion = torch.nn.CrossEntropyLoss(weight=weights)\n",
    "\n",
    "        train_loader = DataLoader(train_dataset, batch_size=args.batch_size, shuffle=True, num_workers=4)\n",
    "        val_loader = DataLoader(val_dataset, batch_size=args.batch_size, shuffle=False, num_workers=4)\n",
    "\n",
    "        num_epochs = 2\n",
    "        best_val_accuracy = 0.0   \n",
    "        # best_f1 = 0.0\n",
    "        # best_epoch = -1\n",
    "        # patience = 0\n",
    "        # wait = 0\n",
    "\n",
    "        train_losses = []\n",
    "        train_accuracies = []\n",
    "        val_losses = []\n",
    "        val_accuracies = []\n",
    "\n",
    "        if num_checkpoints > 1:\n",
    "            checkpoint_intervals = [int((i + 1) * num_epochs / num_checkpoints) for i in range(num_checkpoints)]\n",
    "        else:\n",
    "            checkpoint_intervals = [num_epochs]\n",
    "\n",
    "        for epoch in range(num_epochs):\n",
    "            train_loss, train_acc = train(\n",
    "                train_loader, model, optimizer, criterion, device,\n",
    "                save_checkpoints=(epoch + 1 in checkpoint_intervals),\n",
    "                checkpoint_path=os.path.join(checkpoints_folder, f\"model_{test_dir_name}\"),\n",
    "                current_epoch=epoch\n",
    "            )\n",
    "\n",
    "            val_loss, val_acc, val_f1 = evaluate(val_loader, model, device, calculate_accuracy=True)\n",
    "            print(\n",
    "                f\"Epoch {epoch+1}/{num_epochs} | \"\n",
    "                f\"Train Acc: {train_acc:.4f} | \"\n",
    "                f\"Val Acc: {val_acc:.4f} | \"\n",
    "                f\"Val Macro-F1: {val_f1:.4f} | \"\n",
    "                f\"Val Loss: {val_loss:.4f}\"\n",
    "            )\n",
    "            logging.info(\n",
    "                f\"Epoch {epoch + 1}/{num_epochs}, \"\n",
    "                f\"Loss: {train_loss:.4f}, \"\n",
    "                f\"Train Acc: {train_acc:.4f}, \"\n",
    "                f\"Val Acc: {val_acc:.4f}, \"\n",
    "                f\"Val Macro-F1: {val_f1:.4f}, \"\n",
    "                f\"Val Loss: {val_loss:.4f}\"\n",
    "            )\n",
    "\n",
    "\n",
    "            #print(f\"Epoch {epoch + 1}/{num_epochs}, Loss: {train_loss:.4f}, Train Acc: {train_acc:.4f}, Val Acc: {val_acc:.4f}\")\n",
    "\n",
    "            train_losses.append(train_loss)\n",
    "            train_accuracies.append(train_acc)\n",
    "            val_losses.append(val_loss)\n",
    "            val_accuracies.append(val_acc)\n",
    "\n",
    "            # if val_f1 > best_f1 + 1e-4:\n",
    "            #     best_epoch = epoch + 1\n",
    "            #     best_f1 = val_f1\n",
    "                \n",
    "            if val_acc > best_val_accuracy:\n",
    "                best_val_accuracy = val_acc\n",
    "                torch.save(model.state_dict(), checkpoint_path)\n",
    "                print(f\"Best model updated and saved at {checkpoint_path}\")\n",
    "\n",
    "        plot_training_progress(train_losses, train_accuracies, os.path.join(logs_folder, \"plots\"))\n",
    "        plot_training_progress(val_losses, val_accuracies, os.path.join(logs_folder, \"plotsVal\"))\n",
    "        plot_all_metrics(train_losses, train_accuracies, val_losses, val_accuracies, os.path.join(logs_folder, \"plots_all_1\"))\n",
    "\n",
    "\n",
    "    import gc\n",
    "    del train_dataset\n",
    "    del train_loader\n",
    "    del full_dataset\n",
    "    del val_dataset\n",
    "    del val_loader\n",
    "    gc.collect()\n",
    "\n",
    "    test_dataset = GraphDataset(args.test_path, transform=add_zeros)\n",
    "    test_loader = DataLoader(test_dataset, batch_size=args.batch_size, shuffle=False)\n",
    "\n",
    "    model.load_state_dict(torch.load(checkpoint_path, map_location=device))\n",
    "    predictions = evaluate(test_loader, model, device, calculate_accuracy=False)\n",
    "    save_predictions(predictions, args.test_path)"
   ]
  },
  {
   "cell_type": "code",
   "execution_count": 48,
   "metadata": {
    "id": "xsXZIj4Mdu3I",
    "trusted": true
   },
   "outputs": [],
   "source": [
    "# test_dataset = GraphDataset(args.test_path, transform=add_zeros)\n",
    "# test_loader = DataLoader(test_dataset, batch_size=args.batch_size, shuffle=False)\n",
    "    "
   ]
  },
  {
   "cell_type": "code",
   "execution_count": 49,
   "metadata": {
    "id": "x1OnGq_nCmTr",
    "trusted": true
   },
   "outputs": [],
   "source": [
    "# model.load_state_dict(torch.load(checkpoint_path, map_location=device))\n",
    "# predictions = evaluate(test_loader, model, device, calculate_accuracy=False)\n",
    "# save_predictions(predictions, args.test_path)"
   ]
  },
  {
   "cell_type": "code",
   "execution_count": 50,
   "metadata": {},
   "outputs": [],
   "source": [
    "# import os\n",
    "# from collections import Counter\n",
    "# import torch\n",
    "# from torch.utils.data import random_split\n",
    "# import numpy as np\n",
    "\n",
    "# # Imposta root_dir alla cartella che contiene A/, B/, C/, D/\n",
    "# root_dir = '/home/valerio/Desktop/noisy_labels/hackaton/datasets/data'\n",
    "# # oppure, se passi --train_path uguale a questo path:\n",
    "# # root_dir = args.train_path\n",
    "\n",
    "# log_file = \"stats.log\"\n",
    "# # Pulisci il log all’avvio\n",
    "# with open(log_file, \"w\") as f:\n",
    "#     f.write(\"\")\n",
    "\n",
    "# for subname in sorted(os.listdir(root_dir)):\n",
    "#     subdir = os.path.join(root_dir, subname)\n",
    "#     train_path = os.path.join(subdir, \"train.json.gz\")\n",
    "\n",
    "#     if not os.path.isdir(subdir) or not os.path.isfile(train_path):\n",
    "#         print(f\"Skipping {subdir}, not a valid dataset directory or missing train.json.gz\")\n",
    "#         continue\n",
    "\n",
    "#     print(f\"Processing dataset {subname}\")\n",
    "\n",
    "#     # Carico e splitto\n",
    "#     full_dataset = GraphDataset(train_path, transform=add_zeros)\n",
    "#     val_size = int(0.2 * len(full_dataset))\n",
    "#     train_size = len(full_dataset) - val_size\n",
    "#     generator = torch.Generator().manual_seed(12)\n",
    "#     train_dataset, val_dataset = random_split(\n",
    "#         full_dataset, [train_size, val_size], generator=generator\n",
    "#     )\n",
    "\n",
    "#     # Calcolo distribuzione\n",
    "#     labels = [d.y.item() for d in train_dataset]\n",
    "#     counts = Counter(labels)\n",
    "#     total = len(labels)\n",
    "\n",
    "#     with open(log_file, \"a\") as f:\n",
    "#         f.write(f\"=== Dataset {os.path.basename(subdir)} ===\\n\")\n",
    "#         for cls in sorted(counts):\n",
    "#             cnt = counts[cls]\n",
    "#             pct = cnt / total * 100\n",
    "#             f.write(f\"Label {cls}: {cnt} esempi ({pct:.1f}%)\\n\")\n",
    "\n",
    "#         f.write(\"\\n--- Esempi struttura grafo ---\\n\")\n",
    "#         for cls in sorted(counts):\n",
    "#             sample = next(d for d in train_dataset if d.y.item() == cls)\n",
    "#             f.write(\n",
    "#                 f\"Classe {cls}: num_nodes={sample.num_nodes}, \"\n",
    "#                 f\"num_edges={sample.num_edges}\\n\"\n",
    "#             )\n",
    "\n",
    "#         # Statistiche aggregate\n",
    "#         f.write(\"\\n--- Statistiche aggregate per classe ---\\n\")\n",
    "#         f.write(\"cls\\tn_samp\\tnodes_mean\\tnodes_std\\tedges_mean\\tedges_std\\n\")\n",
    "#         for cls in sorted(counts):\n",
    "#             samples = [d for d in train_dataset if d.y.item() == cls]\n",
    "#             nodes = [d.num_nodes for d in samples]\n",
    "#             edges = [d.num_edges for d in samples]\n",
    "#             f.write(\n",
    "#                 f\"{cls}\\t{counts[cls]}\\t\"\n",
    "#                 f\"{np.mean(nodes):.1f}\\t{np.std(nodes):.1f}\\t\"\n",
    "#                 f\"{np.mean(edges):.1f}\\t{np.std(edges):.1f}\\n\"\n",
    "#             )\n",
    "\n",
    "#         f.write(\"\\n\\n\")\n",
    "\n",
    "#     # Una volta processata questa cartella, non serve cercare altri train.json.gz in subdirectory\n",
    "#     # se sai che i dataset sono solo A–D direttamente sotto root_dir. Altrimenti commenta questa linea.\n",
    "#     # break  \n"
   ]
  },
  {
   "cell_type": "code",
   "execution_count": 51,
   "metadata": {},
   "outputs": [],
   "source": [
    "# import torch.nn.functional as F\n",
    "# class SCELoss(torch.nn.Module):\n",
    "#     def __init__(self, num_classes, alpha=0.1, beta=1.0):\n",
    "#         super().__init__()\n",
    "#         self.alpha, self.beta = alpha, beta\n",
    "#         self.num_classes = num_classes\n",
    "\n",
    "#     def forward(self, logits, targets):\n",
    "#         #CCE\n",
    "#         ce  = F.cross_entropy(logits, targets, reduction='none')\n",
    "\n",
    "#         #RCE\n",
    "#         pred = F.softmax(logits, dim=1).clamp(min=1e-6, max=1-1e-6)\n",
    "#         one_hot = F.one_hot(targets, self.num_classes).float()\n",
    "#         rce = -(1 - one_hot) * torch.log(1 - pred)\n",
    "#         rce = rce.sum(dim=1)\n",
    "#         return (self.alpha * ce + self.beta * rce).mean()"
   ]
  }
 ],
 "metadata": {
  "accelerator": "GPU",
  "colab": {
   "gpuType": "T4",
   "provenance": []
  },
  "kaggle": {
   "accelerator": "gpu",
   "dataSources": [],
   "dockerImageVersionId": 30918,
   "isGpuEnabled": true,
   "isInternetEnabled": false,
   "language": "python",
   "sourceType": "notebook"
  },
  "kernelspec": {
   "display_name": "hackaton",
   "language": "python",
   "name": "python3"
  },
  "language_info": {
   "codemirror_mode": {
    "name": "ipython",
    "version": 3
   },
   "file_extension": ".py",
   "mimetype": "text/x-python",
   "name": "python",
   "nbconvert_exporter": "python",
   "pygments_lexer": "ipython3",
   "version": "3.10.15"
  }
 },
 "nbformat": 4,
 "nbformat_minor": 4
}
