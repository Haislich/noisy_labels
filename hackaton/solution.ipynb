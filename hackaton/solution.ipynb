{
 "cells": [
  {
   "cell_type": "code",
   "execution_count": 1,
   "metadata": {
    "id": "lAQuCuIoBbq5",
    "trusted": true
   },
   "outputs": [],
   "source": [
    "import os\n",
    "import torch\n",
    "from torch import nn\n",
    "import pandas as pd\n",
    "import matplotlib.pyplot as plt\n",
    "import logging\n",
    "from tqdm.notebook import tqdm\n",
    "from torch_geometric.loader import DataLoader\n",
    "from torch.utils.data import random_split\n",
    "from functools import partial\n",
    "import optuna\n",
    "import gc\n",
    "from typing import Literal\n",
    "import torch.nn.functional as F\n",
    "from torch.utils.data import Subset, Dataset\n",
    "\n",
    "# Load utility functions from cloned repository\n",
    "from src.loadData import GraphDataset\n",
    "from src.utils import set_seed\n",
    "from src.models import GNN\n",
    "\n",
    "\n",
    "# Set the random seed\n",
    "set_seed()\n"
   ]
  },
  {
   "cell_type": "code",
   "execution_count": null,
   "metadata": {
    "id": "Dyf0I2-t9IcW",
    "trusted": true
   },
   "outputs": [],
   "source": [
    "def add_zeros(data):\n",
    "    data.x = torch.zeros(data.num_nodes, dtype=torch.long)\n",
    "    return data"
   ]
  },
  {
   "cell_type": "code",
   "execution_count": 3,
   "metadata": {
    "id": "WanuZKxy9Zs-",
    "trusted": true
   },
   "outputs": [],
   "source": [
    "def save_predictions(predictions, test_path):\n",
    "    script_dir = os.getcwd()\n",
    "    submission_folder = os.path.join(script_dir, \"submission\")\n",
    "    test_dir_name = os.path.basename(os.path.dirname(test_path))\n",
    "\n",
    "    os.makedirs(submission_folder, exist_ok=True)\n",
    "\n",
    "    output_csv_path = os.path.join(submission_folder, f\"testset_{test_dir_name}.csv\")\n",
    "\n",
    "    test_graph_ids = list(range(len(predictions)))\n",
    "    output_df = pd.DataFrame({\"id\": test_graph_ids, \"pred\": predictions})\n",
    "\n",
    "    output_df.to_csv(output_csv_path, index=False)\n",
    "    print(f\"Predictions saved to {output_csv_path}\")"
   ]
  },
  {
   "cell_type": "code",
   "execution_count": 4,
   "metadata": {
    "id": "uyHIJS5U9ZzB",
    "trusted": true
   },
   "outputs": [],
   "source": [
    "def plot_training_progress(train_losses, train_accuracies, output_dir):\n",
    "    epochs = range(1, len(train_losses) + 1)\n",
    "    plt.figure(figsize=(12, 6))\n",
    "\n",
    "    # Plot loss\n",
    "    plt.subplot(1, 2, 1)\n",
    "    plt.plot(epochs, train_losses, label=\"Training Loss\", color=\"blue\")\n",
    "    plt.xlabel(\"Epoch\")\n",
    "    plt.ylabel(\"Loss\")\n",
    "    plt.title(\"Training Loss per Epoch\")\n",
    "\n",
    "    # Plot accuracy\n",
    "    plt.subplot(1, 2, 2)\n",
    "    plt.plot(epochs, train_accuracies, label=\"Training Accuracy\", color=\"green\")\n",
    "    plt.xlabel(\"Epoch\")\n",
    "    plt.ylabel(\"Accuracy\")\n",
    "    plt.title(\"Training Accuracy per Epoch\")\n",
    "\n",
    "    # Save plots in the current directory\n",
    "    os.makedirs(output_dir, exist_ok=True)\n",
    "    plt.tight_layout()\n",
    "    plt.savefig(os.path.join(output_dir, \"training_progress.png\"))\n",
    "    plt.close()"
   ]
  },
  {
   "cell_type": "code",
   "execution_count": 5,
   "metadata": {},
   "outputs": [],
   "source": [
    "class IndexedSubset(Dataset):\n",
    "    def __init__(self, subset: Subset):\n",
    "        self.subset = subset\n",
    "\n",
    "    def __len__(self):\n",
    "        return len(self.subset)\n",
    "\n",
    "    def __getitem__(self, i):\n",
    "        data = self.subset[i]\n",
    "        data.idx = torch.tensor(i, dtype=torch.long)  # type: ignore\n",
    "        return data"
   ]
  },
  {
   "cell_type": "code",
   "execution_count": 6,
   "metadata": {},
   "outputs": [],
   "source": [
    "class NCODLoss(nn.Module):\n",
    "    past_embeddings: torch.Tensor\n",
    "    centroids: torch.Tensor\n",
    "\n",
    "    def __init__(\n",
    "        self,\n",
    "        dataset: Dataset,\n",
    "        embedding_dimensions: int = 300,\n",
    "        total_epochs: int = 150,\n",
    "        lambda_consistency: float = 1.0,\n",
    "        device: torch.device | None = None,\n",
    "    ):\n",
    "        \"\"\"\n",
    "        Args\n",
    "        ----\n",
    "        dataset : iterable whose elements expose an integer label in `elem.y`\n",
    "        embedding_dimensions : size of the feature vectors\n",
    "        total_epochs : number of training epochs (used for centroid update schedule)\n",
    "        lambda_consistency : weight for the MSE consistency term\n",
    "        device : cuda / cpu device.  If None, picks CUDA if available.\n",
    "        \"\"\"\n",
    "        super().__init__()\n",
    "\n",
    "        self.device = device or torch.device(\n",
    "            \"cuda\" if torch.cuda.is_available() else \"cpu\"\n",
    "        )\n",
    "        self.embedding_dimensions = embedding_dimensions\n",
    "        self.total_epochs = total_epochs\n",
    "        self.lambda_consistency = lambda_consistency\n",
    "\n",
    "        labels = [int(elem.y) for elem in dataset]\n",
    "        self.num_elements = len(labels)\n",
    "        self.num_classes = max(labels) + 1  # robust to gaps (e.g. labels {1,3})\n",
    "        # self.register_buffer(\"bins\", torch.empty(self.num_classes, 0, dtype=torch.long))\n",
    "\n",
    "        # Convert bins to a list-of-lists for easy appends, then to tensors\n",
    "        tmp_bins: list[list[int]] = [[] for _ in range(self.num_classes)]\n",
    "        for idx, lab in enumerate(labels):\n",
    "            tmp_bins[lab].append(idx)\n",
    "        self.bins = [\n",
    "            torch.as_tensor(b, dtype=torch.long, device=self.device) for b in tmp_bins\n",
    "        ]\n",
    "\n",
    "        # Confidence parameter per sample (trainable!)\n",
    "        self.u = nn.Parameter(torch.empty(self.num_elements, 1, device=self.device))\n",
    "        nn.init.normal_(self.u, mean=1e-8, std=1e-9)\n",
    "\n",
    "        # Running memory of embeddings\n",
    "        self.register_buffer(\n",
    "            \"past_embeddings\",\n",
    "            torch.rand(\n",
    "                self.num_elements, self.embedding_dimensions, device=self.device\n",
    "            ),\n",
    "        )\n",
    "        # Class centroids\n",
    "        self.register_buffer(\n",
    "            \"centroids\",\n",
    "            torch.rand(self.num_classes, self.embedding_dimensions, device=self.device),\n",
    "        )\n",
    "\n",
    "    def forward(\n",
    "        self,\n",
    "        *,\n",
    "        logits: torch.Tensor,  # (B, C)\n",
    "        indexes: torch.Tensor,  # (B,) – dataset indices of the current batch\n",
    "        embeddings: torch.Tensor,  # (B, D)\n",
    "        targets: torch.Tensor,  # (B,)\n",
    "        epoch: int,\n",
    "    ) -> torch.Tensor:\n",
    "        eps = 1e-6\n",
    "\n",
    "        # Keep an L2-normalised copy of current embeddings\n",
    "        embeddings = F.normalize(embeddings, dim=1)\n",
    "        self.past_embeddings[indexes] = embeddings.detach()\n",
    "\n",
    "        # ---------------- Centroid update ------------------------------------\n",
    "        if epoch == 0:\n",
    "            with torch.no_grad():\n",
    "                for c, idxs in enumerate(self.bins):\n",
    "                    if idxs.numel():\n",
    "                        self.centroids[c] = self.past_embeddings[idxs].mean(0)\n",
    "        else:\n",
    "            # Shrink the subset of samples that contribute to the centroid\n",
    "            percent = int(max(1, min(100, 50 + 50 * (1 - epoch / self.total_epochs))))\n",
    "            for c, idxs in enumerate(self.bins):\n",
    "                if idxs.numel() == 0:\n",
    "                    continue\n",
    "                # bottom-k u’s  (small u  ⇒ low confidence ⇒ smaller weight)\n",
    "                k = max(1, idxs.numel() * percent // 100)\n",
    "                u_batch = self.u[idxs].squeeze(1)\n",
    "                keep = torch.topk(u_batch, k, largest=False).indices  # (k,)\n",
    "                selected = idxs[keep]  # (k,)\n",
    "                self.centroids[c] = self.past_embeddings[selected].mean(0)\n",
    "\n",
    "        centroids = F.normalize(self.centroids, dim=1)  # (C, D)\n",
    "\n",
    "        # ---------------- Probability shaping --------------------------------\n",
    "        soft_labels = F.softmax(embeddings @ centroids.T, dim=1)  # (B, C)\n",
    "        probs = F.softmax(logits, dim=1)  # (B, C)\n",
    "        u_vals = torch.sigmoid(self.u[indexes]).squeeze(1)  # (B,)\n",
    "\n",
    "        adjusted = (probs + u_vals[:, None] * soft_labels).clamp(min=eps)\n",
    "        adjusted = adjusted / adjusted.sum(1, keepdim=True)\n",
    "\n",
    "        # ---------------- Loss terms -----------------------------------------\n",
    "        hard_ce = (\n",
    "            (1.0 - u_vals) * F.cross_entropy(logits, targets, reduction=\"none\")\n",
    "        ).mean()\n",
    "        soft_ce = -(soft_labels * torch.log(adjusted)).sum(1).mean()\n",
    "        consistency = F.mse_loss(adjusted, soft_labels)\n",
    "\n",
    "        return hard_ce + soft_ce + self.lambda_consistency * consistency\n"
   ]
  },
  {
   "cell_type": "code",
   "execution_count": 7,
   "metadata": {},
   "outputs": [],
   "source": [
    "class NoisyCrossEntropyLoss(torch.nn.Module):\n",
    "    def __init__(self, p_noisy):\n",
    "        super().__init__()\n",
    "        self.p = p_noisy\n",
    "        self.ce = torch.nn.CrossEntropyLoss(reduction=\"none\")\n",
    "\n",
    "    def forward(self, logits, targets):\n",
    "        losses = self.ce(logits, targets)\n",
    "        weights = (1 - self.p) + self.p * (\n",
    "            1\n",
    "            - torch.nn.functional.one_hot(targets, num_classes=logits.size(1))\n",
    "            .float()\n",
    "            .sum(dim=1)\n",
    "        )\n",
    "        return (losses * weights).mean()"
   ]
  },
  {
   "cell_type": "code",
   "execution_count": 8,
   "metadata": {},
   "outputs": [],
   "source": [
    "class SCELoss(torch.nn.Module):\n",
    "    def __init__(self, num_classes: int = 6, alpha: float = 0.1, beta: float = 1.0):\n",
    "        super().__init__()\n",
    "        self.alpha, self.beta = alpha, beta\n",
    "        self.num_classes = num_classes\n",
    "\n",
    "    def forward(self, logits, targets):\n",
    "        # CCE\n",
    "        ce = F.cross_entropy(logits, targets, reduction=\"none\")\n",
    "\n",
    "        # RCE\n",
    "        pred = F.softmax(logits, dim=1).clamp(min=1e-6, max=1 - 1e-6)\n",
    "        one_hot = F.one_hot(targets, self.num_classes).float()\n",
    "        rce = -(1 - one_hot) * torch.log(1 - pred)\n",
    "        rce = rce.sum(dim=1)\n",
    "        return (self.alpha * ce + self.beta * rce).mean()"
   ]
  },
  {
   "cell_type": "code",
   "execution_count": 9,
   "metadata": {
    "id": "3jKvoQYI9Zbc",
    "trusted": true
   },
   "outputs": [],
   "source": [
    "def train(\n",
    "    data_loader: DataLoader,\n",
    "    model: GNN,\n",
    "    optimizer_theta: torch.optim.Optimizer,\n",
    "    optimizer_u: torch.optim.Optimizer | None,\n",
    "    criterion: nn.Module,\n",
    "    device: torch.device,\n",
    "    checkpoint_path: str,\n",
    "    current_epoch: int,\n",
    "    save_checkpoints: bool = True,\n",
    "):\n",
    "    model.train()\n",
    "\n",
    "    total_loss = total_conf = total_entropy = 0.0\n",
    "    correct = num_samples = 0\n",
    "\n",
    "    for batch in data_loader:\n",
    "        batch = batch.to(device)\n",
    "\n",
    "        node_emb = model.gnn_node(batch)\n",
    "        graph_emb = model.pool(node_emb, batch.batch)\n",
    "        logits = model.graph_pred_linear(graph_emb)\n",
    "\n",
    "        if isinstance(criterion, NCODLoss):\n",
    "            loss = criterion(\n",
    "                logits=logits,\n",
    "                indexes=batch.idx.to(device),\n",
    "                embeddings=graph_emb,\n",
    "                targets=batch.y.to(device),\n",
    "                epoch=current_epoch,\n",
    "            )\n",
    "        else:\n",
    "            loss = criterion(logits, batch.y)\n",
    "\n",
    "        optimizer_theta.zero_grad(set_to_none=True)\n",
    "        if optimizer_u is not None:\n",
    "            optimizer_u.zero_grad(set_to_none=True)\n",
    "        loss.backward()\n",
    "        optimizer_theta.step()\n",
    "        if optimizer_u is not None:\n",
    "            optimizer_u.step()\n",
    "\n",
    "        with torch.no_grad():\n",
    "            probs = F.softmax(logits, dim=1)\n",
    "            batch_size = batch.y.size(0)\n",
    "\n",
    "            total_loss += loss.item() * batch_size\n",
    "            pred = probs.argmax(dim=1)\n",
    "            correct += (pred == batch.y).sum().item()\n",
    "            num_samples += batch_size\n",
    "\n",
    "            total_conf += probs.max(dim=1).values.sum().item()\n",
    "            total_entropy += (\n",
    "                (-torch.sum(probs * torch.log(probs + 1e-10), 1)).sum().item()\n",
    "            )\n",
    "\n",
    "    if save_checkpoints:\n",
    "        ckpt = f\"{checkpoint_path}_epoch_{current_epoch + 1}.pth\"\n",
    "        torch.save(model.state_dict(), ckpt)\n",
    "        print(f\"[checkpoint] saved: {ckpt}\")\n",
    "\n",
    "    loss = total_loss / num_samples\n",
    "    confidence = total_conf / num_samples\n",
    "    entropy = total_entropy / num_samples\n",
    "    accuracy = correct / num_samples\n",
    "    return loss, confidence, accuracy, entropy\n"
   ]
  },
  {
   "cell_type": "code",
   "execution_count": 10,
   "metadata": {
    "id": "8peFiIS19ZpK",
    "trusted": true
   },
   "outputs": [],
   "source": [
    "def evaluate(\n",
    "    data_loader: DataLoader,\n",
    "    model: GNN,\n",
    "    criterion: nn.CrossEntropyLoss,\n",
    "    device: torch.device,\n",
    ") -> tuple[float, float, float, float]:\n",
    "    \"\"\"\n",
    "    Returns\n",
    "    -------\n",
    "    avg_loss, avg_confidence, accuracy, avg_entropy\n",
    "    \"\"\"\n",
    "    model.eval()\n",
    "\n",
    "    total_loss = total_conf = total_entropy = 0.0\n",
    "    correct = num_samples = 0\n",
    "\n",
    "    with torch.no_grad():\n",
    "        for batch in data_loader:\n",
    "            batch = batch.to(device)\n",
    "\n",
    "            node_emb = model.gnn_node(batch)\n",
    "            graph_emb = model.pool(node_emb, batch.batch)\n",
    "            logits = model.graph_pred_linear(graph_emb)\n",
    "            probs = F.softmax(logits, dim=1)\n",
    "\n",
    "            loss = criterion(logits, batch.y)\n",
    "\n",
    "            batch_size = batch.y.size(0)\n",
    "            total_loss += loss.item() * batch_size\n",
    "\n",
    "            total_conf += probs.max(dim=1).values.sum().item()\n",
    "            total_entropy += (\n",
    "                (-torch.sum(probs * torch.log(probs + 1e-10), dim=1)).sum().item()\n",
    "            )\n",
    "\n",
    "            pred = probs.argmax(dim=1)\n",
    "            correct += (pred == batch.y).sum().item()\n",
    "            num_samples += batch_size\n",
    "\n",
    "    loss = total_loss / num_samples\n",
    "    confidence = total_conf / num_samples\n",
    "    entropy = total_entropy / num_samples\n",
    "    accuracy = correct / num_samples\n",
    "\n",
    "    return loss, confidence, accuracy, entropy\n"
   ]
  },
  {
   "cell_type": "code",
   "execution_count": 11,
   "metadata": {},
   "outputs": [],
   "source": [
    "def objective(\n",
    "    trial,\n",
    "    train_loader: DataLoader,\n",
    "    val_loader: DataLoader,\n",
    "    num_checkpoints: int,\n",
    "    checkpoints_dir: str,\n",
    "    run_name: str,\n",
    "    best_model_path: str,\n",
    "    logs_dir: str,\n",
    "    *,\n",
    "    score_type: Literal[\"loss\", \"accuracy\", \"entropy\", \"confidence\",\"composite\"] = \"composite\",\n",
    "    device=torch.device(\"cuda\" if torch.cuda.is_available() else \"cpu\"),\n",
    ") -> float:\n",
    "    try:\n",
    "        logging.info(\"#\" * 80)\n",
    "        # Hyperparameter search space\n",
    "        logging.info(\"Start case study with parameters:\")\n",
    "        gnn_type = trial.suggest_categorical(\n",
    "            \"gnn_type\", [\"gin\", \"gin-virtual\", \"gcn\", \"gcn-virtual\"]\n",
    "        )\n",
    "        loss_type = trial.suggest_categorical(\n",
    "            \"loss_type\", [\"ce\"] + [\"ncod\"] * 5 + [\"noisy_ce\"] * 5 + [\"sce\"]\n",
    "        )\n",
    "        graph_pooling = trial.suggest_categorical(\n",
    "            \"graph_pooling\",\n",
    "            [\"sum\"] * 2 + [\"mean\"] * 4 + [\"max\"] * 2 + [\"attention\"] * 2 + [\"set2set\"],\n",
    "        )\n",
    "        gnn_type = \"gcn\"\n",
    "        graph_pooling =\"mean\"\n",
    "        loss_type = \"nosy_ce\"\n",
    "        drop_ratio = trial.suggest_float(\"dropout\", 0.0, 0.7)\n",
    "        num_layers = trial.suggest_int(\"num_layers\", 3, 12)\n",
    "        embedding_dim = trial.suggest_categorical(\"embedding_dim\", [64, 128, 300,600])\n",
    "        num_epochs = 20\n",
    "\n",
    "        print(\n",
    "            f\"{gnn_type=}\\n{loss_type=}\\n{graph_pooling=}\\n{drop_ratio=}\\n{num_layers=}\\n{embedding_dim=}\\n{num_epochs=}\"\n",
    "        )\n",
    "        logging.info(\n",
    "            f\"{gnn_type=} {loss_type=} {graph_pooling=} {drop_ratio=} {num_layers=} {embedding_dim=} {num_epochs=}\"\n",
    "        )\n",
    "\n",
    "        # Initialize model\n",
    "        model = GNN(\n",
    "            gnn_type=\"gin\" if \"gin\" in gnn_type else \"gcn\",\n",
    "            num_class=6,\n",
    "            num_layer=num_layers,\n",
    "            emb_dim=2 * embedding_dim\n",
    "            if graph_pooling == \"set2set\" and loss_type == \"ncod\"\n",
    "            else embedding_dim,\n",
    "            drop_ratio=drop_ratio,\n",
    "            virtual_node=\"virtual\" in gnn_type,\n",
    "            graph_pooling=graph_pooling,\n",
    "        ).to(device)\n",
    "\n",
    "        optimizer_theta = torch.optim.Adam(\n",
    "            model.parameters(), lr=3e-4, weight_decay=1e-5\n",
    "        )\n",
    "        optimizer_u = None\n",
    "        if loss_type == \"ce\":\n",
    "            train_criterion = nn.CrossEntropyLoss()\n",
    "        elif loss_type == \"ncod\":\n",
    "            train_criterion = NCODLoss(\n",
    "                train_loader.dataset,\n",
    "                embedding_dimensions=embedding_dim,\n",
    "                total_epochs=num_epochs,\n",
    "                device=device,\n",
    "            )\n",
    "            optimizer_u = torch.optim.SGD(train_criterion.parameters(), lr=1e-3)\n",
    "        elif loss_type == \"sce\":\n",
    "            train_criterion = SCELoss()\n",
    "        else:\n",
    "            train_criterion = NoisyCrossEntropyLoss(0.2)\n",
    "\n",
    "        val_criterion = nn.CrossEntropyLoss()\n",
    "\n",
    "        # Checkpoint logic\n",
    "        checkpoint_epochs = [\n",
    "            int((i + 1) * num_epochs / num_checkpoints) for i in range(num_checkpoints)\n",
    "        ]\n",
    "\n",
    "        train_losses, train_confs, train_accs, train_entropies, train_scores = (\n",
    "            [],\n",
    "            [],\n",
    "            [],\n",
    "            [],\n",
    "            [],\n",
    "        )\n",
    "        best_val_score = -float(\"inf\")\n",
    "        val_losses, val_confs, val_accs, val_entropies, val_scores = [], [], [], [], []\n",
    "        \n",
    "        progress_bar = tqdm(range(num_epochs), desc=\"Training...\", leave=False)\n",
    "        for epoch in progress_bar:\n",
    "            train_loss, train_conf, train_acc, train_entropy = train(\n",
    "                train_loader,\n",
    "                model,\n",
    "                optimizer_theta,\n",
    "                optimizer_u,\n",
    "                train_criterion,\n",
    "                device,\n",
    "                save_checkpoints=(epoch + 1 in checkpoint_epochs),\n",
    "                checkpoint_path=os.path.join(checkpoints_dir, f\"model_{run_name}\"),\n",
    "                current_epoch=epoch,\n",
    "            )\n",
    "\n",
    "            val_loss, val_conf, val_acc, val_entropy = evaluate(\n",
    "                val_loader,\n",
    "                model,\n",
    "                val_criterion,\n",
    "                device,\n",
    "            )\n",
    "\n",
    "            train_losses.append(train_loss)\n",
    "            train_accs.append(train_acc)\n",
    "            train_confs.append(train_conf)\n",
    "            train_entropies.append(train_entropy)\n",
    "\n",
    "            val_losses.append(val_loss)\n",
    "            val_accs.append(val_acc)\n",
    "            val_confs.append(val_conf)\n",
    "            val_entropies.append(val_entropy)\n",
    "\n",
    "            if score_type == \"loss\":\n",
    "                train_score = train_loss\n",
    "                val_score = -val_loss\n",
    "            elif score_type == \"entropy\":\n",
    "                train_score = train_entropy\n",
    "                val_score = -val_entropy\n",
    "            elif score_type == \"confidence\":\n",
    "                train_score = train_conf\n",
    "                val_score = val_conf\n",
    "\n",
    "            else:\n",
    "                train_score = train_acc\n",
    "                val_score = val_acc\n",
    "\n",
    "            train_scores.append(train_score)\n",
    "            val_scores.append(val_score)\n",
    "            trial.report(val_score, step=epoch)\n",
    "\n",
    "            if val_score > best_val_score:\n",
    "                best_val_score = val_score\n",
    "                torch.save(model.state_dict(), best_model_path)\n",
    "                logging.info(f\"[{run_name}] Best model updated at {best_model_path}\")\n",
    "            progress_bar.set_postfix_str(\n",
    "                f\"Train Score: {train_score:.4f}, Loss: {train_loss:.4f}, Accuracy: {train_acc:.4f}, Confidence: {train_conf:.4f}, Entropy: {train_entropy:.4f}| \"\n",
    "                f\"Val Score: {val_score:.4f}, Loss: {val_loss:.4f}, Accuracy: {val_acc:.4f}, Confidence: {val_conf:.4f}, Entropy: {val_entropy:.4f}\"\n",
    "            )\n",
    "            logging.info(\n",
    "                f\"Epoch {epoch}/{num_epochs}| \"\n",
    "                f\"Train Score: {train_score:.4f}, Loss: {train_loss:.4f}, Accuracy: {train_acc:.4f}, Confidence: {train_conf:.4f}, Entropy: {train_entropy:.4f}| \"\n",
    "                f\"Val Score: {val_score:.4f}, Loss: {val_loss:.4f}, Accuracy: {val_acc:.4f}, Confidence: {val_conf:.4f}, Entropy: {val_entropy:.4f}\"\n",
    "            )\n",
    "            if trial.should_prune():\n",
    "                logging.warning(f\"Trial was pruned at epoch {epoch}\")\n",
    "                raise optuna.exceptions.TrialPruned()\n",
    "           \n",
    "\n",
    "        # Plot training curves\n",
    "        plot_training_progress(\n",
    "            train_losses, train_scores, os.path.join(logs_dir, \"train_plots\")\n",
    "        )\n",
    "        plot_training_progress(\n",
    "            val_losses, val_scores, os.path.join(logs_dir, \"val_plots\")\n",
    "        )\n",
    "\n",
    "        return best_val_score\n",
    "    except optuna.exceptions.TrialPruned as e:\n",
    "        raise e\n",
    "\n",
    "    except Exception as e:\n",
    "        print(\"Unhandled exception \", e)\n",
    "        return -float(\"inf\")\n",
    "\n",
    "    finally:\n",
    "        logging.info(f\"Case study end, {best_val_score}\")\n",
    "        logging.info(\"#\" * 80)\n",
    "        logging.info(\"\\n\")\n",
    "        progress_bar.close()"
   ]
  },
  {
   "cell_type": "code",
   "execution_count": 12,
   "metadata": {},
   "outputs": [],
   "source": [
    "from torch.utils.data import WeightedRandomSampler\n",
    "import numpy as np\n",
    "from optuna.pruners import MedianPruner\n",
    "\n",
    "\n",
    "def case_study(\n",
    "    dataset_name: Literal[\"A\", \"B\", \"C\", \"D\"],\n",
    "    n_trials: int = 30,\n",
    "    num_checkpoints: int = 5,\n",
    "    default_batch_size: int = 64,\n",
    "    score_type: Literal[\"loss\", \"accuracy\", \"entropy\", \"confidence\",\"composite\"] = \"accuracy\",\n",
    "    full_dataset=None,\n",
    "):\n",
    "    script_root = os.getcwd()\n",
    "    train_path = f\"./datasets/{dataset_name}/train.json.gz\"\n",
    "    run_name = dataset_name\n",
    "\n",
    "    logs_dir = os.path.join(script_root, \"logs\", run_name)\n",
    "    os.makedirs(logs_dir, exist_ok=True)\n",
    "    logging.basicConfig(\n",
    "        filename=os.path.join(logs_dir, \"training.log\"),\n",
    "        level=logging.INFO,\n",
    "        format=\"%(asctime)s - %(levelname)s - %(message)s\",\n",
    "        filemode=\"w\",\n",
    "    )\n",
    "\n",
    "    checkpoints_dir = os.path.join(script_root, \"checkpoints\", run_name)\n",
    "    best_model_path = os.path.join(checkpoints_dir, f\"model_{run_name}_best.pth\")\n",
    "    summary_csv_path = os.path.join(logs_dir, f\"optuna_summary_{dataset_name}.csv\")\n",
    "    os.makedirs(checkpoints_dir, exist_ok=True)\n",
    "\n",
    "    if full_dataset is None:\n",
    "        full_dataset = GraphDataset(train_path, transform=add_zeros)\n",
    "\n",
    "    val_size = int(0.2 * len(full_dataset))\n",
    "    train_size = len(full_dataset) - val_size\n",
    "    generator = torch.Generator().manual_seed(12)\n",
    "    train_dataset, val_dataset = random_split(\n",
    "        full_dataset, [train_size, val_size], generator=generator\n",
    "    )\n",
    "    train_dataset = IndexedSubset(train_dataset)\n",
    "    val_dataset = IndexedSubset(val_dataset)\n",
    "\n",
    "    # ---- WeightedRandomSampler for class balancing ----\n",
    "    labels = [int(full_dataset[i].y[0]) for i in train_dataset.subset.indices]\n",
    "    class_counts = np.bincount(labels)\n",
    "    class_weights = 1.0 / class_counts\n",
    "    sample_weights = [class_weights[label] for label in labels]\n",
    "    sampler = WeightedRandomSampler(\n",
    "        sample_weights, num_samples=len(sample_weights), replacement=True\n",
    "    )\n",
    "\n",
    "    train_loader = DataLoader(\n",
    "        train_dataset,\n",
    "        batch_size=default_batch_size,\n",
    "        sampler=sampler,  # replaces shuffle=True\n",
    "    )\n",
    "\n",
    "    val_loader = DataLoader(\n",
    "        val_dataset,\n",
    "        batch_size=default_batch_size,\n",
    "        shuffle=False,\n",
    "    )\n",
    "\n",
    "    print(f\"Starting Optuna optimization for dataset {dataset_name}\")\n",
    "\n",
    "    study = optuna.create_study(\n",
    "        study_name=run_name,\n",
    "        direction=\"maximize\",\n",
    "        pruner=MedianPruner(n_warmup_steps=10),\n",
    "        sampler=optuna.samplers.TPESampler(n_startup_trials=0),\n",
    "    )\n",
    "\n",
    "    obj = partial(\n",
    "        objective,\n",
    "        train_loader=train_loader,\n",
    "        val_loader=val_loader,\n",
    "        num_checkpoints=num_checkpoints,\n",
    "        checkpoints_dir=checkpoints_dir,\n",
    "        run_name=run_name,\n",
    "        best_model_path=best_model_path,\n",
    "        logs_dir=logs_dir,\n",
    "        score_type=score_type,\n",
    "    )\n",
    "    study.optimize(obj, n_trials=n_trials, show_progress_bar=True)\n",
    "\n",
    "    all_trials = []\n",
    "    for trial in study.trials:\n",
    "        if trial.state == optuna.trial.TrialState.COMPLETE:\n",
    "            row = {score_type: trial.value}\n",
    "            row.update(trial.params)\n",
    "            all_trials.append(row)\n",
    "\n",
    "    results_df = pd.DataFrame(all_trials).sort_values(score_type, ascending=False)\n",
    "    results_df.to_csv(summary_csv_path, index=False)\n",
    "\n",
    "    print(f\"\\nAll trials saved to: {summary_csv_path}\")\n",
    "    print(f\"\\nBest result for dataset {dataset_name}:\")\n",
    "    display(results_df)\n",
    "    print(f\"\\nBest Params for {dataset_name}:\")\n",
    "    for k, v in study.best_params.items():\n",
    "        print(f\"  {k}: {v}\")\n",
    "\n",
    "    del train_loader, val_loader, full_dataset, train_dataset, val_dataset\n",
    "    gc.collect()\n"
   ]
  },
  {
   "cell_type": "code",
   "execution_count": 13,
   "metadata": {},
   "outputs": [
    {
     "name": "stderr",
     "output_type": "stream",
     "text": [
      "[I 2025-05-29 23:13:40,736] A new study created in memory with name: A\n"
     ]
    },
    {
     "name": "stdout",
     "output_type": "stream",
     "text": [
      "Starting Optuna optimization for dataset A\n"
     ]
    },
    {
     "data": {
      "application/vnd.jupyter.widget-view+json": {
       "model_id": "44392077a89548abafb1e21d00aeab5b",
       "version_major": 2,
       "version_minor": 0
      },
      "text/plain": [
       "  0%|          | 0/60 [00:00<?, ?it/s]"
      ]
     },
     "metadata": {},
     "output_type": "display_data"
    },
    {
     "name": "stdout",
     "output_type": "stream",
     "text": [
      "gnn_type='gcn'\n",
      "loss_type='nosy_ce'\n",
      "graph_pooling='mean'\n",
      "drop_ratio=0.36523063702616004\n",
      "num_layers=12\n",
      "embedding_dim=128\n",
      "num_epochs=20\n"
     ]
    },
    {
     "data": {
      "application/vnd.jupyter.widget-view+json": {
       "model_id": "111f557138be4480a4cb190fcb12c63f",
       "version_major": 2,
       "version_minor": 0
      },
      "text/plain": [
       "Training...:   0%|          | 0/20 [00:00<?, ?it/s]"
      ]
     },
     "metadata": {},
     "output_type": "display_data"
    },
    {
     "name": "stdout",
     "output_type": "stream",
     "text": [
      "[checkpoint] saved: /home/haislich/Documents/noisy_labels/hackaton/checkpoints/A/model_A_epoch_4.pth\n",
      "[checkpoint] saved: /home/haislich/Documents/noisy_labels/hackaton/checkpoints/A/model_A_epoch_8.pth\n",
      "[checkpoint] saved: /home/haislich/Documents/noisy_labels/hackaton/checkpoints/A/model_A_epoch_12.pth\n",
      "[checkpoint] saved: /home/haislich/Documents/noisy_labels/hackaton/checkpoints/A/model_A_epoch_16.pth\n",
      "[checkpoint] saved: /home/haislich/Documents/noisy_labels/hackaton/checkpoints/A/model_A_epoch_20.pth\n",
      "[I 2025-05-29 23:18:53,095] Trial 0 finished with value: 0.5274822695035462 and parameters: {'gnn_type': 'gcn', 'loss_type': 'ncod', 'graph_pooling': 'mean', 'dropout': 0.36523063702616004, 'num_layers': 12, 'embedding_dim': 128}. Best is trial 0 with value: 0.5274822695035462.\n",
      "gnn_type='gcn'\n",
      "loss_type='nosy_ce'\n",
      "graph_pooling='mean'\n",
      "drop_ratio=0.3741458007064613\n",
      "num_layers=12\n",
      "embedding_dim=128\n",
      "num_epochs=20\n"
     ]
    },
    {
     "data": {
      "application/vnd.jupyter.widget-view+json": {
       "model_id": "da93b61bda14437f808de0bdbafc81f8",
       "version_major": 2,
       "version_minor": 0
      },
      "text/plain": [
       "Training...:   0%|          | 0/20 [00:00<?, ?it/s]"
      ]
     },
     "metadata": {},
     "output_type": "display_data"
    },
    {
     "name": "stdout",
     "output_type": "stream",
     "text": [
      "[checkpoint] saved: /home/haislich/Documents/noisy_labels/hackaton/checkpoints/A/model_A_epoch_4.pth\n",
      "[checkpoint] saved: /home/haislich/Documents/noisy_labels/hackaton/checkpoints/A/model_A_epoch_8.pth\n",
      "[checkpoint] saved: /home/haislich/Documents/noisy_labels/hackaton/checkpoints/A/model_A_epoch_12.pth\n",
      "[checkpoint] saved: /home/haislich/Documents/noisy_labels/hackaton/checkpoints/A/model_A_epoch_16.pth\n",
      "[checkpoint] saved: /home/haislich/Documents/noisy_labels/hackaton/checkpoints/A/model_A_epoch_20.pth\n",
      "[I 2025-05-29 23:24:05,215] Trial 1 finished with value: 0.5403368794326241 and parameters: {'gnn_type': 'gcn', 'loss_type': 'ncod', 'graph_pooling': 'mean', 'dropout': 0.3741458007064613, 'num_layers': 12, 'embedding_dim': 128}. Best is trial 1 with value: 0.5403368794326241.\n",
      "gnn_type='gcn'\n",
      "loss_type='nosy_ce'\n",
      "graph_pooling='mean'\n",
      "drop_ratio=0.6678242158534466\n",
      "num_layers=5\n",
      "embedding_dim=64\n",
      "num_epochs=20\n"
     ]
    },
    {
     "data": {
      "application/vnd.jupyter.widget-view+json": {
       "model_id": "488c56c1ad814d8fbf6ce95d4d5ee61a",
       "version_major": 2,
       "version_minor": 0
      },
      "text/plain": [
       "Training...:   0%|          | 0/20 [00:00<?, ?it/s]"
      ]
     },
     "metadata": {},
     "output_type": "display_data"
    },
    {
     "name": "stdout",
     "output_type": "stream",
     "text": [
      "[checkpoint] saved: /home/haislich/Documents/noisy_labels/hackaton/checkpoints/A/model_A_epoch_4.pth\n",
      "[checkpoint] saved: /home/haislich/Documents/noisy_labels/hackaton/checkpoints/A/model_A_epoch_8.pth\n",
      "[checkpoint] saved: /home/haislich/Documents/noisy_labels/hackaton/checkpoints/A/model_A_epoch_12.pth\n",
      "[checkpoint] saved: /home/haislich/Documents/noisy_labels/hackaton/checkpoints/A/model_A_epoch_16.pth\n",
      "[checkpoint] saved: /home/haislich/Documents/noisy_labels/hackaton/checkpoints/A/model_A_epoch_20.pth\n",
      "[I 2025-05-29 23:25:32,318] Trial 2 finished with value: 0.4995567375886525 and parameters: {'gnn_type': 'gcn', 'loss_type': 'ce', 'graph_pooling': 'mean', 'dropout': 0.6678242158534466, 'num_layers': 5, 'embedding_dim': 64}. Best is trial 1 with value: 0.5403368794326241.\n",
      "gnn_type='gcn'\n",
      "loss_type='nosy_ce'\n",
      "graph_pooling='mean'\n",
      "drop_ratio=0.2009079400433742\n",
      "num_layers=12\n",
      "embedding_dim=300\n",
      "num_epochs=20\n"
     ]
    },
    {
     "data": {
      "application/vnd.jupyter.widget-view+json": {
       "model_id": "f23643f568534670851cb90cd475120f",
       "version_major": 2,
       "version_minor": 0
      },
      "text/plain": [
       "Training...:   0%|          | 0/20 [00:00<?, ?it/s]"
      ]
     },
     "metadata": {},
     "output_type": "display_data"
    },
    {
     "name": "stdout",
     "output_type": "stream",
     "text": [
      "[checkpoint] saved: /home/haislich/Documents/noisy_labels/hackaton/checkpoints/A/model_A_epoch_4.pth\n",
      "[checkpoint] saved: /home/haislich/Documents/noisy_labels/hackaton/checkpoints/A/model_A_epoch_8.pth\n",
      "[checkpoint] saved: /home/haislich/Documents/noisy_labels/hackaton/checkpoints/A/model_A_epoch_12.pth\n",
      "[checkpoint] saved: /home/haislich/Documents/noisy_labels/hackaton/checkpoints/A/model_A_epoch_16.pth\n",
      "[checkpoint] saved: /home/haislich/Documents/noisy_labels/hackaton/checkpoints/A/model_A_epoch_20.pth\n",
      "[I 2025-05-29 23:37:04,712] Trial 3 finished with value: 0.550531914893617 and parameters: {'gnn_type': 'gcn-virtual', 'loss_type': 'sce', 'graph_pooling': 'mean', 'dropout': 0.2009079400433742, 'num_layers': 12, 'embedding_dim': 300}. Best is trial 3 with value: 0.550531914893617.\n",
      "gnn_type='gcn'\n",
      "loss_type='nosy_ce'\n",
      "graph_pooling='mean'\n",
      "drop_ratio=0.10844812221060188\n",
      "num_layers=8\n",
      "embedding_dim=300\n",
      "num_epochs=20\n"
     ]
    },
    {
     "data": {
      "application/vnd.jupyter.widget-view+json": {
       "model_id": "f111401aa32148c99a5c8cda93792702",
       "version_major": 2,
       "version_minor": 0
      },
      "text/plain": [
       "Training...:   0%|          | 0/20 [00:00<?, ?it/s]"
      ]
     },
     "metadata": {},
     "output_type": "display_data"
    },
    {
     "name": "stdout",
     "output_type": "stream",
     "text": [
      "[checkpoint] saved: /home/haislich/Documents/noisy_labels/hackaton/checkpoints/A/model_A_epoch_4.pth\n",
      "[checkpoint] saved: /home/haislich/Documents/noisy_labels/hackaton/checkpoints/A/model_A_epoch_8.pth\n",
      "[checkpoint] saved: /home/haislich/Documents/noisy_labels/hackaton/checkpoints/A/model_A_epoch_12.pth\n",
      "[checkpoint] saved: /home/haislich/Documents/noisy_labels/hackaton/checkpoints/A/model_A_epoch_16.pth\n",
      "[checkpoint] saved: /home/haislich/Documents/noisy_labels/hackaton/checkpoints/A/model_A_epoch_20.pth\n",
      "[I 2025-05-29 23:44:55,225] Trial 4 finished with value: 0.5274822695035462 and parameters: {'gnn_type': 'gcn-virtual', 'loss_type': 'sce', 'graph_pooling': 'attention', 'dropout': 0.10844812221060188, 'num_layers': 8, 'embedding_dim': 300}. Best is trial 3 with value: 0.550531914893617.\n",
      "gnn_type='gcn'\n",
      "loss_type='nosy_ce'\n",
      "graph_pooling='mean'\n",
      "drop_ratio=0.012043965742751434\n",
      "num_layers=9\n",
      "embedding_dim=300\n",
      "num_epochs=20\n"
     ]
    },
    {
     "data": {
      "application/vnd.jupyter.widget-view+json": {
       "model_id": "bcdaf751ddaf4106a3a4b88f746120a2",
       "version_major": 2,
       "version_minor": 0
      },
      "text/plain": [
       "Training...:   0%|          | 0/20 [00:00<?, ?it/s]"
      ]
     },
     "metadata": {},
     "output_type": "display_data"
    },
    {
     "name": "stdout",
     "output_type": "stream",
     "text": [
      "[checkpoint] saved: /home/haislich/Documents/noisy_labels/hackaton/checkpoints/A/model_A_epoch_4.pth\n",
      "[checkpoint] saved: /home/haislich/Documents/noisy_labels/hackaton/checkpoints/A/model_A_epoch_8.pth\n",
      "[checkpoint] saved: /home/haislich/Documents/noisy_labels/hackaton/checkpoints/A/model_A_epoch_12.pth\n",
      "[I 2025-05-29 23:50:34,916] Trial 5 pruned. \n",
      "gnn_type='gcn'\n",
      "loss_type='nosy_ce'\n",
      "graph_pooling='mean'\n",
      "drop_ratio=0.19811202603835978\n",
      "num_layers=3\n",
      "embedding_dim=600\n",
      "num_epochs=20\n"
     ]
    },
    {
     "data": {
      "application/vnd.jupyter.widget-view+json": {
       "model_id": "b218c72d5ee54660b2b3cc6a32901046",
       "version_major": 2,
       "version_minor": 0
      },
      "text/plain": [
       "Training...:   0%|          | 0/20 [00:00<?, ?it/s]"
      ]
     },
     "metadata": {},
     "output_type": "display_data"
    },
    {
     "name": "stdout",
     "output_type": "stream",
     "text": [
      "[checkpoint] saved: /home/haislich/Documents/noisy_labels/hackaton/checkpoints/A/model_A_epoch_4.pth\n",
      "[checkpoint] saved: /home/haislich/Documents/noisy_labels/hackaton/checkpoints/A/model_A_epoch_8.pth\n",
      "[checkpoint] saved: /home/haislich/Documents/noisy_labels/hackaton/checkpoints/A/model_A_epoch_12.pth\n",
      "[I 2025-05-29 23:54:51,294] Trial 6 pruned. \n",
      "gnn_type='gcn'\n",
      "loss_type='nosy_ce'\n",
      "graph_pooling='mean'\n",
      "drop_ratio=0.5708692043569465\n",
      "num_layers=10\n",
      "embedding_dim=300\n",
      "num_epochs=20\n"
     ]
    },
    {
     "data": {
      "application/vnd.jupyter.widget-view+json": {
       "model_id": "8e54a8caea974cd497798a6f16052a05",
       "version_major": 2,
       "version_minor": 0
      },
      "text/plain": [
       "Training...:   0%|          | 0/20 [00:00<?, ?it/s]"
      ]
     },
     "metadata": {},
     "output_type": "display_data"
    },
    {
     "name": "stdout",
     "output_type": "stream",
     "text": [
      "[checkpoint] saved: /home/haislich/Documents/noisy_labels/hackaton/checkpoints/A/model_A_epoch_4.pth\n",
      "[checkpoint] saved: /home/haislich/Documents/noisy_labels/hackaton/checkpoints/A/model_A_epoch_8.pth\n",
      "[checkpoint] saved: /home/haislich/Documents/noisy_labels/hackaton/checkpoints/A/model_A_epoch_12.pth\n",
      "[I 2025-05-30 00:01:38,112] Trial 7 pruned. \n",
      "gnn_type='gcn'\n",
      "loss_type='nosy_ce'\n",
      "graph_pooling='mean'\n",
      "drop_ratio=0.23253668247271725\n",
      "num_layers=6\n",
      "embedding_dim=600\n",
      "num_epochs=20\n"
     ]
    },
    {
     "data": {
      "application/vnd.jupyter.widget-view+json": {
       "model_id": "78ea24d9398541668e65ea28ba707be8",
       "version_major": 2,
       "version_minor": 0
      },
      "text/plain": [
       "Training...:   0%|          | 0/20 [00:00<?, ?it/s]"
      ]
     },
     "metadata": {},
     "output_type": "display_data"
    },
    {
     "name": "stdout",
     "output_type": "stream",
     "text": [
      "[checkpoint] saved: /home/haislich/Documents/noisy_labels/hackaton/checkpoints/A/model_A_epoch_4.pth\n",
      "[checkpoint] saved: /home/haislich/Documents/noisy_labels/hackaton/checkpoints/A/model_A_epoch_8.pth\n",
      "[checkpoint] saved: /home/haislich/Documents/noisy_labels/hackaton/checkpoints/A/model_A_epoch_12.pth\n",
      "Unhandled exception  CUDA out of memory. Tried to allocate 904.00 MiB. GPU 0 has a total capacity of 11.60 GiB of which 706.31 MiB is free. Process 6163 has 135.59 MiB memory in use. Including non-PyTorch memory, this process has 10.01 GiB memory in use. Process 13481 has 135.46 MiB memory in use. Process 13733 has 127.84 MiB memory in use. Of the allocated memory 8.08 GiB is allocated by PyTorch, and 1.72 GiB is reserved by PyTorch but unallocated. If reserved but unallocated memory is large try setting PYTORCH_CUDA_ALLOC_CONF=expandable_segments:True to avoid fragmentation.  See documentation for Memory Management  (https://pytorch.org/docs/stable/notes/cuda.html#environment-variables)\n",
      "[I 2025-05-30 00:10:54,612] Trial 8 finished with value: -inf and parameters: {'gnn_type': 'gcn-virtual', 'loss_type': 'noisy_ce', 'graph_pooling': 'set2set', 'dropout': 0.23253668247271725, 'num_layers': 6, 'embedding_dim': 600}. Best is trial 3 with value: 0.550531914893617.\n",
      "gnn_type='gcn'\n",
      "loss_type='nosy_ce'\n",
      "graph_pooling='mean'\n",
      "drop_ratio=0.471690924390142\n",
      "num_layers=10\n",
      "embedding_dim=64\n",
      "num_epochs=20\n"
     ]
    },
    {
     "data": {
      "application/vnd.jupyter.widget-view+json": {
       "model_id": "265a62ea7d004e58823c35f1b8a2c72e",
       "version_major": 2,
       "version_minor": 0
      },
      "text/plain": [
       "Training...:   0%|          | 0/20 [00:00<?, ?it/s]"
      ]
     },
     "metadata": {},
     "output_type": "display_data"
    },
    {
     "name": "stdout",
     "output_type": "stream",
     "text": [
      "[checkpoint] saved: /home/haislich/Documents/noisy_labels/hackaton/checkpoints/A/model_A_epoch_4.pth\n",
      "[checkpoint] saved: /home/haislich/Documents/noisy_labels/hackaton/checkpoints/A/model_A_epoch_8.pth\n",
      "[checkpoint] saved: /home/haislich/Documents/noisy_labels/hackaton/checkpoints/A/model_A_epoch_12.pth\n",
      "[I 2025-05-30 00:12:42,215] Trial 9 pruned. \n",
      "gnn_type='gcn'\n",
      "loss_type='nosy_ce'\n",
      "graph_pooling='mean'\n",
      "drop_ratio=0.2673663688682053\n",
      "num_layers=7\n",
      "embedding_dim=300\n",
      "num_epochs=20\n"
     ]
    },
    {
     "data": {
      "application/vnd.jupyter.widget-view+json": {
       "model_id": "fee41ddc7e7a45d7adbf2f51ac87fa37",
       "version_major": 2,
       "version_minor": 0
      },
      "text/plain": [
       "Training...:   0%|          | 0/20 [00:00<?, ?it/s]"
      ]
     },
     "metadata": {},
     "output_type": "display_data"
    },
    {
     "name": "stdout",
     "output_type": "stream",
     "text": [
      "[checkpoint] saved: /home/haislich/Documents/noisy_labels/hackaton/checkpoints/A/model_A_epoch_4.pth\n",
      "[checkpoint] saved: /home/haislich/Documents/noisy_labels/hackaton/checkpoints/A/model_A_epoch_8.pth\n",
      "[checkpoint] saved: /home/haislich/Documents/noisy_labels/hackaton/checkpoints/A/model_A_epoch_12.pth\n",
      "[checkpoint] saved: /home/haislich/Documents/noisy_labels/hackaton/checkpoints/A/model_A_epoch_16.pth\n",
      "[checkpoint] saved: /home/haislich/Documents/noisy_labels/hackaton/checkpoints/A/model_A_epoch_20.pth\n",
      "[I 2025-05-30 00:19:41,472] Trial 10 finished with value: 0.5527482269503546 and parameters: {'gnn_type': 'gin-virtual', 'loss_type': 'noisy_ce', 'graph_pooling': 'sum', 'dropout': 0.2673663688682053, 'num_layers': 7, 'embedding_dim': 300}. Best is trial 10 with value: 0.5527482269503546.\n",
      "gnn_type='gcn'\n",
      "loss_type='nosy_ce'\n",
      "graph_pooling='mean'\n",
      "drop_ratio=0.23704767076052644\n",
      "num_layers=6\n",
      "embedding_dim=300\n",
      "num_epochs=20\n"
     ]
    },
    {
     "data": {
      "application/vnd.jupyter.widget-view+json": {
       "model_id": "e1d96d4c9588452a9850933306334f0f",
       "version_major": 2,
       "version_minor": 0
      },
      "text/plain": [
       "Training...:   0%|          | 0/20 [00:00<?, ?it/s]"
      ]
     },
     "metadata": {},
     "output_type": "display_data"
    },
    {
     "name": "stdout",
     "output_type": "stream",
     "text": [
      "[checkpoint] saved: /home/haislich/Documents/noisy_labels/hackaton/checkpoints/A/model_A_epoch_4.pth\n",
      "[checkpoint] saved: /home/haislich/Documents/noisy_labels/hackaton/checkpoints/A/model_A_epoch_8.pth\n",
      "[checkpoint] saved: /home/haislich/Documents/noisy_labels/hackaton/checkpoints/A/model_A_epoch_12.pth\n",
      "[checkpoint] saved: /home/haislich/Documents/noisy_labels/hackaton/checkpoints/A/model_A_epoch_16.pth\n",
      "[checkpoint] saved: /home/haislich/Documents/noisy_labels/hackaton/checkpoints/A/model_A_epoch_20.pth\n",
      "[I 2025-05-30 00:25:43,834] Trial 11 finished with value: 0.5540780141843972 and parameters: {'gnn_type': 'gin-virtual', 'loss_type': 'ncod', 'graph_pooling': 'sum', 'dropout': 0.23704767076052644, 'num_layers': 6, 'embedding_dim': 300}. Best is trial 11 with value: 0.5540780141843972.\n",
      "gnn_type='gcn'\n",
      "loss_type='nosy_ce'\n",
      "graph_pooling='mean'\n",
      "drop_ratio=0.3312289881065593\n",
      "num_layers=6\n",
      "embedding_dim=300\n",
      "num_epochs=20\n"
     ]
    },
    {
     "data": {
      "application/vnd.jupyter.widget-view+json": {
       "model_id": "4b550ddfc0f34fb3b3407a5792c397fa",
       "version_major": 2,
       "version_minor": 0
      },
      "text/plain": [
       "Training...:   0%|          | 0/20 [00:00<?, ?it/s]"
      ]
     },
     "metadata": {},
     "output_type": "display_data"
    },
    {
     "name": "stdout",
     "output_type": "stream",
     "text": [
      "[checkpoint] saved: /home/haislich/Documents/noisy_labels/hackaton/checkpoints/A/model_A_epoch_4.pth\n",
      "[checkpoint] saved: /home/haislich/Documents/noisy_labels/hackaton/checkpoints/A/model_A_epoch_8.pth\n",
      "[checkpoint] saved: /home/haislich/Documents/noisy_labels/hackaton/checkpoints/A/model_A_epoch_12.pth\n",
      "[checkpoint] saved: /home/haislich/Documents/noisy_labels/hackaton/checkpoints/A/model_A_epoch_16.pth\n",
      "[checkpoint] saved: /home/haislich/Documents/noisy_labels/hackaton/checkpoints/A/model_A_epoch_20.pth\n",
      "[I 2025-05-30 00:31:38,993] Trial 12 finished with value: 0.5354609929078015 and parameters: {'gnn_type': 'gin-virtual', 'loss_type': 'ncod', 'graph_pooling': 'sum', 'dropout': 0.3312289881065593, 'num_layers': 6, 'embedding_dim': 300}. Best is trial 11 with value: 0.5540780141843972.\n",
      "gnn_type='gcn'\n",
      "loss_type='nosy_ce'\n",
      "graph_pooling='mean'\n",
      "drop_ratio=0.2665736208869961\n",
      "num_layers=4\n",
      "embedding_dim=300\n",
      "num_epochs=20\n"
     ]
    },
    {
     "data": {
      "application/vnd.jupyter.widget-view+json": {
       "model_id": "a0f2356f35ae4676807151de6ae237dc",
       "version_major": 2,
       "version_minor": 0
      },
      "text/plain": [
       "Training...:   0%|          | 0/20 [00:00<?, ?it/s]"
      ]
     },
     "metadata": {},
     "output_type": "display_data"
    },
    {
     "name": "stdout",
     "output_type": "stream",
     "text": [
      "[checkpoint] saved: /home/haislich/Documents/noisy_labels/hackaton/checkpoints/A/model_A_epoch_4.pth\n",
      "[checkpoint] saved: /home/haislich/Documents/noisy_labels/hackaton/checkpoints/A/model_A_epoch_8.pth\n",
      "[checkpoint] saved: /home/haislich/Documents/noisy_labels/hackaton/checkpoints/A/model_A_epoch_12.pth\n",
      "[checkpoint] saved: /home/haislich/Documents/noisy_labels/hackaton/checkpoints/A/model_A_epoch_16.pth\n",
      "[checkpoint] saved: /home/haislich/Documents/noisy_labels/hackaton/checkpoints/A/model_A_epoch_20.pth\n",
      "[I 2025-05-30 00:35:48,540] Trial 13 finished with value: 0.550531914893617 and parameters: {'gnn_type': 'gin-virtual', 'loss_type': 'noisy_ce', 'graph_pooling': 'sum', 'dropout': 0.2665736208869961, 'num_layers': 4, 'embedding_dim': 300}. Best is trial 11 with value: 0.5540780141843972.\n",
      "gnn_type='gcn'\n",
      "loss_type='nosy_ce'\n",
      "graph_pooling='mean'\n",
      "drop_ratio=0.05640829464463651\n",
      "num_layers=7\n",
      "embedding_dim=300\n",
      "num_epochs=20\n"
     ]
    },
    {
     "data": {
      "application/vnd.jupyter.widget-view+json": {
       "model_id": "ebc31f7df7e84579ae41cbc15a70b057",
       "version_major": 2,
       "version_minor": 0
      },
      "text/plain": [
       "Training...:   0%|          | 0/20 [00:00<?, ?it/s]"
      ]
     },
     "metadata": {},
     "output_type": "display_data"
    },
    {
     "name": "stdout",
     "output_type": "stream",
     "text": [
      "[checkpoint] saved: /home/haislich/Documents/noisy_labels/hackaton/checkpoints/A/model_A_epoch_4.pth\n",
      "[checkpoint] saved: /home/haislich/Documents/noisy_labels/hackaton/checkpoints/A/model_A_epoch_8.pth\n",
      "[checkpoint] saved: /home/haislich/Documents/noisy_labels/hackaton/checkpoints/A/model_A_epoch_12.pth\n",
      "[checkpoint] saved: /home/haislich/Documents/noisy_labels/hackaton/checkpoints/A/model_A_epoch_16.pth\n",
      "[checkpoint] saved: /home/haislich/Documents/noisy_labels/hackaton/checkpoints/A/model_A_epoch_20.pth\n",
      "[I 2025-05-30 00:42:49,890] Trial 14 finished with value: 0.5323581560283688 and parameters: {'gnn_type': 'gin-virtual', 'loss_type': 'noisy_ce', 'graph_pooling': 'mean', 'dropout': 0.05640829464463651, 'num_layers': 7, 'embedding_dim': 300}. Best is trial 11 with value: 0.5540780141843972.\n",
      "gnn_type='gcn'\n",
      "loss_type='nosy_ce'\n",
      "graph_pooling='mean'\n",
      "drop_ratio=0.4608624270379577\n",
      "num_layers=7\n",
      "embedding_dim=300\n",
      "num_epochs=20\n"
     ]
    },
    {
     "data": {
      "application/vnd.jupyter.widget-view+json": {
       "model_id": "7d5b0fe8ea914ae49c044cd258d204ad",
       "version_major": 2,
       "version_minor": 0
      },
      "text/plain": [
       "Training...:   0%|          | 0/20 [00:00<?, ?it/s]"
      ]
     },
     "metadata": {},
     "output_type": "display_data"
    },
    {
     "name": "stdout",
     "output_type": "stream",
     "text": [
      "[checkpoint] saved: /home/haislich/Documents/noisy_labels/hackaton/checkpoints/A/model_A_epoch_4.pth\n",
      "[checkpoint] saved: /home/haislich/Documents/noisy_labels/hackaton/checkpoints/A/model_A_epoch_8.pth\n",
      "[checkpoint] saved: /home/haislich/Documents/noisy_labels/hackaton/checkpoints/A/model_A_epoch_12.pth\n",
      "[checkpoint] saved: /home/haislich/Documents/noisy_labels/hackaton/checkpoints/A/model_A_epoch_16.pth\n",
      "[I 2025-05-30 00:48:27,558] Trial 15 pruned. \n",
      "gnn_type='gcn'\n",
      "loss_type='nosy_ce'\n",
      "graph_pooling='mean'\n",
      "drop_ratio=0.15083251066166892\n",
      "num_layers=5\n",
      "embedding_dim=64\n",
      "num_epochs=20\n"
     ]
    },
    {
     "data": {
      "application/vnd.jupyter.widget-view+json": {
       "model_id": "59c6fde58a7e4c9fab8a7c028d6eaf15",
       "version_major": 2,
       "version_minor": 0
      },
      "text/plain": [
       "Training...:   0%|          | 0/20 [00:00<?, ?it/s]"
      ]
     },
     "metadata": {},
     "output_type": "display_data"
    },
    {
     "name": "stdout",
     "output_type": "stream",
     "text": [
      "[checkpoint] saved: /home/haislich/Documents/noisy_labels/hackaton/checkpoints/A/model_A_epoch_4.pth\n",
      "[checkpoint] saved: /home/haislich/Documents/noisy_labels/hackaton/checkpoints/A/model_A_epoch_8.pth\n",
      "[checkpoint] saved: /home/haislich/Documents/noisy_labels/hackaton/checkpoints/A/model_A_epoch_12.pth\n",
      "[checkpoint] saved: /home/haislich/Documents/noisy_labels/hackaton/checkpoints/A/model_A_epoch_16.pth\n",
      "[checkpoint] saved: /home/haislich/Documents/noisy_labels/hackaton/checkpoints/A/model_A_epoch_20.pth\n",
      "[I 2025-05-30 00:49:54,370] Trial 16 finished with value: 0.5328014184397163 and parameters: {'gnn_type': 'gin-virtual', 'loss_type': 'ncod', 'graph_pooling': 'mean', 'dropout': 0.15083251066166892, 'num_layers': 5, 'embedding_dim': 64}. Best is trial 11 with value: 0.5540780141843972.\n",
      "gnn_type='gcn'\n",
      "loss_type='nosy_ce'\n",
      "graph_pooling='mean'\n",
      "drop_ratio=0.29502876218985485\n",
      "num_layers=8\n",
      "embedding_dim=128\n",
      "num_epochs=20\n"
     ]
    },
    {
     "data": {
      "application/vnd.jupyter.widget-view+json": {
       "model_id": "a6a9656888d24117911a6dda4255ceab",
       "version_major": 2,
       "version_minor": 0
      },
      "text/plain": [
       "Training...:   0%|          | 0/20 [00:00<?, ?it/s]"
      ]
     },
     "metadata": {},
     "output_type": "display_data"
    },
    {
     "name": "stdout",
     "output_type": "stream",
     "text": [
      "[checkpoint] saved: /home/haislich/Documents/noisy_labels/hackaton/checkpoints/A/model_A_epoch_4.pth\n",
      "[checkpoint] saved: /home/haislich/Documents/noisy_labels/hackaton/checkpoints/A/model_A_epoch_8.pth\n",
      "[checkpoint] saved: /home/haislich/Documents/noisy_labels/hackaton/checkpoints/A/model_A_epoch_12.pth\n",
      "[checkpoint] saved: /home/haislich/Documents/noisy_labels/hackaton/checkpoints/A/model_A_epoch_16.pth\n",
      "[checkpoint] saved: /home/haislich/Documents/noisy_labels/hackaton/checkpoints/A/model_A_epoch_20.pth\n",
      "[I 2025-05-30 00:53:26,638] Trial 17 finished with value: 0.5536347517730497 and parameters: {'gnn_type': 'gin-virtual', 'loss_type': 'ncod', 'graph_pooling': 'max', 'dropout': 0.29502876218985485, 'num_layers': 8, 'embedding_dim': 128}. Best is trial 11 with value: 0.5540780141843972.\n",
      "gnn_type='gcn'\n",
      "loss_type='nosy_ce'\n",
      "graph_pooling='mean'\n",
      "drop_ratio=0.44513213663633894\n",
      "num_layers=9\n",
      "embedding_dim=128\n",
      "num_epochs=20\n"
     ]
    },
    {
     "data": {
      "application/vnd.jupyter.widget-view+json": {
       "model_id": "b245ff290fee4d1a836d94b5f28555d0",
       "version_major": 2,
       "version_minor": 0
      },
      "text/plain": [
       "Training...:   0%|          | 0/20 [00:00<?, ?it/s]"
      ]
     },
     "metadata": {},
     "output_type": "display_data"
    },
    {
     "name": "stdout",
     "output_type": "stream",
     "text": [
      "[checkpoint] saved: /home/haislich/Documents/noisy_labels/hackaton/checkpoints/A/model_A_epoch_4.pth\n",
      "[checkpoint] saved: /home/haislich/Documents/noisy_labels/hackaton/checkpoints/A/model_A_epoch_8.pth\n",
      "[checkpoint] saved: /home/haislich/Documents/noisy_labels/hackaton/checkpoints/A/model_A_epoch_12.pth\n",
      "[I 2025-05-30 00:56:11,971] Trial 18 pruned. \n",
      "gnn_type='gcn'\n",
      "loss_type='nosy_ce'\n",
      "graph_pooling='mean'\n",
      "drop_ratio=0.29849883818442385\n",
      "num_layers=9\n",
      "embedding_dim=128\n",
      "num_epochs=20\n"
     ]
    },
    {
     "data": {
      "application/vnd.jupyter.widget-view+json": {
       "model_id": "933ce2ef73de46fb999ef1fc4ee417d3",
       "version_major": 2,
       "version_minor": 0
      },
      "text/plain": [
       "Training...:   0%|          | 0/20 [00:00<?, ?it/s]"
      ]
     },
     "metadata": {},
     "output_type": "display_data"
    },
    {
     "name": "stdout",
     "output_type": "stream",
     "text": [
      "[checkpoint] saved: /home/haislich/Documents/noisy_labels/hackaton/checkpoints/A/model_A_epoch_4.pth\n",
      "[checkpoint] saved: /home/haislich/Documents/noisy_labels/hackaton/checkpoints/A/model_A_epoch_8.pth\n",
      "[I 2025-05-30 00:58:22,443] Trial 19 pruned. \n",
      "gnn_type='gcn'\n",
      "loss_type='nosy_ce'\n",
      "graph_pooling='mean'\n",
      "drop_ratio=0.13279357598836633\n",
      "num_layers=8\n",
      "embedding_dim=128\n",
      "num_epochs=20\n"
     ]
    },
    {
     "data": {
      "application/vnd.jupyter.widget-view+json": {
       "model_id": "5b8c288be11a463e8222ed4992d1b0db",
       "version_major": 2,
       "version_minor": 0
      },
      "text/plain": [
       "Training...:   0%|          | 0/20 [00:00<?, ?it/s]"
      ]
     },
     "metadata": {},
     "output_type": "display_data"
    },
    {
     "name": "stdout",
     "output_type": "stream",
     "text": [
      "[checkpoint] saved: /home/haislich/Documents/noisy_labels/hackaton/checkpoints/A/model_A_epoch_4.pth\n",
      "[checkpoint] saved: /home/haislich/Documents/noisy_labels/hackaton/checkpoints/A/model_A_epoch_8.pth\n",
      "[checkpoint] saved: /home/haislich/Documents/noisy_labels/hackaton/checkpoints/A/model_A_epoch_12.pth\n",
      "[I 2025-05-30 01:00:51,896] Trial 20 pruned. \n",
      "gnn_type='gcn'\n",
      "loss_type='nosy_ce'\n",
      "graph_pooling='mean'\n",
      "drop_ratio=0.2820992209279168\n",
      "num_layers=6\n",
      "embedding_dim=600\n",
      "num_epochs=20\n"
     ]
    },
    {
     "data": {
      "application/vnd.jupyter.widget-view+json": {
       "model_id": "d9bcdd68674147a6bcccf4d5b3605374",
       "version_major": 2,
       "version_minor": 0
      },
      "text/plain": [
       "Training...:   0%|          | 0/20 [00:00<?, ?it/s]"
      ]
     },
     "metadata": {},
     "output_type": "display_data"
    },
    {
     "name": "stdout",
     "output_type": "stream",
     "text": [
      "[checkpoint] saved: /home/haislich/Documents/noisy_labels/hackaton/checkpoints/A/model_A_epoch_4.pth\n",
      "[checkpoint] saved: /home/haislich/Documents/noisy_labels/hackaton/checkpoints/A/model_A_epoch_8.pth\n",
      "[checkpoint] saved: /home/haislich/Documents/noisy_labels/hackaton/checkpoints/A/model_A_epoch_12.pth\n",
      "[checkpoint] saved: /home/haislich/Documents/noisy_labels/hackaton/checkpoints/A/model_A_epoch_16.pth\n",
      "[checkpoint] saved: /home/haislich/Documents/noisy_labels/hackaton/checkpoints/A/model_A_epoch_20.pth\n",
      "[I 2025-05-30 01:12:37,717] Trial 21 finished with value: 0.5625 and parameters: {'gnn_type': 'gin-virtual', 'loss_type': 'ncod', 'graph_pooling': 'sum', 'dropout': 0.2820992209279168, 'num_layers': 6, 'embedding_dim': 600}. Best is trial 21 with value: 0.5625.\n",
      "gnn_type='gcn'\n",
      "loss_type='nosy_ce'\n",
      "graph_pooling='mean'\n",
      "drop_ratio=0.4022897532286356\n",
      "num_layers=6\n",
      "embedding_dim=600\n",
      "num_epochs=20\n"
     ]
    },
    {
     "data": {
      "application/vnd.jupyter.widget-view+json": {
       "model_id": "d47b1243489b4bac8c113719e751112b",
       "version_major": 2,
       "version_minor": 0
      },
      "text/plain": [
       "Training...:   0%|          | 0/20 [00:00<?, ?it/s]"
      ]
     },
     "metadata": {},
     "output_type": "display_data"
    },
    {
     "name": "stdout",
     "output_type": "stream",
     "text": [
      "[checkpoint] saved: /home/haislich/Documents/noisy_labels/hackaton/checkpoints/A/model_A_epoch_4.pth\n",
      "[checkpoint] saved: /home/haislich/Documents/noisy_labels/hackaton/checkpoints/A/model_A_epoch_8.pth\n",
      "[checkpoint] saved: /home/haislich/Documents/noisy_labels/hackaton/checkpoints/A/model_A_epoch_12.pth\n",
      "[I 2025-05-30 01:21:00,577] Trial 22 pruned. \n",
      "gnn_type='gcn'\n",
      "loss_type='nosy_ce'\n",
      "graph_pooling='mean'\n",
      "drop_ratio=0.314499968165412\n",
      "num_layers=5\n",
      "embedding_dim=600\n",
      "num_epochs=20\n"
     ]
    },
    {
     "data": {
      "application/vnd.jupyter.widget-view+json": {
       "model_id": "18ce3ae634514549b3941017c89812dd",
       "version_major": 2,
       "version_minor": 0
      },
      "text/plain": [
       "Training...:   0%|          | 0/20 [00:00<?, ?it/s]"
      ]
     },
     "metadata": {},
     "output_type": "display_data"
    },
    {
     "name": "stdout",
     "output_type": "stream",
     "text": [
      "[checkpoint] saved: /home/haislich/Documents/noisy_labels/hackaton/checkpoints/A/model_A_epoch_4.pth\n",
      "[checkpoint] saved: /home/haislich/Documents/noisy_labels/hackaton/checkpoints/A/model_A_epoch_8.pth\n",
      "[checkpoint] saved: /home/haislich/Documents/noisy_labels/hackaton/checkpoints/A/model_A_epoch_12.pth\n",
      "[checkpoint] saved: /home/haislich/Documents/noisy_labels/hackaton/checkpoints/A/model_A_epoch_16.pth\n",
      "[checkpoint] saved: /home/haislich/Documents/noisy_labels/hackaton/checkpoints/A/model_A_epoch_20.pth\n",
      "[I 2025-05-30 01:31:03,359] Trial 23 finished with value: 0.5460992907801419 and parameters: {'gnn_type': 'gin-virtual', 'loss_type': 'ncod', 'graph_pooling': 'mean', 'dropout': 0.314499968165412, 'num_layers': 5, 'embedding_dim': 600}. Best is trial 21 with value: 0.5625.\n",
      "gnn_type='gcn'\n",
      "loss_type='nosy_ce'\n",
      "graph_pooling='mean'\n",
      "drop_ratio=0.18499788994786143\n",
      "num_layers=4\n",
      "embedding_dim=600\n",
      "num_epochs=20\n"
     ]
    },
    {
     "data": {
      "application/vnd.jupyter.widget-view+json": {
       "model_id": "8890d4d3d6ee48f082d061a20eebf71b",
       "version_major": 2,
       "version_minor": 0
      },
      "text/plain": [
       "Training...:   0%|          | 0/20 [00:00<?, ?it/s]"
      ]
     },
     "metadata": {},
     "output_type": "display_data"
    },
    {
     "name": "stdout",
     "output_type": "stream",
     "text": [
      "[checkpoint] saved: /home/haislich/Documents/noisy_labels/hackaton/checkpoints/A/model_A_epoch_4.pth\n",
      "[checkpoint] saved: /home/haislich/Documents/noisy_labels/hackaton/checkpoints/A/model_A_epoch_8.pth\n",
      "[checkpoint] saved: /home/haislich/Documents/noisy_labels/hackaton/checkpoints/A/model_A_epoch_12.pth\n",
      "[checkpoint] saved: /home/haislich/Documents/noisy_labels/hackaton/checkpoints/A/model_A_epoch_16.pth\n",
      "[checkpoint] saved: /home/haislich/Documents/noisy_labels/hackaton/checkpoints/A/model_A_epoch_20.pth\n",
      "[I 2025-05-30 01:39:04,761] Trial 24 finished with value: 0.5407801418439716 and parameters: {'gnn_type': 'gin-virtual', 'loss_type': 'noisy_ce', 'graph_pooling': 'mean', 'dropout': 0.18499788994786143, 'num_layers': 4, 'embedding_dim': 600}. Best is trial 21 with value: 0.5625.\n",
      "gnn_type='gcn'\n",
      "loss_type='nosy_ce'\n",
      "graph_pooling='mean'\n",
      "drop_ratio=0.5207368884756977\n",
      "num_layers=6\n",
      "embedding_dim=600\n",
      "num_epochs=20\n"
     ]
    },
    {
     "data": {
      "application/vnd.jupyter.widget-view+json": {
       "model_id": "063a77e427e84cf2a2315d2a1608ee32",
       "version_major": 2,
       "version_minor": 0
      },
      "text/plain": [
       "Training...:   0%|          | 0/20 [00:00<?, ?it/s]"
      ]
     },
     "metadata": {},
     "output_type": "display_data"
    },
    {
     "name": "stdout",
     "output_type": "stream",
     "text": [
      "[checkpoint] saved: /home/haislich/Documents/noisy_labels/hackaton/checkpoints/A/model_A_epoch_4.pth\n",
      "[checkpoint] saved: /home/haislich/Documents/noisy_labels/hackaton/checkpoints/A/model_A_epoch_8.pth\n",
      "[checkpoint] saved: /home/haislich/Documents/noisy_labels/hackaton/checkpoints/A/model_A_epoch_12.pth\n",
      "[checkpoint] saved: /home/haislich/Documents/noisy_labels/hackaton/checkpoints/A/model_A_epoch_16.pth\n",
      "[checkpoint] saved: /home/haislich/Documents/noisy_labels/hackaton/checkpoints/A/model_A_epoch_20.pth\n",
      "[I 2025-05-30 01:50:57,170] Trial 25 finished with value: 0.5328014184397163 and parameters: {'gnn_type': 'gin-virtual', 'loss_type': 'noisy_ce', 'graph_pooling': 'mean', 'dropout': 0.5207368884756977, 'num_layers': 6, 'embedding_dim': 600}. Best is trial 21 with value: 0.5625.\n",
      "gnn_type='gcn'\n",
      "loss_type='nosy_ce'\n",
      "graph_pooling='mean'\n",
      "drop_ratio=0.24746383514325093\n",
      "num_layers=8\n",
      "embedding_dim=128\n",
      "num_epochs=20\n"
     ]
    },
    {
     "data": {
      "application/vnd.jupyter.widget-view+json": {
       "model_id": "8f1e3ec4ed3c48aeadcf57b8a390287e",
       "version_major": 2,
       "version_minor": 0
      },
      "text/plain": [
       "Training...:   0%|          | 0/20 [00:00<?, ?it/s]"
      ]
     },
     "metadata": {},
     "output_type": "display_data"
    },
    {
     "name": "stdout",
     "output_type": "stream",
     "text": [
      "[checkpoint] saved: /home/haislich/Documents/noisy_labels/hackaton/checkpoints/A/model_A_epoch_4.pth\n",
      "[checkpoint] saved: /home/haislich/Documents/noisy_labels/hackaton/checkpoints/A/model_A_epoch_8.pth\n",
      "[checkpoint] saved: /home/haislich/Documents/noisy_labels/hackaton/checkpoints/A/model_A_epoch_12.pth\n",
      "[checkpoint] saved: /home/haislich/Documents/noisy_labels/hackaton/checkpoints/A/model_A_epoch_16.pth\n",
      "[I 2025-05-30 01:53:48,689] Trial 26 pruned. \n",
      "gnn_type='gcn'\n",
      "loss_type='nosy_ce'\n",
      "graph_pooling='mean'\n",
      "drop_ratio=0.08146175234444963\n",
      "num_layers=4\n",
      "embedding_dim=128\n",
      "num_epochs=20\n"
     ]
    },
    {
     "data": {
      "application/vnd.jupyter.widget-view+json": {
       "model_id": "ff49c34eb70d4df9911dce8806247eac",
       "version_major": 2,
       "version_minor": 0
      },
      "text/plain": [
       "Training...:   0%|          | 0/20 [00:00<?, ?it/s]"
      ]
     },
     "metadata": {},
     "output_type": "display_data"
    },
    {
     "name": "stdout",
     "output_type": "stream",
     "text": [
      "[checkpoint] saved: /home/haislich/Documents/noisy_labels/hackaton/checkpoints/A/model_A_epoch_4.pth\n",
      "[checkpoint] saved: /home/haislich/Documents/noisy_labels/hackaton/checkpoints/A/model_A_epoch_8.pth\n",
      "[checkpoint] saved: /home/haislich/Documents/noisy_labels/hackaton/checkpoints/A/model_A_epoch_12.pth\n",
      "[I 2025-05-30 01:55:10,944] Trial 27 pruned. \n",
      "gnn_type='gcn'\n",
      "loss_type='nosy_ce'\n",
      "graph_pooling='mean'\n",
      "drop_ratio=0.3930065599489021\n",
      "num_layers=7\n",
      "embedding_dim=600\n",
      "num_epochs=20\n"
     ]
    },
    {
     "data": {
      "application/vnd.jupyter.widget-view+json": {
       "model_id": "c09e039ba8c34a4c913e64f0d066f724",
       "version_major": 2,
       "version_minor": 0
      },
      "text/plain": [
       "Training...:   0%|          | 0/20 [00:00<?, ?it/s]"
      ]
     },
     "metadata": {},
     "output_type": "display_data"
    },
    {
     "name": "stdout",
     "output_type": "stream",
     "text": [
      "[checkpoint] saved: /home/haislich/Documents/noisy_labels/hackaton/checkpoints/A/model_A_epoch_4.pth\n",
      "[checkpoint] saved: /home/haislich/Documents/noisy_labels/hackaton/checkpoints/A/model_A_epoch_8.pth\n",
      "[checkpoint] saved: /home/haislich/Documents/noisy_labels/hackaton/checkpoints/A/model_A_epoch_12.pth\n",
      "Unhandled exception  CUDA out of memory. Tried to allocate 876.00 MiB. GPU 0 has a total capacity of 11.60 GiB of which 348.50 MiB is free. Process 6163 has 39.59 MiB memory in use. Including non-PyTorch memory, this process has 10.76 GiB memory in use. Of the allocated memory 8.92 GiB is allocated by PyTorch, and 1.62 GiB is reserved by PyTorch but unallocated. If reserved but unallocated memory is large try setting PYTORCH_CUDA_ALLOC_CONF=expandable_segments:True to avoid fragmentation.  See documentation for Memory Management  (https://pytorch.org/docs/stable/notes/cuda.html#environment-variables)\n",
      "[I 2025-05-30 02:04:02,263] Trial 28 finished with value: -inf and parameters: {'gnn_type': 'gcn', 'loss_type': 'noisy_ce', 'graph_pooling': 'mean', 'dropout': 0.3930065599489021, 'num_layers': 7, 'embedding_dim': 600}. Best is trial 21 with value: 0.5625.\n",
      "gnn_type='gcn'\n",
      "loss_type='nosy_ce'\n",
      "graph_pooling='mean'\n",
      "drop_ratio=0.34635219515109994\n",
      "num_layers=5\n",
      "embedding_dim=128\n",
      "num_epochs=20\n"
     ]
    },
    {
     "data": {
      "application/vnd.jupyter.widget-view+json": {
       "model_id": "a0bf05bd624e4d80ab088c966de135b0",
       "version_major": 2,
       "version_minor": 0
      },
      "text/plain": [
       "Training...:   0%|          | 0/20 [00:00<?, ?it/s]"
      ]
     },
     "metadata": {},
     "output_type": "display_data"
    },
    {
     "name": "stdout",
     "output_type": "stream",
     "text": [
      "[checkpoint] saved: /home/haislich/Documents/noisy_labels/hackaton/checkpoints/A/model_A_epoch_4.pth\n",
      "[checkpoint] saved: /home/haislich/Documents/noisy_labels/hackaton/checkpoints/A/model_A_epoch_8.pth\n",
      "[checkpoint] saved: /home/haislich/Documents/noisy_labels/hackaton/checkpoints/A/model_A_epoch_12.pth\n",
      "[checkpoint] saved: /home/haislich/Documents/noisy_labels/hackaton/checkpoints/A/model_A_epoch_16.pth\n",
      "[checkpoint] saved: /home/haislich/Documents/noisy_labels/hackaton/checkpoints/A/model_A_epoch_20.pth\n",
      "[I 2025-05-30 02:06:25,011] Trial 29 finished with value: 0.5363475177304965 and parameters: {'gnn_type': 'gcn', 'loss_type': 'ncod', 'graph_pooling': 'mean', 'dropout': 0.34635219515109994, 'num_layers': 5, 'embedding_dim': 128}. Best is trial 21 with value: 0.5625.\n",
      "gnn_type='gcn'\n",
      "loss_type='nosy_ce'\n",
      "graph_pooling='mean'\n",
      "drop_ratio=0.16190817023537335\n",
      "num_layers=10\n",
      "embedding_dim=64\n",
      "num_epochs=20\n"
     ]
    },
    {
     "data": {
      "application/vnd.jupyter.widget-view+json": {
       "model_id": "58aa3f5b32f54d6aa46123826fb94e4e",
       "version_major": 2,
       "version_minor": 0
      },
      "text/plain": [
       "Training...:   0%|          | 0/20 [00:00<?, ?it/s]"
      ]
     },
     "metadata": {},
     "output_type": "display_data"
    },
    {
     "name": "stdout",
     "output_type": "stream",
     "text": [
      "[checkpoint] saved: /home/haislich/Documents/noisy_labels/hackaton/checkpoints/A/model_A_epoch_4.pth\n",
      "[checkpoint] saved: /home/haislich/Documents/noisy_labels/hackaton/checkpoints/A/model_A_epoch_8.pth\n",
      "[checkpoint] saved: /home/haislich/Documents/noisy_labels/hackaton/checkpoints/A/model_A_epoch_12.pth\n",
      "[I 2025-05-30 02:08:12,524] Trial 30 pruned. \n",
      "gnn_type='gcn'\n",
      "loss_type='nosy_ce'\n",
      "graph_pooling='mean'\n",
      "drop_ratio=0.2810547917394414\n",
      "num_layers=7\n",
      "embedding_dim=300\n",
      "num_epochs=20\n"
     ]
    },
    {
     "data": {
      "application/vnd.jupyter.widget-view+json": {
       "model_id": "74884f2fdc5b4015afb962c5e32f72cd",
       "version_major": 2,
       "version_minor": 0
      },
      "text/plain": [
       "Training...:   0%|          | 0/20 [00:00<?, ?it/s]"
      ]
     },
     "metadata": {},
     "output_type": "display_data"
    },
    {
     "name": "stdout",
     "output_type": "stream",
     "text": [
      "[checkpoint] saved: /home/haislich/Documents/noisy_labels/hackaton/checkpoints/A/model_A_epoch_4.pth\n",
      "[checkpoint] saved: /home/haislich/Documents/noisy_labels/hackaton/checkpoints/A/model_A_epoch_8.pth\n",
      "[checkpoint] saved: /home/haislich/Documents/noisy_labels/hackaton/checkpoints/A/model_A_epoch_12.pth\n",
      "[checkpoint] saved: /home/haislich/Documents/noisy_labels/hackaton/checkpoints/A/model_A_epoch_16.pth\n",
      "[checkpoint] saved: /home/haislich/Documents/noisy_labels/hackaton/checkpoints/A/model_A_epoch_20.pth\n",
      "[I 2025-05-30 02:15:11,508] Trial 31 finished with value: 0.5483156028368794 and parameters: {'gnn_type': 'gin-virtual', 'loss_type': 'noisy_ce', 'graph_pooling': 'mean', 'dropout': 0.2810547917394414, 'num_layers': 7, 'embedding_dim': 300}. Best is trial 21 with value: 0.5625.\n",
      "gnn_type='gcn'\n",
      "loss_type='nosy_ce'\n",
      "graph_pooling='mean'\n",
      "drop_ratio=0.2221773505665741\n",
      "num_layers=6\n",
      "embedding_dim=300\n",
      "num_epochs=20\n"
     ]
    },
    {
     "data": {
      "application/vnd.jupyter.widget-view+json": {
       "model_id": "3fc68e6ba7504d96a5c08d42cabde649",
       "version_major": 2,
       "version_minor": 0
      },
      "text/plain": [
       "Training...:   0%|          | 0/20 [00:00<?, ?it/s]"
      ]
     },
     "metadata": {},
     "output_type": "display_data"
    },
    {
     "name": "stdout",
     "output_type": "stream",
     "text": [
      "[checkpoint] saved: /home/haislich/Documents/noisy_labels/hackaton/checkpoints/A/model_A_epoch_4.pth\n",
      "[checkpoint] saved: /home/haislich/Documents/noisy_labels/hackaton/checkpoints/A/model_A_epoch_8.pth\n",
      "[I 2025-05-30 02:18:31,506] Trial 32 pruned. \n",
      "gnn_type='gcn'\n",
      "loss_type='nosy_ce'\n",
      "graph_pooling='mean'\n",
      "drop_ratio=0.3520770177422366\n",
      "num_layers=8\n",
      "embedding_dim=128\n",
      "num_epochs=20\n"
     ]
    },
    {
     "data": {
      "application/vnd.jupyter.widget-view+json": {
       "model_id": "80ff3c2c29d74c8c8d707da1970ec7ee",
       "version_major": 2,
       "version_minor": 0
      },
      "text/plain": [
       "Training...:   0%|          | 0/20 [00:00<?, ?it/s]"
      ]
     },
     "metadata": {},
     "output_type": "display_data"
    },
    {
     "name": "stdout",
     "output_type": "stream",
     "text": [
      "[checkpoint] saved: /home/haislich/Documents/noisy_labels/hackaton/checkpoints/A/model_A_epoch_4.pth\n",
      "[checkpoint] saved: /home/haislich/Documents/noisy_labels/hackaton/checkpoints/A/model_A_epoch_8.pth\n",
      "[checkpoint] saved: /home/haislich/Documents/noisy_labels/hackaton/checkpoints/A/model_A_epoch_12.pth\n",
      "[I 2025-05-30 02:21:02,975] Trial 33 pruned. \n",
      "gnn_type='gcn'\n",
      "loss_type='nosy_ce'\n",
      "graph_pooling='mean'\n",
      "drop_ratio=0.27473974794878264\n",
      "num_layers=7\n",
      "embedding_dim=300\n",
      "num_epochs=20\n"
     ]
    },
    {
     "data": {
      "application/vnd.jupyter.widget-view+json": {
       "model_id": "15c5dc2ea03b4f8c872371e3fca1788a",
       "version_major": 2,
       "version_minor": 0
      },
      "text/plain": [
       "Training...:   0%|          | 0/20 [00:00<?, ?it/s]"
      ]
     },
     "metadata": {},
     "output_type": "display_data"
    },
    {
     "name": "stdout",
     "output_type": "stream",
     "text": [
      "[checkpoint] saved: /home/haislich/Documents/noisy_labels/hackaton/checkpoints/A/model_A_epoch_4.pth\n",
      "[checkpoint] saved: /home/haislich/Documents/noisy_labels/hackaton/checkpoints/A/model_A_epoch_8.pth\n",
      "[checkpoint] saved: /home/haislich/Documents/noisy_labels/hackaton/checkpoints/A/model_A_epoch_12.pth\n",
      "[checkpoint] saved: /home/haislich/Documents/noisy_labels/hackaton/checkpoints/A/model_A_epoch_16.pth\n",
      "[checkpoint] saved: /home/haislich/Documents/noisy_labels/hackaton/checkpoints/A/model_A_epoch_20.pth\n",
      "[I 2025-05-30 02:28:03,221] Trial 34 finished with value: 0.5177304964539007 and parameters: {'gnn_type': 'gcn', 'loss_type': 'ncod', 'graph_pooling': 'mean', 'dropout': 0.27473974794878264, 'num_layers': 7, 'embedding_dim': 300}. Best is trial 21 with value: 0.5625.\n",
      "gnn_type='gcn'\n",
      "loss_type='nosy_ce'\n",
      "graph_pooling='mean'\n",
      "drop_ratio=0.4072362823036999\n",
      "num_layers=6\n",
      "embedding_dim=300\n",
      "num_epochs=20\n"
     ]
    },
    {
     "data": {
      "application/vnd.jupyter.widget-view+json": {
       "model_id": "13017931b14944e4aaefaad0e2bfb43f",
       "version_major": 2,
       "version_minor": 0
      },
      "text/plain": [
       "Training...:   0%|          | 0/20 [00:00<?, ?it/s]"
      ]
     },
     "metadata": {},
     "output_type": "display_data"
    },
    {
     "name": "stdout",
     "output_type": "stream",
     "text": [
      "[checkpoint] saved: /home/haislich/Documents/noisy_labels/hackaton/checkpoints/A/model_A_epoch_4.pth\n",
      "[checkpoint] saved: /home/haislich/Documents/noisy_labels/hackaton/checkpoints/A/model_A_epoch_8.pth\n",
      "[checkpoint] saved: /home/haislich/Documents/noisy_labels/hackaton/checkpoints/A/model_A_epoch_12.pth\n",
      "[checkpoint] saved: /home/haislich/Documents/noisy_labels/hackaton/checkpoints/A/model_A_epoch_16.pth\n",
      "[checkpoint] saved: /home/haislich/Documents/noisy_labels/hackaton/checkpoints/A/model_A_epoch_20.pth\n",
      "[I 2025-05-30 02:34:07,063] Trial 35 finished with value: 0.5651595744680851 and parameters: {'gnn_type': 'gin-virtual', 'loss_type': 'noisy_ce', 'graph_pooling': 'mean', 'dropout': 0.4072362823036999, 'num_layers': 6, 'embedding_dim': 300}. Best is trial 35 with value: 0.5651595744680851.\n",
      "gnn_type='gcn'\n",
      "loss_type='nosy_ce'\n",
      "graph_pooling='mean'\n",
      "drop_ratio=0.41816370916410406\n",
      "num_layers=5\n",
      "embedding_dim=64\n",
      "num_epochs=20\n"
     ]
    },
    {
     "data": {
      "application/vnd.jupyter.widget-view+json": {
       "model_id": "06b4d0f2c4254d418cd10b30d77a54ac",
       "version_major": 2,
       "version_minor": 0
      },
      "text/plain": [
       "Training...:   0%|          | 0/20 [00:00<?, ?it/s]"
      ]
     },
     "metadata": {},
     "output_type": "display_data"
    },
    {
     "name": "stdout",
     "output_type": "stream",
     "text": [
      "[checkpoint] saved: /home/haislich/Documents/noisy_labels/hackaton/checkpoints/A/model_A_epoch_4.pth\n",
      "[checkpoint] saved: /home/haislich/Documents/noisy_labels/hackaton/checkpoints/A/model_A_epoch_8.pth\n",
      "[checkpoint] saved: /home/haislich/Documents/noisy_labels/hackaton/checkpoints/A/model_A_epoch_12.pth\n",
      "[checkpoint] saved: /home/haislich/Documents/noisy_labels/hackaton/checkpoints/A/model_A_epoch_16.pth\n",
      "[checkpoint] saved: /home/haislich/Documents/noisy_labels/hackaton/checkpoints/A/model_A_epoch_20.pth\n",
      "[I 2025-05-30 02:35:33,850] Trial 36 finished with value: 0.5372340425531915 and parameters: {'gnn_type': 'gcn-virtual', 'loss_type': 'ncod', 'graph_pooling': 'mean', 'dropout': 0.41816370916410406, 'num_layers': 5, 'embedding_dim': 64}. Best is trial 35 with value: 0.5651595744680851.\n",
      "gnn_type='gcn'\n",
      "loss_type='nosy_ce'\n",
      "graph_pooling='mean'\n",
      "drop_ratio=0.6881367722301215\n",
      "num_layers=11\n",
      "embedding_dim=600\n",
      "num_epochs=20\n"
     ]
    },
    {
     "data": {
      "application/vnd.jupyter.widget-view+json": {
       "model_id": "26bc199ce2e840eb9f767c0deefe455d",
       "version_major": 2,
       "version_minor": 0
      },
      "text/plain": [
       "Training...:   0%|          | 0/20 [00:00<?, ?it/s]"
      ]
     },
     "metadata": {},
     "output_type": "display_data"
    },
    {
     "name": "stdout",
     "output_type": "stream",
     "text": [
      "Unhandled exception  CUDA out of memory. Tried to allocate 712.00 MiB. GPU 0 has a total capacity of 11.60 GiB of which 420.31 MiB is free. Process 6163 has 39.59 MiB memory in use. Including non-PyTorch memory, this process has 10.76 GiB memory in use. Of the allocated memory 9.78 GiB is allocated by PyTorch, and 774.50 MiB is reserved by PyTorch but unallocated. If reserved but unallocated memory is large try setting PYTORCH_CUDA_ALLOC_CONF=expandable_segments:True to avoid fragmentation.  See documentation for Memory Management  (https://pytorch.org/docs/stable/notes/cuda.html#environment-variables)\n",
      "[I 2025-05-30 02:35:34,081] Trial 37 finished with value: -inf and parameters: {'gnn_type': 'gin-virtual', 'loss_type': 'noisy_ce', 'graph_pooling': 'max', 'dropout': 0.6881367722301215, 'num_layers': 11, 'embedding_dim': 600}. Best is trial 35 with value: 0.5651595744680851.\n",
      "gnn_type='gcn'\n",
      "loss_type='nosy_ce'\n",
      "graph_pooling='mean'\n",
      "drop_ratio=0.5871365865400695\n",
      "num_layers=3\n",
      "embedding_dim=300\n",
      "num_epochs=20\n"
     ]
    },
    {
     "data": {
      "application/vnd.jupyter.widget-view+json": {
       "model_id": "412fec78e2fc4c2bb81a62f5de2f36ec",
       "version_major": 2,
       "version_minor": 0
      },
      "text/plain": [
       "Training...:   0%|          | 0/20 [00:00<?, ?it/s]"
      ]
     },
     "metadata": {},
     "output_type": "display_data"
    },
    {
     "name": "stdout",
     "output_type": "stream",
     "text": [
      "[checkpoint] saved: /home/haislich/Documents/noisy_labels/hackaton/checkpoints/A/model_A_epoch_4.pth\n",
      "[checkpoint] saved: /home/haislich/Documents/noisy_labels/hackaton/checkpoints/A/model_A_epoch_8.pth\n",
      "[I 2025-05-30 02:37:19,524] Trial 38 pruned. \n",
      "gnn_type='gcn'\n",
      "loss_type='nosy_ce'\n",
      "graph_pooling='mean'\n",
      "drop_ratio=0.5039992589212196\n",
      "num_layers=6\n",
      "embedding_dim=128\n",
      "num_epochs=20\n"
     ]
    },
    {
     "data": {
      "application/vnd.jupyter.widget-view+json": {
       "model_id": "aac99fcb6d4e4adbb72576ff14aa902f",
       "version_major": 2,
       "version_minor": 0
      },
      "text/plain": [
       "Training...:   0%|          | 0/20 [00:00<?, ?it/s]"
      ]
     },
     "metadata": {},
     "output_type": "display_data"
    },
    {
     "name": "stdout",
     "output_type": "stream",
     "text": [
      "[checkpoint] saved: /home/haislich/Documents/noisy_labels/hackaton/checkpoints/A/model_A_epoch_4.pth\n",
      "[checkpoint] saved: /home/haislich/Documents/noisy_labels/hackaton/checkpoints/A/model_A_epoch_8.pth\n",
      "[checkpoint] saved: /home/haislich/Documents/noisy_labels/hackaton/checkpoints/A/model_A_epoch_12.pth\n",
      "[I 2025-05-30 02:39:16,167] Trial 39 pruned. \n",
      "gnn_type='gcn'\n",
      "loss_type='nosy_ce'\n",
      "graph_pooling='mean'\n",
      "drop_ratio=0.37417181372045555\n",
      "num_layers=9\n",
      "embedding_dim=300\n",
      "num_epochs=20\n"
     ]
    },
    {
     "data": {
      "application/vnd.jupyter.widget-view+json": {
       "model_id": "03ab4c7ae6cb497b8f097055020afa0a",
       "version_major": 2,
       "version_minor": 0
      },
      "text/plain": [
       "Training...:   0%|          | 0/20 [00:00<?, ?it/s]"
      ]
     },
     "metadata": {},
     "output_type": "display_data"
    },
    {
     "name": "stdout",
     "output_type": "stream",
     "text": [
      "[checkpoint] saved: /home/haislich/Documents/noisy_labels/hackaton/checkpoints/A/model_A_epoch_4.pth\n",
      "[checkpoint] saved: /home/haislich/Documents/noisy_labels/hackaton/checkpoints/A/model_A_epoch_8.pth\n",
      "[checkpoint] saved: /home/haislich/Documents/noisy_labels/hackaton/checkpoints/A/model_A_epoch_12.pth\n",
      "[I 2025-05-30 02:45:30,662] Trial 40 pruned. \n",
      "gnn_type='gcn'\n",
      "loss_type='nosy_ce'\n",
      "graph_pooling='mean'\n",
      "drop_ratio=0.22164800112937094\n",
      "num_layers=8\n",
      "embedding_dim=300\n",
      "num_epochs=20\n"
     ]
    },
    {
     "data": {
      "application/vnd.jupyter.widget-view+json": {
       "model_id": "75aee6f38655463b903028a40107878e",
       "version_major": 2,
       "version_minor": 0
      },
      "text/plain": [
       "Training...:   0%|          | 0/20 [00:00<?, ?it/s]"
      ]
     },
     "metadata": {},
     "output_type": "display_data"
    },
    {
     "name": "stdout",
     "output_type": "stream",
     "text": [
      "[checkpoint] saved: /home/haislich/Documents/noisy_labels/hackaton/checkpoints/A/model_A_epoch_4.pth\n",
      "[checkpoint] saved: /home/haislich/Documents/noisy_labels/hackaton/checkpoints/A/model_A_epoch_8.pth\n",
      "[checkpoint] saved: /home/haislich/Documents/noisy_labels/hackaton/checkpoints/A/model_A_epoch_12.pth\n",
      "[checkpoint] saved: /home/haislich/Documents/noisy_labels/hackaton/checkpoints/A/model_A_epoch_16.pth\n",
      "[I 2025-05-30 02:52:14,225] Trial 41 pruned. \n",
      "gnn_type='gcn'\n",
      "loss_type='nosy_ce'\n",
      "graph_pooling='mean'\n",
      "drop_ratio=0.3148666996265152\n",
      "num_layers=7\n",
      "embedding_dim=300\n",
      "num_epochs=20\n"
     ]
    },
    {
     "data": {
      "application/vnd.jupyter.widget-view+json": {
       "model_id": "5d3bfdbc5e3442d9990d52e7dbd766c4",
       "version_major": 2,
       "version_minor": 0
      },
      "text/plain": [
       "Training...:   0%|          | 0/20 [00:00<?, ?it/s]"
      ]
     },
     "metadata": {},
     "output_type": "display_data"
    },
    {
     "name": "stdout",
     "output_type": "stream",
     "text": [
      "[checkpoint] saved: /home/haislich/Documents/noisy_labels/hackaton/checkpoints/A/model_A_epoch_4.pth\n",
      "[checkpoint] saved: /home/haislich/Documents/noisy_labels/hackaton/checkpoints/A/model_A_epoch_8.pth\n",
      "[checkpoint] saved: /home/haislich/Documents/noisy_labels/hackaton/checkpoints/A/model_A_epoch_12.pth\n",
      "[checkpoint] saved: /home/haislich/Documents/noisy_labels/hackaton/checkpoints/A/model_A_epoch_16.pth\n",
      "[I 2025-05-30 02:58:10,078] Trial 42 pruned. \n",
      "gnn_type='gcn'\n",
      "loss_type='nosy_ce'\n",
      "graph_pooling='mean'\n",
      "drop_ratio=0.2520074816856076\n",
      "num_layers=6\n",
      "embedding_dim=300\n",
      "num_epochs=20\n"
     ]
    },
    {
     "data": {
      "application/vnd.jupyter.widget-view+json": {
       "model_id": "06b6e341bca546a291530efdee86116e",
       "version_major": 2,
       "version_minor": 0
      },
      "text/plain": [
       "Training...:   0%|          | 0/20 [00:00<?, ?it/s]"
      ]
     },
     "metadata": {},
     "output_type": "display_data"
    },
    {
     "name": "stdout",
     "output_type": "stream",
     "text": [
      "[checkpoint] saved: /home/haislich/Documents/noisy_labels/hackaton/checkpoints/A/model_A_epoch_4.pth\n",
      "[checkpoint] saved: /home/haislich/Documents/noisy_labels/hackaton/checkpoints/A/model_A_epoch_8.pth\n",
      "[checkpoint] saved: /home/haislich/Documents/noisy_labels/hackaton/checkpoints/A/model_A_epoch_12.pth\n",
      "[checkpoint] saved: /home/haislich/Documents/noisy_labels/hackaton/checkpoints/A/model_A_epoch_16.pth\n",
      "[checkpoint] saved: /home/haislich/Documents/noisy_labels/hackaton/checkpoints/A/model_A_epoch_20.pth\n",
      "[I 2025-05-30 03:04:12,505] Trial 43 finished with value: 0.5283687943262412 and parameters: {'gnn_type': 'gin-virtual', 'loss_type': 'ncod', 'graph_pooling': 'sum', 'dropout': 0.2520074816856076, 'num_layers': 6, 'embedding_dim': 300}. Best is trial 35 with value: 0.5651595744680851.\n",
      "gnn_type='gcn'\n",
      "loss_type='nosy_ce'\n",
      "graph_pooling='mean'\n",
      "drop_ratio=0.1933012601371849\n",
      "num_layers=7\n",
      "embedding_dim=300\n",
      "num_epochs=20\n"
     ]
    },
    {
     "data": {
      "application/vnd.jupyter.widget-view+json": {
       "model_id": "07837bacc1b847538aebdf112e8da594",
       "version_major": 2,
       "version_minor": 0
      },
      "text/plain": [
       "Training...:   0%|          | 0/20 [00:00<?, ?it/s]"
      ]
     },
     "metadata": {},
     "output_type": "display_data"
    },
    {
     "name": "stdout",
     "output_type": "stream",
     "text": [
      "[checkpoint] saved: /home/haislich/Documents/noisy_labels/hackaton/checkpoints/A/model_A_epoch_4.pth\n",
      "[checkpoint] saved: /home/haislich/Documents/noisy_labels/hackaton/checkpoints/A/model_A_epoch_8.pth\n",
      "[checkpoint] saved: /home/haislich/Documents/noisy_labels/hackaton/checkpoints/A/model_A_epoch_12.pth\n",
      "[checkpoint] saved: /home/haislich/Documents/noisy_labels/hackaton/checkpoints/A/model_A_epoch_16.pth\n",
      "[checkpoint] saved: /home/haislich/Documents/noisy_labels/hackaton/checkpoints/A/model_A_epoch_20.pth\n",
      "[I 2025-05-30 03:11:11,695] Trial 44 finished with value: 0.5354609929078015 and parameters: {'gnn_type': 'gin-virtual', 'loss_type': 'ncod', 'graph_pooling': 'mean', 'dropout': 0.1933012601371849, 'num_layers': 7, 'embedding_dim': 300}. Best is trial 35 with value: 0.5651595744680851.\n",
      "gnn_type='gcn'\n",
      "loss_type='nosy_ce'\n",
      "graph_pooling='mean'\n",
      "drop_ratio=0.36381678967252495\n",
      "num_layers=6\n",
      "embedding_dim=300\n",
      "num_epochs=20\n"
     ]
    },
    {
     "data": {
      "application/vnd.jupyter.widget-view+json": {
       "model_id": "63a216a4754146e7b2c1eadb36731ec6",
       "version_major": 2,
       "version_minor": 0
      },
      "text/plain": [
       "Training...:   0%|          | 0/20 [00:00<?, ?it/s]"
      ]
     },
     "metadata": {},
     "output_type": "display_data"
    },
    {
     "name": "stdout",
     "output_type": "stream",
     "text": [
      "[checkpoint] saved: /home/haislich/Documents/noisy_labels/hackaton/checkpoints/A/model_A_epoch_4.pth\n",
      "[checkpoint] saved: /home/haislich/Documents/noisy_labels/hackaton/checkpoints/A/model_A_epoch_8.pth\n",
      "[checkpoint] saved: /home/haislich/Documents/noisy_labels/hackaton/checkpoints/A/model_A_epoch_12.pth\n",
      "[I 2025-05-30 03:15:25,867] Trial 45 pruned. \n",
      "gnn_type='gcn'\n",
      "loss_type='nosy_ce'\n",
      "graph_pooling='mean'\n",
      "drop_ratio=0.29004819039295937\n",
      "num_layers=5\n",
      "embedding_dim=600\n",
      "num_epochs=20\n"
     ]
    },
    {
     "data": {
      "application/vnd.jupyter.widget-view+json": {
       "model_id": "50a6734d6e1947b4b764fda578b3fa7b",
       "version_major": 2,
       "version_minor": 0
      },
      "text/plain": [
       "Training...:   0%|          | 0/20 [00:00<?, ?it/s]"
      ]
     },
     "metadata": {},
     "output_type": "display_data"
    },
    {
     "name": "stdout",
     "output_type": "stream",
     "text": [
      "[checkpoint] saved: /home/haislich/Documents/noisy_labels/hackaton/checkpoints/A/model_A_epoch_4.pth\n",
      "[checkpoint] saved: /home/haislich/Documents/noisy_labels/hackaton/checkpoints/A/model_A_epoch_8.pth\n",
      "[checkpoint] saved: /home/haislich/Documents/noisy_labels/hackaton/checkpoints/A/model_A_epoch_12.pth\n",
      "[checkpoint] saved: /home/haislich/Documents/noisy_labels/hackaton/checkpoints/A/model_A_epoch_16.pth\n",
      "[checkpoint] saved: /home/haislich/Documents/noisy_labels/hackaton/checkpoints/A/model_A_epoch_20.pth\n",
      "[I 2025-05-30 03:25:32,458] Trial 46 finished with value: 0.511968085106383 and parameters: {'gnn_type': 'gin-virtual', 'loss_type': 'noisy_ce', 'graph_pooling': 'mean', 'dropout': 0.29004819039295937, 'num_layers': 5, 'embedding_dim': 600}. Best is trial 35 with value: 0.5651595744680851.\n",
      "gnn_type='gcn'\n",
      "loss_type='nosy_ce'\n",
      "graph_pooling='mean'\n",
      "drop_ratio=0.42275661399560793\n",
      "num_layers=8\n",
      "embedding_dim=300\n",
      "num_epochs=20\n"
     ]
    },
    {
     "data": {
      "application/vnd.jupyter.widget-view+json": {
       "model_id": "6b3ee5b5c3854d46bb5e18ae8326f27d",
       "version_major": 2,
       "version_minor": 0
      },
      "text/plain": [
       "Training...:   0%|          | 0/20 [00:00<?, ?it/s]"
      ]
     },
     "metadata": {},
     "output_type": "display_data"
    },
    {
     "name": "stdout",
     "output_type": "stream",
     "text": [
      "[checkpoint] saved: /home/haislich/Documents/noisy_labels/hackaton/checkpoints/A/model_A_epoch_4.pth\n",
      "[checkpoint] saved: /home/haislich/Documents/noisy_labels/hackaton/checkpoints/A/model_A_epoch_8.pth\n",
      "[checkpoint] saved: /home/haislich/Documents/noisy_labels/hackaton/checkpoints/A/model_A_epoch_12.pth\n",
      "[I 2025-05-30 03:31:05,173] Trial 47 pruned. \n",
      "gnn_type='gcn'\n",
      "loss_type='nosy_ce'\n",
      "graph_pooling='mean'\n",
      "drop_ratio=0.3308790879457874\n",
      "num_layers=7\n",
      "embedding_dim=64\n",
      "num_epochs=20\n"
     ]
    },
    {
     "data": {
      "application/vnd.jupyter.widget-view+json": {
       "model_id": "efa11a7f4eda4ea7901600544b85ef5e",
       "version_major": 2,
       "version_minor": 0
      },
      "text/plain": [
       "Training...:   0%|          | 0/20 [00:00<?, ?it/s]"
      ]
     },
     "metadata": {},
     "output_type": "display_data"
    },
    {
     "name": "stdout",
     "output_type": "stream",
     "text": [
      "[checkpoint] saved: /home/haislich/Documents/noisy_labels/hackaton/checkpoints/A/model_A_epoch_4.pth\n",
      "[checkpoint] saved: /home/haislich/Documents/noisy_labels/hackaton/checkpoints/A/model_A_epoch_8.pth\n",
      "[checkpoint] saved: /home/haislich/Documents/noisy_labels/hackaton/checkpoints/A/model_A_epoch_12.pth\n",
      "[checkpoint] saved: /home/haislich/Documents/noisy_labels/hackaton/checkpoints/A/model_A_epoch_16.pth\n",
      "[checkpoint] saved: /home/haislich/Documents/noisy_labels/hackaton/checkpoints/A/model_A_epoch_20.pth\n",
      "[I 2025-05-30 03:32:57,973] Trial 48 finished with value: 0.5443262411347518 and parameters: {'gnn_type': 'gin-virtual', 'loss_type': 'ncod', 'graph_pooling': 'mean', 'dropout': 0.3308790879457874, 'num_layers': 7, 'embedding_dim': 64}. Best is trial 35 with value: 0.5651595744680851.\n",
      "gnn_type='gcn'\n",
      "loss_type='nosy_ce'\n",
      "graph_pooling='mean'\n",
      "drop_ratio=0.12192323172857063\n",
      "num_layers=4\n",
      "embedding_dim=300\n",
      "num_epochs=20\n"
     ]
    },
    {
     "data": {
      "application/vnd.jupyter.widget-view+json": {
       "model_id": "862343e2b5334db5b755ce7d4b24731d",
       "version_major": 2,
       "version_minor": 0
      },
      "text/plain": [
       "Training...:   0%|          | 0/20 [00:00<?, ?it/s]"
      ]
     },
     "metadata": {},
     "output_type": "display_data"
    },
    {
     "name": "stdout",
     "output_type": "stream",
     "text": [
      "[checkpoint] saved: /home/haislich/Documents/noisy_labels/hackaton/checkpoints/A/model_A_epoch_4.pth\n",
      "[checkpoint] saved: /home/haislich/Documents/noisy_labels/hackaton/checkpoints/A/model_A_epoch_8.pth\n",
      "[I 2025-05-30 03:35:14,761] Trial 49 pruned. \n",
      "gnn_type='gcn'\n",
      "loss_type='nosy_ce'\n",
      "graph_pooling='mean'\n",
      "drop_ratio=0.22081562484512873\n",
      "num_layers=6\n",
      "embedding_dim=128\n",
      "num_epochs=20\n"
     ]
    },
    {
     "data": {
      "application/vnd.jupyter.widget-view+json": {
       "model_id": "071e8a943e18429ba1067843c2debcc8",
       "version_major": 2,
       "version_minor": 0
      },
      "text/plain": [
       "Training...:   0%|          | 0/20 [00:00<?, ?it/s]"
      ]
     },
     "metadata": {},
     "output_type": "display_data"
    },
    {
     "name": "stdout",
     "output_type": "stream",
     "text": [
      "[checkpoint] saved: /home/haislich/Documents/noisy_labels/hackaton/checkpoints/A/model_A_epoch_4.pth\n",
      "[checkpoint] saved: /home/haislich/Documents/noisy_labels/hackaton/checkpoints/A/model_A_epoch_8.pth\n",
      "[checkpoint] saved: /home/haislich/Documents/noisy_labels/hackaton/checkpoints/A/model_A_epoch_12.pth\n",
      "[I 2025-05-30 03:37:11,550] Trial 50 pruned. \n",
      "gnn_type='gcn'\n",
      "loss_type='nosy_ce'\n",
      "graph_pooling='mean'\n",
      "drop_ratio=0.2609062177420138\n",
      "num_layers=12\n",
      "embedding_dim=300\n",
      "num_epochs=20\n"
     ]
    },
    {
     "data": {
      "application/vnd.jupyter.widget-view+json": {
       "model_id": "b5f84ba8a3e640e882899e0a1c286e99",
       "version_major": 2,
       "version_minor": 0
      },
      "text/plain": [
       "Training...:   0%|          | 0/20 [00:00<?, ?it/s]"
      ]
     },
     "metadata": {},
     "output_type": "display_data"
    },
    {
     "name": "stdout",
     "output_type": "stream",
     "text": [
      "[checkpoint] saved: /home/haislich/Documents/noisy_labels/hackaton/checkpoints/A/model_A_epoch_4.pth\n",
      "[checkpoint] saved: /home/haislich/Documents/noisy_labels/hackaton/checkpoints/A/model_A_epoch_8.pth\n",
      "[checkpoint] saved: /home/haislich/Documents/noisy_labels/hackaton/checkpoints/A/model_A_epoch_12.pth\n",
      "[checkpoint] saved: /home/haislich/Documents/noisy_labels/hackaton/checkpoints/A/model_A_epoch_16.pth\n",
      "[checkpoint] saved: /home/haislich/Documents/noisy_labels/hackaton/checkpoints/A/model_A_epoch_20.pth\n",
      "[I 2025-05-30 03:48:55,144] Trial 51 finished with value: 0.5625 and parameters: {'gnn_type': 'gcn-virtual', 'loss_type': 'sce', 'graph_pooling': 'sum', 'dropout': 0.2609062177420138, 'num_layers': 12, 'embedding_dim': 300}. Best is trial 35 with value: 0.5651595744680851.\n",
      "gnn_type='gcn'\n",
      "loss_type='nosy_ce'\n",
      "graph_pooling='mean'\n",
      "drop_ratio=0.2529261458211114\n",
      "num_layers=12\n",
      "embedding_dim=300\n",
      "num_epochs=20\n"
     ]
    },
    {
     "data": {
      "application/vnd.jupyter.widget-view+json": {
       "model_id": "592c1e88e4844ddc8ba43175ef59a8f3",
       "version_major": 2,
       "version_minor": 0
      },
      "text/plain": [
       "Training...:   0%|          | 0/20 [00:00<?, ?it/s]"
      ]
     },
     "metadata": {},
     "output_type": "display_data"
    },
    {
     "name": "stdout",
     "output_type": "stream",
     "text": [
      "[checkpoint] saved: /home/haislich/Documents/noisy_labels/hackaton/checkpoints/A/model_A_epoch_4.pth\n",
      "[checkpoint] saved: /home/haislich/Documents/noisy_labels/hackaton/checkpoints/A/model_A_epoch_8.pth\n",
      "[checkpoint] saved: /home/haislich/Documents/noisy_labels/hackaton/checkpoints/A/model_A_epoch_12.pth\n",
      "Unhandled exception  CUDA out of memory. Tried to allocate 464.00 MiB. GPU 0 has a total capacity of 11.60 GiB of which 400.88 MiB is free. Process 6163 has 39.59 MiB memory in use. Including non-PyTorch memory, this process has 10.78 GiB memory in use. Of the allocated memory 6.26 GiB is allocated by PyTorch, and 4.30 GiB is reserved by PyTorch but unallocated. If reserved but unallocated memory is large try setting PYTORCH_CUDA_ALLOC_CONF=expandable_segments:True to avoid fragmentation.  See documentation for Memory Management  (https://pytorch.org/docs/stable/notes/cuda.html#environment-variables)\n",
      "[I 2025-05-30 03:57:40,243] Trial 52 finished with value: -inf and parameters: {'gnn_type': 'gcn-virtual', 'loss_type': 'sce', 'graph_pooling': 'mean', 'dropout': 0.2529261458211114, 'num_layers': 12, 'embedding_dim': 300}. Best is trial 35 with value: 0.5651595744680851.\n",
      "gnn_type='gcn'\n",
      "loss_type='nosy_ce'\n",
      "graph_pooling='mean'\n",
      "drop_ratio=0.30469408938373754\n",
      "num_layers=12\n",
      "embedding_dim=300\n",
      "num_epochs=20\n"
     ]
    },
    {
     "data": {
      "application/vnd.jupyter.widget-view+json": {
       "model_id": "7e15bef7422c4302bd7143ab2935435d",
       "version_major": 2,
       "version_minor": 0
      },
      "text/plain": [
       "Training...:   0%|          | 0/20 [00:00<?, ?it/s]"
      ]
     },
     "metadata": {},
     "output_type": "display_data"
    },
    {
     "name": "stdout",
     "output_type": "stream",
     "text": [
      "[checkpoint] saved: /home/haislich/Documents/noisy_labels/hackaton/checkpoints/A/model_A_epoch_4.pth\n",
      "[checkpoint] saved: /home/haislich/Documents/noisy_labels/hackaton/checkpoints/A/model_A_epoch_8.pth\n",
      "[checkpoint] saved: /home/haislich/Documents/noisy_labels/hackaton/checkpoints/A/model_A_epoch_12.pth\n",
      "[I 2025-05-30 04:05:51,971] Trial 53 pruned. \n",
      "gnn_type='gcn'\n",
      "loss_type='nosy_ce'\n",
      "graph_pooling='mean'\n",
      "drop_ratio=0.19110145933528916\n",
      "num_layers=11\n",
      "embedding_dim=300\n",
      "num_epochs=20\n"
     ]
    },
    {
     "data": {
      "application/vnd.jupyter.widget-view+json": {
       "model_id": "64e4ac28545540d1a69f8b5eaadadfb9",
       "version_major": 2,
       "version_minor": 0
      },
      "text/plain": [
       "Training...:   0%|          | 0/20 [00:00<?, ?it/s]"
      ]
     },
     "metadata": {},
     "output_type": "display_data"
    },
    {
     "name": "stdout",
     "output_type": "stream",
     "text": [
      "[checkpoint] saved: /home/haislich/Documents/noisy_labels/hackaton/checkpoints/A/model_A_epoch_4.pth\n",
      "[checkpoint] saved: /home/haislich/Documents/noisy_labels/hackaton/checkpoints/A/model_A_epoch_8.pth\n",
      "[checkpoint] saved: /home/haislich/Documents/noisy_labels/hackaton/checkpoints/A/model_A_epoch_12.pth\n",
      "[checkpoint] saved: /home/haislich/Documents/noisy_labels/hackaton/checkpoints/A/model_A_epoch_16.pth\n",
      "[checkpoint] saved: /home/haislich/Documents/noisy_labels/hackaton/checkpoints/A/model_A_epoch_20.pth\n",
      "[I 2025-05-30 04:16:35,817] Trial 54 finished with value: 0.535904255319149 and parameters: {'gnn_type': 'gcn-virtual', 'loss_type': 'ncod', 'graph_pooling': 'mean', 'dropout': 0.19110145933528916, 'num_layers': 11, 'embedding_dim': 300}. Best is trial 35 with value: 0.5651595744680851.\n",
      "gnn_type='gcn'\n",
      "loss_type='nosy_ce'\n",
      "graph_pooling='mean'\n",
      "drop_ratio=0.32169361121207807\n",
      "num_layers=11\n",
      "embedding_dim=600\n",
      "num_epochs=20\n"
     ]
    },
    {
     "data": {
      "application/vnd.jupyter.widget-view+json": {
       "model_id": "854149ab8ba1436b96184a94597e6539",
       "version_major": 2,
       "version_minor": 0
      },
      "text/plain": [
       "Training...:   0%|          | 0/20 [00:00<?, ?it/s]"
      ]
     },
     "metadata": {},
     "output_type": "display_data"
    },
    {
     "name": "stdout",
     "output_type": "stream",
     "text": [
      "Unhandled exception  CUDA out of memory. Tried to allocate 644.00 MiB. GPU 0 has a total capacity of 11.60 GiB of which 421.44 MiB is free. Process 6163 has 39.59 MiB memory in use. Including non-PyTorch memory, this process has 10.76 GiB memory in use. Of the allocated memory 8.92 GiB is allocated by PyTorch, and 1.62 GiB is reserved by PyTorch but unallocated. If reserved but unallocated memory is large try setting PYTORCH_CUDA_ALLOC_CONF=expandable_segments:True to avoid fragmentation.  See documentation for Memory Management  (https://pytorch.org/docs/stable/notes/cuda.html#environment-variables)\n",
      "[I 2025-05-30 04:16:36,035] Trial 55 finished with value: -inf and parameters: {'gnn_type': 'gcn-virtual', 'loss_type': 'ncod', 'graph_pooling': 'attention', 'dropout': 0.32169361121207807, 'num_layers': 11, 'embedding_dim': 600}. Best is trial 35 with value: 0.5651595744680851.\n",
      "gnn_type='gcn'\n",
      "loss_type='nosy_ce'\n",
      "graph_pooling='mean'\n",
      "drop_ratio=0.16002306334521826\n",
      "num_layers=5\n",
      "embedding_dim=300\n",
      "num_epochs=20\n"
     ]
    },
    {
     "data": {
      "application/vnd.jupyter.widget-view+json": {
       "model_id": "681b44b5d4de4308972274d2916564e5",
       "version_major": 2,
       "version_minor": 0
      },
      "text/plain": [
       "Training...:   0%|          | 0/20 [00:00<?, ?it/s]"
      ]
     },
     "metadata": {},
     "output_type": "display_data"
    },
    {
     "name": "stdout",
     "output_type": "stream",
     "text": [
      "[checkpoint] saved: /home/haislich/Documents/noisy_labels/hackaton/checkpoints/A/model_A_epoch_4.pth\n",
      "[checkpoint] saved: /home/haislich/Documents/noisy_labels/hackaton/checkpoints/A/model_A_epoch_8.pth\n",
      "[checkpoint] saved: /home/haislich/Documents/noisy_labels/hackaton/checkpoints/A/model_A_epoch_12.pth\n",
      "[checkpoint] saved: /home/haislich/Documents/noisy_labels/hackaton/checkpoints/A/model_A_epoch_16.pth\n",
      "[checkpoint] saved: /home/haislich/Documents/noisy_labels/hackaton/checkpoints/A/model_A_epoch_20.pth\n",
      "[I 2025-05-30 04:21:41,186] Trial 56 finished with value: 0.5407801418439716 and parameters: {'gnn_type': 'gin-virtual', 'loss_type': 'ncod', 'graph_pooling': 'attention', 'dropout': 0.16002306334521826, 'num_layers': 5, 'embedding_dim': 300}. Best is trial 35 with value: 0.5651595744680851.\n",
      "gnn_type='gcn'\n",
      "loss_type='nosy_ce'\n",
      "graph_pooling='mean'\n",
      "drop_ratio=0.26601630193891596\n",
      "num_layers=10\n",
      "embedding_dim=300\n",
      "num_epochs=20\n"
     ]
    },
    {
     "data": {
      "application/vnd.jupyter.widget-view+json": {
       "model_id": "bae04c6e5f0e42ad9569dd369ca2c728",
       "version_major": 2,
       "version_minor": 0
      },
      "text/plain": [
       "Training...:   0%|          | 0/20 [00:00<?, ?it/s]"
      ]
     },
     "metadata": {},
     "output_type": "display_data"
    },
    {
     "name": "stdout",
     "output_type": "stream",
     "text": [
      "[checkpoint] saved: /home/haislich/Documents/noisy_labels/hackaton/checkpoints/A/model_A_epoch_4.pth\n",
      "[checkpoint] saved: /home/haislich/Documents/noisy_labels/hackaton/checkpoints/A/model_A_epoch_8.pth\n",
      "[checkpoint] saved: /home/haislich/Documents/noisy_labels/hackaton/checkpoints/A/model_A_epoch_12.pth\n",
      "[I 2025-05-30 04:27:35,507] Trial 57 pruned. \n",
      "gnn_type='gcn'\n",
      "loss_type='nosy_ce'\n",
      "graph_pooling='mean'\n",
      "drop_ratio=0.2338271585810669\n",
      "num_layers=5\n",
      "embedding_dim=600\n",
      "num_epochs=20\n"
     ]
    },
    {
     "data": {
      "application/vnd.jupyter.widget-view+json": {
       "model_id": "692ab1d147684bd5b57ed8f16e581c64",
       "version_major": 2,
       "version_minor": 0
      },
      "text/plain": [
       "Training...:   0%|          | 0/20 [00:00<?, ?it/s]"
      ]
     },
     "metadata": {},
     "output_type": "display_data"
    },
    {
     "name": "stdout",
     "output_type": "stream",
     "text": [
      "[checkpoint] saved: /home/haislich/Documents/noisy_labels/hackaton/checkpoints/A/model_A_epoch_4.pth\n",
      "[checkpoint] saved: /home/haislich/Documents/noisy_labels/hackaton/checkpoints/A/model_A_epoch_8.pth\n",
      "[checkpoint] saved: /home/haislich/Documents/noisy_labels/hackaton/checkpoints/A/model_A_epoch_12.pth\n",
      "[checkpoint] saved: /home/haislich/Documents/noisy_labels/hackaton/checkpoints/A/model_A_epoch_16.pth\n",
      "[I 2025-05-30 04:36:08,225] Trial 58 pruned. \n",
      "gnn_type='gcn'\n",
      "loss_type='nosy_ce'\n",
      "graph_pooling='mean'\n",
      "drop_ratio=0.37682350934254916\n",
      "num_layers=6\n",
      "embedding_dim=128\n",
      "num_epochs=20\n"
     ]
    },
    {
     "data": {
      "application/vnd.jupyter.widget-view+json": {
       "model_id": "d6c15c3489764c71bf769931a0a1359b",
       "version_major": 2,
       "version_minor": 0
      },
      "text/plain": [
       "Training...:   0%|          | 0/20 [00:00<?, ?it/s]"
      ]
     },
     "metadata": {},
     "output_type": "display_data"
    },
    {
     "name": "stdout",
     "output_type": "stream",
     "text": [
      "[checkpoint] saved: /home/haislich/Documents/noisy_labels/hackaton/checkpoints/A/model_A_epoch_4.pth\n",
      "[checkpoint] saved: /home/haislich/Documents/noisy_labels/hackaton/checkpoints/A/model_A_epoch_8.pth\n",
      "[checkpoint] saved: /home/haislich/Documents/noisy_labels/hackaton/checkpoints/A/model_A_epoch_12.pth\n",
      "[checkpoint] saved: /home/haislich/Documents/noisy_labels/hackaton/checkpoints/A/model_A_epoch_16.pth\n",
      "[checkpoint] saved: /home/haislich/Documents/noisy_labels/hackaton/checkpoints/A/model_A_epoch_20.pth\n",
      "[I 2025-05-30 04:38:54,585] Trial 59 finished with value: 0.5270390070921985 and parameters: {'gnn_type': 'gin-virtual', 'loss_type': 'ncod', 'graph_pooling': 'mean', 'dropout': 0.37682350934254916, 'num_layers': 6, 'embedding_dim': 128}. Best is trial 35 with value: 0.5651595744680851.\n",
      "\n",
      "All trials saved to: /home/haislich/Documents/noisy_labels/hackaton/logs/A/optuna_summary_A.csv\n",
      "\n",
      "Best result for dataset A:\n"
     ]
    },
    {
     "data": {
      "text/html": [
       "<div>\n",
       "<style scoped>\n",
       "    .dataframe tbody tr th:only-of-type {\n",
       "        vertical-align: middle;\n",
       "    }\n",
       "\n",
       "    .dataframe tbody tr th {\n",
       "        vertical-align: top;\n",
       "    }\n",
       "\n",
       "    .dataframe thead th {\n",
       "        text-align: right;\n",
       "    }\n",
       "</style>\n",
       "<table border=\"1\" class=\"dataframe\">\n",
       "  <thead>\n",
       "    <tr style=\"text-align: right;\">\n",
       "      <th></th>\n",
       "      <th>accuracy</th>\n",
       "      <th>gnn_type</th>\n",
       "      <th>loss_type</th>\n",
       "      <th>graph_pooling</th>\n",
       "      <th>dropout</th>\n",
       "      <th>num_layers</th>\n",
       "      <th>embedding_dim</th>\n",
       "    </tr>\n",
       "  </thead>\n",
       "  <tbody>\n",
       "    <tr>\n",
       "      <th>21</th>\n",
       "      <td>0.565160</td>\n",
       "      <td>gin-virtual</td>\n",
       "      <td>noisy_ce</td>\n",
       "      <td>mean</td>\n",
       "      <td>0.407236</td>\n",
       "      <td>6</td>\n",
       "      <td>300</td>\n",
       "    </tr>\n",
       "    <tr>\n",
       "      <th>13</th>\n",
       "      <td>0.562500</td>\n",
       "      <td>gin-virtual</td>\n",
       "      <td>ncod</td>\n",
       "      <td>sum</td>\n",
       "      <td>0.282099</td>\n",
       "      <td>6</td>\n",
       "      <td>600</td>\n",
       "    </tr>\n",
       "    <tr>\n",
       "      <th>28</th>\n",
       "      <td>0.562500</td>\n",
       "      <td>gcn-virtual</td>\n",
       "      <td>sce</td>\n",
       "      <td>sum</td>\n",
       "      <td>0.260906</td>\n",
       "      <td>12</td>\n",
       "      <td>300</td>\n",
       "    </tr>\n",
       "    <tr>\n",
       "      <th>7</th>\n",
       "      <td>0.554078</td>\n",
       "      <td>gin-virtual</td>\n",
       "      <td>ncod</td>\n",
       "      <td>sum</td>\n",
       "      <td>0.237048</td>\n",
       "      <td>6</td>\n",
       "      <td>300</td>\n",
       "    </tr>\n",
       "    <tr>\n",
       "      <th>12</th>\n",
       "      <td>0.553635</td>\n",
       "      <td>gin-virtual</td>\n",
       "      <td>ncod</td>\n",
       "      <td>max</td>\n",
       "      <td>0.295029</td>\n",
       "      <td>8</td>\n",
       "      <td>128</td>\n",
       "    </tr>\n",
       "    <tr>\n",
       "      <th>6</th>\n",
       "      <td>0.552748</td>\n",
       "      <td>gin-virtual</td>\n",
       "      <td>noisy_ce</td>\n",
       "      <td>sum</td>\n",
       "      <td>0.267366</td>\n",
       "      <td>7</td>\n",
       "      <td>300</td>\n",
       "    </tr>\n",
       "    <tr>\n",
       "      <th>3</th>\n",
       "      <td>0.550532</td>\n",
       "      <td>gcn-virtual</td>\n",
       "      <td>sce</td>\n",
       "      <td>mean</td>\n",
       "      <td>0.200908</td>\n",
       "      <td>12</td>\n",
       "      <td>300</td>\n",
       "    </tr>\n",
       "    <tr>\n",
       "      <th>9</th>\n",
       "      <td>0.550532</td>\n",
       "      <td>gin-virtual</td>\n",
       "      <td>noisy_ce</td>\n",
       "      <td>sum</td>\n",
       "      <td>0.266574</td>\n",
       "      <td>4</td>\n",
       "      <td>300</td>\n",
       "    </tr>\n",
       "    <tr>\n",
       "      <th>19</th>\n",
       "      <td>0.548316</td>\n",
       "      <td>gin-virtual</td>\n",
       "      <td>noisy_ce</td>\n",
       "      <td>mean</td>\n",
       "      <td>0.281055</td>\n",
       "      <td>7</td>\n",
       "      <td>300</td>\n",
       "    </tr>\n",
       "    <tr>\n",
       "      <th>14</th>\n",
       "      <td>0.546099</td>\n",
       "      <td>gin-virtual</td>\n",
       "      <td>ncod</td>\n",
       "      <td>mean</td>\n",
       "      <td>0.314500</td>\n",
       "      <td>5</td>\n",
       "      <td>600</td>\n",
       "    </tr>\n",
       "    <tr>\n",
       "      <th>27</th>\n",
       "      <td>0.544326</td>\n",
       "      <td>gin-virtual</td>\n",
       "      <td>ncod</td>\n",
       "      <td>mean</td>\n",
       "      <td>0.330879</td>\n",
       "      <td>7</td>\n",
       "      <td>64</td>\n",
       "    </tr>\n",
       "    <tr>\n",
       "      <th>32</th>\n",
       "      <td>0.540780</td>\n",
       "      <td>gin-virtual</td>\n",
       "      <td>ncod</td>\n",
       "      <td>attention</td>\n",
       "      <td>0.160023</td>\n",
       "      <td>5</td>\n",
       "      <td>300</td>\n",
       "    </tr>\n",
       "    <tr>\n",
       "      <th>15</th>\n",
       "      <td>0.540780</td>\n",
       "      <td>gin-virtual</td>\n",
       "      <td>noisy_ce</td>\n",
       "      <td>mean</td>\n",
       "      <td>0.184998</td>\n",
       "      <td>4</td>\n",
       "      <td>600</td>\n",
       "    </tr>\n",
       "    <tr>\n",
       "      <th>1</th>\n",
       "      <td>0.540337</td>\n",
       "      <td>gcn</td>\n",
       "      <td>ncod</td>\n",
       "      <td>mean</td>\n",
       "      <td>0.374146</td>\n",
       "      <td>12</td>\n",
       "      <td>128</td>\n",
       "    </tr>\n",
       "    <tr>\n",
       "      <th>22</th>\n",
       "      <td>0.537234</td>\n",
       "      <td>gcn-virtual</td>\n",
       "      <td>ncod</td>\n",
       "      <td>mean</td>\n",
       "      <td>0.418164</td>\n",
       "      <td>5</td>\n",
       "      <td>64</td>\n",
       "    </tr>\n",
       "    <tr>\n",
       "      <th>18</th>\n",
       "      <td>0.536348</td>\n",
       "      <td>gcn</td>\n",
       "      <td>ncod</td>\n",
       "      <td>mean</td>\n",
       "      <td>0.346352</td>\n",
       "      <td>5</td>\n",
       "      <td>128</td>\n",
       "    </tr>\n",
       "    <tr>\n",
       "      <th>30</th>\n",
       "      <td>0.535904</td>\n",
       "      <td>gcn-virtual</td>\n",
       "      <td>ncod</td>\n",
       "      <td>mean</td>\n",
       "      <td>0.191101</td>\n",
       "      <td>11</td>\n",
       "      <td>300</td>\n",
       "    </tr>\n",
       "    <tr>\n",
       "      <th>25</th>\n",
       "      <td>0.535461</td>\n",
       "      <td>gin-virtual</td>\n",
       "      <td>ncod</td>\n",
       "      <td>mean</td>\n",
       "      <td>0.193301</td>\n",
       "      <td>7</td>\n",
       "      <td>300</td>\n",
       "    </tr>\n",
       "    <tr>\n",
       "      <th>8</th>\n",
       "      <td>0.535461</td>\n",
       "      <td>gin-virtual</td>\n",
       "      <td>ncod</td>\n",
       "      <td>sum</td>\n",
       "      <td>0.331229</td>\n",
       "      <td>6</td>\n",
       "      <td>300</td>\n",
       "    </tr>\n",
       "    <tr>\n",
       "      <th>16</th>\n",
       "      <td>0.532801</td>\n",
       "      <td>gin-virtual</td>\n",
       "      <td>noisy_ce</td>\n",
       "      <td>mean</td>\n",
       "      <td>0.520737</td>\n",
       "      <td>6</td>\n",
       "      <td>600</td>\n",
       "    </tr>\n",
       "    <tr>\n",
       "      <th>11</th>\n",
       "      <td>0.532801</td>\n",
       "      <td>gin-virtual</td>\n",
       "      <td>ncod</td>\n",
       "      <td>mean</td>\n",
       "      <td>0.150833</td>\n",
       "      <td>5</td>\n",
       "      <td>64</td>\n",
       "    </tr>\n",
       "    <tr>\n",
       "      <th>10</th>\n",
       "      <td>0.532358</td>\n",
       "      <td>gin-virtual</td>\n",
       "      <td>noisy_ce</td>\n",
       "      <td>mean</td>\n",
       "      <td>0.056408</td>\n",
       "      <td>7</td>\n",
       "      <td>300</td>\n",
       "    </tr>\n",
       "    <tr>\n",
       "      <th>24</th>\n",
       "      <td>0.528369</td>\n",
       "      <td>gin-virtual</td>\n",
       "      <td>ncod</td>\n",
       "      <td>sum</td>\n",
       "      <td>0.252007</td>\n",
       "      <td>6</td>\n",
       "      <td>300</td>\n",
       "    </tr>\n",
       "    <tr>\n",
       "      <th>0</th>\n",
       "      <td>0.527482</td>\n",
       "      <td>gcn</td>\n",
       "      <td>ncod</td>\n",
       "      <td>mean</td>\n",
       "      <td>0.365231</td>\n",
       "      <td>12</td>\n",
       "      <td>128</td>\n",
       "    </tr>\n",
       "    <tr>\n",
       "      <th>4</th>\n",
       "      <td>0.527482</td>\n",
       "      <td>gcn-virtual</td>\n",
       "      <td>sce</td>\n",
       "      <td>attention</td>\n",
       "      <td>0.108448</td>\n",
       "      <td>8</td>\n",
       "      <td>300</td>\n",
       "    </tr>\n",
       "    <tr>\n",
       "      <th>33</th>\n",
       "      <td>0.527039</td>\n",
       "      <td>gin-virtual</td>\n",
       "      <td>ncod</td>\n",
       "      <td>mean</td>\n",
       "      <td>0.376824</td>\n",
       "      <td>6</td>\n",
       "      <td>128</td>\n",
       "    </tr>\n",
       "    <tr>\n",
       "      <th>20</th>\n",
       "      <td>0.517730</td>\n",
       "      <td>gcn</td>\n",
       "      <td>ncod</td>\n",
       "      <td>mean</td>\n",
       "      <td>0.274740</td>\n",
       "      <td>7</td>\n",
       "      <td>300</td>\n",
       "    </tr>\n",
       "    <tr>\n",
       "      <th>26</th>\n",
       "      <td>0.511968</td>\n",
       "      <td>gin-virtual</td>\n",
       "      <td>noisy_ce</td>\n",
       "      <td>mean</td>\n",
       "      <td>0.290048</td>\n",
       "      <td>5</td>\n",
       "      <td>600</td>\n",
       "    </tr>\n",
       "    <tr>\n",
       "      <th>2</th>\n",
       "      <td>0.499557</td>\n",
       "      <td>gcn</td>\n",
       "      <td>ce</td>\n",
       "      <td>mean</td>\n",
       "      <td>0.667824</td>\n",
       "      <td>5</td>\n",
       "      <td>64</td>\n",
       "    </tr>\n",
       "    <tr>\n",
       "      <th>5</th>\n",
       "      <td>-inf</td>\n",
       "      <td>gcn-virtual</td>\n",
       "      <td>noisy_ce</td>\n",
       "      <td>set2set</td>\n",
       "      <td>0.232537</td>\n",
       "      <td>6</td>\n",
       "      <td>600</td>\n",
       "    </tr>\n",
       "    <tr>\n",
       "      <th>17</th>\n",
       "      <td>-inf</td>\n",
       "      <td>gcn</td>\n",
       "      <td>noisy_ce</td>\n",
       "      <td>mean</td>\n",
       "      <td>0.393007</td>\n",
       "      <td>7</td>\n",
       "      <td>600</td>\n",
       "    </tr>\n",
       "    <tr>\n",
       "      <th>23</th>\n",
       "      <td>-inf</td>\n",
       "      <td>gin-virtual</td>\n",
       "      <td>noisy_ce</td>\n",
       "      <td>max</td>\n",
       "      <td>0.688137</td>\n",
       "      <td>11</td>\n",
       "      <td>600</td>\n",
       "    </tr>\n",
       "    <tr>\n",
       "      <th>29</th>\n",
       "      <td>-inf</td>\n",
       "      <td>gcn-virtual</td>\n",
       "      <td>sce</td>\n",
       "      <td>mean</td>\n",
       "      <td>0.252926</td>\n",
       "      <td>12</td>\n",
       "      <td>300</td>\n",
       "    </tr>\n",
       "    <tr>\n",
       "      <th>31</th>\n",
       "      <td>-inf</td>\n",
       "      <td>gcn-virtual</td>\n",
       "      <td>ncod</td>\n",
       "      <td>attention</td>\n",
       "      <td>0.321694</td>\n",
       "      <td>11</td>\n",
       "      <td>600</td>\n",
       "    </tr>\n",
       "  </tbody>\n",
       "</table>\n",
       "</div>"
      ],
      "text/plain": [
       "    accuracy     gnn_type loss_type graph_pooling   dropout  num_layers  \\\n",
       "21  0.565160  gin-virtual  noisy_ce          mean  0.407236           6   \n",
       "13  0.562500  gin-virtual      ncod           sum  0.282099           6   \n",
       "28  0.562500  gcn-virtual       sce           sum  0.260906          12   \n",
       "7   0.554078  gin-virtual      ncod           sum  0.237048           6   \n",
       "12  0.553635  gin-virtual      ncod           max  0.295029           8   \n",
       "6   0.552748  gin-virtual  noisy_ce           sum  0.267366           7   \n",
       "3   0.550532  gcn-virtual       sce          mean  0.200908          12   \n",
       "9   0.550532  gin-virtual  noisy_ce           sum  0.266574           4   \n",
       "19  0.548316  gin-virtual  noisy_ce          mean  0.281055           7   \n",
       "14  0.546099  gin-virtual      ncod          mean  0.314500           5   \n",
       "27  0.544326  gin-virtual      ncod          mean  0.330879           7   \n",
       "32  0.540780  gin-virtual      ncod     attention  0.160023           5   \n",
       "15  0.540780  gin-virtual  noisy_ce          mean  0.184998           4   \n",
       "1   0.540337          gcn      ncod          mean  0.374146          12   \n",
       "22  0.537234  gcn-virtual      ncod          mean  0.418164           5   \n",
       "18  0.536348          gcn      ncod          mean  0.346352           5   \n",
       "30  0.535904  gcn-virtual      ncod          mean  0.191101          11   \n",
       "25  0.535461  gin-virtual      ncod          mean  0.193301           7   \n",
       "8   0.535461  gin-virtual      ncod           sum  0.331229           6   \n",
       "16  0.532801  gin-virtual  noisy_ce          mean  0.520737           6   \n",
       "11  0.532801  gin-virtual      ncod          mean  0.150833           5   \n",
       "10  0.532358  gin-virtual  noisy_ce          mean  0.056408           7   \n",
       "24  0.528369  gin-virtual      ncod           sum  0.252007           6   \n",
       "0   0.527482          gcn      ncod          mean  0.365231          12   \n",
       "4   0.527482  gcn-virtual       sce     attention  0.108448           8   \n",
       "33  0.527039  gin-virtual      ncod          mean  0.376824           6   \n",
       "20  0.517730          gcn      ncod          mean  0.274740           7   \n",
       "26  0.511968  gin-virtual  noisy_ce          mean  0.290048           5   \n",
       "2   0.499557          gcn        ce          mean  0.667824           5   \n",
       "5       -inf  gcn-virtual  noisy_ce       set2set  0.232537           6   \n",
       "17      -inf          gcn  noisy_ce          mean  0.393007           7   \n",
       "23      -inf  gin-virtual  noisy_ce           max  0.688137          11   \n",
       "29      -inf  gcn-virtual       sce          mean  0.252926          12   \n",
       "31      -inf  gcn-virtual      ncod     attention  0.321694          11   \n",
       "\n",
       "    embedding_dim  \n",
       "21            300  \n",
       "13            600  \n",
       "28            300  \n",
       "7             300  \n",
       "12            128  \n",
       "6             300  \n",
       "3             300  \n",
       "9             300  \n",
       "19            300  \n",
       "14            600  \n",
       "27             64  \n",
       "32            300  \n",
       "15            600  \n",
       "1             128  \n",
       "22             64  \n",
       "18            128  \n",
       "30            300  \n",
       "25            300  \n",
       "8             300  \n",
       "16            600  \n",
       "11             64  \n",
       "10            300  \n",
       "24            300  \n",
       "0             128  \n",
       "4             300  \n",
       "33            128  \n",
       "20            300  \n",
       "26            600  \n",
       "2              64  \n",
       "5             600  \n",
       "17            600  \n",
       "23            600  \n",
       "29            300  \n",
       "31            600  "
      ]
     },
     "metadata": {},
     "output_type": "display_data"
    },
    {
     "name": "stdout",
     "output_type": "stream",
     "text": [
      "\n",
      "Best Params for A:\n",
      "  gnn_type: gin-virtual\n",
      "  loss_type: noisy_ce\n",
      "  graph_pooling: mean\n",
      "  dropout: 0.4072362823036999\n",
      "  num_layers: 6\n",
      "  embedding_dim: 300\n"
     ]
    }
   ],
   "source": [
    "case_study(\n",
    "    \"A\", n_trials=60, num_checkpoints=5, default_batch_size=64, score_type=\"accuracy\"\n",
    ")"
   ]
  },
  {
   "cell_type": "code",
   "execution_count": 14,
   "metadata": {},
   "outputs": [
    {
     "name": "stderr",
     "output_type": "stream",
     "text": [
      "[I 2025-05-30 04:38:56,034] A new study created in memory with name: B\n"
     ]
    },
    {
     "name": "stdout",
     "output_type": "stream",
     "text": [
      "Starting Optuna optimization for dataset B\n"
     ]
    },
    {
     "data": {
      "application/vnd.jupyter.widget-view+json": {
       "model_id": "f286b1f3b6e94d9592fe7763fe75ffd4",
       "version_major": 2,
       "version_minor": 0
      },
      "text/plain": [
       "  0%|          | 0/60 [00:00<?, ?it/s]"
      ]
     },
     "metadata": {},
     "output_type": "display_data"
    },
    {
     "name": "stdout",
     "output_type": "stream",
     "text": [
      "gnn_type='gcn'\n",
      "loss_type='nosy_ce'\n",
      "graph_pooling='mean'\n",
      "drop_ratio=0.1301692261498399\n",
      "num_layers=9\n",
      "embedding_dim=128\n",
      "num_epochs=20\n"
     ]
    },
    {
     "data": {
      "application/vnd.jupyter.widget-view+json": {
       "model_id": "b92244feb6cc49279a63296885bfa142",
       "version_major": 2,
       "version_minor": 0
      },
      "text/plain": [
       "Training...:   0%|          | 0/20 [00:00<?, ?it/s]"
      ]
     },
     "metadata": {},
     "output_type": "display_data"
    },
    {
     "name": "stdout",
     "output_type": "stream",
     "text": [
      "[checkpoint] saved: /home/haislich/Documents/noisy_labels/hackaton/checkpoints/B/model_B_epoch_4.pth\n",
      "[checkpoint] saved: /home/haislich/Documents/noisy_labels/hackaton/checkpoints/B/model_B_epoch_8.pth\n",
      "[checkpoint] saved: /home/haislich/Documents/noisy_labels/hackaton/checkpoints/B/model_B_epoch_12.pth\n",
      "[checkpoint] saved: /home/haislich/Documents/noisy_labels/hackaton/checkpoints/B/model_B_epoch_16.pth\n",
      "[checkpoint] saved: /home/haislich/Documents/noisy_labels/hackaton/checkpoints/B/model_B_epoch_20.pth\n",
      "[I 2025-05-30 04:40:52,495] Trial 0 finished with value: 0.45 and parameters: {'gnn_type': 'gcn-virtual', 'loss_type': 'ncod', 'graph_pooling': 'sum', 'dropout': 0.1301692261498399, 'num_layers': 9, 'embedding_dim': 128}. Best is trial 0 with value: 0.45.\n",
      "gnn_type='gcn'\n",
      "loss_type='nosy_ce'\n",
      "graph_pooling='mean'\n",
      "drop_ratio=0.08339297382857436\n",
      "num_layers=9\n",
      "embedding_dim=128\n",
      "num_epochs=20\n"
     ]
    },
    {
     "data": {
      "application/vnd.jupyter.widget-view+json": {
       "model_id": "3d5dc67ee2ea483d865500e4a038a261",
       "version_major": 2,
       "version_minor": 0
      },
      "text/plain": [
       "Training...:   0%|          | 0/20 [00:00<?, ?it/s]"
      ]
     },
     "metadata": {},
     "output_type": "display_data"
    },
    {
     "name": "stdout",
     "output_type": "stream",
     "text": [
      "[checkpoint] saved: /home/haislich/Documents/noisy_labels/hackaton/checkpoints/B/model_B_epoch_4.pth\n",
      "[checkpoint] saved: /home/haislich/Documents/noisy_labels/hackaton/checkpoints/B/model_B_epoch_8.pth\n",
      "[checkpoint] saved: /home/haislich/Documents/noisy_labels/hackaton/checkpoints/B/model_B_epoch_12.pth\n",
      "[checkpoint] saved: /home/haislich/Documents/noisy_labels/hackaton/checkpoints/B/model_B_epoch_16.pth\n",
      "[checkpoint] saved: /home/haislich/Documents/noisy_labels/hackaton/checkpoints/B/model_B_epoch_20.pth\n",
      "[I 2025-05-30 04:42:49,310] Trial 1 finished with value: 0.4446428571428571 and parameters: {'gnn_type': 'gcn-virtual', 'loss_type': 'ncod', 'graph_pooling': 'sum', 'dropout': 0.08339297382857436, 'num_layers': 9, 'embedding_dim': 128}. Best is trial 0 with value: 0.45.\n",
      "gnn_type='gcn'\n",
      "loss_type='nosy_ce'\n",
      "graph_pooling='mean'\n",
      "drop_ratio=0.29473855879947397\n",
      "num_layers=8\n",
      "embedding_dim=128\n",
      "num_epochs=20\n"
     ]
    },
    {
     "data": {
      "application/vnd.jupyter.widget-view+json": {
       "model_id": "038a26faeff54800b2014b524b433620",
       "version_major": 2,
       "version_minor": 0
      },
      "text/plain": [
       "Training...:   0%|          | 0/20 [00:00<?, ?it/s]"
      ]
     },
     "metadata": {},
     "output_type": "display_data"
    },
    {
     "name": "stdout",
     "output_type": "stream",
     "text": [
      "[checkpoint] saved: /home/haislich/Documents/noisy_labels/hackaton/checkpoints/B/model_B_epoch_4.pth\n",
      "[checkpoint] saved: /home/haislich/Documents/noisy_labels/hackaton/checkpoints/B/model_B_epoch_8.pth\n",
      "[checkpoint] saved: /home/haislich/Documents/noisy_labels/hackaton/checkpoints/B/model_B_epoch_12.pth\n",
      "[checkpoint] saved: /home/haislich/Documents/noisy_labels/hackaton/checkpoints/B/model_B_epoch_16.pth\n",
      "[checkpoint] saved: /home/haislich/Documents/noisy_labels/hackaton/checkpoints/B/model_B_epoch_20.pth\n",
      "[I 2025-05-30 04:44:33,998] Trial 2 finished with value: 0.44285714285714284 and parameters: {'gnn_type': 'gin', 'loss_type': 'ncod', 'graph_pooling': 'max', 'dropout': 0.29473855879947397, 'num_layers': 8, 'embedding_dim': 128}. Best is trial 0 with value: 0.45.\n",
      "gnn_type='gcn'\n",
      "loss_type='nosy_ce'\n",
      "graph_pooling='mean'\n",
      "drop_ratio=0.5837348901129578\n",
      "num_layers=3\n",
      "embedding_dim=300\n",
      "num_epochs=20\n"
     ]
    },
    {
     "data": {
      "application/vnd.jupyter.widget-view+json": {
       "model_id": "f306625dd1ff41a097d3d6bfe9e04d52",
       "version_major": 2,
       "version_minor": 0
      },
      "text/plain": [
       "Training...:   0%|          | 0/20 [00:00<?, ?it/s]"
      ]
     },
     "metadata": {},
     "output_type": "display_data"
    },
    {
     "name": "stdout",
     "output_type": "stream",
     "text": [
      "[checkpoint] saved: /home/haislich/Documents/noisy_labels/hackaton/checkpoints/B/model_B_epoch_4.pth\n",
      "[checkpoint] saved: /home/haislich/Documents/noisy_labels/hackaton/checkpoints/B/model_B_epoch_8.pth\n",
      "[checkpoint] saved: /home/haislich/Documents/noisy_labels/hackaton/checkpoints/B/model_B_epoch_12.pth\n",
      "[checkpoint] saved: /home/haislich/Documents/noisy_labels/hackaton/checkpoints/B/model_B_epoch_16.pth\n",
      "[checkpoint] saved: /home/haislich/Documents/noisy_labels/hackaton/checkpoints/B/model_B_epoch_20.pth\n",
      "[I 2025-05-30 04:46:07,531] Trial 3 finished with value: 0.43660714285714286 and parameters: {'gnn_type': 'gin-virtual', 'loss_type': 'noisy_ce', 'graph_pooling': 'sum', 'dropout': 0.5837348901129578, 'num_layers': 3, 'embedding_dim': 300}. Best is trial 0 with value: 0.45.\n",
      "gnn_type='gcn'\n",
      "loss_type='nosy_ce'\n",
      "graph_pooling='mean'\n",
      "drop_ratio=0.02615783305126347\n",
      "num_layers=11\n",
      "embedding_dim=600\n",
      "num_epochs=20\n"
     ]
    },
    {
     "data": {
      "application/vnd.jupyter.widget-view+json": {
       "model_id": "2dda3bd109fe4635942912dec83eaacc",
       "version_major": 2,
       "version_minor": 0
      },
      "text/plain": [
       "Training...:   0%|          | 0/20 [00:00<?, ?it/s]"
      ]
     },
     "metadata": {},
     "output_type": "display_data"
    },
    {
     "name": "stdout",
     "output_type": "stream",
     "text": [
      "Unhandled exception  CUDA out of memory. Tried to allocate 628.00 MiB. GPU 0 has a total capacity of 11.60 GiB of which 423.00 MiB is free. Process 6163 has 39.59 MiB memory in use. Including non-PyTorch memory, this process has 10.76 GiB memory in use. Of the allocated memory 8.76 GiB is allocated by PyTorch, and 1.78 GiB is reserved by PyTorch but unallocated. If reserved but unallocated memory is large try setting PYTORCH_CUDA_ALLOC_CONF=expandable_segments:True to avoid fragmentation.  See documentation for Memory Management  (https://pytorch.org/docs/stable/notes/cuda.html#environment-variables)\n",
      "[I 2025-05-30 04:46:07,745] Trial 4 finished with value: -inf and parameters: {'gnn_type': 'gcn-virtual', 'loss_type': 'ncod', 'graph_pooling': 'sum', 'dropout': 0.02615783305126347, 'num_layers': 11, 'embedding_dim': 600}. Best is trial 0 with value: 0.45.\n",
      "gnn_type='gcn'\n",
      "loss_type='nosy_ce'\n",
      "graph_pooling='mean'\n",
      "drop_ratio=0.30496343929736375\n",
      "num_layers=5\n",
      "embedding_dim=64\n",
      "num_epochs=20\n"
     ]
    },
    {
     "data": {
      "application/vnd.jupyter.widget-view+json": {
       "model_id": "18d22ccd85c14ade80a0524e76463ca6",
       "version_major": 2,
       "version_minor": 0
      },
      "text/plain": [
       "Training...:   0%|          | 0/20 [00:00<?, ?it/s]"
      ]
     },
     "metadata": {},
     "output_type": "display_data"
    },
    {
     "name": "stdout",
     "output_type": "stream",
     "text": [
      "[checkpoint] saved: /home/haislich/Documents/noisy_labels/hackaton/checkpoints/B/model_B_epoch_4.pth\n",
      "[checkpoint] saved: /home/haislich/Documents/noisy_labels/hackaton/checkpoints/B/model_B_epoch_8.pth\n",
      "[checkpoint] saved: /home/haislich/Documents/noisy_labels/hackaton/checkpoints/B/model_B_epoch_12.pth\n",
      "[checkpoint] saved: /home/haislich/Documents/noisy_labels/hackaton/checkpoints/B/model_B_epoch_16.pth\n",
      "[checkpoint] saved: /home/haislich/Documents/noisy_labels/hackaton/checkpoints/B/model_B_epoch_20.pth\n",
      "[I 2025-05-30 04:46:49,628] Trial 5 finished with value: 0.47232142857142856 and parameters: {'gnn_type': 'gcn', 'loss_type': 'noisy_ce', 'graph_pooling': 'mean', 'dropout': 0.30496343929736375, 'num_layers': 5, 'embedding_dim': 64}. Best is trial 5 with value: 0.47232142857142856.\n",
      "gnn_type='gcn'\n",
      "loss_type='nosy_ce'\n",
      "graph_pooling='mean'\n",
      "drop_ratio=0.45389187742610904\n",
      "num_layers=4\n",
      "embedding_dim=64\n",
      "num_epochs=20\n"
     ]
    },
    {
     "data": {
      "application/vnd.jupyter.widget-view+json": {
       "model_id": "ba437dba4e34422f8f629223213c933b",
       "version_major": 2,
       "version_minor": 0
      },
      "text/plain": [
       "Training...:   0%|          | 0/20 [00:00<?, ?it/s]"
      ]
     },
     "metadata": {},
     "output_type": "display_data"
    },
    {
     "name": "stdout",
     "output_type": "stream",
     "text": [
      "[checkpoint] saved: /home/haislich/Documents/noisy_labels/hackaton/checkpoints/B/model_B_epoch_4.pth\n",
      "[checkpoint] saved: /home/haislich/Documents/noisy_labels/hackaton/checkpoints/B/model_B_epoch_8.pth\n",
      "[I 2025-05-30 04:47:08,905] Trial 6 pruned. \n",
      "gnn_type='gcn'\n",
      "loss_type='nosy_ce'\n",
      "graph_pooling='mean'\n",
      "drop_ratio=0.3022845500921023\n",
      "num_layers=5\n",
      "embedding_dim=64\n",
      "num_epochs=20\n"
     ]
    },
    {
     "data": {
      "application/vnd.jupyter.widget-view+json": {
       "model_id": "1bfaf23262bc488a951803c3584214ea",
       "version_major": 2,
       "version_minor": 0
      },
      "text/plain": [
       "Training...:   0%|          | 0/20 [00:00<?, ?it/s]"
      ]
     },
     "metadata": {},
     "output_type": "display_data"
    },
    {
     "name": "stdout",
     "output_type": "stream",
     "text": [
      "[checkpoint] saved: /home/haislich/Documents/noisy_labels/hackaton/checkpoints/B/model_B_epoch_4.pth\n",
      "[checkpoint] saved: /home/haislich/Documents/noisy_labels/hackaton/checkpoints/B/model_B_epoch_8.pth\n",
      "[checkpoint] saved: /home/haislich/Documents/noisy_labels/hackaton/checkpoints/B/model_B_epoch_12.pth\n",
      "[checkpoint] saved: /home/haislich/Documents/noisy_labels/hackaton/checkpoints/B/model_B_epoch_16.pth\n",
      "[checkpoint] saved: /home/haislich/Documents/noisy_labels/hackaton/checkpoints/B/model_B_epoch_20.pth\n",
      "[I 2025-05-30 04:47:50,584] Trial 7 finished with value: 0.48660714285714285 and parameters: {'gnn_type': 'gcn', 'loss_type': 'ncod', 'graph_pooling': 'mean', 'dropout': 0.3022845500921023, 'num_layers': 5, 'embedding_dim': 64}. Best is trial 7 with value: 0.48660714285714285.\n",
      "gnn_type='gcn'\n",
      "loss_type='nosy_ce'\n",
      "graph_pooling='mean'\n",
      "drop_ratio=0.6912765927861357\n",
      "num_layers=6\n",
      "embedding_dim=64\n",
      "num_epochs=20\n"
     ]
    },
    {
     "data": {
      "application/vnd.jupyter.widget-view+json": {
       "model_id": "dceae15f1818441e80e9eb94924c2f6b",
       "version_major": 2,
       "version_minor": 0
      },
      "text/plain": [
       "Training...:   0%|          | 0/20 [00:00<?, ?it/s]"
      ]
     },
     "metadata": {},
     "output_type": "display_data"
    },
    {
     "name": "stdout",
     "output_type": "stream",
     "text": [
      "[checkpoint] saved: /home/haislich/Documents/noisy_labels/hackaton/checkpoints/B/model_B_epoch_4.pth\n",
      "[checkpoint] saved: /home/haislich/Documents/noisy_labels/hackaton/checkpoints/B/model_B_epoch_8.pth\n",
      "[I 2025-05-30 04:48:16,949] Trial 8 pruned. \n",
      "gnn_type='gcn'\n",
      "loss_type='nosy_ce'\n",
      "graph_pooling='mean'\n",
      "drop_ratio=0.4420569633957634\n",
      "num_layers=6\n",
      "embedding_dim=300\n",
      "num_epochs=20\n"
     ]
    },
    {
     "data": {
      "application/vnd.jupyter.widget-view+json": {
       "model_id": "f98c8a1b1c90429cb77c7d79c288ad5b",
       "version_major": 2,
       "version_minor": 0
      },
      "text/plain": [
       "Training...:   0%|          | 0/20 [00:00<?, ?it/s]"
      ]
     },
     "metadata": {},
     "output_type": "display_data"
    },
    {
     "name": "stdout",
     "output_type": "stream",
     "text": [
      "[checkpoint] saved: /home/haislich/Documents/noisy_labels/hackaton/checkpoints/B/model_B_epoch_4.pth\n",
      "[checkpoint] saved: /home/haislich/Documents/noisy_labels/hackaton/checkpoints/B/model_B_epoch_8.pth\n",
      "[checkpoint] saved: /home/haislich/Documents/noisy_labels/hackaton/checkpoints/B/model_B_epoch_12.pth\n",
      "[checkpoint] saved: /home/haislich/Documents/noisy_labels/hackaton/checkpoints/B/model_B_epoch_16.pth\n",
      "[checkpoint] saved: /home/haislich/Documents/noisy_labels/hackaton/checkpoints/B/model_B_epoch_20.pth\n",
      "[I 2025-05-30 04:51:13,068] Trial 9 finished with value: 0.4517857142857143 and parameters: {'gnn_type': 'gin', 'loss_type': 'noisy_ce', 'graph_pooling': 'set2set', 'dropout': 0.4420569633957634, 'num_layers': 6, 'embedding_dim': 300}. Best is trial 7 with value: 0.48660714285714285.\n",
      "gnn_type='gcn'\n",
      "loss_type='nosy_ce'\n",
      "graph_pooling='mean'\n",
      "drop_ratio=0.2112639956296476\n",
      "num_layers=12\n",
      "embedding_dim=600\n",
      "num_epochs=20\n"
     ]
    },
    {
     "data": {
      "application/vnd.jupyter.widget-view+json": {
       "model_id": "05dfb1f613df4e128276ae1631ecffd1",
       "version_major": 2,
       "version_minor": 0
      },
      "text/plain": [
       "Training...:   0%|          | 0/20 [00:00<?, ?it/s]"
      ]
     },
     "metadata": {},
     "output_type": "display_data"
    },
    {
     "name": "stdout",
     "output_type": "stream",
     "text": [
      "Unhandled exception  CUDA out of memory. Tried to allocate 752.00 MiB. GPU 0 has a total capacity of 11.60 GiB of which 422.56 MiB is free. Process 6163 has 39.59 MiB memory in use. Including non-PyTorch memory, this process has 10.76 GiB memory in use. Of the allocated memory 9.38 GiB is allocated by PyTorch, and 1.16 GiB is reserved by PyTorch but unallocated. If reserved but unallocated memory is large try setting PYTORCH_CUDA_ALLOC_CONF=expandable_segments:True to avoid fragmentation.  See documentation for Memory Management  (https://pytorch.org/docs/stable/notes/cuda.html#environment-variables)\n",
      "[I 2025-05-30 04:51:13,286] Trial 10 finished with value: -inf and parameters: {'gnn_type': 'gin-virtual', 'loss_type': 'ncod', 'graph_pooling': 'mean', 'dropout': 0.2112639956296476, 'num_layers': 12, 'embedding_dim': 600}. Best is trial 7 with value: 0.48660714285714285.\n",
      "gnn_type='gcn'\n",
      "loss_type='nosy_ce'\n",
      "graph_pooling='mean'\n",
      "drop_ratio=0.3315771600349677\n",
      "num_layers=5\n",
      "embedding_dim=64\n",
      "num_epochs=20\n"
     ]
    },
    {
     "data": {
      "application/vnd.jupyter.widget-view+json": {
       "model_id": "5f25cf6d659e42f88807dfca8f03b2c2",
       "version_major": 2,
       "version_minor": 0
      },
      "text/plain": [
       "Training...:   0%|          | 0/20 [00:00<?, ?it/s]"
      ]
     },
     "metadata": {},
     "output_type": "display_data"
    },
    {
     "name": "stdout",
     "output_type": "stream",
     "text": [
      "[checkpoint] saved: /home/haislich/Documents/noisy_labels/hackaton/checkpoints/B/model_B_epoch_4.pth\n",
      "[checkpoint] saved: /home/haislich/Documents/noisy_labels/hackaton/checkpoints/B/model_B_epoch_8.pth\n",
      "[checkpoint] saved: /home/haislich/Documents/noisy_labels/hackaton/checkpoints/B/model_B_epoch_12.pth\n",
      "[checkpoint] saved: /home/haislich/Documents/noisy_labels/hackaton/checkpoints/B/model_B_epoch_16.pth\n",
      "[checkpoint] saved: /home/haislich/Documents/noisy_labels/hackaton/checkpoints/B/model_B_epoch_20.pth\n",
      "[I 2025-05-30 04:51:55,018] Trial 11 finished with value: 0.5098214285714285 and parameters: {'gnn_type': 'gcn', 'loss_type': 'ncod', 'graph_pooling': 'mean', 'dropout': 0.3315771600349677, 'num_layers': 5, 'embedding_dim': 64}. Best is trial 11 with value: 0.5098214285714285.\n",
      "gnn_type='gcn'\n",
      "loss_type='nosy_ce'\n",
      "graph_pooling='mean'\n",
      "drop_ratio=0.4086418110493093\n",
      "num_layers=6\n",
      "embedding_dim=64\n",
      "num_epochs=20\n"
     ]
    },
    {
     "data": {
      "application/vnd.jupyter.widget-view+json": {
       "model_id": "3390a94c9b41420aa56557682347148b",
       "version_major": 2,
       "version_minor": 0
      },
      "text/plain": [
       "Training...:   0%|          | 0/20 [00:00<?, ?it/s]"
      ]
     },
     "metadata": {},
     "output_type": "display_data"
    },
    {
     "name": "stdout",
     "output_type": "stream",
     "text": [
      "[checkpoint] saved: /home/haislich/Documents/noisy_labels/hackaton/checkpoints/B/model_B_epoch_4.pth\n",
      "[checkpoint] saved: /home/haislich/Documents/noisy_labels/hackaton/checkpoints/B/model_B_epoch_8.pth\n",
      "[checkpoint] saved: /home/haislich/Documents/noisy_labels/hackaton/checkpoints/B/model_B_epoch_12.pth\n",
      "[checkpoint] saved: /home/haislich/Documents/noisy_labels/hackaton/checkpoints/B/model_B_epoch_16.pth\n",
      "[checkpoint] saved: /home/haislich/Documents/noisy_labels/hackaton/checkpoints/B/model_B_epoch_20.pth\n",
      "[I 2025-05-30 04:52:43,196] Trial 12 finished with value: 0.4544642857142857 and parameters: {'gnn_type': 'gcn', 'loss_type': 'ncod', 'graph_pooling': 'attention', 'dropout': 0.4086418110493093, 'num_layers': 6, 'embedding_dim': 64}. Best is trial 11 with value: 0.5098214285714285.\n",
      "gnn_type='gcn'\n",
      "loss_type='nosy_ce'\n",
      "graph_pooling='mean'\n",
      "drop_ratio=0.20604927082840657\n",
      "num_layers=3\n",
      "embedding_dim=64\n",
      "num_epochs=20\n"
     ]
    },
    {
     "data": {
      "application/vnd.jupyter.widget-view+json": {
       "model_id": "fa449a4447ed45b29c937949ed5ebd25",
       "version_major": 2,
       "version_minor": 0
      },
      "text/plain": [
       "Training...:   0%|          | 0/20 [00:00<?, ?it/s]"
      ]
     },
     "metadata": {},
     "output_type": "display_data"
    },
    {
     "name": "stdout",
     "output_type": "stream",
     "text": [
      "[checkpoint] saved: /home/haislich/Documents/noisy_labels/hackaton/checkpoints/B/model_B_epoch_4.pth\n",
      "[checkpoint] saved: /home/haislich/Documents/noisy_labels/hackaton/checkpoints/B/model_B_epoch_8.pth\n",
      "[checkpoint] saved: /home/haislich/Documents/noisy_labels/hackaton/checkpoints/B/model_B_epoch_12.pth\n",
      "[checkpoint] saved: /home/haislich/Documents/noisy_labels/hackaton/checkpoints/B/model_B_epoch_16.pth\n",
      "[checkpoint] saved: /home/haislich/Documents/noisy_labels/hackaton/checkpoints/B/model_B_epoch_20.pth\n",
      "[I 2025-05-30 04:53:11,954] Trial 13 finished with value: 0.5241071428571429 and parameters: {'gnn_type': 'gcn', 'loss_type': 'ncod', 'graph_pooling': 'sum', 'dropout': 0.20604927082840657, 'num_layers': 3, 'embedding_dim': 64}. Best is trial 13 with value: 0.5241071428571429.\n",
      "gnn_type='gcn'\n",
      "loss_type='nosy_ce'\n",
      "graph_pooling='mean'\n",
      "drop_ratio=0.1871548902004519\n",
      "num_layers=3\n",
      "embedding_dim=64\n",
      "num_epochs=20\n"
     ]
    },
    {
     "data": {
      "application/vnd.jupyter.widget-view+json": {
       "model_id": "366bfa5ba96a475cabe41111767eaaa3",
       "version_major": 2,
       "version_minor": 0
      },
      "text/plain": [
       "Training...:   0%|          | 0/20 [00:00<?, ?it/s]"
      ]
     },
     "metadata": {},
     "output_type": "display_data"
    },
    {
     "name": "stdout",
     "output_type": "stream",
     "text": [
      "[checkpoint] saved: /home/haislich/Documents/noisy_labels/hackaton/checkpoints/B/model_B_epoch_4.pth\n",
      "[checkpoint] saved: /home/haislich/Documents/noisy_labels/hackaton/checkpoints/B/model_B_epoch_8.pth\n",
      "[checkpoint] saved: /home/haislich/Documents/noisy_labels/hackaton/checkpoints/B/model_B_epoch_12.pth\n",
      "[checkpoint] saved: /home/haislich/Documents/noisy_labels/hackaton/checkpoints/B/model_B_epoch_16.pth\n",
      "[checkpoint] saved: /home/haislich/Documents/noisy_labels/hackaton/checkpoints/B/model_B_epoch_20.pth\n",
      "[I 2025-05-30 04:53:40,900] Trial 14 finished with value: 0.48214285714285715 and parameters: {'gnn_type': 'gcn', 'loss_type': 'noisy_ce', 'graph_pooling': 'sum', 'dropout': 0.1871548902004519, 'num_layers': 3, 'embedding_dim': 64}. Best is trial 13 with value: 0.5241071428571429.\n",
      "gnn_type='gcn'\n",
      "loss_type='nosy_ce'\n",
      "graph_pooling='mean'\n",
      "drop_ratio=0.2064576375760144\n",
      "num_layers=4\n",
      "embedding_dim=64\n",
      "num_epochs=20\n"
     ]
    },
    {
     "data": {
      "application/vnd.jupyter.widget-view+json": {
       "model_id": "a417330d84b94168860696aa3e6e7c47",
       "version_major": 2,
       "version_minor": 0
      },
      "text/plain": [
       "Training...:   0%|          | 0/20 [00:00<?, ?it/s]"
      ]
     },
     "metadata": {},
     "output_type": "display_data"
    },
    {
     "name": "stdout",
     "output_type": "stream",
     "text": [
      "[checkpoint] saved: /home/haislich/Documents/noisy_labels/hackaton/checkpoints/B/model_B_epoch_4.pth\n",
      "[checkpoint] saved: /home/haislich/Documents/noisy_labels/hackaton/checkpoints/B/model_B_epoch_8.pth\n",
      "[checkpoint] saved: /home/haislich/Documents/noisy_labels/hackaton/checkpoints/B/model_B_epoch_12.pth\n",
      "[checkpoint] saved: /home/haislich/Documents/noisy_labels/hackaton/checkpoints/B/model_B_epoch_16.pth\n",
      "[checkpoint] saved: /home/haislich/Documents/noisy_labels/hackaton/checkpoints/B/model_B_epoch_20.pth\n",
      "[I 2025-05-30 04:54:16,296] Trial 15 finished with value: 0.4607142857142857 and parameters: {'gnn_type': 'gcn', 'loss_type': 'sce', 'graph_pooling': 'mean', 'dropout': 0.2064576375760144, 'num_layers': 4, 'embedding_dim': 64}. Best is trial 13 with value: 0.5241071428571429.\n",
      "gnn_type='gcn'\n",
      "loss_type='nosy_ce'\n",
      "graph_pooling='mean'\n",
      "drop_ratio=0.39437744935857527\n",
      "num_layers=3\n",
      "embedding_dim=64\n",
      "num_epochs=20\n"
     ]
    },
    {
     "data": {
      "application/vnd.jupyter.widget-view+json": {
       "model_id": "970148b548d141468fda1deea06c689d",
       "version_major": 2,
       "version_minor": 0
      },
      "text/plain": [
       "Training...:   0%|          | 0/20 [00:00<?, ?it/s]"
      ]
     },
     "metadata": {},
     "output_type": "display_data"
    },
    {
     "name": "stdout",
     "output_type": "stream",
     "text": [
      "[checkpoint] saved: /home/haislich/Documents/noisy_labels/hackaton/checkpoints/B/model_B_epoch_4.pth\n",
      "[checkpoint] saved: /home/haislich/Documents/noisy_labels/hackaton/checkpoints/B/model_B_epoch_8.pth\n",
      "[checkpoint] saved: /home/haislich/Documents/noisy_labels/hackaton/checkpoints/B/model_B_epoch_12.pth\n",
      "[checkpoint] saved: /home/haislich/Documents/noisy_labels/hackaton/checkpoints/B/model_B_epoch_16.pth\n",
      "[checkpoint] saved: /home/haislich/Documents/noisy_labels/hackaton/checkpoints/B/model_B_epoch_20.pth\n",
      "[I 2025-05-30 04:54:44,914] Trial 16 finished with value: 0.4901785714285714 and parameters: {'gnn_type': 'gcn', 'loss_type': 'noisy_ce', 'graph_pooling': 'mean', 'dropout': 0.39437744935857527, 'num_layers': 3, 'embedding_dim': 64}. Best is trial 13 with value: 0.5241071428571429.\n",
      "gnn_type='gcn'\n",
      "loss_type='nosy_ce'\n",
      "graph_pooling='mean'\n",
      "drop_ratio=0.5245612345230101\n",
      "num_layers=7\n",
      "embedding_dim=600\n",
      "num_epochs=20\n"
     ]
    },
    {
     "data": {
      "application/vnd.jupyter.widget-view+json": {
       "model_id": "4af5b38261ec4179bc564c3bc01c88a2",
       "version_major": 2,
       "version_minor": 0
      },
      "text/plain": [
       "Training...:   0%|          | 0/20 [00:00<?, ?it/s]"
      ]
     },
     "metadata": {},
     "output_type": "display_data"
    },
    {
     "name": "stdout",
     "output_type": "stream",
     "text": [
      "[checkpoint] saved: /home/haislich/Documents/noisy_labels/hackaton/checkpoints/B/model_B_epoch_4.pth\n",
      "[checkpoint] saved: /home/haislich/Documents/noisy_labels/hackaton/checkpoints/B/model_B_epoch_8.pth\n",
      "[I 2025-05-30 04:58:27,825] Trial 17 pruned. \n",
      "gnn_type='gcn'\n",
      "loss_type='nosy_ce'\n",
      "graph_pooling='mean'\n",
      "drop_ratio=0.23947360687010327\n",
      "num_layers=4\n",
      "embedding_dim=300\n",
      "num_epochs=20\n"
     ]
    },
    {
     "data": {
      "application/vnd.jupyter.widget-view+json": {
       "model_id": "2c7ddc96bf804cbc86c36102994f2dee",
       "version_major": 2,
       "version_minor": 0
      },
      "text/plain": [
       "Training...:   0%|          | 0/20 [00:00<?, ?it/s]"
      ]
     },
     "metadata": {},
     "output_type": "display_data"
    },
    {
     "name": "stdout",
     "output_type": "stream",
     "text": [
      "[checkpoint] saved: /home/haislich/Documents/noisy_labels/hackaton/checkpoints/B/model_B_epoch_4.pth\n",
      "[checkpoint] saved: /home/haislich/Documents/noisy_labels/hackaton/checkpoints/B/model_B_epoch_8.pth\n",
      "[checkpoint] saved: /home/haislich/Documents/noisy_labels/hackaton/checkpoints/B/model_B_epoch_12.pth\n",
      "[checkpoint] saved: /home/haislich/Documents/noisy_labels/hackaton/checkpoints/B/model_B_epoch_16.pth\n",
      "[checkpoint] saved: /home/haislich/Documents/noisy_labels/hackaton/checkpoints/B/model_B_epoch_20.pth\n",
      "[I 2025-05-30 05:00:28,615] Trial 18 finished with value: 0.4955357142857143 and parameters: {'gnn_type': 'gin', 'loss_type': 'noisy_ce', 'graph_pooling': 'mean', 'dropout': 0.23947360687010327, 'num_layers': 4, 'embedding_dim': 300}. Best is trial 13 with value: 0.5241071428571429.\n",
      "gnn_type='gcn'\n",
      "loss_type='nosy_ce'\n",
      "graph_pooling='mean'\n",
      "drop_ratio=0.12449598068685125\n",
      "num_layers=5\n",
      "embedding_dim=64\n",
      "num_epochs=20\n"
     ]
    },
    {
     "data": {
      "application/vnd.jupyter.widget-view+json": {
       "model_id": "ac4b2376fa844fa3b8cf5d05b2ec7ae8",
       "version_major": 2,
       "version_minor": 0
      },
      "text/plain": [
       "Training...:   0%|          | 0/20 [00:00<?, ?it/s]"
      ]
     },
     "metadata": {},
     "output_type": "display_data"
    },
    {
     "name": "stdout",
     "output_type": "stream",
     "text": [
      "[checkpoint] saved: /home/haislich/Documents/noisy_labels/hackaton/checkpoints/B/model_B_epoch_4.pth\n",
      "[checkpoint] saved: /home/haislich/Documents/noisy_labels/hackaton/checkpoints/B/model_B_epoch_8.pth\n",
      "[checkpoint] saved: /home/haislich/Documents/noisy_labels/hackaton/checkpoints/B/model_B_epoch_12.pth\n",
      "[I 2025-05-30 05:00:57,561] Trial 19 pruned. \n",
      "gnn_type='gcn'\n",
      "loss_type='nosy_ce'\n",
      "graph_pooling='mean'\n",
      "drop_ratio=0.02174458628126033\n",
      "num_layers=7\n",
      "embedding_dim=64\n",
      "num_epochs=20\n"
     ]
    },
    {
     "data": {
      "application/vnd.jupyter.widget-view+json": {
       "model_id": "fc21c407dc2c4281b90022fe6b2768c2",
       "version_major": 2,
       "version_minor": 0
      },
      "text/plain": [
       "Training...:   0%|          | 0/20 [00:00<?, ?it/s]"
      ]
     },
     "metadata": {},
     "output_type": "display_data"
    },
    {
     "name": "stdout",
     "output_type": "stream",
     "text": [
      "[checkpoint] saved: /home/haislich/Documents/noisy_labels/hackaton/checkpoints/B/model_B_epoch_4.pth\n",
      "[checkpoint] saved: /home/haislich/Documents/noisy_labels/hackaton/checkpoints/B/model_B_epoch_8.pth\n",
      "[checkpoint] saved: /home/haislich/Documents/noisy_labels/hackaton/checkpoints/B/model_B_epoch_12.pth\n",
      "[checkpoint] saved: /home/haislich/Documents/noisy_labels/hackaton/checkpoints/B/model_B_epoch_16.pth\n",
      "[checkpoint] saved: /home/haislich/Documents/noisy_labels/hackaton/checkpoints/B/model_B_epoch_20.pth\n",
      "[I 2025-05-30 05:01:52,564] Trial 20 finished with value: 0.47946428571428573 and parameters: {'gnn_type': 'gcn', 'loss_type': 'ncod', 'graph_pooling': 'mean', 'dropout': 0.02174458628126033, 'num_layers': 7, 'embedding_dim': 64}. Best is trial 13 with value: 0.5241071428571429.\n",
      "gnn_type='gcn'\n",
      "loss_type='nosy_ce'\n",
      "graph_pooling='mean'\n",
      "drop_ratio=0.2530631870319433\n",
      "num_layers=4\n",
      "embedding_dim=300\n",
      "num_epochs=20\n"
     ]
    },
    {
     "data": {
      "application/vnd.jupyter.widget-view+json": {
       "model_id": "cb6157d033334fe6b3729b8433e34652",
       "version_major": 2,
       "version_minor": 0
      },
      "text/plain": [
       "Training...:   0%|          | 0/20 [00:00<?, ?it/s]"
      ]
     },
     "metadata": {},
     "output_type": "display_data"
    },
    {
     "name": "stdout",
     "output_type": "stream",
     "text": [
      "[checkpoint] saved: /home/haislich/Documents/noisy_labels/hackaton/checkpoints/B/model_B_epoch_4.pth\n",
      "[checkpoint] saved: /home/haislich/Documents/noisy_labels/hackaton/checkpoints/B/model_B_epoch_8.pth\n",
      "[checkpoint] saved: /home/haislich/Documents/noisy_labels/hackaton/checkpoints/B/model_B_epoch_12.pth\n",
      "[checkpoint] saved: /home/haislich/Documents/noisy_labels/hackaton/checkpoints/B/model_B_epoch_16.pth\n",
      "[checkpoint] saved: /home/haislich/Documents/noisy_labels/hackaton/checkpoints/B/model_B_epoch_20.pth\n",
      "[I 2025-05-30 05:03:53,423] Trial 21 finished with value: 0.4705357142857143 and parameters: {'gnn_type': 'gin', 'loss_type': 'noisy_ce', 'graph_pooling': 'max', 'dropout': 0.2530631870319433, 'num_layers': 4, 'embedding_dim': 300}. Best is trial 13 with value: 0.5241071428571429.\n",
      "gnn_type='gcn'\n",
      "loss_type='nosy_ce'\n",
      "graph_pooling='mean'\n",
      "drop_ratio=0.3562226320513109\n",
      "num_layers=4\n",
      "embedding_dim=300\n",
      "num_epochs=20\n"
     ]
    },
    {
     "data": {
      "application/vnd.jupyter.widget-view+json": {
       "model_id": "d28abe6992e442bf8df572fc95360a53",
       "version_major": 2,
       "version_minor": 0
      },
      "text/plain": [
       "Training...:   0%|          | 0/20 [00:00<?, ?it/s]"
      ]
     },
     "metadata": {},
     "output_type": "display_data"
    },
    {
     "name": "stdout",
     "output_type": "stream",
     "text": [
      "[checkpoint] saved: /home/haislich/Documents/noisy_labels/hackaton/checkpoints/B/model_B_epoch_4.pth\n",
      "[checkpoint] saved: /home/haislich/Documents/noisy_labels/hackaton/checkpoints/B/model_B_epoch_8.pth\n",
      "[checkpoint] saved: /home/haislich/Documents/noisy_labels/hackaton/checkpoints/B/model_B_epoch_12.pth\n",
      "[checkpoint] saved: /home/haislich/Documents/noisy_labels/hackaton/checkpoints/B/model_B_epoch_16.pth\n",
      "[checkpoint] saved: /home/haislich/Documents/noisy_labels/hackaton/checkpoints/B/model_B_epoch_20.pth\n",
      "[I 2025-05-30 05:05:54,294] Trial 22 finished with value: 0.46785714285714286 and parameters: {'gnn_type': 'gin', 'loss_type': 'ncod', 'graph_pooling': 'max', 'dropout': 0.3562226320513109, 'num_layers': 4, 'embedding_dim': 300}. Best is trial 13 with value: 0.5241071428571429.\n",
      "gnn_type='gcn'\n",
      "loss_type='nosy_ce'\n",
      "graph_pooling='mean'\n",
      "drop_ratio=0.2520288153046762\n",
      "num_layers=3\n",
      "embedding_dim=300\n",
      "num_epochs=20\n"
     ]
    },
    {
     "data": {
      "application/vnd.jupyter.widget-view+json": {
       "model_id": "6b14ff2977a94e6cb64976004930e681",
       "version_major": 2,
       "version_minor": 0
      },
      "text/plain": [
       "Training...:   0%|          | 0/20 [00:00<?, ?it/s]"
      ]
     },
     "metadata": {},
     "output_type": "display_data"
    },
    {
     "name": "stdout",
     "output_type": "stream",
     "text": [
      "[checkpoint] saved: /home/haislich/Documents/noisy_labels/hackaton/checkpoints/B/model_B_epoch_4.pth\n",
      "[checkpoint] saved: /home/haislich/Documents/noisy_labels/hackaton/checkpoints/B/model_B_epoch_8.pth\n",
      "[checkpoint] saved: /home/haislich/Documents/noisy_labels/hackaton/checkpoints/B/model_B_epoch_12.pth\n",
      "[checkpoint] saved: /home/haislich/Documents/noisy_labels/hackaton/checkpoints/B/model_B_epoch_16.pth\n",
      "[checkpoint] saved: /home/haislich/Documents/noisy_labels/hackaton/checkpoints/B/model_B_epoch_20.pth\n",
      "[I 2025-05-30 05:07:27,310] Trial 23 finished with value: 0.51875 and parameters: {'gnn_type': 'gin', 'loss_type': 'ncod', 'graph_pooling': 'mean', 'dropout': 0.2520288153046762, 'num_layers': 3, 'embedding_dim': 300}. Best is trial 13 with value: 0.5241071428571429.\n",
      "gnn_type='gcn'\n",
      "loss_type='nosy_ce'\n",
      "graph_pooling='mean'\n",
      "drop_ratio=0.15085420382222564\n",
      "num_layers=3\n",
      "embedding_dim=300\n",
      "num_epochs=20\n"
     ]
    },
    {
     "data": {
      "application/vnd.jupyter.widget-view+json": {
       "model_id": "aa60fc046eee44e6b13a674398ff74e4",
       "version_major": 2,
       "version_minor": 0
      },
      "text/plain": [
       "Training...:   0%|          | 0/20 [00:00<?, ?it/s]"
      ]
     },
     "metadata": {},
     "output_type": "display_data"
    },
    {
     "name": "stdout",
     "output_type": "stream",
     "text": [
      "[checkpoint] saved: /home/haislich/Documents/noisy_labels/hackaton/checkpoints/B/model_B_epoch_4.pth\n",
      "[checkpoint] saved: /home/haislich/Documents/noisy_labels/hackaton/checkpoints/B/model_B_epoch_8.pth\n",
      "[I 2025-05-30 05:08:18,368] Trial 24 pruned. \n",
      "gnn_type='gcn'\n",
      "loss_type='nosy_ce'\n",
      "graph_pooling='mean'\n",
      "drop_ratio=0.35872190888335115\n",
      "num_layers=5\n",
      "embedding_dim=300\n",
      "num_epochs=20\n"
     ]
    },
    {
     "data": {
      "application/vnd.jupyter.widget-view+json": {
       "model_id": "99932d2f20554dd1b1378980973e76da",
       "version_major": 2,
       "version_minor": 0
      },
      "text/plain": [
       "Training...:   0%|          | 0/20 [00:00<?, ?it/s]"
      ]
     },
     "metadata": {},
     "output_type": "display_data"
    },
    {
     "name": "stdout",
     "output_type": "stream",
     "text": [
      "[checkpoint] saved: /home/haislich/Documents/noisy_labels/hackaton/checkpoints/B/model_B_epoch_4.pth\n",
      "[checkpoint] saved: /home/haislich/Documents/noisy_labels/hackaton/checkpoints/B/model_B_epoch_8.pth\n",
      "[checkpoint] saved: /home/haislich/Documents/noisy_labels/hackaton/checkpoints/B/model_B_epoch_12.pth\n",
      "[checkpoint] saved: /home/haislich/Documents/noisy_labels/hackaton/checkpoints/B/model_B_epoch_16.pth\n",
      "[checkpoint] saved: /home/haislich/Documents/noisy_labels/hackaton/checkpoints/B/model_B_epoch_20.pth\n",
      "[I 2025-05-30 05:10:46,952] Trial 25 finished with value: 0.4625 and parameters: {'gnn_type': 'gin', 'loss_type': 'ncod', 'graph_pooling': 'max', 'dropout': 0.35872190888335115, 'num_layers': 5, 'embedding_dim': 300}. Best is trial 13 with value: 0.5241071428571429.\n",
      "gnn_type='gcn'\n",
      "loss_type='nosy_ce'\n",
      "graph_pooling='mean'\n",
      "drop_ratio=0.272034528622351\n",
      "num_layers=3\n",
      "embedding_dim=128\n",
      "num_epochs=20\n"
     ]
    },
    {
     "data": {
      "application/vnd.jupyter.widget-view+json": {
       "model_id": "2e229908fe5743f492700a309c88d3b1",
       "version_major": 2,
       "version_minor": 0
      },
      "text/plain": [
       "Training...:   0%|          | 0/20 [00:00<?, ?it/s]"
      ]
     },
     "metadata": {},
     "output_type": "display_data"
    },
    {
     "name": "stdout",
     "output_type": "stream",
     "text": [
      "[checkpoint] saved: /home/haislich/Documents/noisy_labels/hackaton/checkpoints/B/model_B_epoch_4.pth\n",
      "[checkpoint] saved: /home/haislich/Documents/noisy_labels/hackaton/checkpoints/B/model_B_epoch_8.pth\n",
      "[checkpoint] saved: /home/haislich/Documents/noisy_labels/hackaton/checkpoints/B/model_B_epoch_12.pth\n",
      "[checkpoint] saved: /home/haislich/Documents/noisy_labels/hackaton/checkpoints/B/model_B_epoch_16.pth\n",
      "[checkpoint] saved: /home/haislich/Documents/noisy_labels/hackaton/checkpoints/B/model_B_epoch_20.pth\n",
      "[I 2025-05-30 05:11:32,311] Trial 26 finished with value: 0.4758928571428571 and parameters: {'gnn_type': 'gcn-virtual', 'loss_type': 'noisy_ce', 'graph_pooling': 'mean', 'dropout': 0.272034528622351, 'num_layers': 3, 'embedding_dim': 128}. Best is trial 13 with value: 0.5241071428571429.\n",
      "gnn_type='gcn'\n",
      "loss_type='nosy_ce'\n",
      "graph_pooling='mean'\n",
      "drop_ratio=0.0869101636575851\n",
      "num_layers=4\n",
      "embedding_dim=600\n",
      "num_epochs=20\n"
     ]
    },
    {
     "data": {
      "application/vnd.jupyter.widget-view+json": {
       "model_id": "2094f4189e8f4f6496e2bd159ed87ea9",
       "version_major": 2,
       "version_minor": 0
      },
      "text/plain": [
       "Training...:   0%|          | 0/20 [00:00<?, ?it/s]"
      ]
     },
     "metadata": {},
     "output_type": "display_data"
    },
    {
     "name": "stdout",
     "output_type": "stream",
     "text": [
      "[checkpoint] saved: /home/haislich/Documents/noisy_labels/hackaton/checkpoints/B/model_B_epoch_4.pth\n",
      "[checkpoint] saved: /home/haislich/Documents/noisy_labels/hackaton/checkpoints/B/model_B_epoch_8.pth\n",
      "[checkpoint] saved: /home/haislich/Documents/noisy_labels/hackaton/checkpoints/B/model_B_epoch_12.pth\n",
      "[checkpoint] saved: /home/haislich/Documents/noisy_labels/hackaton/checkpoints/B/model_B_epoch_16.pth\n",
      "[checkpoint] saved: /home/haislich/Documents/noisy_labels/hackaton/checkpoints/B/model_B_epoch_20.pth\n",
      "[I 2025-05-30 05:15:28,698] Trial 27 finished with value: 0.45625 and parameters: {'gnn_type': 'gin-virtual', 'loss_type': 'noisy_ce', 'graph_pooling': 'max', 'dropout': 0.0869101636575851, 'num_layers': 4, 'embedding_dim': 600}. Best is trial 13 with value: 0.5241071428571429.\n",
      "gnn_type='gcn'\n",
      "loss_type='nosy_ce'\n",
      "graph_pooling='mean'\n",
      "drop_ratio=0.5197459129479014\n",
      "num_layers=3\n",
      "embedding_dim=64\n",
      "num_epochs=20\n"
     ]
    },
    {
     "data": {
      "application/vnd.jupyter.widget-view+json": {
       "model_id": "362175264de1472a824153231e1381db",
       "version_major": 2,
       "version_minor": 0
      },
      "text/plain": [
       "Training...:   0%|          | 0/20 [00:00<?, ?it/s]"
      ]
     },
     "metadata": {},
     "output_type": "display_data"
    },
    {
     "name": "stdout",
     "output_type": "stream",
     "text": [
      "[checkpoint] saved: /home/haislich/Documents/noisy_labels/hackaton/checkpoints/B/model_B_epoch_4.pth\n",
      "[checkpoint] saved: /home/haislich/Documents/noisy_labels/hackaton/checkpoints/B/model_B_epoch_8.pth\n",
      "[checkpoint] saved: /home/haislich/Documents/noisy_labels/hackaton/checkpoints/B/model_B_epoch_12.pth\n",
      "[checkpoint] saved: /home/haislich/Documents/noisy_labels/hackaton/checkpoints/B/model_B_epoch_16.pth\n",
      "[checkpoint] saved: /home/haislich/Documents/noisy_labels/hackaton/checkpoints/B/model_B_epoch_20.pth\n",
      "[I 2025-05-30 05:15:57,476] Trial 28 finished with value: 0.45982142857142855 and parameters: {'gnn_type': 'gcn', 'loss_type': 'ncod', 'graph_pooling': 'attention', 'dropout': 0.5197459129479014, 'num_layers': 3, 'embedding_dim': 64}. Best is trial 13 with value: 0.5241071428571429.\n",
      "gnn_type='gcn'\n",
      "loss_type='nosy_ce'\n",
      "graph_pooling='mean'\n",
      "drop_ratio=0.3483181390857957\n",
      "num_layers=10\n",
      "embedding_dim=128\n",
      "num_epochs=20\n"
     ]
    },
    {
     "data": {
      "application/vnd.jupyter.widget-view+json": {
       "model_id": "5a899b301f6b488180380d27a1dc2f09",
       "version_major": 2,
       "version_minor": 0
      },
      "text/plain": [
       "Training...:   0%|          | 0/20 [00:00<?, ?it/s]"
      ]
     },
     "metadata": {},
     "output_type": "display_data"
    },
    {
     "name": "stdout",
     "output_type": "stream",
     "text": [
      "[checkpoint] saved: /home/haislich/Documents/noisy_labels/hackaton/checkpoints/B/model_B_epoch_4.pth\n",
      "[checkpoint] saved: /home/haislich/Documents/noisy_labels/hackaton/checkpoints/B/model_B_epoch_8.pth\n",
      "[checkpoint] saved: /home/haislich/Documents/noisy_labels/hackaton/checkpoints/B/model_B_epoch_12.pth\n",
      "[checkpoint] saved: /home/haislich/Documents/noisy_labels/hackaton/checkpoints/B/model_B_epoch_16.pth\n",
      "[checkpoint] saved: /home/haislich/Documents/noisy_labels/hackaton/checkpoints/B/model_B_epoch_20.pth\n",
      "[I 2025-05-30 05:18:05,762] Trial 29 finished with value: 0.4625 and parameters: {'gnn_type': 'gcn-virtual', 'loss_type': 'ncod', 'graph_pooling': 'mean', 'dropout': 0.3483181390857957, 'num_layers': 10, 'embedding_dim': 128}. Best is trial 13 with value: 0.5241071428571429.\n",
      "gnn_type='gcn'\n",
      "loss_type='nosy_ce'\n",
      "graph_pooling='mean'\n",
      "drop_ratio=0.15871863161413127\n",
      "num_layers=8\n",
      "embedding_dim=300\n",
      "num_epochs=20\n"
     ]
    },
    {
     "data": {
      "application/vnd.jupyter.widget-view+json": {
       "model_id": "9d3d32b865644b2fad9474392542d12a",
       "version_major": 2,
       "version_minor": 0
      },
      "text/plain": [
       "Training...:   0%|          | 0/20 [00:00<?, ?it/s]"
      ]
     },
     "metadata": {},
     "output_type": "display_data"
    },
    {
     "name": "stdout",
     "output_type": "stream",
     "text": [
      "[checkpoint] saved: /home/haislich/Documents/noisy_labels/hackaton/checkpoints/B/model_B_epoch_4.pth\n",
      "[checkpoint] saved: /home/haislich/Documents/noisy_labels/hackaton/checkpoints/B/model_B_epoch_8.pth\n",
      "[checkpoint] saved: /home/haislich/Documents/noisy_labels/hackaton/checkpoints/B/model_B_epoch_12.pth\n",
      "[checkpoint] saved: /home/haislich/Documents/noisy_labels/hackaton/checkpoints/B/model_B_epoch_16.pth\n",
      "[I 2025-05-30 05:21:22,430] Trial 30 pruned. \n",
      "gnn_type='gcn'\n",
      "loss_type='nosy_ce'\n",
      "graph_pooling='mean'\n",
      "drop_ratio=0.23604411138096204\n",
      "num_layers=4\n",
      "embedding_dim=300\n",
      "num_epochs=20\n"
     ]
    },
    {
     "data": {
      "application/vnd.jupyter.widget-view+json": {
       "model_id": "8702018ee0ae403bbf1acb55cf349f45",
       "version_major": 2,
       "version_minor": 0
      },
      "text/plain": [
       "Training...:   0%|          | 0/20 [00:00<?, ?it/s]"
      ]
     },
     "metadata": {},
     "output_type": "display_data"
    },
    {
     "name": "stdout",
     "output_type": "stream",
     "text": [
      "[checkpoint] saved: /home/haislich/Documents/noisy_labels/hackaton/checkpoints/B/model_B_epoch_4.pth\n",
      "[checkpoint] saved: /home/haislich/Documents/noisy_labels/hackaton/checkpoints/B/model_B_epoch_8.pth\n",
      "[checkpoint] saved: /home/haislich/Documents/noisy_labels/hackaton/checkpoints/B/model_B_epoch_12.pth\n",
      "[checkpoint] saved: /home/haislich/Documents/noisy_labels/hackaton/checkpoints/B/model_B_epoch_16.pth\n",
      "[checkpoint] saved: /home/haislich/Documents/noisy_labels/hackaton/checkpoints/B/model_B_epoch_20.pth\n",
      "[I 2025-05-30 05:23:22,174] Trial 31 finished with value: 0.4669642857142857 and parameters: {'gnn_type': 'gin', 'loss_type': 'ce', 'graph_pooling': 'sum', 'dropout': 0.23604411138096204, 'num_layers': 4, 'embedding_dim': 300}. Best is trial 13 with value: 0.5241071428571429.\n",
      "gnn_type='gcn'\n",
      "loss_type='nosy_ce'\n",
      "graph_pooling='mean'\n",
      "drop_ratio=0.2322416964664303\n",
      "num_layers=5\n",
      "embedding_dim=300\n",
      "num_epochs=20\n"
     ]
    },
    {
     "data": {
      "application/vnd.jupyter.widget-view+json": {
       "model_id": "f22937cd449848b2991b90d4155628ba",
       "version_major": 2,
       "version_minor": 0
      },
      "text/plain": [
       "Training...:   0%|          | 0/20 [00:00<?, ?it/s]"
      ]
     },
     "metadata": {},
     "output_type": "display_data"
    },
    {
     "name": "stdout",
     "output_type": "stream",
     "text": [
      "[checkpoint] saved: /home/haislich/Documents/noisy_labels/hackaton/checkpoints/B/model_B_epoch_4.pth\n",
      "[checkpoint] saved: /home/haislich/Documents/noisy_labels/hackaton/checkpoints/B/model_B_epoch_8.pth\n",
      "[checkpoint] saved: /home/haislich/Documents/noisy_labels/hackaton/checkpoints/B/model_B_epoch_12.pth\n",
      "[checkpoint] saved: /home/haislich/Documents/noisy_labels/hackaton/checkpoints/B/model_B_epoch_16.pth\n",
      "[checkpoint] saved: /home/haislich/Documents/noisy_labels/hackaton/checkpoints/B/model_B_epoch_20.pth\n",
      "[I 2025-05-30 05:25:50,708] Trial 32 finished with value: 0.43839285714285714 and parameters: {'gnn_type': 'gin', 'loss_type': 'ncod', 'graph_pooling': 'max', 'dropout': 0.2322416964664303, 'num_layers': 5, 'embedding_dim': 300}. Best is trial 13 with value: 0.5241071428571429.\n",
      "gnn_type='gcn'\n",
      "loss_type='nosy_ce'\n",
      "graph_pooling='mean'\n",
      "drop_ratio=0.09947028098037247\n",
      "num_layers=4\n",
      "embedding_dim=300\n",
      "num_epochs=20\n"
     ]
    },
    {
     "data": {
      "application/vnd.jupyter.widget-view+json": {
       "model_id": "c99f51fbebcb45c5b813fb59f3fed594",
       "version_major": 2,
       "version_minor": 0
      },
      "text/plain": [
       "Training...:   0%|          | 0/20 [00:00<?, ?it/s]"
      ]
     },
     "metadata": {},
     "output_type": "display_data"
    },
    {
     "name": "stdout",
     "output_type": "stream",
     "text": [
      "[checkpoint] saved: /home/haislich/Documents/noisy_labels/hackaton/checkpoints/B/model_B_epoch_4.pth\n",
      "[checkpoint] saved: /home/haislich/Documents/noisy_labels/hackaton/checkpoints/B/model_B_epoch_8.pth\n",
      "[checkpoint] saved: /home/haislich/Documents/noisy_labels/hackaton/checkpoints/B/model_B_epoch_12.pth\n",
      "[checkpoint] saved: /home/haislich/Documents/noisy_labels/hackaton/checkpoints/B/model_B_epoch_16.pth\n",
      "[checkpoint] saved: /home/haislich/Documents/noisy_labels/hackaton/checkpoints/B/model_B_epoch_20.pth\n",
      "[I 2025-05-30 05:27:51,602] Trial 33 finished with value: 0.45714285714285713 and parameters: {'gnn_type': 'gin', 'loss_type': 'ncod', 'graph_pooling': 'max', 'dropout': 0.09947028098037247, 'num_layers': 4, 'embedding_dim': 300}. Best is trial 13 with value: 0.5241071428571429.\n",
      "gnn_type='gcn'\n",
      "loss_type='nosy_ce'\n",
      "graph_pooling='mean'\n",
      "drop_ratio=0.2836839994306304\n",
      "num_layers=3\n",
      "embedding_dim=128\n",
      "num_epochs=20\n"
     ]
    },
    {
     "data": {
      "application/vnd.jupyter.widget-view+json": {
       "model_id": "15867b12ffba464db957fa9ffe09bedd",
       "version_major": 2,
       "version_minor": 0
      },
      "text/plain": [
       "Training...:   0%|          | 0/20 [00:00<?, ?it/s]"
      ]
     },
     "metadata": {},
     "output_type": "display_data"
    },
    {
     "name": "stdout",
     "output_type": "stream",
     "text": [
      "[checkpoint] saved: /home/haislich/Documents/noisy_labels/hackaton/checkpoints/B/model_B_epoch_4.pth\n",
      "[checkpoint] saved: /home/haislich/Documents/noisy_labels/hackaton/checkpoints/B/model_B_epoch_8.pth\n",
      "[checkpoint] saved: /home/haislich/Documents/noisy_labels/hackaton/checkpoints/B/model_B_epoch_12.pth\n",
      "[checkpoint] saved: /home/haislich/Documents/noisy_labels/hackaton/checkpoints/B/model_B_epoch_16.pth\n",
      "[checkpoint] saved: /home/haislich/Documents/noisy_labels/hackaton/checkpoints/B/model_B_epoch_20.pth\n",
      "[I 2025-05-30 05:28:36,610] Trial 34 finished with value: 0.4669642857142857 and parameters: {'gnn_type': 'gin', 'loss_type': 'noisy_ce', 'graph_pooling': 'max', 'dropout': 0.2836839994306304, 'num_layers': 3, 'embedding_dim': 128}. Best is trial 13 with value: 0.5241071428571429.\n",
      "gnn_type='gcn'\n",
      "loss_type='nosy_ce'\n",
      "graph_pooling='mean'\n",
      "drop_ratio=0.3170469616181705\n",
      "num_layers=6\n",
      "embedding_dim=300\n",
      "num_epochs=20\n"
     ]
    },
    {
     "data": {
      "application/vnd.jupyter.widget-view+json": {
       "model_id": "394d5fb705ca4a3f94d67c0a581ecb6b",
       "version_major": 2,
       "version_minor": 0
      },
      "text/plain": [
       "Training...:   0%|          | 0/20 [00:00<?, ?it/s]"
      ]
     },
     "metadata": {},
     "output_type": "display_data"
    },
    {
     "name": "stdout",
     "output_type": "stream",
     "text": [
      "[checkpoint] saved: /home/haislich/Documents/noisy_labels/hackaton/checkpoints/B/model_B_epoch_4.pth\n",
      "[checkpoint] saved: /home/haislich/Documents/noisy_labels/hackaton/checkpoints/B/model_B_epoch_8.pth\n",
      "[checkpoint] saved: /home/haislich/Documents/noisy_labels/hackaton/checkpoints/B/model_B_epoch_12.pth\n",
      "[checkpoint] saved: /home/haislich/Documents/noisy_labels/hackaton/checkpoints/B/model_B_epoch_16.pth\n",
      "[checkpoint] saved: /home/haislich/Documents/noisy_labels/hackaton/checkpoints/B/model_B_epoch_20.pth\n",
      "[I 2025-05-30 05:31:31,810] Trial 35 pruned. \n",
      "gnn_type='gcn'\n",
      "loss_type='nosy_ce'\n",
      "graph_pooling='mean'\n",
      "drop_ratio=0.16765827073762138\n",
      "num_layers=5\n",
      "embedding_dim=300\n",
      "num_epochs=20\n"
     ]
    },
    {
     "data": {
      "application/vnd.jupyter.widget-view+json": {
       "model_id": "ffc3e069c7f9459b8d6608be9b63c29b",
       "version_major": 2,
       "version_minor": 0
      },
      "text/plain": [
       "Training...:   0%|          | 0/20 [00:00<?, ?it/s]"
      ]
     },
     "metadata": {},
     "output_type": "display_data"
    },
    {
     "name": "stdout",
     "output_type": "stream",
     "text": [
      "[checkpoint] saved: /home/haislich/Documents/noisy_labels/hackaton/checkpoints/B/model_B_epoch_4.pth\n",
      "[checkpoint] saved: /home/haislich/Documents/noisy_labels/hackaton/checkpoints/B/model_B_epoch_8.pth\n",
      "[checkpoint] saved: /home/haislich/Documents/noisy_labels/hackaton/checkpoints/B/model_B_epoch_12.pth\n",
      "[checkpoint] saved: /home/haislich/Documents/noisy_labels/hackaton/checkpoints/B/model_B_epoch_16.pth\n",
      "[checkpoint] saved: /home/haislich/Documents/noisy_labels/hackaton/checkpoints/B/model_B_epoch_20.pth\n",
      "[I 2025-05-30 05:33:59,514] Trial 36 finished with value: 0.4446428571428571 and parameters: {'gnn_type': 'gin', 'loss_type': 'noisy_ce', 'graph_pooling': 'mean', 'dropout': 0.16765827073762138, 'num_layers': 5, 'embedding_dim': 300}. Best is trial 13 with value: 0.5241071428571429.\n",
      "gnn_type='gcn'\n",
      "loss_type='nosy_ce'\n",
      "graph_pooling='mean'\n",
      "drop_ratio=0.33554371442804237\n",
      "num_layers=9\n",
      "embedding_dim=64\n",
      "num_epochs=20\n"
     ]
    },
    {
     "data": {
      "application/vnd.jupyter.widget-view+json": {
       "model_id": "48dff81070944cd89199890f0e58ea6a",
       "version_major": 2,
       "version_minor": 0
      },
      "text/plain": [
       "Training...:   0%|          | 0/20 [00:00<?, ?it/s]"
      ]
     },
     "metadata": {},
     "output_type": "display_data"
    },
    {
     "name": "stdout",
     "output_type": "stream",
     "text": [
      "[checkpoint] saved: /home/haislich/Documents/noisy_labels/hackaton/checkpoints/B/model_B_epoch_4.pth\n",
      "[checkpoint] saved: /home/haislich/Documents/noisy_labels/hackaton/checkpoints/B/model_B_epoch_8.pth\n",
      "[I 2025-05-30 05:34:36,594] Trial 37 pruned. \n",
      "gnn_type='gcn'\n",
      "loss_type='nosy_ce'\n",
      "graph_pooling='mean'\n",
      "drop_ratio=0.25664655003320946\n",
      "num_layers=3\n",
      "embedding_dim=128\n",
      "num_epochs=20\n"
     ]
    },
    {
     "data": {
      "application/vnd.jupyter.widget-view+json": {
       "model_id": "6f9b99e6a1ab420a8fafd9ed8e3873d5",
       "version_major": 2,
       "version_minor": 0
      },
      "text/plain": [
       "Training...:   0%|          | 0/20 [00:00<?, ?it/s]"
      ]
     },
     "metadata": {},
     "output_type": "display_data"
    },
    {
     "name": "stdout",
     "output_type": "stream",
     "text": [
      "[checkpoint] saved: /home/haislich/Documents/noisy_labels/hackaton/checkpoints/B/model_B_epoch_4.pth\n",
      "[checkpoint] saved: /home/haislich/Documents/noisy_labels/hackaton/checkpoints/B/model_B_epoch_8.pth\n",
      "[checkpoint] saved: /home/haislich/Documents/noisy_labels/hackaton/checkpoints/B/model_B_epoch_12.pth\n",
      "[checkpoint] saved: /home/haislich/Documents/noisy_labels/hackaton/checkpoints/B/model_B_epoch_16.pth\n",
      "[checkpoint] saved: /home/haislich/Documents/noisy_labels/hackaton/checkpoints/B/model_B_epoch_20.pth\n",
      "[I 2025-05-30 05:35:21,452] Trial 38 finished with value: 0.4973214285714286 and parameters: {'gnn_type': 'gin-virtual', 'loss_type': 'ncod', 'graph_pooling': 'attention', 'dropout': 0.25664655003320946, 'num_layers': 3, 'embedding_dim': 128}. Best is trial 13 with value: 0.5241071428571429.\n",
      "gnn_type='gcn'\n",
      "loss_type='nosy_ce'\n",
      "graph_pooling='mean'\n",
      "drop_ratio=0.04786410587001427\n",
      "num_layers=3\n",
      "embedding_dim=128\n",
      "num_epochs=20\n"
     ]
    },
    {
     "data": {
      "application/vnd.jupyter.widget-view+json": {
       "model_id": "9b152123959b42b3a119cbac6ccf6424",
       "version_major": 2,
       "version_minor": 0
      },
      "text/plain": [
       "Training...:   0%|          | 0/20 [00:00<?, ?it/s]"
      ]
     },
     "metadata": {},
     "output_type": "display_data"
    },
    {
     "name": "stdout",
     "output_type": "stream",
     "text": [
      "[checkpoint] saved: /home/haislich/Documents/noisy_labels/hackaton/checkpoints/B/model_B_epoch_4.pth\n",
      "[checkpoint] saved: /home/haislich/Documents/noisy_labels/hackaton/checkpoints/B/model_B_epoch_8.pth\n",
      "[checkpoint] saved: /home/haislich/Documents/noisy_labels/hackaton/checkpoints/B/model_B_epoch_12.pth\n",
      "[checkpoint] saved: /home/haislich/Documents/noisy_labels/hackaton/checkpoints/B/model_B_epoch_16.pth\n",
      "[checkpoint] saved: /home/haislich/Documents/noisy_labels/hackaton/checkpoints/B/model_B_epoch_20.pth\n",
      "[I 2025-05-30 05:36:06,208] Trial 39 finished with value: 0.4875 and parameters: {'gnn_type': 'gin-virtual', 'loss_type': 'ncod', 'graph_pooling': 'max', 'dropout': 0.04786410587001427, 'num_layers': 3, 'embedding_dim': 128}. Best is trial 13 with value: 0.5241071428571429.\n",
      "gnn_type='gcn'\n",
      "loss_type='nosy_ce'\n",
      "graph_pooling='mean'\n",
      "drop_ratio=0.397530152346543\n",
      "num_layers=3\n",
      "embedding_dim=128\n",
      "num_epochs=20\n"
     ]
    },
    {
     "data": {
      "application/vnd.jupyter.widget-view+json": {
       "model_id": "47e9f55c0f6e4af3b179e244c69c5527",
       "version_major": 2,
       "version_minor": 0
      },
      "text/plain": [
       "Training...:   0%|          | 0/20 [00:00<?, ?it/s]"
      ]
     },
     "metadata": {},
     "output_type": "display_data"
    },
    {
     "name": "stdout",
     "output_type": "stream",
     "text": [
      "[checkpoint] saved: /home/haislich/Documents/noisy_labels/hackaton/checkpoints/B/model_B_epoch_4.pth\n",
      "[checkpoint] saved: /home/haislich/Documents/noisy_labels/hackaton/checkpoints/B/model_B_epoch_8.pth\n",
      "[checkpoint] saved: /home/haislich/Documents/noisy_labels/hackaton/checkpoints/B/model_B_epoch_12.pth\n",
      "[checkpoint] saved: /home/haislich/Documents/noisy_labels/hackaton/checkpoints/B/model_B_epoch_16.pth\n",
      "[checkpoint] saved: /home/haislich/Documents/noisy_labels/hackaton/checkpoints/B/model_B_epoch_20.pth\n",
      "[I 2025-05-30 05:36:51,473] Trial 40 finished with value: 0.47410714285714284 and parameters: {'gnn_type': 'gin-virtual', 'loss_type': 'ncod', 'graph_pooling': 'mean', 'dropout': 0.397530152346543, 'num_layers': 3, 'embedding_dim': 128}. Best is trial 13 with value: 0.5241071428571429.\n",
      "gnn_type='gcn'\n",
      "loss_type='nosy_ce'\n",
      "graph_pooling='mean'\n",
      "drop_ratio=0.25996678062787326\n",
      "num_layers=4\n",
      "embedding_dim=128\n",
      "num_epochs=20\n"
     ]
    },
    {
     "data": {
      "application/vnd.jupyter.widget-view+json": {
       "model_id": "2f59af85adca4e2e858718e738d1eb7b",
       "version_major": 2,
       "version_minor": 0
      },
      "text/plain": [
       "Training...:   0%|          | 0/20 [00:00<?, ?it/s]"
      ]
     },
     "metadata": {},
     "output_type": "display_data"
    },
    {
     "name": "stdout",
     "output_type": "stream",
     "text": [
      "[checkpoint] saved: /home/haislich/Documents/noisy_labels/hackaton/checkpoints/B/model_B_epoch_4.pth\n",
      "[checkpoint] saved: /home/haislich/Documents/noisy_labels/hackaton/checkpoints/B/model_B_epoch_8.pth\n",
      "[checkpoint] saved: /home/haislich/Documents/noisy_labels/hackaton/checkpoints/B/model_B_epoch_12.pth\n",
      "[checkpoint] saved: /home/haislich/Documents/noisy_labels/hackaton/checkpoints/B/model_B_epoch_16.pth\n",
      "[checkpoint] saved: /home/haislich/Documents/noisy_labels/hackaton/checkpoints/B/model_B_epoch_20.pth\n",
      "[I 2025-05-30 05:37:48,386] Trial 41 finished with value: 0.4857142857142857 and parameters: {'gnn_type': 'gin-virtual', 'loss_type': 'ncod', 'graph_pooling': 'attention', 'dropout': 0.25996678062787326, 'num_layers': 4, 'embedding_dim': 128}. Best is trial 13 with value: 0.5241071428571429.\n",
      "gnn_type='gcn'\n",
      "loss_type='nosy_ce'\n",
      "graph_pooling='mean'\n",
      "drop_ratio=0.2140129781039025\n",
      "num_layers=4\n",
      "embedding_dim=128\n",
      "num_epochs=20\n"
     ]
    },
    {
     "data": {
      "application/vnd.jupyter.widget-view+json": {
       "model_id": "f463820001324430be9ad8ab62c26e3b",
       "version_major": 2,
       "version_minor": 0
      },
      "text/plain": [
       "Training...:   0%|          | 0/20 [00:00<?, ?it/s]"
      ]
     },
     "metadata": {},
     "output_type": "display_data"
    },
    {
     "name": "stdout",
     "output_type": "stream",
     "text": [
      "[checkpoint] saved: /home/haislich/Documents/noisy_labels/hackaton/checkpoints/B/model_B_epoch_4.pth\n",
      "[checkpoint] saved: /home/haislich/Documents/noisy_labels/hackaton/checkpoints/B/model_B_epoch_8.pth\n",
      "[checkpoint] saved: /home/haislich/Documents/noisy_labels/hackaton/checkpoints/B/model_B_epoch_12.pth\n",
      "[I 2025-05-30 05:38:25,169] Trial 42 pruned. \n",
      "gnn_type='gcn'\n",
      "loss_type='nosy_ce'\n",
      "graph_pooling='mean'\n",
      "drop_ratio=0.2962723088527464\n",
      "num_layers=3\n",
      "embedding_dim=600\n",
      "num_epochs=20\n"
     ]
    },
    {
     "data": {
      "application/vnd.jupyter.widget-view+json": {
       "model_id": "09561c344bba4db9a362f1ced26ecdde",
       "version_major": 2,
       "version_minor": 0
      },
      "text/plain": [
       "Training...:   0%|          | 0/20 [00:00<?, ?it/s]"
      ]
     },
     "metadata": {},
     "output_type": "display_data"
    },
    {
     "name": "stdout",
     "output_type": "stream",
     "text": [
      "[checkpoint] saved: /home/haislich/Documents/noisy_labels/hackaton/checkpoints/B/model_B_epoch_4.pth\n",
      "[checkpoint] saved: /home/haislich/Documents/noisy_labels/hackaton/checkpoints/B/model_B_epoch_8.pth\n",
      "[checkpoint] saved: /home/haislich/Documents/noisy_labels/hackaton/checkpoints/B/model_B_epoch_12.pth\n",
      "[checkpoint] saved: /home/haislich/Documents/noisy_labels/hackaton/checkpoints/B/model_B_epoch_16.pth\n",
      "[checkpoint] saved: /home/haislich/Documents/noisy_labels/hackaton/checkpoints/B/model_B_epoch_20.pth\n",
      "[I 2025-05-30 05:41:25,235] Trial 43 finished with value: 0.49642857142857144 and parameters: {'gnn_type': 'gcn', 'loss_type': 'ncod', 'graph_pooling': 'sum', 'dropout': 0.2962723088527464, 'num_layers': 3, 'embedding_dim': 600}. Best is trial 13 with value: 0.5241071428571429.\n",
      "gnn_type='gcn'\n",
      "loss_type='nosy_ce'\n",
      "graph_pooling='mean'\n",
      "drop_ratio=0.2929668581443452\n",
      "num_layers=3\n",
      "embedding_dim=600\n",
      "num_epochs=20\n"
     ]
    },
    {
     "data": {
      "application/vnd.jupyter.widget-view+json": {
       "model_id": "e4c156083aa14d5bb196bfd3f3fb744c",
       "version_major": 2,
       "version_minor": 0
      },
      "text/plain": [
       "Training...:   0%|          | 0/20 [00:00<?, ?it/s]"
      ]
     },
     "metadata": {},
     "output_type": "display_data"
    },
    {
     "name": "stdout",
     "output_type": "stream",
     "text": [
      "[checkpoint] saved: /home/haislich/Documents/noisy_labels/hackaton/checkpoints/B/model_B_epoch_4.pth\n",
      "[checkpoint] saved: /home/haislich/Documents/noisy_labels/hackaton/checkpoints/B/model_B_epoch_8.pth\n",
      "[checkpoint] saved: /home/haislich/Documents/noisy_labels/hackaton/checkpoints/B/model_B_epoch_12.pth\n",
      "[checkpoint] saved: /home/haislich/Documents/noisy_labels/hackaton/checkpoints/B/model_B_epoch_16.pth\n",
      "[checkpoint] saved: /home/haislich/Documents/noisy_labels/hackaton/checkpoints/B/model_B_epoch_20.pth\n",
      "[I 2025-05-30 05:44:24,999] Trial 44 finished with value: 0.49642857142857144 and parameters: {'gnn_type': 'gcn', 'loss_type': 'noisy_ce', 'graph_pooling': 'max', 'dropout': 0.2929668581443452, 'num_layers': 3, 'embedding_dim': 600}. Best is trial 13 with value: 0.5241071428571429.\n",
      "gnn_type='gcn'\n",
      "loss_type='nosy_ce'\n",
      "graph_pooling='mean'\n",
      "drop_ratio=0.31908497240254724\n",
      "num_layers=5\n",
      "embedding_dim=600\n",
      "num_epochs=20\n"
     ]
    },
    {
     "data": {
      "application/vnd.jupyter.widget-view+json": {
       "model_id": "ffa7c27bd91a4755a92a535759dc95ea",
       "version_major": 2,
       "version_minor": 0
      },
      "text/plain": [
       "Training...:   0%|          | 0/20 [00:00<?, ?it/s]"
      ]
     },
     "metadata": {},
     "output_type": "display_data"
    },
    {
     "name": "stdout",
     "output_type": "stream",
     "text": [
      "[checkpoint] saved: /home/haislich/Documents/noisy_labels/hackaton/checkpoints/B/model_B_epoch_4.pth\n",
      "[checkpoint] saved: /home/haislich/Documents/noisy_labels/hackaton/checkpoints/B/model_B_epoch_8.pth\n",
      "[checkpoint] saved: /home/haislich/Documents/noisy_labels/hackaton/checkpoints/B/model_B_epoch_12.pth\n",
      "[checkpoint] saved: /home/haislich/Documents/noisy_labels/hackaton/checkpoints/B/model_B_epoch_16.pth\n",
      "[checkpoint] saved: /home/haislich/Documents/noisy_labels/hackaton/checkpoints/B/model_B_epoch_20.pth\n",
      "[I 2025-05-30 05:49:18,614] Trial 45 finished with value: 0.47410714285714284 and parameters: {'gnn_type': 'gcn', 'loss_type': 'noisy_ce', 'graph_pooling': 'max', 'dropout': 0.31908497240254724, 'num_layers': 5, 'embedding_dim': 600}. Best is trial 13 with value: 0.5241071428571429.\n",
      "gnn_type='gcn'\n",
      "loss_type='nosy_ce'\n",
      "graph_pooling='mean'\n",
      "drop_ratio=0.20113460080184567\n",
      "num_layers=3\n",
      "embedding_dim=600\n",
      "num_epochs=20\n"
     ]
    },
    {
     "data": {
      "application/vnd.jupyter.widget-view+json": {
       "model_id": "a5c51384ea944dba8f2e0a3bfe2d6a70",
       "version_major": 2,
       "version_minor": 0
      },
      "text/plain": [
       "Training...:   0%|          | 0/20 [00:00<?, ?it/s]"
      ]
     },
     "metadata": {},
     "output_type": "display_data"
    },
    {
     "name": "stdout",
     "output_type": "stream",
     "text": [
      "[checkpoint] saved: /home/haislich/Documents/noisy_labels/hackaton/checkpoints/B/model_B_epoch_4.pth\n",
      "[checkpoint] saved: /home/haislich/Documents/noisy_labels/hackaton/checkpoints/B/model_B_epoch_8.pth\n",
      "[checkpoint] saved: /home/haislich/Documents/noisy_labels/hackaton/checkpoints/B/model_B_epoch_12.pth\n",
      "[checkpoint] saved: /home/haislich/Documents/noisy_labels/hackaton/checkpoints/B/model_B_epoch_16.pth\n",
      "[checkpoint] saved: /home/haislich/Documents/noisy_labels/hackaton/checkpoints/B/model_B_epoch_20.pth\n",
      "[I 2025-05-30 05:52:18,758] Trial 46 finished with value: 0.5142857142857142 and parameters: {'gnn_type': 'gcn', 'loss_type': 'ncod', 'graph_pooling': 'attention', 'dropout': 0.20113460080184567, 'num_layers': 3, 'embedding_dim': 600}. Best is trial 13 with value: 0.5241071428571429.\n",
      "gnn_type='gcn'\n",
      "loss_type='nosy_ce'\n",
      "graph_pooling='mean'\n",
      "drop_ratio=0.11746414504518149\n",
      "num_layers=6\n",
      "embedding_dim=64\n",
      "num_epochs=20\n"
     ]
    },
    {
     "data": {
      "application/vnd.jupyter.widget-view+json": {
       "model_id": "5c2541005e4c4717b8dfa60697439246",
       "version_major": 2,
       "version_minor": 0
      },
      "text/plain": [
       "Training...:   0%|          | 0/20 [00:00<?, ?it/s]"
      ]
     },
     "metadata": {},
     "output_type": "display_data"
    },
    {
     "name": "stdout",
     "output_type": "stream",
     "text": [
      "[checkpoint] saved: /home/haislich/Documents/noisy_labels/hackaton/checkpoints/B/model_B_epoch_4.pth\n",
      "[checkpoint] saved: /home/haislich/Documents/noisy_labels/hackaton/checkpoints/B/model_B_epoch_8.pth\n",
      "[checkpoint] saved: /home/haislich/Documents/noisy_labels/hackaton/checkpoints/B/model_B_epoch_12.pth\n",
      "[checkpoint] saved: /home/haislich/Documents/noisy_labels/hackaton/checkpoints/B/model_B_epoch_16.pth\n",
      "[checkpoint] saved: /home/haislich/Documents/noisy_labels/hackaton/checkpoints/B/model_B_epoch_20.pth\n",
      "[I 2025-05-30 05:53:06,953] Trial 47 finished with value: 0.44285714285714284 and parameters: {'gnn_type': 'gcn', 'loss_type': 'ncod', 'graph_pooling': 'sum', 'dropout': 0.11746414504518149, 'num_layers': 6, 'embedding_dim': 64}. Best is trial 13 with value: 0.5241071428571429.\n",
      "gnn_type='gcn'\n",
      "loss_type='nosy_ce'\n",
      "graph_pooling='mean'\n",
      "drop_ratio=0.1873851793705748\n",
      "num_layers=3\n",
      "embedding_dim=600\n",
      "num_epochs=20\n"
     ]
    },
    {
     "data": {
      "application/vnd.jupyter.widget-view+json": {
       "model_id": "555f670f1e8541cf9347effa1397841a",
       "version_major": 2,
       "version_minor": 0
      },
      "text/plain": [
       "Training...:   0%|          | 0/20 [00:00<?, ?it/s]"
      ]
     },
     "metadata": {},
     "output_type": "display_data"
    },
    {
     "name": "stdout",
     "output_type": "stream",
     "text": [
      "[checkpoint] saved: /home/haislich/Documents/noisy_labels/hackaton/checkpoints/B/model_B_epoch_4.pth\n",
      "[checkpoint] saved: /home/haislich/Documents/noisy_labels/hackaton/checkpoints/B/model_B_epoch_8.pth\n",
      "[checkpoint] saved: /home/haislich/Documents/noisy_labels/hackaton/checkpoints/B/model_B_epoch_12.pth\n",
      "[checkpoint] saved: /home/haislich/Documents/noisy_labels/hackaton/checkpoints/B/model_B_epoch_16.pth\n",
      "[checkpoint] saved: /home/haislich/Documents/noisy_labels/hackaton/checkpoints/B/model_B_epoch_20.pth\n",
      "[I 2025-05-30 05:56:07,084] Trial 48 finished with value: 0.45625 and parameters: {'gnn_type': 'gcn', 'loss_type': 'ncod', 'graph_pooling': 'max', 'dropout': 0.1873851793705748, 'num_layers': 3, 'embedding_dim': 600}. Best is trial 13 with value: 0.5241071428571429.\n",
      "gnn_type='gcn'\n",
      "loss_type='nosy_ce'\n",
      "graph_pooling='mean'\n",
      "drop_ratio=0.4605802993471175\n",
      "num_layers=12\n",
      "embedding_dim=64\n",
      "num_epochs=20\n"
     ]
    },
    {
     "data": {
      "application/vnd.jupyter.widget-view+json": {
       "model_id": "0e266a2d772a4ab7804831058c0e5507",
       "version_major": 2,
       "version_minor": 0
      },
      "text/plain": [
       "Training...:   0%|          | 0/20 [00:00<?, ?it/s]"
      ]
     },
     "metadata": {},
     "output_type": "display_data"
    },
    {
     "name": "stdout",
     "output_type": "stream",
     "text": [
      "[checkpoint] saved: /home/haislich/Documents/noisy_labels/hackaton/checkpoints/B/model_B_epoch_4.pth\n",
      "[checkpoint] saved: /home/haislich/Documents/noisy_labels/hackaton/checkpoints/B/model_B_epoch_8.pth\n",
      "[checkpoint] saved: /home/haislich/Documents/noisy_labels/hackaton/checkpoints/B/model_B_epoch_12.pth\n",
      "[checkpoint] saved: /home/haislich/Documents/noisy_labels/hackaton/checkpoints/B/model_B_epoch_16.pth\n",
      "[checkpoint] saved: /home/haislich/Documents/noisy_labels/hackaton/checkpoints/B/model_B_epoch_20.pth\n",
      "[I 2025-05-30 05:57:34,181] Trial 49 finished with value: 0.4330357142857143 and parameters: {'gnn_type': 'gcn', 'loss_type': 'ncod', 'graph_pooling': 'mean', 'dropout': 0.4605802993471175, 'num_layers': 12, 'embedding_dim': 64}. Best is trial 13 with value: 0.5241071428571429.\n",
      "gnn_type='gcn'\n",
      "loss_type='nosy_ce'\n",
      "graph_pooling='mean'\n",
      "drop_ratio=0.19333395192886946\n",
      "num_layers=4\n",
      "embedding_dim=64\n",
      "num_epochs=20\n"
     ]
    },
    {
     "data": {
      "application/vnd.jupyter.widget-view+json": {
       "model_id": "def17eef8ece4805841af060de569424",
       "version_major": 2,
       "version_minor": 0
      },
      "text/plain": [
       "Training...:   0%|          | 0/20 [00:00<?, ?it/s]"
      ]
     },
     "metadata": {},
     "output_type": "display_data"
    },
    {
     "name": "stdout",
     "output_type": "stream",
     "text": [
      "[checkpoint] saved: /home/haislich/Documents/noisy_labels/hackaton/checkpoints/B/model_B_epoch_4.pth\n",
      "[checkpoint] saved: /home/haislich/Documents/noisy_labels/hackaton/checkpoints/B/model_B_epoch_8.pth\n",
      "[checkpoint] saved: /home/haislich/Documents/noisy_labels/hackaton/checkpoints/B/model_B_epoch_12.pth\n",
      "[checkpoint] saved: /home/haislich/Documents/noisy_labels/hackaton/checkpoints/B/model_B_epoch_16.pth\n",
      "[checkpoint] saved: /home/haislich/Documents/noisy_labels/hackaton/checkpoints/B/model_B_epoch_20.pth\n",
      "[I 2025-05-30 05:58:09,209] Trial 50 finished with value: 0.47232142857142856 and parameters: {'gnn_type': 'gin-virtual', 'loss_type': 'noisy_ce', 'graph_pooling': 'mean', 'dropout': 0.19333395192886946, 'num_layers': 4, 'embedding_dim': 64}. Best is trial 13 with value: 0.5241071428571429.\n",
      "gnn_type='gcn'\n",
      "loss_type='nosy_ce'\n",
      "graph_pooling='mean'\n",
      "drop_ratio=0.2800139778007472\n",
      "num_layers=3\n",
      "embedding_dim=600\n",
      "num_epochs=20\n"
     ]
    },
    {
     "data": {
      "application/vnd.jupyter.widget-view+json": {
       "model_id": "ea476ffffddc490997be9604713118c3",
       "version_major": 2,
       "version_minor": 0
      },
      "text/plain": [
       "Training...:   0%|          | 0/20 [00:00<?, ?it/s]"
      ]
     },
     "metadata": {},
     "output_type": "display_data"
    },
    {
     "name": "stdout",
     "output_type": "stream",
     "text": [
      "[checkpoint] saved: /home/haislich/Documents/noisy_labels/hackaton/checkpoints/B/model_B_epoch_4.pth\n",
      "[checkpoint] saved: /home/haislich/Documents/noisy_labels/hackaton/checkpoints/B/model_B_epoch_8.pth\n",
      "[checkpoint] saved: /home/haislich/Documents/noisy_labels/hackaton/checkpoints/B/model_B_epoch_12.pth\n",
      "[checkpoint] saved: /home/haislich/Documents/noisy_labels/hackaton/checkpoints/B/model_B_epoch_16.pth\n",
      "[checkpoint] saved: /home/haislich/Documents/noisy_labels/hackaton/checkpoints/B/model_B_epoch_20.pth\n",
      "[I 2025-05-30 06:01:09,079] Trial 51 finished with value: 0.5 and parameters: {'gnn_type': 'gcn', 'loss_type': 'noisy_ce', 'graph_pooling': 'sum', 'dropout': 0.2800139778007472, 'num_layers': 3, 'embedding_dim': 600}. Best is trial 13 with value: 0.5241071428571429.\n",
      "gnn_type='gcn'\n",
      "loss_type='nosy_ce'\n",
      "graph_pooling='mean'\n",
      "drop_ratio=0.2653388073136224\n",
      "num_layers=3\n",
      "embedding_dim=600\n",
      "num_epochs=20\n"
     ]
    },
    {
     "data": {
      "application/vnd.jupyter.widget-view+json": {
       "model_id": "1813f6cc1e2744b09d926e0500d23299",
       "version_major": 2,
       "version_minor": 0
      },
      "text/plain": [
       "Training...:   0%|          | 0/20 [00:00<?, ?it/s]"
      ]
     },
     "metadata": {},
     "output_type": "display_data"
    },
    {
     "name": "stdout",
     "output_type": "stream",
     "text": [
      "[checkpoint] saved: /home/haislich/Documents/noisy_labels/hackaton/checkpoints/B/model_B_epoch_4.pth\n",
      "[checkpoint] saved: /home/haislich/Documents/noisy_labels/hackaton/checkpoints/B/model_B_epoch_8.pth\n",
      "[I 2025-05-30 06:02:47,997] Trial 52 pruned. \n",
      "gnn_type='gcn'\n",
      "loss_type='nosy_ce'\n",
      "graph_pooling='mean'\n",
      "drop_ratio=0.6988424213084743\n",
      "num_layers=3\n",
      "embedding_dim=600\n",
      "num_epochs=20\n"
     ]
    },
    {
     "data": {
      "application/vnd.jupyter.widget-view+json": {
       "model_id": "e1cef93e37a24ef79e4c1109709fe172",
       "version_major": 2,
       "version_minor": 0
      },
      "text/plain": [
       "Training...:   0%|          | 0/20 [00:00<?, ?it/s]"
      ]
     },
     "metadata": {},
     "output_type": "display_data"
    },
    {
     "name": "stdout",
     "output_type": "stream",
     "text": [
      "[checkpoint] saved: /home/haislich/Documents/noisy_labels/hackaton/checkpoints/B/model_B_epoch_4.pth\n",
      "[checkpoint] saved: /home/haislich/Documents/noisy_labels/hackaton/checkpoints/B/model_B_epoch_8.pth\n",
      "[I 2025-05-30 06:04:26,802] Trial 53 pruned. \n",
      "gnn_type='gcn'\n",
      "loss_type='nosy_ce'\n",
      "graph_pooling='mean'\n",
      "drop_ratio=0.21940158918190963\n",
      "num_layers=4\n",
      "embedding_dim=600\n",
      "num_epochs=20\n"
     ]
    },
    {
     "data": {
      "application/vnd.jupyter.widget-view+json": {
       "model_id": "1e6b47e636744bb2ac308b2d5f157337",
       "version_major": 2,
       "version_minor": 0
      },
      "text/plain": [
       "Training...:   0%|          | 0/20 [00:00<?, ?it/s]"
      ]
     },
     "metadata": {},
     "output_type": "display_data"
    },
    {
     "name": "stdout",
     "output_type": "stream",
     "text": [
      "[checkpoint] saved: /home/haislich/Documents/noisy_labels/hackaton/checkpoints/B/model_B_epoch_4.pth\n",
      "[checkpoint] saved: /home/haislich/Documents/noisy_labels/hackaton/checkpoints/B/model_B_epoch_8.pth\n",
      "[checkpoint] saved: /home/haislich/Documents/noisy_labels/hackaton/checkpoints/B/model_B_epoch_12.pth\n",
      "[checkpoint] saved: /home/haislich/Documents/noisy_labels/hackaton/checkpoints/B/model_B_epoch_16.pth\n",
      "[checkpoint] saved: /home/haislich/Documents/noisy_labels/hackaton/checkpoints/B/model_B_epoch_20.pth\n",
      "[I 2025-05-30 06:08:23,621] Trial 54 finished with value: 0.44107142857142856 and parameters: {'gnn_type': 'gcn', 'loss_type': 'ncod', 'graph_pooling': 'mean', 'dropout': 0.21940158918190963, 'num_layers': 4, 'embedding_dim': 600}. Best is trial 13 with value: 0.5241071428571429.\n",
      "gnn_type='gcn'\n",
      "loss_type='nosy_ce'\n",
      "graph_pooling='mean'\n",
      "drop_ratio=0.38595105631296284\n",
      "num_layers=5\n",
      "embedding_dim=600\n",
      "num_epochs=20\n"
     ]
    },
    {
     "data": {
      "application/vnd.jupyter.widget-view+json": {
       "model_id": "e3a7afe10f6449cca5e3864536b2a6d2",
       "version_major": 2,
       "version_minor": 0
      },
      "text/plain": [
       "Training...:   0%|          | 0/20 [00:00<?, ?it/s]"
      ]
     },
     "metadata": {},
     "output_type": "display_data"
    },
    {
     "name": "stdout",
     "output_type": "stream",
     "text": [
      "[checkpoint] saved: /home/haislich/Documents/noisy_labels/hackaton/checkpoints/B/model_B_epoch_4.pth\n",
      "[checkpoint] saved: /home/haislich/Documents/noisy_labels/hackaton/checkpoints/B/model_B_epoch_8.pth\n",
      "[checkpoint] saved: /home/haislich/Documents/noisy_labels/hackaton/checkpoints/B/model_B_epoch_12.pth\n",
      "[checkpoint] saved: /home/haislich/Documents/noisy_labels/hackaton/checkpoints/B/model_B_epoch_16.pth\n",
      "[checkpoint] saved: /home/haislich/Documents/noisy_labels/hackaton/checkpoints/B/model_B_epoch_20.pth\n",
      "[I 2025-05-30 06:13:16,891] Trial 55 finished with value: 0.4928571428571429 and parameters: {'gnn_type': 'gcn', 'loss_type': 'noisy_ce', 'graph_pooling': 'sum', 'dropout': 0.38595105631296284, 'num_layers': 5, 'embedding_dim': 600}. Best is trial 13 with value: 0.5241071428571429.\n",
      "gnn_type='gcn'\n",
      "loss_type='nosy_ce'\n",
      "graph_pooling='mean'\n",
      "drop_ratio=0.13877143560423877\n",
      "num_layers=8\n",
      "embedding_dim=64\n",
      "num_epochs=20\n"
     ]
    },
    {
     "data": {
      "application/vnd.jupyter.widget-view+json": {
       "model_id": "86b71733b54a4e5e94c5fc7ad20a22a6",
       "version_major": 2,
       "version_minor": 0
      },
      "text/plain": [
       "Training...:   0%|          | 0/20 [00:00<?, ?it/s]"
      ]
     },
     "metadata": {},
     "output_type": "display_data"
    },
    {
     "name": "stdout",
     "output_type": "stream",
     "text": [
      "[checkpoint] saved: /home/haislich/Documents/noisy_labels/hackaton/checkpoints/B/model_B_epoch_4.pth\n",
      "[checkpoint] saved: /home/haislich/Documents/noisy_labels/hackaton/checkpoints/B/model_B_epoch_8.pth\n",
      "[checkpoint] saved: /home/haislich/Documents/noisy_labels/hackaton/checkpoints/B/model_B_epoch_12.pth\n",
      "[checkpoint] saved: /home/haislich/Documents/noisy_labels/hackaton/checkpoints/B/model_B_epoch_16.pth\n",
      "[checkpoint] saved: /home/haislich/Documents/noisy_labels/hackaton/checkpoints/B/model_B_epoch_20.pth\n",
      "[I 2025-05-30 06:14:18,446] Trial 56 finished with value: 0.48035714285714287 and parameters: {'gnn_type': 'gcn', 'loss_type': 'ncod', 'graph_pooling': 'mean', 'dropout': 0.13877143560423877, 'num_layers': 8, 'embedding_dim': 64}. Best is trial 13 with value: 0.5241071428571429.\n",
      "gnn_type='gcn'\n",
      "loss_type='nosy_ce'\n",
      "graph_pooling='mean'\n",
      "drop_ratio=0.17524489402025817\n",
      "num_layers=3\n",
      "embedding_dim=600\n",
      "num_epochs=20\n"
     ]
    },
    {
     "data": {
      "application/vnd.jupyter.widget-view+json": {
       "model_id": "1a438310819647fca2a0a97f64018f99",
       "version_major": 2,
       "version_minor": 0
      },
      "text/plain": [
       "Training...:   0%|          | 0/20 [00:00<?, ?it/s]"
      ]
     },
     "metadata": {},
     "output_type": "display_data"
    },
    {
     "name": "stdout",
     "output_type": "stream",
     "text": [
      "[checkpoint] saved: /home/haislich/Documents/noisy_labels/hackaton/checkpoints/B/model_B_epoch_4.pth\n",
      "[checkpoint] saved: /home/haislich/Documents/noisy_labels/hackaton/checkpoints/B/model_B_epoch_8.pth\n",
      "[checkpoint] saved: /home/haislich/Documents/noisy_labels/hackaton/checkpoints/B/model_B_epoch_12.pth\n",
      "[checkpoint] saved: /home/haislich/Documents/noisy_labels/hackaton/checkpoints/B/model_B_epoch_16.pth\n",
      "[checkpoint] saved: /home/haislich/Documents/noisy_labels/hackaton/checkpoints/B/model_B_epoch_20.pth\n",
      "[I 2025-05-30 06:17:18,677] Trial 57 finished with value: 0.4732142857142857 and parameters: {'gnn_type': 'gcn-virtual', 'loss_type': 'ncod', 'graph_pooling': 'mean', 'dropout': 0.17524489402025817, 'num_layers': 3, 'embedding_dim': 600}. Best is trial 13 with value: 0.5241071428571429.\n",
      "gnn_type='gcn'\n",
      "loss_type='nosy_ce'\n",
      "graph_pooling='mean'\n",
      "drop_ratio=0.061584013448205244\n",
      "num_layers=4\n",
      "embedding_dim=64\n",
      "num_epochs=20\n"
     ]
    },
    {
     "data": {
      "application/vnd.jupyter.widget-view+json": {
       "model_id": "abc3ceeffe53483993507c90f95cd47a",
       "version_major": 2,
       "version_minor": 0
      },
      "text/plain": [
       "Training...:   0%|          | 0/20 [00:00<?, ?it/s]"
      ]
     },
     "metadata": {},
     "output_type": "display_data"
    },
    {
     "name": "stdout",
     "output_type": "stream",
     "text": [
      "[checkpoint] saved: /home/haislich/Documents/noisy_labels/hackaton/checkpoints/B/model_B_epoch_4.pth\n",
      "[checkpoint] saved: /home/haislich/Documents/noisy_labels/hackaton/checkpoints/B/model_B_epoch_8.pth\n",
      "[checkpoint] saved: /home/haislich/Documents/noisy_labels/hackaton/checkpoints/B/model_B_epoch_12.pth\n",
      "[checkpoint] saved: /home/haislich/Documents/noisy_labels/hackaton/checkpoints/B/model_B_epoch_16.pth\n",
      "[checkpoint] saved: /home/haislich/Documents/noisy_labels/hackaton/checkpoints/B/model_B_epoch_20.pth\n",
      "[I 2025-05-30 06:17:53,750] Trial 58 finished with value: 0.5133928571428571 and parameters: {'gnn_type': 'gcn', 'loss_type': 'ncod', 'graph_pooling': 'attention', 'dropout': 0.061584013448205244, 'num_layers': 4, 'embedding_dim': 64}. Best is trial 13 with value: 0.5241071428571429.\n",
      "gnn_type='gcn'\n",
      "loss_type='nosy_ce'\n",
      "graph_pooling='mean'\n",
      "drop_ratio=0.04757262891930081\n",
      "num_layers=4\n",
      "embedding_dim=64\n",
      "num_epochs=20\n"
     ]
    },
    {
     "data": {
      "application/vnd.jupyter.widget-view+json": {
       "model_id": "3037a14c42554f0b9c93d0c0cffd13ad",
       "version_major": 2,
       "version_minor": 0
      },
      "text/plain": [
       "Training...:   0%|          | 0/20 [00:00<?, ?it/s]"
      ]
     },
     "metadata": {},
     "output_type": "display_data"
    },
    {
     "name": "stdout",
     "output_type": "stream",
     "text": [
      "[checkpoint] saved: /home/haislich/Documents/noisy_labels/hackaton/checkpoints/B/model_B_epoch_4.pth\n",
      "[checkpoint] saved: /home/haislich/Documents/noisy_labels/hackaton/checkpoints/B/model_B_epoch_8.pth\n",
      "[checkpoint] saved: /home/haislich/Documents/noisy_labels/hackaton/checkpoints/B/model_B_epoch_12.pth\n",
      "[checkpoint] saved: /home/haislich/Documents/noisy_labels/hackaton/checkpoints/B/model_B_epoch_16.pth\n",
      "[checkpoint] saved: /home/haislich/Documents/noisy_labels/hackaton/checkpoints/B/model_B_epoch_20.pth\n",
      "[I 2025-05-30 06:18:28,805] Trial 59 finished with value: 0.49642857142857144 and parameters: {'gnn_type': 'gcn', 'loss_type': 'noisy_ce', 'graph_pooling': 'mean', 'dropout': 0.04757262891930081, 'num_layers': 4, 'embedding_dim': 64}. Best is trial 13 with value: 0.5241071428571429.\n",
      "\n",
      "All trials saved to: /home/haislich/Documents/noisy_labels/hackaton/logs/B/optuna_summary_B.csv\n",
      "\n",
      "Best result for dataset B:\n"
     ]
    },
    {
     "data": {
      "text/html": [
       "<div>\n",
       "<style scoped>\n",
       "    .dataframe tbody tr th:only-of-type {\n",
       "        vertical-align: middle;\n",
       "    }\n",
       "\n",
       "    .dataframe tbody tr th {\n",
       "        vertical-align: top;\n",
       "    }\n",
       "\n",
       "    .dataframe thead th {\n",
       "        text-align: right;\n",
       "    }\n",
       "</style>\n",
       "<table border=\"1\" class=\"dataframe\">\n",
       "  <thead>\n",
       "    <tr style=\"text-align: right;\">\n",
       "      <th></th>\n",
       "      <th>accuracy</th>\n",
       "      <th>gnn_type</th>\n",
       "      <th>loss_type</th>\n",
       "      <th>graph_pooling</th>\n",
       "      <th>dropout</th>\n",
       "      <th>num_layers</th>\n",
       "      <th>embedding_dim</th>\n",
       "    </tr>\n",
       "  </thead>\n",
       "  <tbody>\n",
       "    <tr>\n",
       "      <th>11</th>\n",
       "      <td>0.524107</td>\n",
       "      <td>gcn</td>\n",
       "      <td>ncod</td>\n",
       "      <td>sum</td>\n",
       "      <td>0.206049</td>\n",
       "      <td>3</td>\n",
       "      <td>64</td>\n",
       "    </tr>\n",
       "    <tr>\n",
       "      <th>19</th>\n",
       "      <td>0.518750</td>\n",
       "      <td>gin</td>\n",
       "      <td>ncod</td>\n",
       "      <td>mean</td>\n",
       "      <td>0.252029</td>\n",
       "      <td>3</td>\n",
       "      <td>300</td>\n",
       "    </tr>\n",
       "    <tr>\n",
       "      <th>37</th>\n",
       "      <td>0.514286</td>\n",
       "      <td>gcn</td>\n",
       "      <td>ncod</td>\n",
       "      <td>attention</td>\n",
       "      <td>0.201135</td>\n",
       "      <td>3</td>\n",
       "      <td>600</td>\n",
       "    </tr>\n",
       "    <tr>\n",
       "      <th>47</th>\n",
       "      <td>0.513393</td>\n",
       "      <td>gcn</td>\n",
       "      <td>ncod</td>\n",
       "      <td>attention</td>\n",
       "      <td>0.061584</td>\n",
       "      <td>4</td>\n",
       "      <td>64</td>\n",
       "    </tr>\n",
       "    <tr>\n",
       "      <th>9</th>\n",
       "      <td>0.509821</td>\n",
       "      <td>gcn</td>\n",
       "      <td>ncod</td>\n",
       "      <td>mean</td>\n",
       "      <td>0.331577</td>\n",
       "      <td>5</td>\n",
       "      <td>64</td>\n",
       "    </tr>\n",
       "    <tr>\n",
       "      <th>42</th>\n",
       "      <td>0.500000</td>\n",
       "      <td>gcn</td>\n",
       "      <td>noisy_ce</td>\n",
       "      <td>sum</td>\n",
       "      <td>0.280014</td>\n",
       "      <td>3</td>\n",
       "      <td>600</td>\n",
       "    </tr>\n",
       "    <tr>\n",
       "      <th>30</th>\n",
       "      <td>0.497321</td>\n",
       "      <td>gin-virtual</td>\n",
       "      <td>ncod</td>\n",
       "      <td>attention</td>\n",
       "      <td>0.256647</td>\n",
       "      <td>3</td>\n",
       "      <td>128</td>\n",
       "    </tr>\n",
       "    <tr>\n",
       "      <th>34</th>\n",
       "      <td>0.496429</td>\n",
       "      <td>gcn</td>\n",
       "      <td>ncod</td>\n",
       "      <td>sum</td>\n",
       "      <td>0.296272</td>\n",
       "      <td>3</td>\n",
       "      <td>600</td>\n",
       "    </tr>\n",
       "    <tr>\n",
       "      <th>48</th>\n",
       "      <td>0.496429</td>\n",
       "      <td>gcn</td>\n",
       "      <td>noisy_ce</td>\n",
       "      <td>mean</td>\n",
       "      <td>0.047573</td>\n",
       "      <td>4</td>\n",
       "      <td>64</td>\n",
       "    </tr>\n",
       "    <tr>\n",
       "      <th>35</th>\n",
       "      <td>0.496429</td>\n",
       "      <td>gcn</td>\n",
       "      <td>noisy_ce</td>\n",
       "      <td>max</td>\n",
       "      <td>0.292967</td>\n",
       "      <td>3</td>\n",
       "      <td>600</td>\n",
       "    </tr>\n",
       "    <tr>\n",
       "      <th>15</th>\n",
       "      <td>0.495536</td>\n",
       "      <td>gin</td>\n",
       "      <td>noisy_ce</td>\n",
       "      <td>mean</td>\n",
       "      <td>0.239474</td>\n",
       "      <td>4</td>\n",
       "      <td>300</td>\n",
       "    </tr>\n",
       "    <tr>\n",
       "      <th>44</th>\n",
       "      <td>0.492857</td>\n",
       "      <td>gcn</td>\n",
       "      <td>noisy_ce</td>\n",
       "      <td>sum</td>\n",
       "      <td>0.385951</td>\n",
       "      <td>5</td>\n",
       "      <td>600</td>\n",
       "    </tr>\n",
       "    <tr>\n",
       "      <th>14</th>\n",
       "      <td>0.490179</td>\n",
       "      <td>gcn</td>\n",
       "      <td>noisy_ce</td>\n",
       "      <td>mean</td>\n",
       "      <td>0.394377</td>\n",
       "      <td>3</td>\n",
       "      <td>64</td>\n",
       "    </tr>\n",
       "    <tr>\n",
       "      <th>31</th>\n",
       "      <td>0.487500</td>\n",
       "      <td>gin-virtual</td>\n",
       "      <td>ncod</td>\n",
       "      <td>max</td>\n",
       "      <td>0.047864</td>\n",
       "      <td>3</td>\n",
       "      <td>128</td>\n",
       "    </tr>\n",
       "    <tr>\n",
       "      <th>6</th>\n",
       "      <td>0.486607</td>\n",
       "      <td>gcn</td>\n",
       "      <td>ncod</td>\n",
       "      <td>mean</td>\n",
       "      <td>0.302285</td>\n",
       "      <td>5</td>\n",
       "      <td>64</td>\n",
       "    </tr>\n",
       "    <tr>\n",
       "      <th>33</th>\n",
       "      <td>0.485714</td>\n",
       "      <td>gin-virtual</td>\n",
       "      <td>ncod</td>\n",
       "      <td>attention</td>\n",
       "      <td>0.259967</td>\n",
       "      <td>4</td>\n",
       "      <td>128</td>\n",
       "    </tr>\n",
       "    <tr>\n",
       "      <th>12</th>\n",
       "      <td>0.482143</td>\n",
       "      <td>gcn</td>\n",
       "      <td>noisy_ce</td>\n",
       "      <td>sum</td>\n",
       "      <td>0.187155</td>\n",
       "      <td>3</td>\n",
       "      <td>64</td>\n",
       "    </tr>\n",
       "    <tr>\n",
       "      <th>45</th>\n",
       "      <td>0.480357</td>\n",
       "      <td>gcn</td>\n",
       "      <td>ncod</td>\n",
       "      <td>mean</td>\n",
       "      <td>0.138771</td>\n",
       "      <td>8</td>\n",
       "      <td>64</td>\n",
       "    </tr>\n",
       "    <tr>\n",
       "      <th>16</th>\n",
       "      <td>0.479464</td>\n",
       "      <td>gcn</td>\n",
       "      <td>ncod</td>\n",
       "      <td>mean</td>\n",
       "      <td>0.021745</td>\n",
       "      <td>7</td>\n",
       "      <td>64</td>\n",
       "    </tr>\n",
       "    <tr>\n",
       "      <th>21</th>\n",
       "      <td>0.475893</td>\n",
       "      <td>gcn-virtual</td>\n",
       "      <td>noisy_ce</td>\n",
       "      <td>mean</td>\n",
       "      <td>0.272035</td>\n",
       "      <td>3</td>\n",
       "      <td>128</td>\n",
       "    </tr>\n",
       "    <tr>\n",
       "      <th>32</th>\n",
       "      <td>0.474107</td>\n",
       "      <td>gin-virtual</td>\n",
       "      <td>ncod</td>\n",
       "      <td>mean</td>\n",
       "      <td>0.397530</td>\n",
       "      <td>3</td>\n",
       "      <td>128</td>\n",
       "    </tr>\n",
       "    <tr>\n",
       "      <th>36</th>\n",
       "      <td>0.474107</td>\n",
       "      <td>gcn</td>\n",
       "      <td>noisy_ce</td>\n",
       "      <td>max</td>\n",
       "      <td>0.319085</td>\n",
       "      <td>5</td>\n",
       "      <td>600</td>\n",
       "    </tr>\n",
       "    <tr>\n",
       "      <th>46</th>\n",
       "      <td>0.473214</td>\n",
       "      <td>gcn-virtual</td>\n",
       "      <td>ncod</td>\n",
       "      <td>mean</td>\n",
       "      <td>0.175245</td>\n",
       "      <td>3</td>\n",
       "      <td>600</td>\n",
       "    </tr>\n",
       "    <tr>\n",
       "      <th>41</th>\n",
       "      <td>0.472321</td>\n",
       "      <td>gin-virtual</td>\n",
       "      <td>noisy_ce</td>\n",
       "      <td>mean</td>\n",
       "      <td>0.193334</td>\n",
       "      <td>4</td>\n",
       "      <td>64</td>\n",
       "    </tr>\n",
       "    <tr>\n",
       "      <th>5</th>\n",
       "      <td>0.472321</td>\n",
       "      <td>gcn</td>\n",
       "      <td>noisy_ce</td>\n",
       "      <td>mean</td>\n",
       "      <td>0.304963</td>\n",
       "      <td>5</td>\n",
       "      <td>64</td>\n",
       "    </tr>\n",
       "    <tr>\n",
       "      <th>17</th>\n",
       "      <td>0.470536</td>\n",
       "      <td>gin</td>\n",
       "      <td>noisy_ce</td>\n",
       "      <td>max</td>\n",
       "      <td>0.253063</td>\n",
       "      <td>4</td>\n",
       "      <td>300</td>\n",
       "    </tr>\n",
       "    <tr>\n",
       "      <th>18</th>\n",
       "      <td>0.467857</td>\n",
       "      <td>gin</td>\n",
       "      <td>ncod</td>\n",
       "      <td>max</td>\n",
       "      <td>0.356223</td>\n",
       "      <td>4</td>\n",
       "      <td>300</td>\n",
       "    </tr>\n",
       "    <tr>\n",
       "      <th>28</th>\n",
       "      <td>0.466964</td>\n",
       "      <td>gin</td>\n",
       "      <td>noisy_ce</td>\n",
       "      <td>max</td>\n",
       "      <td>0.283684</td>\n",
       "      <td>3</td>\n",
       "      <td>128</td>\n",
       "    </tr>\n",
       "    <tr>\n",
       "      <th>25</th>\n",
       "      <td>0.466964</td>\n",
       "      <td>gin</td>\n",
       "      <td>ce</td>\n",
       "      <td>sum</td>\n",
       "      <td>0.236044</td>\n",
       "      <td>4</td>\n",
       "      <td>300</td>\n",
       "    </tr>\n",
       "    <tr>\n",
       "      <th>24</th>\n",
       "      <td>0.462500</td>\n",
       "      <td>gcn-virtual</td>\n",
       "      <td>ncod</td>\n",
       "      <td>mean</td>\n",
       "      <td>0.348318</td>\n",
       "      <td>10</td>\n",
       "      <td>128</td>\n",
       "    </tr>\n",
       "    <tr>\n",
       "      <th>20</th>\n",
       "      <td>0.462500</td>\n",
       "      <td>gin</td>\n",
       "      <td>ncod</td>\n",
       "      <td>max</td>\n",
       "      <td>0.358722</td>\n",
       "      <td>5</td>\n",
       "      <td>300</td>\n",
       "    </tr>\n",
       "    <tr>\n",
       "      <th>13</th>\n",
       "      <td>0.460714</td>\n",
       "      <td>gcn</td>\n",
       "      <td>sce</td>\n",
       "      <td>mean</td>\n",
       "      <td>0.206458</td>\n",
       "      <td>4</td>\n",
       "      <td>64</td>\n",
       "    </tr>\n",
       "    <tr>\n",
       "      <th>23</th>\n",
       "      <td>0.459821</td>\n",
       "      <td>gcn</td>\n",
       "      <td>ncod</td>\n",
       "      <td>attention</td>\n",
       "      <td>0.519746</td>\n",
       "      <td>3</td>\n",
       "      <td>64</td>\n",
       "    </tr>\n",
       "    <tr>\n",
       "      <th>27</th>\n",
       "      <td>0.457143</td>\n",
       "      <td>gin</td>\n",
       "      <td>ncod</td>\n",
       "      <td>max</td>\n",
       "      <td>0.099470</td>\n",
       "      <td>4</td>\n",
       "      <td>300</td>\n",
       "    </tr>\n",
       "    <tr>\n",
       "      <th>39</th>\n",
       "      <td>0.456250</td>\n",
       "      <td>gcn</td>\n",
       "      <td>ncod</td>\n",
       "      <td>max</td>\n",
       "      <td>0.187385</td>\n",
       "      <td>3</td>\n",
       "      <td>600</td>\n",
       "    </tr>\n",
       "    <tr>\n",
       "      <th>22</th>\n",
       "      <td>0.456250</td>\n",
       "      <td>gin-virtual</td>\n",
       "      <td>noisy_ce</td>\n",
       "      <td>max</td>\n",
       "      <td>0.086910</td>\n",
       "      <td>4</td>\n",
       "      <td>600</td>\n",
       "    </tr>\n",
       "    <tr>\n",
       "      <th>10</th>\n",
       "      <td>0.454464</td>\n",
       "      <td>gcn</td>\n",
       "      <td>ncod</td>\n",
       "      <td>attention</td>\n",
       "      <td>0.408642</td>\n",
       "      <td>6</td>\n",
       "      <td>64</td>\n",
       "    </tr>\n",
       "    <tr>\n",
       "      <th>7</th>\n",
       "      <td>0.451786</td>\n",
       "      <td>gin</td>\n",
       "      <td>noisy_ce</td>\n",
       "      <td>set2set</td>\n",
       "      <td>0.442057</td>\n",
       "      <td>6</td>\n",
       "      <td>300</td>\n",
       "    </tr>\n",
       "    <tr>\n",
       "      <th>0</th>\n",
       "      <td>0.450000</td>\n",
       "      <td>gcn-virtual</td>\n",
       "      <td>ncod</td>\n",
       "      <td>sum</td>\n",
       "      <td>0.130169</td>\n",
       "      <td>9</td>\n",
       "      <td>128</td>\n",
       "    </tr>\n",
       "    <tr>\n",
       "      <th>1</th>\n",
       "      <td>0.444643</td>\n",
       "      <td>gcn-virtual</td>\n",
       "      <td>ncod</td>\n",
       "      <td>sum</td>\n",
       "      <td>0.083393</td>\n",
       "      <td>9</td>\n",
       "      <td>128</td>\n",
       "    </tr>\n",
       "    <tr>\n",
       "      <th>29</th>\n",
       "      <td>0.444643</td>\n",
       "      <td>gin</td>\n",
       "      <td>noisy_ce</td>\n",
       "      <td>mean</td>\n",
       "      <td>0.167658</td>\n",
       "      <td>5</td>\n",
       "      <td>300</td>\n",
       "    </tr>\n",
       "    <tr>\n",
       "      <th>38</th>\n",
       "      <td>0.442857</td>\n",
       "      <td>gcn</td>\n",
       "      <td>ncod</td>\n",
       "      <td>sum</td>\n",
       "      <td>0.117464</td>\n",
       "      <td>6</td>\n",
       "      <td>64</td>\n",
       "    </tr>\n",
       "    <tr>\n",
       "      <th>2</th>\n",
       "      <td>0.442857</td>\n",
       "      <td>gin</td>\n",
       "      <td>ncod</td>\n",
       "      <td>max</td>\n",
       "      <td>0.294739</td>\n",
       "      <td>8</td>\n",
       "      <td>128</td>\n",
       "    </tr>\n",
       "    <tr>\n",
       "      <th>43</th>\n",
       "      <td>0.441071</td>\n",
       "      <td>gcn</td>\n",
       "      <td>ncod</td>\n",
       "      <td>mean</td>\n",
       "      <td>0.219402</td>\n",
       "      <td>4</td>\n",
       "      <td>600</td>\n",
       "    </tr>\n",
       "    <tr>\n",
       "      <th>26</th>\n",
       "      <td>0.438393</td>\n",
       "      <td>gin</td>\n",
       "      <td>ncod</td>\n",
       "      <td>max</td>\n",
       "      <td>0.232242</td>\n",
       "      <td>5</td>\n",
       "      <td>300</td>\n",
       "    </tr>\n",
       "    <tr>\n",
       "      <th>3</th>\n",
       "      <td>0.436607</td>\n",
       "      <td>gin-virtual</td>\n",
       "      <td>noisy_ce</td>\n",
       "      <td>sum</td>\n",
       "      <td>0.583735</td>\n",
       "      <td>3</td>\n",
       "      <td>300</td>\n",
       "    </tr>\n",
       "    <tr>\n",
       "      <th>40</th>\n",
       "      <td>0.433036</td>\n",
       "      <td>gcn</td>\n",
       "      <td>ncod</td>\n",
       "      <td>mean</td>\n",
       "      <td>0.460580</td>\n",
       "      <td>12</td>\n",
       "      <td>64</td>\n",
       "    </tr>\n",
       "    <tr>\n",
       "      <th>4</th>\n",
       "      <td>-inf</td>\n",
       "      <td>gcn-virtual</td>\n",
       "      <td>ncod</td>\n",
       "      <td>sum</td>\n",
       "      <td>0.026158</td>\n",
       "      <td>11</td>\n",
       "      <td>600</td>\n",
       "    </tr>\n",
       "    <tr>\n",
       "      <th>8</th>\n",
       "      <td>-inf</td>\n",
       "      <td>gin-virtual</td>\n",
       "      <td>ncod</td>\n",
       "      <td>mean</td>\n",
       "      <td>0.211264</td>\n",
       "      <td>12</td>\n",
       "      <td>600</td>\n",
       "    </tr>\n",
       "  </tbody>\n",
       "</table>\n",
       "</div>"
      ],
      "text/plain": [
       "    accuracy     gnn_type loss_type graph_pooling   dropout  num_layers  \\\n",
       "11  0.524107          gcn      ncod           sum  0.206049           3   \n",
       "19  0.518750          gin      ncod          mean  0.252029           3   \n",
       "37  0.514286          gcn      ncod     attention  0.201135           3   \n",
       "47  0.513393          gcn      ncod     attention  0.061584           4   \n",
       "9   0.509821          gcn      ncod          mean  0.331577           5   \n",
       "42  0.500000          gcn  noisy_ce           sum  0.280014           3   \n",
       "30  0.497321  gin-virtual      ncod     attention  0.256647           3   \n",
       "34  0.496429          gcn      ncod           sum  0.296272           3   \n",
       "48  0.496429          gcn  noisy_ce          mean  0.047573           4   \n",
       "35  0.496429          gcn  noisy_ce           max  0.292967           3   \n",
       "15  0.495536          gin  noisy_ce          mean  0.239474           4   \n",
       "44  0.492857          gcn  noisy_ce           sum  0.385951           5   \n",
       "14  0.490179          gcn  noisy_ce          mean  0.394377           3   \n",
       "31  0.487500  gin-virtual      ncod           max  0.047864           3   \n",
       "6   0.486607          gcn      ncod          mean  0.302285           5   \n",
       "33  0.485714  gin-virtual      ncod     attention  0.259967           4   \n",
       "12  0.482143          gcn  noisy_ce           sum  0.187155           3   \n",
       "45  0.480357          gcn      ncod          mean  0.138771           8   \n",
       "16  0.479464          gcn      ncod          mean  0.021745           7   \n",
       "21  0.475893  gcn-virtual  noisy_ce          mean  0.272035           3   \n",
       "32  0.474107  gin-virtual      ncod          mean  0.397530           3   \n",
       "36  0.474107          gcn  noisy_ce           max  0.319085           5   \n",
       "46  0.473214  gcn-virtual      ncod          mean  0.175245           3   \n",
       "41  0.472321  gin-virtual  noisy_ce          mean  0.193334           4   \n",
       "5   0.472321          gcn  noisy_ce          mean  0.304963           5   \n",
       "17  0.470536          gin  noisy_ce           max  0.253063           4   \n",
       "18  0.467857          gin      ncod           max  0.356223           4   \n",
       "28  0.466964          gin  noisy_ce           max  0.283684           3   \n",
       "25  0.466964          gin        ce           sum  0.236044           4   \n",
       "24  0.462500  gcn-virtual      ncod          mean  0.348318          10   \n",
       "20  0.462500          gin      ncod           max  0.358722           5   \n",
       "13  0.460714          gcn       sce          mean  0.206458           4   \n",
       "23  0.459821          gcn      ncod     attention  0.519746           3   \n",
       "27  0.457143          gin      ncod           max  0.099470           4   \n",
       "39  0.456250          gcn      ncod           max  0.187385           3   \n",
       "22  0.456250  gin-virtual  noisy_ce           max  0.086910           4   \n",
       "10  0.454464          gcn      ncod     attention  0.408642           6   \n",
       "7   0.451786          gin  noisy_ce       set2set  0.442057           6   \n",
       "0   0.450000  gcn-virtual      ncod           sum  0.130169           9   \n",
       "1   0.444643  gcn-virtual      ncod           sum  0.083393           9   \n",
       "29  0.444643          gin  noisy_ce          mean  0.167658           5   \n",
       "38  0.442857          gcn      ncod           sum  0.117464           6   \n",
       "2   0.442857          gin      ncod           max  0.294739           8   \n",
       "43  0.441071          gcn      ncod          mean  0.219402           4   \n",
       "26  0.438393          gin      ncod           max  0.232242           5   \n",
       "3   0.436607  gin-virtual  noisy_ce           sum  0.583735           3   \n",
       "40  0.433036          gcn      ncod          mean  0.460580          12   \n",
       "4       -inf  gcn-virtual      ncod           sum  0.026158          11   \n",
       "8       -inf  gin-virtual      ncod          mean  0.211264          12   \n",
       "\n",
       "    embedding_dim  \n",
       "11             64  \n",
       "19            300  \n",
       "37            600  \n",
       "47             64  \n",
       "9              64  \n",
       "42            600  \n",
       "30            128  \n",
       "34            600  \n",
       "48             64  \n",
       "35            600  \n",
       "15            300  \n",
       "44            600  \n",
       "14             64  \n",
       "31            128  \n",
       "6              64  \n",
       "33            128  \n",
       "12             64  \n",
       "45             64  \n",
       "16             64  \n",
       "21            128  \n",
       "32            128  \n",
       "36            600  \n",
       "46            600  \n",
       "41             64  \n",
       "5              64  \n",
       "17            300  \n",
       "18            300  \n",
       "28            128  \n",
       "25            300  \n",
       "24            128  \n",
       "20            300  \n",
       "13             64  \n",
       "23             64  \n",
       "27            300  \n",
       "39            600  \n",
       "22            600  \n",
       "10             64  \n",
       "7             300  \n",
       "0             128  \n",
       "1             128  \n",
       "29            300  \n",
       "38             64  \n",
       "2             128  \n",
       "43            600  \n",
       "26            300  \n",
       "3             300  \n",
       "40             64  \n",
       "4             600  \n",
       "8             600  "
      ]
     },
     "metadata": {},
     "output_type": "display_data"
    },
    {
     "name": "stdout",
     "output_type": "stream",
     "text": [
      "\n",
      "Best Params for B:\n",
      "  gnn_type: gcn\n",
      "  loss_type: ncod\n",
      "  graph_pooling: sum\n",
      "  dropout: 0.20604927082840657\n",
      "  num_layers: 3\n",
      "  embedding_dim: 64\n"
     ]
    }
   ],
   "source": [
    "case_study(\n",
    "    \"B\", n_trials=60, num_checkpoints=5, default_batch_size=64, score_type=\"accuracy\"\n",
    ")"
   ]
  },
  {
   "cell_type": "code",
   "execution_count": 15,
   "metadata": {},
   "outputs": [
    {
     "name": "stderr",
     "output_type": "stream",
     "text": [
      "[I 2025-05-30 06:18:30,651] A new study created in memory with name: C\n"
     ]
    },
    {
     "name": "stdout",
     "output_type": "stream",
     "text": [
      "Starting Optuna optimization for dataset C\n"
     ]
    },
    {
     "data": {
      "application/vnd.jupyter.widget-view+json": {
       "model_id": "66cf729c8ba3465a8338f17bbee13399",
       "version_major": 2,
       "version_minor": 0
      },
      "text/plain": [
       "  0%|          | 0/60 [00:00<?, ?it/s]"
      ]
     },
     "metadata": {},
     "output_type": "display_data"
    },
    {
     "name": "stdout",
     "output_type": "stream",
     "text": [
      "gnn_type='gcn'\n",
      "loss_type='nosy_ce'\n",
      "graph_pooling='mean'\n",
      "drop_ratio=0.4846392046162389\n",
      "num_layers=5\n",
      "embedding_dim=300\n",
      "num_epochs=20\n"
     ]
    },
    {
     "data": {
      "application/vnd.jupyter.widget-view+json": {
       "model_id": "3912d2bb5b29436badc6cda754fdd0ad",
       "version_major": 2,
       "version_minor": 0
      },
      "text/plain": [
       "Training...:   0%|          | 0/20 [00:00<?, ?it/s]"
      ]
     },
     "metadata": {},
     "output_type": "display_data"
    },
    {
     "name": "stdout",
     "output_type": "stream",
     "text": [
      "[checkpoint] saved: /home/haislich/Documents/noisy_labels/hackaton/checkpoints/C/model_C_epoch_4.pth\n",
      "[checkpoint] saved: /home/haislich/Documents/noisy_labels/hackaton/checkpoints/C/model_C_epoch_8.pth\n",
      "[checkpoint] saved: /home/haislich/Documents/noisy_labels/hackaton/checkpoints/C/model_C_epoch_12.pth\n",
      "[checkpoint] saved: /home/haislich/Documents/noisy_labels/hackaton/checkpoints/C/model_C_epoch_16.pth\n",
      "[checkpoint] saved: /home/haislich/Documents/noisy_labels/hackaton/checkpoints/C/model_C_epoch_20.pth\n",
      "[I 2025-05-30 06:21:59,177] Trial 0 finished with value: 0.6634114583333334 and parameters: {'gnn_type': 'gcn', 'loss_type': 'noisy_ce', 'graph_pooling': 'attention', 'dropout': 0.4846392046162389, 'num_layers': 5, 'embedding_dim': 300}. Best is trial 0 with value: 0.6634114583333334.\n",
      "gnn_type='gcn'\n",
      "loss_type='nosy_ce'\n",
      "graph_pooling='mean'\n",
      "drop_ratio=0.5161104107757066\n",
      "num_layers=5\n",
      "embedding_dim=300\n",
      "num_epochs=20\n"
     ]
    },
    {
     "data": {
      "application/vnd.jupyter.widget-view+json": {
       "model_id": "2ad80e800a8540ea8fff4b4c93c702ae",
       "version_major": 2,
       "version_minor": 0
      },
      "text/plain": [
       "Training...:   0%|          | 0/20 [00:00<?, ?it/s]"
      ]
     },
     "metadata": {},
     "output_type": "display_data"
    },
    {
     "name": "stdout",
     "output_type": "stream",
     "text": [
      "[checkpoint] saved: /home/haislich/Documents/noisy_labels/hackaton/checkpoints/C/model_C_epoch_4.pth\n",
      "[checkpoint] saved: /home/haislich/Documents/noisy_labels/hackaton/checkpoints/C/model_C_epoch_8.pth\n",
      "[checkpoint] saved: /home/haislich/Documents/noisy_labels/hackaton/checkpoints/C/model_C_epoch_12.pth\n",
      "[checkpoint] saved: /home/haislich/Documents/noisy_labels/hackaton/checkpoints/C/model_C_epoch_16.pth\n",
      "[checkpoint] saved: /home/haislich/Documents/noisy_labels/hackaton/checkpoints/C/model_C_epoch_20.pth\n",
      "[I 2025-05-30 06:25:28,308] Trial 1 finished with value: 0.595703125 and parameters: {'gnn_type': 'gcn', 'loss_type': 'noisy_ce', 'graph_pooling': 'attention', 'dropout': 0.5161104107757066, 'num_layers': 5, 'embedding_dim': 300}. Best is trial 0 with value: 0.6634114583333334.\n",
      "gnn_type='gcn'\n",
      "loss_type='nosy_ce'\n",
      "graph_pooling='mean'\n",
      "drop_ratio=0.16356099386369852\n",
      "num_layers=9\n",
      "embedding_dim=600\n",
      "num_epochs=20\n"
     ]
    },
    {
     "data": {
      "application/vnd.jupyter.widget-view+json": {
       "model_id": "8afcedd92d8b4b23884dd86f563a4714",
       "version_major": 2,
       "version_minor": 0
      },
      "text/plain": [
       "Training...:   0%|          | 0/20 [00:00<?, ?it/s]"
      ]
     },
     "metadata": {},
     "output_type": "display_data"
    },
    {
     "name": "stdout",
     "output_type": "stream",
     "text": [
      "Unhandled exception  CUDA out of memory. Tried to allocate 668.00 MiB. GPU 0 has a total capacity of 11.60 GiB of which 400.19 MiB is free. Process 6163 has 39.59 MiB memory in use. Including non-PyTorch memory, this process has 10.79 GiB memory in use. Of the allocated memory 8.50 GiB is allocated by PyTorch, and 2.06 GiB is reserved by PyTorch but unallocated. If reserved but unallocated memory is large try setting PYTORCH_CUDA_ALLOC_CONF=expandable_segments:True to avoid fragmentation.  See documentation for Memory Management  (https://pytorch.org/docs/stable/notes/cuda.html#environment-variables)\n",
      "[I 2025-05-30 06:25:29,815] Trial 2 finished with value: -inf and parameters: {'gnn_type': 'gin-virtual', 'loss_type': 'noisy_ce', 'graph_pooling': 'mean', 'dropout': 0.16356099386369852, 'num_layers': 9, 'embedding_dim': 600}. Best is trial 0 with value: 0.6634114583333334.\n",
      "gnn_type='gcn'\n",
      "loss_type='nosy_ce'\n",
      "graph_pooling='mean'\n",
      "drop_ratio=0.6978828031089299\n",
      "num_layers=4\n",
      "embedding_dim=64\n",
      "num_epochs=20\n"
     ]
    },
    {
     "data": {
      "application/vnd.jupyter.widget-view+json": {
       "model_id": "d3503ed9e5004671bd8a18f8f39a44f3",
       "version_major": 2,
       "version_minor": 0
      },
      "text/plain": [
       "Training...:   0%|          | 0/20 [00:00<?, ?it/s]"
      ]
     },
     "metadata": {},
     "output_type": "display_data"
    },
    {
     "name": "stdout",
     "output_type": "stream",
     "text": [
      "[checkpoint] saved: /home/haislich/Documents/noisy_labels/hackaton/checkpoints/C/model_C_epoch_4.pth\n",
      "[checkpoint] saved: /home/haislich/Documents/noisy_labels/hackaton/checkpoints/C/model_C_epoch_8.pth\n",
      "[checkpoint] saved: /home/haislich/Documents/noisy_labels/hackaton/checkpoints/C/model_C_epoch_12.pth\n",
      "[checkpoint] saved: /home/haislich/Documents/noisy_labels/hackaton/checkpoints/C/model_C_epoch_16.pth\n",
      "[checkpoint] saved: /home/haislich/Documents/noisy_labels/hackaton/checkpoints/C/model_C_epoch_20.pth\n",
      "[I 2025-05-30 06:26:19,157] Trial 3 finished with value: 0.408203125 and parameters: {'gnn_type': 'gcn', 'loss_type': 'noisy_ce', 'graph_pooling': 'attention', 'dropout': 0.6978828031089299, 'num_layers': 4, 'embedding_dim': 64}. Best is trial 0 with value: 0.6634114583333334.\n",
      "gnn_type='gcn'\n",
      "loss_type='nosy_ce'\n",
      "graph_pooling='mean'\n",
      "drop_ratio=0.3486238839944339\n",
      "num_layers=11\n",
      "embedding_dim=300\n",
      "num_epochs=20\n"
     ]
    },
    {
     "data": {
      "application/vnd.jupyter.widget-view+json": {
       "model_id": "8a5b12d4c2a040a6b336335ff154c545",
       "version_major": 2,
       "version_minor": 0
      },
      "text/plain": [
       "Training...:   0%|          | 0/20 [00:00<?, ?it/s]"
      ]
     },
     "metadata": {},
     "output_type": "display_data"
    },
    {
     "name": "stdout",
     "output_type": "stream",
     "text": [
      "[checkpoint] saved: /home/haislich/Documents/noisy_labels/hackaton/checkpoints/C/model_C_epoch_4.pth\n",
      "[checkpoint] saved: /home/haislich/Documents/noisy_labels/hackaton/checkpoints/C/model_C_epoch_8.pth\n",
      "[checkpoint] saved: /home/haislich/Documents/noisy_labels/hackaton/checkpoints/C/model_C_epoch_12.pth\n",
      "[checkpoint] saved: /home/haislich/Documents/noisy_labels/hackaton/checkpoints/C/model_C_epoch_16.pth\n",
      "[checkpoint] saved: /home/haislich/Documents/noisy_labels/hackaton/checkpoints/C/model_C_epoch_20.pth\n",
      "[I 2025-05-30 06:33:41,600] Trial 4 finished with value: 0.6940104166666666 and parameters: {'gnn_type': 'gcn-virtual', 'loss_type': 'ncod', 'graph_pooling': 'set2set', 'dropout': 0.3486238839944339, 'num_layers': 11, 'embedding_dim': 300}. Best is trial 4 with value: 0.6940104166666666.\n",
      "gnn_type='gcn'\n",
      "loss_type='nosy_ce'\n",
      "graph_pooling='mean'\n",
      "drop_ratio=0.153144863297853\n",
      "num_layers=12\n",
      "embedding_dim=128\n",
      "num_epochs=20\n"
     ]
    },
    {
     "data": {
      "application/vnd.jupyter.widget-view+json": {
       "model_id": "e863c1eed88b4972b61a061888f79faf",
       "version_major": 2,
       "version_minor": 0
      },
      "text/plain": [
       "Training...:   0%|          | 0/20 [00:00<?, ?it/s]"
      ]
     },
     "metadata": {},
     "output_type": "display_data"
    },
    {
     "name": "stdout",
     "output_type": "stream",
     "text": [
      "[checkpoint] saved: /home/haislich/Documents/noisy_labels/hackaton/checkpoints/C/model_C_epoch_4.pth\n",
      "[checkpoint] saved: /home/haislich/Documents/noisy_labels/hackaton/checkpoints/C/model_C_epoch_8.pth\n",
      "[checkpoint] saved: /home/haislich/Documents/noisy_labels/hackaton/checkpoints/C/model_C_epoch_12.pth\n",
      "[checkpoint] saved: /home/haislich/Documents/noisy_labels/hackaton/checkpoints/C/model_C_epoch_16.pth\n",
      "[I 2025-05-30 06:36:32,739] Trial 5 pruned. \n",
      "gnn_type='gcn'\n",
      "loss_type='nosy_ce'\n",
      "graph_pooling='mean'\n",
      "drop_ratio=0.33319838288420167\n",
      "num_layers=11\n",
      "embedding_dim=300\n",
      "num_epochs=20\n"
     ]
    },
    {
     "data": {
      "application/vnd.jupyter.widget-view+json": {
       "model_id": "8673e2b826a34acf80143e6cb3693886",
       "version_major": 2,
       "version_minor": 0
      },
      "text/plain": [
       "Training...:   0%|          | 0/20 [00:00<?, ?it/s]"
      ]
     },
     "metadata": {},
     "output_type": "display_data"
    },
    {
     "name": "stdout",
     "output_type": "stream",
     "text": [
      "[checkpoint] saved: /home/haislich/Documents/noisy_labels/hackaton/checkpoints/C/model_C_epoch_4.pth\n",
      "[checkpoint] saved: /home/haislich/Documents/noisy_labels/hackaton/checkpoints/C/model_C_epoch_8.pth\n",
      "[checkpoint] saved: /home/haislich/Documents/noisy_labels/hackaton/checkpoints/C/model_C_epoch_12.pth\n",
      "[checkpoint] saved: /home/haislich/Documents/noisy_labels/hackaton/checkpoints/C/model_C_epoch_16.pth\n",
      "[checkpoint] saved: /home/haislich/Documents/noisy_labels/hackaton/checkpoints/C/model_C_epoch_20.pth\n",
      "[I 2025-05-30 06:43:56,130] Trial 6 finished with value: 0.6796875 and parameters: {'gnn_type': 'gcn-virtual', 'loss_type': 'sce', 'graph_pooling': 'set2set', 'dropout': 0.33319838288420167, 'num_layers': 11, 'embedding_dim': 300}. Best is trial 4 with value: 0.6940104166666666.\n",
      "gnn_type='gcn'\n",
      "loss_type='nosy_ce'\n",
      "graph_pooling='mean'\n",
      "drop_ratio=0.006931763887261022\n",
      "num_layers=8\n",
      "embedding_dim=600\n",
      "num_epochs=20\n"
     ]
    },
    {
     "data": {
      "application/vnd.jupyter.widget-view+json": {
       "model_id": "70c0154af42f4e3e85746391bdd4bf07",
       "version_major": 2,
       "version_minor": 0
      },
      "text/plain": [
       "Training...:   0%|          | 0/20 [00:00<?, ?it/s]"
      ]
     },
     "metadata": {},
     "output_type": "display_data"
    },
    {
     "name": "stdout",
     "output_type": "stream",
     "text": [
      "Unhandled exception  CUDA out of memory. Tried to allocate 842.00 MiB. GPU 0 has a total capacity of 11.60 GiB of which 348.56 MiB is free. Process 6163 has 39.59 MiB memory in use. Including non-PyTorch memory, this process has 10.84 GiB memory in use. Of the allocated memory 9.57 GiB is allocated by PyTorch, and 1.04 GiB is reserved by PyTorch but unallocated. If reserved but unallocated memory is large try setting PYTORCH_CUDA_ALLOC_CONF=expandable_segments:True to avoid fragmentation.  See documentation for Memory Management  (https://pytorch.org/docs/stable/notes/cuda.html#environment-variables)\n",
      "[I 2025-05-30 06:44:55,658] Trial 7 finished with value: -inf and parameters: {'gnn_type': 'gin', 'loss_type': 'ncod', 'graph_pooling': 'max', 'dropout': 0.006931763887261022, 'num_layers': 8, 'embedding_dim': 600}. Best is trial 4 with value: 0.6940104166666666.\n",
      "gnn_type='gcn'\n",
      "loss_type='nosy_ce'\n",
      "graph_pooling='mean'\n",
      "drop_ratio=0.351405577281063\n",
      "num_layers=10\n",
      "embedding_dim=128\n",
      "num_epochs=20\n"
     ]
    },
    {
     "data": {
      "application/vnd.jupyter.widget-view+json": {
       "model_id": "2af972cc4e0846c080f77c8cc59ec38f",
       "version_major": 2,
       "version_minor": 0
      },
      "text/plain": [
       "Training...:   0%|          | 0/20 [00:00<?, ?it/s]"
      ]
     },
     "metadata": {},
     "output_type": "display_data"
    },
    {
     "name": "stdout",
     "output_type": "stream",
     "text": [
      "[checkpoint] saved: /home/haislich/Documents/noisy_labels/hackaton/checkpoints/C/model_C_epoch_4.pth\n",
      "[checkpoint] saved: /home/haislich/Documents/noisy_labels/hackaton/checkpoints/C/model_C_epoch_8.pth\n",
      "[checkpoint] saved: /home/haislich/Documents/noisy_labels/hackaton/checkpoints/C/model_C_epoch_12.pth\n",
      "[I 2025-05-30 06:47:02,184] Trial 8 pruned. \n",
      "gnn_type='gcn'\n",
      "loss_type='nosy_ce'\n",
      "graph_pooling='mean'\n",
      "drop_ratio=0.3192136326745938\n",
      "num_layers=7\n",
      "embedding_dim=64\n",
      "num_epochs=20\n"
     ]
    },
    {
     "data": {
      "application/vnd.jupyter.widget-view+json": {
       "model_id": "3df3dbf78fb04112aa3d23b338ade5ca",
       "version_major": 2,
       "version_minor": 0
      },
      "text/plain": [
       "Training...:   0%|          | 0/20 [00:00<?, ?it/s]"
      ]
     },
     "metadata": {},
     "output_type": "display_data"
    },
    {
     "name": "stdout",
     "output_type": "stream",
     "text": [
      "[checkpoint] saved: /home/haislich/Documents/noisy_labels/hackaton/checkpoints/C/model_C_epoch_4.pth\n",
      "[checkpoint] saved: /home/haislich/Documents/noisy_labels/hackaton/checkpoints/C/model_C_epoch_8.pth\n",
      "[checkpoint] saved: /home/haislich/Documents/noisy_labels/hackaton/checkpoints/C/model_C_epoch_12.pth\n",
      "[checkpoint] saved: /home/haislich/Documents/noisy_labels/hackaton/checkpoints/C/model_C_epoch_16.pth\n",
      "[checkpoint] saved: /home/haislich/Documents/noisy_labels/hackaton/checkpoints/C/model_C_epoch_20.pth\n",
      "[I 2025-05-30 06:48:19,333] Trial 9 finished with value: 0.6197916666666666 and parameters: {'gnn_type': 'gin-virtual', 'loss_type': 'ncod', 'graph_pooling': 'sum', 'dropout': 0.3192136326745938, 'num_layers': 7, 'embedding_dim': 64}. Best is trial 4 with value: 0.6940104166666666.\n",
      "gnn_type='gcn'\n",
      "loss_type='nosy_ce'\n",
      "graph_pooling='mean'\n",
      "drop_ratio=0.5557038826669406\n",
      "num_layers=12\n",
      "embedding_dim=300\n",
      "num_epochs=20\n"
     ]
    },
    {
     "data": {
      "application/vnd.jupyter.widget-view+json": {
       "model_id": "721ab2f6a9d04057ba604fadad9087a4",
       "version_major": 2,
       "version_minor": 0
      },
      "text/plain": [
       "Training...:   0%|          | 0/20 [00:00<?, ?it/s]"
      ]
     },
     "metadata": {},
     "output_type": "display_data"
    },
    {
     "name": "stdout",
     "output_type": "stream",
     "text": [
      "[checkpoint] saved: /home/haislich/Documents/noisy_labels/hackaton/checkpoints/C/model_C_epoch_4.pth\n",
      "[checkpoint] saved: /home/haislich/Documents/noisy_labels/hackaton/checkpoints/C/model_C_epoch_8.pth\n",
      "[checkpoint] saved: /home/haislich/Documents/noisy_labels/hackaton/checkpoints/C/model_C_epoch_12.pth\n",
      "[checkpoint] saved: /home/haislich/Documents/noisy_labels/hackaton/checkpoints/C/model_C_epoch_16.pth\n",
      "[checkpoint] saved: /home/haislich/Documents/noisy_labels/hackaton/checkpoints/C/model_C_epoch_20.pth\n",
      "[I 2025-05-30 06:56:16,996] Trial 10 finished with value: 0.6490885416666666 and parameters: {'gnn_type': 'gin', 'loss_type': 'ce', 'graph_pooling': 'mean', 'dropout': 0.5557038826669406, 'num_layers': 12, 'embedding_dim': 300}. Best is trial 4 with value: 0.6940104166666666.\n",
      "gnn_type='gcn'\n",
      "loss_type='nosy_ce'\n",
      "graph_pooling='mean'\n",
      "drop_ratio=0.34769703268720004\n",
      "num_layers=10\n",
      "embedding_dim=300\n",
      "num_epochs=20\n"
     ]
    },
    {
     "data": {
      "application/vnd.jupyter.widget-view+json": {
       "model_id": "f7a49531498743fbabef04bd42afb3b6",
       "version_major": 2,
       "version_minor": 0
      },
      "text/plain": [
       "Training...:   0%|          | 0/20 [00:00<?, ?it/s]"
      ]
     },
     "metadata": {},
     "output_type": "display_data"
    },
    {
     "name": "stdout",
     "output_type": "stream",
     "text": [
      "[checkpoint] saved: /home/haislich/Documents/noisy_labels/hackaton/checkpoints/C/model_C_epoch_4.pth\n",
      "[checkpoint] saved: /home/haislich/Documents/noisy_labels/hackaton/checkpoints/C/model_C_epoch_8.pth\n",
      "[checkpoint] saved: /home/haislich/Documents/noisy_labels/hackaton/checkpoints/C/model_C_epoch_12.pth\n",
      "[checkpoint] saved: /home/haislich/Documents/noisy_labels/hackaton/checkpoints/C/model_C_epoch_16.pth\n",
      "[checkpoint] saved: /home/haislich/Documents/noisy_labels/hackaton/checkpoints/C/model_C_epoch_20.pth\n",
      "[I 2025-05-30 07:02:59,960] Trial 11 finished with value: 0.6282552083333334 and parameters: {'gnn_type': 'gcn-virtual', 'loss_type': 'sce', 'graph_pooling': 'set2set', 'dropout': 0.34769703268720004, 'num_layers': 10, 'embedding_dim': 300}. Best is trial 4 with value: 0.6940104166666666.\n",
      "gnn_type='gcn'\n",
      "loss_type='nosy_ce'\n",
      "graph_pooling='mean'\n",
      "drop_ratio=0.2352688845376918\n",
      "num_layers=11\n",
      "embedding_dim=300\n",
      "num_epochs=20\n"
     ]
    },
    {
     "data": {
      "application/vnd.jupyter.widget-view+json": {
       "model_id": "433be338f28f4af5a28b626585a8cac4",
       "version_major": 2,
       "version_minor": 0
      },
      "text/plain": [
       "Training...:   0%|          | 0/20 [00:00<?, ?it/s]"
      ]
     },
     "metadata": {},
     "output_type": "display_data"
    },
    {
     "name": "stdout",
     "output_type": "stream",
     "text": [
      "[checkpoint] saved: /home/haislich/Documents/noisy_labels/hackaton/checkpoints/C/model_C_epoch_4.pth\n",
      "[checkpoint] saved: /home/haislich/Documents/noisy_labels/hackaton/checkpoints/C/model_C_epoch_8.pth\n",
      "[checkpoint] saved: /home/haislich/Documents/noisy_labels/hackaton/checkpoints/C/model_C_epoch_12.pth\n",
      "[checkpoint] saved: /home/haislich/Documents/noisy_labels/hackaton/checkpoints/C/model_C_epoch_16.pth\n",
      "[checkpoint] saved: /home/haislich/Documents/noisy_labels/hackaton/checkpoints/C/model_C_epoch_20.pth\n",
      "[I 2025-05-30 07:10:23,045] Trial 12 finished with value: 0.65625 and parameters: {'gnn_type': 'gcn-virtual', 'loss_type': 'ncod', 'graph_pooling': 'set2set', 'dropout': 0.2352688845376918, 'num_layers': 11, 'embedding_dim': 300}. Best is trial 4 with value: 0.6940104166666666.\n",
      "gnn_type='gcn'\n",
      "loss_type='nosy_ce'\n",
      "graph_pooling='mean'\n",
      "drop_ratio=0.4169190927318228\n",
      "num_layers=7\n",
      "embedding_dim=300\n",
      "num_epochs=20\n"
     ]
    },
    {
     "data": {
      "application/vnd.jupyter.widget-view+json": {
       "model_id": "01caf6473833479fb806316a5c2ac71e",
       "version_major": 2,
       "version_minor": 0
      },
      "text/plain": [
       "Training...:   0%|          | 0/20 [00:00<?, ?it/s]"
      ]
     },
     "metadata": {},
     "output_type": "display_data"
    },
    {
     "name": "stdout",
     "output_type": "stream",
     "text": [
      "[checkpoint] saved: /home/haislich/Documents/noisy_labels/hackaton/checkpoints/C/model_C_epoch_4.pth\n",
      "[checkpoint] saved: /home/haislich/Documents/noisy_labels/hackaton/checkpoints/C/model_C_epoch_8.pth\n",
      "[I 2025-05-30 07:13:00,353] Trial 13 pruned. \n",
      "gnn_type='gcn'\n",
      "loss_type='nosy_ce'\n",
      "graph_pooling='mean'\n",
      "drop_ratio=0.2526027813374653\n",
      "num_layers=10\n",
      "embedding_dim=300\n",
      "num_epochs=20\n"
     ]
    },
    {
     "data": {
      "application/vnd.jupyter.widget-view+json": {
       "model_id": "f9f7563f8e164614ad658400a42af519",
       "version_major": 2,
       "version_minor": 0
      },
      "text/plain": [
       "Training...:   0%|          | 0/20 [00:00<?, ?it/s]"
      ]
     },
     "metadata": {},
     "output_type": "display_data"
    },
    {
     "name": "stdout",
     "output_type": "stream",
     "text": [
      "[checkpoint] saved: /home/haislich/Documents/noisy_labels/hackaton/checkpoints/C/model_C_epoch_4.pth\n",
      "[checkpoint] saved: /home/haislich/Documents/noisy_labels/hackaton/checkpoints/C/model_C_epoch_8.pth\n",
      "[checkpoint] saved: /home/haislich/Documents/noisy_labels/hackaton/checkpoints/C/model_C_epoch_12.pth\n",
      "[checkpoint] saved: /home/haislich/Documents/noisy_labels/hackaton/checkpoints/C/model_C_epoch_16.pth\n",
      "[checkpoint] saved: /home/haislich/Documents/noisy_labels/hackaton/checkpoints/C/model_C_epoch_20.pth\n",
      "[I 2025-05-30 07:19:42,688] Trial 14 finished with value: 0.66015625 and parameters: {'gnn_type': 'gcn-virtual', 'loss_type': 'sce', 'graph_pooling': 'mean', 'dropout': 0.2526027813374653, 'num_layers': 10, 'embedding_dim': 300}. Best is trial 4 with value: 0.6940104166666666.\n",
      "gnn_type='gcn'\n",
      "loss_type='nosy_ce'\n",
      "graph_pooling='mean'\n",
      "drop_ratio=0.6138380872321512\n",
      "num_layers=12\n",
      "embedding_dim=300\n",
      "num_epochs=20\n"
     ]
    },
    {
     "data": {
      "application/vnd.jupyter.widget-view+json": {
       "model_id": "bd451c5ce01149748fc440033c2a4598",
       "version_major": 2,
       "version_minor": 0
      },
      "text/plain": [
       "Training...:   0%|          | 0/20 [00:00<?, ?it/s]"
      ]
     },
     "metadata": {},
     "output_type": "display_data"
    },
    {
     "name": "stdout",
     "output_type": "stream",
     "text": [
      "[checkpoint] saved: /home/haislich/Documents/noisy_labels/hackaton/checkpoints/C/model_C_epoch_4.pth\n",
      "[checkpoint] saved: /home/haislich/Documents/noisy_labels/hackaton/checkpoints/C/model_C_epoch_8.pth\n",
      "[I 2025-05-30 07:24:07,681] Trial 15 pruned. \n",
      "gnn_type='gcn'\n",
      "loss_type='nosy_ce'\n",
      "graph_pooling='mean'\n",
      "drop_ratio=0.4204935978740727\n",
      "num_layers=8\n",
      "embedding_dim=64\n",
      "num_epochs=20\n"
     ]
    },
    {
     "data": {
      "application/vnd.jupyter.widget-view+json": {
       "model_id": "d8b9567a2a1b4f5da719e2fa1e0a6525",
       "version_major": 2,
       "version_minor": 0
      },
      "text/plain": [
       "Training...:   0%|          | 0/20 [00:00<?, ?it/s]"
      ]
     },
     "metadata": {},
     "output_type": "display_data"
    },
    {
     "name": "stdout",
     "output_type": "stream",
     "text": [
      "[checkpoint] saved: /home/haislich/Documents/noisy_labels/hackaton/checkpoints/C/model_C_epoch_4.pth\n",
      "[checkpoint] saved: /home/haislich/Documents/noisy_labels/hackaton/checkpoints/C/model_C_epoch_8.pth\n",
      "[I 2025-05-30 07:24:54,922] Trial 16 pruned. \n",
      "gnn_type='gcn'\n",
      "loss_type='nosy_ce'\n",
      "graph_pooling='mean'\n",
      "drop_ratio=0.05179935547630299\n",
      "num_layers=11\n",
      "embedding_dim=600\n",
      "num_epochs=20\n"
     ]
    },
    {
     "data": {
      "application/vnd.jupyter.widget-view+json": {
       "model_id": "c99e2e74a34a402ebfa841066e85f69b",
       "version_major": 2,
       "version_minor": 0
      },
      "text/plain": [
       "Training...:   0%|          | 0/20 [00:00<?, ?it/s]"
      ]
     },
     "metadata": {},
     "output_type": "display_data"
    },
    {
     "name": "stdout",
     "output_type": "stream",
     "text": [
      "Unhandled exception  CUDA out of memory. Tried to allocate 660.00 MiB. GPU 0 has a total capacity of 11.60 GiB of which 351.88 MiB is free. Process 6163 has 39.59 MiB memory in use. Including non-PyTorch memory, this process has 10.83 GiB memory in use. Of the allocated memory 9.20 GiB is allocated by PyTorch, and 1.41 GiB is reserved by PyTorch but unallocated. If reserved but unallocated memory is large try setting PYTORCH_CUDA_ALLOC_CONF=expandable_segments:True to avoid fragmentation.  See documentation for Memory Management  (https://pytorch.org/docs/stable/notes/cuda.html#environment-variables)\n",
      "[I 2025-05-30 07:24:55,147] Trial 17 finished with value: -inf and parameters: {'gnn_type': 'gin', 'loss_type': 'noisy_ce', 'graph_pooling': 'sum', 'dropout': 0.05179935547630299, 'num_layers': 11, 'embedding_dim': 600}. Best is trial 4 with value: 0.6940104166666666.\n",
      "gnn_type='gcn'\n",
      "loss_type='nosy_ce'\n",
      "graph_pooling='mean'\n",
      "drop_ratio=0.2585909268786987\n",
      "num_layers=11\n",
      "embedding_dim=128\n",
      "num_epochs=20\n"
     ]
    },
    {
     "data": {
      "application/vnd.jupyter.widget-view+json": {
       "model_id": "af1ecd6cc61f476fbb88ea67b7f15219",
       "version_major": 2,
       "version_minor": 0
      },
      "text/plain": [
       "Training...:   0%|          | 0/20 [00:00<?, ?it/s]"
      ]
     },
     "metadata": {},
     "output_type": "display_data"
    },
    {
     "name": "stdout",
     "output_type": "stream",
     "text": [
      "[checkpoint] saved: /home/haislich/Documents/noisy_labels/hackaton/checkpoints/C/model_C_epoch_4.pth\n",
      "[checkpoint] saved: /home/haislich/Documents/noisy_labels/hackaton/checkpoints/C/model_C_epoch_8.pth\n",
      "[I 2025-05-30 07:26:43,296] Trial 18 pruned. \n",
      "gnn_type='gcn'\n",
      "loss_type='nosy_ce'\n",
      "graph_pooling='mean'\n",
      "drop_ratio=0.4323631359867002\n",
      "num_layers=9\n",
      "embedding_dim=300\n",
      "num_epochs=20\n"
     ]
    },
    {
     "data": {
      "application/vnd.jupyter.widget-view+json": {
       "model_id": "1cd9a2edf93b4ff1adf5f3cad86e0bb3",
       "version_major": 2,
       "version_minor": 0
      },
      "text/plain": [
       "Training...:   0%|          | 0/20 [00:00<?, ?it/s]"
      ]
     },
     "metadata": {},
     "output_type": "display_data"
    },
    {
     "name": "stdout",
     "output_type": "stream",
     "text": [
      "[checkpoint] saved: /home/haislich/Documents/noisy_labels/hackaton/checkpoints/C/model_C_epoch_4.pth\n",
      "[checkpoint] saved: /home/haislich/Documents/noisy_labels/hackaton/checkpoints/C/model_C_epoch_8.pth\n",
      "[I 2025-05-30 07:30:01,974] Trial 19 pruned. \n",
      "gnn_type='gcn'\n",
      "loss_type='nosy_ce'\n",
      "graph_pooling='mean'\n",
      "drop_ratio=0.16838189999329206\n",
      "num_layers=6\n",
      "embedding_dim=300\n",
      "num_epochs=20\n"
     ]
    },
    {
     "data": {
      "application/vnd.jupyter.widget-view+json": {
       "model_id": "4ad4a9c0f2704d5ea2e14ef97f3e3a6d",
       "version_major": 2,
       "version_minor": 0
      },
      "text/plain": [
       "Training...:   0%|          | 0/20 [00:00<?, ?it/s]"
      ]
     },
     "metadata": {},
     "output_type": "display_data"
    },
    {
     "name": "stdout",
     "output_type": "stream",
     "text": [
      "[checkpoint] saved: /home/haislich/Documents/noisy_labels/hackaton/checkpoints/C/model_C_epoch_4.pth\n",
      "[checkpoint] saved: /home/haislich/Documents/noisy_labels/hackaton/checkpoints/C/model_C_epoch_8.pth\n",
      "[I 2025-05-30 07:32:17,412] Trial 20 pruned. \n",
      "gnn_type='gcn'\n",
      "loss_type='nosy_ce'\n",
      "graph_pooling='mean'\n",
      "drop_ratio=0.47115918462254647\n",
      "num_layers=3\n",
      "embedding_dim=300\n",
      "num_epochs=20\n"
     ]
    },
    {
     "data": {
      "application/vnd.jupyter.widget-view+json": {
       "model_id": "6e608cac915b46a59a6d50fd46cd43bd",
       "version_major": 2,
       "version_minor": 0
      },
      "text/plain": [
       "Training...:   0%|          | 0/20 [00:00<?, ?it/s]"
      ]
     },
     "metadata": {},
     "output_type": "display_data"
    },
    {
     "name": "stdout",
     "output_type": "stream",
     "text": [
      "[checkpoint] saved: /home/haislich/Documents/noisy_labels/hackaton/checkpoints/C/model_C_epoch_4.pth\n",
      "[checkpoint] saved: /home/haislich/Documents/noisy_labels/hackaton/checkpoints/C/model_C_epoch_8.pth\n",
      "[I 2025-05-30 07:33:28,725] Trial 21 pruned. \n",
      "gnn_type='gcn'\n",
      "loss_type='nosy_ce'\n",
      "graph_pooling='mean'\n",
      "drop_ratio=0.5612650748364806\n",
      "num_layers=5\n",
      "embedding_dim=300\n",
      "num_epochs=20\n"
     ]
    },
    {
     "data": {
      "application/vnd.jupyter.widget-view+json": {
       "model_id": "ca74c08794ce429aa9ccedb2eda47e8d",
       "version_major": 2,
       "version_minor": 0
      },
      "text/plain": [
       "Training...:   0%|          | 0/20 [00:00<?, ?it/s]"
      ]
     },
     "metadata": {},
     "output_type": "display_data"
    },
    {
     "name": "stdout",
     "output_type": "stream",
     "text": [
      "[checkpoint] saved: /home/haislich/Documents/noisy_labels/hackaton/checkpoints/C/model_C_epoch_4.pth\n",
      "[checkpoint] saved: /home/haislich/Documents/noisy_labels/hackaton/checkpoints/C/model_C_epoch_8.pth\n",
      "[I 2025-05-30 07:35:22,400] Trial 22 pruned. \n",
      "gnn_type='gcn'\n",
      "loss_type='nosy_ce'\n",
      "graph_pooling='mean'\n",
      "drop_ratio=0.37900423242580855\n",
      "num_layers=3\n",
      "embedding_dim=300\n",
      "num_epochs=20\n"
     ]
    },
    {
     "data": {
      "application/vnd.jupyter.widget-view+json": {
       "model_id": "020c70d7cf974c919e0ee562f74b97e2",
       "version_major": 2,
       "version_minor": 0
      },
      "text/plain": [
       "Training...:   0%|          | 0/20 [00:00<?, ?it/s]"
      ]
     },
     "metadata": {},
     "output_type": "display_data"
    },
    {
     "name": "stdout",
     "output_type": "stream",
     "text": [
      "[checkpoint] saved: /home/haislich/Documents/noisy_labels/hackaton/checkpoints/C/model_C_epoch_4.pth\n",
      "[checkpoint] saved: /home/haislich/Documents/noisy_labels/hackaton/checkpoints/C/model_C_epoch_8.pth\n",
      "[I 2025-05-30 07:36:33,797] Trial 23 pruned. \n",
      "gnn_type='gcn'\n",
      "loss_type='nosy_ce'\n",
      "graph_pooling='mean'\n",
      "drop_ratio=0.4922006763347695\n",
      "num_layers=6\n",
      "embedding_dim=300\n",
      "num_epochs=20\n"
     ]
    },
    {
     "data": {
      "application/vnd.jupyter.widget-view+json": {
       "model_id": "4ed0796fa18d445e93ad0b1366101e0f",
       "version_major": 2,
       "version_minor": 0
      },
      "text/plain": [
       "Training...:   0%|          | 0/20 [00:00<?, ?it/s]"
      ]
     },
     "metadata": {},
     "output_type": "display_data"
    },
    {
     "name": "stdout",
     "output_type": "stream",
     "text": [
      "[checkpoint] saved: /home/haislich/Documents/noisy_labels/hackaton/checkpoints/C/model_C_epoch_4.pth\n",
      "[checkpoint] saved: /home/haislich/Documents/noisy_labels/hackaton/checkpoints/C/model_C_epoch_8.pth\n",
      "[I 2025-05-30 07:38:48,848] Trial 24 pruned. \n",
      "gnn_type='gcn'\n",
      "loss_type='nosy_ce'\n",
      "graph_pooling='mean'\n",
      "drop_ratio=0.30445404538373605\n",
      "num_layers=9\n",
      "embedding_dim=300\n",
      "num_epochs=20\n"
     ]
    },
    {
     "data": {
      "application/vnd.jupyter.widget-view+json": {
       "model_id": "87d247db70e7498c9ff94c586dc1b6a8",
       "version_major": 2,
       "version_minor": 0
      },
      "text/plain": [
       "Training...:   0%|          | 0/20 [00:00<?, ?it/s]"
      ]
     },
     "metadata": {},
     "output_type": "display_data"
    },
    {
     "name": "stdout",
     "output_type": "stream",
     "text": [
      "[checkpoint] saved: /home/haislich/Documents/noisy_labels/hackaton/checkpoints/C/model_C_epoch_4.pth\n",
      "[checkpoint] saved: /home/haislich/Documents/noisy_labels/hackaton/checkpoints/C/model_C_epoch_8.pth\n",
      "[I 2025-05-30 07:42:08,013] Trial 25 pruned. \n",
      "gnn_type='gcn'\n",
      "loss_type='nosy_ce'\n",
      "graph_pooling='mean'\n",
      "drop_ratio=0.6296769488930668\n",
      "num_layers=5\n",
      "embedding_dim=128\n",
      "num_epochs=20\n"
     ]
    },
    {
     "data": {
      "application/vnd.jupyter.widget-view+json": {
       "model_id": "f0878a76d77940f2b4b9735c8468a869",
       "version_major": 2,
       "version_minor": 0
      },
      "text/plain": [
       "Training...:   0%|          | 0/20 [00:00<?, ?it/s]"
      ]
     },
     "metadata": {},
     "output_type": "display_data"
    },
    {
     "name": "stdout",
     "output_type": "stream",
     "text": [
      "[checkpoint] saved: /home/haislich/Documents/noisy_labels/hackaton/checkpoints/C/model_C_epoch_4.pth\n",
      "[checkpoint] saved: /home/haislich/Documents/noisy_labels/hackaton/checkpoints/C/model_C_epoch_8.pth\n",
      "[I 2025-05-30 07:43:01,182] Trial 26 pruned. \n",
      "gnn_type='gcn'\n",
      "loss_type='nosy_ce'\n",
      "graph_pooling='mean'\n",
      "drop_ratio=0.392857487193758\n",
      "num_layers=11\n",
      "embedding_dim=600\n",
      "num_epochs=20\n"
     ]
    },
    {
     "data": {
      "application/vnd.jupyter.widget-view+json": {
       "model_id": "e9dd4757620e41abbf39155c870bd5d9",
       "version_major": 2,
       "version_minor": 0
      },
      "text/plain": [
       "Training...:   0%|          | 0/20 [00:00<?, ?it/s]"
      ]
     },
     "metadata": {},
     "output_type": "display_data"
    },
    {
     "name": "stdout",
     "output_type": "stream",
     "text": [
      "Unhandled exception  CUDA out of memory. Tried to allocate 734.00 MiB. GPU 0 has a total capacity of 11.60 GiB of which 343.88 MiB is free. Process 6163 has 39.59 MiB memory in use. Including non-PyTorch memory, this process has 10.84 GiB memory in use. Of the allocated memory 10.20 GiB is allocated by PyTorch, and 428.88 MiB is reserved by PyTorch but unallocated. If reserved but unallocated memory is large try setting PYTORCH_CUDA_ALLOC_CONF=expandable_segments:True to avoid fragmentation.  See documentation for Memory Management  (https://pytorch.org/docs/stable/notes/cuda.html#environment-variables)\n",
      "[I 2025-05-30 07:43:01,420] Trial 27 finished with value: -inf and parameters: {'gnn_type': 'gin-virtual', 'loss_type': 'noisy_ce', 'graph_pooling': 'max', 'dropout': 0.392857487193758, 'num_layers': 11, 'embedding_dim': 600}. Best is trial 4 with value: 0.6940104166666666.\n",
      "gnn_type='gcn'\n",
      "loss_type='nosy_ce'\n",
      "graph_pooling='mean'\n",
      "drop_ratio=0.29661599898861096\n",
      "num_layers=6\n",
      "embedding_dim=64\n",
      "num_epochs=20\n"
     ]
    },
    {
     "data": {
      "application/vnd.jupyter.widget-view+json": {
       "model_id": "dbc57d45b6914284a93a4a7a814558f3",
       "version_major": 2,
       "version_minor": 0
      },
      "text/plain": [
       "Training...:   0%|          | 0/20 [00:00<?, ?it/s]"
      ]
     },
     "metadata": {},
     "output_type": "display_data"
    },
    {
     "name": "stdout",
     "output_type": "stream",
     "text": [
      "[checkpoint] saved: /home/haislich/Documents/noisy_labels/hackaton/checkpoints/C/model_C_epoch_4.pth\n",
      "[checkpoint] saved: /home/haislich/Documents/noisy_labels/hackaton/checkpoints/C/model_C_epoch_8.pth\n",
      "[checkpoint] saved: /home/haislich/Documents/noisy_labels/hackaton/checkpoints/C/model_C_epoch_12.pth\n",
      "[I 2025-05-30 07:43:49,026] Trial 28 pruned. \n",
      "gnn_type='gcn'\n",
      "loss_type='nosy_ce'\n",
      "graph_pooling='mean'\n",
      "drop_ratio=0.4636106987025668\n",
      "num_layers=4\n",
      "embedding_dim=300\n",
      "num_epochs=20\n"
     ]
    },
    {
     "data": {
      "application/vnd.jupyter.widget-view+json": {
       "model_id": "85bb03f2cff14cea9b43baeb6099c136",
       "version_major": 2,
       "version_minor": 0
      },
      "text/plain": [
       "Training...:   0%|          | 0/20 [00:00<?, ?it/s]"
      ]
     },
     "metadata": {},
     "output_type": "display_data"
    },
    {
     "name": "stdout",
     "output_type": "stream",
     "text": [
      "[checkpoint] saved: /home/haislich/Documents/noisy_labels/hackaton/checkpoints/C/model_C_epoch_4.pth\n",
      "[checkpoint] saved: /home/haislich/Documents/noisy_labels/hackaton/checkpoints/C/model_C_epoch_8.pth\n",
      "[checkpoint] saved: /home/haislich/Documents/noisy_labels/hackaton/checkpoints/C/model_C_epoch_12.pth\n",
      "[checkpoint] saved: /home/haislich/Documents/noisy_labels/hackaton/checkpoints/C/model_C_epoch_16.pth\n",
      "[checkpoint] saved: /home/haislich/Documents/noisy_labels/hackaton/checkpoints/C/model_C_epoch_20.pth\n",
      "[I 2025-05-30 07:46:39,033] Trial 29 finished with value: 0.69921875 and parameters: {'gnn_type': 'gcn', 'loss_type': 'ncod', 'graph_pooling': 'mean', 'dropout': 0.4636106987025668, 'num_layers': 4, 'embedding_dim': 300}. Best is trial 29 with value: 0.69921875.\n",
      "gnn_type='gcn'\n",
      "loss_type='nosy_ce'\n",
      "graph_pooling='mean'\n",
      "drop_ratio=0.4629824573607476\n",
      "num_layers=4\n",
      "embedding_dim=300\n",
      "num_epochs=20\n"
     ]
    },
    {
     "data": {
      "application/vnd.jupyter.widget-view+json": {
       "model_id": "5a61111d40a041749233aa4792456d6d",
       "version_major": 2,
       "version_minor": 0
      },
      "text/plain": [
       "Training...:   0%|          | 0/20 [00:00<?, ?it/s]"
      ]
     },
     "metadata": {},
     "output_type": "display_data"
    },
    {
     "name": "stdout",
     "output_type": "stream",
     "text": [
      "[checkpoint] saved: /home/haislich/Documents/noisy_labels/hackaton/checkpoints/C/model_C_epoch_4.pth\n",
      "[checkpoint] saved: /home/haislich/Documents/noisy_labels/hackaton/checkpoints/C/model_C_epoch_8.pth\n",
      "[checkpoint] saved: /home/haislich/Documents/noisy_labels/hackaton/checkpoints/C/model_C_epoch_12.pth\n",
      "[I 2025-05-30 07:48:37,817] Trial 30 pruned. \n",
      "gnn_type='gcn'\n",
      "loss_type='nosy_ce'\n",
      "graph_pooling='mean'\n",
      "drop_ratio=0.5305019944493565\n",
      "num_layers=4\n",
      "embedding_dim=300\n",
      "num_epochs=20\n"
     ]
    },
    {
     "data": {
      "application/vnd.jupyter.widget-view+json": {
       "model_id": "7229986f83b9459286a4b1749aa6db62",
       "version_major": 2,
       "version_minor": 0
      },
      "text/plain": [
       "Training...:   0%|          | 0/20 [00:00<?, ?it/s]"
      ]
     },
     "metadata": {},
     "output_type": "display_data"
    },
    {
     "name": "stdout",
     "output_type": "stream",
     "text": [
      "[checkpoint] saved: /home/haislich/Documents/noisy_labels/hackaton/checkpoints/C/model_C_epoch_4.pth\n",
      "[checkpoint] saved: /home/haislich/Documents/noisy_labels/hackaton/checkpoints/C/model_C_epoch_8.pth\n",
      "[I 2025-05-30 07:50:11,019] Trial 31 pruned. \n",
      "gnn_type='gcn'\n",
      "loss_type='nosy_ce'\n",
      "graph_pooling='mean'\n",
      "drop_ratio=0.5048702089256768\n",
      "num_layers=4\n",
      "embedding_dim=300\n",
      "num_epochs=20\n"
     ]
    },
    {
     "data": {
      "application/vnd.jupyter.widget-view+json": {
       "model_id": "37c9fbc504e945beaa7efd23218e6839",
       "version_major": 2,
       "version_minor": 0
      },
      "text/plain": [
       "Training...:   0%|          | 0/20 [00:00<?, ?it/s]"
      ]
     },
     "metadata": {},
     "output_type": "display_data"
    },
    {
     "name": "stdout",
     "output_type": "stream",
     "text": [
      "[checkpoint] saved: /home/haislich/Documents/noisy_labels/hackaton/checkpoints/C/model_C_epoch_4.pth\n",
      "[checkpoint] saved: /home/haislich/Documents/noisy_labels/hackaton/checkpoints/C/model_C_epoch_8.pth\n",
      "[I 2025-05-30 07:51:44,223] Trial 32 pruned. \n",
      "gnn_type='gcn'\n",
      "loss_type='nosy_ce'\n",
      "graph_pooling='mean'\n",
      "drop_ratio=0.45130062183688274\n",
      "num_layers=5\n",
      "embedding_dim=300\n",
      "num_epochs=20\n"
     ]
    },
    {
     "data": {
      "application/vnd.jupyter.widget-view+json": {
       "model_id": "cf60a09dd27c4759be72972a2c02e235",
       "version_major": 2,
       "version_minor": 0
      },
      "text/plain": [
       "Training...:   0%|          | 0/20 [00:00<?, ?it/s]"
      ]
     },
     "metadata": {},
     "output_type": "display_data"
    },
    {
     "name": "stdout",
     "output_type": "stream",
     "text": [
      "[checkpoint] saved: /home/haislich/Documents/noisy_labels/hackaton/checkpoints/C/model_C_epoch_4.pth\n",
      "[checkpoint] saved: /home/haislich/Documents/noisy_labels/hackaton/checkpoints/C/model_C_epoch_8.pth\n",
      "[I 2025-05-30 07:53:38,940] Trial 33 pruned. \n",
      "gnn_type='gcn'\n",
      "loss_type='nosy_ce'\n",
      "graph_pooling='mean'\n",
      "drop_ratio=0.206383094363208\n",
      "num_layers=3\n",
      "embedding_dim=300\n",
      "num_epochs=20\n"
     ]
    },
    {
     "data": {
      "application/vnd.jupyter.widget-view+json": {
       "model_id": "9da69b2ee1524f48b03fc4d450cf7d1c",
       "version_major": 2,
       "version_minor": 0
      },
      "text/plain": [
       "Training...:   0%|          | 0/20 [00:00<?, ?it/s]"
      ]
     },
     "metadata": {},
     "output_type": "display_data"
    },
    {
     "name": "stdout",
     "output_type": "stream",
     "text": [
      "[checkpoint] saved: /home/haislich/Documents/noisy_labels/hackaton/checkpoints/C/model_C_epoch_4.pth\n",
      "[checkpoint] saved: /home/haislich/Documents/noisy_labels/hackaton/checkpoints/C/model_C_epoch_8.pth\n",
      "[I 2025-05-30 07:54:50,601] Trial 34 pruned. \n",
      "gnn_type='gcn'\n",
      "loss_type='nosy_ce'\n",
      "graph_pooling='mean'\n",
      "drop_ratio=0.37021086157091343\n",
      "num_layers=10\n",
      "embedding_dim=600\n",
      "num_epochs=20\n"
     ]
    },
    {
     "data": {
      "application/vnd.jupyter.widget-view+json": {
       "model_id": "8bd59862227b44de81352faa314474fd",
       "version_major": 2,
       "version_minor": 0
      },
      "text/plain": [
       "Training...:   0%|          | 0/20 [00:00<?, ?it/s]"
      ]
     },
     "metadata": {},
     "output_type": "display_data"
    },
    {
     "name": "stdout",
     "output_type": "stream",
     "text": [
      "Unhandled exception  CUDA out of memory. Tried to allocate 642.00 MiB. GPU 0 has a total capacity of 11.60 GiB of which 352.44 MiB is free. Process 6163 has 39.59 MiB memory in use. Including non-PyTorch memory, this process has 10.83 GiB memory in use. Of the allocated memory 8.95 GiB is allocated by PyTorch, and 1.66 GiB is reserved by PyTorch but unallocated. If reserved but unallocated memory is large try setting PYTORCH_CUDA_ALLOC_CONF=expandable_segments:True to avoid fragmentation.  See documentation for Memory Management  (https://pytorch.org/docs/stable/notes/cuda.html#environment-variables)\n",
      "[I 2025-05-30 07:54:50,824] Trial 35 finished with value: -inf and parameters: {'gnn_type': 'gin-virtual', 'loss_type': 'ncod', 'graph_pooling': 'attention', 'dropout': 0.37021086157091343, 'num_layers': 10, 'embedding_dim': 600}. Best is trial 29 with value: 0.69921875.\n",
      "gnn_type='gcn'\n",
      "loss_type='nosy_ce'\n",
      "graph_pooling='mean'\n",
      "drop_ratio=0.6957272770167613\n",
      "num_layers=8\n",
      "embedding_dim=64\n",
      "num_epochs=20\n"
     ]
    },
    {
     "data": {
      "application/vnd.jupyter.widget-view+json": {
       "model_id": "83c3d96694794f0d834f6edb9de4dd3e",
       "version_major": 2,
       "version_minor": 0
      },
      "text/plain": [
       "Training...:   0%|          | 0/20 [00:00<?, ?it/s]"
      ]
     },
     "metadata": {},
     "output_type": "display_data"
    },
    {
     "name": "stdout",
     "output_type": "stream",
     "text": [
      "[checkpoint] saved: /home/haislich/Documents/noisy_labels/hackaton/checkpoints/C/model_C_epoch_4.pth\n",
      "[checkpoint] saved: /home/haislich/Documents/noisy_labels/hackaton/checkpoints/C/model_C_epoch_8.pth\n",
      "[I 2025-05-30 07:55:37,942] Trial 36 pruned. \n",
      "gnn_type='gcn'\n",
      "loss_type='nosy_ce'\n",
      "graph_pooling='mean'\n",
      "drop_ratio=0.33324635090840576\n",
      "num_layers=9\n",
      "embedding_dim=128\n",
      "num_epochs=20\n"
     ]
    },
    {
     "data": {
      "application/vnd.jupyter.widget-view+json": {
       "model_id": "de0778e777a9455cba916ead8bd79b37",
       "version_major": 2,
       "version_minor": 0
      },
      "text/plain": [
       "Training...:   0%|          | 0/20 [00:00<?, ?it/s]"
      ]
     },
     "metadata": {},
     "output_type": "display_data"
    },
    {
     "name": "stdout",
     "output_type": "stream",
     "text": [
      "[checkpoint] saved: /home/haislich/Documents/noisy_labels/hackaton/checkpoints/C/model_C_epoch_4.pth\n",
      "[checkpoint] saved: /home/haislich/Documents/noisy_labels/hackaton/checkpoints/C/model_C_epoch_8.pth\n",
      "[I 2025-05-30 07:57:07,939] Trial 37 pruned. \n",
      "gnn_type='gcn'\n",
      "loss_type='nosy_ce'\n",
      "graph_pooling='mean'\n",
      "drop_ratio=0.27832303017792637\n",
      "num_layers=7\n",
      "embedding_dim=300\n",
      "num_epochs=20\n"
     ]
    },
    {
     "data": {
      "application/vnd.jupyter.widget-view+json": {
       "model_id": "355adb47623b4d939136cfaa0face225",
       "version_major": 2,
       "version_minor": 0
      },
      "text/plain": [
       "Training...:   0%|          | 0/20 [00:00<?, ?it/s]"
      ]
     },
     "metadata": {},
     "output_type": "display_data"
    },
    {
     "name": "stdout",
     "output_type": "stream",
     "text": [
      "[checkpoint] saved: /home/haislich/Documents/noisy_labels/hackaton/checkpoints/C/model_C_epoch_4.pth\n",
      "[checkpoint] saved: /home/haislich/Documents/noisy_labels/hackaton/checkpoints/C/model_C_epoch_8.pth\n",
      "[I 2025-05-30 07:59:45,246] Trial 38 pruned. \n",
      "gnn_type='gcn'\n",
      "loss_type='nosy_ce'\n",
      "graph_pooling='mean'\n",
      "drop_ratio=0.582235336922599\n",
      "num_layers=12\n",
      "embedding_dim=600\n",
      "num_epochs=20\n"
     ]
    },
    {
     "data": {
      "application/vnd.jupyter.widget-view+json": {
       "model_id": "b9be87cc70a94ca4a5e78ea42d94ff13",
       "version_major": 2,
       "version_minor": 0
      },
      "text/plain": [
       "Training...:   0%|          | 0/20 [00:00<?, ?it/s]"
      ]
     },
     "metadata": {},
     "output_type": "display_data"
    },
    {
     "name": "stdout",
     "output_type": "stream",
     "text": [
      "Unhandled exception  CUDA out of memory. Tried to allocate 678.00 MiB. GPU 0 has a total capacity of 11.60 GiB of which 352.44 MiB is free. Process 6163 has 39.59 MiB memory in use. Including non-PyTorch memory, this process has 10.83 GiB memory in use. Of the allocated memory 9.47 GiB is allocated by PyTorch, and 1.14 GiB is reserved by PyTorch but unallocated. If reserved but unallocated memory is large try setting PYTORCH_CUDA_ALLOC_CONF=expandable_segments:True to avoid fragmentation.  See documentation for Memory Management  (https://pytorch.org/docs/stable/notes/cuda.html#environment-variables)\n",
      "[I 2025-05-30 07:59:45,474] Trial 39 finished with value: -inf and parameters: {'gnn_type': 'gcn-virtual', 'loss_type': 'noisy_ce', 'graph_pooling': 'sum', 'dropout': 0.582235336922599, 'num_layers': 12, 'embedding_dim': 600}. Best is trial 29 with value: 0.69921875.\n",
      "gnn_type='gcn'\n",
      "loss_type='nosy_ce'\n",
      "graph_pooling='mean'\n",
      "drop_ratio=0.11693161203085711\n",
      "num_layers=6\n",
      "embedding_dim=300\n",
      "num_epochs=20\n"
     ]
    },
    {
     "data": {
      "application/vnd.jupyter.widget-view+json": {
       "model_id": "356c991ffc104ef39c5b8d8e17f760a9",
       "version_major": 2,
       "version_minor": 0
      },
      "text/plain": [
       "Training...:   0%|          | 0/20 [00:00<?, ?it/s]"
      ]
     },
     "metadata": {},
     "output_type": "display_data"
    },
    {
     "name": "stdout",
     "output_type": "stream",
     "text": [
      "[checkpoint] saved: /home/haislich/Documents/noisy_labels/hackaton/checkpoints/C/model_C_epoch_4.pth\n",
      "[checkpoint] saved: /home/haislich/Documents/noisy_labels/hackaton/checkpoints/C/model_C_epoch_8.pth\n",
      "[checkpoint] saved: /home/haislich/Documents/noisy_labels/hackaton/checkpoints/C/model_C_epoch_12.pth\n",
      "[checkpoint] saved: /home/haislich/Documents/noisy_labels/hackaton/checkpoints/C/model_C_epoch_16.pth\n",
      "[checkpoint] saved: /home/haislich/Documents/noisy_labels/hackaton/checkpoints/C/model_C_epoch_20.pth\n",
      "[I 2025-05-30 08:03:53,307] Trial 40 finished with value: 0.6497395833333334 and parameters: {'gnn_type': 'gcn', 'loss_type': 'noisy_ce', 'graph_pooling': 'max', 'dropout': 0.11693161203085711, 'num_layers': 6, 'embedding_dim': 300}. Best is trial 29 with value: 0.69921875.\n",
      "gnn_type='gcn'\n",
      "loss_type='nosy_ce'\n",
      "graph_pooling='mean'\n",
      "drop_ratio=0.22656907931569426\n",
      "num_layers=10\n",
      "embedding_dim=300\n",
      "num_epochs=20\n"
     ]
    },
    {
     "data": {
      "application/vnd.jupyter.widget-view+json": {
       "model_id": "2639e7f8552a489fbe8096bb8fec1d83",
       "version_major": 2,
       "version_minor": 0
      },
      "text/plain": [
       "Training...:   0%|          | 0/20 [00:00<?, ?it/s]"
      ]
     },
     "metadata": {},
     "output_type": "display_data"
    },
    {
     "name": "stdout",
     "output_type": "stream",
     "text": [
      "[checkpoint] saved: /home/haislich/Documents/noisy_labels/hackaton/checkpoints/C/model_C_epoch_4.pth\n",
      "[checkpoint] saved: /home/haislich/Documents/noisy_labels/hackaton/checkpoints/C/model_C_epoch_8.pth\n",
      "[checkpoint] saved: /home/haislich/Documents/noisy_labels/hackaton/checkpoints/C/model_C_epoch_12.pth\n",
      "[checkpoint] saved: /home/haislich/Documents/noisy_labels/hackaton/checkpoints/C/model_C_epoch_16.pth\n",
      "[checkpoint] saved: /home/haislich/Documents/noisy_labels/hackaton/checkpoints/C/model_C_epoch_20.pth\n",
      "[I 2025-05-30 08:10:35,250] Trial 41 finished with value: 0.712890625 and parameters: {'gnn_type': 'gcn-virtual', 'loss_type': 'sce', 'graph_pooling': 'max', 'dropout': 0.22656907931569426, 'num_layers': 10, 'embedding_dim': 300}. Best is trial 41 with value: 0.712890625.\n",
      "gnn_type='gcn'\n",
      "loss_type='nosy_ce'\n",
      "graph_pooling='mean'\n",
      "drop_ratio=0.20887199370111972\n",
      "num_layers=11\n",
      "embedding_dim=300\n",
      "num_epochs=20\n"
     ]
    },
    {
     "data": {
      "application/vnd.jupyter.widget-view+json": {
       "model_id": "e3228cb02e624ed4bd921672ceaa9af3",
       "version_major": 2,
       "version_minor": 0
      },
      "text/plain": [
       "Training...:   0%|          | 0/20 [00:00<?, ?it/s]"
      ]
     },
     "metadata": {},
     "output_type": "display_data"
    },
    {
     "name": "stdout",
     "output_type": "stream",
     "text": [
      "[checkpoint] saved: /home/haislich/Documents/noisy_labels/hackaton/checkpoints/C/model_C_epoch_4.pth\n",
      "[checkpoint] saved: /home/haislich/Documents/noisy_labels/hackaton/checkpoints/C/model_C_epoch_8.pth\n",
      "[I 2025-05-30 08:14:38,783] Trial 42 pruned. \n",
      "gnn_type='gcn'\n",
      "loss_type='nosy_ce'\n",
      "graph_pooling='mean'\n",
      "drop_ratio=0.3401893048649566\n",
      "num_layers=10\n",
      "embedding_dim=300\n",
      "num_epochs=20\n"
     ]
    },
    {
     "data": {
      "application/vnd.jupyter.widget-view+json": {
       "model_id": "fbb1cd3d42684a5883ca493ee74b8ffb",
       "version_major": 2,
       "version_minor": 0
      },
      "text/plain": [
       "Training...:   0%|          | 0/20 [00:00<?, ?it/s]"
      ]
     },
     "metadata": {},
     "output_type": "display_data"
    },
    {
     "name": "stdout",
     "output_type": "stream",
     "text": [
      "[checkpoint] saved: /home/haislich/Documents/noisy_labels/hackaton/checkpoints/C/model_C_epoch_4.pth\n",
      "[checkpoint] saved: /home/haislich/Documents/noisy_labels/hackaton/checkpoints/C/model_C_epoch_8.pth\n",
      "[checkpoint] saved: /home/haislich/Documents/noisy_labels/hackaton/checkpoints/C/model_C_epoch_12.pth\n",
      "[I 2025-05-30 08:19:19,210] Trial 43 pruned. \n",
      "gnn_type='gcn'\n",
      "loss_type='nosy_ce'\n",
      "graph_pooling='mean'\n",
      "drop_ratio=0.3972771689149058\n",
      "num_layers=12\n",
      "embedding_dim=300\n",
      "num_epochs=20\n"
     ]
    },
    {
     "data": {
      "application/vnd.jupyter.widget-view+json": {
       "model_id": "28f9307e01a849ada25712364c76c266",
       "version_major": 2,
       "version_minor": 0
      },
      "text/plain": [
       "Training...:   0%|          | 0/20 [00:00<?, ?it/s]"
      ]
     },
     "metadata": {},
     "output_type": "display_data"
    },
    {
     "name": "stdout",
     "output_type": "stream",
     "text": [
      "[checkpoint] saved: /home/haislich/Documents/noisy_labels/hackaton/checkpoints/C/model_C_epoch_4.pth\n",
      "[checkpoint] saved: /home/haislich/Documents/noisy_labels/hackaton/checkpoints/C/model_C_epoch_8.pth\n",
      "[I 2025-05-30 08:23:42,836] Trial 44 pruned. \n",
      "gnn_type='gcn'\n",
      "loss_type='nosy_ce'\n",
      "graph_pooling='mean'\n",
      "drop_ratio=0.13631145135321887\n",
      "num_layers=10\n",
      "embedding_dim=300\n",
      "num_epochs=20\n"
     ]
    },
    {
     "data": {
      "application/vnd.jupyter.widget-view+json": {
       "model_id": "8fa8273616ca40789332b170d11c3488",
       "version_major": 2,
       "version_minor": 0
      },
      "text/plain": [
       "Training...:   0%|          | 0/20 [00:00<?, ?it/s]"
      ]
     },
     "metadata": {},
     "output_type": "display_data"
    },
    {
     "name": "stdout",
     "output_type": "stream",
     "text": [
      "[checkpoint] saved: /home/haislich/Documents/noisy_labels/hackaton/checkpoints/C/model_C_epoch_4.pth\n",
      "[checkpoint] saved: /home/haislich/Documents/noisy_labels/hackaton/checkpoints/C/model_C_epoch_8.pth\n",
      "[I 2025-05-30 08:27:23,340] Trial 45 pruned. \n",
      "gnn_type='gcn'\n",
      "loss_type='nosy_ce'\n",
      "graph_pooling='mean'\n",
      "drop_ratio=0.19126384220661385\n",
      "num_layers=11\n",
      "embedding_dim=64\n",
      "num_epochs=20\n"
     ]
    },
    {
     "data": {
      "application/vnd.jupyter.widget-view+json": {
       "model_id": "20e81556cac449c7851507ab6a45e23f",
       "version_major": 2,
       "version_minor": 0
      },
      "text/plain": [
       "Training...:   0%|          | 0/20 [00:00<?, ?it/s]"
      ]
     },
     "metadata": {},
     "output_type": "display_data"
    },
    {
     "name": "stdout",
     "output_type": "stream",
     "text": [
      "[checkpoint] saved: /home/haislich/Documents/noisy_labels/hackaton/checkpoints/C/model_C_epoch_4.pth\n",
      "[checkpoint] saved: /home/haislich/Documents/noisy_labels/hackaton/checkpoints/C/model_C_epoch_8.pth\n",
      "[I 2025-05-30 08:28:25,422] Trial 46 pruned. \n",
      "gnn_type='gcn'\n",
      "loss_type='nosy_ce'\n",
      "graph_pooling='mean'\n",
      "drop_ratio=0.10305667920866499\n",
      "num_layers=9\n",
      "embedding_dim=128\n",
      "num_epochs=20\n"
     ]
    },
    {
     "data": {
      "application/vnd.jupyter.widget-view+json": {
       "model_id": "29d07a4a63f24c8582148bedbbd96491",
       "version_major": 2,
       "version_minor": 0
      },
      "text/plain": [
       "Training...:   0%|          | 0/20 [00:00<?, ?it/s]"
      ]
     },
     "metadata": {},
     "output_type": "display_data"
    },
    {
     "name": "stdout",
     "output_type": "stream",
     "text": [
      "[checkpoint] saved: /home/haislich/Documents/noisy_labels/hackaton/checkpoints/C/model_C_epoch_4.pth\n",
      "[checkpoint] saved: /home/haislich/Documents/noisy_labels/hackaton/checkpoints/C/model_C_epoch_8.pth\n",
      "[checkpoint] saved: /home/haislich/Documents/noisy_labels/hackaton/checkpoints/C/model_C_epoch_12.pth\n",
      "[I 2025-05-30 08:30:19,898] Trial 47 pruned. \n",
      "gnn_type='gcn'\n",
      "loss_type='nosy_ce'\n",
      "graph_pooling='mean'\n",
      "drop_ratio=0.5329054197944887\n",
      "num_layers=12\n",
      "embedding_dim=300\n",
      "num_epochs=20\n"
     ]
    },
    {
     "data": {
      "application/vnd.jupyter.widget-view+json": {
       "model_id": "dc9109767e1e4cfa980417d70aea2817",
       "version_major": 2,
       "version_minor": 0
      },
      "text/plain": [
       "Training...:   0%|          | 0/20 [00:00<?, ?it/s]"
      ]
     },
     "metadata": {},
     "output_type": "display_data"
    },
    {
     "name": "stdout",
     "output_type": "stream",
     "text": [
      "[checkpoint] saved: /home/haislich/Documents/noisy_labels/hackaton/checkpoints/C/model_C_epoch_4.pth\n",
      "[checkpoint] saved: /home/haislich/Documents/noisy_labels/hackaton/checkpoints/C/model_C_epoch_8.pth\n",
      "[I 2025-05-30 08:34:45,241] Trial 48 pruned. \n",
      "gnn_type='gcn'\n",
      "loss_type='nosy_ce'\n",
      "graph_pooling='mean'\n",
      "drop_ratio=0.2284294906052299\n",
      "num_layers=10\n",
      "embedding_dim=300\n",
      "num_epochs=20\n"
     ]
    },
    {
     "data": {
      "application/vnd.jupyter.widget-view+json": {
       "model_id": "73048e39187847aa82070d49f050e0cf",
       "version_major": 2,
       "version_minor": 0
      },
      "text/plain": [
       "Training...:   0%|          | 0/20 [00:00<?, ?it/s]"
      ]
     },
     "metadata": {},
     "output_type": "display_data"
    },
    {
     "name": "stdout",
     "output_type": "stream",
     "text": [
      "[checkpoint] saved: /home/haislich/Documents/noisy_labels/hackaton/checkpoints/C/model_C_epoch_4.pth\n",
      "[checkpoint] saved: /home/haislich/Documents/noisy_labels/hackaton/checkpoints/C/model_C_epoch_8.pth\n",
      "[I 2025-05-30 08:38:25,477] Trial 49 pruned. \n",
      "gnn_type='gcn'\n",
      "loss_type='nosy_ce'\n",
      "graph_pooling='mean'\n",
      "drop_ratio=0.26754045265437226\n",
      "num_layers=11\n",
      "embedding_dim=300\n",
      "num_epochs=20\n"
     ]
    },
    {
     "data": {
      "application/vnd.jupyter.widget-view+json": {
       "model_id": "f480b62a4e49421fa85cc23e8e97c7b0",
       "version_major": 2,
       "version_minor": 0
      },
      "text/plain": [
       "Training...:   0%|          | 0/20 [00:00<?, ?it/s]"
      ]
     },
     "metadata": {},
     "output_type": "display_data"
    },
    {
     "name": "stdout",
     "output_type": "stream",
     "text": [
      "[checkpoint] saved: /home/haislich/Documents/noisy_labels/hackaton/checkpoints/C/model_C_epoch_4.pth\n",
      "[checkpoint] saved: /home/haislich/Documents/noisy_labels/hackaton/checkpoints/C/model_C_epoch_8.pth\n",
      "[checkpoint] saved: /home/haislich/Documents/noisy_labels/hackaton/checkpoints/C/model_C_epoch_12.pth\n",
      "[checkpoint] saved: /home/haislich/Documents/noisy_labels/hackaton/checkpoints/C/model_C_epoch_16.pth\n",
      "[checkpoint] saved: /home/haislich/Documents/noisy_labels/hackaton/checkpoints/C/model_C_epoch_20.pth\n",
      "[I 2025-05-30 08:45:47,135] Trial 50 finished with value: 0.673828125 and parameters: {'gnn_type': 'gcn-virtual', 'loss_type': 'noisy_ce', 'graph_pooling': 'sum', 'dropout': 0.26754045265437226, 'num_layers': 11, 'embedding_dim': 300}. Best is trial 41 with value: 0.712890625.\n",
      "gnn_type='gcn'\n",
      "loss_type='nosy_ce'\n",
      "graph_pooling='mean'\n",
      "drop_ratio=0.27167626693030195\n",
      "num_layers=11\n",
      "embedding_dim=300\n",
      "num_epochs=20\n"
     ]
    },
    {
     "data": {
      "application/vnd.jupyter.widget-view+json": {
       "model_id": "d34a55839e8542818facbdf3711719d2",
       "version_major": 2,
       "version_minor": 0
      },
      "text/plain": [
       "Training...:   0%|          | 0/20 [00:00<?, ?it/s]"
      ]
     },
     "metadata": {},
     "output_type": "display_data"
    },
    {
     "name": "stdout",
     "output_type": "stream",
     "text": [
      "[checkpoint] saved: /home/haislich/Documents/noisy_labels/hackaton/checkpoints/C/model_C_epoch_4.pth\n",
      "[checkpoint] saved: /home/haislich/Documents/noisy_labels/hackaton/checkpoints/C/model_C_epoch_8.pth\n",
      "[checkpoint] saved: /home/haislich/Documents/noisy_labels/hackaton/checkpoints/C/model_C_epoch_12.pth\n",
      "[checkpoint] saved: /home/haislich/Documents/noisy_labels/hackaton/checkpoints/C/model_C_epoch_16.pth\n",
      "[checkpoint] saved: /home/haislich/Documents/noisy_labels/hackaton/checkpoints/C/model_C_epoch_20.pth\n",
      "[I 2025-05-30 08:53:10,522] Trial 51 finished with value: 0.6888020833333334 and parameters: {'gnn_type': 'gcn-virtual', 'loss_type': 'noisy_ce', 'graph_pooling': 'sum', 'dropout': 0.27167626693030195, 'num_layers': 11, 'embedding_dim': 300}. Best is trial 41 with value: 0.712890625.\n",
      "gnn_type='gcn'\n",
      "loss_type='nosy_ce'\n",
      "graph_pooling='mean'\n",
      "drop_ratio=0.27604511266797943\n",
      "num_layers=11\n",
      "embedding_dim=300\n",
      "num_epochs=20\n"
     ]
    },
    {
     "data": {
      "application/vnd.jupyter.widget-view+json": {
       "model_id": "539998d8e98f495ba88d2cadfc0cc680",
       "version_major": 2,
       "version_minor": 0
      },
      "text/plain": [
       "Training...:   0%|          | 0/20 [00:00<?, ?it/s]"
      ]
     },
     "metadata": {},
     "output_type": "display_data"
    },
    {
     "name": "stdout",
     "output_type": "stream",
     "text": [
      "[checkpoint] saved: /home/haislich/Documents/noisy_labels/hackaton/checkpoints/C/model_C_epoch_4.pth\n",
      "[checkpoint] saved: /home/haislich/Documents/noisy_labels/hackaton/checkpoints/C/model_C_epoch_8.pth\n",
      "[I 2025-05-30 08:57:13,863] Trial 52 pruned. \n",
      "gnn_type='gcn'\n",
      "loss_type='nosy_ce'\n",
      "graph_pooling='mean'\n",
      "drop_ratio=0.23836756976135373\n",
      "num_layers=11\n",
      "embedding_dim=300\n",
      "num_epochs=20\n"
     ]
    },
    {
     "data": {
      "application/vnd.jupyter.widget-view+json": {
       "model_id": "be2ce954cd9f4896b2d58a31725e8429",
       "version_major": 2,
       "version_minor": 0
      },
      "text/plain": [
       "Training...:   0%|          | 0/20 [00:00<?, ?it/s]"
      ]
     },
     "metadata": {},
     "output_type": "display_data"
    },
    {
     "name": "stdout",
     "output_type": "stream",
     "text": [
      "[checkpoint] saved: /home/haislich/Documents/noisy_labels/hackaton/checkpoints/C/model_C_epoch_4.pth\n",
      "[checkpoint] saved: /home/haislich/Documents/noisy_labels/hackaton/checkpoints/C/model_C_epoch_8.pth\n",
      "[checkpoint] saved: /home/haislich/Documents/noisy_labels/hackaton/checkpoints/C/model_C_epoch_12.pth\n",
      "[I 2025-05-30 09:02:24,145] Trial 53 pruned. \n",
      "gnn_type='gcn'\n",
      "loss_type='nosy_ce'\n",
      "graph_pooling='mean'\n",
      "drop_ratio=0.3116256201735303\n",
      "num_layers=12\n",
      "embedding_dim=300\n",
      "num_epochs=20\n"
     ]
    },
    {
     "data": {
      "application/vnd.jupyter.widget-view+json": {
       "model_id": "f2c88ec505b64887bd7b65ed4294bfe2",
       "version_major": 2,
       "version_minor": 0
      },
      "text/plain": [
       "Training...:   0%|          | 0/20 [00:00<?, ?it/s]"
      ]
     },
     "metadata": {},
     "output_type": "display_data"
    },
    {
     "name": "stdout",
     "output_type": "stream",
     "text": [
      "[checkpoint] saved: /home/haislich/Documents/noisy_labels/hackaton/checkpoints/C/model_C_epoch_4.pth\n",
      "[checkpoint] saved: /home/haislich/Documents/noisy_labels/hackaton/checkpoints/C/model_C_epoch_8.pth\n",
      "[checkpoint] saved: /home/haislich/Documents/noisy_labels/hackaton/checkpoints/C/model_C_epoch_12.pth\n",
      "[checkpoint] saved: /home/haislich/Documents/noisy_labels/hackaton/checkpoints/C/model_C_epoch_16.pth\n",
      "[checkpoint] saved: /home/haislich/Documents/noisy_labels/hackaton/checkpoints/C/model_C_epoch_20.pth\n",
      "[I 2025-05-30 09:10:25,535] Trial 54 finished with value: 0.6927083333333334 and parameters: {'gnn_type': 'gcn-virtual', 'loss_type': 'noisy_ce', 'graph_pooling': 'mean', 'dropout': 0.3116256201735303, 'num_layers': 12, 'embedding_dim': 300}. Best is trial 41 with value: 0.712890625.\n",
      "gnn_type='gcn'\n",
      "loss_type='nosy_ce'\n",
      "graph_pooling='mean'\n",
      "drop_ratio=0.30281396822674245\n",
      "num_layers=12\n",
      "embedding_dim=300\n",
      "num_epochs=20\n"
     ]
    },
    {
     "data": {
      "application/vnd.jupyter.widget-view+json": {
       "model_id": "e831b8afed4f42a8ac3c17745fdda12d",
       "version_major": 2,
       "version_minor": 0
      },
      "text/plain": [
       "Training...:   0%|          | 0/20 [00:00<?, ?it/s]"
      ]
     },
     "metadata": {},
     "output_type": "display_data"
    },
    {
     "name": "stdout",
     "output_type": "stream",
     "text": [
      "[checkpoint] saved: /home/haislich/Documents/noisy_labels/hackaton/checkpoints/C/model_C_epoch_4.pth\n",
      "[checkpoint] saved: /home/haislich/Documents/noisy_labels/hackaton/checkpoints/C/model_C_epoch_8.pth\n",
      "[checkpoint] saved: /home/haislich/Documents/noisy_labels/hackaton/checkpoints/C/model_C_epoch_12.pth\n",
      "[checkpoint] saved: /home/haislich/Documents/noisy_labels/hackaton/checkpoints/C/model_C_epoch_16.pth\n",
      "[checkpoint] saved: /home/haislich/Documents/noisy_labels/hackaton/checkpoints/C/model_C_epoch_20.pth\n",
      "[I 2025-05-30 09:18:23,638] Trial 55 finished with value: 0.646484375 and parameters: {'gnn_type': 'gcn-virtual', 'loss_type': 'noisy_ce', 'graph_pooling': 'mean', 'dropout': 0.30281396822674245, 'num_layers': 12, 'embedding_dim': 300}. Best is trial 41 with value: 0.712890625.\n",
      "gnn_type='gcn'\n",
      "loss_type='nosy_ce'\n",
      "graph_pooling='mean'\n",
      "drop_ratio=0.36433135979539377\n",
      "num_layers=12\n",
      "embedding_dim=300\n",
      "num_epochs=20\n"
     ]
    },
    {
     "data": {
      "application/vnd.jupyter.widget-view+json": {
       "model_id": "1bcf9bf11d6b4d0ab3289159ddf146f3",
       "version_major": 2,
       "version_minor": 0
      },
      "text/plain": [
       "Training...:   0%|          | 0/20 [00:00<?, ?it/s]"
      ]
     },
     "metadata": {},
     "output_type": "display_data"
    },
    {
     "name": "stdout",
     "output_type": "stream",
     "text": [
      "[checkpoint] saved: /home/haislich/Documents/noisy_labels/hackaton/checkpoints/C/model_C_epoch_4.pth\n",
      "[checkpoint] saved: /home/haislich/Documents/noisy_labels/hackaton/checkpoints/C/model_C_epoch_8.pth\n",
      "[checkpoint] saved: /home/haislich/Documents/noisy_labels/hackaton/checkpoints/C/model_C_epoch_12.pth\n",
      "[checkpoint] saved: /home/haislich/Documents/noisy_labels/hackaton/checkpoints/C/model_C_epoch_16.pth\n",
      "[checkpoint] saved: /home/haislich/Documents/noisy_labels/hackaton/checkpoints/C/model_C_epoch_20.pth\n",
      "[I 2025-05-30 09:26:21,968] Trial 56 finished with value: 0.6588541666666666 and parameters: {'gnn_type': 'gcn-virtual', 'loss_type': 'ncod', 'graph_pooling': 'attention', 'dropout': 0.36433135979539377, 'num_layers': 12, 'embedding_dim': 300}. Best is trial 41 with value: 0.712890625.\n",
      "gnn_type='gcn'\n",
      "loss_type='nosy_ce'\n",
      "graph_pooling='mean'\n",
      "drop_ratio=0.3169193048065966\n",
      "num_layers=11\n",
      "embedding_dim=300\n",
      "num_epochs=20\n"
     ]
    },
    {
     "data": {
      "application/vnd.jupyter.widget-view+json": {
       "model_id": "8ea13a8f0b684df38a1e931961acebd6",
       "version_major": 2,
       "version_minor": 0
      },
      "text/plain": [
       "Training...:   0%|          | 0/20 [00:00<?, ?it/s]"
      ]
     },
     "metadata": {},
     "output_type": "display_data"
    },
    {
     "name": "stdout",
     "output_type": "stream",
     "text": [
      "[checkpoint] saved: /home/haislich/Documents/noisy_labels/hackaton/checkpoints/C/model_C_epoch_4.pth\n",
      "[checkpoint] saved: /home/haislich/Documents/noisy_labels/hackaton/checkpoints/C/model_C_epoch_8.pth\n",
      "[checkpoint] saved: /home/haislich/Documents/noisy_labels/hackaton/checkpoints/C/model_C_epoch_12.pth\n",
      "[checkpoint] saved: /home/haislich/Documents/noisy_labels/hackaton/checkpoints/C/model_C_epoch_16.pth\n",
      "[checkpoint] saved: /home/haislich/Documents/noisy_labels/hackaton/checkpoints/C/model_C_epoch_20.pth\n",
      "[I 2025-05-30 09:33:40,439] Trial 57 finished with value: 0.6705729166666666 and parameters: {'gnn_type': 'gcn-virtual', 'loss_type': 'noisy_ce', 'graph_pooling': 'mean', 'dropout': 0.3169193048065966, 'num_layers': 11, 'embedding_dim': 300}. Best is trial 41 with value: 0.712890625.\n",
      "gnn_type='gcn'\n",
      "loss_type='nosy_ce'\n",
      "graph_pooling='mean'\n",
      "drop_ratio=0.4267509057224154\n",
      "num_layers=10\n",
      "embedding_dim=300\n",
      "num_epochs=20\n"
     ]
    },
    {
     "data": {
      "application/vnd.jupyter.widget-view+json": {
       "model_id": "be2ef1c8eaa54631a74ebdb841f9e9bb",
       "version_major": 2,
       "version_minor": 0
      },
      "text/plain": [
       "Training...:   0%|          | 0/20 [00:00<?, ?it/s]"
      ]
     },
     "metadata": {},
     "output_type": "display_data"
    },
    {
     "name": "stdout",
     "output_type": "stream",
     "text": [
      "[checkpoint] saved: /home/haislich/Documents/noisy_labels/hackaton/checkpoints/C/model_C_epoch_4.pth\n",
      "[checkpoint] saved: /home/haislich/Documents/noisy_labels/hackaton/checkpoints/C/model_C_epoch_8.pth\n",
      "[checkpoint] saved: /home/haislich/Documents/noisy_labels/hackaton/checkpoints/C/model_C_epoch_12.pth\n",
      "[checkpoint] saved: /home/haislich/Documents/noisy_labels/hackaton/checkpoints/C/model_C_epoch_16.pth\n",
      "[I 2025-05-30 09:39:36,170] Trial 58 pruned. \n",
      "gnn_type='gcn'\n",
      "loss_type='nosy_ce'\n",
      "graph_pooling='mean'\n",
      "drop_ratio=0.33152247181166733\n",
      "num_layers=12\n",
      "embedding_dim=600\n",
      "num_epochs=20\n"
     ]
    },
    {
     "data": {
      "application/vnd.jupyter.widget-view+json": {
       "model_id": "d4e28ba8ffbe4c8898953d488107a3da",
       "version_major": 2,
       "version_minor": 0
      },
      "text/plain": [
       "Training...:   0%|          | 0/20 [00:00<?, ?it/s]"
      ]
     },
     "metadata": {},
     "output_type": "display_data"
    },
    {
     "name": "stdout",
     "output_type": "stream",
     "text": [
      "Unhandled exception  CUDA out of memory. Tried to allocate 636.00 MiB. GPU 0 has a total capacity of 11.60 GiB of which 322.12 MiB is free. Process 6163 has 39.59 MiB memory in use. Including non-PyTorch memory, this process has 10.83 GiB memory in use. Of the allocated memory 8.91 GiB is allocated by PyTorch, and 1.70 GiB is reserved by PyTorch but unallocated. If reserved but unallocated memory is large try setting PYTORCH_CUDA_ALLOC_CONF=expandable_segments:True to avoid fragmentation.  See documentation for Memory Management  (https://pytorch.org/docs/stable/notes/cuda.html#environment-variables)\n",
      "[I 2025-05-30 09:39:36,391] Trial 59 finished with value: -inf and parameters: {'gnn_type': 'gcn-virtual', 'loss_type': 'noisy_ce', 'graph_pooling': 'max', 'dropout': 0.33152247181166733, 'num_layers': 12, 'embedding_dim': 600}. Best is trial 41 with value: 0.712890625.\n",
      "\n",
      "All trials saved to: /home/haislich/Documents/noisy_labels/hackaton/logs/C/optuna_summary_C.csv\n",
      "\n",
      "Best result for dataset C:\n"
     ]
    },
    {
     "data": {
      "text/html": [
       "<div>\n",
       "<style scoped>\n",
       "    .dataframe tbody tr th:only-of-type {\n",
       "        vertical-align: middle;\n",
       "    }\n",
       "\n",
       "    .dataframe tbody tr th {\n",
       "        vertical-align: top;\n",
       "    }\n",
       "\n",
       "    .dataframe thead th {\n",
       "        text-align: right;\n",
       "    }\n",
       "</style>\n",
       "<table border=\"1\" class=\"dataframe\">\n",
       "  <thead>\n",
       "    <tr style=\"text-align: right;\">\n",
       "      <th></th>\n",
       "      <th>accuracy</th>\n",
       "      <th>gnn_type</th>\n",
       "      <th>loss_type</th>\n",
       "      <th>graph_pooling</th>\n",
       "      <th>dropout</th>\n",
       "      <th>num_layers</th>\n",
       "      <th>embedding_dim</th>\n",
       "    </tr>\n",
       "  </thead>\n",
       "  <tbody>\n",
       "    <tr>\n",
       "      <th>18</th>\n",
       "      <td>0.712891</td>\n",
       "      <td>gcn-virtual</td>\n",
       "      <td>sce</td>\n",
       "      <td>max</td>\n",
       "      <td>0.226569</td>\n",
       "      <td>10</td>\n",
       "      <td>300</td>\n",
       "    </tr>\n",
       "    <tr>\n",
       "      <th>14</th>\n",
       "      <td>0.699219</td>\n",
       "      <td>gcn</td>\n",
       "      <td>ncod</td>\n",
       "      <td>mean</td>\n",
       "      <td>0.463611</td>\n",
       "      <td>4</td>\n",
       "      <td>300</td>\n",
       "    </tr>\n",
       "    <tr>\n",
       "      <th>4</th>\n",
       "      <td>0.694010</td>\n",
       "      <td>gcn-virtual</td>\n",
       "      <td>ncod</td>\n",
       "      <td>set2set</td>\n",
       "      <td>0.348624</td>\n",
       "      <td>11</td>\n",
       "      <td>300</td>\n",
       "    </tr>\n",
       "    <tr>\n",
       "      <th>21</th>\n",
       "      <td>0.692708</td>\n",
       "      <td>gcn-virtual</td>\n",
       "      <td>noisy_ce</td>\n",
       "      <td>mean</td>\n",
       "      <td>0.311626</td>\n",
       "      <td>12</td>\n",
       "      <td>300</td>\n",
       "    </tr>\n",
       "    <tr>\n",
       "      <th>20</th>\n",
       "      <td>0.688802</td>\n",
       "      <td>gcn-virtual</td>\n",
       "      <td>noisy_ce</td>\n",
       "      <td>sum</td>\n",
       "      <td>0.271676</td>\n",
       "      <td>11</td>\n",
       "      <td>300</td>\n",
       "    </tr>\n",
       "    <tr>\n",
       "      <th>5</th>\n",
       "      <td>0.679688</td>\n",
       "      <td>gcn-virtual</td>\n",
       "      <td>sce</td>\n",
       "      <td>set2set</td>\n",
       "      <td>0.333198</td>\n",
       "      <td>11</td>\n",
       "      <td>300</td>\n",
       "    </tr>\n",
       "    <tr>\n",
       "      <th>19</th>\n",
       "      <td>0.673828</td>\n",
       "      <td>gcn-virtual</td>\n",
       "      <td>noisy_ce</td>\n",
       "      <td>sum</td>\n",
       "      <td>0.267540</td>\n",
       "      <td>11</td>\n",
       "      <td>300</td>\n",
       "    </tr>\n",
       "    <tr>\n",
       "      <th>24</th>\n",
       "      <td>0.670573</td>\n",
       "      <td>gcn-virtual</td>\n",
       "      <td>noisy_ce</td>\n",
       "      <td>mean</td>\n",
       "      <td>0.316919</td>\n",
       "      <td>11</td>\n",
       "      <td>300</td>\n",
       "    </tr>\n",
       "    <tr>\n",
       "      <th>0</th>\n",
       "      <td>0.663411</td>\n",
       "      <td>gcn</td>\n",
       "      <td>noisy_ce</td>\n",
       "      <td>attention</td>\n",
       "      <td>0.484639</td>\n",
       "      <td>5</td>\n",
       "      <td>300</td>\n",
       "    </tr>\n",
       "    <tr>\n",
       "      <th>11</th>\n",
       "      <td>0.660156</td>\n",
       "      <td>gcn-virtual</td>\n",
       "      <td>sce</td>\n",
       "      <td>mean</td>\n",
       "      <td>0.252603</td>\n",
       "      <td>10</td>\n",
       "      <td>300</td>\n",
       "    </tr>\n",
       "    <tr>\n",
       "      <th>23</th>\n",
       "      <td>0.658854</td>\n",
       "      <td>gcn-virtual</td>\n",
       "      <td>ncod</td>\n",
       "      <td>attention</td>\n",
       "      <td>0.364331</td>\n",
       "      <td>12</td>\n",
       "      <td>300</td>\n",
       "    </tr>\n",
       "    <tr>\n",
       "      <th>10</th>\n",
       "      <td>0.656250</td>\n",
       "      <td>gcn-virtual</td>\n",
       "      <td>ncod</td>\n",
       "      <td>set2set</td>\n",
       "      <td>0.235269</td>\n",
       "      <td>11</td>\n",
       "      <td>300</td>\n",
       "    </tr>\n",
       "    <tr>\n",
       "      <th>17</th>\n",
       "      <td>0.649740</td>\n",
       "      <td>gcn</td>\n",
       "      <td>noisy_ce</td>\n",
       "      <td>max</td>\n",
       "      <td>0.116932</td>\n",
       "      <td>6</td>\n",
       "      <td>300</td>\n",
       "    </tr>\n",
       "    <tr>\n",
       "      <th>8</th>\n",
       "      <td>0.649089</td>\n",
       "      <td>gin</td>\n",
       "      <td>ce</td>\n",
       "      <td>mean</td>\n",
       "      <td>0.555704</td>\n",
       "      <td>12</td>\n",
       "      <td>300</td>\n",
       "    </tr>\n",
       "    <tr>\n",
       "      <th>22</th>\n",
       "      <td>0.646484</td>\n",
       "      <td>gcn-virtual</td>\n",
       "      <td>noisy_ce</td>\n",
       "      <td>mean</td>\n",
       "      <td>0.302814</td>\n",
       "      <td>12</td>\n",
       "      <td>300</td>\n",
       "    </tr>\n",
       "    <tr>\n",
       "      <th>9</th>\n",
       "      <td>0.628255</td>\n",
       "      <td>gcn-virtual</td>\n",
       "      <td>sce</td>\n",
       "      <td>set2set</td>\n",
       "      <td>0.347697</td>\n",
       "      <td>10</td>\n",
       "      <td>300</td>\n",
       "    </tr>\n",
       "    <tr>\n",
       "      <th>7</th>\n",
       "      <td>0.619792</td>\n",
       "      <td>gin-virtual</td>\n",
       "      <td>ncod</td>\n",
       "      <td>sum</td>\n",
       "      <td>0.319214</td>\n",
       "      <td>7</td>\n",
       "      <td>64</td>\n",
       "    </tr>\n",
       "    <tr>\n",
       "      <th>1</th>\n",
       "      <td>0.595703</td>\n",
       "      <td>gcn</td>\n",
       "      <td>noisy_ce</td>\n",
       "      <td>attention</td>\n",
       "      <td>0.516110</td>\n",
       "      <td>5</td>\n",
       "      <td>300</td>\n",
       "    </tr>\n",
       "    <tr>\n",
       "      <th>3</th>\n",
       "      <td>0.408203</td>\n",
       "      <td>gcn</td>\n",
       "      <td>noisy_ce</td>\n",
       "      <td>attention</td>\n",
       "      <td>0.697883</td>\n",
       "      <td>4</td>\n",
       "      <td>64</td>\n",
       "    </tr>\n",
       "    <tr>\n",
       "      <th>2</th>\n",
       "      <td>-inf</td>\n",
       "      <td>gin-virtual</td>\n",
       "      <td>noisy_ce</td>\n",
       "      <td>mean</td>\n",
       "      <td>0.163561</td>\n",
       "      <td>9</td>\n",
       "      <td>600</td>\n",
       "    </tr>\n",
       "    <tr>\n",
       "      <th>6</th>\n",
       "      <td>-inf</td>\n",
       "      <td>gin</td>\n",
       "      <td>ncod</td>\n",
       "      <td>max</td>\n",
       "      <td>0.006932</td>\n",
       "      <td>8</td>\n",
       "      <td>600</td>\n",
       "    </tr>\n",
       "    <tr>\n",
       "      <th>13</th>\n",
       "      <td>-inf</td>\n",
       "      <td>gin-virtual</td>\n",
       "      <td>noisy_ce</td>\n",
       "      <td>max</td>\n",
       "      <td>0.392857</td>\n",
       "      <td>11</td>\n",
       "      <td>600</td>\n",
       "    </tr>\n",
       "    <tr>\n",
       "      <th>16</th>\n",
       "      <td>-inf</td>\n",
       "      <td>gcn-virtual</td>\n",
       "      <td>noisy_ce</td>\n",
       "      <td>sum</td>\n",
       "      <td>0.582235</td>\n",
       "      <td>12</td>\n",
       "      <td>600</td>\n",
       "    </tr>\n",
       "    <tr>\n",
       "      <th>15</th>\n",
       "      <td>-inf</td>\n",
       "      <td>gin-virtual</td>\n",
       "      <td>ncod</td>\n",
       "      <td>attention</td>\n",
       "      <td>0.370211</td>\n",
       "      <td>10</td>\n",
       "      <td>600</td>\n",
       "    </tr>\n",
       "    <tr>\n",
       "      <th>12</th>\n",
       "      <td>-inf</td>\n",
       "      <td>gin</td>\n",
       "      <td>noisy_ce</td>\n",
       "      <td>sum</td>\n",
       "      <td>0.051799</td>\n",
       "      <td>11</td>\n",
       "      <td>600</td>\n",
       "    </tr>\n",
       "    <tr>\n",
       "      <th>25</th>\n",
       "      <td>-inf</td>\n",
       "      <td>gcn-virtual</td>\n",
       "      <td>noisy_ce</td>\n",
       "      <td>max</td>\n",
       "      <td>0.331522</td>\n",
       "      <td>12</td>\n",
       "      <td>600</td>\n",
       "    </tr>\n",
       "  </tbody>\n",
       "</table>\n",
       "</div>"
      ],
      "text/plain": [
       "    accuracy     gnn_type loss_type graph_pooling   dropout  num_layers  \\\n",
       "18  0.712891  gcn-virtual       sce           max  0.226569          10   \n",
       "14  0.699219          gcn      ncod          mean  0.463611           4   \n",
       "4   0.694010  gcn-virtual      ncod       set2set  0.348624          11   \n",
       "21  0.692708  gcn-virtual  noisy_ce          mean  0.311626          12   \n",
       "20  0.688802  gcn-virtual  noisy_ce           sum  0.271676          11   \n",
       "5   0.679688  gcn-virtual       sce       set2set  0.333198          11   \n",
       "19  0.673828  gcn-virtual  noisy_ce           sum  0.267540          11   \n",
       "24  0.670573  gcn-virtual  noisy_ce          mean  0.316919          11   \n",
       "0   0.663411          gcn  noisy_ce     attention  0.484639           5   \n",
       "11  0.660156  gcn-virtual       sce          mean  0.252603          10   \n",
       "23  0.658854  gcn-virtual      ncod     attention  0.364331          12   \n",
       "10  0.656250  gcn-virtual      ncod       set2set  0.235269          11   \n",
       "17  0.649740          gcn  noisy_ce           max  0.116932           6   \n",
       "8   0.649089          gin        ce          mean  0.555704          12   \n",
       "22  0.646484  gcn-virtual  noisy_ce          mean  0.302814          12   \n",
       "9   0.628255  gcn-virtual       sce       set2set  0.347697          10   \n",
       "7   0.619792  gin-virtual      ncod           sum  0.319214           7   \n",
       "1   0.595703          gcn  noisy_ce     attention  0.516110           5   \n",
       "3   0.408203          gcn  noisy_ce     attention  0.697883           4   \n",
       "2       -inf  gin-virtual  noisy_ce          mean  0.163561           9   \n",
       "6       -inf          gin      ncod           max  0.006932           8   \n",
       "13      -inf  gin-virtual  noisy_ce           max  0.392857          11   \n",
       "16      -inf  gcn-virtual  noisy_ce           sum  0.582235          12   \n",
       "15      -inf  gin-virtual      ncod     attention  0.370211          10   \n",
       "12      -inf          gin  noisy_ce           sum  0.051799          11   \n",
       "25      -inf  gcn-virtual  noisy_ce           max  0.331522          12   \n",
       "\n",
       "    embedding_dim  \n",
       "18            300  \n",
       "14            300  \n",
       "4             300  \n",
       "21            300  \n",
       "20            300  \n",
       "5             300  \n",
       "19            300  \n",
       "24            300  \n",
       "0             300  \n",
       "11            300  \n",
       "23            300  \n",
       "10            300  \n",
       "17            300  \n",
       "8             300  \n",
       "22            300  \n",
       "9             300  \n",
       "7              64  \n",
       "1             300  \n",
       "3              64  \n",
       "2             600  \n",
       "6             600  \n",
       "13            600  \n",
       "16            600  \n",
       "15            600  \n",
       "12            600  \n",
       "25            600  "
      ]
     },
     "metadata": {},
     "output_type": "display_data"
    },
    {
     "name": "stdout",
     "output_type": "stream",
     "text": [
      "\n",
      "Best Params for C:\n",
      "  gnn_type: gcn-virtual\n",
      "  loss_type: sce\n",
      "  graph_pooling: max\n",
      "  dropout: 0.22656907931569426\n",
      "  num_layers: 10\n",
      "  embedding_dim: 300\n"
     ]
    }
   ],
   "source": [
    "case_study(\n",
    "    \"C\", n_trials=60, num_checkpoints=5, default_batch_size=64, score_type=\"accuracy\"\n",
    ")"
   ]
  },
  {
   "cell_type": "code",
   "execution_count": 16,
   "metadata": {},
   "outputs": [
    {
     "name": "stderr",
     "output_type": "stream",
     "text": [
      "[I 2025-05-30 09:39:39,024] A new study created in memory with name: D\n"
     ]
    },
    {
     "name": "stdout",
     "output_type": "stream",
     "text": [
      "Starting Optuna optimization for dataset D\n"
     ]
    },
    {
     "data": {
      "application/vnd.jupyter.widget-view+json": {
       "model_id": "2bb0920c13a64bb69c5c6ee3ff89fc04",
       "version_major": 2,
       "version_minor": 0
      },
      "text/plain": [
       "  0%|          | 0/60 [00:00<?, ?it/s]"
      ]
     },
     "metadata": {},
     "output_type": "display_data"
    },
    {
     "name": "stdout",
     "output_type": "stream",
     "text": [
      "gnn_type='gcn'\n",
      "loss_type='nosy_ce'\n",
      "graph_pooling='mean'\n",
      "drop_ratio=0.11138062922411074\n",
      "num_layers=12\n",
      "embedding_dim=64\n",
      "num_epochs=20\n"
     ]
    },
    {
     "data": {
      "application/vnd.jupyter.widget-view+json": {
       "model_id": "1f446c890a7840868f94b5f12d33aebd",
       "version_major": 2,
       "version_minor": 0
      },
      "text/plain": [
       "Training...:   0%|          | 0/20 [00:00<?, ?it/s]"
      ]
     },
     "metadata": {},
     "output_type": "display_data"
    },
    {
     "name": "stdout",
     "output_type": "stream",
     "text": [
      "[checkpoint] saved: /home/haislich/Documents/noisy_labels/hackaton/checkpoints/D/model_D_epoch_4.pth\n",
      "[checkpoint] saved: /home/haislich/Documents/noisy_labels/hackaton/checkpoints/D/model_D_epoch_8.pth\n",
      "[checkpoint] saved: /home/haislich/Documents/noisy_labels/hackaton/checkpoints/D/model_D_epoch_12.pth\n",
      "[checkpoint] saved: /home/haislich/Documents/noisy_labels/hackaton/checkpoints/D/model_D_epoch_16.pth\n",
      "[checkpoint] saved: /home/haislich/Documents/noisy_labels/hackaton/checkpoints/D/model_D_epoch_20.pth\n",
      "[I 2025-05-30 09:42:23,195] Trial 0 finished with value: 0.6410505836575876 and parameters: {'gnn_type': 'gcn-virtual', 'loss_type': 'ncod', 'graph_pooling': 'max', 'dropout': 0.11138062922411074, 'num_layers': 12, 'embedding_dim': 64}. Best is trial 0 with value: 0.6410505836575876.\n",
      "gnn_type='gcn'\n",
      "loss_type='nosy_ce'\n",
      "graph_pooling='mean'\n",
      "drop_ratio=0.07834589979741607\n",
      "num_layers=12\n",
      "embedding_dim=64\n",
      "num_epochs=20\n"
     ]
    },
    {
     "data": {
      "application/vnd.jupyter.widget-view+json": {
       "model_id": "8f5f3f7c7b7b44b6b9ad5faf6cc87e9e",
       "version_major": 2,
       "version_minor": 0
      },
      "text/plain": [
       "Training...:   0%|          | 0/20 [00:00<?, ?it/s]"
      ]
     },
     "metadata": {},
     "output_type": "display_data"
    },
    {
     "name": "stdout",
     "output_type": "stream",
     "text": [
      "[checkpoint] saved: /home/haislich/Documents/noisy_labels/hackaton/checkpoints/D/model_D_epoch_4.pth\n",
      "[checkpoint] saved: /home/haislich/Documents/noisy_labels/hackaton/checkpoints/D/model_D_epoch_8.pth\n",
      "[checkpoint] saved: /home/haislich/Documents/noisy_labels/hackaton/checkpoints/D/model_D_epoch_12.pth\n",
      "[checkpoint] saved: /home/haislich/Documents/noisy_labels/hackaton/checkpoints/D/model_D_epoch_16.pth\n",
      "[checkpoint] saved: /home/haislich/Documents/noisy_labels/hackaton/checkpoints/D/model_D_epoch_20.pth\n",
      "[I 2025-05-30 09:45:07,609] Trial 1 finished with value: 0.6541828793774319 and parameters: {'gnn_type': 'gcn-virtual', 'loss_type': 'ncod', 'graph_pooling': 'max', 'dropout': 0.07834589979741607, 'num_layers': 12, 'embedding_dim': 64}. Best is trial 1 with value: 0.6541828793774319.\n",
      "gnn_type='gcn'\n",
      "loss_type='nosy_ce'\n",
      "graph_pooling='mean'\n",
      "drop_ratio=0.6025102213148481\n",
      "num_layers=11\n",
      "embedding_dim=600\n",
      "num_epochs=20\n"
     ]
    },
    {
     "data": {
      "application/vnd.jupyter.widget-view+json": {
       "model_id": "acedaa5d25344746bb378349f13165d6",
       "version_major": 2,
       "version_minor": 0
      },
      "text/plain": [
       "Training...:   0%|          | 0/20 [00:00<?, ?it/s]"
      ]
     },
     "metadata": {},
     "output_type": "display_data"
    },
    {
     "name": "stdout",
     "output_type": "stream",
     "text": [
      "Unhandled exception  CUDA out of memory. Tried to allocate 662.00 MiB. GPU 0 has a total capacity of 11.60 GiB of which 359.25 MiB is free. Process 6163 has 39.59 MiB memory in use. Including non-PyTorch memory, this process has 10.83 GiB memory in use. Of the allocated memory 9.21 GiB is allocated by PyTorch, and 1.39 GiB is reserved by PyTorch but unallocated. If reserved but unallocated memory is large try setting PYTORCH_CUDA_ALLOC_CONF=expandable_segments:True to avoid fragmentation.  See documentation for Memory Management  (https://pytorch.org/docs/stable/notes/cuda.html#environment-variables)\n",
      "[I 2025-05-30 09:45:07,830] Trial 2 finished with value: -inf and parameters: {'gnn_type': 'gin-virtual', 'loss_type': 'ncod', 'graph_pooling': 'set2set', 'dropout': 0.6025102213148481, 'num_layers': 11, 'embedding_dim': 600}. Best is trial 1 with value: 0.6541828793774319.\n",
      "gnn_type='gcn'\n",
      "loss_type='nosy_ce'\n",
      "graph_pooling='mean'\n",
      "drop_ratio=0.04119724897445093\n",
      "num_layers=3\n",
      "embedding_dim=128\n",
      "num_epochs=20\n"
     ]
    },
    {
     "data": {
      "application/vnd.jupyter.widget-view+json": {
       "model_id": "8013da9255aa45cfb0a10b84ad6e5e14",
       "version_major": 2,
       "version_minor": 0
      },
      "text/plain": [
       "Training...:   0%|          | 0/20 [00:00<?, ?it/s]"
      ]
     },
     "metadata": {},
     "output_type": "display_data"
    },
    {
     "name": "stdout",
     "output_type": "stream",
     "text": [
      "[checkpoint] saved: /home/haislich/Documents/noisy_labels/hackaton/checkpoints/D/model_D_epoch_4.pth\n",
      "[checkpoint] saved: /home/haislich/Documents/noisy_labels/hackaton/checkpoints/D/model_D_epoch_8.pth\n",
      "[checkpoint] saved: /home/haislich/Documents/noisy_labels/hackaton/checkpoints/D/model_D_epoch_12.pth\n",
      "[checkpoint] saved: /home/haislich/Documents/noisy_labels/hackaton/checkpoints/D/model_D_epoch_16.pth\n",
      "[checkpoint] saved: /home/haislich/Documents/noisy_labels/hackaton/checkpoints/D/model_D_epoch_20.pth\n",
      "[I 2025-05-30 09:46:32,761] Trial 3 finished with value: 0.6016536964980544 and parameters: {'gnn_type': 'gin', 'loss_type': 'ncod', 'graph_pooling': 'mean', 'dropout': 0.04119724897445093, 'num_layers': 3, 'embedding_dim': 128}. Best is trial 1 with value: 0.6541828793774319.\n",
      "gnn_type='gcn'\n",
      "loss_type='nosy_ce'\n",
      "graph_pooling='mean'\n",
      "drop_ratio=0.2910270486315361\n",
      "num_layers=7\n",
      "embedding_dim=64\n",
      "num_epochs=20\n"
     ]
    },
    {
     "data": {
      "application/vnd.jupyter.widget-view+json": {
       "model_id": "c1435fe47d8b4d61bd23c65f9996717d",
       "version_major": 2,
       "version_minor": 0
      },
      "text/plain": [
       "Training...:   0%|          | 0/20 [00:00<?, ?it/s]"
      ]
     },
     "metadata": {},
     "output_type": "display_data"
    },
    {
     "name": "stdout",
     "output_type": "stream",
     "text": [
      "[checkpoint] saved: /home/haislich/Documents/noisy_labels/hackaton/checkpoints/D/model_D_epoch_4.pth\n",
      "[checkpoint] saved: /home/haislich/Documents/noisy_labels/hackaton/checkpoints/D/model_D_epoch_8.pth\n",
      "[checkpoint] saved: /home/haislich/Documents/noisy_labels/hackaton/checkpoints/D/model_D_epoch_12.pth\n",
      "[checkpoint] saved: /home/haislich/Documents/noisy_labels/hackaton/checkpoints/D/model_D_epoch_16.pth\n",
      "[checkpoint] saved: /home/haislich/Documents/noisy_labels/hackaton/checkpoints/D/model_D_epoch_20.pth\n",
      "[I 2025-05-30 09:48:16,214] Trial 4 finished with value: 0.6614785992217899 and parameters: {'gnn_type': 'gcn-virtual', 'loss_type': 'ce', 'graph_pooling': 'mean', 'dropout': 0.2910270486315361, 'num_layers': 7, 'embedding_dim': 64}. Best is trial 4 with value: 0.6614785992217899.\n",
      "gnn_type='gcn'\n",
      "loss_type='nosy_ce'\n",
      "graph_pooling='mean'\n",
      "drop_ratio=0.4224534321725753\n",
      "num_layers=6\n",
      "embedding_dim=300\n",
      "num_epochs=20\n"
     ]
    },
    {
     "data": {
      "application/vnd.jupyter.widget-view+json": {
       "model_id": "8d50e741c6134ec2952a2b25caa81be5",
       "version_major": 2,
       "version_minor": 0
      },
      "text/plain": [
       "Training...:   0%|          | 0/20 [00:00<?, ?it/s]"
      ]
     },
     "metadata": {},
     "output_type": "display_data"
    },
    {
     "name": "stdout",
     "output_type": "stream",
     "text": [
      "[checkpoint] saved: /home/haislich/Documents/noisy_labels/hackaton/checkpoints/D/model_D_epoch_4.pth\n",
      "[checkpoint] saved: /home/haislich/Documents/noisy_labels/hackaton/checkpoints/D/model_D_epoch_8.pth\n",
      "[checkpoint] saved: /home/haislich/Documents/noisy_labels/hackaton/checkpoints/D/model_D_epoch_12.pth\n",
      "[checkpoint] saved: /home/haislich/Documents/noisy_labels/hackaton/checkpoints/D/model_D_epoch_16.pth\n",
      "[I 2025-05-30 09:53:12,570] Trial 5 pruned. \n",
      "gnn_type='gcn'\n",
      "loss_type='nosy_ce'\n",
      "graph_pooling='mean'\n",
      "drop_ratio=0.34158066272439497\n",
      "num_layers=8\n",
      "embedding_dim=64\n",
      "num_epochs=20\n"
     ]
    },
    {
     "data": {
      "application/vnd.jupyter.widget-view+json": {
       "model_id": "2f03cbb01dd7415c870b0b0b5501e8e1",
       "version_major": 2,
       "version_minor": 0
      },
      "text/plain": [
       "Training...:   0%|          | 0/20 [00:00<?, ?it/s]"
      ]
     },
     "metadata": {},
     "output_type": "display_data"
    },
    {
     "name": "stdout",
     "output_type": "stream",
     "text": [
      "[checkpoint] saved: /home/haislich/Documents/noisy_labels/hackaton/checkpoints/D/model_D_epoch_4.pth\n",
      "[checkpoint] saved: /home/haislich/Documents/noisy_labels/hackaton/checkpoints/D/model_D_epoch_8.pth\n",
      "[checkpoint] saved: /home/haislich/Documents/noisy_labels/hackaton/checkpoints/D/model_D_epoch_12.pth\n",
      "[I 2025-05-30 09:54:27,649] Trial 6 pruned. \n",
      "gnn_type='gcn'\n",
      "loss_type='nosy_ce'\n",
      "graph_pooling='mean'\n",
      "drop_ratio=0.2984788502976987\n",
      "num_layers=7\n",
      "embedding_dim=600\n",
      "num_epochs=20\n"
     ]
    },
    {
     "data": {
      "application/vnd.jupyter.widget-view+json": {
       "model_id": "1dee0e86b29248e78a7ab79522114bd9",
       "version_major": 2,
       "version_minor": 0
      },
      "text/plain": [
       "Training...:   0%|          | 0/20 [00:00<?, ?it/s]"
      ]
     },
     "metadata": {},
     "output_type": "display_data"
    },
    {
     "name": "stdout",
     "output_type": "stream",
     "text": [
      "[checkpoint] saved: /home/haislich/Documents/noisy_labels/hackaton/checkpoints/D/model_D_epoch_4.pth\n",
      "[checkpoint] saved: /home/haislich/Documents/noisy_labels/hackaton/checkpoints/D/model_D_epoch_8.pth\n",
      "[checkpoint] saved: /home/haislich/Documents/noisy_labels/hackaton/checkpoints/D/model_D_epoch_12.pth\n",
      "[checkpoint] saved: /home/haislich/Documents/noisy_labels/hackaton/checkpoints/D/model_D_epoch_16.pth\n",
      "[checkpoint] saved: /home/haislich/Documents/noisy_labels/hackaton/checkpoints/D/model_D_epoch_20.pth\n",
      "[I 2025-05-30 10:07:12,030] Trial 7 finished with value: 0.683852140077821 and parameters: {'gnn_type': 'gcn', 'loss_type': 'ncod', 'graph_pooling': 'mean', 'dropout': 0.2984788502976987, 'num_layers': 7, 'embedding_dim': 600}. Best is trial 7 with value: 0.683852140077821.\n",
      "gnn_type='gcn'\n",
      "loss_type='nosy_ce'\n",
      "graph_pooling='mean'\n",
      "drop_ratio=0.6613612733521135\n",
      "num_layers=4\n",
      "embedding_dim=600\n",
      "num_epochs=20\n"
     ]
    },
    {
     "data": {
      "application/vnd.jupyter.widget-view+json": {
       "model_id": "2c2100b647284124ab044428e4e325a2",
       "version_major": 2,
       "version_minor": 0
      },
      "text/plain": [
       "Training...:   0%|          | 0/20 [00:00<?, ?it/s]"
      ]
     },
     "metadata": {},
     "output_type": "display_data"
    },
    {
     "name": "stdout",
     "output_type": "stream",
     "text": [
      "[checkpoint] saved: /home/haislich/Documents/noisy_labels/hackaton/checkpoints/D/model_D_epoch_4.pth\n",
      "[checkpoint] saved: /home/haislich/Documents/noisy_labels/hackaton/checkpoints/D/model_D_epoch_8.pth\n",
      "[checkpoint] saved: /home/haislich/Documents/noisy_labels/hackaton/checkpoints/D/model_D_epoch_12.pth\n",
      "[I 2025-05-30 10:11:31,295] Trial 8 pruned. \n",
      "gnn_type='gcn'\n",
      "loss_type='nosy_ce'\n",
      "graph_pooling='mean'\n",
      "drop_ratio=0.5076902988775909\n",
      "num_layers=9\n",
      "embedding_dim=600\n",
      "num_epochs=20\n"
     ]
    },
    {
     "data": {
      "application/vnd.jupyter.widget-view+json": {
       "model_id": "b76aca42516a46e9838e0070cda22c40",
       "version_major": 2,
       "version_minor": 0
      },
      "text/plain": [
       "Training...:   0%|          | 0/20 [00:00<?, ?it/s]"
      ]
     },
     "metadata": {},
     "output_type": "display_data"
    },
    {
     "name": "stdout",
     "output_type": "stream",
     "text": [
      "Unhandled exception  CUDA out of memory. Tried to allocate 714.00 MiB. GPU 0 has a total capacity of 11.60 GiB of which 328.38 MiB is free. Process 6163 has 39.59 MiB memory in use. Including non-PyTorch memory, this process has 10.81 GiB memory in use. Of the allocated memory 9.07 GiB is allocated by PyTorch, and 1.52 GiB is reserved by PyTorch but unallocated. If reserved but unallocated memory is large try setting PYTORCH_CUDA_ALLOC_CONF=expandable_segments:True to avoid fragmentation.  See documentation for Memory Management  (https://pytorch.org/docs/stable/notes/cuda.html#environment-variables)\n",
      "[I 2025-05-30 10:11:33,187] Trial 9 finished with value: -inf and parameters: {'gnn_type': 'gcn', 'loss_type': 'ncod', 'graph_pooling': 'attention', 'dropout': 0.5076902988775909, 'num_layers': 9, 'embedding_dim': 600}. Best is trial 7 with value: 0.683852140077821.\n",
      "gnn_type='gcn'\n",
      "loss_type='nosy_ce'\n",
      "graph_pooling='mean'\n",
      "drop_ratio=0.22943333377123068\n",
      "num_layers=5\n",
      "embedding_dim=128\n",
      "num_epochs=20\n"
     ]
    },
    {
     "data": {
      "application/vnd.jupyter.widget-view+json": {
       "model_id": "067a6760acc04e5f88423d0866510bef",
       "version_major": 2,
       "version_minor": 0
      },
      "text/plain": [
       "Training...:   0%|          | 0/20 [00:00<?, ?it/s]"
      ]
     },
     "metadata": {},
     "output_type": "display_data"
    },
    {
     "name": "stdout",
     "output_type": "stream",
     "text": [
      "[checkpoint] saved: /home/haislich/Documents/noisy_labels/hackaton/checkpoints/D/model_D_epoch_4.pth\n",
      "[checkpoint] saved: /home/haislich/Documents/noisy_labels/hackaton/checkpoints/D/model_D_epoch_8.pth\n",
      "[checkpoint] saved: /home/haislich/Documents/noisy_labels/hackaton/checkpoints/D/model_D_epoch_12.pth\n",
      "[I 2025-05-30 10:12:48,029] Trial 10 pruned. \n",
      "gnn_type='gcn'\n",
      "loss_type='nosy_ce'\n",
      "graph_pooling='mean'\n",
      "drop_ratio=0.2547584026392064\n",
      "num_layers=7\n",
      "embedding_dim=300\n",
      "num_epochs=20\n"
     ]
    },
    {
     "data": {
      "application/vnd.jupyter.widget-view+json": {
       "model_id": "8501c8673cfd474cb549333609af6fb8",
       "version_major": 2,
       "version_minor": 0
      },
      "text/plain": [
       "Training...:   0%|          | 0/20 [00:00<?, ?it/s]"
      ]
     },
     "metadata": {},
     "output_type": "display_data"
    },
    {
     "name": "stdout",
     "output_type": "stream",
     "text": [
      "[checkpoint] saved: /home/haislich/Documents/noisy_labels/hackaton/checkpoints/D/model_D_epoch_4.pth\n",
      "[checkpoint] saved: /home/haislich/Documents/noisy_labels/hackaton/checkpoints/D/model_D_epoch_8.pth\n",
      "[checkpoint] saved: /home/haislich/Documents/noisy_labels/hackaton/checkpoints/D/model_D_epoch_12.pth\n",
      "[I 2025-05-30 10:16:32,002] Trial 11 pruned. \n",
      "gnn_type='gcn'\n",
      "loss_type='nosy_ce'\n",
      "graph_pooling='mean'\n",
      "drop_ratio=0.22828744301715656\n",
      "num_layers=9\n",
      "embedding_dim=64\n",
      "num_epochs=20\n"
     ]
    },
    {
     "data": {
      "application/vnd.jupyter.widget-view+json": {
       "model_id": "7d62b1a89866419a9bb1e72e86a48456",
       "version_major": 2,
       "version_minor": 0
      },
      "text/plain": [
       "Training...:   0%|          | 0/20 [00:00<?, ?it/s]"
      ]
     },
     "metadata": {},
     "output_type": "display_data"
    },
    {
     "name": "stdout",
     "output_type": "stream",
     "text": [
      "[checkpoint] saved: /home/haislich/Documents/noisy_labels/hackaton/checkpoints/D/model_D_epoch_4.pth\n",
      "[checkpoint] saved: /home/haislich/Documents/noisy_labels/hackaton/checkpoints/D/model_D_epoch_8.pth\n",
      "[checkpoint] saved: /home/haislich/Documents/noisy_labels/hackaton/checkpoints/D/model_D_epoch_12.pth\n",
      "[checkpoint] saved: /home/haislich/Documents/noisy_labels/hackaton/checkpoints/D/model_D_epoch_16.pth\n",
      "[checkpoint] saved: /home/haislich/Documents/noisy_labels/hackaton/checkpoints/D/model_D_epoch_20.pth\n",
      "[I 2025-05-30 10:18:40,206] Trial 12 finished with value: 0.6726653696498055 and parameters: {'gnn_type': 'gcn-virtual', 'loss_type': 'noisy_ce', 'graph_pooling': 'mean', 'dropout': 0.22828744301715656, 'num_layers': 9, 'embedding_dim': 64}. Best is trial 7 with value: 0.683852140077821.\n",
      "gnn_type='gcn'\n",
      "loss_type='nosy_ce'\n",
      "graph_pooling='mean'\n",
      "drop_ratio=0.1719662761445226\n",
      "num_layers=9\n",
      "embedding_dim=600\n",
      "num_epochs=20\n"
     ]
    },
    {
     "data": {
      "application/vnd.jupyter.widget-view+json": {
       "model_id": "20a38a9a6f064145b1cd383d06fe6bf7",
       "version_major": 2,
       "version_minor": 0
      },
      "text/plain": [
       "Training...:   0%|          | 0/20 [00:00<?, ?it/s]"
      ]
     },
     "metadata": {},
     "output_type": "display_data"
    },
    {
     "name": "stdout",
     "output_type": "stream",
     "text": [
      "Unhandled exception  CUDA out of memory. Tried to allocate 700.00 MiB. GPU 0 has a total capacity of 11.60 GiB of which 107.88 MiB is free. Process 6163 has 39.59 MiB memory in use. Including non-PyTorch memory, this process has 10.81 GiB memory in use. Process 58091 has 135.59 MiB memory in use. Of the allocated memory 8.85 GiB is allocated by PyTorch, and 1.74 GiB is reserved by PyTorch but unallocated. If reserved but unallocated memory is large try setting PYTORCH_CUDA_ALLOC_CONF=expandable_segments:True to avoid fragmentation.  See documentation for Memory Management  (https://pytorch.org/docs/stable/notes/cuda.html#environment-variables)\n",
      "[I 2025-05-30 10:18:43,024] Trial 13 finished with value: -inf and parameters: {'gnn_type': 'gcn', 'loss_type': 'noisy_ce', 'graph_pooling': 'attention', 'dropout': 0.1719662761445226, 'num_layers': 9, 'embedding_dim': 600}. Best is trial 7 with value: 0.683852140077821.\n",
      "gnn_type='gcn'\n",
      "loss_type='nosy_ce'\n",
      "graph_pooling='mean'\n",
      "drop_ratio=0.4127733926094991\n",
      "num_layers=10\n",
      "embedding_dim=64\n",
      "num_epochs=20\n"
     ]
    },
    {
     "data": {
      "application/vnd.jupyter.widget-view+json": {
       "model_id": "f9ded3be9a264722a51bd7b5a54badf7",
       "version_major": 2,
       "version_minor": 0
      },
      "text/plain": [
       "Training...:   0%|          | 0/20 [00:00<?, ?it/s]"
      ]
     },
     "metadata": {},
     "output_type": "display_data"
    },
    {
     "name": "stdout",
     "output_type": "stream",
     "text": [
      "[checkpoint] saved: /home/haislich/Documents/noisy_labels/hackaton/checkpoints/D/model_D_epoch_4.pth\n",
      "[checkpoint] saved: /home/haislich/Documents/noisy_labels/hackaton/checkpoints/D/model_D_epoch_8.pth\n",
      "[I 2025-05-30 10:19:59,124] Trial 14 pruned. \n",
      "gnn_type='gcn'\n",
      "loss_type='nosy_ce'\n",
      "graph_pooling='mean'\n",
      "drop_ratio=0.18430721194648397\n",
      "num_layers=8\n",
      "embedding_dim=600\n",
      "num_epochs=20\n"
     ]
    },
    {
     "data": {
      "application/vnd.jupyter.widget-view+json": {
       "model_id": "1b5719c855fb4cd88ff849e9fbd93983",
       "version_major": 2,
       "version_minor": 0
      },
      "text/plain": [
       "Training...:   0%|          | 0/20 [00:00<?, ?it/s]"
      ]
     },
     "metadata": {},
     "output_type": "display_data"
    },
    {
     "name": "stdout",
     "output_type": "stream",
     "text": [
      "Unhandled exception  CUDA out of memory. Tried to allocate 760.00 MiB. GPU 0 has a total capacity of 11.60 GiB of which 88.69 MiB is free. Process 6163 has 39.59 MiB memory in use. Including non-PyTorch memory, this process has 10.81 GiB memory in use. Process 58091 has 135.59 MiB memory in use. Of the allocated memory 8.69 GiB is allocated by PyTorch, and 1.90 GiB is reserved by PyTorch but unallocated. If reserved but unallocated memory is large try setting PYTORCH_CUDA_ALLOC_CONF=expandable_segments:True to avoid fragmentation.  See documentation for Memory Management  (https://pytorch.org/docs/stable/notes/cuda.html#environment-variables)\n",
      "[I 2025-05-30 10:20:25,760] Trial 15 finished with value: -inf and parameters: {'gnn_type': 'gcn', 'loss_type': 'noisy_ce', 'graph_pooling': 'sum', 'dropout': 0.18430721194648397, 'num_layers': 8, 'embedding_dim': 600}. Best is trial 7 with value: 0.683852140077821.\n",
      "gnn_type='gcn'\n",
      "loss_type='nosy_ce'\n",
      "graph_pooling='mean'\n",
      "drop_ratio=0.3880577665874411\n",
      "num_layers=6\n",
      "embedding_dim=128\n",
      "num_epochs=20\n"
     ]
    },
    {
     "data": {
      "application/vnd.jupyter.widget-view+json": {
       "model_id": "8cef9d0790984ee29636b5b30432527e",
       "version_major": 2,
       "version_minor": 0
      },
      "text/plain": [
       "Training...:   0%|          | 0/20 [00:00<?, ?it/s]"
      ]
     },
     "metadata": {},
     "output_type": "display_data"
    },
    {
     "name": "stdout",
     "output_type": "stream",
     "text": [
      "[checkpoint] saved: /home/haislich/Documents/noisy_labels/hackaton/checkpoints/D/model_D_epoch_4.pth\n",
      "[checkpoint] saved: /home/haislich/Documents/noisy_labels/hackaton/checkpoints/D/model_D_epoch_8.pth\n",
      "[checkpoint] saved: /home/haislich/Documents/noisy_labels/hackaton/checkpoints/D/model_D_epoch_12.pth\n",
      "[checkpoint] saved: /home/haislich/Documents/noisy_labels/hackaton/checkpoints/D/model_D_epoch_16.pth\n",
      "[I 2025-05-30 10:22:26,603] Trial 16 pruned. \n",
      "gnn_type='gcn'\n",
      "loss_type='nosy_ce'\n",
      "graph_pooling='mean'\n",
      "drop_ratio=0.49942152286100716\n",
      "num_layers=10\n",
      "embedding_dim=300\n",
      "num_epochs=20\n"
     ]
    },
    {
     "data": {
      "application/vnd.jupyter.widget-view+json": {
       "model_id": "85b8d3288d7d4504a48f8af09fcc5b08",
       "version_major": 2,
       "version_minor": 0
      },
      "text/plain": [
       "Training...:   0%|          | 0/20 [00:00<?, ?it/s]"
      ]
     },
     "metadata": {},
     "output_type": "display_data"
    },
    {
     "name": "stdout",
     "output_type": "stream",
     "text": [
      "[checkpoint] saved: /home/haislich/Documents/noisy_labels/hackaton/checkpoints/D/model_D_epoch_4.pth\n",
      "[checkpoint] saved: /home/haislich/Documents/noisy_labels/hackaton/checkpoints/D/model_D_epoch_8.pth\n",
      "[checkpoint] saved: /home/haislich/Documents/noisy_labels/hackaton/checkpoints/D/model_D_epoch_12.pth\n",
      "[checkpoint] saved: /home/haislich/Documents/noisy_labels/hackaton/checkpoints/D/model_D_epoch_16.pth\n",
      "[checkpoint] saved: /home/haislich/Documents/noisy_labels/hackaton/checkpoints/D/model_D_epoch_20.pth\n",
      "[I 2025-05-30 10:31:12,419] Trial 17 finished with value: 0.6896887159533074 and parameters: {'gnn_type': 'gin-virtual', 'loss_type': 'noisy_ce', 'graph_pooling': 'mean', 'dropout': 0.49942152286100716, 'num_layers': 10, 'embedding_dim': 300}. Best is trial 17 with value: 0.6896887159533074.\n",
      "gnn_type='gcn'\n",
      "loss_type='nosy_ce'\n",
      "graph_pooling='mean'\n",
      "drop_ratio=0.5164779746293093\n",
      "num_layers=10\n",
      "embedding_dim=300\n",
      "num_epochs=20\n"
     ]
    },
    {
     "data": {
      "application/vnd.jupyter.widget-view+json": {
       "model_id": "db07875aeafe490daf16dad7954b58c4",
       "version_major": 2,
       "version_minor": 0
      },
      "text/plain": [
       "Training...:   0%|          | 0/20 [00:00<?, ?it/s]"
      ]
     },
     "metadata": {},
     "output_type": "display_data"
    },
    {
     "name": "stdout",
     "output_type": "stream",
     "text": [
      "[checkpoint] saved: /home/haislich/Documents/noisy_labels/hackaton/checkpoints/D/model_D_epoch_4.pth\n",
      "[checkpoint] saved: /home/haislich/Documents/noisy_labels/hackaton/checkpoints/D/model_D_epoch_8.pth\n",
      "[checkpoint] saved: /home/haislich/Documents/noisy_labels/hackaton/checkpoints/D/model_D_epoch_12.pth\n",
      "[I 2025-05-30 10:36:54,949] Trial 18 pruned. \n",
      "gnn_type='gcn'\n",
      "loss_type='nosy_ce'\n",
      "graph_pooling='mean'\n",
      "drop_ratio=0.5192155641406881\n",
      "num_layers=10\n",
      "embedding_dim=300\n",
      "num_epochs=20\n"
     ]
    },
    {
     "data": {
      "application/vnd.jupyter.widget-view+json": {
       "model_id": "7648dd3a3b0f4be5b39d9d9e92c18b61",
       "version_major": 2,
       "version_minor": 0
      },
      "text/plain": [
       "Training...:   0%|          | 0/20 [00:00<?, ?it/s]"
      ]
     },
     "metadata": {},
     "output_type": "display_data"
    },
    {
     "name": "stdout",
     "output_type": "stream",
     "text": [
      "[checkpoint] saved: /home/haislich/Documents/noisy_labels/hackaton/checkpoints/D/model_D_epoch_4.pth\n",
      "[checkpoint] saved: /home/haislich/Documents/noisy_labels/hackaton/checkpoints/D/model_D_epoch_8.pth\n",
      "[checkpoint] saved: /home/haislich/Documents/noisy_labels/hackaton/checkpoints/D/model_D_epoch_12.pth\n",
      "[checkpoint] saved: /home/haislich/Documents/noisy_labels/hackaton/checkpoints/D/model_D_epoch_16.pth\n",
      "[checkpoint] saved: /home/haislich/Documents/noisy_labels/hackaton/checkpoints/D/model_D_epoch_20.pth\n",
      "[I 2025-05-30 10:45:39,450] Trial 19 finished with value: 0.6857976653696498 and parameters: {'gnn_type': 'gin-virtual', 'loss_type': 'ncod', 'graph_pooling': 'attention', 'dropout': 0.5192155641406881, 'num_layers': 10, 'embedding_dim': 300}. Best is trial 17 with value: 0.6896887159533074.\n",
      "gnn_type='gcn'\n",
      "loss_type='nosy_ce'\n",
      "graph_pooling='mean'\n",
      "drop_ratio=0.513132964811562\n",
      "num_layers=11\n",
      "embedding_dim=300\n",
      "num_epochs=20\n"
     ]
    },
    {
     "data": {
      "application/vnd.jupyter.widget-view+json": {
       "model_id": "97bfb6ed11c84d69b2dc9b4308a078aa",
       "version_major": 2,
       "version_minor": 0
      },
      "text/plain": [
       "Training...:   0%|          | 0/20 [00:00<?, ?it/s]"
      ]
     },
     "metadata": {},
     "output_type": "display_data"
    },
    {
     "name": "stdout",
     "output_type": "stream",
     "text": [
      "[checkpoint] saved: /home/haislich/Documents/noisy_labels/hackaton/checkpoints/D/model_D_epoch_4.pth\n",
      "[checkpoint] saved: /home/haislich/Documents/noisy_labels/hackaton/checkpoints/D/model_D_epoch_8.pth\n",
      "[checkpoint] saved: /home/haislich/Documents/noisy_labels/hackaton/checkpoints/D/model_D_epoch_12.pth\n",
      "[checkpoint] saved: /home/haislich/Documents/noisy_labels/hackaton/checkpoints/D/model_D_epoch_16.pth\n",
      "[checkpoint] saved: /home/haislich/Documents/noisy_labels/hackaton/checkpoints/D/model_D_epoch_20.pth\n",
      "[I 2025-05-30 10:55:14,504] Trial 20 finished with value: 0.6765564202334631 and parameters: {'gnn_type': 'gin-virtual', 'loss_type': 'ncod', 'graph_pooling': 'sum', 'dropout': 0.513132964811562, 'num_layers': 11, 'embedding_dim': 300}. Best is trial 17 with value: 0.6896887159533074.\n",
      "gnn_type='gcn'\n",
      "loss_type='nosy_ce'\n",
      "graph_pooling='mean'\n",
      "drop_ratio=0.5854897046634718\n",
      "num_layers=10\n",
      "embedding_dim=300\n",
      "num_epochs=20\n"
     ]
    },
    {
     "data": {
      "application/vnd.jupyter.widget-view+json": {
       "model_id": "a0a81b73022b434cbe3d4a6841adfb4c",
       "version_major": 2,
       "version_minor": 0
      },
      "text/plain": [
       "Training...:   0%|          | 0/20 [00:00<?, ?it/s]"
      ]
     },
     "metadata": {},
     "output_type": "display_data"
    },
    {
     "name": "stdout",
     "output_type": "stream",
     "text": [
      "[checkpoint] saved: /home/haislich/Documents/noisy_labels/hackaton/checkpoints/D/model_D_epoch_4.pth\n",
      "[checkpoint] saved: /home/haislich/Documents/noisy_labels/hackaton/checkpoints/D/model_D_epoch_8.pth\n",
      "[checkpoint] saved: /home/haislich/Documents/noisy_labels/hackaton/checkpoints/D/model_D_epoch_12.pth\n",
      "[I 2025-05-30 11:01:50,426] Trial 21 pruned. \n",
      "gnn_type='gcn'\n",
      "loss_type='nosy_ce'\n",
      "graph_pooling='mean'\n",
      "drop_ratio=0.4756787350551153\n",
      "num_layers=11\n",
      "embedding_dim=300\n",
      "num_epochs=20\n"
     ]
    },
    {
     "data": {
      "application/vnd.jupyter.widget-view+json": {
       "model_id": "f3bf4417b1904e4285f5256d02d4614f",
       "version_major": 2,
       "version_minor": 0
      },
      "text/plain": [
       "Training...:   0%|          | 0/20 [00:00<?, ?it/s]"
      ]
     },
     "metadata": {},
     "output_type": "display_data"
    },
    {
     "name": "stdout",
     "output_type": "stream",
     "text": [
      "[checkpoint] saved: /home/haislich/Documents/noisy_labels/hackaton/checkpoints/D/model_D_epoch_4.pth\n",
      "[checkpoint] saved: /home/haislich/Documents/noisy_labels/hackaton/checkpoints/D/model_D_epoch_8.pth\n",
      "[checkpoint] saved: /home/haislich/Documents/noisy_labels/hackaton/checkpoints/D/model_D_epoch_12.pth\n",
      "[I 2025-05-30 11:09:11,412] Trial 22 pruned. \n",
      "gnn_type='gcn'\n",
      "loss_type='nosy_ce'\n",
      "graph_pooling='mean'\n",
      "drop_ratio=0.3171575469760688\n",
      "num_layers=8\n",
      "embedding_dim=300\n",
      "num_epochs=20\n"
     ]
    },
    {
     "data": {
      "application/vnd.jupyter.widget-view+json": {
       "model_id": "3cb2f0ecc24542c18fb78e2f7c310a26",
       "version_major": 2,
       "version_minor": 0
      },
      "text/plain": [
       "Training...:   0%|          | 0/20 [00:00<?, ?it/s]"
      ]
     },
     "metadata": {},
     "output_type": "display_data"
    },
    {
     "name": "stdout",
     "output_type": "stream",
     "text": [
      "[checkpoint] saved: /home/haislich/Documents/noisy_labels/hackaton/checkpoints/D/model_D_epoch_4.pth\n",
      "[checkpoint] saved: /home/haislich/Documents/noisy_labels/hackaton/checkpoints/D/model_D_epoch_8.pth\n",
      "[I 2025-05-30 11:13:07,044] Trial 23 pruned. \n",
      "gnn_type='gcn'\n",
      "loss_type='nosy_ce'\n",
      "graph_pooling='mean'\n",
      "drop_ratio=0.6850418246328283\n",
      "num_layers=6\n",
      "embedding_dim=300\n",
      "num_epochs=20\n"
     ]
    },
    {
     "data": {
      "application/vnd.jupyter.widget-view+json": {
       "model_id": "62d58cc8396d4b01a23887934756f71b",
       "version_major": 2,
       "version_minor": 0
      },
      "text/plain": [
       "Training...:   0%|          | 0/20 [00:00<?, ?it/s]"
      ]
     },
     "metadata": {},
     "output_type": "display_data"
    },
    {
     "name": "stdout",
     "output_type": "stream",
     "text": [
      "[checkpoint] saved: /home/haislich/Documents/noisy_labels/hackaton/checkpoints/D/model_D_epoch_4.pth\n",
      "[checkpoint] saved: /home/haislich/Documents/noisy_labels/hackaton/checkpoints/D/model_D_epoch_8.pth\n",
      "[I 2025-05-30 11:16:07,055] Trial 24 pruned. \n",
      "gnn_type='gcn'\n",
      "loss_type='nosy_ce'\n",
      "graph_pooling='mean'\n",
      "drop_ratio=0.5722179461414418\n",
      "num_layers=9\n",
      "embedding_dim=600\n",
      "num_epochs=20\n"
     ]
    },
    {
     "data": {
      "application/vnd.jupyter.widget-view+json": {
       "model_id": "6966eb06627240ff9ffaa383166db4a8",
       "version_major": 2,
       "version_minor": 0
      },
      "text/plain": [
       "Training...:   0%|          | 0/20 [00:00<?, ?it/s]"
      ]
     },
     "metadata": {},
     "output_type": "display_data"
    },
    {
     "name": "stdout",
     "output_type": "stream",
     "text": [
      "Unhandled exception  CUDA out of memory. Tried to allocate 716.00 MiB. GPU 0 has a total capacity of 11.60 GiB of which 227.75 MiB is free. Process 6163 has 39.59 MiB memory in use. Including non-PyTorch memory, this process has 10.81 GiB memory in use. Process 58091 has 135.59 MiB memory in use. Of the allocated memory 9.16 GiB is allocated by PyTorch, and 1.43 GiB is reserved by PyTorch but unallocated. If reserved but unallocated memory is large try setting PYTORCH_CUDA_ALLOC_CONF=expandable_segments:True to avoid fragmentation.  See documentation for Memory Management  (https://pytorch.org/docs/stable/notes/cuda.html#environment-variables)\n",
      "[I 2025-05-30 11:16:09,266] Trial 25 finished with value: -inf and parameters: {'gnn_type': 'gcn', 'loss_type': 'ncod', 'graph_pooling': 'attention', 'dropout': 0.5722179461414418, 'num_layers': 9, 'embedding_dim': 600}. Best is trial 17 with value: 0.6896887159533074.\n",
      "gnn_type='gcn'\n",
      "loss_type='nosy_ce'\n",
      "graph_pooling='mean'\n",
      "drop_ratio=0.46142136274610196\n",
      "num_layers=7\n",
      "embedding_dim=300\n",
      "num_epochs=20\n"
     ]
    },
    {
     "data": {
      "application/vnd.jupyter.widget-view+json": {
       "model_id": "cd00d5e01f25443888ab38bd778a9b27",
       "version_major": 2,
       "version_minor": 0
      },
      "text/plain": [
       "Training...:   0%|          | 0/20 [00:00<?, ?it/s]"
      ]
     },
     "metadata": {},
     "output_type": "display_data"
    },
    {
     "name": "stdout",
     "output_type": "stream",
     "text": [
      "[checkpoint] saved: /home/haislich/Documents/noisy_labels/hackaton/checkpoints/D/model_D_epoch_4.pth\n",
      "[checkpoint] saved: /home/haislich/Documents/noisy_labels/hackaton/checkpoints/D/model_D_epoch_8.pth\n",
      "[I 2025-05-30 11:19:39,095] Trial 26 pruned. \n",
      "gnn_type='gcn'\n",
      "loss_type='nosy_ce'\n",
      "graph_pooling='mean'\n",
      "drop_ratio=0.37404836126149016\n",
      "num_layers=10\n",
      "embedding_dim=300\n",
      "num_epochs=20\n"
     ]
    },
    {
     "data": {
      "application/vnd.jupyter.widget-view+json": {
       "model_id": "9ae82774710942e78619035373bd7198",
       "version_major": 2,
       "version_minor": 0
      },
      "text/plain": [
       "Training...:   0%|          | 0/20 [00:00<?, ?it/s]"
      ]
     },
     "metadata": {},
     "output_type": "display_data"
    },
    {
     "name": "stdout",
     "output_type": "stream",
     "text": [
      "[checkpoint] saved: /home/haislich/Documents/noisy_labels/hackaton/checkpoints/D/model_D_epoch_4.pth\n",
      "[checkpoint] saved: /home/haislich/Documents/noisy_labels/hackaton/checkpoints/D/model_D_epoch_8.pth\n",
      "[I 2025-05-30 11:24:28,583] Trial 27 pruned. \n",
      "gnn_type='gcn'\n",
      "loss_type='nosy_ce'\n",
      "graph_pooling='mean'\n",
      "drop_ratio=0.6272172978951216\n",
      "num_layers=5\n",
      "embedding_dim=600\n",
      "num_epochs=20\n"
     ]
    },
    {
     "data": {
      "application/vnd.jupyter.widget-view+json": {
       "model_id": "69b90723b5c9462e83c3788637448962",
       "version_major": 2,
       "version_minor": 0
      },
      "text/plain": [
       "Training...:   0%|          | 0/20 [00:00<?, ?it/s]"
      ]
     },
     "metadata": {},
     "output_type": "display_data"
    },
    {
     "name": "stdout",
     "output_type": "stream",
     "text": [
      "[checkpoint] saved: /home/haislich/Documents/noisy_labels/hackaton/checkpoints/D/model_D_epoch_4.pth\n",
      "[checkpoint] saved: /home/haislich/Documents/noisy_labels/hackaton/checkpoints/D/model_D_epoch_8.pth\n",
      "[checkpoint] saved: /home/haislich/Documents/noisy_labels/hackaton/checkpoints/D/model_D_epoch_12.pth\n",
      "[checkpoint] saved: /home/haislich/Documents/noisy_labels/hackaton/checkpoints/D/model_D_epoch_16.pth\n",
      "[checkpoint] saved: /home/haislich/Documents/noisy_labels/hackaton/checkpoints/D/model_D_epoch_20.pth\n",
      "[I 2025-05-30 11:33:32,154] Trial 28 finished with value: 0.6648832684824902 and parameters: {'gnn_type': 'gcn', 'loss_type': 'noisy_ce', 'graph_pooling': 'attention', 'dropout': 0.6272172978951216, 'num_layers': 5, 'embedding_dim': 600}. Best is trial 17 with value: 0.6896887159533074.\n",
      "gnn_type='gcn'\n",
      "loss_type='nosy_ce'\n",
      "graph_pooling='mean'\n",
      "drop_ratio=0.5483965593235816\n",
      "num_layers=12\n",
      "embedding_dim=128\n",
      "num_epochs=20\n"
     ]
    },
    {
     "data": {
      "application/vnd.jupyter.widget-view+json": {
       "model_id": "dad8935ae05240bcb3a259337141916d",
       "version_major": 2,
       "version_minor": 0
      },
      "text/plain": [
       "Training...:   0%|          | 0/20 [00:00<?, ?it/s]"
      ]
     },
     "metadata": {},
     "output_type": "display_data"
    },
    {
     "name": "stdout",
     "output_type": "stream",
     "text": [
      "[checkpoint] saved: /home/haislich/Documents/noisy_labels/hackaton/checkpoints/D/model_D_epoch_4.pth\n",
      "[checkpoint] saved: /home/haislich/Documents/noisy_labels/hackaton/checkpoints/D/model_D_epoch_8.pth\n",
      "[I 2025-05-30 11:36:06,288] Trial 29 pruned. \n",
      "gnn_type='gcn'\n",
      "loss_type='nosy_ce'\n",
      "graph_pooling='mean'\n",
      "drop_ratio=0.4683677475326274\n",
      "num_layers=11\n",
      "embedding_dim=300\n",
      "num_epochs=20\n"
     ]
    },
    {
     "data": {
      "application/vnd.jupyter.widget-view+json": {
       "model_id": "fd561249923a456d94a5a9f42de3e8c2",
       "version_major": 2,
       "version_minor": 0
      },
      "text/plain": [
       "Training...:   0%|          | 0/20 [00:00<?, ?it/s]"
      ]
     },
     "metadata": {},
     "output_type": "display_data"
    },
    {
     "name": "stdout",
     "output_type": "stream",
     "text": [
      "[checkpoint] saved: /home/haislich/Documents/noisy_labels/hackaton/checkpoints/D/model_D_epoch_4.pth\n",
      "[checkpoint] saved: /home/haislich/Documents/noisy_labels/hackaton/checkpoints/D/model_D_epoch_8.pth\n",
      "[I 2025-05-30 11:41:24,139] Trial 30 pruned. \n",
      "gnn_type='gcn'\n",
      "loss_type='nosy_ce'\n",
      "graph_pooling='mean'\n",
      "drop_ratio=0.5355179558964198\n",
      "num_layers=11\n",
      "embedding_dim=300\n",
      "num_epochs=20\n"
     ]
    },
    {
     "data": {
      "application/vnd.jupyter.widget-view+json": {
       "model_id": "4058d19e4c9d4d669e9c3eb7d5063543",
       "version_major": 2,
       "version_minor": 0
      },
      "text/plain": [
       "Training...:   0%|          | 0/20 [00:00<?, ?it/s]"
      ]
     },
     "metadata": {},
     "output_type": "display_data"
    },
    {
     "name": "stdout",
     "output_type": "stream",
     "text": [
      "[checkpoint] saved: /home/haislich/Documents/noisy_labels/hackaton/checkpoints/D/model_D_epoch_4.pth\n",
      "[checkpoint] saved: /home/haislich/Documents/noisy_labels/hackaton/checkpoints/D/model_D_epoch_8.pth\n",
      "[I 2025-05-30 11:46:41,897] Trial 31 pruned. \n",
      "gnn_type='gcn'\n",
      "loss_type='nosy_ce'\n",
      "graph_pooling='mean'\n",
      "drop_ratio=0.4426406060430542\n",
      "num_layers=12\n",
      "embedding_dim=300\n",
      "num_epochs=20\n"
     ]
    },
    {
     "data": {
      "application/vnd.jupyter.widget-view+json": {
       "model_id": "cd514cb8dcc548bab57d93719534f005",
       "version_major": 2,
       "version_minor": 0
      },
      "text/plain": [
       "Training...:   0%|          | 0/20 [00:00<?, ?it/s]"
      ]
     },
     "metadata": {},
     "output_type": "display_data"
    },
    {
     "name": "stdout",
     "output_type": "stream",
     "text": [
      "[checkpoint] saved: /home/haislich/Documents/noisy_labels/hackaton/checkpoints/D/model_D_epoch_4.pth\n",
      "[checkpoint] saved: /home/haislich/Documents/noisy_labels/hackaton/checkpoints/D/model_D_epoch_8.pth\n",
      "[checkpoint] saved: /home/haislich/Documents/noisy_labels/hackaton/checkpoints/D/model_D_epoch_12.pth\n",
      "[I 2025-05-30 11:54:32,023] Trial 32 pruned. \n",
      "gnn_type='gcn'\n",
      "loss_type='nosy_ce'\n",
      "graph_pooling='mean'\n",
      "drop_ratio=0.6335005246174171\n",
      "num_layers=11\n",
      "embedding_dim=300\n",
      "num_epochs=20\n"
     ]
    },
    {
     "data": {
      "application/vnd.jupyter.widget-view+json": {
       "model_id": "6d0daefa32354ec68f4c221a34e90ec7",
       "version_major": 2,
       "version_minor": 0
      },
      "text/plain": [
       "Training...:   0%|          | 0/20 [00:00<?, ?it/s]"
      ]
     },
     "metadata": {},
     "output_type": "display_data"
    },
    {
     "name": "stdout",
     "output_type": "stream",
     "text": [
      "[checkpoint] saved: /home/haislich/Documents/noisy_labels/hackaton/checkpoints/D/model_D_epoch_4.pth\n",
      "[checkpoint] saved: /home/haislich/Documents/noisy_labels/hackaton/checkpoints/D/model_D_epoch_8.pth\n",
      "[I 2025-05-30 11:59:47,203] Trial 33 pruned. \n",
      "gnn_type='gcn'\n",
      "loss_type='nosy_ce'\n",
      "graph_pooling='mean'\n",
      "drop_ratio=0.35842254271901697\n",
      "num_layers=10\n",
      "embedding_dim=300\n",
      "num_epochs=20\n"
     ]
    },
    {
     "data": {
      "application/vnd.jupyter.widget-view+json": {
       "model_id": "78783449eb444312bef0fdc12ba7642d",
       "version_major": 2,
       "version_minor": 0
      },
      "text/plain": [
       "Training...:   0%|          | 0/20 [00:00<?, ?it/s]"
      ]
     },
     "metadata": {},
     "output_type": "display_data"
    },
    {
     "name": "stdout",
     "output_type": "stream",
     "text": [
      "[checkpoint] saved: /home/haislich/Documents/noisy_labels/hackaton/checkpoints/D/model_D_epoch_4.pth\n",
      "[checkpoint] saved: /home/haislich/Documents/noisy_labels/hackaton/checkpoints/D/model_D_epoch_8.pth\n",
      "[checkpoint] saved: /home/haislich/Documents/noisy_labels/hackaton/checkpoints/D/model_D_epoch_12.pth\n",
      "[checkpoint] saved: /home/haislich/Documents/noisy_labels/hackaton/checkpoints/D/model_D_epoch_16.pth\n",
      "[checkpoint] saved: /home/haislich/Documents/noisy_labels/hackaton/checkpoints/D/model_D_epoch_20.pth\n",
      "[I 2025-05-30 12:08:32,775] Trial 34 finished with value: 0.6819066147859922 and parameters: {'gnn_type': 'gin-virtual', 'loss_type': 'ncod', 'graph_pooling': 'mean', 'dropout': 0.35842254271901697, 'num_layers': 10, 'embedding_dim': 300}. Best is trial 17 with value: 0.6896887159533074.\n",
      "gnn_type='gcn'\n",
      "loss_type='nosy_ce'\n",
      "graph_pooling='mean'\n",
      "drop_ratio=0.12379259619425464\n",
      "num_layers=10\n",
      "embedding_dim=600\n",
      "num_epochs=20\n"
     ]
    },
    {
     "data": {
      "application/vnd.jupyter.widget-view+json": {
       "model_id": "c6fd5c4f06534bd0804485c29f939ec5",
       "version_major": 2,
       "version_minor": 0
      },
      "text/plain": [
       "Training...:   0%|          | 0/20 [00:00<?, ?it/s]"
      ]
     },
     "metadata": {},
     "output_type": "display_data"
    },
    {
     "name": "stdout",
     "output_type": "stream",
     "text": [
      "Unhandled exception  CUDA out of memory. Tried to allocate 668.00 MiB. GPU 0 has a total capacity of 11.60 GiB of which 340.19 MiB is free. Process 6163 has 39.59 MiB memory in use. Including non-PyTorch memory, this process has 10.64 GiB memory in use. Process 58091 has 135.59 MiB memory in use. Of the allocated memory 9.33 GiB is allocated by PyTorch, and 1.09 GiB is reserved by PyTorch but unallocated. If reserved but unallocated memory is large try setting PYTORCH_CUDA_ALLOC_CONF=expandable_segments:True to avoid fragmentation.  See documentation for Memory Management  (https://pytorch.org/docs/stable/notes/cuda.html#environment-variables)\n",
      "[I 2025-05-30 12:08:32,989] Trial 35 finished with value: -inf and parameters: {'gnn_type': 'gin-virtual', 'loss_type': 'noisy_ce', 'graph_pooling': 'mean', 'dropout': 0.12379259619425464, 'num_layers': 10, 'embedding_dim': 600}. Best is trial 17 with value: 0.6896887159533074.\n",
      "gnn_type='gcn'\n",
      "loss_type='nosy_ce'\n",
      "graph_pooling='mean'\n",
      "drop_ratio=0.2922902055974307\n",
      "num_layers=9\n",
      "embedding_dim=300\n",
      "num_epochs=20\n"
     ]
    },
    {
     "data": {
      "application/vnd.jupyter.widget-view+json": {
       "model_id": "13b2cf913c7047f89e9f024d16a54cda",
       "version_major": 2,
       "version_minor": 0
      },
      "text/plain": [
       "Training...:   0%|          | 0/20 [00:00<?, ?it/s]"
      ]
     },
     "metadata": {},
     "output_type": "display_data"
    },
    {
     "name": "stdout",
     "output_type": "stream",
     "text": [
      "[checkpoint] saved: /home/haislich/Documents/noisy_labels/hackaton/checkpoints/D/model_D_epoch_4.pth\n",
      "[checkpoint] saved: /home/haislich/Documents/noisy_labels/hackaton/checkpoints/D/model_D_epoch_8.pth\n",
      "[I 2025-05-30 12:12:54,613] Trial 36 pruned. \n",
      "gnn_type='gcn'\n",
      "loss_type='nosy_ce'\n",
      "graph_pooling='mean'\n",
      "drop_ratio=0.3525248154278979\n",
      "num_layers=8\n",
      "embedding_dim=128\n",
      "num_epochs=20\n"
     ]
    },
    {
     "data": {
      "application/vnd.jupyter.widget-view+json": {
       "model_id": "4cb186f4570640a1bd63deba7ee92cdb",
       "version_major": 2,
       "version_minor": 0
      },
      "text/plain": [
       "Training...:   0%|          | 0/20 [00:00<?, ?it/s]"
      ]
     },
     "metadata": {},
     "output_type": "display_data"
    },
    {
     "name": "stdout",
     "output_type": "stream",
     "text": [
      "[checkpoint] saved: /home/haislich/Documents/noisy_labels/hackaton/checkpoints/D/model_D_epoch_4.pth\n",
      "[checkpoint] saved: /home/haislich/Documents/noisy_labels/hackaton/checkpoints/D/model_D_epoch_8.pth\n",
      "[I 2025-05-30 12:14:39,918] Trial 37 pruned. \n",
      "gnn_type='gcn'\n",
      "loss_type='nosy_ce'\n",
      "graph_pooling='mean'\n",
      "drop_ratio=0.39580982607113974\n",
      "num_layers=7\n",
      "embedding_dim=64\n",
      "num_epochs=20\n"
     ]
    },
    {
     "data": {
      "application/vnd.jupyter.widget-view+json": {
       "model_id": "5a2f4616ef8b41d1ae6adf159fb98165",
       "version_major": 2,
       "version_minor": 0
      },
      "text/plain": [
       "Training...:   0%|          | 0/20 [00:00<?, ?it/s]"
      ]
     },
     "metadata": {},
     "output_type": "display_data"
    },
    {
     "name": "stdout",
     "output_type": "stream",
     "text": [
      "[checkpoint] saved: /home/haislich/Documents/noisy_labels/hackaton/checkpoints/D/model_D_epoch_4.pth\n",
      "[checkpoint] saved: /home/haislich/Documents/noisy_labels/hackaton/checkpoints/D/model_D_epoch_8.pth\n",
      "[checkpoint] saved: /home/haislich/Documents/noisy_labels/hackaton/checkpoints/D/model_D_epoch_12.pth\n",
      "[I 2025-05-30 12:15:54,516] Trial 38 pruned. \n",
      "gnn_type='gcn'\n",
      "loss_type='nosy_ce'\n",
      "graph_pooling='mean'\n",
      "drop_ratio=0.32472768755424775\n",
      "num_layers=12\n",
      "embedding_dim=600\n",
      "num_epochs=20\n"
     ]
    },
    {
     "data": {
      "application/vnd.jupyter.widget-view+json": {
       "model_id": "726a1f9ff4d24f4cadc64c286d5a5395",
       "version_major": 2,
       "version_minor": 0
      },
      "text/plain": [
       "Training...:   0%|          | 0/20 [00:00<?, ?it/s]"
      ]
     },
     "metadata": {},
     "output_type": "display_data"
    },
    {
     "name": "stdout",
     "output_type": "stream",
     "text": [
      "Unhandled exception  CUDA out of memory. Tried to allocate 680.00 MiB. GPU 0 has a total capacity of 11.60 GiB of which 343.88 MiB is free. Process 6163 has 39.59 MiB memory in use. Including non-PyTorch memory, this process has 10.65 GiB memory in use. Process 58091 has 135.59 MiB memory in use. Of the allocated memory 9.50 GiB is allocated by PyTorch, and 949.84 MiB is reserved by PyTorch but unallocated. If reserved but unallocated memory is large try setting PYTORCH_CUDA_ALLOC_CONF=expandable_segments:True to avoid fragmentation.  See documentation for Memory Management  (https://pytorch.org/docs/stable/notes/cuda.html#environment-variables)\n",
      "[I 2025-05-30 12:15:54,739] Trial 39 finished with value: -inf and parameters: {'gnn_type': 'gcn-virtual', 'loss_type': 'noisy_ce', 'graph_pooling': 'mean', 'dropout': 0.32472768755424775, 'num_layers': 12, 'embedding_dim': 600}. Best is trial 17 with value: 0.6896887159533074.\n",
      "gnn_type='gcn'\n",
      "loss_type='nosy_ce'\n",
      "graph_pooling='mean'\n",
      "drop_ratio=0.2839909432936395\n",
      "num_layers=3\n",
      "embedding_dim=300\n",
      "num_epochs=20\n"
     ]
    },
    {
     "data": {
      "application/vnd.jupyter.widget-view+json": {
       "model_id": "ab7577764aac4a95a685031886d91328",
       "version_major": 2,
       "version_minor": 0
      },
      "text/plain": [
       "Training...:   0%|          | 0/20 [00:00<?, ?it/s]"
      ]
     },
     "metadata": {},
     "output_type": "display_data"
    },
    {
     "name": "stdout",
     "output_type": "stream",
     "text": [
      "[checkpoint] saved: /home/haislich/Documents/noisy_labels/hackaton/checkpoints/D/model_D_epoch_4.pth\n",
      "[checkpoint] saved: /home/haislich/Documents/noisy_labels/hackaton/checkpoints/D/model_D_epoch_8.pth\n",
      "[I 2025-05-30 12:17:28,345] Trial 40 pruned. \n",
      "gnn_type='gcn'\n",
      "loss_type='nosy_ce'\n",
      "graph_pooling='mean'\n",
      "drop_ratio=0.5000799091229186\n",
      "num_layers=10\n",
      "embedding_dim=300\n",
      "num_epochs=20\n"
     ]
    },
    {
     "data": {
      "application/vnd.jupyter.widget-view+json": {
       "model_id": "1721f2e6e2334a3980e374458325bfba",
       "version_major": 2,
       "version_minor": 0
      },
      "text/plain": [
       "Training...:   0%|          | 0/20 [00:00<?, ?it/s]"
      ]
     },
     "metadata": {},
     "output_type": "display_data"
    },
    {
     "name": "stdout",
     "output_type": "stream",
     "text": [
      "[checkpoint] saved: /home/haislich/Documents/noisy_labels/hackaton/checkpoints/D/model_D_epoch_4.pth\n",
      "[checkpoint] saved: /home/haislich/Documents/noisy_labels/hackaton/checkpoints/D/model_D_epoch_8.pth\n",
      "[checkpoint] saved: /home/haislich/Documents/noisy_labels/hackaton/checkpoints/D/model_D_epoch_12.pth\n",
      "[I 2025-05-30 12:24:02,873] Trial 41 pruned. \n",
      "gnn_type='gcn'\n",
      "loss_type='nosy_ce'\n",
      "graph_pooling='mean'\n",
      "drop_ratio=0.5578911383104111\n",
      "num_layers=11\n",
      "embedding_dim=300\n",
      "num_epochs=20\n"
     ]
    },
    {
     "data": {
      "application/vnd.jupyter.widget-view+json": {
       "model_id": "77b752e0528b4ea68957b6b57eb139ee",
       "version_major": 2,
       "version_minor": 0
      },
      "text/plain": [
       "Training...:   0%|          | 0/20 [00:00<?, ?it/s]"
      ]
     },
     "metadata": {},
     "output_type": "display_data"
    },
    {
     "name": "stdout",
     "output_type": "stream",
     "text": [
      "[checkpoint] saved: /home/haislich/Documents/noisy_labels/hackaton/checkpoints/D/model_D_epoch_4.pth\n",
      "[checkpoint] saved: /home/haislich/Documents/noisy_labels/hackaton/checkpoints/D/model_D_epoch_8.pth\n",
      "[I 2025-05-30 12:29:19,471] Trial 42 pruned. \n",
      "gnn_type='gcn'\n",
      "loss_type='nosy_ce'\n",
      "graph_pooling='mean'\n",
      "drop_ratio=0.006917654578645793\n",
      "num_layers=11\n",
      "embedding_dim=300\n",
      "num_epochs=20\n"
     ]
    },
    {
     "data": {
      "application/vnd.jupyter.widget-view+json": {
       "model_id": "39c7f81306de47a4afaf053ab05cdc8a",
       "version_major": 2,
       "version_minor": 0
      },
      "text/plain": [
       "Training...:   0%|          | 0/20 [00:00<?, ?it/s]"
      ]
     },
     "metadata": {},
     "output_type": "display_data"
    },
    {
     "name": "stdout",
     "output_type": "stream",
     "text": [
      "[checkpoint] saved: /home/haislich/Documents/noisy_labels/hackaton/checkpoints/D/model_D_epoch_4.pth\n",
      "[checkpoint] saved: /home/haislich/Documents/noisy_labels/hackaton/checkpoints/D/model_D_epoch_8.pth\n",
      "[I 2025-05-30 12:34:35,227] Trial 43 pruned. \n",
      "gnn_type='gcn'\n",
      "loss_type='nosy_ce'\n",
      "graph_pooling='mean'\n",
      "drop_ratio=0.6110699707330248\n",
      "num_layers=9\n",
      "embedding_dim=300\n",
      "num_epochs=20\n"
     ]
    },
    {
     "data": {
      "application/vnd.jupyter.widget-view+json": {
       "model_id": "f6c214b06a9e4d679a199a717737bb2f",
       "version_major": 2,
       "version_minor": 0
      },
      "text/plain": [
       "Training...:   0%|          | 0/20 [00:00<?, ?it/s]"
      ]
     },
     "metadata": {},
     "output_type": "display_data"
    },
    {
     "name": "stdout",
     "output_type": "stream",
     "text": [
      "[checkpoint] saved: /home/haislich/Documents/noisy_labels/hackaton/checkpoints/D/model_D_epoch_4.pth\n",
      "[checkpoint] saved: /home/haislich/Documents/noisy_labels/hackaton/checkpoints/D/model_D_epoch_8.pth\n",
      "[I 2025-05-30 12:39:00,043] Trial 44 pruned. \n",
      "gnn_type='gcn'\n",
      "loss_type='nosy_ce'\n",
      "graph_pooling='mean'\n",
      "drop_ratio=0.43195674772120696\n",
      "num_layers=8\n",
      "embedding_dim=600\n",
      "num_epochs=20\n"
     ]
    },
    {
     "data": {
      "application/vnd.jupyter.widget-view+json": {
       "model_id": "eddecd72e9af42bea42fb1162f2dffa5",
       "version_major": 2,
       "version_minor": 0
      },
      "text/plain": [
       "Training...:   0%|          | 0/20 [00:00<?, ?it/s]"
      ]
     },
     "metadata": {},
     "output_type": "display_data"
    },
    {
     "name": "stdout",
     "output_type": "stream",
     "text": [
      "Unhandled exception  CUDA out of memory. Tried to allocate 726.00 MiB. GPU 0 has a total capacity of 11.60 GiB of which 344.69 MiB is free. Process 6163 has 39.59 MiB memory in use. Including non-PyTorch memory, this process has 10.68 GiB memory in use. Process 58091 has 135.59 MiB memory in use. Of the allocated memory 8.33 GiB is allocated by PyTorch, and 2.13 GiB is reserved by PyTorch but unallocated. If reserved but unallocated memory is large try setting PYTORCH_CUDA_ALLOC_CONF=expandable_segments:True to avoid fragmentation.  See documentation for Memory Management  (https://pytorch.org/docs/stable/notes/cuda.html#environment-variables)\n",
      "[I 2025-05-30 12:39:04,977] Trial 45 finished with value: -inf and parameters: {'gnn_type': 'gin-virtual', 'loss_type': 'noisy_ce', 'graph_pooling': 'mean', 'dropout': 0.43195674772120696, 'num_layers': 8, 'embedding_dim': 600}. Best is trial 17 with value: 0.6896887159533074.\n",
      "gnn_type='gcn'\n",
      "loss_type='nosy_ce'\n",
      "graph_pooling='mean'\n",
      "drop_ratio=0.4965204066669154\n",
      "num_layers=12\n",
      "embedding_dim=64\n",
      "num_epochs=20\n"
     ]
    },
    {
     "data": {
      "application/vnd.jupyter.widget-view+json": {
       "model_id": "652aa386a51741038b17f771e27040fc",
       "version_major": 2,
       "version_minor": 0
      },
      "text/plain": [
       "Training...:   0%|          | 0/20 [00:00<?, ?it/s]"
      ]
     },
     "metadata": {},
     "output_type": "display_data"
    },
    {
     "name": "stdout",
     "output_type": "stream",
     "text": [
      "[checkpoint] saved: /home/haislich/Documents/noisy_labels/hackaton/checkpoints/D/model_D_epoch_4.pth\n",
      "[checkpoint] saved: /home/haislich/Documents/noisy_labels/hackaton/checkpoints/D/model_D_epoch_8.pth\n",
      "[I 2025-05-30 12:40:35,565] Trial 46 pruned. \n",
      "gnn_type='gcn'\n",
      "loss_type='nosy_ce'\n",
      "graph_pooling='mean'\n",
      "drop_ratio=0.23559464872692315\n",
      "num_layers=10\n",
      "embedding_dim=300\n",
      "num_epochs=20\n"
     ]
    },
    {
     "data": {
      "application/vnd.jupyter.widget-view+json": {
       "model_id": "9e4ff0d78239447382e0fbd95bc15f05",
       "version_major": 2,
       "version_minor": 0
      },
      "text/plain": [
       "Training...:   0%|          | 0/20 [00:00<?, ?it/s]"
      ]
     },
     "metadata": {},
     "output_type": "display_data"
    },
    {
     "name": "stdout",
     "output_type": "stream",
     "text": [
      "[checkpoint] saved: /home/haislich/Documents/noisy_labels/hackaton/checkpoints/D/model_D_epoch_4.pth\n",
      "[checkpoint] saved: /home/haislich/Documents/noisy_labels/hackaton/checkpoints/D/model_D_epoch_8.pth\n",
      "[I 2025-05-30 12:45:25,832] Trial 47 pruned. \n",
      "gnn_type='gcn'\n",
      "loss_type='nosy_ce'\n",
      "graph_pooling='mean'\n",
      "drop_ratio=0.1862894206748351\n",
      "num_layers=9\n",
      "embedding_dim=128\n",
      "num_epochs=20\n"
     ]
    },
    {
     "data": {
      "application/vnd.jupyter.widget-view+json": {
       "model_id": "b5b0608e182e4ac998686a84c873a140",
       "version_major": 2,
       "version_minor": 0
      },
      "text/plain": [
       "Training...:   0%|          | 0/20 [00:00<?, ?it/s]"
      ]
     },
     "metadata": {},
     "output_type": "display_data"
    },
    {
     "name": "stdout",
     "output_type": "stream",
     "text": [
      "[checkpoint] saved: /home/haislich/Documents/noisy_labels/hackaton/checkpoints/D/model_D_epoch_4.pth\n",
      "[checkpoint] saved: /home/haislich/Documents/noisy_labels/hackaton/checkpoints/D/model_D_epoch_8.pth\n",
      "[I 2025-05-30 12:47:23,224] Trial 48 pruned. \n",
      "gnn_type='gcn'\n",
      "loss_type='nosy_ce'\n",
      "graph_pooling='mean'\n",
      "drop_ratio=0.35476716761115007\n",
      "num_layers=10\n",
      "embedding_dim=300\n",
      "num_epochs=20\n"
     ]
    },
    {
     "data": {
      "application/vnd.jupyter.widget-view+json": {
       "model_id": "f52270c05b3143fcbe950b85609beeae",
       "version_major": 2,
       "version_minor": 0
      },
      "text/plain": [
       "Training...:   0%|          | 0/20 [00:00<?, ?it/s]"
      ]
     },
     "metadata": {},
     "output_type": "display_data"
    },
    {
     "name": "stdout",
     "output_type": "stream",
     "text": [
      "[checkpoint] saved: /home/haislich/Documents/noisy_labels/hackaton/checkpoints/D/model_D_epoch_4.pth\n",
      "[checkpoint] saved: /home/haislich/Documents/noisy_labels/hackaton/checkpoints/D/model_D_epoch_8.pth\n",
      "[I 2025-05-30 12:52:12,621] Trial 49 pruned. \n",
      "gnn_type='gcn'\n",
      "loss_type='nosy_ce'\n",
      "graph_pooling='mean'\n",
      "drop_ratio=0.5290975150169325\n",
      "num_layers=5\n",
      "embedding_dim=600\n",
      "num_epochs=20\n"
     ]
    },
    {
     "data": {
      "application/vnd.jupyter.widget-view+json": {
       "model_id": "16c2aa502b2e4387a89cca0c12a52cbc",
       "version_major": 2,
       "version_minor": 0
      },
      "text/plain": [
       "Training...:   0%|          | 0/20 [00:00<?, ?it/s]"
      ]
     },
     "metadata": {},
     "output_type": "display_data"
    },
    {
     "name": "stdout",
     "output_type": "stream",
     "text": [
      "[checkpoint] saved: /home/haislich/Documents/noisy_labels/hackaton/checkpoints/D/model_D_epoch_4.pth\n",
      "[checkpoint] saved: /home/haislich/Documents/noisy_labels/hackaton/checkpoints/D/model_D_epoch_8.pth\n",
      "[I 2025-05-30 12:57:10,596] Trial 50 pruned. \n",
      "gnn_type='gcn'\n",
      "loss_type='nosy_ce'\n",
      "graph_pooling='mean'\n",
      "drop_ratio=0.26339003433762587\n",
      "num_layers=9\n",
      "embedding_dim=64\n",
      "num_epochs=20\n"
     ]
    },
    {
     "data": {
      "application/vnd.jupyter.widget-view+json": {
       "model_id": "6bd02291d7e74b15bea1d50a38284d8c",
       "version_major": 2,
       "version_minor": 0
      },
      "text/plain": [
       "Training...:   0%|          | 0/20 [00:00<?, ?it/s]"
      ]
     },
     "metadata": {},
     "output_type": "display_data"
    },
    {
     "name": "stdout",
     "output_type": "stream",
     "text": [
      "[checkpoint] saved: /home/haislich/Documents/noisy_labels/hackaton/checkpoints/D/model_D_epoch_4.pth\n",
      "[checkpoint] saved: /home/haislich/Documents/noisy_labels/hackaton/checkpoints/D/model_D_epoch_8.pth\n",
      "[I 2025-05-30 12:58:19,308] Trial 51 pruned. \n",
      "gnn_type='gcn'\n",
      "loss_type='nosy_ce'\n",
      "graph_pooling='mean'\n",
      "drop_ratio=0.213904647150356\n",
      "num_layers=10\n",
      "embedding_dim=64\n",
      "num_epochs=20\n"
     ]
    },
    {
     "data": {
      "application/vnd.jupyter.widget-view+json": {
       "model_id": "6c5c69ecdbd84f54bfb6e408d62695d3",
       "version_major": 2,
       "version_minor": 0
      },
      "text/plain": [
       "Training...:   0%|          | 0/20 [00:00<?, ?it/s]"
      ]
     },
     "metadata": {},
     "output_type": "display_data"
    },
    {
     "name": "stdout",
     "output_type": "stream",
     "text": [
      "[checkpoint] saved: /home/haislich/Documents/noisy_labels/hackaton/checkpoints/D/model_D_epoch_4.pth\n",
      "[checkpoint] saved: /home/haislich/Documents/noisy_labels/hackaton/checkpoints/D/model_D_epoch_8.pth\n",
      "[I 2025-05-30 12:59:34,102] Trial 52 pruned. \n",
      "gnn_type='gcn'\n",
      "loss_type='nosy_ce'\n",
      "graph_pooling='mean'\n",
      "drop_ratio=0.1295708812929806\n",
      "num_layers=9\n",
      "embedding_dim=64\n",
      "num_epochs=20\n"
     ]
    },
    {
     "data": {
      "application/vnd.jupyter.widget-view+json": {
       "model_id": "c4128fccea9b42cc8768538d060cbee1",
       "version_major": 2,
       "version_minor": 0
      },
      "text/plain": [
       "Training...:   0%|          | 0/20 [00:00<?, ?it/s]"
      ]
     },
     "metadata": {},
     "output_type": "display_data"
    },
    {
     "name": "stdout",
     "output_type": "stream",
     "text": [
      "[checkpoint] saved: /home/haislich/Documents/noisy_labels/hackaton/checkpoints/D/model_D_epoch_4.pth\n",
      "[checkpoint] saved: /home/haislich/Documents/noisy_labels/hackaton/checkpoints/D/model_D_epoch_8.pth\n",
      "[I 2025-05-30 13:00:42,397] Trial 53 pruned. \n",
      "gnn_type='gcn'\n",
      "loss_type='nosy_ce'\n",
      "graph_pooling='mean'\n",
      "drop_ratio=0.0978666439525871\n",
      "num_layers=7\n",
      "embedding_dim=64\n",
      "num_epochs=20\n"
     ]
    },
    {
     "data": {
      "application/vnd.jupyter.widget-view+json": {
       "model_id": "ca57a07e4f8c4e4082562d98075d0023",
       "version_major": 2,
       "version_minor": 0
      },
      "text/plain": [
       "Training...:   0%|          | 0/20 [00:00<?, ?it/s]"
      ]
     },
     "metadata": {},
     "output_type": "display_data"
    },
    {
     "name": "stdout",
     "output_type": "stream",
     "text": [
      "[checkpoint] saved: /home/haislich/Documents/noisy_labels/hackaton/checkpoints/D/model_D_epoch_4.pth\n",
      "[checkpoint] saved: /home/haislich/Documents/noisy_labels/hackaton/checkpoints/D/model_D_epoch_8.pth\n",
      "[checkpoint] saved: /home/haislich/Documents/noisy_labels/hackaton/checkpoints/D/model_D_epoch_12.pth\n",
      "[I 2025-05-30 13:01:57,579] Trial 54 pruned. \n",
      "gnn_type='gcn'\n",
      "loss_type='nosy_ce'\n",
      "graph_pooling='mean'\n",
      "drop_ratio=0.1501890840972694\n",
      "num_layers=6\n",
      "embedding_dim=64\n",
      "num_epochs=20\n"
     ]
    },
    {
     "data": {
      "application/vnd.jupyter.widget-view+json": {
       "model_id": "fb2e2fae93fd4c8ca2898405dabe8681",
       "version_major": 2,
       "version_minor": 0
      },
      "text/plain": [
       "Training...:   0%|          | 0/20 [00:00<?, ?it/s]"
      ]
     },
     "metadata": {},
     "output_type": "display_data"
    },
    {
     "name": "stdout",
     "output_type": "stream",
     "text": [
      "[checkpoint] saved: /home/haislich/Documents/noisy_labels/hackaton/checkpoints/D/model_D_epoch_4.pth\n",
      "[checkpoint] saved: /home/haislich/Documents/noisy_labels/hackaton/checkpoints/D/model_D_epoch_8.pth\n",
      "[checkpoint] saved: /home/haislich/Documents/noisy_labels/hackaton/checkpoints/D/model_D_epoch_12.pth\n",
      "[checkpoint] saved: /home/haislich/Documents/noisy_labels/hackaton/checkpoints/D/model_D_epoch_16.pth\n",
      "[checkpoint] saved: /home/haislich/Documents/noisy_labels/hackaton/checkpoints/D/model_D_epoch_20.pth\n",
      "[I 2025-05-30 13:03:26,146] Trial 55 finished with value: 0.6765564202334631 and parameters: {'gnn_type': 'gcn-virtual', 'loss_type': 'noisy_ce', 'graph_pooling': 'sum', 'dropout': 0.1501890840972694, 'num_layers': 6, 'embedding_dim': 64}. Best is trial 17 with value: 0.6896887159533074.\n",
      "gnn_type='gcn'\n",
      "loss_type='nosy_ce'\n",
      "graph_pooling='mean'\n",
      "drop_ratio=0.41251153339265\n",
      "num_layers=6\n",
      "embedding_dim=300\n",
      "num_epochs=20\n"
     ]
    },
    {
     "data": {
      "application/vnd.jupyter.widget-view+json": {
       "model_id": "b10a4e0b25bc4b0182a283664d63dc0c",
       "version_major": 2,
       "version_minor": 0
      },
      "text/plain": [
       "Training...:   0%|          | 0/20 [00:00<?, ?it/s]"
      ]
     },
     "metadata": {},
     "output_type": "display_data"
    },
    {
     "name": "stdout",
     "output_type": "stream",
     "text": [
      "[checkpoint] saved: /home/haislich/Documents/noisy_labels/hackaton/checkpoints/D/model_D_epoch_4.pth\n",
      "[checkpoint] saved: /home/haislich/Documents/noisy_labels/hackaton/checkpoints/D/model_D_epoch_8.pth\n",
      "[I 2025-05-30 13:06:24,974] Trial 56 pruned. \n",
      "gnn_type='gcn'\n",
      "loss_type='nosy_ce'\n",
      "graph_pooling='mean'\n",
      "drop_ratio=0.1488140011818179\n",
      "num_layers=6\n",
      "embedding_dim=64\n",
      "num_epochs=20\n"
     ]
    },
    {
     "data": {
      "application/vnd.jupyter.widget-view+json": {
       "model_id": "4c3e8e41af614241898bc50dd0afc098",
       "version_major": 2,
       "version_minor": 0
      },
      "text/plain": [
       "Training...:   0%|          | 0/20 [00:00<?, ?it/s]"
      ]
     },
     "metadata": {},
     "output_type": "display_data"
    },
    {
     "name": "stdout",
     "output_type": "stream",
     "text": [
      "[checkpoint] saved: /home/haislich/Documents/noisy_labels/hackaton/checkpoints/D/model_D_epoch_4.pth\n",
      "[checkpoint] saved: /home/haislich/Documents/noisy_labels/hackaton/checkpoints/D/model_D_epoch_8.pth\n",
      "[I 2025-05-30 13:07:14,251] Trial 57 pruned. \n",
      "gnn_type='gcn'\n",
      "loss_type='nosy_ce'\n",
      "graph_pooling='mean'\n",
      "drop_ratio=0.05487534801392718\n",
      "num_layers=4\n",
      "embedding_dim=600\n",
      "num_epochs=20\n"
     ]
    },
    {
     "data": {
      "application/vnd.jupyter.widget-view+json": {
       "model_id": "9a6aeed1f582448085153f441e9235a4",
       "version_major": 2,
       "version_minor": 0
      },
      "text/plain": [
       "Training...:   0%|          | 0/20 [00:00<?, ?it/s]"
      ]
     },
     "metadata": {},
     "output_type": "display_data"
    },
    {
     "name": "stdout",
     "output_type": "stream",
     "text": [
      "[checkpoint] saved: /home/haislich/Documents/noisy_labels/hackaton/checkpoints/D/model_D_epoch_4.pth\n",
      "[checkpoint] saved: /home/haislich/Documents/noisy_labels/hackaton/checkpoints/D/model_D_epoch_8.pth\n",
      "[checkpoint] saved: /home/haislich/Documents/noisy_labels/hackaton/checkpoints/D/model_D_epoch_12.pth\n",
      "[checkpoint] saved: /home/haislich/Documents/noisy_labels/hackaton/checkpoints/D/model_D_epoch_16.pth\n",
      "[checkpoint] saved: /home/haislich/Documents/noisy_labels/hackaton/checkpoints/D/model_D_epoch_20.pth\n",
      "[I 2025-05-30 13:14:29,829] Trial 58 finished with value: 0.7028210116731517 and parameters: {'gnn_type': 'gin-virtual', 'loss_type': 'noisy_ce', 'graph_pooling': 'attention', 'dropout': 0.05487534801392718, 'num_layers': 4, 'embedding_dim': 600}. Best is trial 58 with value: 0.7028210116731517.\n",
      "gnn_type='gcn'\n",
      "loss_type='nosy_ce'\n",
      "graph_pooling='mean'\n",
      "drop_ratio=0.05776506675573531\n",
      "num_layers=11\n",
      "embedding_dim=600\n",
      "num_epochs=20\n"
     ]
    },
    {
     "data": {
      "application/vnd.jupyter.widget-view+json": {
       "model_id": "6f27daf13fb34bdbb8a077ff8741f34c",
       "version_major": 2,
       "version_minor": 0
      },
      "text/plain": [
       "Training...:   0%|          | 0/20 [00:00<?, ?it/s]"
      ]
     },
     "metadata": {},
     "output_type": "display_data"
    },
    {
     "name": "stdout",
     "output_type": "stream",
     "text": [
      "Unhandled exception  CUDA out of memory. Tried to allocate 654.00 MiB. GPU 0 has a total capacity of 11.60 GiB of which 342.25 MiB is free. Process 6163 has 39.59 MiB memory in use. Including non-PyTorch memory, this process has 10.67 GiB memory in use. Process 58091 has 135.84 MiB memory in use. Of the allocated memory 9.07 GiB is allocated by PyTorch, and 1.37 GiB is reserved by PyTorch but unallocated. If reserved but unallocated memory is large try setting PYTORCH_CUDA_ALLOC_CONF=expandable_segments:True to avoid fragmentation.  See documentation for Memory Management  (https://pytorch.org/docs/stable/notes/cuda.html#environment-variables)\n",
      "[I 2025-05-30 13:14:30,046] Trial 59 finished with value: -inf and parameters: {'gnn_type': 'gin-virtual', 'loss_type': 'ncod', 'graph_pooling': 'mean', 'dropout': 0.05776506675573531, 'num_layers': 11, 'embedding_dim': 600}. Best is trial 58 with value: 0.7028210116731517.\n",
      "\n",
      "All trials saved to: /home/haislich/Documents/noisy_labels/hackaton/logs/D/optuna_summary_D.csv\n",
      "\n",
      "Best result for dataset D:\n"
     ]
    },
    {
     "data": {
      "text/html": [
       "<div>\n",
       "<style scoped>\n",
       "    .dataframe tbody tr th:only-of-type {\n",
       "        vertical-align: middle;\n",
       "    }\n",
       "\n",
       "    .dataframe tbody tr th {\n",
       "        vertical-align: top;\n",
       "    }\n",
       "\n",
       "    .dataframe thead th {\n",
       "        text-align: right;\n",
       "    }\n",
       "</style>\n",
       "<table border=\"1\" class=\"dataframe\">\n",
       "  <thead>\n",
       "    <tr style=\"text-align: right;\">\n",
       "      <th></th>\n",
       "      <th>accuracy</th>\n",
       "      <th>gnn_type</th>\n",
       "      <th>loss_type</th>\n",
       "      <th>graph_pooling</th>\n",
       "      <th>dropout</th>\n",
       "      <th>num_layers</th>\n",
       "      <th>embedding_dim</th>\n",
       "    </tr>\n",
       "  </thead>\n",
       "  <tbody>\n",
       "    <tr>\n",
       "      <th>20</th>\n",
       "      <td>0.702821</td>\n",
       "      <td>gin-virtual</td>\n",
       "      <td>noisy_ce</td>\n",
       "      <td>attention</td>\n",
       "      <td>0.054875</td>\n",
       "      <td>4</td>\n",
       "      <td>600</td>\n",
       "    </tr>\n",
       "    <tr>\n",
       "      <th>10</th>\n",
       "      <td>0.689689</td>\n",
       "      <td>gin-virtual</td>\n",
       "      <td>noisy_ce</td>\n",
       "      <td>mean</td>\n",
       "      <td>0.499422</td>\n",
       "      <td>10</td>\n",
       "      <td>300</td>\n",
       "    </tr>\n",
       "    <tr>\n",
       "      <th>11</th>\n",
       "      <td>0.685798</td>\n",
       "      <td>gin-virtual</td>\n",
       "      <td>ncod</td>\n",
       "      <td>attention</td>\n",
       "      <td>0.519216</td>\n",
       "      <td>10</td>\n",
       "      <td>300</td>\n",
       "    </tr>\n",
       "    <tr>\n",
       "      <th>5</th>\n",
       "      <td>0.683852</td>\n",
       "      <td>gcn</td>\n",
       "      <td>ncod</td>\n",
       "      <td>mean</td>\n",
       "      <td>0.298479</td>\n",
       "      <td>7</td>\n",
       "      <td>600</td>\n",
       "    </tr>\n",
       "    <tr>\n",
       "      <th>15</th>\n",
       "      <td>0.681907</td>\n",
       "      <td>gin-virtual</td>\n",
       "      <td>ncod</td>\n",
       "      <td>mean</td>\n",
       "      <td>0.358423</td>\n",
       "      <td>10</td>\n",
       "      <td>300</td>\n",
       "    </tr>\n",
       "    <tr>\n",
       "      <th>12</th>\n",
       "      <td>0.676556</td>\n",
       "      <td>gin-virtual</td>\n",
       "      <td>ncod</td>\n",
       "      <td>sum</td>\n",
       "      <td>0.513133</td>\n",
       "      <td>11</td>\n",
       "      <td>300</td>\n",
       "    </tr>\n",
       "    <tr>\n",
       "      <th>19</th>\n",
       "      <td>0.676556</td>\n",
       "      <td>gcn-virtual</td>\n",
       "      <td>noisy_ce</td>\n",
       "      <td>sum</td>\n",
       "      <td>0.150189</td>\n",
       "      <td>6</td>\n",
       "      <td>64</td>\n",
       "    </tr>\n",
       "    <tr>\n",
       "      <th>7</th>\n",
       "      <td>0.672665</td>\n",
       "      <td>gcn-virtual</td>\n",
       "      <td>noisy_ce</td>\n",
       "      <td>mean</td>\n",
       "      <td>0.228287</td>\n",
       "      <td>9</td>\n",
       "      <td>64</td>\n",
       "    </tr>\n",
       "    <tr>\n",
       "      <th>14</th>\n",
       "      <td>0.664883</td>\n",
       "      <td>gcn</td>\n",
       "      <td>noisy_ce</td>\n",
       "      <td>attention</td>\n",
       "      <td>0.627217</td>\n",
       "      <td>5</td>\n",
       "      <td>600</td>\n",
       "    </tr>\n",
       "    <tr>\n",
       "      <th>4</th>\n",
       "      <td>0.661479</td>\n",
       "      <td>gcn-virtual</td>\n",
       "      <td>ce</td>\n",
       "      <td>mean</td>\n",
       "      <td>0.291027</td>\n",
       "      <td>7</td>\n",
       "      <td>64</td>\n",
       "    </tr>\n",
       "    <tr>\n",
       "      <th>1</th>\n",
       "      <td>0.654183</td>\n",
       "      <td>gcn-virtual</td>\n",
       "      <td>ncod</td>\n",
       "      <td>max</td>\n",
       "      <td>0.078346</td>\n",
       "      <td>12</td>\n",
       "      <td>64</td>\n",
       "    </tr>\n",
       "    <tr>\n",
       "      <th>0</th>\n",
       "      <td>0.641051</td>\n",
       "      <td>gcn-virtual</td>\n",
       "      <td>ncod</td>\n",
       "      <td>max</td>\n",
       "      <td>0.111381</td>\n",
       "      <td>12</td>\n",
       "      <td>64</td>\n",
       "    </tr>\n",
       "    <tr>\n",
       "      <th>3</th>\n",
       "      <td>0.601654</td>\n",
       "      <td>gin</td>\n",
       "      <td>ncod</td>\n",
       "      <td>mean</td>\n",
       "      <td>0.041197</td>\n",
       "      <td>3</td>\n",
       "      <td>128</td>\n",
       "    </tr>\n",
       "    <tr>\n",
       "      <th>2</th>\n",
       "      <td>-inf</td>\n",
       "      <td>gin-virtual</td>\n",
       "      <td>ncod</td>\n",
       "      <td>set2set</td>\n",
       "      <td>0.602510</td>\n",
       "      <td>11</td>\n",
       "      <td>600</td>\n",
       "    </tr>\n",
       "    <tr>\n",
       "      <th>13</th>\n",
       "      <td>-inf</td>\n",
       "      <td>gcn</td>\n",
       "      <td>ncod</td>\n",
       "      <td>attention</td>\n",
       "      <td>0.572218</td>\n",
       "      <td>9</td>\n",
       "      <td>600</td>\n",
       "    </tr>\n",
       "    <tr>\n",
       "      <th>6</th>\n",
       "      <td>-inf</td>\n",
       "      <td>gcn</td>\n",
       "      <td>ncod</td>\n",
       "      <td>attention</td>\n",
       "      <td>0.507690</td>\n",
       "      <td>9</td>\n",
       "      <td>600</td>\n",
       "    </tr>\n",
       "    <tr>\n",
       "      <th>8</th>\n",
       "      <td>-inf</td>\n",
       "      <td>gcn</td>\n",
       "      <td>noisy_ce</td>\n",
       "      <td>attention</td>\n",
       "      <td>0.171966</td>\n",
       "      <td>9</td>\n",
       "      <td>600</td>\n",
       "    </tr>\n",
       "    <tr>\n",
       "      <th>9</th>\n",
       "      <td>-inf</td>\n",
       "      <td>gcn</td>\n",
       "      <td>noisy_ce</td>\n",
       "      <td>sum</td>\n",
       "      <td>0.184307</td>\n",
       "      <td>8</td>\n",
       "      <td>600</td>\n",
       "    </tr>\n",
       "    <tr>\n",
       "      <th>17</th>\n",
       "      <td>-inf</td>\n",
       "      <td>gcn-virtual</td>\n",
       "      <td>noisy_ce</td>\n",
       "      <td>mean</td>\n",
       "      <td>0.324728</td>\n",
       "      <td>12</td>\n",
       "      <td>600</td>\n",
       "    </tr>\n",
       "    <tr>\n",
       "      <th>16</th>\n",
       "      <td>-inf</td>\n",
       "      <td>gin-virtual</td>\n",
       "      <td>noisy_ce</td>\n",
       "      <td>mean</td>\n",
       "      <td>0.123793</td>\n",
       "      <td>10</td>\n",
       "      <td>600</td>\n",
       "    </tr>\n",
       "    <tr>\n",
       "      <th>18</th>\n",
       "      <td>-inf</td>\n",
       "      <td>gin-virtual</td>\n",
       "      <td>noisy_ce</td>\n",
       "      <td>mean</td>\n",
       "      <td>0.431957</td>\n",
       "      <td>8</td>\n",
       "      <td>600</td>\n",
       "    </tr>\n",
       "    <tr>\n",
       "      <th>21</th>\n",
       "      <td>-inf</td>\n",
       "      <td>gin-virtual</td>\n",
       "      <td>ncod</td>\n",
       "      <td>mean</td>\n",
       "      <td>0.057765</td>\n",
       "      <td>11</td>\n",
       "      <td>600</td>\n",
       "    </tr>\n",
       "  </tbody>\n",
       "</table>\n",
       "</div>"
      ],
      "text/plain": [
       "    accuracy     gnn_type loss_type graph_pooling   dropout  num_layers  \\\n",
       "20  0.702821  gin-virtual  noisy_ce     attention  0.054875           4   \n",
       "10  0.689689  gin-virtual  noisy_ce          mean  0.499422          10   \n",
       "11  0.685798  gin-virtual      ncod     attention  0.519216          10   \n",
       "5   0.683852          gcn      ncod          mean  0.298479           7   \n",
       "15  0.681907  gin-virtual      ncod          mean  0.358423          10   \n",
       "12  0.676556  gin-virtual      ncod           sum  0.513133          11   \n",
       "19  0.676556  gcn-virtual  noisy_ce           sum  0.150189           6   \n",
       "7   0.672665  gcn-virtual  noisy_ce          mean  0.228287           9   \n",
       "14  0.664883          gcn  noisy_ce     attention  0.627217           5   \n",
       "4   0.661479  gcn-virtual        ce          mean  0.291027           7   \n",
       "1   0.654183  gcn-virtual      ncod           max  0.078346          12   \n",
       "0   0.641051  gcn-virtual      ncod           max  0.111381          12   \n",
       "3   0.601654          gin      ncod          mean  0.041197           3   \n",
       "2       -inf  gin-virtual      ncod       set2set  0.602510          11   \n",
       "13      -inf          gcn      ncod     attention  0.572218           9   \n",
       "6       -inf          gcn      ncod     attention  0.507690           9   \n",
       "8       -inf          gcn  noisy_ce     attention  0.171966           9   \n",
       "9       -inf          gcn  noisy_ce           sum  0.184307           8   \n",
       "17      -inf  gcn-virtual  noisy_ce          mean  0.324728          12   \n",
       "16      -inf  gin-virtual  noisy_ce          mean  0.123793          10   \n",
       "18      -inf  gin-virtual  noisy_ce          mean  0.431957           8   \n",
       "21      -inf  gin-virtual      ncod          mean  0.057765          11   \n",
       "\n",
       "    embedding_dim  \n",
       "20            600  \n",
       "10            300  \n",
       "11            300  \n",
       "5             600  \n",
       "15            300  \n",
       "12            300  \n",
       "19             64  \n",
       "7              64  \n",
       "14            600  \n",
       "4              64  \n",
       "1              64  \n",
       "0              64  \n",
       "3             128  \n",
       "2             600  \n",
       "13            600  \n",
       "6             600  \n",
       "8             600  \n",
       "9             600  \n",
       "17            600  \n",
       "16            600  \n",
       "18            600  \n",
       "21            600  "
      ]
     },
     "metadata": {},
     "output_type": "display_data"
    },
    {
     "name": "stdout",
     "output_type": "stream",
     "text": [
      "\n",
      "Best Params for D:\n",
      "  gnn_type: gin-virtual\n",
      "  loss_type: noisy_ce\n",
      "  graph_pooling: attention\n",
      "  dropout: 0.05487534801392718\n",
      "  num_layers: 4\n",
      "  embedding_dim: 600\n"
     ]
    }
   ],
   "source": [
    "case_study(\n",
    "    \"D\", n_trials=60, num_checkpoints=5, default_batch_size=64, score_type=\"accuracy\"\n",
    ")"
   ]
  }
 ],
 "metadata": {
  "accelerator": "GPU",
  "colab": {
   "gpuType": "T4",
   "provenance": []
  },
  "kaggle": {
   "accelerator": "gpu",
   "dataSources": [],
   "dockerImageVersionId": 30918,
   "isGpuEnabled": true,
   "isInternetEnabled": false,
   "language": "python",
   "sourceType": "notebook"
  },
  "kernelspec": {
   "display_name": ".venv",
   "language": "python",
   "name": "python3"
  },
  "language_info": {
   "codemirror_mode": {
    "name": "ipython",
    "version": 3
   },
   "file_extension": ".py",
   "mimetype": "text/x-python",
   "name": "python",
   "nbconvert_exporter": "python",
   "pygments_lexer": "ipython3",
   "version": "3.12.9"
  }
 },
 "nbformat": 4,
 "nbformat_minor": 4
}
