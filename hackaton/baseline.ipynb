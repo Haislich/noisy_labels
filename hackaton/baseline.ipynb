{
 "cells": [
  {
   "cell_type": "code",
   "execution_count": 1,
   "metadata": {
    "id": "xSkgt1zf-raF",
    "outputId": "59f4a52f-5eb4-41e5-9fba-07432989fe78",
    "trusted": true
   },
   "outputs": [],
   "source": [
    "# !pip install https://github.com/pyg-team/pytorch_geometric.git"
   ]
  },
  {
   "cell_type": "code",
   "execution_count": 2,
   "metadata": {
    "id": "5oR2D2Us-xSQ",
    "outputId": "7086cadf-a7fe-4d75-f271-6339bee8164d",
    "trusted": true
   },
   "outputs": [],
   "source": [
    "# !git clone --branch baselineCe https://github.com/Graph-Classification-Noisy-Label/hackaton.git"
   ]
  },
  {
   "cell_type": "code",
   "execution_count": 28,
   "metadata": {
    "id": "tEhfPly6-7UK",
    "outputId": "3078ee06-6312-4fca-f5f9-888fa628c80a",
    "trusted": true
   },
   "outputs": [
    {
     "name": "stdout",
     "output_type": "stream",
     "text": [
      "[Errno 2] No such file or directory: 'hackaton/'\n",
      "/home/haislich/Documents/noisy_labels/hackaton\n"
     ]
    }
   ],
   "source": [
    "%cd hackaton/"
   ]
  },
  {
   "cell_type": "code",
   "execution_count": 4,
   "metadata": {
    "id": "PxBvwB0_6xI8",
    "outputId": "5933387c-2cfb-474f-d842-f36a3e2d2a73",
    "trusted": true
   },
   "outputs": [],
   "source": [
    "# !gdown --folder https://drive.google.com/drive/folders/1Z-1JkPJ6q4C6jX4brvq1VRbJH5RPUCAk -O datasets\n"
   ]
  },
  {
   "cell_type": "code",
   "execution_count": 5,
   "metadata": {
    "id": "1rockhiQ7Nny",
    "outputId": "2cd2e6f4-5f8f-4a62-f0ec-53e6fc78c9b7",
    "trusted": true
   },
   "outputs": [
    {
     "name": "stdout",
     "output_type": "stream",
     "text": [
      "total 16K\n",
      "drwxr-xr-x 2 haislich haislich 4,0K 25 mag 11.19 A\n",
      "drwxr-xr-x 2 haislich haislich 4,0K 25 mag 11.19 B\n",
      "drwxr-xr-x 2 haislich haislich 4,0K 25 mag 11.19 C\n",
      "drwxr-xr-x 2 haislich haislich 4,0K 25 mag 11.19 D\n"
     ]
    }
   ],
   "source": [
    "!ls -lh datasets"
   ]
  },
  {
   "cell_type": "code",
   "execution_count": 6,
   "metadata": {
    "id": "lAQuCuIoBbq5",
    "trusted": true
   },
   "outputs": [],
   "source": [
    "import os\n",
    "import torch\n",
    "import pandas as pd\n",
    "import matplotlib.pyplot as plt\n",
    "import logging\n",
    "from tqdm import tqdm\n",
    "from torch_geometric.loader import DataLoader\n",
    "from torch.utils.data import random_split\n",
    "# Load utility functions from cloned repository\n",
    "from src.loadData import GraphDataset\n",
    "from src.utils import set_seed\n",
    "from src.models import GNN\n",
    "import argparse\n",
    "\n",
    "# Set the random seed\n",
    "set_seed()\n"
   ]
  },
  {
   "cell_type": "code",
   "execution_count": 7,
   "metadata": {
    "id": "Dyf0I2-t9IcW",
    "trusted": true
   },
   "outputs": [],
   "source": [
    "def add_zeros(data):\n",
    "    data.x = torch.zeros(data.num_nodes, dtype=torch.long)\n",
    "    return data"
   ]
  },
  {
   "cell_type": "code",
   "execution_count": 8,
   "metadata": {
    "id": "3jKvoQYI9Zbc",
    "trusted": true
   },
   "outputs": [],
   "source": [
    "def train(data_loader, model, optimizer, criterion, device, save_checkpoints, checkpoint_path, current_epoch):\n",
    "    model.train()\n",
    "    total_loss = 0\n",
    "    correct = 0\n",
    "    total = 0\n",
    "    for data in tqdm(data_loader, desc=\"Iterating training graphs\", unit=\"batch\"):\n",
    "        data = data.to(device)\n",
    "        optimizer.zero_grad()\n",
    "        output = model(data)\n",
    "        loss = criterion(output, data.y)\n",
    "        loss.backward()\n",
    "        optimizer.step()\n",
    "        total_loss += loss.item()\n",
    "        pred = output.argmax(dim=1)\n",
    "        correct += (pred == data.y).sum().item()\n",
    "        total += data.y.size(0)\n",
    "\n",
    "    # Save checkpoints if required\n",
    "    if save_checkpoints:\n",
    "        checkpoint_file = f\"{checkpoint_path}_epoch_{current_epoch + 1}.pth\"\n",
    "        torch.save(model.state_dict(), checkpoint_file)\n",
    "        print(f\"Checkpoint saved at {checkpoint_file}\")\n",
    "\n",
    "    return total_loss / len(data_loader),  correct / total"
   ]
  },
  {
   "cell_type": "code",
   "execution_count": 65,
   "metadata": {
    "id": "8peFiIS19ZpK",
    "trusted": true
   },
   "outputs": [],
   "source": [
    "def evaluate(data_loader, model, device, calculate_accuracy=False):\n",
    "    model.eval()\n",
    "    correct = 0\n",
    "    total = 0\n",
    "    predictions = []\n",
    "    total_loss = 0\n",
    "    criterion = torch.nn.CrossEntropyLoss()\n",
    "    with torch.no_grad():\n",
    "        for data in tqdm(data_loader, desc=\"Iterating eval graphs\", unit=\"batch\"):\n",
    "            data = data.to(device)\n",
    "            output = model(data)\n",
    "            pred = output.argmax(dim=1)\n",
    "            \n",
    "            if calculate_accuracy:\n",
    "                correct += (pred == data.y).sum().item()\n",
    "                total += data.y.size(0)\n",
    "                total_loss += criterion(output, data.y).item()\n",
    "            else:\n",
    "                predictions.extend(pred.cpu().numpy())\n",
    "    if calculate_accuracy:\n",
    "        accuracy = correct / total\n",
    "        return  total_loss / len(data_loader),accuracy\n",
    "    return predictions"
   ]
  },
  {
   "cell_type": "code",
   "execution_count": 54,
   "metadata": {
    "id": "WanuZKxy9Zs-",
    "trusted": true
   },
   "outputs": [],
   "source": [
    "def save_predictions(predictions, test_path):\n",
    "    script_dir = os.getcwd() \n",
    "    submission_folder = os.path.join(script_dir, \"submission\")\n",
    "    test_dir_name = os.path.basename(os.path.dirname(test_path))\n",
    "    \n",
    "    os.makedirs(submission_folder, exist_ok=True)\n",
    "    \n",
    "    output_csv_path = os.path.join(submission_folder, f\"testset_{test_dir_name}.csv\")\n",
    "    \n",
    "    test_graph_ids = list(range(len(predictions)))\n",
    "    output_df = pd.DataFrame({\n",
    "        \"id\": test_graph_ids,\n",
    "        \"pred\": predictions\n",
    "    })\n",
    "    \n",
    "    output_df.to_csv(output_csv_path, index=False)\n",
    "    print(f\"Predictions saved to {output_csv_path}\")"
   ]
  },
  {
   "cell_type": "code",
   "execution_count": 11,
   "metadata": {
    "id": "uyHIJS5U9ZzB",
    "trusted": true
   },
   "outputs": [],
   "source": [
    "def plot_training_progress(train_losses, train_accuracies, output_dir):\n",
    "    epochs = range(1, len(train_losses) + 1)\n",
    "    plt.figure(figsize=(12, 6))\n",
    "\n",
    "    # Plot loss\n",
    "    plt.subplot(1, 2, 1)\n",
    "    plt.plot(epochs, train_losses, label=\"Training Loss\", color='blue')\n",
    "    plt.xlabel('Epoch')\n",
    "    plt.ylabel('Loss')\n",
    "    plt.title('Training Loss per Epoch')\n",
    "\n",
    "    # Plot accuracy\n",
    "    plt.subplot(1, 2, 2)\n",
    "    plt.plot(epochs, train_accuracies, label=\"Training Accuracy\", color='green')\n",
    "    plt.xlabel('Epoch')\n",
    "    plt.ylabel('Accuracy')\n",
    "    plt.title('Training Accuracy per Epoch')\n",
    "\n",
    "    # Save plots in the current directory\n",
    "    os.makedirs(output_dir, exist_ok=True)\n",
    "    plt.tight_layout()\n",
    "    plt.savefig(os.path.join(output_dir, \"training_progress.png\"))\n",
    "    plt.close()"
   ]
  },
  {
   "cell_type": "code",
   "execution_count": 20,
   "metadata": {
    "trusted": true
   },
   "outputs": [],
   "source": [
    "def get_user_input(prompt, default=None, required=False, type_cast=str):\n",
    "\n",
    "    while True:\n",
    "        user_input = \"\"#input(f\"{prompt} [{default}]: \")\n",
    "        \n",
    "        if user_input == \"\" and required:\n",
    "            print(\"This field is required. Please enter a value.\")\n",
    "            continue\n",
    "        \n",
    "        if user_input == \"\" and default is not None:\n",
    "            return default\n",
    "        \n",
    "        if user_input == \"\" and not required:\n",
    "            return None\n",
    "        \n",
    "        try:\n",
    "            return type_cast(user_input)\n",
    "        except ValueError:\n",
    "            print(f\"Invalid input. Please enter a valid {type_cast.__name__}.\")"
   ]
  },
  {
   "cell_type": "code",
   "execution_count": 58,
   "metadata": {
    "trusted": true
   },
   "outputs": [],
   "source": [
    "def get_arguments():\n",
    "    args = {}\n",
    "    args['train_path'] = get_user_input(\"Path to the training dataset (optional)\", default = \"./datasets/B/train.json.gz\")\n",
    "    args['test_path'] = get_user_input(\"Path to the test dataset\",default = \"./datasets/B/test.json.gz\")\n",
    "    args['num_checkpoints'] = get_user_input(\"Number of checkpoints to save during training\", type_cast=int)\n",
    "    args['device'] = get_user_input(\"Which GPU to use if any\", default=1, type_cast=int)\n",
    "    args['gnn'] = get_user_input(\"GNN type (gin, gin-virtual, gcn, gcn-virtual)\", default='gin')\n",
    "    args['drop_ratio'] = get_user_input(\"Dropout ratio\", default=0.0, type_cast=float)\n",
    "    args['num_layer'] = get_user_input(\"Number of GNN message passing layers\", default=5, type_cast=int)\n",
    "    args['emb_dim'] = get_user_input(\"Dimensionality of hidden units in GNNs\", default=300, type_cast=int)\n",
    "    args['batch_size'] = get_user_input(\"Input batch size for training\", default=32, type_cast=int)\n",
    "    args['epochs'] = get_user_input(\"Number of epochs to train\", default=10, type_cast=int)\n",
    "    args['baseline_mode'] = get_user_input(\"Baseline mode: 1 (CE), 2 (Noisy CE)\", default=1, type_cast=int)\n",
    "    args['noise_prob'] = get_user_input(\"Noise probability p (used if baseline_mode=2)\", default=0.2, type_cast=float)\n",
    "\n",
    "    \n",
    "    return argparse.Namespace(**args)\n"
   ]
  },
  {
   "cell_type": "code",
   "execution_count": 59,
   "metadata": {
    "trusted": true
   },
   "outputs": [
    {
     "name": "stdout",
     "output_type": "stream",
     "text": [
      "Arguments received:\n",
      "train_path: ./datasets/B/train.json.gz\n",
      "test_path: ./datasets/B/test.json.gz\n",
      "num_checkpoints: None\n",
      "device: 1\n",
      "gnn: gin\n",
      "drop_ratio: 0.0\n",
      "num_layer: 5\n",
      "emb_dim: 300\n",
      "batch_size: 32\n",
      "epochs: 10\n",
      "baseline_mode: 1\n",
      "noise_prob: 0.2\n"
     ]
    }
   ],
   "source": [
    "def populate_args(args):\n",
    "    print(\"Arguments received:\")\n",
    "    for key, value in vars(args).items():\n",
    "        print(f\"{key}: {value}\")\n",
    "args = get_arguments()\n",
    "populate_args(args)"
   ]
  },
  {
   "cell_type": "code",
   "execution_count": 60,
   "metadata": {
    "trusted": true
   },
   "outputs": [],
   "source": [
    "class NoisyCrossEntropyLoss(torch.nn.Module):\n",
    "    def __init__(self, p_noisy):\n",
    "        super().__init__()\n",
    "        self.p = p_noisy\n",
    "        self.ce = torch.nn.CrossEntropyLoss(reduction='none')\n",
    "\n",
    "    def forward(self, logits, targets):\n",
    "        losses = self.ce(logits, targets)\n",
    "        weights = (1 - self.p) + self.p * (1 - torch.nn.functional.one_hot(targets, num_classes=logits.size(1)).float().sum(dim=1))\n",
    "        return (losses * weights).mean()"
   ]
  },
  {
   "cell_type": "code",
   "execution_count": 61,
   "metadata": {
    "id": "lHX55XGECXBr",
    "trusted": true
   },
   "outputs": [],
   "source": [
    "script_dir = os.getcwd() \n",
    "# device = torch.device(f\"cuda:{args.device}\" if torch.cuda.is_available() else \"cpu\")\n",
    "device = torch.device(\"cuda\" if torch.cuda.is_available() else \"cpu\")\n",
    "num_checkpoints = args.num_checkpoints if args.num_checkpoints else 3\n",
    "    \n",
    "if args.gnn == 'gin':\n",
    "    model = GNN(gnn_type='gin', num_class=6, num_layer=args.num_layer, emb_dim=args.emb_dim, drop_ratio=args.drop_ratio, virtual_node=False).to(device)\n",
    "elif args.gnn == 'gin-virtual':\n",
    "    model = GNN(gnn_type='gin', num_class=6, num_layer=args.num_layer, emb_dim=args.emb_dim, drop_ratio=args.drop_ratio, virtual_node=True).to(device)\n",
    "elif args.gnn == 'gcn':\n",
    "    model = GNN(gnn_type='gcn', num_class=6, num_layer=args.num_layer, emb_dim=args.emb_dim, drop_ratio=args.drop_ratio, virtual_node=False).to(device)\n",
    "elif args.gnn == 'gcn-virtual':\n",
    "    model = GNN(gnn_type='gcn', num_class=6, num_layer=args.num_layer, emb_dim=args.emb_dim, drop_ratio=args.drop_ratio, virtual_node=True).to(device)\n",
    "else:\n",
    "    raise ValueError('Invalid GNN type')\n",
    "    \n",
    "optimizer = torch.optim.Adam(model.parameters(), lr=0.001)\n",
    "# criterion = torch.nn.CrossEntropyLoss()\n",
    "if args.baseline_mode == 2:\n",
    "    criterion = NoisyCrossEntropyLoss(args.noise_prob)\n",
    "else:\n",
    "    criterion = torch.nn.CrossEntropyLoss()"
   ]
  },
  {
   "cell_type": "code",
   "execution_count": 62,
   "metadata": {
    "id": "BTYT5jYuChPb",
    "trusted": true
   },
   "outputs": [],
   "source": [
    "test_dir_name = os.path.basename(os.path.dirname(args.test_path))\n",
    "logs_folder = os.path.join(script_dir, \"logs\", test_dir_name)\n",
    "log_file = os.path.join(logs_folder, \"training.log\")\n",
    "os.makedirs(os.path.dirname(log_file), exist_ok=True)\n",
    "logging.basicConfig(filename=log_file, level=logging.INFO, format='%(asctime)s - %(message)s')\n",
    "logging.getLogger().addHandler(logging.StreamHandler())\n",
    "\n",
    "checkpoint_path = os.path.join(script_dir, \"checkpoints\", f\"model_{test_dir_name}_best.pth\")\n",
    "checkpoints_folder = os.path.join(script_dir, \"checkpoints\", test_dir_name)\n",
    "os.makedirs(checkpoints_folder, exist_ok=True)\n"
   ]
  },
  {
   "cell_type": "code",
   "execution_count": 63,
   "metadata": {
    "trusted": true
   },
   "outputs": [],
   "source": [
    "if os.path.exists(checkpoint_path) and not args.train_path:\n",
    "    model.load_state_dict(torch.load(checkpoint_path))\n",
    "    print(f\"Loaded best model from {checkpoint_path}\")"
   ]
  },
  {
   "cell_type": "code",
   "execution_count": 64,
   "metadata": {
    "trusted": true
   },
   "outputs": [
    {
     "name": "stderr",
     "output_type": "stream",
     "text": [
      "Iterating training graphs: 100%|██████████| 140/140 [00:13<00:00, 10.22batch/s]\n",
      "Iterating eval graphs:   6%|▌         | 2/35 [00:00<00:02, 14.36batch/s]"
     ]
    },
    {
     "name": "stdout",
     "output_type": "stream",
     "text": [
      "DataBatch(edge_index=[2, 135416], edge_attr=[135416, 7], y=[32], num_nodes=7817, x=[7817], batch=[7817], ptr=[33])\n",
      "pred=tensor([4, 4, 4, 4, 4, 4, 0, 4, 4, 0, 4, 4, 4, 4, 0, 4, 4, 4, 4, 4, 0, 4, 4, 4,\n",
      "        4, 0, 4, 4, 0, 4, 4, 4], device='cuda:0'), data.y=tensor([4, 0, 1, 1, 2, 4, 4, 3, 1, 4, 4, 0, 5, 3, 0, 2, 3, 1, 0, 4, 1, 4, 5, 3,\n",
      "        0, 2, 0, 4, 1, 5, 0, 3], device='cuda:0')\n",
      "type(pred)=<class 'torch.Tensor'>, type(data.y)=<class 'torch.Tensor'>\n",
      "DataBatch(edge_index=[2, 121262], edge_attr=[121262, 7], y=[32], num_nodes=6966, x=[6966], batch=[6966], ptr=[33])\n",
      "pred=tensor([4, 4, 4, 4, 4, 4, 4, 4, 4, 4, 4, 4, 4, 4, 0, 4, 0, 4, 4, 0, 4, 4, 4, 4,\n",
      "        4, 4, 4, 4, 4, 4, 4, 4], device='cuda:0'), data.y=tensor([2, 0, 5, 2, 4, 4, 1, 5, 2, 4, 0, 1, 3, 5, 3, 3, 1, 1, 1, 3, 5, 5, 4, 5,\n",
      "        2, 3, 4, 0, 4, 1, 4, 1], device='cuda:0')\n",
      "type(pred)=<class 'torch.Tensor'>, type(data.y)=<class 'torch.Tensor'>\n",
      "DataBatch(edge_index=[2, 144698], edge_attr=[144698, 7], y=[32], num_nodes=7569, x=[7569], batch=[7569], ptr=[33])\n",
      "pred=tensor([4, 4, 4, 4, 4, 4, 4, 4, 1, 4, 4, 4, 0, 4, 4, 4, 4, 4, 4, 4, 4, 4, 4, 4,\n",
      "        4, 4, 4, 4, 0, 4, 4, 4], device='cuda:0'), data.y=tensor([2, 0, 4, 5, 3, 2, 4, 0, 0, 4, 4, 4, 3, 0, 0, 5, 4, 3, 3, 2, 5, 4, 2, 0,\n",
      "        1, 4, 3, 5, 5, 1, 5, 0], device='cuda:0')\n",
      "type(pred)=<class 'torch.Tensor'>, type(data.y)=<class 'torch.Tensor'>\n"
     ]
    },
    {
     "name": "stderr",
     "output_type": "stream",
     "text": [
      "Iterating eval graphs:  17%|█▋        | 6/35 [00:00<00:02, 14.25batch/s]"
     ]
    },
    {
     "name": "stdout",
     "output_type": "stream",
     "text": [
      "DataBatch(edge_index=[2, 127950], edge_attr=[127950, 7], y=[32], num_nodes=7645, x=[7645], batch=[7645], ptr=[33])\n",
      "pred=tensor([4, 4, 4, 4, 0, 4, 4, 4, 4, 4, 4, 0, 4, 4, 4, 4, 4, 4, 4, 4, 0, 4, 4, 4,\n",
      "        4, 4, 4, 0, 4, 4, 0, 4], device='cuda:0'), data.y=tensor([2, 4, 5, 4, 5, 0, 4, 1, 0, 0, 2, 1, 4, 4, 5, 4, 4, 4, 1, 1, 5, 1, 5, 4,\n",
      "        0, 5, 4, 0, 1, 1, 0, 4], device='cuda:0')\n",
      "type(pred)=<class 'torch.Tensor'>, type(data.y)=<class 'torch.Tensor'>\n",
      "DataBatch(edge_index=[2, 120872], edge_attr=[120872, 7], y=[32], num_nodes=7820, x=[7820], batch=[7820], ptr=[33])\n",
      "pred=tensor([0, 4, 4, 4, 0, 4, 4, 4, 0, 4, 4, 4, 4, 4, 4, 4, 4, 4, 4, 4, 4, 4, 4, 4,\n",
      "        4, 4, 4, 4, 4, 4, 4, 4], device='cuda:0'), data.y=tensor([3, 1, 0, 2, 2, 3, 5, 4, 0, 5, 4, 2, 4, 4, 1, 0, 1, 4, 0, 4, 0, 4, 5, 0,\n",
      "        5, 2, 3, 0, 2, 5, 4, 0], device='cuda:0')\n",
      "type(pred)=<class 'torch.Tensor'>, type(data.y)=<class 'torch.Tensor'>\n",
      "DataBatch(edge_index=[2, 125522], edge_attr=[125522, 7], y=[32], num_nodes=6715, x=[6715], batch=[6715], ptr=[33])\n",
      "pred=tensor([0, 4, 4, 4, 4, 4, 4, 4, 4, 4, 4, 4, 4, 4, 4, 4, 0, 4, 4, 4, 4, 4, 4, 4,\n",
      "        4, 4, 4, 0, 4, 4, 4, 4], device='cuda:0'), data.y=tensor([4, 3, 4, 3, 5, 5, 5, 2, 4, 4, 3, 4, 4, 5, 5, 4, 0, 3, 5, 4, 2, 0, 1, 0,\n",
      "        4, 4, 2, 2, 1, 0, 0, 2], device='cuda:0')\n",
      "type(pred)=<class 'torch.Tensor'>, type(data.y)=<class 'torch.Tensor'>\n"
     ]
    },
    {
     "name": "stderr",
     "output_type": "stream",
     "text": [
      "Iterating eval graphs:  23%|██▎       | 8/35 [00:00<00:01, 14.20batch/s]"
     ]
    },
    {
     "name": "stdout",
     "output_type": "stream",
     "text": [
      "DataBatch(edge_index=[2, 120666], edge_attr=[120666, 7], y=[32], num_nodes=7079, x=[7079], batch=[7079], ptr=[33])\n",
      "pred=tensor([4, 4, 4, 4, 4, 4, 4, 0, 4, 4, 4, 4, 4, 4, 4, 4, 4, 4, 4, 4, 4, 4, 0, 4,\n",
      "        4, 4, 0, 4, 0, 0, 4, 4], device='cuda:0'), data.y=tensor([3, 3, 1, 1, 1, 4, 2, 2, 2, 2, 4, 2, 3, 3, 4, 3, 4, 3, 3, 5, 4, 3, 2, 3,\n",
      "        0, 2, 3, 0, 1, 1, 2, 0], device='cuda:0')\n",
      "type(pred)=<class 'torch.Tensor'>, type(data.y)=<class 'torch.Tensor'>\n",
      "DataBatch(edge_index=[2, 137498], edge_attr=[137498, 7], y=[32], num_nodes=7324, x=[7324], batch=[7324], ptr=[33])\n",
      "pred=tensor([4, 4, 0, 4, 4, 4, 4, 4, 4, 0, 4, 4, 4, 0, 4, 4, 4, 0, 4, 4, 4, 4, 0, 4,\n",
      "        0, 0, 0, 4, 0, 0, 4, 4], device='cuda:0'), data.y=tensor([0, 4, 4, 1, 0, 2, 2, 2, 4, 1, 3, 2, 1, 1, 4, 5, 2, 0, 5, 1, 5, 0, 0, 3,\n",
      "        0, 1, 1, 0, 0, 0, 4, 4], device='cuda:0')\n",
      "type(pred)=<class 'torch.Tensor'>, type(data.y)=<class 'torch.Tensor'>\n",
      "DataBatch(edge_index=[2, 137840], edge_attr=[137840, 7], y=[32], num_nodes=7719, x=[7719], batch=[7719], ptr=[33])\n",
      "pred=tensor([4, 1, 4, 4, 4, 4, 4, 4, 4, 4, 4, 4, 4, 4, 4, 4, 4, 4, 0, 4, 0, 4, 4, 4,\n",
      "        4, 4, 4, 0, 0, 4, 4, 4], device='cuda:0'), data.y=tensor([4, 1, 4, 1, 3, 4, 1, 0, 3, 3, 0, 1, 3, 4, 1, 4, 4, 0, 2, 1, 0, 5, 3, 3,\n",
      "        2, 4, 4, 0, 1, 3, 2, 4], device='cuda:0')\n",
      "type(pred)=<class 'torch.Tensor'>, type(data.y)=<class 'torch.Tensor'>\n"
     ]
    },
    {
     "name": "stderr",
     "output_type": "stream",
     "text": [
      "Iterating eval graphs:  34%|███▍      | 12/35 [00:00<00:01, 13.18batch/s]"
     ]
    },
    {
     "name": "stdout",
     "output_type": "stream",
     "text": [
      "DataBatch(edge_index=[2, 198718], edge_attr=[198718, 7], y=[32], num_nodes=8382, x=[8382], batch=[8382], ptr=[33])\n",
      "pred=tensor([0, 4, 0, 0, 0, 0, 4, 0, 4, 4, 0, 4, 4, 0, 0, 4, 4, 4, 4, 4, 4, 4, 4, 0,\n",
      "        4, 4, 4, 0, 4, 4, 4, 4], device='cuda:0'), data.y=tensor([1, 1, 2, 1, 5, 3, 3, 5, 4, 2, 0, 0, 0, 3, 3, 4, 2, 4, 2, 1, 2, 3, 4, 5,\n",
      "        4, 4, 0, 5, 4, 5, 4, 2], device='cuda:0')\n",
      "type(pred)=<class 'torch.Tensor'>, type(data.y)=<class 'torch.Tensor'>\n",
      "DataBatch(edge_index=[2, 122004], edge_attr=[122004, 7], y=[32], num_nodes=6747, x=[6747], batch=[6747], ptr=[33])\n",
      "pred=tensor([4, 4, 4, 0, 0, 4, 0, 4, 4, 4, 4, 4, 4, 4, 4, 4, 4, 4, 4, 4, 4, 0, 4, 4,\n",
      "        4, 4, 4, 4, 4, 4, 4, 4], device='cuda:0'), data.y=tensor([4, 4, 5, 4, 0, 4, 0, 5, 1, 1, 3, 4, 3, 5, 1, 4, 3, 4, 5, 2, 4, 4, 1, 4,\n",
      "        3, 2, 0, 4, 3, 4, 2, 5], device='cuda:0')\n",
      "type(pred)=<class 'torch.Tensor'>, type(data.y)=<class 'torch.Tensor'>\n",
      "DataBatch(edge_index=[2, 135852], edge_attr=[135852, 7], y=[32], num_nodes=7607, x=[7607], batch=[7607], ptr=[33])\n",
      "pred=tensor([4, 4, 4, 4, 4, 0, 4, 4, 4, 4, 4, 4, 4, 0, 4, 4, 0, 4, 4, 4, 4, 4, 4, 4,\n",
      "        4, 4, 4, 4, 4, 0, 0, 4], device='cuda:0'), data.y=tensor([4, 3, 5, 5, 5, 2, 2, 1, 3, 4, 3, 3, 3, 0, 1, 1, 0, 1, 2, 1, 0, 4, 3, 3,\n",
      "        2, 2, 0, 2, 1, 0, 1, 0], device='cuda:0')\n",
      "type(pred)=<class 'torch.Tensor'>, type(data.y)=<class 'torch.Tensor'>\n"
     ]
    },
    {
     "name": "stderr",
     "output_type": "stream",
     "text": [
      "Iterating eval graphs:  40%|████      | 14/35 [00:01<00:01, 12.94batch/s]"
     ]
    },
    {
     "name": "stdout",
     "output_type": "stream",
     "text": [
      "DataBatch(edge_index=[2, 139278], edge_attr=[139278, 7], y=[32], num_nodes=7386, x=[7386], batch=[7386], ptr=[33])\n",
      "pred=tensor([4, 4, 4, 4, 4, 0, 0, 4, 4, 4, 4, 4, 4, 4, 0, 0, 4, 4, 4, 4, 4, 0, 4, 0,\n",
      "        4, 4, 4, 0, 4, 4, 4, 4], device='cuda:0'), data.y=tensor([1, 0, 4, 5, 1, 5, 1, 1, 2, 0, 4, 2, 2, 4, 1, 0, 1, 5, 4, 4, 3, 0, 4, 4,\n",
      "        0, 2, 0, 3, 3, 1, 0, 3], device='cuda:0')\n",
      "type(pred)=<class 'torch.Tensor'>, type(data.y)=<class 'torch.Tensor'>\n",
      "DataBatch(edge_index=[2, 149492], edge_attr=[149492, 7], y=[32], num_nodes=7921, x=[7921], batch=[7921], ptr=[33])\n",
      "pred=tensor([4, 0, 4, 4, 4, 4, 4, 4, 4, 0, 4, 4, 4, 4, 4, 4, 4, 4, 0, 4, 4, 4, 0, 4,\n",
      "        4, 4, 4, 4, 4, 4, 4, 4], device='cuda:0'), data.y=tensor([1, 5, 0, 3, 1, 1, 1, 1, 2, 3, 4, 2, 4, 0, 3, 4, 1, 3, 0, 3, 2, 4, 1, 3,\n",
      "        4, 2, 5, 5, 1, 3, 0, 4], device='cuda:0')\n",
      "type(pred)=<class 'torch.Tensor'>, type(data.y)=<class 'torch.Tensor'>\n",
      "DataBatch(edge_index=[2, 138360], edge_attr=[138360, 7], y=[32], num_nodes=7638, x=[7638], batch=[7638], ptr=[33])\n",
      "pred=tensor([4, 4, 4, 4, 4, 4, 4, 4, 0, 4, 0, 0, 4, 4, 0, 4, 4, 4, 4, 4, 4, 4, 4, 4,\n",
      "        4, 4, 4, 0, 4, 4, 0, 4], device='cuda:0'), data.y=tensor([3, 3, 1, 1, 1, 1, 5, 2, 2, 2, 4, 0, 0, 3, 2, 3, 2, 4, 1, 5, 4, 3, 2, 4,\n",
      "        4, 1, 4, 3, 3, 3, 5, 0], device='cuda:0')\n",
      "type(pred)=<class 'torch.Tensor'>, type(data.y)=<class 'torch.Tensor'>\n"
     ]
    },
    {
     "name": "stderr",
     "output_type": "stream",
     "text": [
      "Iterating eval graphs:  51%|█████▏    | 18/35 [00:01<00:01, 13.27batch/s]"
     ]
    },
    {
     "name": "stdout",
     "output_type": "stream",
     "text": [
      "DataBatch(edge_index=[2, 133568], edge_attr=[133568, 7], y=[32], num_nodes=7365, x=[7365], batch=[7365], ptr=[33])\n",
      "pred=tensor([4, 4, 4, 4, 4, 0, 4, 4, 4, 4, 0, 4, 4, 4, 0, 4, 4, 4, 4, 0, 4, 4, 4, 4,\n",
      "        4, 0, 4, 4, 4, 0, 4, 4], device='cuda:0'), data.y=tensor([4, 4, 5, 4, 2, 0, 5, 1, 2, 4, 3, 5, 1, 5, 4, 1, 0, 4, 5, 0, 2, 5, 1, 4,\n",
      "        4, 2, 2, 1, 4, 3, 5, 4], device='cuda:0')\n",
      "type(pred)=<class 'torch.Tensor'>, type(data.y)=<class 'torch.Tensor'>\n",
      "DataBatch(edge_index=[2, 118182], edge_attr=[118182, 7], y=[32], num_nodes=7006, x=[7006], batch=[7006], ptr=[33])\n",
      "pred=tensor([4, 4, 4, 4, 4, 4, 4, 0, 4, 4, 0, 4, 0, 0, 4, 4, 4, 4, 4, 4, 4, 4, 4, 4,\n",
      "        4, 0, 4, 4, 4, 4, 0, 4], device='cuda:0'), data.y=tensor([2, 5, 1, 1, 4, 4, 1, 5, 1, 2, 0, 2, 2, 0, 5, 4, 1, 4, 4, 4, 4, 5, 4, 4,\n",
      "        1, 3, 4, 2, 4, 4, 3, 1], device='cuda:0')\n",
      "type(pred)=<class 'torch.Tensor'>, type(data.y)=<class 'torch.Tensor'>\n",
      "DataBatch(edge_index=[2, 144366], edge_attr=[144366, 7], y=[32], num_nodes=7705, x=[7705], batch=[7705], ptr=[33])\n",
      "pred=tensor([0, 4, 4, 4, 0, 0, 4, 4, 4, 4, 4, 4, 4, 4, 4, 4, 0, 4, 4, 4, 4, 4, 4, 0,\n",
      "        0, 4, 4, 4, 0, 4, 4, 4], device='cuda:0'), data.y=tensor([0, 4, 0, 1, 0, 0, 4, 1, 1, 2, 4, 4, 2, 0, 5, 1, 1, 5, 1, 4, 0, 4, 2, 3,\n",
      "        3, 3, 1, 1, 1, 1, 3, 4], device='cuda:0')\n",
      "type(pred)=<class 'torch.Tensor'>, type(data.y)=<class 'torch.Tensor'>\n"
     ]
    },
    {
     "name": "stderr",
     "output_type": "stream",
     "text": [
      "Iterating eval graphs:  57%|█████▋    | 20/35 [00:01<00:01, 12.91batch/s]"
     ]
    },
    {
     "name": "stdout",
     "output_type": "stream",
     "text": [
      "DataBatch(edge_index=[2, 140508], edge_attr=[140508, 7], y=[32], num_nodes=6848, x=[6848], batch=[6848], ptr=[33])\n",
      "pred=tensor([4, 4, 0, 4, 1, 0, 0, 4, 4, 0, 4, 0, 0, 4, 4, 4, 1, 4, 4, 4, 4, 4, 4, 4,\n",
      "        4, 4, 0, 4, 4, 0, 4, 4], device='cuda:0'), data.y=tensor([3, 3, 0, 1, 1, 3, 1, 3, 2, 4, 5, 0, 3, 3, 4, 0, 2, 5, 3, 1, 0, 5, 0, 5,\n",
      "        2, 2, 3, 2, 4, 0, 2, 4], device='cuda:0')\n",
      "type(pred)=<class 'torch.Tensor'>, type(data.y)=<class 'torch.Tensor'>\n",
      "DataBatch(edge_index=[2, 159828], edge_attr=[159828, 7], y=[32], num_nodes=8428, x=[8428], batch=[8428], ptr=[33])\n",
      "pred=tensor([4, 4, 4, 0, 0, 4, 4, 4, 0, 4, 0, 4, 4, 4, 4, 4, 4, 0, 4, 4, 4, 4, 4, 0,\n",
      "        4, 4, 4, 0, 4, 4, 0, 4], device='cuda:0'), data.y=tensor([5, 0, 0, 2, 0, 4, 4, 3, 1, 5, 5, 3, 0, 5, 0, 0, 1, 0, 2, 5, 4, 5, 1, 5,\n",
      "        1, 3, 4, 1, 1, 2, 3, 1], device='cuda:0')\n",
      "type(pred)=<class 'torch.Tensor'>, type(data.y)=<class 'torch.Tensor'>\n",
      "DataBatch(edge_index=[2, 136874], edge_attr=[136874, 7], y=[32], num_nodes=6771, x=[6771], batch=[6771], ptr=[33])\n",
      "pred=tensor([4, 4, 4, 4, 4, 4, 4, 4, 4, 0, 0, 4, 4, 4, 4, 4, 4, 4, 4, 4, 4, 4, 4, 4,\n",
      "        4, 4, 0, 4, 0, 4, 0, 4], device='cuda:0'), data.y=tensor([3, 4, 1, 4, 4, 0, 4, 0, 3, 2, 0, 0, 4, 3, 1, 0, 1, 0, 1, 3, 1, 1, 0, 2,\n",
      "        4, 1, 3, 1, 2, 5, 0, 1], device='cuda:0')\n",
      "type(pred)=<class 'torch.Tensor'>, type(data.y)=<class 'torch.Tensor'>\n"
     ]
    },
    {
     "name": "stderr",
     "output_type": "stream",
     "text": [
      "Iterating eval graphs:  69%|██████▊   | 24/35 [00:01<00:00, 12.97batch/s]"
     ]
    },
    {
     "name": "stdout",
     "output_type": "stream",
     "text": [
      "DataBatch(edge_index=[2, 171060], edge_attr=[171060, 7], y=[32], num_nodes=8260, x=[8260], batch=[8260], ptr=[33])\n",
      "pred=tensor([0, 4, 4, 0, 0, 4, 4, 4, 0, 4, 4, 4, 4, 4, 4, 4, 4, 4, 0, 0, 4, 0, 4, 4,\n",
      "        4, 4, 0, 4, 4, 4, 4, 4], device='cuda:0'), data.y=tensor([5, 3, 3, 0, 1, 4, 4, 2, 1, 4, 5, 5, 1, 5, 5, 3, 2, 3, 0, 0, 0, 3, 4, 4,\n",
      "        5, 4, 2, 3, 4, 1, 1, 2], device='cuda:0')\n",
      "type(pred)=<class 'torch.Tensor'>, type(data.y)=<class 'torch.Tensor'>\n",
      "DataBatch(edge_index=[2, 136498], edge_attr=[136498, 7], y=[32], num_nodes=7887, x=[7887], batch=[7887], ptr=[33])\n",
      "pred=tensor([4, 4, 4, 0, 4, 0, 4, 4, 4, 4, 4, 4, 0, 4, 4, 0, 4, 4, 4, 0, 4, 0, 4, 4,\n",
      "        4, 4, 0, 4, 4, 4, 4, 4], device='cuda:0'), data.y=tensor([2, 4, 4, 0, 4, 5, 4, 1, 4, 2, 3, 1, 2, 1, 1, 4, 0, 3, 0, 0, 3, 3, 2, 0,\n",
      "        4, 0, 4, 1, 3, 3, 4, 0], device='cuda:0')\n",
      "type(pred)=<class 'torch.Tensor'>, type(data.y)=<class 'torch.Tensor'>\n",
      "DataBatch(edge_index=[2, 126350], edge_attr=[126350, 7], y=[32], num_nodes=6480, x=[6480], batch=[6480], ptr=[33])\n",
      "pred=tensor([4, 4, 4, 4, 4, 4, 4, 4, 4, 4, 4, 4, 0, 0, 4, 4, 4, 4, 4, 0, 4, 4, 0, 4,\n",
      "        4, 0, 4, 4, 4, 4, 4, 0], device='cuda:0'), data.y=tensor([3, 5, 3, 3, 4, 3, 0, 1, 3, 1, 2, 3, 0, 3, 4, 2, 1, 4, 0, 5, 4, 1, 3, 4,\n",
      "        1, 0, 0, 1, 0, 2, 5, 3], device='cuda:0')\n",
      "type(pred)=<class 'torch.Tensor'>, type(data.y)=<class 'torch.Tensor'>\n"
     ]
    },
    {
     "name": "stderr",
     "output_type": "stream",
     "text": [
      "Iterating eval graphs:  74%|███████▍  | 26/35 [00:01<00:00, 12.60batch/s]"
     ]
    },
    {
     "name": "stdout",
     "output_type": "stream",
     "text": [
      "DataBatch(edge_index=[2, 152242], edge_attr=[152242, 7], y=[32], num_nodes=7983, x=[7983], batch=[7983], ptr=[33])\n",
      "pred=tensor([4, 4, 4, 4, 4, 0, 4, 0, 4, 4, 4, 4, 4, 0, 4, 4, 0, 0, 4, 4, 0, 4, 4, 4,\n",
      "        4, 4, 0, 4, 4, 4, 4, 4], device='cuda:0'), data.y=tensor([1, 4, 1, 1, 0, 2, 3, 0, 1, 4, 2, 1, 1, 0, 2, 0, 4, 0, 2, 0, 0, 1, 3, 4,\n",
      "        0, 4, 4, 1, 1, 4, 5, 0], device='cuda:0')\n",
      "type(pred)=<class 'torch.Tensor'>, type(data.y)=<class 'torch.Tensor'>\n",
      "DataBatch(edge_index=[2, 156674], edge_attr=[156674, 7], y=[32], num_nodes=7784, x=[7784], batch=[7784], ptr=[33])\n",
      "pred=tensor([4, 4, 0, 4, 4, 4, 0, 0, 0, 4, 4, 4, 4, 4, 4, 4, 4, 4, 4, 4, 4, 4, 4, 4,\n",
      "        0, 4, 4, 4, 4, 4, 4, 4], device='cuda:0'), data.y=tensor([5, 2, 5, 0, 4, 0, 5, 2, 1, 2, 3, 1, 1, 2, 3, 3, 1, 4, 1, 2, 4, 2, 5, 1,\n",
      "        4, 3, 2, 0, 0, 2, 5, 5], device='cuda:0')\n",
      "type(pred)=<class 'torch.Tensor'>, type(data.y)=<class 'torch.Tensor'>\n",
      "DataBatch(edge_index=[2, 151204], edge_attr=[151204, 7], y=[32], num_nodes=7305, x=[7305], batch=[7305], ptr=[33])\n",
      "pred=tensor([4, 4, 0, 4, 0, 4, 0, 4, 0, 4, 4, 0, 0, 0, 4, 0, 4, 4, 0, 0, 4, 0, 4, 4,\n",
      "        0, 4, 4, 4, 4, 4, 4, 4], device='cuda:0'), data.y=tensor([1, 4, 2, 3, 0, 3, 5, 2, 1, 4, 0, 0, 3, 2, 3, 3, 1, 2, 2, 1, 1, 5, 3, 2,\n",
      "        4, 1, 3, 2, 3, 2, 2, 2], device='cuda:0')\n",
      "type(pred)=<class 'torch.Tensor'>, type(data.y)=<class 'torch.Tensor'>\n"
     ]
    },
    {
     "name": "stderr",
     "output_type": "stream",
     "text": [
      "Iterating eval graphs:  86%|████████▌ | 30/35 [00:04<00:01,  3.28batch/s]"
     ]
    },
    {
     "name": "stdout",
     "output_type": "stream",
     "text": [
      "DataBatch(edge_index=[2, 139872], edge_attr=[139872, 7], y=[32], num_nodes=7363, x=[7363], batch=[7363], ptr=[33])\n",
      "pred=tensor([4, 4, 4, 0, 4, 4, 4, 1, 0, 4, 4, 4, 0, 4, 4, 4, 4, 4, 4, 4, 4, 0, 4, 4,\n",
      "        4, 0, 4, 0, 4, 0, 4, 4], device='cuda:0'), data.y=tensor([4, 4, 4, 0, 4, 3, 4, 5, 0, 4, 3, 3, 5, 3, 4, 5, 5, 2, 3, 4, 3, 0, 5, 4,\n",
      "        3, 1, 3, 4, 3, 0, 2, 4], device='cuda:0')\n",
      "type(pred)=<class 'torch.Tensor'>, type(data.y)=<class 'torch.Tensor'>\n",
      "DataBatch(edge_index=[2, 133850], edge_attr=[133850, 7], y=[32], num_nodes=7706, x=[7706], batch=[7706], ptr=[33])\n",
      "pred=tensor([4, 4, 4, 4, 4, 4, 1, 0, 4, 4, 0, 4, 4, 4, 4, 4, 4, 4, 0, 4, 4, 0, 4, 4,\n",
      "        4, 4, 0, 4, 4, 0, 0, 4], device='cuda:0'), data.y=tensor([4, 1, 3, 2, 4, 0, 1, 0, 0, 1, 4, 3, 2, 3, 1, 5, 4, 2, 3, 4, 4, 2, 1, 4,\n",
      "        4, 4, 1, 1, 4, 5, 4, 4], device='cuda:0')\n",
      "type(pred)=<class 'torch.Tensor'>, type(data.y)=<class 'torch.Tensor'>\n",
      "DataBatch(edge_index=[2, 129794], edge_attr=[129794, 7], y=[32], num_nodes=6955, x=[6955], batch=[6955], ptr=[33])\n",
      "pred=tensor([4, 4, 4, 4, 0, 4, 4, 0, 4, 0, 0, 4, 4, 4, 4, 4, 4, 4, 4, 0, 4, 4, 4, 0,\n",
      "        4, 0, 4, 4, 4, 4, 4, 4], device='cuda:0'), data.y=tensor([1, 0, 4, 3, 1, 0, 3, 5, 4, 4, 0, 4, 0, 4, 4, 0, 4, 4, 1, 3, 4, 1, 3, 0,\n",
      "        4, 4, 4, 2, 3, 5, 4, 1], device='cuda:0')\n",
      "type(pred)=<class 'torch.Tensor'>, type(data.y)=<class 'torch.Tensor'>\n"
     ]
    },
    {
     "name": "stderr",
     "output_type": "stream",
     "text": [
      "Iterating eval graphs:  91%|█████████▏| 32/35 [00:04<00:00,  4.24batch/s]"
     ]
    },
    {
     "name": "stdout",
     "output_type": "stream",
     "text": [
      "DataBatch(edge_index=[2, 154384], edge_attr=[154384, 7], y=[32], num_nodes=8229, x=[8229], batch=[8229], ptr=[33])\n",
      "pred=tensor([4, 0, 4, 4, 4, 0, 4, 4, 4, 4, 4, 4, 4, 4, 4, 4, 0, 4, 4, 4, 0, 4, 4, 4,\n",
      "        0, 4, 4, 4, 4, 0, 4, 4], device='cuda:0'), data.y=tensor([4, 3, 0, 3, 5, 1, 1, 1, 5, 3, 0, 1, 5, 4, 4, 3, 2, 4, 2, 2, 3, 5, 3, 0,\n",
      "        0, 4, 3, 4, 3, 3, 4, 2], device='cuda:0')\n",
      "type(pred)=<class 'torch.Tensor'>, type(data.y)=<class 'torch.Tensor'>\n",
      "DataBatch(edge_index=[2, 118838], edge_attr=[118838, 7], y=[32], num_nodes=6812, x=[6812], batch=[6812], ptr=[33])\n",
      "pred=tensor([4, 4, 4, 4, 4, 4, 0, 4, 4, 4, 4, 4, 0, 4, 4, 4, 4, 4, 4, 4, 4, 4, 4, 4,\n",
      "        4, 4, 0, 0, 4, 4, 4, 4], device='cuda:0'), data.y=tensor([3, 4, 0, 0, 4, 2, 5, 2, 4, 1, 3, 1, 1, 1, 3, 0, 2, 2, 4, 2, 0, 5, 1, 3,\n",
      "        4, 4, 2, 1, 1, 3, 4, 5], device='cuda:0')\n",
      "type(pred)=<class 'torch.Tensor'>, type(data.y)=<class 'torch.Tensor'>\n",
      "DataBatch(edge_index=[2, 153150], edge_attr=[153150, 7], y=[32], num_nodes=7683, x=[7683], batch=[7683], ptr=[33])\n",
      "pred=tensor([4, 4, 4, 4, 4, 4, 4, 4, 1, 0, 4, 4, 4, 4, 4, 0, 4, 0, 4, 0, 0, 4, 4, 4,\n",
      "        4, 4, 0, 4, 4, 4, 4, 4], device='cuda:0'), data.y=tensor([2, 2, 4, 3, 1, 3, 3, 1, 3, 0, 5, 1, 3, 4, 4, 0, 4, 3, 4, 2, 2, 4, 4, 3,\n",
      "        2, 4, 0, 0, 3, 1, 4, 5], device='cuda:0')\n",
      "type(pred)=<class 'torch.Tensor'>, type(data.y)=<class 'torch.Tensor'>\n"
     ]
    },
    {
     "name": "stderr",
     "output_type": "stream",
     "text": [
      "Iterating eval graphs: 100%|██████████| 35/35 [00:04<00:00,  7.21batch/s]\n",
      "Epoch 1/10, Loss: 1.7769, Train Acc: 0.2663, Val Acc: 0.2812\n",
      "Epoch 1/10, Loss: 1.7769, Train Acc: 0.2663, Val Acc: 0.2812\n",
      "Epoch 1/10, Loss: 1.7769, Train Acc: 0.2663, Val Acc: 0.2812\n",
      "Epoch 1/10, Loss: 1.7769, Train Acc: 0.2663, Val Acc: 0.2812\n",
      "Epoch 1/10, Loss: 1.7769, Train Acc: 0.2663, Val Acc: 0.2812\n"
     ]
    },
    {
     "name": "stdout",
     "output_type": "stream",
     "text": [
      "DataBatch(edge_index=[2, 158418], edge_attr=[158418, 7], y=[32], num_nodes=8101, x=[8101], batch=[8101], ptr=[33])\n",
      "pred=tensor([1, 4, 0, 4, 4, 4, 4, 4, 4, 1, 4, 0, 4, 0, 4, 4, 4, 4, 4, 4, 4, 0, 0, 4,\n",
      "        4, 4, 4, 4, 4, 4, 0, 4], device='cuda:0'), data.y=tensor([1, 2, 1, 5, 3, 4, 4, 2, 0, 5, 4, 4, 4, 2, 3, 0, 4, 4, 2, 4, 0, 0, 4, 0,\n",
      "        2, 0, 4, 4, 4, 4, 5, 3], device='cuda:0')\n",
      "type(pred)=<class 'torch.Tensor'>, type(data.y)=<class 'torch.Tensor'>\n",
      "DataBatch(edge_index=[2, 145944], edge_attr=[145944, 7], y=[32], num_nodes=8005, x=[8005], batch=[8005], ptr=[33])\n",
      "pred=tensor([4, 4, 4, 4, 4, 4, 4, 4, 0, 4, 0, 0, 4, 4, 4, 4, 4, 4, 4, 4, 0, 4, 4, 4,\n",
      "        4, 0, 4, 4, 4, 4, 4, 4], device='cuda:0'), data.y=tensor([0, 3, 4, 4, 4, 5, 0, 1, 2, 3, 1, 4, 1, 0, 5, 0, 3, 3, 5, 4, 5, 2, 4, 1,\n",
      "        1, 0, 4, 4, 5, 4, 2, 5], device='cuda:0')\n",
      "type(pred)=<class 'torch.Tensor'>, type(data.y)=<class 'torch.Tensor'>\n",
      "Epoch 1/10, Loss: 1.7769, Train Acc: 0.2663, Val Acc: 0.2812\n",
      "Best model updated and saved at /home/haislich/Documents/noisy_labels/hackaton/checkpoints/model_B_best.pth\n"
     ]
    },
    {
     "name": "stderr",
     "output_type": "stream",
     "text": [
      "Iterating training graphs: 100%|██████████| 140/140 [00:13<00:00, 10.28batch/s]\n",
      "Iterating eval graphs:   6%|▌         | 2/35 [00:00<00:02, 14.33batch/s]"
     ]
    },
    {
     "name": "stdout",
     "output_type": "stream",
     "text": [
      "DataBatch(edge_index=[2, 135416], edge_attr=[135416, 7], y=[32], num_nodes=7817, x=[7817], batch=[7817], ptr=[33])\n",
      "pred=tensor([4, 4, 4, 1, 4, 4, 4, 4, 4, 1, 4, 4, 4, 4, 0, 4, 4, 4, 0, 4, 3, 4, 4, 4,\n",
      "        4, 0, 0, 4, 0, 4, 4, 4], device='cuda:0'), data.y=tensor([4, 0, 1, 1, 2, 4, 4, 3, 1, 4, 4, 0, 5, 3, 0, 2, 3, 1, 0, 4, 1, 4, 5, 3,\n",
      "        0, 2, 0, 4, 1, 5, 0, 3], device='cuda:0')\n",
      "type(pred)=<class 'torch.Tensor'>, type(data.y)=<class 'torch.Tensor'>\n",
      "DataBatch(edge_index=[2, 121262], edge_attr=[121262, 7], y=[32], num_nodes=6966, x=[6966], batch=[6966], ptr=[33])\n",
      "pred=tensor([4, 4, 4, 4, 4, 4, 4, 4, 4, 4, 0, 4, 4, 4, 4, 4, 3, 4, 4, 0, 4, 4, 4, 4,\n",
      "        4, 4, 4, 4, 4, 4, 4, 4], device='cuda:0'), data.y=tensor([2, 0, 5, 2, 4, 4, 1, 5, 2, 4, 0, 1, 3, 5, 3, 3, 1, 1, 1, 3, 5, 5, 4, 5,\n",
      "        2, 3, 4, 0, 4, 1, 4, 1], device='cuda:0')\n",
      "type(pred)=<class 'torch.Tensor'>, type(data.y)=<class 'torch.Tensor'>\n",
      "DataBatch(edge_index=[2, 144698], edge_attr=[144698, 7], y=[32], num_nodes=7569, x=[7569], batch=[7569], ptr=[33])\n",
      "pred=tensor([0, 4, 4, 4, 0, 4, 4, 4, 4, 4, 4, 4, 3, 4, 4, 0, 4, 4, 0, 4, 4, 4, 4, 4,\n",
      "        0, 4, 4, 4, 1, 4, 4, 0], device='cuda:0'), data.y=tensor([2, 0, 4, 5, 3, 2, 4, 0, 0, 4, 4, 4, 3, 0, 0, 5, 4, 3, 3, 2, 5, 4, 2, 0,\n",
      "        1, 4, 3, 5, 5, 1, 5, 0], device='cuda:0')\n",
      "type(pred)=<class 'torch.Tensor'>, type(data.y)=<class 'torch.Tensor'>\n"
     ]
    },
    {
     "name": "stderr",
     "output_type": "stream",
     "text": [
      "Iterating eval graphs:  17%|█▋        | 6/35 [00:00<00:02, 14.40batch/s]"
     ]
    },
    {
     "name": "stdout",
     "output_type": "stream",
     "text": [
      "DataBatch(edge_index=[2, 127950], edge_attr=[127950, 7], y=[32], num_nodes=7645, x=[7645], batch=[7645], ptr=[33])\n",
      "pred=tensor([4, 4, 4, 4, 0, 4, 4, 4, 4, 0, 4, 0, 0, 4, 0, 4, 4, 4, 4, 4, 0, 4, 4, 4,\n",
      "        4, 4, 4, 0, 4, 4, 0, 4], device='cuda:0'), data.y=tensor([2, 4, 5, 4, 5, 0, 4, 1, 0, 0, 2, 1, 4, 4, 5, 4, 4, 4, 1, 1, 5, 1, 5, 4,\n",
      "        0, 5, 4, 0, 1, 1, 0, 4], device='cuda:0')\n",
      "type(pred)=<class 'torch.Tensor'>, type(data.y)=<class 'torch.Tensor'>\n",
      "DataBatch(edge_index=[2, 120872], edge_attr=[120872, 7], y=[32], num_nodes=7820, x=[7820], batch=[7820], ptr=[33])\n",
      "pred=tensor([3, 4, 4, 4, 1, 4, 4, 4, 0, 4, 4, 4, 4, 4, 4, 0, 4, 0, 4, 4, 4, 4, 4, 4,\n",
      "        4, 4, 4, 4, 4, 0, 4, 0], device='cuda:0'), data.y=tensor([3, 1, 0, 2, 2, 3, 5, 4, 0, 5, 4, 2, 4, 4, 1, 0, 1, 4, 0, 4, 0, 4, 5, 0,\n",
      "        5, 2, 3, 0, 2, 5, 4, 0], device='cuda:0')\n",
      "type(pred)=<class 'torch.Tensor'>, type(data.y)=<class 'torch.Tensor'>\n",
      "DataBatch(edge_index=[2, 125522], edge_attr=[125522, 7], y=[32], num_nodes=6715, x=[6715], batch=[6715], ptr=[33])\n",
      "pred=tensor([3, 4, 4, 4, 4, 0, 4, 4, 4, 4, 4, 4, 4, 4, 4, 4, 3, 4, 4, 4, 4, 4, 4, 0,\n",
      "        4, 4, 4, 3, 0, 4, 0, 4], device='cuda:0'), data.y=tensor([4, 3, 4, 3, 5, 5, 5, 2, 4, 4, 3, 4, 4, 5, 5, 4, 0, 3, 5, 4, 2, 0, 1, 0,\n",
      "        4, 4, 2, 2, 1, 0, 0, 2], device='cuda:0')\n",
      "type(pred)=<class 'torch.Tensor'>, type(data.y)=<class 'torch.Tensor'>\n",
      "DataBatch(edge_index=[2, 120666], edge_attr=[120666, 7], y=[32], num_nodes=7079, x=[7079], batch=[7079], ptr=[33])\n"
     ]
    },
    {
     "name": "stderr",
     "output_type": "stream",
     "text": [
      "Iterating eval graphs:  23%|██▎       | 8/35 [00:00<00:01, 14.46batch/s]"
     ]
    },
    {
     "name": "stdout",
     "output_type": "stream",
     "text": [
      "pred=tensor([4, 4, 4, 4, 4, 4, 4, 0, 4, 4, 4, 4, 4, 4, 4, 4, 4, 4, 4, 4, 4, 4, 3, 4,\n",
      "        4, 4, 0, 4, 1, 4, 4, 4], device='cuda:0'), data.y=tensor([3, 3, 1, 1, 1, 4, 2, 2, 2, 2, 4, 2, 3, 3, 4, 3, 4, 3, 3, 5, 4, 3, 2, 3,\n",
      "        0, 2, 3, 0, 1, 1, 2, 0], device='cuda:0')\n",
      "type(pred)=<class 'torch.Tensor'>, type(data.y)=<class 'torch.Tensor'>\n",
      "DataBatch(edge_index=[2, 137498], edge_attr=[137498, 7], y=[32], num_nodes=7324, x=[7324], batch=[7324], ptr=[33])\n",
      "pred=tensor([0, 4, 0, 0, 4, 4, 4, 4, 4, 0, 4, 4, 1, 0, 4, 4, 4, 0, 4, 4, 4, 4, 0, 0,\n",
      "        0, 1, 0, 0, 0, 0, 4, 4], device='cuda:0'), data.y=tensor([0, 4, 4, 1, 0, 2, 2, 2, 4, 1, 3, 2, 1, 1, 4, 5, 2, 0, 5, 1, 5, 0, 0, 3,\n",
      "        0, 1, 1, 0, 0, 0, 4, 4], device='cuda:0')\n",
      "type(pred)=<class 'torch.Tensor'>, type(data.y)=<class 'torch.Tensor'>\n",
      "DataBatch(edge_index=[2, 137840], edge_attr=[137840, 7], y=[32], num_nodes=7719, x=[7719], batch=[7719], ptr=[33])\n",
      "pred=tensor([4, 1, 4, 4, 4, 0, 4, 4, 4, 0, 4, 4, 0, 4, 4, 4, 4, 4, 0, 4, 3, 4, 4, 4,\n",
      "        4, 4, 4, 0, 0, 4, 4, 4], device='cuda:0'), data.y=tensor([4, 1, 4, 1, 3, 4, 1, 0, 3, 3, 0, 1, 3, 4, 1, 4, 4, 0, 2, 1, 0, 5, 3, 3,\n",
      "        2, 4, 4, 0, 1, 3, 2, 4], device='cuda:0')\n",
      "type(pred)=<class 'torch.Tensor'>, type(data.y)=<class 'torch.Tensor'>\n"
     ]
    },
    {
     "name": "stderr",
     "output_type": "stream",
     "text": [
      "Iterating eval graphs:  34%|███▍      | 12/35 [00:00<00:01, 13.30batch/s]"
     ]
    },
    {
     "name": "stdout",
     "output_type": "stream",
     "text": [
      "DataBatch(edge_index=[2, 198718], edge_attr=[198718, 7], y=[32], num_nodes=8382, x=[8382], batch=[8382], ptr=[33])\n",
      "pred=tensor([1, 0, 3, 3, 0, 0, 4, 0, 4, 4, 0, 0, 3, 3, 3, 4, 0, 4, 4, 4, 0, 4, 4, 3,\n",
      "        4, 4, 0, 3, 4, 0, 4, 4], device='cuda:0'), data.y=tensor([1, 1, 2, 1, 5, 3, 3, 5, 4, 2, 0, 0, 0, 3, 3, 4, 2, 4, 2, 1, 2, 3, 4, 5,\n",
      "        4, 4, 0, 5, 4, 5, 4, 2], device='cuda:0')\n",
      "type(pred)=<class 'torch.Tensor'>, type(data.y)=<class 'torch.Tensor'>\n",
      "DataBatch(edge_index=[2, 122004], edge_attr=[122004, 7], y=[32], num_nodes=6747, x=[6747], batch=[6747], ptr=[33])\n",
      "pred=tensor([4, 4, 4, 0, 3, 4, 4, 0, 4, 4, 4, 0, 4, 0, 4, 0, 4, 4, 4, 4, 1, 0, 0, 4,\n",
      "        4, 4, 0, 4, 4, 4, 4, 4], device='cuda:0'), data.y=tensor([4, 4, 5, 4, 0, 4, 0, 5, 1, 1, 3, 4, 3, 5, 1, 4, 3, 4, 5, 2, 4, 4, 1, 4,\n",
      "        3, 2, 0, 4, 3, 4, 2, 5], device='cuda:0')\n",
      "type(pred)=<class 'torch.Tensor'>, type(data.y)=<class 'torch.Tensor'>\n",
      "DataBatch(edge_index=[2, 135852], edge_attr=[135852, 7], y=[32], num_nodes=7607, x=[7607], batch=[7607], ptr=[33])\n",
      "pred=tensor([4, 4, 0, 4, 4, 4, 4, 4, 4, 4, 4, 4, 0, 4, 4, 4, 0, 4, 4, 0, 4, 4, 4, 4,\n",
      "        4, 4, 0, 0, 4, 3, 3, 0], device='cuda:0'), data.y=tensor([4, 3, 5, 5, 5, 2, 2, 1, 3, 4, 3, 3, 3, 0, 1, 1, 0, 1, 2, 1, 0, 4, 3, 3,\n",
      "        2, 2, 0, 2, 1, 0, 1, 0], device='cuda:0')\n",
      "type(pred)=<class 'torch.Tensor'>, type(data.y)=<class 'torch.Tensor'>\n"
     ]
    },
    {
     "name": "stderr",
     "output_type": "stream",
     "text": [
      "Iterating eval graphs:  40%|████      | 14/35 [00:01<00:01, 13.12batch/s]"
     ]
    },
    {
     "name": "stdout",
     "output_type": "stream",
     "text": [
      "DataBatch(edge_index=[2, 139278], edge_attr=[139278, 7], y=[32], num_nodes=7386, x=[7386], batch=[7386], ptr=[33])\n",
      "pred=tensor([4, 4, 4, 4, 4, 3, 0, 4, 4, 0, 4, 4, 4, 4, 0, 0, 4, 0, 4, 4, 4, 0, 4, 3,\n",
      "        4, 4, 4, 3, 4, 4, 0, 4], device='cuda:0'), data.y=tensor([1, 0, 4, 5, 1, 5, 1, 1, 2, 0, 4, 2, 2, 4, 1, 0, 1, 5, 4, 4, 3, 0, 4, 4,\n",
      "        0, 2, 0, 3, 3, 1, 0, 3], device='cuda:0')\n",
      "type(pred)=<class 'torch.Tensor'>, type(data.y)=<class 'torch.Tensor'>\n",
      "DataBatch(edge_index=[2, 149492], edge_attr=[149492, 7], y=[32], num_nodes=7921, x=[7921], batch=[7921], ptr=[33])\n",
      "pred=tensor([4, 3, 4, 4, 4, 4, 1, 4, 0, 0, 4, 0, 4, 4, 4, 4, 4, 4, 0, 4, 4, 0, 3, 4,\n",
      "        4, 4, 4, 4, 4, 0, 4, 4], device='cuda:0'), data.y=tensor([1, 5, 0, 3, 1, 1, 1, 1, 2, 3, 4, 2, 4, 0, 3, 4, 1, 3, 0, 3, 2, 4, 1, 3,\n",
      "        4, 2, 5, 5, 1, 3, 0, 4], device='cuda:0')\n",
      "type(pred)=<class 'torch.Tensor'>, type(data.y)=<class 'torch.Tensor'>\n",
      "DataBatch(edge_index=[2, 138360], edge_attr=[138360, 7], y=[32], num_nodes=7638, x=[7638], batch=[7638], ptr=[33])\n",
      "pred=tensor([4, 4, 4, 4, 0, 4, 4, 4, 3, 0, 0, 4, 4, 4, 1, 4, 4, 4, 4, 4, 4, 4, 0, 4,\n",
      "        4, 4, 0, 3, 4, 4, 3, 4], device='cuda:0'), data.y=tensor([3, 3, 1, 1, 1, 1, 5, 2, 2, 2, 4, 0, 0, 3, 2, 3, 2, 4, 1, 5, 4, 3, 2, 4,\n",
      "        4, 1, 4, 3, 3, 3, 5, 0], device='cuda:0')\n",
      "type(pred)=<class 'torch.Tensor'>, type(data.y)=<class 'torch.Tensor'>\n"
     ]
    },
    {
     "name": "stderr",
     "output_type": "stream",
     "text": [
      "Iterating eval graphs:  51%|█████▏    | 18/35 [00:01<00:01, 13.31batch/s]"
     ]
    },
    {
     "name": "stdout",
     "output_type": "stream",
     "text": [
      "DataBatch(edge_index=[2, 133568], edge_attr=[133568, 7], y=[32], num_nodes=7365, x=[7365], batch=[7365], ptr=[33])\n",
      "pred=tensor([4, 4, 4, 4, 4, 3, 4, 4, 4, 4, 0, 4, 4, 4, 0, 0, 4, 4, 4, 0, 4, 4, 4, 4,\n",
      "        4, 3, 4, 4, 4, 3, 4, 4], device='cuda:0'), data.y=tensor([4, 4, 5, 4, 2, 0, 5, 1, 2, 4, 3, 5, 1, 5, 4, 1, 0, 4, 5, 0, 2, 5, 1, 4,\n",
      "        4, 2, 2, 1, 4, 3, 5, 4], device='cuda:0')\n",
      "type(pred)=<class 'torch.Tensor'>, type(data.y)=<class 'torch.Tensor'>\n",
      "DataBatch(edge_index=[2, 118182], edge_attr=[118182, 7], y=[32], num_nodes=7006, x=[7006], batch=[7006], ptr=[33])\n",
      "pred=tensor([4, 4, 4, 4, 4, 4, 4, 3, 4, 4, 0, 4, 0, 0, 4, 4, 4, 4, 4, 4, 4, 4, 4, 4,\n",
      "        0, 4, 4, 4, 0, 4, 0, 4], device='cuda:0'), data.y=tensor([2, 5, 1, 1, 4, 4, 1, 5, 1, 2, 0, 2, 2, 0, 5, 4, 1, 4, 4, 4, 4, 5, 4, 4,\n",
      "        1, 3, 4, 2, 4, 4, 3, 1], device='cuda:0')\n",
      "type(pred)=<class 'torch.Tensor'>, type(data.y)=<class 'torch.Tensor'>\n",
      "DataBatch(edge_index=[2, 144366], edge_attr=[144366, 7], y=[32], num_nodes=7705, x=[7705], batch=[7705], ptr=[33])\n",
      "pred=tensor([1, 4, 4, 4, 0, 0, 4, 4, 4, 4, 4, 4, 4, 4, 4, 4, 1, 0, 4, 4, 4, 4, 4, 3,\n",
      "        4, 4, 4, 4, 3, 4, 4, 4], device='cuda:0'), data.y=tensor([0, 4, 0, 1, 0, 0, 4, 1, 1, 2, 4, 4, 2, 0, 5, 1, 1, 5, 1, 4, 0, 4, 2, 3,\n",
      "        3, 3, 1, 1, 1, 1, 3, 4], device='cuda:0')\n",
      "type(pred)=<class 'torch.Tensor'>, type(data.y)=<class 'torch.Tensor'>\n"
     ]
    },
    {
     "name": "stderr",
     "output_type": "stream",
     "text": [
      "Iterating eval graphs:  57%|█████▋    | 20/35 [00:01<00:01, 12.93batch/s]"
     ]
    },
    {
     "name": "stdout",
     "output_type": "stream",
     "text": [
      "DataBatch(edge_index=[2, 140508], edge_attr=[140508, 7], y=[32], num_nodes=6848, x=[6848], batch=[6848], ptr=[33])\n",
      "pred=tensor([4, 4, 0, 0, 1, 0, 3, 4, 4, 0, 4, 3, 0, 0, 0, 4, 4, 4, 4, 4, 4, 4, 4, 4,\n",
      "        4, 4, 1, 4, 4, 0, 4, 4], device='cuda:0'), data.y=tensor([3, 3, 0, 1, 1, 3, 1, 3, 2, 4, 5, 0, 3, 3, 4, 0, 2, 5, 3, 1, 0, 5, 0, 5,\n",
      "        2, 2, 3, 2, 4, 0, 2, 4], device='cuda:0')\n",
      "type(pred)=<class 'torch.Tensor'>, type(data.y)=<class 'torch.Tensor'>\n",
      "DataBatch(edge_index=[2, 159828], edge_attr=[159828, 7], y=[32], num_nodes=8428, x=[8428], batch=[8428], ptr=[33])\n",
      "pred=tensor([4, 4, 4, 0, 0, 0, 4, 4, 1, 4, 3, 4, 4, 4, 4, 0, 4, 0, 4, 4, 4, 4, 4, 3,\n",
      "        4, 4, 4, 3, 4, 4, 3, 4], device='cuda:0'), data.y=tensor([5, 0, 0, 2, 0, 4, 4, 3, 1, 5, 5, 3, 0, 5, 0, 0, 1, 0, 2, 5, 4, 5, 1, 5,\n",
      "        1, 3, 4, 1, 1, 2, 3, 1], device='cuda:0')\n",
      "type(pred)=<class 'torch.Tensor'>, type(data.y)=<class 'torch.Tensor'>\n",
      "DataBatch(edge_index=[2, 136874], edge_attr=[136874, 7], y=[32], num_nodes=6771, x=[6771], batch=[6771], ptr=[33])\n",
      "pred=tensor([0, 4, 4, 4, 4, 4, 4, 4, 4, 4, 0, 4, 4, 4, 4, 0, 4, 4, 0, 4, 0, 4, 4, 4,\n",
      "        4, 0, 1, 0, 3, 4, 3, 0], device='cuda:0'), data.y=tensor([3, 4, 1, 4, 4, 0, 4, 0, 3, 2, 0, 0, 4, 3, 1, 0, 1, 0, 1, 3, 1, 1, 0, 2,\n",
      "        4, 1, 3, 1, 2, 5, 0, 1], device='cuda:0')\n",
      "type(pred)=<class 'torch.Tensor'>, type(data.y)=<class 'torch.Tensor'>\n"
     ]
    },
    {
     "name": "stderr",
     "output_type": "stream",
     "text": [
      "Iterating eval graphs:  69%|██████▊   | 24/35 [00:01<00:00, 12.91batch/s]"
     ]
    },
    {
     "name": "stdout",
     "output_type": "stream",
     "text": [
      "DataBatch(edge_index=[2, 171060], edge_attr=[171060, 7], y=[32], num_nodes=8260, x=[8260], batch=[8260], ptr=[33])\n",
      "pred=tensor([3, 0, 0, 3, 3, 4, 4, 4, 0, 4, 4, 0, 4, 4, 4, 4, 4, 4, 0, 3, 4, 1, 4, 4,\n",
      "        4, 4, 1, 4, 4, 4, 0, 4], device='cuda:0'), data.y=tensor([5, 3, 3, 0, 1, 4, 4, 2, 1, 4, 5, 5, 1, 5, 5, 3, 2, 3, 0, 0, 0, 3, 4, 4,\n",
      "        5, 4, 2, 3, 4, 1, 1, 2], device='cuda:0')\n",
      "type(pred)=<class 'torch.Tensor'>, type(data.y)=<class 'torch.Tensor'>\n",
      "DataBatch(edge_index=[2, 136498], edge_attr=[136498, 7], y=[32], num_nodes=7887, x=[7887], batch=[7887], ptr=[33])\n",
      "pred=tensor([0, 4, 4, 4, 4, 0, 4, 4, 4, 4, 4, 4, 4, 4, 4, 0, 4, 4, 0, 0, 0, 0, 4, 4,\n",
      "        4, 4, 3, 0, 4, 4, 4, 0], device='cuda:0'), data.y=tensor([2, 4, 4, 0, 4, 5, 4, 1, 4, 2, 3, 1, 2, 1, 1, 4, 0, 3, 0, 0, 3, 3, 2, 0,\n",
      "        4, 0, 4, 1, 3, 3, 4, 0], device='cuda:0')\n",
      "type(pred)=<class 'torch.Tensor'>, type(data.y)=<class 'torch.Tensor'>\n",
      "DataBatch(edge_index=[2, 126350], edge_attr=[126350, 7], y=[32], num_nodes=6480, x=[6480], batch=[6480], ptr=[33])\n",
      "pred=tensor([4, 4, 4, 4, 4, 4, 4, 4, 4, 4, 4, 4, 3, 0, 4, 4, 4, 4, 4, 1, 0, 4, 3, 0,\n",
      "        4, 0, 0, 4, 4, 4, 4, 0], device='cuda:0'), data.y=tensor([3, 5, 3, 3, 4, 3, 0, 1, 3, 1, 2, 3, 0, 3, 4, 2, 1, 4, 0, 5, 4, 1, 3, 4,\n",
      "        1, 0, 0, 1, 0, 2, 5, 3], device='cuda:0')\n",
      "type(pred)=<class 'torch.Tensor'>, type(data.y)=<class 'torch.Tensor'>\n"
     ]
    },
    {
     "name": "stderr",
     "output_type": "stream",
     "text": [
      "Iterating eval graphs:  74%|███████▍  | 26/35 [00:01<00:00, 12.52batch/s]"
     ]
    },
    {
     "name": "stdout",
     "output_type": "stream",
     "text": [
      "DataBatch(edge_index=[2, 152242], edge_attr=[152242, 7], y=[32], num_nodes=7983, x=[7983], batch=[7983], ptr=[33])\n",
      "pred=tensor([4, 0, 4, 4, 0, 3, 4, 0, 4, 4, 0, 4, 1, 0, 4, 0, 0, 0, 4, 4, 4, 4, 4, 0,\n",
      "        4, 4, 3, 1, 4, 4, 4, 4], device='cuda:0'), data.y=tensor([1, 4, 1, 1, 0, 2, 3, 0, 1, 4, 2, 1, 1, 0, 2, 0, 4, 0, 2, 0, 0, 1, 3, 4,\n",
      "        0, 4, 4, 1, 1, 4, 5, 0], device='cuda:0')\n",
      "type(pred)=<class 'torch.Tensor'>, type(data.y)=<class 'torch.Tensor'>\n",
      "DataBatch(edge_index=[2, 156674], edge_attr=[156674, 7], y=[32], num_nodes=7784, x=[7784], batch=[7784], ptr=[33])\n",
      "pred=tensor([4, 4, 0, 4, 4, 0, 0, 3, 3, 4, 4, 4, 4, 4, 4, 4, 0, 4, 4, 0, 4, 4, 0, 0,\n",
      "        3, 3, 4, 4, 0, 4, 4, 4], device='cuda:0'), data.y=tensor([5, 2, 5, 0, 4, 0, 5, 2, 1, 2, 3, 1, 1, 2, 3, 3, 1, 4, 1, 2, 4, 2, 5, 1,\n",
      "        4, 3, 2, 0, 0, 2, 5, 5], device='cuda:0')\n",
      "type(pred)=<class 'torch.Tensor'>, type(data.y)=<class 'torch.Tensor'>\n",
      "DataBatch(edge_index=[2, 151204], edge_attr=[151204, 7], y=[32], num_nodes=7305, x=[7305], batch=[7305], ptr=[33])\n",
      "pred=tensor([0, 4, 0, 4, 0, 4, 4, 4, 1, 4, 0, 0, 3, 0, 4, 4, 4, 4, 0, 1, 4, 3, 4, 4,\n",
      "        0, 0, 4, 0, 4, 4, 4, 4], device='cuda:0'), data.y=tensor([1, 4, 2, 3, 0, 3, 5, 2, 1, 4, 0, 0, 3, 2, 3, 3, 1, 2, 2, 1, 1, 5, 3, 2,\n",
      "        4, 1, 3, 2, 3, 2, 2, 2], device='cuda:0')\n",
      "type(pred)=<class 'torch.Tensor'>, type(data.y)=<class 'torch.Tensor'>\n"
     ]
    },
    {
     "name": "stderr",
     "output_type": "stream",
     "text": [
      "Iterating eval graphs:  86%|████████▌ | 30/35 [00:02<00:00, 12.79batch/s]"
     ]
    },
    {
     "name": "stdout",
     "output_type": "stream",
     "text": [
      "DataBatch(edge_index=[2, 139872], edge_attr=[139872, 7], y=[32], num_nodes=7363, x=[7363], batch=[7363], ptr=[33])\n",
      "pred=tensor([4, 4, 4, 0, 4, 4, 4, 1, 0, 4, 4, 4, 0, 4, 4, 4, 4, 4, 4, 4, 4, 3, 0, 4,\n",
      "        4, 3, 4, 3, 4, 3, 4, 4], device='cuda:0'), data.y=tensor([4, 4, 4, 0, 4, 3, 4, 5, 0, 4, 3, 3, 5, 3, 4, 5, 5, 2, 3, 4, 3, 0, 5, 4,\n",
      "        3, 1, 3, 4, 3, 0, 2, 4], device='cuda:0')\n",
      "type(pred)=<class 'torch.Tensor'>, type(data.y)=<class 'torch.Tensor'>\n",
      "DataBatch(edge_index=[2, 133850], edge_attr=[133850, 7], y=[32], num_nodes=7706, x=[7706], batch=[7706], ptr=[33])\n",
      "pred=tensor([4, 4, 4, 0, 4, 4, 1, 0, 4, 4, 0, 4, 4, 4, 0, 4, 4, 4, 4, 0, 4, 0, 4, 4,\n",
      "        4, 4, 3, 4, 4, 3, 3, 4], device='cuda:0'), data.y=tensor([4, 1, 3, 2, 4, 0, 1, 0, 0, 1, 4, 3, 2, 3, 1, 5, 4, 2, 3, 4, 4, 2, 1, 4,\n",
      "        4, 4, 1, 1, 4, 5, 4, 4], device='cuda:0')\n",
      "type(pred)=<class 'torch.Tensor'>, type(data.y)=<class 'torch.Tensor'>\n",
      "DataBatch(edge_index=[2, 129794], edge_attr=[129794, 7], y=[32], num_nodes=6955, x=[6955], batch=[6955], ptr=[33])\n",
      "pred=tensor([4, 4, 4, 4, 0, 4, 4, 3, 4, 0, 1, 4, 4, 0, 4, 4, 4, 4, 4, 3, 4, 4, 4, 1,\n",
      "        4, 0, 4, 4, 4, 4, 4, 4], device='cuda:0'), data.y=tensor([1, 0, 4, 3, 1, 0, 3, 5, 4, 4, 0, 4, 0, 4, 4, 0, 4, 4, 1, 3, 4, 1, 3, 0,\n",
      "        4, 4, 4, 2, 3, 5, 4, 1], device='cuda:0')\n",
      "type(pred)=<class 'torch.Tensor'>, type(data.y)=<class 'torch.Tensor'>\n"
     ]
    },
    {
     "name": "stderr",
     "output_type": "stream",
     "text": [
      "Iterating eval graphs:  91%|█████████▏| 32/35 [00:02<00:00, 12.85batch/s]"
     ]
    },
    {
     "name": "stdout",
     "output_type": "stream",
     "text": [
      "DataBatch(edge_index=[2, 154384], edge_attr=[154384, 7], y=[32], num_nodes=8229, x=[8229], batch=[8229], ptr=[33])\n",
      "pred=tensor([4, 3, 4, 4, 4, 0, 4, 4, 0, 4, 0, 4, 4, 4, 4, 4, 3, 4, 4, 4, 4, 4, 4, 4,\n",
      "        0, 4, 4, 4, 4, 1, 4, 4], device='cuda:0'), data.y=tensor([4, 3, 0, 3, 5, 1, 1, 1, 5, 3, 0, 1, 5, 4, 4, 3, 2, 4, 2, 2, 3, 5, 3, 0,\n",
      "        0, 4, 3, 4, 3, 3, 4, 2], device='cuda:0')\n",
      "type(pred)=<class 'torch.Tensor'>, type(data.y)=<class 'torch.Tensor'>\n",
      "DataBatch(edge_index=[2, 118838], edge_attr=[118838, 7], y=[32], num_nodes=6812, x=[6812], batch=[6812], ptr=[33])\n",
      "pred=tensor([4, 4, 0, 4, 4, 4, 3, 4, 4, 4, 4, 4, 0, 4, 0, 4, 4, 0, 4, 4, 4, 4, 4, 4,\n",
      "        4, 4, 0, 3, 4, 4, 4, 4], device='cuda:0'), data.y=tensor([3, 4, 0, 0, 4, 2, 5, 2, 4, 1, 3, 1, 1, 1, 3, 0, 2, 2, 4, 2, 0, 5, 1, 3,\n",
      "        4, 4, 2, 1, 1, 3, 4, 5], device='cuda:0')\n",
      "type(pred)=<class 'torch.Tensor'>, type(data.y)=<class 'torch.Tensor'>\n",
      "DataBatch(edge_index=[2, 153150], edge_attr=[153150, 7], y=[32], num_nodes=7683, x=[7683], batch=[7683], ptr=[33])\n",
      "pred=tensor([4, 0, 4, 0, 4, 4, 0, 4, 0, 4, 4, 0, 4, 4, 0, 4, 4, 4, 4, 1, 3, 4, 4, 4,\n",
      "        0, 4, 3, 4, 4, 4, 4, 4], device='cuda:0'), data.y=tensor([2, 2, 4, 3, 1, 3, 3, 1, 3, 0, 5, 1, 3, 4, 4, 0, 4, 3, 4, 2, 2, 4, 4, 3,\n",
      "        2, 4, 0, 0, 3, 1, 4, 5], device='cuda:0')\n",
      "type(pred)=<class 'torch.Tensor'>, type(data.y)=<class 'torch.Tensor'>\n"
     ]
    },
    {
     "name": "stderr",
     "output_type": "stream",
     "text": [
      "Iterating eval graphs: 100%|██████████| 35/35 [00:02<00:00, 12.95batch/s]\n",
      "Epoch 2/10, Loss: 1.7342, Train Acc: 0.3085, Val Acc: 0.2964\n",
      "Epoch 2/10, Loss: 1.7342, Train Acc: 0.3085, Val Acc: 0.2964\n",
      "Epoch 2/10, Loss: 1.7342, Train Acc: 0.3085, Val Acc: 0.2964\n",
      "Epoch 2/10, Loss: 1.7342, Train Acc: 0.3085, Val Acc: 0.2964\n",
      "Epoch 2/10, Loss: 1.7342, Train Acc: 0.3085, Val Acc: 0.2964\n"
     ]
    },
    {
     "name": "stdout",
     "output_type": "stream",
     "text": [
      "DataBatch(edge_index=[2, 158418], edge_attr=[158418, 7], y=[32], num_nodes=8101, x=[8101], batch=[8101], ptr=[33])\n",
      "pred=tensor([1, 4, 4, 4, 4, 4, 4, 4, 4, 4, 1, 0, 4, 3, 4, 4, 4, 4, 4, 4, 0, 0, 3, 4,\n",
      "        4, 4, 4, 4, 4, 0, 3, 4], device='cuda:0'), data.y=tensor([1, 2, 1, 5, 3, 4, 4, 2, 0, 5, 4, 4, 4, 2, 3, 0, 4, 4, 2, 4, 0, 0, 4, 0,\n",
      "        2, 0, 4, 4, 4, 4, 5, 3], device='cuda:0')\n",
      "type(pred)=<class 'torch.Tensor'>, type(data.y)=<class 'torch.Tensor'>\n",
      "DataBatch(edge_index=[2, 145944], edge_attr=[145944, 7], y=[32], num_nodes=8005, x=[8005], batch=[8005], ptr=[33])\n",
      "pred=tensor([0, 4, 4, 4, 4, 4, 0, 4, 4, 4, 3, 0, 4, 0, 4, 4, 4, 4, 4, 4, 4, 4, 4, 4,\n",
      "        4, 3, 4, 4, 4, 4, 4, 4], device='cuda:0'), data.y=tensor([0, 3, 4, 4, 4, 5, 0, 1, 2, 3, 1, 4, 1, 0, 5, 0, 3, 3, 5, 4, 5, 2, 4, 1,\n",
      "        1, 0, 4, 4, 5, 4, 2, 5], device='cuda:0')\n",
      "type(pred)=<class 'torch.Tensor'>, type(data.y)=<class 'torch.Tensor'>\n",
      "Epoch 2/10, Loss: 1.7342, Train Acc: 0.3085, Val Acc: 0.2964\n",
      "Best model updated and saved at /home/haislich/Documents/noisy_labels/hackaton/checkpoints/model_B_best.pth\n"
     ]
    },
    {
     "name": "stderr",
     "output_type": "stream",
     "text": [
      "Iterating training graphs: 100%|██████████| 140/140 [00:13<00:00, 10.26batch/s]\n"
     ]
    },
    {
     "name": "stdout",
     "output_type": "stream",
     "text": [
      "Checkpoint saved at /home/haislich/Documents/noisy_labels/hackaton/checkpoints/B/model_B_epoch_3.pth\n"
     ]
    },
    {
     "name": "stderr",
     "output_type": "stream",
     "text": [
      "Iterating eval graphs:   6%|▌         | 2/35 [00:00<00:02, 14.03batch/s]"
     ]
    },
    {
     "name": "stdout",
     "output_type": "stream",
     "text": [
      "DataBatch(edge_index=[2, 135416], edge_attr=[135416, 7], y=[32], num_nodes=7817, x=[7817], batch=[7817], ptr=[33])\n",
      "pred=tensor([4, 4, 4, 1, 4, 4, 0, 4, 4, 1, 4, 4, 4, 4, 0, 4, 4, 4, 0, 4, 0, 4, 4, 4,\n",
      "        4, 0, 4, 4, 0, 4, 4, 4], device='cuda:0'), data.y=tensor([4, 0, 1, 1, 2, 4, 4, 3, 1, 4, 4, 0, 5, 3, 0, 2, 3, 1, 0, 4, 1, 4, 5, 3,\n",
      "        0, 2, 0, 4, 1, 5, 0, 3], device='cuda:0')\n",
      "type(pred)=<class 'torch.Tensor'>, type(data.y)=<class 'torch.Tensor'>\n",
      "DataBatch(edge_index=[2, 121262], edge_attr=[121262, 7], y=[32], num_nodes=6966, x=[6966], batch=[6966], ptr=[33])\n",
      "pred=tensor([4, 4, 4, 4, 4, 4, 4, 4, 4, 4, 0, 4, 4, 4, 0, 4, 5, 4, 4, 0, 4, 4, 4, 4,\n",
      "        4, 4, 4, 4, 4, 4, 4, 4], device='cuda:0'), data.y=tensor([2, 0, 5, 2, 4, 4, 1, 5, 2, 4, 0, 1, 3, 5, 3, 3, 1, 1, 1, 3, 5, 5, 4, 5,\n",
      "        2, 3, 4, 0, 4, 1, 4, 1], device='cuda:0')\n",
      "type(pred)=<class 'torch.Tensor'>, type(data.y)=<class 'torch.Tensor'>\n",
      "DataBatch(edge_index=[2, 144698], edge_attr=[144698, 7], y=[32], num_nodes=7569, x=[7569], batch=[7569], ptr=[33])\n",
      "pred=tensor([4, 4, 4, 4, 0, 4, 4, 4, 0, 4, 4, 4, 5, 4, 4, 4, 4, 4, 0, 4, 4, 4, 4, 4,\n",
      "        4, 4, 4, 4, 1, 4, 4, 0], device='cuda:0'), data.y=tensor([2, 0, 4, 5, 3, 2, 4, 0, 0, 4, 4, 4, 3, 0, 0, 5, 4, 3, 3, 2, 5, 4, 2, 0,\n",
      "        1, 4, 3, 5, 5, 1, 5, 0], device='cuda:0')\n",
      "type(pred)=<class 'torch.Tensor'>, type(data.y)=<class 'torch.Tensor'>\n"
     ]
    },
    {
     "name": "stderr",
     "output_type": "stream",
     "text": [
      "Iterating eval graphs:  11%|█▏        | 4/35 [00:00<00:02, 13.60batch/s]"
     ]
    },
    {
     "name": "stdout",
     "output_type": "stream",
     "text": [
      "DataBatch(edge_index=[2, 127950], edge_attr=[127950, 7], y=[32], num_nodes=7645, x=[7645], batch=[7645], ptr=[33])\n",
      "pred=tensor([4, 4, 4, 4, 0, 4, 4, 4, 4, 0, 4, 0, 0, 4, 0, 4, 4, 4, 4, 4, 0, 4, 4, 1,\n",
      "        4, 4, 4, 0, 4, 4, 0, 4], device='cuda:0'), data.y=tensor([2, 4, 5, 4, 5, 0, 4, 1, 0, 0, 2, 1, 4, 4, 5, 4, 4, 4, 1, 1, 5, 1, 5, 4,\n",
      "        0, 5, 4, 0, 1, 1, 0, 4], device='cuda:0')\n",
      "type(pred)=<class 'torch.Tensor'>, type(data.y)=<class 'torch.Tensor'>\n",
      "DataBatch(edge_index=[2, 120872], edge_attr=[120872, 7], y=[32], num_nodes=7820, x=[7820], batch=[7820], ptr=[33])\n",
      "pred=tensor([0, 4, 4, 4, 1, 4, 4, 4, 0, 4, 4, 4, 4, 4, 4, 0, 4, 0, 4, 4, 4, 4, 4, 4,\n",
      "        4, 4, 4, 4, 4, 0, 4, 0], device='cuda:0'), data.y=tensor([3, 1, 0, 2, 2, 3, 5, 4, 0, 5, 4, 2, 4, 4, 1, 0, 1, 4, 0, 4, 0, 4, 5, 0,\n",
      "        5, 2, 3, 0, 2, 5, 4, 0], device='cuda:0')\n",
      "type(pred)=<class 'torch.Tensor'>, type(data.y)=<class 'torch.Tensor'>\n",
      "DataBatch(edge_index=[2, 125522], edge_attr=[125522, 7], y=[32], num_nodes=6715, x=[6715], batch=[6715], ptr=[33])\n"
     ]
    },
    {
     "name": "stderr",
     "output_type": "stream",
     "text": [
      "Iterating eval graphs:  17%|█▋        | 6/35 [00:00<00:02, 14.01batch/s]"
     ]
    },
    {
     "name": "stdout",
     "output_type": "stream",
     "text": [
      "pred=tensor([5, 4, 4, 4, 4, 0, 4, 4, 4, 4, 4, 4, 4, 4, 4, 4, 0, 4, 4, 4, 4, 4, 4, 0,\n",
      "        4, 4, 4, 5, 0, 4, 0, 4], device='cuda:0'), data.y=tensor([4, 3, 4, 3, 5, 5, 5, 2, 4, 4, 3, 4, 4, 5, 5, 4, 0, 3, 5, 4, 2, 0, 1, 0,\n",
      "        4, 4, 2, 2, 1, 0, 0, 2], device='cuda:0')\n",
      "type(pred)=<class 'torch.Tensor'>, type(data.y)=<class 'torch.Tensor'>\n"
     ]
    },
    {
     "name": "stderr",
     "output_type": "stream",
     "text": [
      "Iterating eval graphs:  23%|██▎       | 8/35 [00:00<00:01, 14.07batch/s]"
     ]
    },
    {
     "name": "stdout",
     "output_type": "stream",
     "text": [
      "DataBatch(edge_index=[2, 120666], edge_attr=[120666, 7], y=[32], num_nodes=7079, x=[7079], batch=[7079], ptr=[33])\n",
      "pred=tensor([4, 4, 4, 4, 4, 4, 4, 0, 4, 4, 4, 4, 4, 4, 4, 4, 4, 4, 4, 4, 4, 4, 1, 4,\n",
      "        4, 4, 0, 4, 1, 0, 4, 4], device='cuda:0'), data.y=tensor([3, 3, 1, 1, 1, 4, 2, 2, 2, 2, 4, 2, 3, 3, 4, 3, 4, 3, 3, 5, 4, 3, 2, 3,\n",
      "        0, 2, 3, 0, 1, 1, 2, 0], device='cuda:0')\n",
      "type(pred)=<class 'torch.Tensor'>, type(data.y)=<class 'torch.Tensor'>\n",
      "DataBatch(edge_index=[2, 137498], edge_attr=[137498, 7], y=[32], num_nodes=7324, x=[7324], batch=[7324], ptr=[33])\n",
      "pred=tensor([0, 4, 0, 1, 4, 4, 4, 4, 4, 1, 4, 4, 1, 0, 4, 4, 4, 0, 4, 4, 4, 4, 0, 0,\n",
      "        0, 1, 0, 0, 0, 0, 4, 4], device='cuda:0'), data.y=tensor([0, 4, 4, 1, 0, 2, 2, 2, 4, 1, 3, 2, 1, 1, 4, 5, 2, 0, 5, 1, 5, 0, 0, 3,\n",
      "        0, 1, 1, 0, 0, 0, 4, 4], device='cuda:0')\n",
      "type(pred)=<class 'torch.Tensor'>, type(data.y)=<class 'torch.Tensor'>\n",
      "DataBatch(edge_index=[2, 137840], edge_attr=[137840, 7], y=[32], num_nodes=7719, x=[7719], batch=[7719], ptr=[33])\n",
      "pred=tensor([4, 1, 4, 4, 4, 0, 4, 4, 4, 0, 4, 4, 4, 4, 4, 4, 4, 4, 0, 4, 0, 4, 4, 4,\n",
      "        4, 4, 4, 0, 1, 4, 4, 4], device='cuda:0'), data.y=tensor([4, 1, 4, 1, 3, 4, 1, 0, 3, 3, 0, 1, 3, 4, 1, 4, 4, 0, 2, 1, 0, 5, 3, 3,\n",
      "        2, 4, 4, 0, 1, 3, 2, 4], device='cuda:0')\n",
      "type(pred)=<class 'torch.Tensor'>, type(data.y)=<class 'torch.Tensor'>\n"
     ]
    },
    {
     "name": "stderr",
     "output_type": "stream",
     "text": [
      "Iterating eval graphs:  29%|██▊       | 10/35 [00:00<00:01, 12.79batch/s]"
     ]
    },
    {
     "name": "stdout",
     "output_type": "stream",
     "text": [
      "DataBatch(edge_index=[2, 198718], edge_attr=[198718, 7], y=[32], num_nodes=8382, x=[8382], batch=[8382], ptr=[33])\n",
      "pred=tensor([1, 4, 0, 1, 0, 0, 4, 0, 4, 4, 0, 4, 5, 5, 0, 4, 4, 4, 1, 4, 0, 4, 4, 5,\n",
      "        4, 4, 4, 5, 4, 0, 4, 4], device='cuda:0'), data.y=tensor([1, 1, 2, 1, 5, 3, 3, 5, 4, 2, 0, 0, 0, 3, 3, 4, 2, 4, 2, 1, 2, 3, 4, 5,\n",
      "        4, 4, 0, 5, 4, 5, 4, 2], device='cuda:0')\n",
      "type(pred)=<class 'torch.Tensor'>, type(data.y)=<class 'torch.Tensor'>\n",
      "DataBatch(edge_index=[2, 122004], edge_attr=[122004, 7], y=[32], num_nodes=6747, x=[6747], batch=[6747], ptr=[33])\n",
      "pred=tensor([4, 4, 0, 0, 0, 4, 0, 0, 4, 4, 4, 4, 4, 0, 4, 0, 4, 4, 4, 4, 1, 0, 4, 4,\n",
      "        4, 4, 0, 4, 4, 4, 4, 4], device='cuda:0'), data.y=tensor([4, 4, 5, 4, 0, 4, 0, 5, 1, 1, 3, 4, 3, 5, 1, 4, 3, 4, 5, 2, 4, 4, 1, 4,\n",
      "        3, 2, 0, 4, 3, 4, 2, 5], device='cuda:0')\n",
      "type(pred)=<class 'torch.Tensor'>, type(data.y)=<class 'torch.Tensor'>\n"
     ]
    },
    {
     "name": "stderr",
     "output_type": "stream",
     "text": [
      "Iterating eval graphs:  34%|███▍      | 12/35 [00:00<00:01, 13.20batch/s]"
     ]
    },
    {
     "name": "stdout",
     "output_type": "stream",
     "text": [
      "DataBatch(edge_index=[2, 135852], edge_attr=[135852, 7], y=[32], num_nodes=7607, x=[7607], batch=[7607], ptr=[33])\n",
      "pred=tensor([4, 4, 0, 4, 4, 1, 4, 4, 4, 4, 4, 4, 4, 0, 4, 4, 0, 4, 4, 4, 4, 4, 4, 4,\n",
      "        0, 4, 4, 0, 4, 0, 5, 4], device='cuda:0'), data.y=tensor([4, 3, 5, 5, 5, 2, 2, 1, 3, 4, 3, 3, 3, 0, 1, 1, 0, 1, 2, 1, 0, 4, 3, 3,\n",
      "        2, 2, 0, 2, 1, 0, 1, 0], device='cuda:0')\n",
      "type(pred)=<class 'torch.Tensor'>, type(data.y)=<class 'torch.Tensor'>\n"
     ]
    },
    {
     "name": "stderr",
     "output_type": "stream",
     "text": [
      "Iterating eval graphs:  40%|████      | 14/35 [00:01<00:01, 12.95batch/s]"
     ]
    },
    {
     "name": "stdout",
     "output_type": "stream",
     "text": [
      "DataBatch(edge_index=[2, 139278], edge_attr=[139278, 7], y=[32], num_nodes=7386, x=[7386], batch=[7386], ptr=[33])\n",
      "pred=tensor([4, 4, 4, 4, 4, 0, 0, 0, 4, 4, 4, 4, 4, 0, 0, 0, 4, 0, 4, 4, 4, 0, 4, 0,\n",
      "        4, 4, 4, 0, 4, 4, 4, 4], device='cuda:0'), data.y=tensor([1, 0, 4, 5, 1, 5, 1, 1, 2, 0, 4, 2, 2, 4, 1, 0, 1, 5, 4, 4, 3, 0, 4, 4,\n",
      "        0, 2, 0, 3, 3, 1, 0, 3], device='cuda:0')\n",
      "type(pred)=<class 'torch.Tensor'>, type(data.y)=<class 'torch.Tensor'>\n",
      "DataBatch(edge_index=[2, 149492], edge_attr=[149492, 7], y=[32], num_nodes=7921, x=[7921], batch=[7921], ptr=[33])\n",
      "pred=tensor([4, 0, 4, 4, 4, 4, 1, 4, 4, 0, 0, 0, 4, 4, 4, 4, 4, 4, 0, 4, 4, 0, 5, 4,\n",
      "        4, 4, 4, 4, 4, 0, 4, 4], device='cuda:0'), data.y=tensor([1, 5, 0, 3, 1, 1, 1, 1, 2, 3, 4, 2, 4, 0, 3, 4, 1, 3, 0, 3, 2, 4, 1, 3,\n",
      "        4, 2, 5, 5, 1, 3, 0, 4], device='cuda:0')\n",
      "type(pred)=<class 'torch.Tensor'>, type(data.y)=<class 'torch.Tensor'>\n",
      "DataBatch(edge_index=[2, 138360], edge_attr=[138360, 7], y=[32], num_nodes=7638, x=[7638], batch=[7638], ptr=[33])\n",
      "pred=tensor([4, 4, 4, 4, 0, 1, 4, 4, 0, 4, 0, 0, 4, 4, 1, 4, 4, 4, 4, 4, 4, 4, 0, 4,\n",
      "        4, 4, 0, 0, 4, 4, 5, 4], device='cuda:0'), data.y=tensor([3, 3, 1, 1, 1, 1, 5, 2, 2, 2, 4, 0, 0, 3, 2, 3, 2, 4, 1, 5, 4, 3, 2, 4,\n",
      "        4, 1, 4, 3, 3, 3, 5, 0], device='cuda:0')\n",
      "type(pred)=<class 'torch.Tensor'>, type(data.y)=<class 'torch.Tensor'>\n"
     ]
    },
    {
     "name": "stderr",
     "output_type": "stream",
     "text": [
      "Iterating eval graphs:  46%|████▌     | 16/35 [00:01<00:01, 12.93batch/s]"
     ]
    },
    {
     "name": "stdout",
     "output_type": "stream",
     "text": [
      "DataBatch(edge_index=[2, 133568], edge_attr=[133568, 7], y=[32], num_nodes=7365, x=[7365], batch=[7365], ptr=[33])\n",
      "pred=tensor([4, 4, 4, 4, 4, 0, 4, 4, 4, 4, 0, 4, 4, 4, 0, 0, 4, 4, 4, 0, 4, 4, 4, 4,\n",
      "        4, 0, 4, 4, 4, 5, 4, 4], device='cuda:0'), data.y=tensor([4, 4, 5, 4, 2, 0, 5, 1, 2, 4, 3, 5, 1, 5, 4, 1, 0, 4, 5, 0, 2, 5, 1, 4,\n",
      "        4, 2, 2, 1, 4, 3, 5, 4], device='cuda:0')\n",
      "type(pred)=<class 'torch.Tensor'>, type(data.y)=<class 'torch.Tensor'>\n",
      "DataBatch(edge_index=[2, 118182], edge_attr=[118182, 7], y=[32], num_nodes=7006, x=[7006], batch=[7006], ptr=[33])\n",
      "pred=tensor([4, 4, 4, 4, 4, 4, 4, 0, 4, 4, 0, 4, 0, 0, 4, 4, 4, 4, 4, 4, 4, 4, 4, 4,\n",
      "        0, 0, 4, 4, 4, 4, 0, 0], device='cuda:0'), data.y=tensor([2, 5, 1, 1, 4, 4, 1, 5, 1, 2, 0, 2, 2, 0, 5, 4, 1, 4, 4, 4, 4, 5, 4, 4,\n",
      "        1, 3, 4, 2, 4, 4, 3, 1], device='cuda:0')\n",
      "type(pred)=<class 'torch.Tensor'>, type(data.y)=<class 'torch.Tensor'>\n"
     ]
    },
    {
     "name": "stderr",
     "output_type": "stream",
     "text": [
      "Iterating eval graphs:  51%|█████▏    | 18/35 [00:01<00:01, 13.17batch/s]"
     ]
    },
    {
     "name": "stdout",
     "output_type": "stream",
     "text": [
      "DataBatch(edge_index=[2, 144366], edge_attr=[144366, 7], y=[32], num_nodes=7705, x=[7705], batch=[7705], ptr=[33])\n",
      "pred=tensor([0, 4, 4, 4, 0, 0, 4, 4, 4, 4, 4, 4, 4, 4, 4, 4, 1, 0, 1, 4, 4, 4, 4, 5,\n",
      "        4, 4, 4, 4, 0, 4, 4, 4], device='cuda:0'), data.y=tensor([0, 4, 0, 1, 0, 0, 4, 1, 1, 2, 4, 4, 2, 0, 5, 1, 1, 5, 1, 4, 0, 4, 2, 3,\n",
      "        3, 3, 1, 1, 1, 1, 3, 4], device='cuda:0')\n",
      "type(pred)=<class 'torch.Tensor'>, type(data.y)=<class 'torch.Tensor'>\n"
     ]
    },
    {
     "name": "stderr",
     "output_type": "stream",
     "text": [
      "Iterating eval graphs:  57%|█████▋    | 20/35 [00:01<00:01, 12.88batch/s]"
     ]
    },
    {
     "name": "stdout",
     "output_type": "stream",
     "text": [
      "DataBatch(edge_index=[2, 140508], edge_attr=[140508, 7], y=[32], num_nodes=6848, x=[6848], batch=[6848], ptr=[33])\n",
      "pred=tensor([4, 4, 0, 0, 1, 0, 5, 4, 4, 0, 4, 0, 0, 0, 0, 4, 4, 4, 4, 4, 4, 4, 4, 4,\n",
      "        4, 4, 1, 4, 4, 0, 4, 4], device='cuda:0'), data.y=tensor([3, 3, 0, 1, 1, 3, 1, 3, 2, 4, 5, 0, 3, 3, 4, 0, 2, 5, 3, 1, 0, 5, 0, 5,\n",
      "        2, 2, 3, 2, 4, 0, 2, 4], device='cuda:0')\n",
      "type(pred)=<class 'torch.Tensor'>, type(data.y)=<class 'torch.Tensor'>\n",
      "DataBatch(edge_index=[2, 159828], edge_attr=[159828, 7], y=[32], num_nodes=8428, x=[8428], batch=[8428], ptr=[33])\n",
      "pred=tensor([4, 4, 4, 0, 0, 0, 4, 4, 1, 4, 0, 4, 4, 4, 4, 0, 4, 0, 4, 4, 4, 4, 4, 0,\n",
      "        4, 4, 4, 5, 4, 4, 0, 4], device='cuda:0'), data.y=tensor([5, 0, 0, 2, 0, 4, 4, 3, 1, 5, 5, 3, 0, 5, 0, 0, 1, 0, 2, 5, 4, 5, 1, 5,\n",
      "        1, 3, 4, 1, 1, 2, 3, 1], device='cuda:0')\n",
      "type(pred)=<class 'torch.Tensor'>, type(data.y)=<class 'torch.Tensor'>\n",
      "DataBatch(edge_index=[2, 136874], edge_attr=[136874, 7], y=[32], num_nodes=6771, x=[6771], batch=[6771], ptr=[33])\n",
      "pred=tensor([0, 4, 4, 4, 4, 4, 4, 4, 4, 0, 0, 4, 4, 4, 4, 0, 4, 4, 4, 4, 4, 4, 4, 0,\n",
      "        4, 1, 1, 0, 0, 4, 5, 0], device='cuda:0'), data.y=tensor([3, 4, 1, 4, 4, 0, 4, 0, 3, 2, 0, 0, 4, 3, 1, 0, 1, 0, 1, 3, 1, 1, 0, 2,\n",
      "        4, 1, 3, 1, 2, 5, 0, 1], device='cuda:0')\n",
      "type(pred)=<class 'torch.Tensor'>, type(data.y)=<class 'torch.Tensor'>\n"
     ]
    },
    {
     "name": "stderr",
     "output_type": "stream",
     "text": [
      "Iterating eval graphs:  63%|██████▎   | 22/35 [00:01<00:01, 12.51batch/s]"
     ]
    },
    {
     "name": "stdout",
     "output_type": "stream",
     "text": [
      "DataBatch(edge_index=[2, 171060], edge_attr=[171060, 7], y=[32], num_nodes=8260, x=[8260], batch=[8260], ptr=[33])\n",
      "pred=tensor([0, 0, 0, 0, 5, 4, 4, 4, 1, 4, 0, 0, 4, 4, 4, 4, 4, 4, 0, 0, 4, 1, 4, 4,\n",
      "        4, 4, 1, 0, 4, 4, 4, 4], device='cuda:0'), data.y=tensor([5, 3, 3, 0, 1, 4, 4, 2, 1, 4, 5, 5, 1, 5, 5, 3, 2, 3, 0, 0, 0, 3, 4, 4,\n",
      "        5, 4, 2, 3, 4, 1, 1, 2], device='cuda:0')\n",
      "type(pred)=<class 'torch.Tensor'>, type(data.y)=<class 'torch.Tensor'>\n",
      "DataBatch(edge_index=[2, 136498], edge_attr=[136498, 7], y=[32], num_nodes=7887, x=[7887], batch=[7887], ptr=[33])\n",
      "pred=tensor([0, 4, 4, 0, 4, 0, 4, 4, 4, 4, 4, 4, 1, 4, 4, 0, 4, 4, 4, 0, 0, 0, 4, 4,\n",
      "        4, 4, 0, 0, 4, 4, 4, 0], device='cuda:0'), data.y=tensor([2, 4, 4, 0, 4, 5, 4, 1, 4, 2, 3, 1, 2, 1, 1, 4, 0, 3, 0, 0, 3, 3, 2, 0,\n",
      "        4, 0, 4, 1, 3, 3, 4, 0], device='cuda:0')\n",
      "type(pred)=<class 'torch.Tensor'>, type(data.y)=<class 'torch.Tensor'>\n"
     ]
    },
    {
     "name": "stderr",
     "output_type": "stream",
     "text": [
      "Iterating eval graphs:  69%|██████▊   | 24/35 [00:01<00:00, 12.79batch/s]"
     ]
    },
    {
     "name": "stdout",
     "output_type": "stream",
     "text": [
      "DataBatch(edge_index=[2, 126350], edge_attr=[126350, 7], y=[32], num_nodes=6480, x=[6480], batch=[6480], ptr=[33])\n",
      "pred=tensor([4, 4, 4, 4, 4, 4, 4, 4, 0, 4, 4, 4, 0, 0, 4, 4, 4, 4, 1, 1, 4, 4, 0, 0,\n",
      "        4, 0, 0, 4, 4, 4, 4, 0], device='cuda:0'), data.y=tensor([3, 5, 3, 3, 4, 3, 0, 1, 3, 1, 2, 3, 0, 3, 4, 2, 1, 4, 0, 5, 4, 1, 3, 4,\n",
      "        1, 0, 0, 1, 0, 2, 5, 3], device='cuda:0')\n",
      "type(pred)=<class 'torch.Tensor'>, type(data.y)=<class 'torch.Tensor'>\n"
     ]
    },
    {
     "name": "stderr",
     "output_type": "stream",
     "text": [
      "Iterating eval graphs:  74%|███████▍  | 26/35 [00:02<00:00, 12.33batch/s]"
     ]
    },
    {
     "name": "stdout",
     "output_type": "stream",
     "text": [
      "DataBatch(edge_index=[2, 152242], edge_attr=[152242, 7], y=[32], num_nodes=7983, x=[7983], batch=[7983], ptr=[33])\n",
      "pred=tensor([1, 0, 4, 1, 0, 0, 4, 0, 4, 4, 4, 4, 1, 0, 4, 0, 0, 0, 4, 4, 0, 4, 4, 0,\n",
      "        4, 4, 0, 1, 4, 4, 4, 4], device='cuda:0'), data.y=tensor([1, 4, 1, 1, 0, 2, 3, 0, 1, 4, 2, 1, 1, 0, 2, 0, 4, 0, 2, 0, 0, 1, 3, 4,\n",
      "        0, 4, 4, 1, 1, 4, 5, 0], device='cuda:0')\n",
      "type(pred)=<class 'torch.Tensor'>, type(data.y)=<class 'torch.Tensor'>\n",
      "DataBatch(edge_index=[2, 156674], edge_attr=[156674, 7], y=[32], num_nodes=7784, x=[7784], batch=[7784], ptr=[33])\n",
      "pred=tensor([4, 4, 0, 4, 4, 4, 0, 0, 1, 4, 4, 4, 4, 4, 0, 4, 4, 4, 4, 0, 4, 4, 4, 0,\n",
      "        0, 5, 1, 4, 4, 4, 4, 4], device='cuda:0'), data.y=tensor([5, 2, 5, 0, 4, 0, 5, 2, 1, 2, 3, 1, 1, 2, 3, 3, 1, 4, 1, 2, 4, 2, 5, 1,\n",
      "        4, 3, 2, 0, 0, 2, 5, 5], device='cuda:0')\n",
      "type(pred)=<class 'torch.Tensor'>, type(data.y)=<class 'torch.Tensor'>\n",
      "DataBatch(edge_index=[2, 151204], edge_attr=[151204, 7], y=[32], num_nodes=7305, x=[7305], batch=[7305], ptr=[33])\n"
     ]
    },
    {
     "name": "stderr",
     "output_type": "stream",
     "text": [
      "Iterating eval graphs:  80%|████████  | 28/35 [00:02<00:00, 12.14batch/s]"
     ]
    },
    {
     "name": "stdout",
     "output_type": "stream",
     "text": [
      "pred=tensor([1, 4, 0, 4, 0, 4, 0, 4, 1, 4, 4, 1, 0, 0, 4, 4, 4, 4, 0, 1, 4, 5, 4, 4,\n",
      "        0, 0, 4, 4, 4, 4, 4, 4], device='cuda:0'), data.y=tensor([1, 4, 2, 3, 0, 3, 5, 2, 1, 4, 0, 0, 3, 2, 3, 3, 1, 2, 2, 1, 1, 5, 3, 2,\n",
      "        4, 1, 3, 2, 3, 2, 2, 2], device='cuda:0')\n",
      "type(pred)=<class 'torch.Tensor'>, type(data.y)=<class 'torch.Tensor'>\n",
      "DataBatch(edge_index=[2, 139872], edge_attr=[139872, 7], y=[32], num_nodes=7363, x=[7363], batch=[7363], ptr=[33])\n",
      "pred=tensor([4, 4, 4, 0, 4, 4, 4, 1, 0, 4, 4, 4, 0, 4, 4, 4, 4, 4, 4, 4, 4, 0, 4, 4,\n",
      "        4, 5, 4, 0, 4, 0, 4, 4], device='cuda:0'), data.y=tensor([4, 4, 4, 0, 4, 3, 4, 5, 0, 4, 3, 3, 5, 3, 4, 5, 5, 2, 3, 4, 3, 0, 5, 4,\n",
      "        3, 1, 3, 4, 3, 0, 2, 4], device='cuda:0')\n",
      "type(pred)=<class 'torch.Tensor'>, type(data.y)=<class 'torch.Tensor'>\n",
      "DataBatch(edge_index=[2, 133850], edge_attr=[133850, 7], y=[32], num_nodes=7706, x=[7706], batch=[7706], ptr=[33])\n",
      "pred=tensor([4, 4, 4, 4, 4, 4, 1, 1, 4, 4, 0, 4, 4, 4, 4, 4, 4, 4, 0, 0, 4, 0, 4, 4,\n",
      "        4, 4, 5, 4, 4, 1, 0, 4], device='cuda:0'), data.y=tensor([4, 1, 3, 2, 4, 0, 1, 0, 0, 1, 4, 3, 2, 3, 1, 5, 4, 2, 3, 4, 4, 2, 1, 4,\n",
      "        4, 4, 1, 1, 4, 5, 4, 4], device='cuda:0')\n",
      "type(pred)=<class 'torch.Tensor'>, type(data.y)=<class 'torch.Tensor'>\n"
     ]
    },
    {
     "name": "stderr",
     "output_type": "stream",
     "text": [
      "Iterating eval graphs:  91%|█████████▏| 32/35 [00:02<00:00, 12.69batch/s]"
     ]
    },
    {
     "name": "stdout",
     "output_type": "stream",
     "text": [
      "DataBatch(edge_index=[2, 129794], edge_attr=[129794, 7], y=[32], num_nodes=6955, x=[6955], batch=[6955], ptr=[33])\n",
      "pred=tensor([4, 4, 4, 4, 0, 4, 4, 0, 4, 0, 1, 4, 4, 0, 4, 4, 4, 4, 4, 0, 4, 4, 4, 1,\n",
      "        0, 0, 4, 4, 4, 4, 4, 4], device='cuda:0'), data.y=tensor([1, 0, 4, 3, 1, 0, 3, 5, 4, 4, 0, 4, 0, 4, 4, 0, 4, 4, 1, 3, 4, 1, 3, 0,\n",
      "        4, 4, 4, 2, 3, 5, 4, 1], device='cuda:0')\n",
      "type(pred)=<class 'torch.Tensor'>, type(data.y)=<class 'torch.Tensor'>\n",
      "DataBatch(edge_index=[2, 154384], edge_attr=[154384, 7], y=[32], num_nodes=8229, x=[8229], batch=[8229], ptr=[33])\n",
      "pred=tensor([4, 0, 4, 4, 0, 0, 4, 4, 0, 4, 0, 4, 4, 4, 4, 4, 5, 4, 4, 4, 4, 4, 4, 4,\n",
      "        0, 4, 4, 4, 4, 1, 4, 4], device='cuda:0'), data.y=tensor([4, 3, 0, 3, 5, 1, 1, 1, 5, 3, 0, 1, 5, 4, 4, 3, 2, 4, 2, 2, 3, 5, 3, 0,\n",
      "        0, 4, 3, 4, 3, 3, 4, 2], device='cuda:0')\n",
      "type(pred)=<class 'torch.Tensor'>, type(data.y)=<class 'torch.Tensor'>\n",
      "DataBatch(edge_index=[2, 118838], edge_attr=[118838, 7], y=[32], num_nodes=6812, x=[6812], batch=[6812], ptr=[33])\n",
      "pred=tensor([4, 4, 0, 4, 4, 4, 5, 4, 4, 4, 4, 4, 0, 4, 4, 4, 4, 0, 4, 4, 4, 4, 4, 4,\n",
      "        4, 4, 0, 0, 4, 4, 4, 4], device='cuda:0'), data.y=tensor([3, 4, 0, 0, 4, 2, 5, 2, 4, 1, 3, 1, 1, 1, 3, 0, 2, 2, 4, 2, 0, 5, 1, 3,\n",
      "        4, 4, 2, 1, 1, 3, 4, 5], device='cuda:0')\n",
      "type(pred)=<class 'torch.Tensor'>, type(data.y)=<class 'torch.Tensor'>\n"
     ]
    },
    {
     "name": "stderr",
     "output_type": "stream",
     "text": [
      "Iterating eval graphs: 100%|██████████| 35/35 [00:02<00:00, 12.78batch/s]\n",
      "Epoch 3/10, Loss: 1.7260, Train Acc: 0.3042, Val Acc: 0.3027\n",
      "Epoch 3/10, Loss: 1.7260, Train Acc: 0.3042, Val Acc: 0.3027\n",
      "Epoch 3/10, Loss: 1.7260, Train Acc: 0.3042, Val Acc: 0.3027\n",
      "Epoch 3/10, Loss: 1.7260, Train Acc: 0.3042, Val Acc: 0.3027\n",
      "Epoch 3/10, Loss: 1.7260, Train Acc: 0.3042, Val Acc: 0.3027\n"
     ]
    },
    {
     "name": "stdout",
     "output_type": "stream",
     "text": [
      "DataBatch(edge_index=[2, 153150], edge_attr=[153150, 7], y=[32], num_nodes=7683, x=[7683], batch=[7683], ptr=[33])\n",
      "pred=tensor([4, 4, 4, 4, 4, 4, 0, 4, 0, 4, 4, 4, 4, 4, 0, 0, 0, 0, 4, 0, 0, 4, 4, 4,\n",
      "        4, 4, 5, 4, 4, 4, 4, 4], device='cuda:0'), data.y=tensor([2, 2, 4, 3, 1, 3, 3, 1, 3, 0, 5, 1, 3, 4, 4, 0, 4, 3, 4, 2, 2, 4, 4, 3,\n",
      "        2, 4, 0, 0, 3, 1, 4, 5], device='cuda:0')\n",
      "type(pred)=<class 'torch.Tensor'>, type(data.y)=<class 'torch.Tensor'>\n",
      "DataBatch(edge_index=[2, 158418], edge_attr=[158418, 7], y=[32], num_nodes=8101, x=[8101], batch=[8101], ptr=[33])\n",
      "pred=tensor([1, 4, 0, 4, 4, 4, 4, 4, 4, 4, 1, 0, 4, 0, 4, 4, 4, 4, 4, 4, 0, 0, 0, 4,\n",
      "        4, 4, 4, 4, 4, 0, 0, 4], device='cuda:0'), data.y=tensor([1, 2, 1, 5, 3, 4, 4, 2, 0, 5, 4, 4, 4, 2, 3, 0, 4, 4, 2, 4, 0, 0, 4, 0,\n",
      "        2, 0, 4, 4, 4, 4, 5, 3], device='cuda:0')\n",
      "type(pred)=<class 'torch.Tensor'>, type(data.y)=<class 'torch.Tensor'>\n",
      "DataBatch(edge_index=[2, 145944], edge_attr=[145944, 7], y=[32], num_nodes=8005, x=[8005], batch=[8005], ptr=[33])\n",
      "pred=tensor([0, 4, 4, 4, 4, 4, 0, 4, 0, 4, 5, 0, 4, 0, 4, 0, 4, 4, 4, 1, 0, 4, 4, 4,\n",
      "        4, 0, 4, 4, 4, 4, 4, 4], device='cuda:0'), data.y=tensor([0, 3, 4, 4, 4, 5, 0, 1, 2, 3, 1, 4, 1, 0, 5, 0, 3, 3, 5, 4, 5, 2, 4, 1,\n",
      "        1, 0, 4, 4, 5, 4, 2, 5], device='cuda:0')\n",
      "type(pred)=<class 'torch.Tensor'>, type(data.y)=<class 'torch.Tensor'>\n",
      "Epoch 3/10, Loss: 1.7260, Train Acc: 0.3042, Val Acc: 0.3027\n",
      "Best model updated and saved at /home/haislich/Documents/noisy_labels/hackaton/checkpoints/model_B_best.pth\n"
     ]
    },
    {
     "name": "stderr",
     "output_type": "stream",
     "text": [
      "Iterating training graphs: 100%|██████████| 140/140 [00:13<00:00, 10.28batch/s]\n",
      "Iterating eval graphs:   6%|▌         | 2/35 [00:00<00:02, 14.10batch/s]"
     ]
    },
    {
     "name": "stdout",
     "output_type": "stream",
     "text": [
      "DataBatch(edge_index=[2, 135416], edge_attr=[135416, 7], y=[32], num_nodes=7817, x=[7817], batch=[7817], ptr=[33])\n",
      "pred=tensor([4, 4, 4, 1, 4, 4, 4, 4, 4, 1, 4, 4, 4, 4, 0, 4, 4, 4, 1, 4, 3, 4, 4, 4,\n",
      "        4, 0, 4, 4, 0, 4, 4, 4], device='cuda:0'), data.y=tensor([4, 0, 1, 1, 2, 4, 4, 3, 1, 4, 4, 0, 5, 3, 0, 2, 3, 1, 0, 4, 1, 4, 5, 3,\n",
      "        0, 2, 0, 4, 1, 5, 0, 3], device='cuda:0')\n",
      "type(pred)=<class 'torch.Tensor'>, type(data.y)=<class 'torch.Tensor'>\n",
      "DataBatch(edge_index=[2, 121262], edge_attr=[121262, 7], y=[32], num_nodes=6966, x=[6966], batch=[6966], ptr=[33])\n",
      "pred=tensor([4, 4, 4, 4, 4, 1, 4, 4, 4, 4, 0, 4, 4, 4, 4, 4, 4, 4, 4, 0, 4, 4, 4, 4,\n",
      "        4, 4, 4, 4, 4, 4, 4, 4], device='cuda:0'), data.y=tensor([2, 0, 5, 2, 4, 4, 1, 5, 2, 4, 0, 1, 3, 5, 3, 3, 1, 1, 1, 3, 5, 5, 4, 5,\n",
      "        2, 3, 4, 0, 4, 1, 4, 1], device='cuda:0')\n",
      "type(pred)=<class 'torch.Tensor'>, type(data.y)=<class 'torch.Tensor'>\n",
      "DataBatch(edge_index=[2, 144698], edge_attr=[144698, 7], y=[32], num_nodes=7569, x=[7569], batch=[7569], ptr=[33])\n",
      "pred=tensor([4, 4, 4, 4, 0, 4, 4, 4, 1, 4, 4, 4, 4, 4, 4, 1, 4, 4, 0, 4, 4, 4, 4, 4,\n",
      "        1, 4, 4, 4, 1, 4, 4, 4], device='cuda:0'), data.y=tensor([2, 0, 4, 5, 3, 2, 4, 0, 0, 4, 4, 4, 3, 0, 0, 5, 4, 3, 3, 2, 5, 4, 2, 0,\n",
      "        1, 4, 3, 5, 5, 1, 5, 0], device='cuda:0')\n",
      "type(pred)=<class 'torch.Tensor'>, type(data.y)=<class 'torch.Tensor'>\n"
     ]
    },
    {
     "name": "stderr",
     "output_type": "stream",
     "text": [
      "Iterating eval graphs:  17%|█▋        | 6/35 [00:00<00:02, 14.14batch/s]"
     ]
    },
    {
     "name": "stdout",
     "output_type": "stream",
     "text": [
      "DataBatch(edge_index=[2, 127950], edge_attr=[127950, 7], y=[32], num_nodes=7645, x=[7645], batch=[7645], ptr=[33])\n",
      "pred=tensor([4, 4, 4, 4, 0, 4, 4, 4, 4, 4, 4, 0, 1, 4, 0, 4, 4, 4, 4, 4, 0, 4, 4, 4,\n",
      "        4, 4, 4, 0, 4, 4, 0, 4], device='cuda:0'), data.y=tensor([2, 4, 5, 4, 5, 0, 4, 1, 0, 0, 2, 1, 4, 4, 5, 4, 4, 4, 1, 1, 5, 1, 5, 4,\n",
      "        0, 5, 4, 0, 1, 1, 0, 4], device='cuda:0')\n",
      "type(pred)=<class 'torch.Tensor'>, type(data.y)=<class 'torch.Tensor'>\n",
      "DataBatch(edge_index=[2, 120872], edge_attr=[120872, 7], y=[32], num_nodes=7820, x=[7820], batch=[7820], ptr=[33])\n",
      "pred=tensor([4, 4, 4, 4, 1, 4, 4, 4, 0, 4, 4, 4, 4, 4, 4, 0, 4, 0, 4, 4, 4, 4, 4, 4,\n",
      "        4, 4, 4, 4, 4, 4, 4, 0], device='cuda:0'), data.y=tensor([3, 1, 0, 2, 2, 3, 5, 4, 0, 5, 4, 2, 4, 4, 1, 0, 1, 4, 0, 4, 0, 4, 5, 0,\n",
      "        5, 2, 3, 0, 2, 5, 4, 0], device='cuda:0')\n",
      "type(pred)=<class 'torch.Tensor'>, type(data.y)=<class 'torch.Tensor'>\n",
      "DataBatch(edge_index=[2, 125522], edge_attr=[125522, 7], y=[32], num_nodes=6715, x=[6715], batch=[6715], ptr=[33])\n",
      "pred=tensor([4, 4, 4, 4, 4, 0, 4, 4, 4, 4, 4, 4, 4, 4, 4, 4, 3, 4, 4, 4, 4, 4, 4, 0,\n",
      "        4, 4, 4, 3, 1, 4, 0, 4], device='cuda:0'), data.y=tensor([4, 3, 4, 3, 5, 5, 5, 2, 4, 4, 3, 4, 4, 5, 5, 4, 0, 3, 5, 4, 2, 0, 1, 0,\n",
      "        4, 4, 2, 2, 1, 0, 0, 2], device='cuda:0')\n",
      "type(pred)=<class 'torch.Tensor'>, type(data.y)=<class 'torch.Tensor'>\n"
     ]
    },
    {
     "name": "stderr",
     "output_type": "stream",
     "text": [
      "Iterating eval graphs:  23%|██▎       | 8/35 [00:00<00:01, 14.04batch/s]"
     ]
    },
    {
     "name": "stdout",
     "output_type": "stream",
     "text": [
      "DataBatch(edge_index=[2, 120666], edge_attr=[120666, 7], y=[32], num_nodes=7079, x=[7079], batch=[7079], ptr=[33])\n",
      "pred=tensor([4, 4, 4, 4, 4, 4, 4, 1, 4, 4, 4, 4, 4, 4, 4, 4, 4, 4, 4, 4, 4, 4, 4, 4,\n",
      "        4, 4, 0, 4, 1, 4, 4, 4], device='cuda:0'), data.y=tensor([3, 3, 1, 1, 1, 4, 2, 2, 2, 2, 4, 2, 3, 3, 4, 3, 4, 3, 3, 5, 4, 3, 2, 3,\n",
      "        0, 2, 3, 0, 1, 1, 2, 0], device='cuda:0')\n",
      "type(pred)=<class 'torch.Tensor'>, type(data.y)=<class 'torch.Tensor'>\n",
      "DataBatch(edge_index=[2, 137498], edge_attr=[137498, 7], y=[32], num_nodes=7324, x=[7324], batch=[7324], ptr=[33])\n",
      "pred=tensor([4, 4, 0, 1, 4, 4, 4, 4, 4, 0, 4, 4, 1, 0, 4, 4, 4, 0, 4, 4, 4, 4, 0, 0,\n",
      "        0, 1, 0, 0, 0, 0, 4, 4], device='cuda:0'), data.y=tensor([0, 4, 4, 1, 0, 2, 2, 2, 4, 1, 3, 2, 1, 1, 4, 5, 2, 0, 5, 1, 5, 0, 0, 3,\n",
      "        0, 1, 1, 0, 0, 0, 4, 4], device='cuda:0')\n",
      "type(pred)=<class 'torch.Tensor'>, type(data.y)=<class 'torch.Tensor'>\n",
      "DataBatch(edge_index=[2, 137840], edge_attr=[137840, 7], y=[32], num_nodes=7719, x=[7719], batch=[7719], ptr=[33])\n",
      "pred=tensor([4, 1, 4, 4, 4, 0, 4, 4, 4, 0, 4, 1, 4, 1, 1, 4, 4, 4, 0, 4, 3, 4, 4, 4,\n",
      "        4, 4, 4, 1, 1, 4, 4, 4], device='cuda:0'), data.y=tensor([4, 1, 4, 1, 3, 4, 1, 0, 3, 3, 0, 1, 3, 4, 1, 4, 4, 0, 2, 1, 0, 5, 3, 3,\n",
      "        2, 4, 4, 0, 1, 3, 2, 4], device='cuda:0')\n",
      "type(pred)=<class 'torch.Tensor'>, type(data.y)=<class 'torch.Tensor'>\n"
     ]
    },
    {
     "name": "stderr",
     "output_type": "stream",
     "text": [
      "Iterating eval graphs:  34%|███▍      | 12/35 [00:00<00:01, 13.25batch/s]"
     ]
    },
    {
     "name": "stdout",
     "output_type": "stream",
     "text": [
      "DataBatch(edge_index=[2, 198718], edge_attr=[198718, 7], y=[32], num_nodes=8382, x=[8382], batch=[8382], ptr=[33])\n",
      "pred=tensor([3, 4, 3, 4, 0, 0, 4, 0, 4, 4, 0, 4, 4, 4, 3, 4, 4, 4, 4, 4, 0, 4, 4, 4,\n",
      "        4, 4, 4, 4, 4, 1, 4, 4], device='cuda:0'), data.y=tensor([1, 1, 2, 1, 5, 3, 3, 5, 4, 2, 0, 0, 0, 3, 3, 4, 2, 4, 2, 1, 2, 3, 4, 5,\n",
      "        4, 4, 0, 5, 4, 5, 4, 2], device='cuda:0')\n",
      "type(pred)=<class 'torch.Tensor'>, type(data.y)=<class 'torch.Tensor'>\n",
      "DataBatch(edge_index=[2, 122004], edge_attr=[122004, 7], y=[32], num_nodes=6747, x=[6747], batch=[6747], ptr=[33])\n",
      "pred=tensor([4, 4, 4, 0, 3, 4, 4, 0, 4, 4, 4, 4, 4, 4, 4, 0, 4, 4, 4, 4, 4, 1, 4, 4,\n",
      "        4, 4, 0, 4, 4, 4, 4, 4], device='cuda:0'), data.y=tensor([4, 4, 5, 4, 0, 4, 0, 5, 1, 1, 3, 4, 3, 5, 1, 4, 3, 4, 5, 2, 4, 4, 1, 4,\n",
      "        3, 2, 0, 4, 3, 4, 2, 5], device='cuda:0')\n",
      "type(pred)=<class 'torch.Tensor'>, type(data.y)=<class 'torch.Tensor'>\n",
      "DataBatch(edge_index=[2, 135852], edge_attr=[135852, 7], y=[32], num_nodes=7607, x=[7607], batch=[7607], ptr=[33])\n",
      "pred=tensor([4, 4, 0, 4, 4, 1, 4, 4, 4, 4, 4, 4, 4, 3, 4, 4, 0, 4, 4, 4, 4, 4, 4, 4,\n",
      "        0, 4, 4, 0, 4, 3, 4, 4], device='cuda:0'), data.y=tensor([4, 3, 5, 5, 5, 2, 2, 1, 3, 4, 3, 3, 3, 0, 1, 1, 0, 1, 2, 1, 0, 4, 3, 3,\n",
      "        2, 2, 0, 2, 1, 0, 1, 0], device='cuda:0')\n",
      "type(pred)=<class 'torch.Tensor'>, type(data.y)=<class 'torch.Tensor'>\n"
     ]
    },
    {
     "name": "stderr",
     "output_type": "stream",
     "text": [
      "Iterating eval graphs:  40%|████      | 14/35 [00:01<00:01, 13.07batch/s]"
     ]
    },
    {
     "name": "stdout",
     "output_type": "stream",
     "text": [
      "DataBatch(edge_index=[2, 139278], edge_attr=[139278, 7], y=[32], num_nodes=7386, x=[7386], batch=[7386], ptr=[33])\n",
      "pred=tensor([4, 4, 4, 4, 4, 4, 1, 0, 4, 4, 4, 4, 4, 0, 0, 0, 4, 4, 4, 4, 4, 0, 4, 3,\n",
      "        4, 4, 4, 3, 4, 4, 4, 4], device='cuda:0'), data.y=tensor([1, 0, 4, 5, 1, 5, 1, 1, 2, 0, 4, 2, 2, 4, 1, 0, 1, 5, 4, 4, 3, 0, 4, 4,\n",
      "        0, 2, 0, 3, 3, 1, 0, 3], device='cuda:0')\n",
      "type(pred)=<class 'torch.Tensor'>, type(data.y)=<class 'torch.Tensor'>\n",
      "DataBatch(edge_index=[2, 149492], edge_attr=[149492, 7], y=[32], num_nodes=7921, x=[7921], batch=[7921], ptr=[33])\n",
      "pred=tensor([4, 4, 4, 4, 4, 4, 1, 4, 4, 0, 0, 4, 4, 4, 4, 4, 4, 1, 0, 4, 4, 4, 4, 4,\n",
      "        4, 4, 4, 4, 4, 0, 4, 4], device='cuda:0'), data.y=tensor([1, 5, 0, 3, 1, 1, 1, 1, 2, 3, 4, 2, 4, 0, 3, 4, 1, 3, 0, 3, 2, 4, 1, 3,\n",
      "        4, 2, 5, 5, 1, 3, 0, 4], device='cuda:0')\n",
      "type(pred)=<class 'torch.Tensor'>, type(data.y)=<class 'torch.Tensor'>\n",
      "DataBatch(edge_index=[2, 138360], edge_attr=[138360, 7], y=[32], num_nodes=7638, x=[7638], batch=[7638], ptr=[33])\n",
      "pred=tensor([4, 4, 4, 4, 0, 4, 4, 4, 3, 4, 0, 0, 4, 4, 1, 4, 4, 4, 4, 4, 4, 4, 0, 4,\n",
      "        4, 4, 4, 3, 4, 4, 3, 4], device='cuda:0'), data.y=tensor([3, 3, 1, 1, 1, 1, 5, 2, 2, 2, 4, 0, 0, 3, 2, 3, 2, 4, 1, 5, 4, 3, 2, 4,\n",
      "        4, 1, 4, 3, 3, 3, 5, 0], device='cuda:0')\n",
      "type(pred)=<class 'torch.Tensor'>, type(data.y)=<class 'torch.Tensor'>\n"
     ]
    },
    {
     "name": "stderr",
     "output_type": "stream",
     "text": [
      "Iterating eval graphs:  51%|█████▏    | 18/35 [00:01<00:01, 13.37batch/s]"
     ]
    },
    {
     "name": "stdout",
     "output_type": "stream",
     "text": [
      "DataBatch(edge_index=[2, 133568], edge_attr=[133568, 7], y=[32], num_nodes=7365, x=[7365], batch=[7365], ptr=[33])\n",
      "pred=tensor([4, 4, 4, 4, 4, 3, 4, 4, 4, 4, 0, 4, 4, 4, 0, 1, 4, 4, 4, 0, 0, 4, 4, 4,\n",
      "        4, 3, 4, 4, 4, 4, 4, 4], device='cuda:0'), data.y=tensor([4, 4, 5, 4, 2, 0, 5, 1, 2, 4, 3, 5, 1, 5, 4, 1, 0, 4, 5, 0, 2, 5, 1, 4,\n",
      "        4, 2, 2, 1, 4, 3, 5, 4], device='cuda:0')\n",
      "type(pred)=<class 'torch.Tensor'>, type(data.y)=<class 'torch.Tensor'>\n",
      "DataBatch(edge_index=[2, 118182], edge_attr=[118182, 7], y=[32], num_nodes=7006, x=[7006], batch=[7006], ptr=[33])\n",
      "pred=tensor([4, 4, 4, 4, 4, 4, 4, 3, 4, 4, 0, 4, 0, 1, 4, 4, 4, 4, 4, 4, 4, 4, 4, 4,\n",
      "        0, 3, 4, 4, 4, 4, 4, 4], device='cuda:0'), data.y=tensor([2, 5, 1, 1, 4, 4, 1, 5, 1, 2, 0, 2, 2, 0, 5, 4, 1, 4, 4, 4, 4, 5, 4, 4,\n",
      "        1, 3, 4, 2, 4, 4, 3, 1], device='cuda:0')\n",
      "type(pred)=<class 'torch.Tensor'>, type(data.y)=<class 'torch.Tensor'>\n",
      "DataBatch(edge_index=[2, 144366], edge_attr=[144366, 7], y=[32], num_nodes=7705, x=[7705], batch=[7705], ptr=[33])\n",
      "pred=tensor([3, 4, 4, 4, 0, 0, 4, 4, 4, 4, 4, 4, 4, 4, 4, 4, 4, 0, 4, 4, 4, 4, 4, 3,\n",
      "        0, 4, 4, 4, 3, 4, 4, 4], device='cuda:0'), data.y=tensor([0, 4, 0, 1, 0, 0, 4, 1, 1, 2, 4, 4, 2, 0, 5, 1, 1, 5, 1, 4, 0, 4, 2, 3,\n",
      "        3, 3, 1, 1, 1, 1, 3, 4], device='cuda:0')\n",
      "type(pred)=<class 'torch.Tensor'>, type(data.y)=<class 'torch.Tensor'>\n"
     ]
    },
    {
     "name": "stderr",
     "output_type": "stream",
     "text": [
      "Iterating eval graphs:  57%|█████▋    | 20/35 [00:01<00:01, 12.92batch/s]"
     ]
    },
    {
     "name": "stdout",
     "output_type": "stream",
     "text": [
      "DataBatch(edge_index=[2, 140508], edge_attr=[140508, 7], y=[32], num_nodes=6848, x=[6848], batch=[6848], ptr=[33])\n",
      "pred=tensor([4, 4, 0, 1, 1, 1, 4, 4, 4, 0, 4, 4, 0, 0, 4, 4, 1, 4, 4, 4, 4, 4, 4, 4,\n",
      "        4, 4, 1, 4, 4, 0, 4, 4], device='cuda:0'), data.y=tensor([3, 3, 0, 1, 1, 3, 1, 3, 2, 4, 5, 0, 3, 3, 4, 0, 2, 5, 3, 1, 0, 5, 0, 5,\n",
      "        2, 2, 3, 2, 4, 0, 2, 4], device='cuda:0')\n",
      "type(pred)=<class 'torch.Tensor'>, type(data.y)=<class 'torch.Tensor'>\n",
      "DataBatch(edge_index=[2, 159828], edge_attr=[159828, 7], y=[32], num_nodes=8428, x=[8428], batch=[8428], ptr=[33])\n",
      "pred=tensor([4, 4, 4, 0, 0, 0, 4, 4, 1, 4, 3, 4, 4, 4, 4, 1, 4, 0, 4, 4, 4, 4, 4, 4,\n",
      "        4, 4, 4, 4, 4, 4, 4, 4], device='cuda:0'), data.y=tensor([5, 0, 0, 2, 0, 4, 4, 3, 1, 5, 5, 3, 0, 5, 0, 0, 1, 0, 2, 5, 4, 5, 1, 5,\n",
      "        1, 3, 4, 1, 1, 2, 3, 1], device='cuda:0')\n",
      "type(pred)=<class 'torch.Tensor'>, type(data.y)=<class 'torch.Tensor'>\n",
      "DataBatch(edge_index=[2, 136874], edge_attr=[136874, 7], y=[32], num_nodes=6771, x=[6771], batch=[6771], ptr=[33])\n",
      "pred=tensor([0, 4, 4, 4, 4, 4, 0, 4, 4, 4, 0, 4, 4, 4, 4, 0, 4, 4, 4, 4, 4, 4, 4, 0,\n",
      "        4, 1, 3, 1, 4, 4, 4, 0], device='cuda:0'), data.y=tensor([3, 4, 1, 4, 4, 0, 4, 0, 3, 2, 0, 0, 4, 3, 1, 0, 1, 0, 1, 3, 1, 1, 0, 2,\n",
      "        4, 1, 3, 1, 2, 5, 0, 1], device='cuda:0')\n",
      "type(pred)=<class 'torch.Tensor'>, type(data.y)=<class 'torch.Tensor'>\n"
     ]
    },
    {
     "name": "stderr",
     "output_type": "stream",
     "text": [
      "Iterating eval graphs:  69%|██████▊   | 24/35 [00:01<00:00, 12.88batch/s]"
     ]
    },
    {
     "name": "stdout",
     "output_type": "stream",
     "text": [
      "DataBatch(edge_index=[2, 171060], edge_attr=[171060, 7], y=[32], num_nodes=8260, x=[8260], batch=[8260], ptr=[33])\n",
      "pred=tensor([3, 4, 1, 3, 3, 4, 4, 4, 1, 4, 0, 0, 4, 4, 4, 4, 4, 4, 0, 3, 4, 4, 4, 4,\n",
      "        4, 4, 4, 4, 4, 4, 4, 4], device='cuda:0'), data.y=tensor([5, 3, 3, 0, 1, 4, 4, 2, 1, 4, 5, 5, 1, 5, 5, 3, 2, 3, 0, 0, 0, 3, 4, 4,\n",
      "        5, 4, 2, 3, 4, 1, 1, 2], device='cuda:0')\n",
      "type(pred)=<class 'torch.Tensor'>, type(data.y)=<class 'torch.Tensor'>\n",
      "DataBatch(edge_index=[2, 136498], edge_attr=[136498, 7], y=[32], num_nodes=7887, x=[7887], batch=[7887], ptr=[33])\n",
      "pred=tensor([0, 4, 4, 4, 4, 0, 4, 4, 4, 4, 4, 4, 4, 4, 4, 4, 4, 4, 4, 0, 4, 0, 4, 4,\n",
      "        4, 4, 3, 1, 4, 4, 4, 4], device='cuda:0'), data.y=tensor([2, 4, 4, 0, 4, 5, 4, 1, 4, 2, 3, 1, 2, 1, 1, 4, 0, 3, 0, 0, 3, 3, 2, 0,\n",
      "        4, 0, 4, 1, 3, 3, 4, 0], device='cuda:0')\n",
      "type(pred)=<class 'torch.Tensor'>, type(data.y)=<class 'torch.Tensor'>\n",
      "DataBatch(edge_index=[2, 126350], edge_attr=[126350, 7], y=[32], num_nodes=6480, x=[6480], batch=[6480], ptr=[33])\n",
      "pred=tensor([4, 4, 4, 4, 4, 4, 4, 4, 4, 4, 4, 4, 3, 1, 4, 4, 4, 4, 1, 1, 4, 4, 4, 0,\n",
      "        1, 0, 0, 4, 4, 4, 4, 1], device='cuda:0'), data.y=tensor([3, 5, 3, 3, 4, 3, 0, 1, 3, 1, 2, 3, 0, 3, 4, 2, 1, 4, 0, 5, 4, 1, 3, 4,\n",
      "        1, 0, 0, 1, 0, 2, 5, 3], device='cuda:0')\n",
      "type(pred)=<class 'torch.Tensor'>, type(data.y)=<class 'torch.Tensor'>\n"
     ]
    },
    {
     "name": "stderr",
     "output_type": "stream",
     "text": [
      "Iterating eval graphs:  74%|███████▍  | 26/35 [00:01<00:00, 12.59batch/s]"
     ]
    },
    {
     "name": "stdout",
     "output_type": "stream",
     "text": [
      "DataBatch(edge_index=[2, 152242], edge_attr=[152242, 7], y=[32], num_nodes=7983, x=[7983], batch=[7983], ptr=[33])\n",
      "pred=tensor([4, 0, 4, 1, 0, 3, 4, 0, 4, 4, 4, 4, 1, 0, 4, 0, 0, 0, 4, 4, 4, 4, 4, 0,\n",
      "        4, 4, 4, 1, 4, 1, 4, 4], device='cuda:0'), data.y=tensor([1, 4, 1, 1, 0, 2, 3, 0, 1, 4, 2, 1, 1, 0, 2, 0, 4, 0, 2, 0, 0, 1, 3, 4,\n",
      "        0, 4, 4, 1, 1, 4, 5, 0], device='cuda:0')\n",
      "type(pred)=<class 'torch.Tensor'>, type(data.y)=<class 'torch.Tensor'>\n",
      "DataBatch(edge_index=[2, 156674], edge_attr=[156674, 7], y=[32], num_nodes=7784, x=[7784], batch=[7784], ptr=[33])\n",
      "pred=tensor([4, 4, 0, 4, 4, 4, 0, 4, 3, 4, 4, 4, 4, 4, 0, 4, 4, 4, 4, 0, 4, 4, 4, 4,\n",
      "        4, 4, 4, 4, 4, 4, 4, 4], device='cuda:0'), data.y=tensor([5, 2, 5, 0, 4, 0, 5, 2, 1, 2, 3, 1, 1, 2, 3, 3, 1, 4, 1, 2, 4, 2, 5, 1,\n",
      "        4, 3, 2, 0, 0, 2, 5, 5], device='cuda:0')\n",
      "type(pred)=<class 'torch.Tensor'>, type(data.y)=<class 'torch.Tensor'>\n",
      "DataBatch(edge_index=[2, 151204], edge_attr=[151204, 7], y=[32], num_nodes=7305, x=[7305], batch=[7305], ptr=[33])\n",
      "pred=tensor([4, 4, 0, 4, 0, 4, 4, 4, 4, 4, 4, 1, 3, 0, 4, 4, 4, 4, 0, 3, 4, 4, 4, 4,\n",
      "        0, 1, 4, 4, 4, 4, 4, 4], device='cuda:0'), data.y=tensor([1, 4, 2, 3, 0, 3, 5, 2, 1, 4, 0, 0, 3, 2, 3, 3, 1, 2, 2, 1, 1, 5, 3, 2,\n",
      "        4, 1, 3, 2, 3, 2, 2, 2], device='cuda:0')\n",
      "type(pred)=<class 'torch.Tensor'>, type(data.y)=<class 'torch.Tensor'>\n"
     ]
    },
    {
     "name": "stderr",
     "output_type": "stream",
     "text": [
      "Iterating eval graphs:  86%|████████▌ | 30/35 [00:02<00:00, 12.97batch/s]"
     ]
    },
    {
     "name": "stdout",
     "output_type": "stream",
     "text": [
      "DataBatch(edge_index=[2, 139872], edge_attr=[139872, 7], y=[32], num_nodes=7363, x=[7363], batch=[7363], ptr=[33])\n",
      "pred=tensor([4, 4, 4, 0, 4, 4, 4, 1, 0, 4, 4, 4, 0, 4, 4, 4, 4, 4, 4, 4, 4, 4, 0, 4,\n",
      "        4, 3, 4, 4, 4, 3, 4, 4], device='cuda:0'), data.y=tensor([4, 4, 4, 0, 4, 3, 4, 5, 0, 4, 3, 3, 5, 3, 4, 5, 5, 2, 3, 4, 3, 0, 5, 4,\n",
      "        3, 1, 3, 4, 3, 0, 2, 4], device='cuda:0')\n",
      "type(pred)=<class 'torch.Tensor'>, type(data.y)=<class 'torch.Tensor'>\n",
      "DataBatch(edge_index=[2, 133850], edge_attr=[133850, 7], y=[32], num_nodes=7706, x=[7706], batch=[7706], ptr=[33])\n",
      "pred=tensor([4, 4, 4, 4, 4, 4, 1, 1, 4, 4, 0, 4, 4, 4, 4, 4, 4, 4, 4, 0, 4, 1, 4, 4,\n",
      "        4, 4, 4, 4, 4, 4, 3, 4], device='cuda:0'), data.y=tensor([4, 1, 3, 2, 4, 0, 1, 0, 0, 1, 4, 3, 2, 3, 1, 5, 4, 2, 3, 4, 4, 2, 1, 4,\n",
      "        4, 4, 1, 1, 4, 5, 4, 4], device='cuda:0')\n",
      "type(pred)=<class 'torch.Tensor'>, type(data.y)=<class 'torch.Tensor'>\n",
      "DataBatch(edge_index=[2, 129794], edge_attr=[129794, 7], y=[32], num_nodes=6955, x=[6955], batch=[6955], ptr=[33])\n",
      "pred=tensor([4, 4, 4, 4, 0, 4, 4, 3, 4, 0, 0, 4, 4, 0, 4, 4, 4, 4, 4, 4, 4, 4, 4, 4,\n",
      "        0, 0, 4, 4, 4, 4, 4, 1], device='cuda:0'), data.y=tensor([1, 0, 4, 3, 1, 0, 3, 5, 4, 4, 0, 4, 0, 4, 4, 0, 4, 4, 1, 3, 4, 1, 3, 0,\n",
      "        4, 4, 4, 2, 3, 5, 4, 1], device='cuda:0')\n",
      "type(pred)=<class 'torch.Tensor'>, type(data.y)=<class 'torch.Tensor'>\n"
     ]
    },
    {
     "name": "stderr",
     "output_type": "stream",
     "text": [
      "Iterating eval graphs:  91%|█████████▏| 32/35 [00:02<00:00, 13.02batch/s]"
     ]
    },
    {
     "name": "stdout",
     "output_type": "stream",
     "text": [
      "DataBatch(edge_index=[2, 154384], edge_attr=[154384, 7], y=[32], num_nodes=8229, x=[8229], batch=[8229], ptr=[33])\n",
      "pred=tensor([4, 3, 4, 4, 4, 0, 4, 4, 4, 4, 0, 4, 4, 4, 4, 4, 4, 4, 4, 4, 0, 4, 4, 4,\n",
      "        0, 4, 4, 4, 4, 4, 1, 4], device='cuda:0'), data.y=tensor([4, 3, 0, 3, 5, 1, 1, 1, 5, 3, 0, 1, 5, 4, 4, 3, 2, 4, 2, 2, 3, 5, 3, 0,\n",
      "        0, 4, 3, 4, 3, 3, 4, 2], device='cuda:0')\n",
      "type(pred)=<class 'torch.Tensor'>, type(data.y)=<class 'torch.Tensor'>\n",
      "DataBatch(edge_index=[2, 118838], edge_attr=[118838, 7], y=[32], num_nodes=6812, x=[6812], batch=[6812], ptr=[33])\n",
      "pred=tensor([4, 4, 1, 4, 4, 4, 4, 4, 4, 4, 4, 4, 0, 4, 4, 4, 4, 4, 4, 4, 4, 4, 4, 4,\n",
      "        4, 4, 1, 3, 4, 4, 4, 4], device='cuda:0'), data.y=tensor([3, 4, 0, 0, 4, 2, 5, 2, 4, 1, 3, 1, 1, 1, 3, 0, 2, 2, 4, 2, 0, 5, 1, 3,\n",
      "        4, 4, 2, 1, 1, 3, 4, 5], device='cuda:0')\n",
      "type(pred)=<class 'torch.Tensor'>, type(data.y)=<class 'torch.Tensor'>\n",
      "DataBatch(edge_index=[2, 153150], edge_attr=[153150, 7], y=[32], num_nodes=7683, x=[7683], batch=[7683], ptr=[33])\n",
      "pred=tensor([4, 4, 4, 4, 4, 4, 1, 4, 1, 4, 4, 4, 1, 4, 4, 4, 4, 3, 4, 3, 3, 4, 4, 4,\n",
      "        4, 4, 3, 4, 4, 4, 4, 4], device='cuda:0'), data.y=tensor([2, 2, 4, 3, 1, 3, 3, 1, 3, 0, 5, 1, 3, 4, 4, 0, 4, 3, 4, 2, 2, 4, 4, 3,\n",
      "        2, 4, 0, 0, 3, 1, 4, 5], device='cuda:0')\n",
      "type(pred)=<class 'torch.Tensor'>, type(data.y)=<class 'torch.Tensor'>\n"
     ]
    },
    {
     "name": "stderr",
     "output_type": "stream",
     "text": [
      "Iterating eval graphs: 100%|██████████| 35/35 [00:02<00:00, 12.95batch/s]\n",
      "Epoch 4/10, Loss: 1.7187, Train Acc: 0.3165, Val Acc: 0.2902\n",
      "Epoch 4/10, Loss: 1.7187, Train Acc: 0.3165, Val Acc: 0.2902\n",
      "Epoch 4/10, Loss: 1.7187, Train Acc: 0.3165, Val Acc: 0.2902\n",
      "Epoch 4/10, Loss: 1.7187, Train Acc: 0.3165, Val Acc: 0.2902\n",
      "Epoch 4/10, Loss: 1.7187, Train Acc: 0.3165, Val Acc: 0.2902\n"
     ]
    },
    {
     "name": "stdout",
     "output_type": "stream",
     "text": [
      "DataBatch(edge_index=[2, 158418], edge_attr=[158418, 7], y=[32], num_nodes=8101, x=[8101], batch=[8101], ptr=[33])\n",
      "pred=tensor([1, 4, 4, 4, 4, 4, 4, 4, 4, 1, 1, 0, 4, 3, 4, 4, 4, 4, 4, 4, 0, 0, 3, 4,\n",
      "        4, 4, 4, 4, 4, 0, 4, 4], device='cuda:0'), data.y=tensor([1, 2, 1, 5, 3, 4, 4, 2, 0, 5, 4, 4, 4, 2, 3, 0, 4, 4, 2, 4, 0, 0, 4, 0,\n",
      "        2, 0, 4, 4, 4, 4, 5, 3], device='cuda:0')\n",
      "type(pred)=<class 'torch.Tensor'>, type(data.y)=<class 'torch.Tensor'>\n",
      "DataBatch(edge_index=[2, 145944], edge_attr=[145944, 7], y=[32], num_nodes=8005, x=[8005], batch=[8005], ptr=[33])\n",
      "pred=tensor([0, 4, 4, 4, 4, 4, 0, 4, 4, 4, 4, 0, 4, 0, 4, 0, 4, 4, 4, 1, 4, 4, 4, 4,\n",
      "        4, 4, 4, 4, 4, 4, 4, 4], device='cuda:0'), data.y=tensor([0, 3, 4, 4, 4, 5, 0, 1, 2, 3, 1, 4, 1, 0, 5, 0, 3, 3, 5, 4, 5, 2, 4, 1,\n",
      "        1, 0, 4, 4, 5, 4, 2, 5], device='cuda:0')\n",
      "type(pred)=<class 'torch.Tensor'>, type(data.y)=<class 'torch.Tensor'>\n",
      "Epoch 4/10, Loss: 1.7187, Train Acc: 0.3165, Val Acc: 0.2902\n"
     ]
    },
    {
     "name": "stderr",
     "output_type": "stream",
     "text": [
      "Iterating training graphs: 100%|██████████| 140/140 [00:13<00:00, 10.22batch/s]\n",
      "Iterating eval graphs:   6%|▌         | 2/35 [00:00<00:02, 14.31batch/s]"
     ]
    },
    {
     "name": "stdout",
     "output_type": "stream",
     "text": [
      "DataBatch(edge_index=[2, 135416], edge_attr=[135416, 7], y=[32], num_nodes=7817, x=[7817], batch=[7817], ptr=[33])\n",
      "pred=tensor([4, 4, 4, 1, 4, 4, 0, 4, 4, 1, 4, 4, 4, 4, 0, 4, 4, 4, 1, 4, 0, 4, 4, 4,\n",
      "        4, 0, 4, 4, 0, 4, 4, 4], device='cuda:0'), data.y=tensor([4, 0, 1, 1, 2, 4, 4, 3, 1, 4, 4, 0, 5, 3, 0, 2, 3, 1, 0, 4, 1, 4, 5, 3,\n",
      "        0, 2, 0, 4, 1, 5, 0, 3], device='cuda:0')\n",
      "type(pred)=<class 'torch.Tensor'>, type(data.y)=<class 'torch.Tensor'>\n",
      "DataBatch(edge_index=[2, 121262], edge_attr=[121262, 7], y=[32], num_nodes=6966, x=[6966], batch=[6966], ptr=[33])\n",
      "pred=tensor([1, 4, 4, 4, 4, 4, 4, 4, 4, 4, 0, 4, 4, 4, 0, 4, 0, 4, 4, 0, 4, 4, 4, 4,\n",
      "        4, 4, 4, 4, 4, 4, 4, 4], device='cuda:0'), data.y=tensor([2, 0, 5, 2, 4, 4, 1, 5, 2, 4, 0, 1, 3, 5, 3, 3, 1, 1, 1, 3, 5, 5, 4, 5,\n",
      "        2, 3, 4, 0, 4, 1, 4, 1], device='cuda:0')\n",
      "type(pred)=<class 'torch.Tensor'>, type(data.y)=<class 'torch.Tensor'>\n",
      "DataBatch(edge_index=[2, 144698], edge_attr=[144698, 7], y=[32], num_nodes=7569, x=[7569], batch=[7569], ptr=[33])\n",
      "pred=tensor([0, 4, 4, 4, 0, 4, 4, 0, 4, 4, 4, 4, 0, 4, 4, 1, 4, 4, 0, 4, 4, 4, 4, 4,\n",
      "        1, 4, 4, 4, 1, 1, 4, 1], device='cuda:0'), data.y=tensor([2, 0, 4, 5, 3, 2, 4, 0, 0, 4, 4, 4, 3, 0, 0, 5, 4, 3, 3, 2, 5, 4, 2, 0,\n",
      "        1, 4, 3, 5, 5, 1, 5, 0], device='cuda:0')\n",
      "type(pred)=<class 'torch.Tensor'>, type(data.y)=<class 'torch.Tensor'>\n"
     ]
    },
    {
     "name": "stderr",
     "output_type": "stream",
     "text": [
      "Iterating eval graphs:  17%|█▋        | 6/35 [00:00<00:02, 14.20batch/s]"
     ]
    },
    {
     "name": "stdout",
     "output_type": "stream",
     "text": [
      "DataBatch(edge_index=[2, 127950], edge_attr=[127950, 7], y=[32], num_nodes=7645, x=[7645], batch=[7645], ptr=[33])\n",
      "pred=tensor([4, 4, 4, 4, 0, 4, 4, 4, 4, 0, 4, 0, 1, 4, 0, 4, 4, 4, 4, 4, 0, 1, 4, 0,\n",
      "        4, 4, 0, 0, 4, 4, 0, 4], device='cuda:0'), data.y=tensor([2, 4, 5, 4, 5, 0, 4, 1, 0, 0, 2, 1, 4, 4, 5, 4, 4, 4, 1, 1, 5, 1, 5, 4,\n",
      "        0, 5, 4, 0, 1, 1, 0, 4], device='cuda:0')\n",
      "type(pred)=<class 'torch.Tensor'>, type(data.y)=<class 'torch.Tensor'>\n",
      "DataBatch(edge_index=[2, 120872], edge_attr=[120872, 7], y=[32], num_nodes=7820, x=[7820], batch=[7820], ptr=[33])\n",
      "pred=tensor([0, 4, 4, 4, 1, 4, 4, 4, 0, 4, 4, 4, 4, 4, 4, 0, 4, 0, 0, 4, 4, 4, 4, 4,\n",
      "        4, 4, 4, 4, 0, 0, 4, 0], device='cuda:0'), data.y=tensor([3, 1, 0, 2, 2, 3, 5, 4, 0, 5, 4, 2, 4, 4, 1, 0, 1, 4, 0, 4, 0, 4, 5, 0,\n",
      "        5, 2, 3, 0, 2, 5, 4, 0], device='cuda:0')\n",
      "type(pred)=<class 'torch.Tensor'>, type(data.y)=<class 'torch.Tensor'>\n",
      "DataBatch(edge_index=[2, 125522], edge_attr=[125522, 7], y=[32], num_nodes=6715, x=[6715], batch=[6715], ptr=[33])\n",
      "pred=tensor([0, 4, 4, 4, 4, 0, 4, 4, 4, 4, 4, 4, 4, 4, 4, 4, 0, 4, 4, 4, 4, 4, 4, 0,\n",
      "        4, 4, 4, 0, 1, 4, 0, 4], device='cuda:0'), data.y=tensor([4, 3, 4, 3, 5, 5, 5, 2, 4, 4, 3, 4, 4, 5, 5, 4, 0, 3, 5, 4, 2, 0, 1, 0,\n",
      "        4, 4, 2, 2, 1, 0, 0, 2], device='cuda:0')\n",
      "type(pred)=<class 'torch.Tensor'>, type(data.y)=<class 'torch.Tensor'>\n"
     ]
    },
    {
     "name": "stderr",
     "output_type": "stream",
     "text": [
      "Iterating eval graphs:  23%|██▎       | 8/35 [00:00<00:01, 14.11batch/s]"
     ]
    },
    {
     "name": "stdout",
     "output_type": "stream",
     "text": [
      "DataBatch(edge_index=[2, 120666], edge_attr=[120666, 7], y=[32], num_nodes=7079, x=[7079], batch=[7079], ptr=[33])\n",
      "pred=tensor([4, 4, 4, 4, 4, 4, 4, 1, 4, 4, 4, 4, 4, 4, 4, 4, 4, 4, 4, 4, 4, 4, 0, 4,\n",
      "        0, 1, 0, 4, 1, 0, 4, 4], device='cuda:0'), data.y=tensor([3, 3, 1, 1, 1, 4, 2, 2, 2, 2, 4, 2, 3, 3, 4, 3, 4, 3, 3, 5, 4, 3, 2, 3,\n",
      "        0, 2, 3, 0, 1, 1, 2, 0], device='cuda:0')\n",
      "type(pred)=<class 'torch.Tensor'>, type(data.y)=<class 'torch.Tensor'>\n",
      "DataBatch(edge_index=[2, 137498], edge_attr=[137498, 7], y=[32], num_nodes=7324, x=[7324], batch=[7324], ptr=[33])\n",
      "pred=tensor([0, 4, 0, 1, 0, 1, 4, 4, 4, 0, 4, 4, 1, 0, 4, 4, 4, 0, 4, 4, 0, 4, 0, 0,\n",
      "        0, 1, 0, 0, 0, 0, 4, 4], device='cuda:0'), data.y=tensor([0, 4, 4, 1, 0, 2, 2, 2, 4, 1, 3, 2, 1, 1, 4, 5, 2, 0, 5, 1, 5, 0, 0, 3,\n",
      "        0, 1, 1, 0, 0, 0, 4, 4], device='cuda:0')\n",
      "type(pred)=<class 'torch.Tensor'>, type(data.y)=<class 'torch.Tensor'>\n",
      "DataBatch(edge_index=[2, 137840], edge_attr=[137840, 7], y=[32], num_nodes=7719, x=[7719], batch=[7719], ptr=[33])\n",
      "pred=tensor([4, 1, 4, 4, 4, 0, 4, 4, 4, 0, 4, 1, 4, 4, 1, 4, 4, 4, 0, 4, 0, 4, 4, 4,\n",
      "        4, 4, 4, 1, 1, 0, 4, 4], device='cuda:0'), data.y=tensor([4, 1, 4, 1, 3, 4, 1, 0, 3, 3, 0, 1, 3, 4, 1, 4, 4, 0, 2, 1, 0, 5, 3, 3,\n",
      "        2, 4, 4, 0, 1, 3, 2, 4], device='cuda:0')\n",
      "type(pred)=<class 'torch.Tensor'>, type(data.y)=<class 'torch.Tensor'>\n"
     ]
    },
    {
     "name": "stderr",
     "output_type": "stream",
     "text": [
      "Iterating eval graphs:  34%|███▍      | 12/35 [00:00<00:01, 13.13batch/s]"
     ]
    },
    {
     "name": "stdout",
     "output_type": "stream",
     "text": [
      "DataBatch(edge_index=[2, 198718], edge_attr=[198718, 7], y=[32], num_nodes=8382, x=[8382], batch=[8382], ptr=[33])\n",
      "pred=tensor([0, 1, 0, 0, 0, 0, 4, 0, 4, 0, 0, 0, 0, 0, 0, 4, 4, 4, 4, 4, 0, 4, 4, 0,\n",
      "        4, 4, 0, 0, 4, 1, 4, 4], device='cuda:0'), data.y=tensor([1, 1, 2, 1, 5, 3, 3, 5, 4, 2, 0, 0, 0, 3, 3, 4, 2, 4, 2, 1, 2, 3, 4, 5,\n",
      "        4, 4, 0, 5, 4, 5, 4, 2], device='cuda:0')\n",
      "type(pred)=<class 'torch.Tensor'>, type(data.y)=<class 'torch.Tensor'>\n",
      "DataBatch(edge_index=[2, 122004], edge_attr=[122004, 7], y=[32], num_nodes=6747, x=[6747], batch=[6747], ptr=[33])\n",
      "pred=tensor([4, 4, 0, 0, 0, 4, 0, 0, 4, 4, 4, 4, 4, 0, 4, 0, 4, 4, 4, 4, 1, 1, 1, 0,\n",
      "        4, 4, 0, 4, 4, 4, 4, 1], device='cuda:0'), data.y=tensor([4, 4, 5, 4, 0, 4, 0, 5, 1, 1, 3, 4, 3, 5, 1, 4, 3, 4, 5, 2, 4, 4, 1, 4,\n",
      "        3, 2, 0, 4, 3, 4, 2, 5], device='cuda:0')\n",
      "type(pred)=<class 'torch.Tensor'>, type(data.y)=<class 'torch.Tensor'>\n",
      "DataBatch(edge_index=[2, 135852], edge_attr=[135852, 7], y=[32], num_nodes=7607, x=[7607], batch=[7607], ptr=[33])\n",
      "pred=tensor([4, 4, 0, 0, 4, 1, 4, 4, 4, 4, 4, 4, 1, 0, 4, 4, 0, 4, 4, 0, 4, 4, 4, 4,\n",
      "        0, 1, 0, 0, 1, 0, 0, 4], device='cuda:0'), data.y=tensor([4, 3, 5, 5, 5, 2, 2, 1, 3, 4, 3, 3, 3, 0, 1, 1, 0, 1, 2, 1, 0, 4, 3, 3,\n",
      "        2, 2, 0, 2, 1, 0, 1, 0], device='cuda:0')\n",
      "type(pred)=<class 'torch.Tensor'>, type(data.y)=<class 'torch.Tensor'>\n"
     ]
    },
    {
     "name": "stderr",
     "output_type": "stream",
     "text": [
      "Iterating eval graphs:  40%|████      | 14/35 [00:01<00:01, 12.88batch/s]"
     ]
    },
    {
     "name": "stdout",
     "output_type": "stream",
     "text": [
      "DataBatch(edge_index=[2, 139278], edge_attr=[139278, 7], y=[32], num_nodes=7386, x=[7386], batch=[7386], ptr=[33])\n",
      "pred=tensor([4, 4, 4, 4, 4, 0, 1, 0, 4, 4, 4, 4, 4, 0, 0, 0, 4, 0, 4, 4, 4, 0, 4, 0,\n",
      "        4, 4, 4, 0, 0, 1, 1, 4], device='cuda:0'), data.y=tensor([1, 0, 4, 5, 1, 5, 1, 1, 2, 0, 4, 2, 2, 4, 1, 0, 1, 5, 4, 4, 3, 0, 4, 4,\n",
      "        0, 2, 0, 3, 3, 1, 0, 3], device='cuda:0')\n",
      "type(pred)=<class 'torch.Tensor'>, type(data.y)=<class 'torch.Tensor'>\n",
      "DataBatch(edge_index=[2, 149492], edge_attr=[149492, 7], y=[32], num_nodes=7921, x=[7921], batch=[7921], ptr=[33])\n",
      "pred=tensor([4, 0, 4, 4, 1, 4, 0, 4, 1, 0, 0, 0, 4, 4, 4, 4, 4, 1, 0, 4, 4, 0, 0, 4,\n",
      "        4, 4, 4, 4, 4, 0, 4, 4], device='cuda:0'), data.y=tensor([1, 5, 0, 3, 1, 1, 1, 1, 2, 3, 4, 2, 4, 0, 3, 4, 1, 3, 0, 3, 2, 4, 1, 3,\n",
      "        4, 2, 5, 5, 1, 3, 0, 4], device='cuda:0')\n",
      "type(pred)=<class 'torch.Tensor'>, type(data.y)=<class 'torch.Tensor'>\n",
      "DataBatch(edge_index=[2, 138360], edge_attr=[138360, 7], y=[32], num_nodes=7638, x=[7638], batch=[7638], ptr=[33])\n",
      "pred=tensor([4, 4, 4, 4, 0, 1, 4, 4, 0, 1, 0, 0, 4, 4, 1, 4, 4, 4, 4, 4, 4, 4, 0, 4,\n",
      "        4, 4, 1, 0, 4, 4, 0, 4], device='cuda:0'), data.y=tensor([3, 3, 1, 1, 1, 1, 5, 2, 2, 2, 4, 0, 0, 3, 2, 3, 2, 4, 1, 5, 4, 3, 2, 4,\n",
      "        4, 1, 4, 3, 3, 3, 5, 0], device='cuda:0')\n",
      "type(pred)=<class 'torch.Tensor'>, type(data.y)=<class 'torch.Tensor'>\n"
     ]
    },
    {
     "name": "stderr",
     "output_type": "stream",
     "text": [
      "Iterating eval graphs:  51%|█████▏    | 18/35 [00:01<00:01, 13.25batch/s]"
     ]
    },
    {
     "name": "stdout",
     "output_type": "stream",
     "text": [
      "DataBatch(edge_index=[2, 133568], edge_attr=[133568, 7], y=[32], num_nodes=7365, x=[7365], batch=[7365], ptr=[33])\n",
      "pred=tensor([4, 4, 4, 4, 4, 0, 4, 4, 4, 4, 0, 4, 4, 4, 0, 1, 4, 4, 4, 0, 0, 4, 4, 4,\n",
      "        4, 0, 4, 4, 4, 0, 4, 4], device='cuda:0'), data.y=tensor([4, 4, 5, 4, 2, 0, 5, 1, 2, 4, 3, 5, 1, 5, 4, 1, 0, 4, 5, 0, 2, 5, 1, 4,\n",
      "        4, 2, 2, 1, 4, 3, 5, 4], device='cuda:0')\n",
      "type(pred)=<class 'torch.Tensor'>, type(data.y)=<class 'torch.Tensor'>\n",
      "DataBatch(edge_index=[2, 118182], edge_attr=[118182, 7], y=[32], num_nodes=7006, x=[7006], batch=[7006], ptr=[33])\n",
      "pred=tensor([4, 4, 4, 4, 4, 4, 4, 0, 4, 4, 0, 4, 0, 1, 4, 4, 4, 4, 4, 4, 4, 4, 4, 4,\n",
      "        1, 0, 4, 4, 4, 4, 0, 1], device='cuda:0'), data.y=tensor([2, 5, 1, 1, 4, 4, 1, 5, 1, 2, 0, 2, 2, 0, 5, 4, 1, 4, 4, 4, 4, 5, 4, 4,\n",
      "        1, 3, 4, 2, 4, 4, 3, 1], device='cuda:0')\n",
      "type(pred)=<class 'torch.Tensor'>, type(data.y)=<class 'torch.Tensor'>\n",
      "DataBatch(edge_index=[2, 144366], edge_attr=[144366, 7], y=[32], num_nodes=7705, x=[7705], batch=[7705], ptr=[33])\n",
      "pred=tensor([0, 4, 4, 4, 0, 0, 4, 4, 4, 4, 4, 4, 4, 4, 4, 1, 1, 0, 1, 4, 4, 4, 0, 0,\n",
      "        4, 4, 4, 4, 0, 4, 4, 4], device='cuda:0'), data.y=tensor([0, 4, 0, 1, 0, 0, 4, 1, 1, 2, 4, 4, 2, 0, 5, 1, 1, 5, 1, 4, 0, 4, 2, 3,\n",
      "        3, 3, 1, 1, 1, 1, 3, 4], device='cuda:0')\n",
      "type(pred)=<class 'torch.Tensor'>, type(data.y)=<class 'torch.Tensor'>\n"
     ]
    },
    {
     "name": "stderr",
     "output_type": "stream",
     "text": [
      "Iterating eval graphs:  57%|█████▋    | 20/35 [00:01<00:01, 12.92batch/s]"
     ]
    },
    {
     "name": "stdout",
     "output_type": "stream",
     "text": [
      "DataBatch(edge_index=[2, 140508], edge_attr=[140508, 7], y=[32], num_nodes=6848, x=[6848], batch=[6848], ptr=[33])\n",
      "pred=tensor([4, 4, 0, 1, 1, 0, 0, 4, 4, 0, 4, 0, 0, 0, 0, 4, 4, 4, 1, 4, 4, 4, 4, 4,\n",
      "        0, 4, 1, 4, 4, 0, 4, 4], device='cuda:0'), data.y=tensor([3, 3, 0, 1, 1, 3, 1, 3, 2, 4, 5, 0, 3, 3, 4, 0, 2, 5, 3, 1, 0, 5, 0, 5,\n",
      "        2, 2, 3, 2, 4, 0, 2, 4], device='cuda:0')\n",
      "type(pred)=<class 'torch.Tensor'>, type(data.y)=<class 'torch.Tensor'>\n",
      "DataBatch(edge_index=[2, 159828], edge_attr=[159828, 7], y=[32], num_nodes=8428, x=[8428], batch=[8428], ptr=[33])\n",
      "pred=tensor([4, 4, 4, 0, 0, 0, 4, 4, 1, 4, 0, 4, 4, 4, 4, 1, 4, 0, 4, 4, 4, 4, 4, 0,\n",
      "        4, 4, 4, 0, 4, 4, 0, 1], device='cuda:0'), data.y=tensor([5, 0, 0, 2, 0, 4, 4, 3, 1, 5, 5, 3, 0, 5, 0, 0, 1, 0, 2, 5, 4, 5, 1, 5,\n",
      "        1, 3, 4, 1, 1, 2, 3, 1], device='cuda:0')\n",
      "type(pred)=<class 'torch.Tensor'>, type(data.y)=<class 'torch.Tensor'>\n",
      "DataBatch(edge_index=[2, 136874], edge_attr=[136874, 7], y=[32], num_nodes=6771, x=[6771], batch=[6771], ptr=[33])\n",
      "pred=tensor([0, 4, 4, 4, 4, 4, 0, 4, 4, 0, 0, 4, 4, 4, 4, 0, 4, 4, 1, 4, 0, 4, 4, 0,\n",
      "        4, 1, 0, 1, 0, 0, 0, 0], device='cuda:0'), data.y=tensor([3, 4, 1, 4, 4, 0, 4, 0, 3, 2, 0, 0, 4, 3, 1, 0, 1, 0, 1, 3, 1, 1, 0, 2,\n",
      "        4, 1, 3, 1, 2, 5, 0, 1], device='cuda:0')\n",
      "type(pred)=<class 'torch.Tensor'>, type(data.y)=<class 'torch.Tensor'>\n"
     ]
    },
    {
     "name": "stderr",
     "output_type": "stream",
     "text": [
      "Iterating eval graphs:  69%|██████▊   | 24/35 [00:01<00:00, 12.93batch/s]"
     ]
    },
    {
     "name": "stdout",
     "output_type": "stream",
     "text": [
      "DataBatch(edge_index=[2, 171060], edge_attr=[171060, 7], y=[32], num_nodes=8260, x=[8260], batch=[8260], ptr=[33])\n",
      "pred=tensor([0, 0, 1, 0, 0, 4, 4, 0, 1, 4, 0, 0, 1, 4, 4, 4, 4, 4, 0, 0, 0, 0, 4, 4,\n",
      "        4, 4, 0, 0, 4, 4, 1, 4], device='cuda:0'), data.y=tensor([5, 3, 3, 0, 1, 4, 4, 2, 1, 4, 5, 5, 1, 5, 5, 3, 2, 3, 0, 0, 0, 3, 4, 4,\n",
      "        5, 4, 2, 3, 4, 1, 1, 2], device='cuda:0')\n",
      "type(pred)=<class 'torch.Tensor'>, type(data.y)=<class 'torch.Tensor'>\n",
      "DataBatch(edge_index=[2, 136498], edge_attr=[136498, 7], y=[32], num_nodes=7887, x=[7887], batch=[7887], ptr=[33])\n",
      "pred=tensor([0, 4, 4, 0, 4, 0, 4, 4, 4, 4, 4, 4, 0, 1, 4, 0, 4, 4, 4, 0, 0, 0, 4, 4,\n",
      "        4, 4, 0, 1, 4, 4, 4, 0], device='cuda:0'), data.y=tensor([2, 4, 4, 0, 4, 5, 4, 1, 4, 2, 3, 1, 2, 1, 1, 4, 0, 3, 0, 0, 3, 3, 2, 0,\n",
      "        4, 0, 4, 1, 3, 3, 4, 0], device='cuda:0')\n",
      "type(pred)=<class 'torch.Tensor'>, type(data.y)=<class 'torch.Tensor'>\n",
      "DataBatch(edge_index=[2, 126350], edge_attr=[126350, 7], y=[32], num_nodes=6480, x=[6480], batch=[6480], ptr=[33])\n",
      "pred=tensor([4, 4, 4, 4, 4, 4, 4, 4, 0, 4, 4, 4, 0, 1, 4, 4, 4, 4, 4, 1, 0, 4, 0, 0,\n",
      "        1, 0, 0, 4, 4, 4, 4, 1], device='cuda:0'), data.y=tensor([3, 5, 3, 3, 4, 3, 0, 1, 3, 1, 2, 3, 0, 3, 4, 2, 1, 4, 0, 5, 4, 1, 3, 4,\n",
      "        1, 0, 0, 1, 0, 2, 5, 3], device='cuda:0')\n",
      "type(pred)=<class 'torch.Tensor'>, type(data.y)=<class 'torch.Tensor'>\n"
     ]
    },
    {
     "name": "stderr",
     "output_type": "stream",
     "text": [
      "Iterating eval graphs:  74%|███████▍  | 26/35 [00:01<00:00, 12.58batch/s]"
     ]
    },
    {
     "name": "stdout",
     "output_type": "stream",
     "text": [
      "DataBatch(edge_index=[2, 152242], edge_attr=[152242, 7], y=[32], num_nodes=7983, x=[7983], batch=[7983], ptr=[33])\n",
      "pred=tensor([1, 0, 4, 1, 0, 0, 4, 0, 1, 4, 4, 4, 1, 0, 4, 0, 0, 0, 4, 4, 0, 4, 4, 0,\n",
      "        4, 4, 0, 1, 4, 4, 4, 4], device='cuda:0'), data.y=tensor([1, 4, 1, 1, 0, 2, 3, 0, 1, 4, 2, 1, 1, 0, 2, 0, 4, 0, 2, 0, 0, 1, 3, 4,\n",
      "        0, 4, 4, 1, 1, 4, 5, 0], device='cuda:0')\n",
      "type(pred)=<class 'torch.Tensor'>, type(data.y)=<class 'torch.Tensor'>\n",
      "DataBatch(edge_index=[2, 156674], edge_attr=[156674, 7], y=[32], num_nodes=7784, x=[7784], batch=[7784], ptr=[33])\n",
      "pred=tensor([4, 4, 0, 4, 4, 0, 0, 0, 0, 4, 4, 1, 4, 4, 0, 4, 1, 4, 1, 0, 4, 4, 0, 0,\n",
      "        0, 0, 4, 4, 0, 4, 4, 0], device='cuda:0'), data.y=tensor([5, 2, 5, 0, 4, 0, 5, 2, 1, 2, 3, 1, 1, 2, 3, 3, 1, 4, 1, 2, 4, 2, 5, 1,\n",
      "        4, 3, 2, 0, 0, 2, 5, 5], device='cuda:0')\n",
      "type(pred)=<class 'torch.Tensor'>, type(data.y)=<class 'torch.Tensor'>\n",
      "DataBatch(edge_index=[2, 151204], edge_attr=[151204, 7], y=[32], num_nodes=7305, x=[7305], batch=[7305], ptr=[33])\n",
      "pred=tensor([1, 4, 0, 4, 0, 4, 0, 4, 0, 4, 1, 1, 0, 0, 4, 0, 4, 4, 0, 0, 4, 0, 4, 4,\n",
      "        0, 1, 4, 1, 4, 4, 4, 4], device='cuda:0'), data.y=tensor([1, 4, 2, 3, 0, 3, 5, 2, 1, 4, 0, 0, 3, 2, 3, 3, 1, 2, 2, 1, 1, 5, 3, 2,\n",
      "        4, 1, 3, 2, 3, 2, 2, 2], device='cuda:0')\n",
      "type(pred)=<class 'torch.Tensor'>, type(data.y)=<class 'torch.Tensor'>\n"
     ]
    },
    {
     "name": "stderr",
     "output_type": "stream",
     "text": [
      "Iterating eval graphs:  86%|████████▌ | 30/35 [00:02<00:00, 12.70batch/s]"
     ]
    },
    {
     "name": "stdout",
     "output_type": "stream",
     "text": [
      "DataBatch(edge_index=[2, 139872], edge_attr=[139872, 7], y=[32], num_nodes=7363, x=[7363], batch=[7363], ptr=[33])\n",
      "pred=tensor([4, 4, 4, 0, 4, 4, 4, 1, 0, 4, 4, 1, 0, 4, 4, 4, 4, 0, 4, 4, 4, 0, 0, 4,\n",
      "        4, 0, 4, 0, 4, 0, 4, 4], device='cuda:0'), data.y=tensor([4, 4, 4, 0, 4, 3, 4, 5, 0, 4, 3, 3, 5, 3, 4, 5, 5, 2, 3, 4, 3, 0, 5, 4,\n",
      "        3, 1, 3, 4, 3, 0, 2, 4], device='cuda:0')\n",
      "type(pred)=<class 'torch.Tensor'>, type(data.y)=<class 'torch.Tensor'>\n",
      "DataBatch(edge_index=[2, 133850], edge_attr=[133850, 7], y=[32], num_nodes=7706, x=[7706], batch=[7706], ptr=[33])\n",
      "pred=tensor([4, 4, 4, 0, 4, 4, 1, 1, 4, 4, 0, 4, 4, 4, 1, 4, 4, 4, 0, 1, 4, 1, 4, 4,\n",
      "        4, 4, 0, 4, 4, 0, 0, 4], device='cuda:0'), data.y=tensor([4, 1, 3, 2, 4, 0, 1, 0, 0, 1, 4, 3, 2, 3, 1, 5, 4, 2, 3, 4, 4, 2, 1, 4,\n",
      "        4, 4, 1, 1, 4, 5, 4, 4], device='cuda:0')\n",
      "type(pred)=<class 'torch.Tensor'>, type(data.y)=<class 'torch.Tensor'>\n",
      "DataBatch(edge_index=[2, 129794], edge_attr=[129794, 7], y=[32], num_nodes=6955, x=[6955], batch=[6955], ptr=[33])\n",
      "pred=tensor([4, 4, 4, 4, 0, 4, 4, 0, 4, 0, 0, 4, 4, 0, 4, 4, 4, 4, 4, 0, 4, 4, 4, 0,\n",
      "        0, 0, 4, 4, 4, 4, 4, 1], device='cuda:0'), data.y=tensor([1, 0, 4, 3, 1, 0, 3, 5, 4, 4, 0, 4, 0, 4, 4, 0, 4, 4, 1, 3, 4, 1, 3, 0,\n",
      "        4, 4, 4, 2, 3, 5, 4, 1], device='cuda:0')\n",
      "type(pred)=<class 'torch.Tensor'>, type(data.y)=<class 'torch.Tensor'>\n"
     ]
    },
    {
     "name": "stderr",
     "output_type": "stream",
     "text": [
      "Iterating eval graphs:  91%|█████████▏| 32/35 [00:02<00:00, 12.87batch/s]"
     ]
    },
    {
     "name": "stdout",
     "output_type": "stream",
     "text": [
      "DataBatch(edge_index=[2, 154384], edge_attr=[154384, 7], y=[32], num_nodes=8229, x=[8229], batch=[8229], ptr=[33])\n",
      "pred=tensor([4, 0, 4, 4, 0, 0, 1, 4, 1, 4, 0, 4, 4, 4, 4, 4, 0, 4, 4, 4, 0, 4, 4, 4,\n",
      "        0, 4, 4, 4, 4, 0, 1, 4], device='cuda:0'), data.y=tensor([4, 3, 0, 3, 5, 1, 1, 1, 5, 3, 0, 1, 5, 4, 4, 3, 2, 4, 2, 2, 3, 5, 3, 0,\n",
      "        0, 4, 3, 4, 3, 3, 4, 2], device='cuda:0')\n",
      "type(pred)=<class 'torch.Tensor'>, type(data.y)=<class 'torch.Tensor'>\n",
      "DataBatch(edge_index=[2, 118838], edge_attr=[118838, 7], y=[32], num_nodes=6812, x=[6812], batch=[6812], ptr=[33])\n",
      "pred=tensor([4, 4, 1, 4, 4, 4, 0, 4, 4, 4, 4, 0, 0, 4, 4, 1, 4, 0, 4, 4, 4, 4, 4, 4,\n",
      "        4, 4, 1, 0, 1, 4, 4, 4], device='cuda:0'), data.y=tensor([3, 4, 0, 0, 4, 2, 5, 2, 4, 1, 3, 1, 1, 1, 3, 0, 2, 2, 4, 2, 0, 5, 1, 3,\n",
      "        4, 4, 2, 1, 1, 3, 4, 5], device='cuda:0')\n",
      "type(pred)=<class 'torch.Tensor'>, type(data.y)=<class 'torch.Tensor'>\n",
      "DataBatch(edge_index=[2, 153150], edge_attr=[153150, 7], y=[32], num_nodes=7683, x=[7683], batch=[7683], ptr=[33])\n",
      "pred=tensor([4, 1, 4, 4, 1, 4, 1, 4, 1, 4, 4, 1, 1, 4, 0, 0, 0, 0, 4, 0, 0, 4, 4, 4,\n",
      "        4, 4, 0, 4, 4, 4, 4, 4], device='cuda:0'), data.y=tensor([2, 2, 4, 3, 1, 3, 3, 1, 3, 0, 5, 1, 3, 4, 4, 0, 4, 3, 4, 2, 2, 4, 4, 3,\n",
      "        2, 4, 0, 0, 3, 1, 4, 5], device='cuda:0')\n",
      "type(pred)=<class 'torch.Tensor'>, type(data.y)=<class 'torch.Tensor'>\n"
     ]
    },
    {
     "name": "stderr",
     "output_type": "stream",
     "text": [
      "Iterating eval graphs: 100%|██████████| 35/35 [00:02<00:00, 12.90batch/s]\n",
      "Epoch 5/10, Loss: 1.7086, Train Acc: 0.3217, Val Acc: 0.3268\n",
      "Epoch 5/10, Loss: 1.7086, Train Acc: 0.3217, Val Acc: 0.3268\n",
      "Epoch 5/10, Loss: 1.7086, Train Acc: 0.3217, Val Acc: 0.3268\n",
      "Epoch 5/10, Loss: 1.7086, Train Acc: 0.3217, Val Acc: 0.3268\n",
      "Epoch 5/10, Loss: 1.7086, Train Acc: 0.3217, Val Acc: 0.3268\n"
     ]
    },
    {
     "name": "stdout",
     "output_type": "stream",
     "text": [
      "DataBatch(edge_index=[2, 158418], edge_attr=[158418, 7], y=[32], num_nodes=8101, x=[8101], batch=[8101], ptr=[33])\n",
      "pred=tensor([1, 1, 0, 4, 4, 4, 4, 4, 4, 4, 1, 0, 4, 0, 0, 4, 4, 4, 4, 4, 0, 0, 0, 4,\n",
      "        4, 4, 4, 4, 4, 0, 0, 4], device='cuda:0'), data.y=tensor([1, 2, 1, 5, 3, 4, 4, 2, 0, 5, 4, 4, 4, 2, 3, 0, 4, 4, 2, 4, 0, 0, 4, 0,\n",
      "        2, 0, 4, 4, 4, 4, 5, 3], device='cuda:0')\n",
      "type(pred)=<class 'torch.Tensor'>, type(data.y)=<class 'torch.Tensor'>\n",
      "DataBatch(edge_index=[2, 145944], edge_attr=[145944, 7], y=[32], num_nodes=8005, x=[8005], batch=[8005], ptr=[33])\n",
      "pred=tensor([0, 4, 4, 4, 4, 4, 0, 4, 0, 4, 0, 0, 4, 0, 4, 0, 4, 4, 4, 1, 0, 4, 4, 4,\n",
      "        4, 0, 4, 4, 4, 4, 4, 4], device='cuda:0'), data.y=tensor([0, 3, 4, 4, 4, 5, 0, 1, 2, 3, 1, 4, 1, 0, 5, 0, 3, 3, 5, 4, 5, 2, 4, 1,\n",
      "        1, 0, 4, 4, 5, 4, 2, 5], device='cuda:0')\n",
      "type(pred)=<class 'torch.Tensor'>, type(data.y)=<class 'torch.Tensor'>\n",
      "Epoch 5/10, Loss: 1.7086, Train Acc: 0.3217, Val Acc: 0.3268\n",
      "Best model updated and saved at /home/haislich/Documents/noisy_labels/hackaton/checkpoints/model_B_best.pth\n"
     ]
    },
    {
     "name": "stderr",
     "output_type": "stream",
     "text": [
      "Iterating training graphs: 100%|██████████| 140/140 [00:13<00:00, 10.31batch/s]\n"
     ]
    },
    {
     "name": "stdout",
     "output_type": "stream",
     "text": [
      "Checkpoint saved at /home/haislich/Documents/noisy_labels/hackaton/checkpoints/B/model_B_epoch_6.pth\n"
     ]
    },
    {
     "name": "stderr",
     "output_type": "stream",
     "text": [
      "Iterating eval graphs:   6%|▌         | 2/35 [00:00<00:02, 14.08batch/s]"
     ]
    },
    {
     "name": "stdout",
     "output_type": "stream",
     "text": [
      "DataBatch(edge_index=[2, 135416], edge_attr=[135416, 7], y=[32], num_nodes=7817, x=[7817], batch=[7817], ptr=[33])\n",
      "pred=tensor([4, 4, 4, 1, 4, 4, 4, 4, 4, 4, 4, 4, 4, 4, 4, 4, 4, 4, 1, 4, 4, 4, 4, 4,\n",
      "        4, 4, 1, 4, 4, 4, 4, 4], device='cuda:0'), data.y=tensor([4, 0, 1, 1, 2, 4, 4, 3, 1, 4, 4, 0, 5, 3, 0, 2, 3, 1, 0, 4, 1, 4, 5, 3,\n",
      "        0, 2, 0, 4, 1, 5, 0, 3], device='cuda:0')\n",
      "type(pred)=<class 'torch.Tensor'>, type(data.y)=<class 'torch.Tensor'>\n",
      "DataBatch(edge_index=[2, 121262], edge_attr=[121262, 7], y=[32], num_nodes=6966, x=[6966], batch=[6966], ptr=[33])\n",
      "pred=tensor([1, 4, 4, 4, 4, 4, 4, 4, 4, 4, 0, 4, 4, 4, 4, 4, 4, 4, 4, 4, 4, 4, 4, 4,\n",
      "        4, 4, 4, 4, 4, 4, 4, 4], device='cuda:0'), data.y=tensor([2, 0, 5, 2, 4, 4, 1, 5, 2, 4, 0, 1, 3, 5, 3, 3, 1, 1, 1, 3, 5, 5, 4, 5,\n",
      "        2, 3, 4, 0, 4, 1, 4, 1], device='cuda:0')\n",
      "type(pred)=<class 'torch.Tensor'>, type(data.y)=<class 'torch.Tensor'>\n",
      "DataBatch(edge_index=[2, 144698], edge_attr=[144698, 7], y=[32], num_nodes=7569, x=[7569], batch=[7569], ptr=[33])\n",
      "pred=tensor([4, 4, 4, 4, 4, 4, 4, 4, 4, 4, 4, 4, 4, 4, 4, 1, 4, 4, 4, 4, 4, 4, 4, 4,\n",
      "        0, 4, 4, 4, 4, 4, 4, 1], device='cuda:0'), data.y=tensor([2, 0, 4, 5, 3, 2, 4, 0, 0, 4, 4, 4, 3, 0, 0, 5, 4, 3, 3, 2, 5, 4, 2, 0,\n",
      "        1, 4, 3, 5, 5, 1, 5, 0], device='cuda:0')\n",
      "type(pred)=<class 'torch.Tensor'>, type(data.y)=<class 'torch.Tensor'>\n"
     ]
    },
    {
     "name": "stderr",
     "output_type": "stream",
     "text": [
      "Iterating eval graphs:  11%|█▏        | 4/35 [00:00<00:02, 13.62batch/s]"
     ]
    },
    {
     "name": "stdout",
     "output_type": "stream",
     "text": [
      "DataBatch(edge_index=[2, 127950], edge_attr=[127950, 7], y=[32], num_nodes=7645, x=[7645], batch=[7645], ptr=[33])\n",
      "pred=tensor([4, 4, 4, 4, 4, 4, 4, 4, 4, 4, 4, 4, 1, 4, 4, 4, 4, 4, 4, 4, 0, 4, 4, 4,\n",
      "        4, 4, 4, 4, 4, 4, 0, 4], device='cuda:0'), data.y=tensor([2, 4, 5, 4, 5, 0, 4, 1, 0, 0, 2, 1, 4, 4, 5, 4, 4, 4, 1, 1, 5, 1, 5, 4,\n",
      "        0, 5, 4, 0, 1, 1, 0, 4], device='cuda:0')\n",
      "type(pred)=<class 'torch.Tensor'>, type(data.y)=<class 'torch.Tensor'>\n",
      "DataBatch(edge_index=[2, 120872], edge_attr=[120872, 7], y=[32], num_nodes=7820, x=[7820], batch=[7820], ptr=[33])\n",
      "pred=tensor([4, 4, 4, 4, 1, 4, 4, 4, 0, 4, 4, 4, 4, 4, 4, 0, 4, 4, 0, 4, 4, 4, 4, 4,\n",
      "        4, 4, 4, 4, 0, 0, 4, 0], device='cuda:0'), data.y=tensor([3, 1, 0, 2, 2, 3, 5, 4, 0, 5, 4, 2, 4, 4, 1, 0, 1, 4, 0, 4, 0, 4, 5, 0,\n",
      "        5, 2, 3, 0, 2, 5, 4, 0], device='cuda:0')\n",
      "type(pred)=<class 'torch.Tensor'>, type(data.y)=<class 'torch.Tensor'>\n",
      "DataBatch(edge_index=[2, 125522], edge_attr=[125522, 7], y=[32], num_nodes=6715, x=[6715], batch=[6715], ptr=[33])\n"
     ]
    },
    {
     "name": "stderr",
     "output_type": "stream",
     "text": [
      "Iterating eval graphs:  17%|█▋        | 6/35 [00:00<00:02, 13.95batch/s]"
     ]
    },
    {
     "name": "stdout",
     "output_type": "stream",
     "text": [
      "pred=tensor([4, 4, 4, 4, 4, 0, 4, 4, 4, 4, 4, 4, 4, 4, 4, 4, 4, 4, 4, 4, 4, 4, 4, 0,\n",
      "        4, 4, 4, 4, 4, 4, 4, 4], device='cuda:0'), data.y=tensor([4, 3, 4, 3, 5, 5, 5, 2, 4, 4, 3, 4, 4, 5, 5, 4, 0, 3, 5, 4, 2, 0, 1, 0,\n",
      "        4, 4, 2, 2, 1, 0, 0, 2], device='cuda:0')\n",
      "type(pred)=<class 'torch.Tensor'>, type(data.y)=<class 'torch.Tensor'>\n"
     ]
    },
    {
     "name": "stderr",
     "output_type": "stream",
     "text": [
      "Iterating eval graphs:  23%|██▎       | 8/35 [00:00<00:01, 13.98batch/s]"
     ]
    },
    {
     "name": "stdout",
     "output_type": "stream",
     "text": [
      "DataBatch(edge_index=[2, 120666], edge_attr=[120666, 7], y=[32], num_nodes=7079, x=[7079], batch=[7079], ptr=[33])\n",
      "pred=tensor([4, 4, 4, 4, 4, 0, 4, 1, 4, 4, 4, 4, 4, 4, 4, 4, 4, 4, 4, 4, 4, 4, 4, 4,\n",
      "        4, 4, 0, 4, 4, 4, 4, 4], device='cuda:0'), data.y=tensor([3, 3, 1, 1, 1, 4, 2, 2, 2, 2, 4, 2, 3, 3, 4, 3, 4, 3, 3, 5, 4, 3, 2, 3,\n",
      "        0, 2, 3, 0, 1, 1, 2, 0], device='cuda:0')\n",
      "type(pred)=<class 'torch.Tensor'>, type(data.y)=<class 'torch.Tensor'>\n",
      "DataBatch(edge_index=[2, 137498], edge_attr=[137498, 7], y=[32], num_nodes=7324, x=[7324], batch=[7324], ptr=[33])\n",
      "pred=tensor([0, 4, 0, 1, 4, 4, 4, 4, 4, 4, 4, 4, 1, 0, 4, 4, 4, 4, 4, 4, 4, 4, 0, 4,\n",
      "        4, 4, 4, 0, 4, 0, 4, 4], device='cuda:0'), data.y=tensor([0, 4, 4, 1, 0, 2, 2, 2, 4, 1, 3, 2, 1, 1, 4, 5, 2, 0, 5, 1, 5, 0, 0, 3,\n",
      "        0, 1, 1, 0, 0, 0, 4, 4], device='cuda:0')\n",
      "type(pred)=<class 'torch.Tensor'>, type(data.y)=<class 'torch.Tensor'>\n",
      "DataBatch(edge_index=[2, 137840], edge_attr=[137840, 7], y=[32], num_nodes=7719, x=[7719], batch=[7719], ptr=[33])\n",
      "pred=tensor([4, 4, 4, 4, 4, 4, 4, 4, 4, 1, 4, 1, 4, 4, 4, 4, 4, 4, 0, 4, 4, 4, 4, 4,\n",
      "        4, 4, 4, 4, 4, 4, 4, 4], device='cuda:0'), data.y=tensor([4, 1, 4, 1, 3, 4, 1, 0, 3, 3, 0, 1, 3, 4, 1, 4, 4, 0, 2, 1, 0, 5, 3, 3,\n",
      "        2, 4, 4, 0, 1, 3, 2, 4], device='cuda:0')\n",
      "type(pred)=<class 'torch.Tensor'>, type(data.y)=<class 'torch.Tensor'>\n"
     ]
    },
    {
     "name": "stderr",
     "output_type": "stream",
     "text": [
      "Iterating eval graphs:  29%|██▊       | 10/35 [00:00<00:01, 12.76batch/s]"
     ]
    },
    {
     "name": "stdout",
     "output_type": "stream",
     "text": [
      "DataBatch(edge_index=[2, 198718], edge_attr=[198718, 7], y=[32], num_nodes=8382, x=[8382], batch=[8382], ptr=[33])\n",
      "pred=tensor([4, 1, 4, 4, 4, 4, 4, 4, 4, 4, 4, 0, 4, 4, 4, 4, 0, 4, 4, 4, 0, 4, 4, 4,\n",
      "        4, 4, 0, 4, 4, 1, 4, 4], device='cuda:0'), data.y=tensor([1, 1, 2, 1, 5, 3, 3, 5, 4, 2, 0, 0, 0, 3, 3, 4, 2, 4, 2, 1, 2, 3, 4, 5,\n",
      "        4, 4, 0, 5, 4, 5, 4, 2], device='cuda:0')\n",
      "type(pred)=<class 'torch.Tensor'>, type(data.y)=<class 'torch.Tensor'>\n",
      "DataBatch(edge_index=[2, 122004], edge_attr=[122004, 7], y=[32], num_nodes=6747, x=[6747], batch=[6747], ptr=[33])\n",
      "pred=tensor([4, 4, 4, 4, 4, 4, 4, 0, 4, 4, 4, 4, 4, 4, 4, 4, 4, 4, 4, 4, 1, 4, 1, 4,\n",
      "        4, 4, 4, 4, 4, 4, 4, 4], device='cuda:0'), data.y=tensor([4, 4, 5, 4, 0, 4, 0, 5, 1, 1, 3, 4, 3, 5, 1, 4, 3, 4, 5, 2, 4, 4, 1, 4,\n",
      "        3, 2, 0, 4, 3, 4, 2, 5], device='cuda:0')\n",
      "type(pred)=<class 'torch.Tensor'>, type(data.y)=<class 'torch.Tensor'>\n"
     ]
    },
    {
     "name": "stderr",
     "output_type": "stream",
     "text": [
      "Iterating eval graphs:  34%|███▍      | 12/35 [00:00<00:01, 13.23batch/s]"
     ]
    },
    {
     "name": "stdout",
     "output_type": "stream",
     "text": [
      "DataBatch(edge_index=[2, 135852], edge_attr=[135852, 7], y=[32], num_nodes=7607, x=[7607], batch=[7607], ptr=[33])\n",
      "pred=tensor([4, 4, 4, 4, 4, 4, 4, 4, 4, 4, 4, 4, 1, 4, 4, 4, 0, 4, 0, 0, 4, 4, 4, 4,\n",
      "        4, 0, 0, 4, 0, 4, 4, 0], device='cuda:0'), data.y=tensor([4, 3, 5, 5, 5, 2, 2, 1, 3, 4, 3, 3, 3, 0, 1, 1, 0, 1, 2, 1, 0, 4, 3, 3,\n",
      "        2, 2, 0, 2, 1, 0, 1, 0], device='cuda:0')\n",
      "type(pred)=<class 'torch.Tensor'>, type(data.y)=<class 'torch.Tensor'>\n"
     ]
    },
    {
     "name": "stderr",
     "output_type": "stream",
     "text": [
      "Iterating eval graphs:  40%|████      | 14/35 [00:01<00:01, 13.00batch/s]"
     ]
    },
    {
     "name": "stdout",
     "output_type": "stream",
     "text": [
      "DataBatch(edge_index=[2, 139278], edge_attr=[139278, 7], y=[32], num_nodes=7386, x=[7386], batch=[7386], ptr=[33])\n",
      "pred=tensor([4, 4, 4, 4, 4, 4, 1, 4, 4, 4, 4, 4, 4, 4, 0, 0, 4, 4, 4, 4, 4, 4, 4, 4,\n",
      "        4, 4, 4, 4, 4, 4, 0, 4], device='cuda:0'), data.y=tensor([1, 0, 4, 5, 1, 5, 1, 1, 2, 0, 4, 2, 2, 4, 1, 0, 1, 5, 4, 4, 3, 0, 4, 4,\n",
      "        0, 2, 0, 3, 3, 1, 0, 3], device='cuda:0')\n",
      "type(pred)=<class 'torch.Tensor'>, type(data.y)=<class 'torch.Tensor'>\n",
      "DataBatch(edge_index=[2, 149492], edge_attr=[149492, 7], y=[32], num_nodes=7921, x=[7921], batch=[7921], ptr=[33])\n",
      "pred=tensor([4, 4, 4, 4, 4, 4, 4, 4, 0, 0, 4, 4, 4, 4, 4, 4, 4, 4, 4, 4, 0, 0, 4, 4,\n",
      "        4, 4, 4, 4, 4, 4, 4, 4], device='cuda:0'), data.y=tensor([1, 5, 0, 3, 1, 1, 1, 1, 2, 3, 4, 2, 4, 0, 3, 4, 1, 3, 0, 3, 2, 4, 1, 3,\n",
      "        4, 2, 5, 5, 1, 3, 0, 4], device='cuda:0')\n",
      "type(pred)=<class 'torch.Tensor'>, type(data.y)=<class 'torch.Tensor'>\n",
      "DataBatch(edge_index=[2, 138360], edge_attr=[138360, 7], y=[32], num_nodes=7638, x=[7638], batch=[7638], ptr=[33])\n",
      "pred=tensor([4, 4, 4, 4, 0, 1, 4, 4, 4, 4, 0, 4, 4, 4, 4, 4, 4, 4, 4, 4, 4, 4, 0, 4,\n",
      "        4, 4, 1, 4, 4, 4, 4, 4], device='cuda:0'), data.y=tensor([3, 3, 1, 1, 1, 1, 5, 2, 2, 2, 4, 0, 0, 3, 2, 3, 2, 4, 1, 5, 4, 3, 2, 4,\n",
      "        4, 1, 4, 3, 3, 3, 5, 0], device='cuda:0')\n",
      "type(pred)=<class 'torch.Tensor'>, type(data.y)=<class 'torch.Tensor'>\n"
     ]
    },
    {
     "name": "stderr",
     "output_type": "stream",
     "text": [
      "Iterating eval graphs:  46%|████▌     | 16/35 [00:01<00:01, 13.10batch/s]"
     ]
    },
    {
     "name": "stdout",
     "output_type": "stream",
     "text": [
      "DataBatch(edge_index=[2, 133568], edge_attr=[133568, 7], y=[32], num_nodes=7365, x=[7365], batch=[7365], ptr=[33])\n",
      "pred=tensor([4, 4, 4, 4, 4, 4, 4, 4, 4, 4, 0, 4, 4, 4, 4, 1, 4, 4, 4, 0, 4, 4, 4, 4,\n",
      "        4, 4, 4, 4, 4, 4, 4, 4], device='cuda:0'), data.y=tensor([4, 4, 5, 4, 2, 0, 5, 1, 2, 4, 3, 5, 1, 5, 4, 1, 0, 4, 5, 0, 2, 5, 1, 4,\n",
      "        4, 2, 2, 1, 4, 3, 5, 4], device='cuda:0')\n",
      "type(pred)=<class 'torch.Tensor'>, type(data.y)=<class 'torch.Tensor'>\n",
      "DataBatch(edge_index=[2, 118182], edge_attr=[118182, 7], y=[32], num_nodes=7006, x=[7006], batch=[7006], ptr=[33])\n",
      "pred=tensor([4, 4, 4, 4, 4, 4, 4, 4, 4, 4, 0, 4, 0, 1, 4, 4, 4, 4, 4, 4, 4, 4, 4, 4,\n",
      "        0, 4, 4, 4, 0, 4, 4, 1], device='cuda:0'), data.y=tensor([2, 5, 1, 1, 4, 4, 1, 5, 1, 2, 0, 2, 2, 0, 5, 4, 1, 4, 4, 4, 4, 5, 4, 4,\n",
      "        1, 3, 4, 2, 4, 4, 3, 1], device='cuda:0')\n",
      "type(pred)=<class 'torch.Tensor'>, type(data.y)=<class 'torch.Tensor'>\n"
     ]
    },
    {
     "name": "stderr",
     "output_type": "stream",
     "text": [
      "Iterating eval graphs:  51%|█████▏    | 18/35 [00:01<00:01, 13.33batch/s]"
     ]
    },
    {
     "name": "stdout",
     "output_type": "stream",
     "text": [
      "DataBatch(edge_index=[2, 144366], edge_attr=[144366, 7], y=[32], num_nodes=7705, x=[7705], batch=[7705], ptr=[33])\n",
      "pred=tensor([4, 4, 4, 4, 4, 0, 4, 4, 4, 4, 4, 4, 4, 4, 4, 4, 4, 0, 4, 4, 4, 4, 0, 4,\n",
      "        4, 4, 4, 4, 4, 4, 4, 4], device='cuda:0'), data.y=tensor([0, 4, 0, 1, 0, 0, 4, 1, 1, 2, 4, 4, 2, 0, 5, 1, 1, 5, 1, 4, 0, 4, 2, 3,\n",
      "        3, 3, 1, 1, 1, 1, 3, 4], device='cuda:0')\n",
      "type(pred)=<class 'torch.Tensor'>, type(data.y)=<class 'torch.Tensor'>\n"
     ]
    },
    {
     "name": "stderr",
     "output_type": "stream",
     "text": [
      "Iterating eval graphs:  57%|█████▋    | 20/35 [00:01<00:01, 12.92batch/s]"
     ]
    },
    {
     "name": "stdout",
     "output_type": "stream",
     "text": [
      "DataBatch(edge_index=[2, 140508], edge_attr=[140508, 7], y=[32], num_nodes=6848, x=[6848], batch=[6848], ptr=[33])\n",
      "pred=tensor([4, 4, 0, 1, 4, 1, 4, 4, 4, 4, 4, 4, 0, 4, 4, 4, 4, 4, 4, 4, 4, 4, 4, 4,\n",
      "        4, 4, 4, 4, 4, 0, 4, 4], device='cuda:0'), data.y=tensor([3, 3, 0, 1, 1, 3, 1, 3, 2, 4, 5, 0, 3, 3, 4, 0, 2, 5, 3, 1, 0, 5, 0, 5,\n",
      "        2, 2, 3, 2, 4, 0, 2, 4], device='cuda:0')\n",
      "type(pred)=<class 'torch.Tensor'>, type(data.y)=<class 'torch.Tensor'>\n",
      "DataBatch(edge_index=[2, 159828], edge_attr=[159828, 7], y=[32], num_nodes=8428, x=[8428], batch=[8428], ptr=[33])\n",
      "pred=tensor([4, 4, 4, 0, 4, 4, 4, 4, 4, 4, 4, 4, 4, 4, 4, 1, 4, 0, 4, 4, 4, 4, 4, 4,\n",
      "        4, 4, 4, 4, 4, 4, 4, 1], device='cuda:0'), data.y=tensor([5, 0, 0, 2, 0, 4, 4, 3, 1, 5, 5, 3, 0, 5, 0, 0, 1, 0, 2, 5, 4, 5, 1, 5,\n",
      "        1, 3, 4, 1, 1, 2, 3, 1], device='cuda:0')\n",
      "type(pred)=<class 'torch.Tensor'>, type(data.y)=<class 'torch.Tensor'>\n",
      "DataBatch(edge_index=[2, 136874], edge_attr=[136874, 7], y=[32], num_nodes=6771, x=[6771], batch=[6771], ptr=[33])\n",
      "pred=tensor([0, 4, 4, 4, 4, 4, 4, 4, 4, 4, 0, 4, 4, 4, 4, 4, 4, 4, 1, 4, 0, 4, 4, 4,\n",
      "        4, 1, 4, 1, 4, 4, 4, 4], device='cuda:0'), data.y=tensor([3, 4, 1, 4, 4, 0, 4, 0, 3, 2, 0, 0, 4, 3, 1, 0, 1, 0, 1, 3, 1, 1, 0, 2,\n",
      "        4, 1, 3, 1, 2, 5, 0, 1], device='cuda:0')\n",
      "type(pred)=<class 'torch.Tensor'>, type(data.y)=<class 'torch.Tensor'>\n"
     ]
    },
    {
     "name": "stderr",
     "output_type": "stream",
     "text": [
      "Iterating eval graphs:  63%|██████▎   | 22/35 [00:01<00:01, 12.60batch/s]"
     ]
    },
    {
     "name": "stdout",
     "output_type": "stream",
     "text": [
      "DataBatch(edge_index=[2, 171060], edge_attr=[171060, 7], y=[32], num_nodes=8260, x=[8260], batch=[8260], ptr=[33])\n",
      "pred=tensor([4, 4, 1, 4, 4, 4, 4, 0, 1, 4, 4, 0, 4, 4, 4, 4, 4, 4, 4, 4, 4, 4, 4, 4,\n",
      "        4, 4, 4, 4, 4, 4, 1, 4], device='cuda:0'), data.y=tensor([5, 3, 3, 0, 1, 4, 4, 2, 1, 4, 5, 5, 1, 5, 5, 3, 2, 3, 0, 0, 0, 3, 4, 4,\n",
      "        5, 4, 2, 3, 4, 1, 1, 2], device='cuda:0')\n",
      "type(pred)=<class 'torch.Tensor'>, type(data.y)=<class 'torch.Tensor'>\n",
      "DataBatch(edge_index=[2, 136498], edge_attr=[136498, 7], y=[32], num_nodes=7887, x=[7887], batch=[7887], ptr=[33])\n",
      "pred=tensor([4, 4, 4, 4, 4, 4, 4, 4, 4, 4, 4, 4, 4, 1, 4, 0, 4, 4, 0, 4, 0, 4, 4, 4,\n",
      "        4, 4, 4, 1, 4, 4, 4, 4], device='cuda:0'), data.y=tensor([2, 4, 4, 0, 4, 5, 4, 1, 4, 2, 3, 1, 2, 1, 1, 4, 0, 3, 0, 0, 3, 3, 2, 0,\n",
      "        4, 0, 4, 1, 3, 3, 4, 0], device='cuda:0')\n",
      "type(pred)=<class 'torch.Tensor'>, type(data.y)=<class 'torch.Tensor'>\n"
     ]
    },
    {
     "name": "stderr",
     "output_type": "stream",
     "text": [
      "Iterating eval graphs:  69%|██████▊   | 24/35 [00:01<00:00, 12.92batch/s]"
     ]
    },
    {
     "name": "stdout",
     "output_type": "stream",
     "text": [
      "DataBatch(edge_index=[2, 126350], edge_attr=[126350, 7], y=[32], num_nodes=6480, x=[6480], batch=[6480], ptr=[33])\n",
      "pred=tensor([1, 4, 4, 4, 4, 4, 4, 4, 4, 4, 4, 4, 4, 1, 4, 4, 4, 4, 4, 4, 0, 4, 4, 0,\n",
      "        4, 0, 0, 4, 4, 4, 4, 1], device='cuda:0'), data.y=tensor([3, 5, 3, 3, 4, 3, 0, 1, 3, 1, 2, 3, 0, 3, 4, 2, 1, 4, 0, 5, 4, 1, 3, 4,\n",
      "        1, 0, 0, 1, 0, 2, 5, 3], device='cuda:0')\n",
      "type(pred)=<class 'torch.Tensor'>, type(data.y)=<class 'torch.Tensor'>\n"
     ]
    },
    {
     "name": "stderr",
     "output_type": "stream",
     "text": [
      "Iterating eval graphs:  74%|███████▍  | 26/35 [00:01<00:00, 12.51batch/s]"
     ]
    },
    {
     "name": "stdout",
     "output_type": "stream",
     "text": [
      "DataBatch(edge_index=[2, 152242], edge_attr=[152242, 7], y=[32], num_nodes=7983, x=[7983], batch=[7983], ptr=[33])\n",
      "pred=tensor([4, 0, 4, 4, 4, 4, 4, 0, 0, 4, 4, 4, 4, 0, 4, 4, 4, 0, 4, 4, 4, 4, 4, 0,\n",
      "        4, 4, 4, 1, 4, 4, 4, 4], device='cuda:0'), data.y=tensor([1, 4, 1, 1, 0, 2, 3, 0, 1, 4, 2, 1, 1, 0, 2, 0, 4, 0, 2, 0, 0, 1, 3, 4,\n",
      "        0, 4, 4, 1, 1, 4, 5, 0], device='cuda:0')\n",
      "type(pred)=<class 'torch.Tensor'>, type(data.y)=<class 'torch.Tensor'>\n",
      "DataBatch(edge_index=[2, 156674], edge_attr=[156674, 7], y=[32], num_nodes=7784, x=[7784], batch=[7784], ptr=[33])\n",
      "pred=tensor([4, 4, 0, 4, 4, 4, 0, 4, 4, 4, 4, 4, 4, 4, 4, 4, 0, 4, 1, 4, 4, 4, 0, 0,\n",
      "        4, 4, 4, 4, 0, 4, 4, 4], device='cuda:0'), data.y=tensor([5, 2, 5, 0, 4, 0, 5, 2, 1, 2, 3, 1, 1, 2, 3, 3, 1, 4, 1, 2, 4, 2, 5, 1,\n",
      "        4, 3, 2, 0, 0, 2, 5, 5], device='cuda:0')\n",
      "type(pred)=<class 'torch.Tensor'>, type(data.y)=<class 'torch.Tensor'>\n",
      "DataBatch(edge_index=[2, 151204], edge_attr=[151204, 7], y=[32], num_nodes=7305, x=[7305], batch=[7305], ptr=[33])\n",
      "pred=tensor([1, 4, 4, 4, 0, 4, 4, 4, 4, 4, 0, 4, 4, 0, 4, 4, 4, 4, 4, 4, 4, 4, 4, 4,\n",
      "        0, 1, 4, 0, 4, 4, 4, 4], device='cuda:0'), data.y=tensor([1, 4, 2, 3, 0, 3, 5, 2, 1, 4, 0, 0, 3, 2, 3, 3, 1, 2, 2, 1, 1, 5, 3, 2,\n",
      "        4, 1, 3, 2, 3, 2, 2, 2], device='cuda:0')\n",
      "type(pred)=<class 'torch.Tensor'>, type(data.y)=<class 'torch.Tensor'>\n"
     ]
    },
    {
     "name": "stderr",
     "output_type": "stream",
     "text": [
      "Iterating eval graphs:  80%|████████  | 28/35 [00:02<00:00, 12.41batch/s]"
     ]
    },
    {
     "name": "stdout",
     "output_type": "stream",
     "text": [
      "DataBatch(edge_index=[2, 139872], edge_attr=[139872, 7], y=[32], num_nodes=7363, x=[7363], batch=[7363], ptr=[33])\n",
      "pred=tensor([4, 4, 4, 4, 4, 4, 4, 4, 4, 4, 4, 4, 0, 4, 4, 4, 4, 4, 4, 4, 4, 4, 0, 4,\n",
      "        4, 4, 4, 4, 4, 4, 4, 4], device='cuda:0'), data.y=tensor([4, 4, 4, 0, 4, 3, 4, 5, 0, 4, 3, 3, 5, 3, 4, 5, 5, 2, 3, 4, 3, 0, 5, 4,\n",
      "        3, 1, 3, 4, 3, 0, 2, 4], device='cuda:0')\n",
      "type(pred)=<class 'torch.Tensor'>, type(data.y)=<class 'torch.Tensor'>\n",
      "DataBatch(edge_index=[2, 133850], edge_attr=[133850, 7], y=[32], num_nodes=7706, x=[7706], batch=[7706], ptr=[33])\n",
      "pred=tensor([4, 4, 4, 0, 4, 4, 4, 1, 4, 4, 4, 4, 4, 4, 1, 4, 4, 4, 4, 1, 4, 1, 4, 4,\n",
      "        4, 4, 4, 4, 4, 4, 4, 4], device='cuda:0'), data.y=tensor([4, 1, 3, 2, 4, 0, 1, 0, 0, 1, 4, 3, 2, 3, 1, 5, 4, 2, 3, 4, 4, 2, 1, 4,\n",
      "        4, 4, 1, 1, 4, 5, 4, 4], device='cuda:0')\n",
      "type(pred)=<class 'torch.Tensor'>, type(data.y)=<class 'torch.Tensor'>\n"
     ]
    },
    {
     "name": "stderr",
     "output_type": "stream",
     "text": [
      "Iterating eval graphs:  86%|████████▌ | 30/35 [00:02<00:00, 12.75batch/s]"
     ]
    },
    {
     "name": "stdout",
     "output_type": "stream",
     "text": [
      "DataBatch(edge_index=[2, 129794], edge_attr=[129794, 7], y=[32], num_nodes=6955, x=[6955], batch=[6955], ptr=[33])\n",
      "pred=tensor([4, 4, 4, 4, 4, 4, 4, 4, 4, 4, 4, 4, 4, 4, 4, 4, 4, 4, 4, 4, 4, 4, 4, 4,\n",
      "        4, 4, 4, 4, 4, 4, 4, 4], device='cuda:0'), data.y=tensor([1, 0, 4, 3, 1, 0, 3, 5, 4, 4, 0, 4, 0, 4, 4, 0, 4, 4, 1, 3, 4, 1, 3, 0,\n",
      "        4, 4, 4, 2, 3, 5, 4, 1], device='cuda:0')\n",
      "type(pred)=<class 'torch.Tensor'>, type(data.y)=<class 'torch.Tensor'>\n"
     ]
    },
    {
     "name": "stderr",
     "output_type": "stream",
     "text": [
      "Iterating eval graphs:  91%|█████████▏| 32/35 [00:02<00:00, 12.82batch/s]"
     ]
    },
    {
     "name": "stdout",
     "output_type": "stream",
     "text": [
      "DataBatch(edge_index=[2, 154384], edge_attr=[154384, 7], y=[32], num_nodes=8229, x=[8229], batch=[8229], ptr=[33])\n",
      "pred=tensor([4, 4, 4, 4, 4, 0, 1, 4, 0, 4, 4, 4, 4, 4, 4, 4, 4, 4, 4, 4, 4, 4, 4, 4,\n",
      "        4, 4, 4, 4, 4, 4, 4, 4], device='cuda:0'), data.y=tensor([4, 3, 0, 3, 5, 1, 1, 1, 5, 3, 0, 1, 5, 4, 4, 3, 2, 4, 2, 2, 3, 5, 3, 0,\n",
      "        0, 4, 3, 4, 3, 3, 4, 2], device='cuda:0')\n",
      "type(pred)=<class 'torch.Tensor'>, type(data.y)=<class 'torch.Tensor'>\n",
      "DataBatch(edge_index=[2, 118838], edge_attr=[118838, 7], y=[32], num_nodes=6812, x=[6812], batch=[6812], ptr=[33])\n",
      "pred=tensor([4, 4, 1, 4, 4, 4, 4, 4, 4, 4, 4, 4, 0, 4, 4, 4, 4, 4, 4, 4, 4, 4, 1, 4,\n",
      "        4, 4, 1, 4, 1, 4, 4, 4], device='cuda:0'), data.y=tensor([3, 4, 0, 0, 4, 2, 5, 2, 4, 1, 3, 1, 1, 1, 3, 0, 2, 2, 4, 2, 0, 5, 1, 3,\n",
      "        4, 4, 2, 1, 1, 3, 4, 5], device='cuda:0')\n",
      "type(pred)=<class 'torch.Tensor'>, type(data.y)=<class 'torch.Tensor'>\n",
      "DataBatch(edge_index=[2, 153150], edge_attr=[153150, 7], y=[32], num_nodes=7683, x=[7683], batch=[7683], ptr=[33])\n",
      "pred=tensor([4, 1, 4, 4, 0, 4, 1, 4, 1, 4, 4, 0, 1, 4, 0, 4, 4, 4, 4, 4, 4, 4, 4, 4,\n",
      "        4, 4, 4, 4, 4, 4, 4, 4], device='cuda:0'), data.y=tensor([2, 2, 4, 3, 1, 3, 3, 1, 3, 0, 5, 1, 3, 4, 4, 0, 4, 3, 4, 2, 2, 4, 4, 3,\n",
      "        2, 4, 0, 0, 3, 1, 4, 5], device='cuda:0')\n",
      "type(pred)=<class 'torch.Tensor'>, type(data.y)=<class 'torch.Tensor'>\n"
     ]
    },
    {
     "name": "stderr",
     "output_type": "stream",
     "text": [
      "Iterating eval graphs: 100%|██████████| 35/35 [00:02<00:00, 12.86batch/s]\n",
      "Epoch 6/10, Loss: 1.7109, Train Acc: 0.3346, Val Acc: 0.2848\n",
      "Epoch 6/10, Loss: 1.7109, Train Acc: 0.3346, Val Acc: 0.2848\n",
      "Epoch 6/10, Loss: 1.7109, Train Acc: 0.3346, Val Acc: 0.2848\n",
      "Epoch 6/10, Loss: 1.7109, Train Acc: 0.3346, Val Acc: 0.2848\n",
      "Epoch 6/10, Loss: 1.7109, Train Acc: 0.3346, Val Acc: 0.2848\n"
     ]
    },
    {
     "name": "stdout",
     "output_type": "stream",
     "text": [
      "DataBatch(edge_index=[2, 158418], edge_attr=[158418, 7], y=[32], num_nodes=8101, x=[8101], batch=[8101], ptr=[33])\n",
      "pred=tensor([4, 1, 4, 4, 4, 4, 4, 4, 4, 4, 4, 0, 4, 4, 4, 4, 4, 4, 4, 4, 0, 0, 4, 4,\n",
      "        4, 4, 4, 4, 4, 0, 4, 4], device='cuda:0'), data.y=tensor([1, 2, 1, 5, 3, 4, 4, 2, 0, 5, 4, 4, 4, 2, 3, 0, 4, 4, 2, 4, 0, 0, 4, 0,\n",
      "        2, 0, 4, 4, 4, 4, 5, 3], device='cuda:0')\n",
      "type(pred)=<class 'torch.Tensor'>, type(data.y)=<class 'torch.Tensor'>\n",
      "DataBatch(edge_index=[2, 145944], edge_attr=[145944, 7], y=[32], num_nodes=8005, x=[8005], batch=[8005], ptr=[33])\n",
      "pred=tensor([4, 4, 4, 4, 4, 4, 0, 4, 4, 4, 4, 0, 4, 0, 4, 4, 4, 4, 4, 4, 4, 4, 4, 4,\n",
      "        4, 4, 4, 4, 4, 4, 4, 4], device='cuda:0'), data.y=tensor([0, 3, 4, 4, 4, 5, 0, 1, 2, 3, 1, 4, 1, 0, 5, 0, 3, 3, 5, 4, 5, 2, 4, 1,\n",
      "        1, 0, 4, 4, 5, 4, 2, 5], device='cuda:0')\n",
      "type(pred)=<class 'torch.Tensor'>, type(data.y)=<class 'torch.Tensor'>\n",
      "Epoch 6/10, Loss: 1.7109, Train Acc: 0.3346, Val Acc: 0.2848\n"
     ]
    },
    {
     "name": "stderr",
     "output_type": "stream",
     "text": [
      "Iterating training graphs: 100%|██████████| 140/140 [00:13<00:00, 10.30batch/s]\n",
      "Iterating eval graphs:   6%|▌         | 2/35 [00:00<00:02, 14.39batch/s]"
     ]
    },
    {
     "name": "stdout",
     "output_type": "stream",
     "text": [
      "DataBatch(edge_index=[2, 135416], edge_attr=[135416, 7], y=[32], num_nodes=7817, x=[7817], batch=[7817], ptr=[33])\n",
      "pred=tensor([4, 4, 4, 1, 4, 4, 4, 4, 4, 1, 4, 4, 4, 4, 0, 4, 4, 4, 1, 4, 1, 4, 4, 4,\n",
      "        4, 0, 4, 4, 0, 4, 4, 4], device='cuda:0'), data.y=tensor([4, 0, 1, 1, 2, 4, 4, 3, 1, 4, 4, 0, 5, 3, 0, 2, 3, 1, 0, 4, 1, 4, 5, 3,\n",
      "        0, 2, 0, 4, 1, 5, 0, 3], device='cuda:0')\n",
      "type(pred)=<class 'torch.Tensor'>, type(data.y)=<class 'torch.Tensor'>\n",
      "DataBatch(edge_index=[2, 121262], edge_attr=[121262, 7], y=[32], num_nodes=6966, x=[6966], batch=[6966], ptr=[33])\n",
      "pred=tensor([1, 4, 4, 4, 4, 1, 4, 4, 4, 4, 0, 4, 4, 4, 4, 4, 1, 4, 4, 0, 4, 4, 4, 4,\n",
      "        4, 4, 4, 4, 4, 4, 4, 4], device='cuda:0'), data.y=tensor([2, 0, 5, 2, 4, 4, 1, 5, 2, 4, 0, 1, 3, 5, 3, 3, 1, 1, 1, 3, 5, 5, 4, 5,\n",
      "        2, 3, 4, 0, 4, 1, 4, 1], device='cuda:0')\n",
      "type(pred)=<class 'torch.Tensor'>, type(data.y)=<class 'torch.Tensor'>\n",
      "DataBatch(edge_index=[2, 144698], edge_attr=[144698, 7], y=[32], num_nodes=7569, x=[7569], batch=[7569], ptr=[33])\n",
      "pred=tensor([1, 4, 4, 4, 0, 4, 4, 4, 4, 4, 4, 4, 1, 4, 4, 1, 4, 4, 0, 4, 4, 4, 4, 4,\n",
      "        1, 4, 4, 4, 1, 1, 4, 4], device='cuda:0'), data.y=tensor([2, 0, 4, 5, 3, 2, 4, 0, 0, 4, 4, 4, 3, 0, 0, 5, 4, 3, 3, 2, 5, 4, 2, 0,\n",
      "        1, 4, 3, 5, 5, 1, 5, 0], device='cuda:0')\n",
      "type(pred)=<class 'torch.Tensor'>, type(data.y)=<class 'torch.Tensor'>\n"
     ]
    },
    {
     "name": "stderr",
     "output_type": "stream",
     "text": [
      "Iterating eval graphs:  17%|█▋        | 6/35 [00:00<00:02, 14.06batch/s]"
     ]
    },
    {
     "name": "stdout",
     "output_type": "stream",
     "text": [
      "DataBatch(edge_index=[2, 127950], edge_attr=[127950, 7], y=[32], num_nodes=7645, x=[7645], batch=[7645], ptr=[33])\n",
      "pred=tensor([4, 4, 4, 4, 4, 4, 4, 4, 4, 0, 4, 0, 4, 4, 0, 4, 4, 4, 4, 4, 0, 4, 4, 4,\n",
      "        4, 4, 4, 0, 4, 4, 0, 4], device='cuda:0'), data.y=tensor([2, 4, 5, 4, 5, 0, 4, 1, 0, 0, 2, 1, 4, 4, 5, 4, 4, 4, 1, 1, 5, 1, 5, 4,\n",
      "        0, 5, 4, 0, 1, 1, 0, 4], device='cuda:0')\n",
      "type(pred)=<class 'torch.Tensor'>, type(data.y)=<class 'torch.Tensor'>\n",
      "DataBatch(edge_index=[2, 120872], edge_attr=[120872, 7], y=[32], num_nodes=7820, x=[7820], batch=[7820], ptr=[33])\n",
      "pred=tensor([4, 4, 4, 4, 1, 4, 4, 4, 0, 4, 4, 4, 4, 4, 4, 0, 4, 0, 0, 4, 4, 4, 4, 4,\n",
      "        4, 4, 4, 4, 0, 4, 4, 0], device='cuda:0'), data.y=tensor([3, 1, 0, 2, 2, 3, 5, 4, 0, 5, 4, 2, 4, 4, 1, 0, 1, 4, 0, 4, 0, 4, 5, 0,\n",
      "        5, 2, 3, 0, 2, 5, 4, 0], device='cuda:0')\n",
      "type(pred)=<class 'torch.Tensor'>, type(data.y)=<class 'torch.Tensor'>\n",
      "DataBatch(edge_index=[2, 125522], edge_attr=[125522, 7], y=[32], num_nodes=6715, x=[6715], batch=[6715], ptr=[33])\n",
      "pred=tensor([1, 4, 4, 4, 4, 0, 4, 4, 4, 4, 4, 4, 4, 4, 4, 4, 4, 4, 4, 4, 4, 4, 4, 0,\n",
      "        4, 4, 4, 1, 1, 4, 4, 4], device='cuda:0'), data.y=tensor([4, 3, 4, 3, 5, 5, 5, 2, 4, 4, 3, 4, 4, 5, 5, 4, 0, 3, 5, 4, 2, 0, 1, 0,\n",
      "        4, 4, 2, 2, 1, 0, 0, 2], device='cuda:0')\n",
      "type(pred)=<class 'torch.Tensor'>, type(data.y)=<class 'torch.Tensor'>\n"
     ]
    },
    {
     "name": "stderr",
     "output_type": "stream",
     "text": [
      "Iterating eval graphs:  23%|██▎       | 8/35 [00:00<00:01, 14.04batch/s]"
     ]
    },
    {
     "name": "stdout",
     "output_type": "stream",
     "text": [
      "DataBatch(edge_index=[2, 120666], edge_attr=[120666, 7], y=[32], num_nodes=7079, x=[7079], batch=[7079], ptr=[33])\n",
      "pred=tensor([4, 4, 4, 1, 4, 4, 4, 1, 4, 4, 4, 4, 4, 4, 4, 4, 4, 4, 4, 4, 4, 4, 1, 4,\n",
      "        4, 1, 0, 4, 1, 1, 4, 4], device='cuda:0'), data.y=tensor([3, 3, 1, 1, 1, 4, 2, 2, 2, 2, 4, 2, 3, 3, 4, 3, 4, 3, 3, 5, 4, 3, 2, 3,\n",
      "        0, 2, 3, 0, 1, 1, 2, 0], device='cuda:0')\n",
      "type(pred)=<class 'torch.Tensor'>, type(data.y)=<class 'torch.Tensor'>\n",
      "DataBatch(edge_index=[2, 137498], edge_attr=[137498, 7], y=[32], num_nodes=7324, x=[7324], batch=[7324], ptr=[33])\n",
      "pred=tensor([0, 4, 0, 1, 0, 1, 4, 4, 4, 1, 4, 4, 1, 1, 4, 4, 1, 0, 4, 4, 4, 4, 0, 4,\n",
      "        0, 1, 1, 0, 0, 0, 4, 4], device='cuda:0'), data.y=tensor([0, 4, 4, 1, 0, 2, 2, 2, 4, 1, 3, 2, 1, 1, 4, 5, 2, 0, 5, 1, 5, 0, 0, 3,\n",
      "        0, 1, 1, 0, 0, 0, 4, 4], device='cuda:0')\n",
      "type(pred)=<class 'torch.Tensor'>, type(data.y)=<class 'torch.Tensor'>\n",
      "DataBatch(edge_index=[2, 137840], edge_attr=[137840, 7], y=[32], num_nodes=7719, x=[7719], batch=[7719], ptr=[33])\n",
      "pred=tensor([4, 1, 1, 4, 4, 4, 4, 4, 4, 0, 4, 1, 4, 1, 1, 4, 4, 4, 0, 4, 4, 4, 4, 4,\n",
      "        4, 4, 4, 1, 1, 0, 4, 4], device='cuda:0'), data.y=tensor([4, 1, 4, 1, 3, 4, 1, 0, 3, 3, 0, 1, 3, 4, 1, 4, 4, 0, 2, 1, 0, 5, 3, 3,\n",
      "        2, 4, 4, 0, 1, 3, 2, 4], device='cuda:0')\n",
      "type(pred)=<class 'torch.Tensor'>, type(data.y)=<class 'torch.Tensor'>\n"
     ]
    },
    {
     "name": "stderr",
     "output_type": "stream",
     "text": [
      "Iterating eval graphs:  34%|███▍      | 12/35 [00:00<00:01, 13.11batch/s]"
     ]
    },
    {
     "name": "stdout",
     "output_type": "stream",
     "text": [
      "DataBatch(edge_index=[2, 198718], edge_attr=[198718, 7], y=[32], num_nodes=8382, x=[8382], batch=[8382], ptr=[33])\n",
      "pred=tensor([1, 4, 4, 1, 4, 0, 4, 0, 4, 4, 4, 4, 1, 4, 1, 4, 4, 4, 4, 4, 0, 4, 4, 4,\n",
      "        4, 4, 0, 1, 4, 1, 4, 4], device='cuda:0'), data.y=tensor([1, 1, 2, 1, 5, 3, 3, 5, 4, 2, 0, 0, 0, 3, 3, 4, 2, 4, 2, 1, 2, 3, 4, 5,\n",
      "        4, 4, 0, 5, 4, 5, 4, 2], device='cuda:0')\n",
      "type(pred)=<class 'torch.Tensor'>, type(data.y)=<class 'torch.Tensor'>\n",
      "DataBatch(edge_index=[2, 122004], edge_attr=[122004, 7], y=[32], num_nodes=6747, x=[6747], batch=[6747], ptr=[33])\n",
      "pred=tensor([4, 4, 4, 0, 4, 4, 4, 0, 4, 4, 4, 4, 4, 4, 4, 4, 4, 4, 4, 4, 1, 4, 1, 4,\n",
      "        4, 4, 0, 4, 4, 4, 4, 1], device='cuda:0'), data.y=tensor([4, 4, 5, 4, 0, 4, 0, 5, 1, 1, 3, 4, 3, 5, 1, 4, 3, 4, 5, 2, 4, 4, 1, 4,\n",
      "        3, 2, 0, 4, 3, 4, 2, 5], device='cuda:0')\n",
      "type(pred)=<class 'torch.Tensor'>, type(data.y)=<class 'torch.Tensor'>\n",
      "DataBatch(edge_index=[2, 135852], edge_attr=[135852, 7], y=[32], num_nodes=7607, x=[7607], batch=[7607], ptr=[33])\n",
      "pred=tensor([4, 4, 0, 4, 4, 1, 4, 4, 4, 4, 4, 4, 1, 4, 4, 4, 0, 4, 0, 0, 4, 4, 4, 4,\n",
      "        0, 1, 4, 0, 1, 1, 1, 4], device='cuda:0'), data.y=tensor([4, 3, 5, 5, 5, 2, 2, 1, 3, 4, 3, 3, 3, 0, 1, 1, 0, 1, 2, 1, 0, 4, 3, 3,\n",
      "        2, 2, 0, 2, 1, 0, 1, 0], device='cuda:0')\n",
      "type(pred)=<class 'torch.Tensor'>, type(data.y)=<class 'torch.Tensor'>\n"
     ]
    },
    {
     "name": "stderr",
     "output_type": "stream",
     "text": [
      "Iterating eval graphs:  40%|████      | 14/35 [00:01<00:01, 12.89batch/s]"
     ]
    },
    {
     "name": "stdout",
     "output_type": "stream",
     "text": [
      "DataBatch(edge_index=[2, 139278], edge_attr=[139278, 7], y=[32], num_nodes=7386, x=[7386], batch=[7386], ptr=[33])\n",
      "pred=tensor([4, 4, 4, 4, 4, 4, 1, 4, 4, 4, 4, 4, 4, 4, 0, 0, 4, 4, 4, 4, 4, 0, 4, 4,\n",
      "        4, 4, 4, 4, 4, 4, 1, 4], device='cuda:0'), data.y=tensor([1, 0, 4, 5, 1, 5, 1, 1, 2, 0, 4, 2, 2, 4, 1, 0, 1, 5, 4, 4, 3, 0, 4, 4,\n",
      "        0, 2, 0, 3, 3, 1, 0, 3], device='cuda:0')\n",
      "type(pred)=<class 'torch.Tensor'>, type(data.y)=<class 'torch.Tensor'>\n",
      "DataBatch(edge_index=[2, 149492], edge_attr=[149492, 7], y=[32], num_nodes=7921, x=[7921], batch=[7921], ptr=[33])\n",
      "pred=tensor([4, 4, 4, 4, 4, 4, 4, 4, 1, 0, 0, 4, 4, 4, 4, 4, 4, 1, 0, 4, 4, 0, 1, 4,\n",
      "        4, 4, 4, 4, 4, 0, 4, 4], device='cuda:0'), data.y=tensor([1, 5, 0, 3, 1, 1, 1, 1, 2, 3, 4, 2, 4, 0, 3, 4, 1, 3, 0, 3, 2, 4, 1, 3,\n",
      "        4, 2, 5, 5, 1, 3, 0, 4], device='cuda:0')\n",
      "type(pred)=<class 'torch.Tensor'>, type(data.y)=<class 'torch.Tensor'>\n",
      "DataBatch(edge_index=[2, 138360], edge_attr=[138360, 7], y=[32], num_nodes=7638, x=[7638], batch=[7638], ptr=[33])\n",
      "pred=tensor([4, 4, 4, 4, 0, 1, 4, 4, 4, 1, 0, 4, 4, 4, 4, 4, 4, 4, 4, 4, 4, 4, 0, 4,\n",
      "        4, 4, 1, 1, 4, 4, 1, 1], device='cuda:0'), data.y=tensor([3, 3, 1, 1, 1, 1, 5, 2, 2, 2, 4, 0, 0, 3, 2, 3, 2, 4, 1, 5, 4, 3, 2, 4,\n",
      "        4, 1, 4, 3, 3, 3, 5, 0], device='cuda:0')\n",
      "type(pred)=<class 'torch.Tensor'>, type(data.y)=<class 'torch.Tensor'>\n"
     ]
    },
    {
     "name": "stderr",
     "output_type": "stream",
     "text": [
      "Iterating eval graphs:  51%|█████▏    | 18/35 [00:01<00:01, 13.28batch/s]"
     ]
    },
    {
     "name": "stdout",
     "output_type": "stream",
     "text": [
      "DataBatch(edge_index=[2, 133568], edge_attr=[133568, 7], y=[32], num_nodes=7365, x=[7365], batch=[7365], ptr=[33])\n",
      "pred=tensor([4, 4, 4, 4, 4, 1, 4, 4, 4, 4, 0, 4, 4, 4, 0, 1, 4, 4, 4, 0, 0, 4, 4, 4,\n",
      "        4, 1, 4, 4, 4, 4, 4, 4], device='cuda:0'), data.y=tensor([4, 4, 5, 4, 2, 0, 5, 1, 2, 4, 3, 5, 1, 5, 4, 1, 0, 4, 5, 0, 2, 5, 1, 4,\n",
      "        4, 2, 2, 1, 4, 3, 5, 4], device='cuda:0')\n",
      "type(pred)=<class 'torch.Tensor'>, type(data.y)=<class 'torch.Tensor'>\n",
      "DataBatch(edge_index=[2, 118182], edge_attr=[118182, 7], y=[32], num_nodes=7006, x=[7006], batch=[7006], ptr=[33])\n",
      "pred=tensor([4, 4, 4, 4, 4, 4, 4, 1, 4, 4, 0, 4, 0, 1, 4, 4, 4, 4, 4, 4, 4, 4, 4, 4,\n",
      "        1, 4, 4, 4, 4, 4, 4, 4], device='cuda:0'), data.y=tensor([2, 5, 1, 1, 4, 4, 1, 5, 1, 2, 0, 2, 2, 0, 5, 4, 1, 4, 4, 4, 4, 5, 4, 4,\n",
      "        1, 3, 4, 2, 4, 4, 3, 1], device='cuda:0')\n",
      "type(pred)=<class 'torch.Tensor'>, type(data.y)=<class 'torch.Tensor'>\n",
      "DataBatch(edge_index=[2, 144366], edge_attr=[144366, 7], y=[32], num_nodes=7705, x=[7705], batch=[7705], ptr=[33])\n",
      "pred=tensor([4, 4, 4, 4, 0, 0, 4, 4, 4, 4, 4, 4, 4, 4, 4, 1, 1, 0, 1, 4, 4, 4, 0, 1,\n",
      "        4, 4, 4, 4, 1, 4, 4, 4], device='cuda:0'), data.y=tensor([0, 4, 0, 1, 0, 0, 4, 1, 1, 2, 4, 4, 2, 0, 5, 1, 1, 5, 1, 4, 0, 4, 2, 3,\n",
      "        3, 3, 1, 1, 1, 1, 3, 4], device='cuda:0')\n",
      "type(pred)=<class 'torch.Tensor'>, type(data.y)=<class 'torch.Tensor'>\n"
     ]
    },
    {
     "name": "stderr",
     "output_type": "stream",
     "text": [
      "Iterating eval graphs:  57%|█████▋    | 20/35 [00:01<00:01, 12.91batch/s]"
     ]
    },
    {
     "name": "stdout",
     "output_type": "stream",
     "text": [
      "DataBatch(edge_index=[2, 140508], edge_attr=[140508, 7], y=[32], num_nodes=6848, x=[6848], batch=[6848], ptr=[33])\n",
      "pred=tensor([4, 4, 0, 1, 1, 0, 1, 4, 4, 0, 4, 4, 0, 4, 4, 4, 4, 4, 1, 4, 4, 4, 4, 4,\n",
      "        0, 4, 1, 4, 4, 0, 4, 4], device='cuda:0'), data.y=tensor([3, 3, 0, 1, 1, 3, 1, 3, 2, 4, 5, 0, 3, 3, 4, 0, 2, 5, 3, 1, 0, 5, 0, 5,\n",
      "        2, 2, 3, 2, 4, 0, 2, 4], device='cuda:0')\n",
      "type(pred)=<class 'torch.Tensor'>, type(data.y)=<class 'torch.Tensor'>\n",
      "DataBatch(edge_index=[2, 159828], edge_attr=[159828, 7], y=[32], num_nodes=8428, x=[8428], batch=[8428], ptr=[33])\n",
      "pred=tensor([4, 4, 4, 0, 1, 0, 4, 4, 1, 4, 1, 4, 4, 4, 4, 1, 4, 0, 4, 4, 4, 4, 4, 4,\n",
      "        4, 4, 4, 1, 4, 4, 4, 1], device='cuda:0'), data.y=tensor([5, 0, 0, 2, 0, 4, 4, 3, 1, 5, 5, 3, 0, 5, 0, 0, 1, 0, 2, 5, 4, 5, 1, 5,\n",
      "        1, 3, 4, 1, 1, 2, 3, 1], device='cuda:0')\n",
      "type(pred)=<class 'torch.Tensor'>, type(data.y)=<class 'torch.Tensor'>\n",
      "DataBatch(edge_index=[2, 136874], edge_attr=[136874, 7], y=[32], num_nodes=6771, x=[6771], batch=[6771], ptr=[33])\n",
      "pred=tensor([0, 4, 4, 4, 4, 4, 0, 4, 4, 4, 0, 4, 4, 4, 4, 0, 4, 4, 1, 4, 0, 4, 4, 0,\n",
      "        4, 1, 1, 1, 1, 4, 1, 0], device='cuda:0'), data.y=tensor([3, 4, 1, 4, 4, 0, 4, 0, 3, 2, 0, 0, 4, 3, 1, 0, 1, 0, 1, 3, 1, 1, 0, 2,\n",
      "        4, 1, 3, 1, 2, 5, 0, 1], device='cuda:0')\n",
      "type(pred)=<class 'torch.Tensor'>, type(data.y)=<class 'torch.Tensor'>\n"
     ]
    },
    {
     "name": "stderr",
     "output_type": "stream",
     "text": [
      "Iterating eval graphs:  69%|██████▊   | 24/35 [00:01<00:00, 12.93batch/s]"
     ]
    },
    {
     "name": "stdout",
     "output_type": "stream",
     "text": [
      "DataBatch(edge_index=[2, 171060], edge_attr=[171060, 7], y=[32], num_nodes=8260, x=[8260], batch=[8260], ptr=[33])\n",
      "pred=tensor([4, 4, 1, 1, 1, 4, 4, 0, 1, 4, 0, 0, 1, 4, 4, 4, 4, 4, 0, 4, 4, 1, 4, 4,\n",
      "        4, 4, 4, 4, 4, 4, 1, 4], device='cuda:0'), data.y=tensor([5, 3, 3, 0, 1, 4, 4, 2, 1, 4, 5, 5, 1, 5, 5, 3, 2, 3, 0, 0, 0, 3, 4, 4,\n",
      "        5, 4, 2, 3, 4, 1, 1, 2], device='cuda:0')\n",
      "type(pred)=<class 'torch.Tensor'>, type(data.y)=<class 'torch.Tensor'>\n",
      "DataBatch(edge_index=[2, 136498], edge_attr=[136498, 7], y=[32], num_nodes=7887, x=[7887], batch=[7887], ptr=[33])\n",
      "pred=tensor([0, 4, 4, 4, 4, 0, 4, 4, 4, 4, 4, 4, 4, 1, 4, 0, 4, 4, 4, 0, 4, 0, 4, 4,\n",
      "        4, 4, 4, 1, 4, 4, 4, 4], device='cuda:0'), data.y=tensor([2, 4, 4, 0, 4, 5, 4, 1, 4, 2, 3, 1, 2, 1, 1, 4, 0, 3, 0, 0, 3, 3, 2, 0,\n",
      "        4, 0, 4, 1, 3, 3, 4, 0], device='cuda:0')\n",
      "type(pred)=<class 'torch.Tensor'>, type(data.y)=<class 'torch.Tensor'>\n",
      "DataBatch(edge_index=[2, 126350], edge_attr=[126350, 7], y=[32], num_nodes=6480, x=[6480], batch=[6480], ptr=[33])\n",
      "pred=tensor([4, 4, 4, 4, 4, 4, 4, 4, 4, 4, 4, 4, 4, 1, 4, 4, 4, 4, 4, 1, 4, 4, 4, 0,\n",
      "        1, 0, 4, 4, 4, 4, 4, 1], device='cuda:0'), data.y=tensor([3, 5, 3, 3, 4, 3, 0, 1, 3, 1, 2, 3, 0, 3, 4, 2, 1, 4, 0, 5, 4, 1, 3, 4,\n",
      "        1, 0, 0, 1, 0, 2, 5, 3], device='cuda:0')\n",
      "type(pred)=<class 'torch.Tensor'>, type(data.y)=<class 'torch.Tensor'>\n"
     ]
    },
    {
     "name": "stderr",
     "output_type": "stream",
     "text": [
      "Iterating eval graphs:  74%|███████▍  | 26/35 [00:01<00:00, 12.59batch/s]"
     ]
    },
    {
     "name": "stdout",
     "output_type": "stream",
     "text": [
      "DataBatch(edge_index=[2, 152242], edge_attr=[152242, 7], y=[32], num_nodes=7983, x=[7983], batch=[7983], ptr=[33])\n",
      "pred=tensor([1, 4, 4, 1, 0, 1, 4, 0, 1, 4, 4, 4, 4, 0, 4, 0, 4, 0, 4, 4, 4, 4, 4, 0,\n",
      "        4, 4, 4, 1, 4, 4, 4, 4], device='cuda:0'), data.y=tensor([1, 4, 1, 1, 0, 2, 3, 0, 1, 4, 2, 1, 1, 0, 2, 0, 4, 0, 2, 0, 0, 1, 3, 4,\n",
      "        0, 4, 4, 1, 1, 4, 5, 0], device='cuda:0')\n",
      "type(pred)=<class 'torch.Tensor'>, type(data.y)=<class 'torch.Tensor'>\n",
      "DataBatch(edge_index=[2, 156674], edge_attr=[156674, 7], y=[32], num_nodes=7784, x=[7784], batch=[7784], ptr=[33])\n",
      "pred=tensor([4, 4, 0, 4, 4, 4, 0, 4, 1, 4, 4, 1, 4, 4, 0, 4, 1, 4, 1, 4, 4, 4, 0, 4,\n",
      "        4, 2, 1, 4, 0, 4, 4, 4], device='cuda:0'), data.y=tensor([5, 2, 5, 0, 4, 0, 5, 2, 1, 2, 3, 1, 1, 2, 3, 3, 1, 4, 1, 2, 4, 2, 5, 1,\n",
      "        4, 3, 2, 0, 0, 2, 5, 5], device='cuda:0')\n",
      "type(pred)=<class 'torch.Tensor'>, type(data.y)=<class 'torch.Tensor'>\n",
      "DataBatch(edge_index=[2, 151204], edge_attr=[151204, 7], y=[32], num_nodes=7305, x=[7305], batch=[7305], ptr=[33])\n",
      "pred=tensor([1, 4, 0, 4, 0, 4, 4, 1, 1, 4, 1, 1, 4, 4, 4, 4, 4, 4, 0, 1, 4, 1, 4, 4,\n",
      "        1, 4, 4, 4, 4, 4, 4, 4], device='cuda:0'), data.y=tensor([1, 4, 2, 3, 0, 3, 5, 2, 1, 4, 0, 0, 3, 2, 3, 3, 1, 2, 2, 1, 1, 5, 3, 2,\n",
      "        4, 1, 3, 2, 3, 2, 2, 2], device='cuda:0')\n",
      "type(pred)=<class 'torch.Tensor'>, type(data.y)=<class 'torch.Tensor'>\n"
     ]
    },
    {
     "name": "stderr",
     "output_type": "stream",
     "text": [
      "Iterating eval graphs:  86%|████████▌ | 30/35 [00:02<00:00, 12.79batch/s]"
     ]
    },
    {
     "name": "stdout",
     "output_type": "stream",
     "text": [
      "DataBatch(edge_index=[2, 139872], edge_attr=[139872, 7], y=[32], num_nodes=7363, x=[7363], batch=[7363], ptr=[33])\n",
      "pred=tensor([4, 4, 4, 0, 4, 4, 4, 1, 4, 4, 4, 1, 0, 4, 4, 4, 4, 0, 4, 4, 4, 4, 0, 4,\n",
      "        4, 1, 4, 4, 4, 1, 4, 4], device='cuda:0'), data.y=tensor([4, 4, 4, 0, 4, 3, 4, 5, 0, 4, 3, 3, 5, 3, 4, 5, 5, 2, 3, 4, 3, 0, 5, 4,\n",
      "        3, 1, 3, 4, 3, 0, 2, 4], device='cuda:0')\n",
      "type(pred)=<class 'torch.Tensor'>, type(data.y)=<class 'torch.Tensor'>\n",
      "DataBatch(edge_index=[2, 133850], edge_attr=[133850, 7], y=[32], num_nodes=7706, x=[7706], batch=[7706], ptr=[33])\n",
      "pred=tensor([4, 4, 4, 0, 4, 4, 1, 1, 4, 4, 0, 4, 4, 4, 1, 4, 4, 4, 4, 1, 4, 1, 4, 4,\n",
      "        4, 4, 4, 4, 4, 1, 4, 4], device='cuda:0'), data.y=tensor([4, 1, 3, 2, 4, 0, 1, 0, 0, 1, 4, 3, 2, 3, 1, 5, 4, 2, 3, 4, 4, 2, 1, 4,\n",
      "        4, 4, 1, 1, 4, 5, 4, 4], device='cuda:0')\n",
      "type(pred)=<class 'torch.Tensor'>, type(data.y)=<class 'torch.Tensor'>\n",
      "DataBatch(edge_index=[2, 129794], edge_attr=[129794, 7], y=[32], num_nodes=6955, x=[6955], batch=[6955], ptr=[33])\n",
      "pred=tensor([4, 4, 4, 4, 0, 4, 4, 4, 4, 0, 1, 4, 4, 0, 4, 4, 4, 4, 4, 4, 4, 4, 4, 4,\n",
      "        4, 1, 4, 4, 4, 4, 4, 1], device='cuda:0'), data.y=tensor([1, 0, 4, 3, 1, 0, 3, 5, 4, 4, 0, 4, 0, 4, 4, 0, 4, 4, 1, 3, 4, 1, 3, 0,\n",
      "        4, 4, 4, 2, 3, 5, 4, 1], device='cuda:0')\n",
      "type(pred)=<class 'torch.Tensor'>, type(data.y)=<class 'torch.Tensor'>\n"
     ]
    },
    {
     "name": "stderr",
     "output_type": "stream",
     "text": [
      "Iterating eval graphs:  91%|█████████▏| 32/35 [00:02<00:00, 12.86batch/s]"
     ]
    },
    {
     "name": "stdout",
     "output_type": "stream",
     "text": [
      "DataBatch(edge_index=[2, 154384], edge_attr=[154384, 7], y=[32], num_nodes=8229, x=[8229], batch=[8229], ptr=[33])\n",
      "pred=tensor([4, 4, 4, 4, 4, 1, 1, 4, 1, 4, 0, 4, 4, 4, 4, 4, 4, 4, 4, 4, 4, 4, 4, 4,\n",
      "        0, 4, 4, 4, 4, 1, 1, 4], device='cuda:0'), data.y=tensor([4, 3, 0, 3, 5, 1, 1, 1, 5, 3, 0, 1, 5, 4, 4, 3, 2, 4, 2, 2, 3, 5, 3, 0,\n",
      "        0, 4, 3, 4, 3, 3, 4, 2], device='cuda:0')\n",
      "type(pred)=<class 'torch.Tensor'>, type(data.y)=<class 'torch.Tensor'>\n",
      "DataBatch(edge_index=[2, 118838], edge_attr=[118838, 7], y=[32], num_nodes=6812, x=[6812], batch=[6812], ptr=[33])\n",
      "pred=tensor([4, 4, 1, 4, 4, 4, 1, 1, 4, 4, 4, 4, 0, 4, 4, 1, 4, 0, 4, 4, 4, 4, 1, 4,\n",
      "        4, 4, 1, 1, 1, 4, 4, 4], device='cuda:0'), data.y=tensor([3, 4, 0, 0, 4, 2, 5, 2, 4, 1, 3, 1, 1, 1, 3, 0, 2, 2, 4, 2, 0, 5, 1, 3,\n",
      "        4, 4, 2, 1, 1, 3, 4, 5], device='cuda:0')\n",
      "type(pred)=<class 'torch.Tensor'>, type(data.y)=<class 'torch.Tensor'>\n",
      "DataBatch(edge_index=[2, 153150], edge_attr=[153150, 7], y=[32], num_nodes=7683, x=[7683], batch=[7683], ptr=[33])\n",
      "pred=tensor([4, 1, 4, 4, 0, 4, 4, 4, 1, 1, 4, 0, 1, 4, 4, 4, 4, 4, 4, 1, 1, 4, 4, 4,\n",
      "        4, 4, 1, 4, 4, 4, 4, 4], device='cuda:0'), data.y=tensor([2, 2, 4, 3, 1, 3, 3, 1, 3, 0, 5, 1, 3, 4, 4, 0, 4, 3, 4, 2, 2, 4, 4, 3,\n",
      "        2, 4, 0, 0, 3, 1, 4, 5], device='cuda:0')\n",
      "type(pred)=<class 'torch.Tensor'>, type(data.y)=<class 'torch.Tensor'>\n"
     ]
    },
    {
     "name": "stderr",
     "output_type": "stream",
     "text": [
      "Iterating eval graphs: 100%|██████████| 35/35 [00:02<00:00, 12.89batch/s]\n",
      "Epoch 7/10, Loss: 1.7089, Train Acc: 0.3324, Val Acc: 0.3250\n",
      "Epoch 7/10, Loss: 1.7089, Train Acc: 0.3324, Val Acc: 0.3250\n",
      "Epoch 7/10, Loss: 1.7089, Train Acc: 0.3324, Val Acc: 0.3250\n",
      "Epoch 7/10, Loss: 1.7089, Train Acc: 0.3324, Val Acc: 0.3250\n",
      "Epoch 7/10, Loss: 1.7089, Train Acc: 0.3324, Val Acc: 0.3250\n"
     ]
    },
    {
     "name": "stdout",
     "output_type": "stream",
     "text": [
      "DataBatch(edge_index=[2, 158418], edge_attr=[158418, 7], y=[32], num_nodes=8101, x=[8101], batch=[8101], ptr=[33])\n",
      "pred=tensor([1, 4, 4, 4, 4, 4, 4, 4, 4, 1, 1, 0, 4, 1, 0, 4, 4, 4, 4, 4, 0, 0, 4, 4,\n",
      "        4, 4, 4, 4, 4, 0, 4, 4], device='cuda:0'), data.y=tensor([1, 2, 1, 5, 3, 4, 4, 2, 0, 5, 4, 4, 4, 2, 3, 0, 4, 4, 2, 4, 0, 0, 4, 0,\n",
      "        2, 0, 4, 4, 4, 4, 5, 3], device='cuda:0')\n",
      "type(pred)=<class 'torch.Tensor'>, type(data.y)=<class 'torch.Tensor'>\n",
      "DataBatch(edge_index=[2, 145944], edge_attr=[145944, 7], y=[32], num_nodes=8005, x=[8005], batch=[8005], ptr=[33])\n",
      "pred=tensor([0, 4, 4, 4, 4, 4, 0, 4, 4, 4, 1, 0, 4, 0, 4, 0, 4, 4, 4, 1, 4, 4, 4, 4,\n",
      "        4, 4, 4, 4, 4, 4, 4, 4], device='cuda:0'), data.y=tensor([0, 3, 4, 4, 4, 5, 0, 1, 2, 3, 1, 4, 1, 0, 5, 0, 3, 3, 5, 4, 5, 2, 4, 1,\n",
      "        1, 0, 4, 4, 5, 4, 2, 5], device='cuda:0')\n",
      "type(pred)=<class 'torch.Tensor'>, type(data.y)=<class 'torch.Tensor'>\n",
      "Epoch 7/10, Loss: 1.7089, Train Acc: 0.3324, Val Acc: 0.3250\n"
     ]
    },
    {
     "name": "stderr",
     "output_type": "stream",
     "text": [
      "Iterating training graphs: 100%|██████████| 140/140 [00:13<00:00, 10.23batch/s]\n",
      "Iterating eval graphs:   6%|▌         | 2/35 [00:00<00:02, 13.98batch/s]"
     ]
    },
    {
     "name": "stdout",
     "output_type": "stream",
     "text": [
      "DataBatch(edge_index=[2, 135416], edge_attr=[135416, 7], y=[32], num_nodes=7817, x=[7817], batch=[7817], ptr=[33])\n",
      "pred=tensor([4, 0, 4, 1, 4, 4, 4, 4, 4, 1, 4, 4, 4, 4, 0, 4, 4, 4, 1, 4, 1, 4, 0, 4,\n",
      "        4, 0, 0, 4, 0, 4, 4, 4], device='cuda:0'), data.y=tensor([4, 0, 1, 1, 2, 4, 4, 3, 1, 4, 4, 0, 5, 3, 0, 2, 3, 1, 0, 4, 1, 4, 5, 3,\n",
      "        0, 2, 0, 4, 1, 5, 0, 3], device='cuda:0')\n",
      "type(pred)=<class 'torch.Tensor'>, type(data.y)=<class 'torch.Tensor'>\n",
      "DataBatch(edge_index=[2, 121262], edge_attr=[121262, 7], y=[32], num_nodes=6966, x=[6966], batch=[6966], ptr=[33])\n",
      "pred=tensor([1, 4, 4, 4, 4, 1, 4, 4, 0, 4, 0, 1, 4, 4, 4, 4, 1, 0, 4, 0, 4, 4, 4, 4,\n",
      "        4, 4, 4, 4, 4, 4, 4, 4], device='cuda:0'), data.y=tensor([2, 0, 5, 2, 4, 4, 1, 5, 2, 4, 0, 1, 3, 5, 3, 3, 1, 1, 1, 3, 5, 5, 4, 5,\n",
      "        2, 3, 4, 0, 4, 1, 4, 1], device='cuda:0')\n",
      "type(pred)=<class 'torch.Tensor'>, type(data.y)=<class 'torch.Tensor'>\n",
      "DataBatch(edge_index=[2, 144698], edge_attr=[144698, 7], y=[32], num_nodes=7569, x=[7569], batch=[7569], ptr=[33])\n",
      "pred=tensor([1, 4, 4, 4, 0, 4, 4, 0, 1, 4, 4, 4, 1, 4, 4, 1, 4, 0, 0, 4, 4, 4, 4, 4,\n",
      "        0, 4, 4, 4, 1, 1, 4, 0], device='cuda:0'), data.y=tensor([2, 0, 4, 5, 3, 2, 4, 0, 0, 4, 4, 4, 3, 0, 0, 5, 4, 3, 3, 2, 5, 4, 2, 0,\n",
      "        1, 4, 3, 5, 5, 1, 5, 0], device='cuda:0')\n",
      "type(pred)=<class 'torch.Tensor'>, type(data.y)=<class 'torch.Tensor'>\n"
     ]
    },
    {
     "name": "stderr",
     "output_type": "stream",
     "text": [
      "Iterating eval graphs:  17%|█▋        | 6/35 [00:00<00:02, 14.01batch/s]"
     ]
    },
    {
     "name": "stdout",
     "output_type": "stream",
     "text": [
      "DataBatch(edge_index=[2, 127950], edge_attr=[127950, 7], y=[32], num_nodes=7645, x=[7645], batch=[7645], ptr=[33])\n",
      "pred=tensor([4, 4, 4, 4, 0, 4, 4, 1, 4, 0, 4, 0, 1, 4, 0, 4, 4, 4, 4, 4, 0, 1, 4, 1,\n",
      "        0, 4, 4, 0, 4, 4, 0, 4], device='cuda:0'), data.y=tensor([2, 4, 5, 4, 5, 0, 4, 1, 0, 0, 2, 1, 4, 4, 5, 4, 4, 4, 1, 1, 5, 1, 5, 4,\n",
      "        0, 5, 4, 0, 1, 1, 0, 4], device='cuda:0')\n",
      "type(pred)=<class 'torch.Tensor'>, type(data.y)=<class 'torch.Tensor'>\n",
      "DataBatch(edge_index=[2, 120872], edge_attr=[120872, 7], y=[32], num_nodes=7820, x=[7820], batch=[7820], ptr=[33])\n",
      "pred=tensor([4, 4, 4, 4, 1, 4, 4, 4, 0, 4, 4, 4, 4, 4, 4, 0, 4, 0, 0, 4, 0, 4, 4, 4,\n",
      "        4, 4, 4, 4, 0, 0, 4, 0], device='cuda:0'), data.y=tensor([3, 1, 0, 2, 2, 3, 5, 4, 0, 5, 4, 2, 4, 4, 1, 0, 1, 4, 0, 4, 0, 4, 5, 0,\n",
      "        5, 2, 3, 0, 2, 5, 4, 0], device='cuda:0')\n",
      "type(pred)=<class 'torch.Tensor'>, type(data.y)=<class 'torch.Tensor'>\n",
      "DataBatch(edge_index=[2, 125522], edge_attr=[125522, 7], y=[32], num_nodes=6715, x=[6715], batch=[6715], ptr=[33])\n",
      "pred=tensor([1, 4, 4, 0, 4, 0, 4, 4, 4, 4, 4, 1, 4, 0, 4, 4, 1, 4, 4, 4, 4, 4, 4, 0,\n",
      "        4, 4, 0, 1, 1, 1, 0, 4], device='cuda:0'), data.y=tensor([4, 3, 4, 3, 5, 5, 5, 2, 4, 4, 3, 4, 4, 5, 5, 4, 0, 3, 5, 4, 2, 0, 1, 0,\n",
      "        4, 4, 2, 2, 1, 0, 0, 2], device='cuda:0')\n",
      "type(pred)=<class 'torch.Tensor'>, type(data.y)=<class 'torch.Tensor'>\n"
     ]
    },
    {
     "name": "stderr",
     "output_type": "stream",
     "text": [
      "Iterating eval graphs:  23%|██▎       | 8/35 [00:00<00:01, 13.92batch/s]"
     ]
    },
    {
     "name": "stdout",
     "output_type": "stream",
     "text": [
      "DataBatch(edge_index=[2, 120666], edge_attr=[120666, 7], y=[32], num_nodes=7079, x=[7079], batch=[7079], ptr=[33])\n",
      "pred=tensor([4, 4, 4, 1, 1, 0, 4, 1, 4, 4, 4, 4, 4, 4, 4, 4, 4, 4, 4, 0, 4, 4, 1, 4,\n",
      "        0, 1, 0, 4, 1, 1, 4, 4], device='cuda:0'), data.y=tensor([3, 3, 1, 1, 1, 4, 2, 2, 2, 2, 4, 2, 3, 3, 4, 3, 4, 3, 3, 5, 4, 3, 2, 3,\n",
      "        0, 2, 3, 0, 1, 1, 2, 0], device='cuda:0')\n",
      "type(pred)=<class 'torch.Tensor'>, type(data.y)=<class 'torch.Tensor'>\n",
      "DataBatch(edge_index=[2, 137498], edge_attr=[137498, 7], y=[32], num_nodes=7324, x=[7324], batch=[7324], ptr=[33])\n",
      "pred=tensor([0, 0, 0, 1, 0, 0, 4, 4, 4, 1, 4, 0, 1, 1, 4, 4, 1, 0, 4, 4, 0, 4, 0, 0,\n",
      "        0, 1, 1, 0, 0, 0, 4, 4], device='cuda:0'), data.y=tensor([0, 4, 4, 1, 0, 2, 2, 2, 4, 1, 3, 2, 1, 1, 4, 5, 2, 0, 5, 1, 5, 0, 0, 3,\n",
      "        0, 1, 1, 0, 0, 0, 4, 4], device='cuda:0')\n",
      "type(pred)=<class 'torch.Tensor'>, type(data.y)=<class 'torch.Tensor'>\n",
      "DataBatch(edge_index=[2, 137840], edge_attr=[137840, 7], y=[32], num_nodes=7719, x=[7719], batch=[7719], ptr=[33])\n",
      "pred=tensor([4, 1, 1, 4, 4, 0, 4, 0, 4, 0, 0, 1, 4, 1, 1, 4, 4, 4, 0, 4, 4, 4, 4, 4,\n",
      "        4, 4, 4, 1, 1, 0, 4, 4], device='cuda:0'), data.y=tensor([4, 1, 4, 1, 3, 4, 1, 0, 3, 3, 0, 1, 3, 4, 1, 4, 4, 0, 2, 1, 0, 5, 3, 3,\n",
      "        2, 4, 4, 0, 1, 3, 2, 4], device='cuda:0')\n",
      "type(pred)=<class 'torch.Tensor'>, type(data.y)=<class 'torch.Tensor'>\n"
     ]
    },
    {
     "name": "stderr",
     "output_type": "stream",
     "text": [
      "Iterating eval graphs:  34%|███▍      | 12/35 [00:00<00:01, 13.09batch/s]"
     ]
    },
    {
     "name": "stdout",
     "output_type": "stream",
     "text": [
      "DataBatch(edge_index=[2, 198718], edge_attr=[198718, 7], y=[32], num_nodes=8382, x=[8382], batch=[8382], ptr=[33])\n",
      "pred=tensor([1, 1, 1, 1, 0, 0, 4, 0, 4, 0, 0, 0, 1, 1, 1, 4, 0, 4, 4, 4, 0, 4, 4, 1,\n",
      "        4, 4, 0, 1, 4, 1, 4, 4], device='cuda:0'), data.y=tensor([1, 1, 2, 1, 5, 3, 3, 5, 4, 2, 0, 0, 0, 3, 3, 4, 2, 4, 2, 1, 2, 3, 4, 5,\n",
      "        4, 4, 0, 5, 4, 5, 4, 2], device='cuda:0')\n",
      "type(pred)=<class 'torch.Tensor'>, type(data.y)=<class 'torch.Tensor'>\n",
      "DataBatch(edge_index=[2, 122004], edge_attr=[122004, 7], y=[32], num_nodes=6747, x=[6747], batch=[6747], ptr=[33])\n",
      "pred=tensor([4, 4, 0, 0, 4, 4, 4, 0, 4, 4, 4, 0, 4, 0, 4, 0, 4, 4, 4, 4, 1, 0, 1, 0,\n",
      "        4, 4, 0, 0, 4, 4, 4, 1], device='cuda:0'), data.y=tensor([4, 4, 5, 4, 0, 4, 0, 5, 1, 1, 3, 4, 3, 5, 1, 4, 3, 4, 5, 2, 4, 4, 1, 4,\n",
      "        3, 2, 0, 4, 3, 4, 2, 5], device='cuda:0')\n",
      "type(pred)=<class 'torch.Tensor'>, type(data.y)=<class 'torch.Tensor'>\n",
      "DataBatch(edge_index=[2, 135852], edge_attr=[135852, 7], y=[32], num_nodes=7607, x=[7607], batch=[7607], ptr=[33])\n",
      "pred=tensor([4, 4, 0, 0, 4, 1, 0, 4, 4, 4, 4, 4, 1, 4, 4, 4, 0, 4, 0, 0, 4, 4, 4, 4,\n",
      "        0, 0, 0, 0, 0, 1, 1, 0], device='cuda:0'), data.y=tensor([4, 3, 5, 5, 5, 2, 2, 1, 3, 4, 3, 3, 3, 0, 1, 1, 0, 1, 2, 1, 0, 4, 3, 3,\n",
      "        2, 2, 0, 2, 1, 0, 1, 0], device='cuda:0')\n",
      "type(pred)=<class 'torch.Tensor'>, type(data.y)=<class 'torch.Tensor'>\n"
     ]
    },
    {
     "name": "stderr",
     "output_type": "stream",
     "text": [
      "Iterating eval graphs:  40%|████      | 14/35 [00:01<00:01, 12.88batch/s]"
     ]
    },
    {
     "name": "stdout",
     "output_type": "stream",
     "text": [
      "DataBatch(edge_index=[2, 139278], edge_attr=[139278, 7], y=[32], num_nodes=7386, x=[7386], batch=[7386], ptr=[33])\n",
      "pred=tensor([1, 0, 4, 4, 4, 4, 0, 0, 4, 0, 0, 4, 4, 0, 0, 0, 4, 0, 4, 4, 4, 0, 4, 4,\n",
      "        4, 4, 4, 1, 0, 1, 0, 4], device='cuda:0'), data.y=tensor([1, 0, 4, 5, 1, 5, 1, 1, 2, 0, 4, 2, 2, 4, 1, 0, 1, 5, 4, 4, 3, 0, 4, 4,\n",
      "        0, 2, 0, 3, 3, 1, 0, 3], device='cuda:0')\n",
      "type(pred)=<class 'torch.Tensor'>, type(data.y)=<class 'torch.Tensor'>\n",
      "DataBatch(edge_index=[2, 149492], edge_attr=[149492, 7], y=[32], num_nodes=7921, x=[7921], batch=[7921], ptr=[33])\n",
      "pred=tensor([4, 1, 4, 4, 1, 4, 1, 1, 0, 0, 0, 0, 4, 4, 0, 4, 4, 1, 0, 4, 0, 0, 1, 4,\n",
      "        4, 4, 4, 0, 4, 0, 4, 4], device='cuda:0'), data.y=tensor([1, 5, 0, 3, 1, 1, 1, 1, 2, 3, 4, 2, 4, 0, 3, 4, 1, 3, 0, 3, 2, 4, 1, 3,\n",
      "        4, 2, 5, 5, 1, 3, 0, 4], device='cuda:0')\n",
      "type(pred)=<class 'torch.Tensor'>, type(data.y)=<class 'torch.Tensor'>\n",
      "DataBatch(edge_index=[2, 138360], edge_attr=[138360, 7], y=[32], num_nodes=7638, x=[7638], batch=[7638], ptr=[33])\n",
      "pred=tensor([4, 4, 4, 0, 0, 1, 4, 0, 4, 1, 0, 4, 4, 4, 1, 4, 4, 4, 0, 4, 4, 4, 0, 4,\n",
      "        4, 0, 1, 1, 4, 0, 1, 1], device='cuda:0'), data.y=tensor([3, 3, 1, 1, 1, 1, 5, 2, 2, 2, 4, 0, 0, 3, 2, 3, 2, 4, 1, 5, 4, 3, 2, 4,\n",
      "        4, 1, 4, 3, 3, 3, 5, 0], device='cuda:0')\n",
      "type(pred)=<class 'torch.Tensor'>, type(data.y)=<class 'torch.Tensor'>\n"
     ]
    },
    {
     "name": "stderr",
     "output_type": "stream",
     "text": [
      "Iterating eval graphs:  51%|█████▏    | 18/35 [00:01<00:01, 13.18batch/s]"
     ]
    },
    {
     "name": "stdout",
     "output_type": "stream",
     "text": [
      "DataBatch(edge_index=[2, 133568], edge_attr=[133568, 7], y=[32], num_nodes=7365, x=[7365], batch=[7365], ptr=[33])\n",
      "pred=tensor([0, 4, 4, 4, 4, 1, 4, 4, 0, 4, 0, 4, 4, 4, 0, 1, 1, 4, 4, 0, 0, 4, 4, 4,\n",
      "        4, 1, 4, 1, 4, 1, 4, 4], device='cuda:0'), data.y=tensor([4, 4, 5, 4, 2, 0, 5, 1, 2, 4, 3, 5, 1, 5, 4, 1, 0, 4, 5, 0, 2, 5, 1, 4,\n",
      "        4, 2, 2, 1, 4, 3, 5, 4], device='cuda:0')\n",
      "type(pred)=<class 'torch.Tensor'>, type(data.y)=<class 'torch.Tensor'>\n",
      "DataBatch(edge_index=[2, 118182], edge_attr=[118182, 7], y=[32], num_nodes=7006, x=[7006], batch=[7006], ptr=[33])\n",
      "pred=tensor([0, 0, 0, 4, 4, 4, 4, 1, 4, 4, 0, 1, 0, 1, 1, 4, 4, 4, 4, 4, 4, 4, 4, 4,\n",
      "        0, 4, 4, 4, 0, 4, 4, 1], device='cuda:0'), data.y=tensor([2, 5, 1, 1, 4, 4, 1, 5, 1, 2, 0, 2, 2, 0, 5, 4, 1, 4, 4, 4, 4, 5, 4, 4,\n",
      "        1, 3, 4, 2, 4, 4, 3, 1], device='cuda:0')\n",
      "type(pred)=<class 'torch.Tensor'>, type(data.y)=<class 'torch.Tensor'>\n",
      "DataBatch(edge_index=[2, 144366], edge_attr=[144366, 7], y=[32], num_nodes=7705, x=[7705], batch=[7705], ptr=[33])\n",
      "pred=tensor([4, 0, 0, 4, 0, 0, 4, 4, 1, 4, 4, 4, 4, 4, 4, 1, 1, 0, 1, 4, 0, 4, 0, 1,\n",
      "        4, 4, 1, 4, 1, 0, 4, 4], device='cuda:0'), data.y=tensor([0, 4, 0, 1, 0, 0, 4, 1, 1, 2, 4, 4, 2, 0, 5, 1, 1, 5, 1, 4, 0, 4, 2, 3,\n",
      "        3, 3, 1, 1, 1, 1, 3, 4], device='cuda:0')\n",
      "type(pred)=<class 'torch.Tensor'>, type(data.y)=<class 'torch.Tensor'>\n"
     ]
    },
    {
     "name": "stderr",
     "output_type": "stream",
     "text": [
      "Iterating eval graphs:  57%|█████▋    | 20/35 [00:01<00:01, 12.83batch/s]"
     ]
    },
    {
     "name": "stdout",
     "output_type": "stream",
     "text": [
      "DataBatch(edge_index=[2, 140508], edge_attr=[140508, 7], y=[32], num_nodes=6848, x=[6848], batch=[6848], ptr=[33])\n",
      "pred=tensor([1, 4, 0, 1, 1, 0, 1, 4, 0, 0, 4, 4, 0, 0, 0, 4, 1, 4, 4, 4, 4, 4, 4, 4,\n",
      "        0, 4, 1, 0, 4, 0, 4, 4], device='cuda:0'), data.y=tensor([3, 3, 0, 1, 1, 3, 1, 3, 2, 4, 5, 0, 3, 3, 4, 0, 2, 5, 3, 1, 0, 5, 0, 5,\n",
      "        2, 2, 3, 2, 4, 0, 2, 4], device='cuda:0')\n",
      "type(pred)=<class 'torch.Tensor'>, type(data.y)=<class 'torch.Tensor'>\n",
      "DataBatch(edge_index=[2, 159828], edge_attr=[159828, 7], y=[32], num_nodes=8428, x=[8428], batch=[8428], ptr=[33])\n",
      "pred=tensor([0, 0, 0, 0, 0, 0, 4, 0, 1, 4, 1, 4, 4, 4, 4, 0, 4, 0, 0, 4, 4, 4, 4, 1,\n",
      "        4, 4, 4, 1, 4, 4, 4, 1], device='cuda:0'), data.y=tensor([5, 0, 0, 2, 0, 4, 4, 3, 1, 5, 5, 3, 0, 5, 0, 0, 1, 0, 2, 5, 4, 5, 1, 5,\n",
      "        1, 3, 4, 1, 1, 2, 3, 1], device='cuda:0')\n",
      "type(pred)=<class 'torch.Tensor'>, type(data.y)=<class 'torch.Tensor'>\n",
      "DataBatch(edge_index=[2, 136874], edge_attr=[136874, 7], y=[32], num_nodes=6771, x=[6771], batch=[6771], ptr=[33])\n",
      "pred=tensor([0, 4, 4, 4, 4, 4, 0, 0, 4, 4, 0, 4, 4, 4, 4, 0, 4, 4, 1, 4, 0, 4, 4, 0,\n",
      "        4, 1, 1, 1, 1, 0, 1, 0], device='cuda:0'), data.y=tensor([3, 4, 1, 4, 4, 0, 4, 0, 3, 2, 0, 0, 4, 3, 1, 0, 1, 0, 1, 3, 1, 1, 0, 2,\n",
      "        4, 1, 3, 1, 2, 5, 0, 1], device='cuda:0')\n",
      "type(pred)=<class 'torch.Tensor'>, type(data.y)=<class 'torch.Tensor'>\n"
     ]
    },
    {
     "name": "stderr",
     "output_type": "stream",
     "text": [
      "Iterating eval graphs:  69%|██████▊   | 24/35 [00:01<00:00, 12.91batch/s]"
     ]
    },
    {
     "name": "stdout",
     "output_type": "stream",
     "text": [
      "DataBatch(edge_index=[2, 171060], edge_attr=[171060, 7], y=[32], num_nodes=8260, x=[8260], batch=[8260], ptr=[33])\n",
      "pred=tensor([4, 0, 1, 1, 1, 4, 4, 0, 1, 4, 0, 0, 1, 4, 4, 4, 4, 4, 0, 4, 0, 1, 4, 4,\n",
      "        0, 4, 1, 0, 4, 4, 1, 4], device='cuda:0'), data.y=tensor([5, 3, 3, 0, 1, 4, 4, 2, 1, 4, 5, 5, 1, 5, 5, 3, 2, 3, 0, 0, 0, 3, 4, 4,\n",
      "        5, 4, 2, 3, 4, 1, 1, 2], device='cuda:0')\n",
      "type(pred)=<class 'torch.Tensor'>, type(data.y)=<class 'torch.Tensor'>\n",
      "DataBatch(edge_index=[2, 136498], edge_attr=[136498, 7], y=[32], num_nodes=7887, x=[7887], batch=[7887], ptr=[33])\n",
      "pred=tensor([0, 4, 4, 4, 0, 0, 4, 4, 4, 4, 4, 1, 1, 1, 4, 0, 4, 4, 0, 0, 0, 0, 4, 0,\n",
      "        4, 4, 4, 1, 4, 4, 4, 0], device='cuda:0'), data.y=tensor([2, 4, 4, 0, 4, 5, 4, 1, 4, 2, 3, 1, 2, 1, 1, 4, 0, 3, 0, 0, 3, 3, 2, 0,\n",
      "        4, 0, 4, 1, 3, 3, 4, 0], device='cuda:0')\n",
      "type(pred)=<class 'torch.Tensor'>, type(data.y)=<class 'torch.Tensor'>\n",
      "DataBatch(edge_index=[2, 126350], edge_attr=[126350, 7], y=[32], num_nodes=6480, x=[6480], batch=[6480], ptr=[33])\n",
      "pred=tensor([1, 0, 4, 4, 4, 4, 4, 4, 0, 4, 4, 4, 4, 1, 4, 4, 4, 4, 4, 1, 0, 4, 4, 0,\n",
      "        1, 0, 0, 4, 4, 4, 4, 1], device='cuda:0'), data.y=tensor([3, 5, 3, 3, 4, 3, 0, 1, 3, 1, 2, 3, 0, 3, 4, 2, 1, 4, 0, 5, 4, 1, 3, 4,\n",
      "        1, 0, 0, 1, 0, 2, 5, 3], device='cuda:0')\n",
      "type(pred)=<class 'torch.Tensor'>, type(data.y)=<class 'torch.Tensor'>\n"
     ]
    },
    {
     "name": "stderr",
     "output_type": "stream",
     "text": [
      "Iterating eval graphs:  74%|███████▍  | 26/35 [00:02<00:00, 12.53batch/s]"
     ]
    },
    {
     "name": "stdout",
     "output_type": "stream",
     "text": [
      "DataBatch(edge_index=[2, 152242], edge_attr=[152242, 7], y=[32], num_nodes=7983, x=[7983], batch=[7983], ptr=[33])\n",
      "pred=tensor([1, 0, 4, 1, 0, 1, 4, 0, 0, 4, 0, 1, 1, 0, 0, 0, 0, 0, 4, 4, 4, 4, 4, 0,\n",
      "        4, 4, 4, 1, 4, 4, 4, 4], device='cuda:0'), data.y=tensor([1, 4, 1, 1, 0, 2, 3, 0, 1, 4, 2, 1, 1, 0, 2, 0, 4, 0, 2, 0, 0, 1, 3, 4,\n",
      "        0, 4, 4, 1, 1, 4, 5, 0], device='cuda:0')\n",
      "type(pred)=<class 'torch.Tensor'>, type(data.y)=<class 'torch.Tensor'>\n",
      "DataBatch(edge_index=[2, 156674], edge_attr=[156674, 7], y=[32], num_nodes=7784, x=[7784], batch=[7784], ptr=[33])\n",
      "pred=tensor([4, 4, 0, 4, 4, 0, 0, 4, 1, 0, 4, 1, 4, 4, 0, 4, 0, 4, 1, 0, 4, 4, 0, 0,\n",
      "        1, 1, 1, 4, 0, 0, 4, 0], device='cuda:0'), data.y=tensor([5, 2, 5, 0, 4, 0, 5, 2, 1, 2, 3, 1, 1, 2, 3, 3, 1, 4, 1, 2, 4, 2, 5, 1,\n",
      "        4, 3, 2, 0, 0, 2, 5, 5], device='cuda:0')\n",
      "type(pred)=<class 'torch.Tensor'>, type(data.y)=<class 'torch.Tensor'>\n",
      "DataBatch(edge_index=[2, 151204], edge_attr=[151204, 7], y=[32], num_nodes=7305, x=[7305], batch=[7305], ptr=[33])\n",
      "pred=tensor([1, 0, 0, 4, 0, 4, 4, 1, 1, 4, 0, 1, 4, 0, 4, 4, 4, 4, 0, 1, 4, 1, 4, 4,\n",
      "        1, 1, 0, 0, 4, 4, 4, 4], device='cuda:0'), data.y=tensor([1, 4, 2, 3, 0, 3, 5, 2, 1, 4, 0, 0, 3, 2, 3, 3, 1, 2, 2, 1, 1, 5, 3, 2,\n",
      "        4, 1, 3, 2, 3, 2, 2, 2], device='cuda:0')\n",
      "type(pred)=<class 'torch.Tensor'>, type(data.y)=<class 'torch.Tensor'>\n"
     ]
    },
    {
     "name": "stderr",
     "output_type": "stream",
     "text": [
      "Iterating eval graphs:  86%|████████▌ | 30/35 [00:02<00:00, 12.84batch/s]"
     ]
    },
    {
     "name": "stdout",
     "output_type": "stream",
     "text": [
      "DataBatch(edge_index=[2, 139872], edge_attr=[139872, 7], y=[32], num_nodes=7363, x=[7363], batch=[7363], ptr=[33])\n",
      "pred=tensor([4, 4, 4, 0, 4, 4, 4, 1, 4, 4, 0, 1, 0, 4, 4, 4, 4, 0, 4, 4, 4, 1, 0, 4,\n",
      "        4, 1, 4, 1, 4, 4, 4, 4], device='cuda:0'), data.y=tensor([4, 4, 4, 0, 4, 3, 4, 5, 0, 4, 3, 3, 5, 3, 4, 5, 5, 2, 3, 4, 3, 0, 5, 4,\n",
      "        3, 1, 3, 4, 3, 0, 2, 4], device='cuda:0')\n",
      "type(pred)=<class 'torch.Tensor'>, type(data.y)=<class 'torch.Tensor'>\n",
      "DataBatch(edge_index=[2, 133850], edge_attr=[133850, 7], y=[32], num_nodes=7706, x=[7706], batch=[7706], ptr=[33])\n",
      "pred=tensor([4, 4, 4, 0, 4, 4, 1, 1, 4, 0, 0, 4, 4, 4, 1, 4, 4, 4, 4, 1, 4, 1, 4, 4,\n",
      "        4, 4, 1, 4, 4, 1, 4, 4], device='cuda:0'), data.y=tensor([4, 1, 3, 2, 4, 0, 1, 0, 0, 1, 4, 3, 2, 3, 1, 5, 4, 2, 3, 4, 4, 2, 1, 4,\n",
      "        4, 4, 1, 1, 4, 5, 4, 4], device='cuda:0')\n",
      "type(pred)=<class 'torch.Tensor'>, type(data.y)=<class 'torch.Tensor'>\n",
      "DataBatch(edge_index=[2, 129794], edge_attr=[129794, 7], y=[32], num_nodes=6955, x=[6955], batch=[6955], ptr=[33])\n",
      "pred=tensor([4, 0, 4, 4, 0, 4, 4, 4, 4, 0, 1, 4, 4, 0, 4, 4, 4, 4, 4, 1, 4, 1, 4, 1,\n",
      "        0, 0, 4, 0, 4, 4, 4, 1], device='cuda:0'), data.y=tensor([1, 0, 4, 3, 1, 0, 3, 5, 4, 4, 0, 4, 0, 4, 4, 0, 4, 4, 1, 3, 4, 1, 3, 0,\n",
      "        4, 4, 4, 2, 3, 5, 4, 1], device='cuda:0')\n",
      "type(pred)=<class 'torch.Tensor'>, type(data.y)=<class 'torch.Tensor'>\n"
     ]
    },
    {
     "name": "stderr",
     "output_type": "stream",
     "text": [
      "Iterating eval graphs:  91%|█████████▏| 32/35 [00:02<00:00, 12.95batch/s]"
     ]
    },
    {
     "name": "stdout",
     "output_type": "stream",
     "text": [
      "DataBatch(edge_index=[2, 154384], edge_attr=[154384, 7], y=[32], num_nodes=8229, x=[8229], batch=[8229], ptr=[33])\n",
      "pred=tensor([1, 4, 4, 4, 0, 1, 0, 4, 0, 4, 0, 4, 4, 4, 4, 4, 1, 4, 4, 4, 0, 4, 4, 0,\n",
      "        0, 4, 4, 4, 4, 1, 1, 4], device='cuda:0'), data.y=tensor([4, 3, 0, 3, 5, 1, 1, 1, 5, 3, 0, 1, 5, 4, 4, 3, 2, 4, 2, 2, 3, 5, 3, 0,\n",
      "        0, 4, 3, 4, 3, 3, 4, 2], device='cuda:0')\n",
      "type(pred)=<class 'torch.Tensor'>, type(data.y)=<class 'torch.Tensor'>\n",
      "DataBatch(edge_index=[2, 118838], edge_attr=[118838, 7], y=[32], num_nodes=6812, x=[6812], batch=[6812], ptr=[33])\n",
      "pred=tensor([0, 4, 1, 4, 4, 4, 1, 1, 4, 4, 4, 0, 0, 4, 0, 1, 4, 0, 4, 0, 0, 0, 0, 4,\n",
      "        4, 4, 1, 1, 1, 4, 4, 4], device='cuda:0'), data.y=tensor([3, 4, 0, 0, 4, 2, 5, 2, 4, 1, 3, 1, 1, 1, 3, 0, 2, 2, 4, 2, 0, 5, 1, 3,\n",
      "        4, 4, 2, 1, 1, 3, 4, 5], device='cuda:0')\n",
      "type(pred)=<class 'torch.Tensor'>, type(data.y)=<class 'torch.Tensor'>\n",
      "DataBatch(edge_index=[2, 153150], edge_attr=[153150, 7], y=[32], num_nodes=7683, x=[7683], batch=[7683], ptr=[33])\n",
      "pred=tensor([4, 1, 4, 0, 0, 4, 0, 4, 1, 1, 4, 0, 1, 4, 0, 4, 0, 4, 4, 1, 1, 4, 4, 4,\n",
      "        0, 4, 1, 4, 4, 4, 4, 4], device='cuda:0'), data.y=tensor([2, 2, 4, 3, 1, 3, 3, 1, 3, 0, 5, 1, 3, 4, 4, 0, 4, 3, 4, 2, 2, 4, 4, 3,\n",
      "        2, 4, 0, 0, 3, 1, 4, 5], device='cuda:0')\n",
      "type(pred)=<class 'torch.Tensor'>, type(data.y)=<class 'torch.Tensor'>\n"
     ]
    },
    {
     "name": "stderr",
     "output_type": "stream",
     "text": [
      "Iterating eval graphs: 100%|██████████| 35/35 [00:02<00:00, 12.88batch/s]\n",
      "Epoch 8/10, Loss: 1.7065, Train Acc: 0.3339, Val Acc: 0.3411\n",
      "Epoch 8/10, Loss: 1.7065, Train Acc: 0.3339, Val Acc: 0.3411\n",
      "Epoch 8/10, Loss: 1.7065, Train Acc: 0.3339, Val Acc: 0.3411\n",
      "Epoch 8/10, Loss: 1.7065, Train Acc: 0.3339, Val Acc: 0.3411\n",
      "Epoch 8/10, Loss: 1.7065, Train Acc: 0.3339, Val Acc: 0.3411\n"
     ]
    },
    {
     "name": "stdout",
     "output_type": "stream",
     "text": [
      "DataBatch(edge_index=[2, 158418], edge_attr=[158418, 7], y=[32], num_nodes=8101, x=[8101], batch=[8101], ptr=[33])\n",
      "pred=tensor([1, 1, 4, 4, 4, 4, 4, 4, 4, 1, 1, 0, 4, 4, 0, 0, 4, 4, 4, 0, 0, 0, 1, 4,\n",
      "        4, 4, 4, 4, 4, 0, 1, 4], device='cuda:0'), data.y=tensor([1, 2, 1, 5, 3, 4, 4, 2, 0, 5, 4, 4, 4, 2, 3, 0, 4, 4, 2, 4, 0, 0, 4, 0,\n",
      "        2, 0, 4, 4, 4, 4, 5, 3], device='cuda:0')\n",
      "type(pred)=<class 'torch.Tensor'>, type(data.y)=<class 'torch.Tensor'>\n",
      "DataBatch(edge_index=[2, 145944], edge_attr=[145944, 7], y=[32], num_nodes=8005, x=[8005], batch=[8005], ptr=[33])\n",
      "pred=tensor([0, 4, 0, 4, 4, 4, 0, 1, 4, 4, 1, 0, 4, 0, 4, 0, 0, 4, 4, 1, 4, 4, 4, 1,\n",
      "        0, 4, 4, 4, 4, 4, 4, 4], device='cuda:0'), data.y=tensor([0, 3, 4, 4, 4, 5, 0, 1, 2, 3, 1, 4, 1, 0, 5, 0, 3, 3, 5, 4, 5, 2, 4, 1,\n",
      "        1, 0, 4, 4, 5, 4, 2, 5], device='cuda:0')\n",
      "type(pred)=<class 'torch.Tensor'>, type(data.y)=<class 'torch.Tensor'>\n",
      "Epoch 8/10, Loss: 1.7065, Train Acc: 0.3339, Val Acc: 0.3411\n",
      "Best model updated and saved at /home/haislich/Documents/noisy_labels/hackaton/checkpoints/model_B_best.pth\n"
     ]
    },
    {
     "name": "stderr",
     "output_type": "stream",
     "text": [
      "Iterating training graphs: 100%|██████████| 140/140 [00:13<00:00, 10.27batch/s]\n",
      "Iterating eval graphs:   6%|▌         | 2/35 [00:00<00:02, 14.23batch/s]"
     ]
    },
    {
     "name": "stdout",
     "output_type": "stream",
     "text": [
      "DataBatch(edge_index=[2, 135416], edge_attr=[135416, 7], y=[32], num_nodes=7817, x=[7817], batch=[7817], ptr=[33])\n",
      "pred=tensor([4, 0, 4, 1, 4, 4, 4, 4, 4, 4, 4, 4, 4, 4, 4, 4, 4, 4, 1, 4, 4, 4, 4, 4,\n",
      "        4, 0, 4, 4, 0, 4, 4, 4], device='cuda:0'), data.y=tensor([4, 0, 1, 1, 2, 4, 4, 3, 1, 4, 4, 0, 5, 3, 0, 2, 3, 1, 0, 4, 1, 4, 5, 3,\n",
      "        0, 2, 0, 4, 1, 5, 0, 3], device='cuda:0')\n",
      "type(pred)=<class 'torch.Tensor'>, type(data.y)=<class 'torch.Tensor'>\n",
      "DataBatch(edge_index=[2, 121262], edge_attr=[121262, 7], y=[32], num_nodes=6966, x=[6966], batch=[6966], ptr=[33])\n",
      "pred=tensor([1, 4, 4, 4, 4, 4, 4, 4, 4, 4, 0, 1, 4, 4, 4, 4, 4, 1, 4, 0, 4, 4, 4, 4,\n",
      "        4, 4, 4, 4, 4, 4, 4, 4], device='cuda:0'), data.y=tensor([2, 0, 5, 2, 4, 4, 1, 5, 2, 4, 0, 1, 3, 5, 3, 3, 1, 1, 1, 3, 5, 5, 4, 5,\n",
      "        2, 3, 4, 0, 4, 1, 4, 1], device='cuda:0')\n",
      "type(pred)=<class 'torch.Tensor'>, type(data.y)=<class 'torch.Tensor'>\n",
      "DataBatch(edge_index=[2, 144698], edge_attr=[144698, 7], y=[32], num_nodes=7569, x=[7569], batch=[7569], ptr=[33])\n",
      "pred=tensor([4, 4, 4, 4, 0, 4, 4, 4, 4, 4, 4, 4, 4, 4, 4, 1, 4, 4, 0, 4, 4, 4, 4, 4,\n",
      "        1, 4, 4, 4, 4, 1, 4, 1], device='cuda:0'), data.y=tensor([2, 0, 4, 5, 3, 2, 4, 0, 0, 4, 4, 4, 3, 0, 0, 5, 4, 3, 3, 2, 5, 4, 2, 0,\n",
      "        1, 4, 3, 5, 5, 1, 5, 0], device='cuda:0')\n",
      "type(pred)=<class 'torch.Tensor'>, type(data.y)=<class 'torch.Tensor'>\n"
     ]
    },
    {
     "name": "stderr",
     "output_type": "stream",
     "text": [
      "Iterating eval graphs:  17%|█▋        | 6/35 [00:00<00:02, 14.17batch/s]"
     ]
    },
    {
     "name": "stdout",
     "output_type": "stream",
     "text": [
      "DataBatch(edge_index=[2, 127950], edge_attr=[127950, 7], y=[32], num_nodes=7645, x=[7645], batch=[7645], ptr=[33])\n",
      "pred=tensor([4, 4, 4, 4, 4, 4, 4, 1, 1, 0, 4, 4, 1, 4, 0, 4, 4, 4, 4, 4, 0, 1, 4, 4,\n",
      "        4, 4, 4, 0, 4, 4, 0, 4], device='cuda:0'), data.y=tensor([2, 4, 5, 4, 5, 0, 4, 1, 0, 0, 2, 1, 4, 4, 5, 4, 4, 4, 1, 1, 5, 1, 5, 4,\n",
      "        0, 5, 4, 0, 1, 1, 0, 4], device='cuda:0')\n",
      "type(pred)=<class 'torch.Tensor'>, type(data.y)=<class 'torch.Tensor'>\n",
      "DataBatch(edge_index=[2, 120872], edge_attr=[120872, 7], y=[32], num_nodes=7820, x=[7820], batch=[7820], ptr=[33])\n",
      "pred=tensor([4, 4, 4, 4, 1, 4, 4, 4, 0, 4, 4, 4, 4, 4, 4, 0, 4, 0, 0, 4, 4, 4, 4, 4,\n",
      "        4, 4, 4, 4, 0, 0, 4, 0], device='cuda:0'), data.y=tensor([3, 1, 0, 2, 2, 3, 5, 4, 0, 5, 4, 2, 4, 4, 1, 0, 1, 4, 0, 4, 0, 4, 5, 0,\n",
      "        5, 2, 3, 0, 2, 5, 4, 0], device='cuda:0')\n",
      "type(pred)=<class 'torch.Tensor'>, type(data.y)=<class 'torch.Tensor'>\n",
      "DataBatch(edge_index=[2, 125522], edge_attr=[125522, 7], y=[32], num_nodes=6715, x=[6715], batch=[6715], ptr=[33])\n",
      "pred=tensor([4, 4, 4, 4, 4, 0, 4, 4, 4, 4, 4, 1, 4, 4, 4, 4, 4, 4, 4, 4, 4, 4, 4, 0,\n",
      "        4, 4, 4, 4, 1, 1, 0, 4], device='cuda:0'), data.y=tensor([4, 3, 4, 3, 5, 5, 5, 2, 4, 4, 3, 4, 4, 5, 5, 4, 0, 3, 5, 4, 2, 0, 1, 0,\n",
      "        4, 4, 2, 2, 1, 0, 0, 2], device='cuda:0')\n",
      "type(pred)=<class 'torch.Tensor'>, type(data.y)=<class 'torch.Tensor'>\n"
     ]
    },
    {
     "name": "stderr",
     "output_type": "stream",
     "text": [
      "Iterating eval graphs:  23%|██▎       | 8/35 [00:00<00:01, 14.34batch/s]"
     ]
    },
    {
     "name": "stdout",
     "output_type": "stream",
     "text": [
      "DataBatch(edge_index=[2, 120666], edge_attr=[120666, 7], y=[32], num_nodes=7079, x=[7079], batch=[7079], ptr=[33])\n",
      "pred=tensor([4, 4, 4, 4, 1, 1, 4, 1, 4, 4, 4, 4, 4, 4, 4, 4, 4, 4, 4, 4, 4, 4, 4, 4,\n",
      "        0, 1, 0, 4, 4, 4, 4, 4], device='cuda:0'), data.y=tensor([3, 3, 1, 1, 1, 4, 2, 2, 2, 2, 4, 2, 3, 3, 4, 3, 4, 3, 3, 5, 4, 3, 2, 3,\n",
      "        0, 2, 3, 0, 1, 1, 2, 0], device='cuda:0')\n",
      "type(pred)=<class 'torch.Tensor'>, type(data.y)=<class 'torch.Tensor'>\n",
      "DataBatch(edge_index=[2, 137498], edge_attr=[137498, 7], y=[32], num_nodes=7324, x=[7324], batch=[7324], ptr=[33])\n",
      "pred=tensor([0, 4, 0, 1, 0, 1, 4, 4, 4, 1, 4, 4, 1, 1, 4, 4, 1, 0, 4, 4, 0, 4, 0, 0,\n",
      "        0, 4, 1, 0, 4, 0, 4, 4], device='cuda:0'), data.y=tensor([0, 4, 4, 1, 0, 2, 2, 2, 4, 1, 3, 2, 1, 1, 4, 5, 2, 0, 5, 1, 5, 0, 0, 3,\n",
      "        0, 1, 1, 0, 0, 0, 4, 4], device='cuda:0')\n",
      "type(pred)=<class 'torch.Tensor'>, type(data.y)=<class 'torch.Tensor'>\n",
      "DataBatch(edge_index=[2, 137840], edge_attr=[137840, 7], y=[32], num_nodes=7719, x=[7719], batch=[7719], ptr=[33])\n",
      "pred=tensor([4, 4, 1, 4, 4, 4, 4, 0, 4, 0, 4, 1, 4, 4, 1, 4, 4, 4, 0, 4, 4, 4, 4, 4,\n",
      "        4, 4, 4, 1, 1, 0, 4, 4], device='cuda:0'), data.y=tensor([4, 1, 4, 1, 3, 4, 1, 0, 3, 3, 0, 1, 3, 4, 1, 4, 4, 0, 2, 1, 0, 5, 3, 3,\n",
      "        2, 4, 4, 0, 1, 3, 2, 4], device='cuda:0')\n",
      "type(pred)=<class 'torch.Tensor'>, type(data.y)=<class 'torch.Tensor'>\n"
     ]
    },
    {
     "name": "stderr",
     "output_type": "stream",
     "text": [
      "Iterating eval graphs:  34%|███▍      | 12/35 [00:00<00:01, 13.25batch/s]"
     ]
    },
    {
     "name": "stdout",
     "output_type": "stream",
     "text": [
      "DataBatch(edge_index=[2, 198718], edge_attr=[198718, 7], y=[32], num_nodes=8382, x=[8382], batch=[8382], ptr=[33])\n",
      "pred=tensor([4, 1, 4, 4, 4, 0, 4, 0, 4, 4, 4, 0, 4, 4, 4, 4, 0, 4, 4, 4, 0, 4, 4, 4,\n",
      "        4, 4, 0, 4, 4, 1, 4, 4], device='cuda:0'), data.y=tensor([1, 1, 2, 1, 5, 3, 3, 5, 4, 2, 0, 0, 0, 3, 3, 4, 2, 4, 2, 1, 2, 3, 4, 5,\n",
      "        4, 4, 0, 5, 4, 5, 4, 2], device='cuda:0')\n",
      "type(pred)=<class 'torch.Tensor'>, type(data.y)=<class 'torch.Tensor'>\n",
      "DataBatch(edge_index=[2, 122004], edge_attr=[122004, 7], y=[32], num_nodes=6747, x=[6747], batch=[6747], ptr=[33])\n",
      "pred=tensor([4, 4, 4, 4, 4, 4, 4, 0, 4, 4, 4, 4, 4, 4, 4, 4, 4, 4, 4, 4, 1, 1, 1, 4,\n",
      "        4, 4, 0, 4, 4, 4, 4, 1], device='cuda:0'), data.y=tensor([4, 4, 5, 4, 0, 4, 0, 5, 1, 1, 3, 4, 3, 5, 1, 4, 3, 4, 5, 2, 4, 4, 1, 4,\n",
      "        3, 2, 0, 4, 3, 4, 2, 5], device='cuda:0')\n",
      "type(pred)=<class 'torch.Tensor'>, type(data.y)=<class 'torch.Tensor'>\n",
      "DataBatch(edge_index=[2, 135852], edge_attr=[135852, 7], y=[32], num_nodes=7607, x=[7607], batch=[7607], ptr=[33])\n",
      "pred=tensor([4, 4, 0, 0, 4, 4, 4, 4, 4, 4, 4, 4, 1, 4, 4, 4, 0, 4, 1, 0, 4, 4, 4, 4,\n",
      "        0, 1, 0, 1, 1, 4, 4, 0], device='cuda:0'), data.y=tensor([4, 3, 5, 5, 5, 2, 2, 1, 3, 4, 3, 3, 3, 0, 1, 1, 0, 1, 2, 1, 0, 4, 3, 3,\n",
      "        2, 2, 0, 2, 1, 0, 1, 0], device='cuda:0')\n",
      "type(pred)=<class 'torch.Tensor'>, type(data.y)=<class 'torch.Tensor'>\n"
     ]
    },
    {
     "name": "stderr",
     "output_type": "stream",
     "text": [
      "Iterating eval graphs:  40%|████      | 14/35 [00:01<00:01, 13.12batch/s]"
     ]
    },
    {
     "name": "stdout",
     "output_type": "stream",
     "text": [
      "DataBatch(edge_index=[2, 139278], edge_attr=[139278, 7], y=[32], num_nodes=7386, x=[7386], batch=[7386], ptr=[33])\n",
      "pred=tensor([1, 4, 4, 4, 4, 4, 1, 0, 4, 0, 4, 4, 4, 4, 0, 0, 4, 0, 4, 4, 4, 0, 4, 4,\n",
      "        4, 4, 1, 4, 4, 1, 1, 4], device='cuda:0'), data.y=tensor([1, 0, 4, 5, 1, 5, 1, 1, 2, 0, 4, 2, 2, 4, 1, 0, 1, 5, 4, 4, 3, 0, 4, 4,\n",
      "        0, 2, 0, 3, 3, 1, 0, 3], device='cuda:0')\n",
      "type(pred)=<class 'torch.Tensor'>, type(data.y)=<class 'torch.Tensor'>\n",
      "DataBatch(edge_index=[2, 149492], edge_attr=[149492, 7], y=[32], num_nodes=7921, x=[7921], batch=[7921], ptr=[33])\n",
      "pred=tensor([4, 4, 4, 4, 1, 4, 4, 4, 1, 0, 0, 0, 4, 4, 1, 4, 4, 4, 0, 4, 0, 0, 4, 4,\n",
      "        4, 1, 4, 4, 4, 0, 4, 4], device='cuda:0'), data.y=tensor([1, 5, 0, 3, 1, 1, 1, 1, 2, 3, 4, 2, 4, 0, 3, 4, 1, 3, 0, 3, 2, 4, 1, 3,\n",
      "        4, 2, 5, 5, 1, 3, 0, 4], device='cuda:0')\n",
      "type(pred)=<class 'torch.Tensor'>, type(data.y)=<class 'torch.Tensor'>\n",
      "DataBatch(edge_index=[2, 138360], edge_attr=[138360, 7], y=[32], num_nodes=7638, x=[7638], batch=[7638], ptr=[33])\n",
      "pred=tensor([4, 4, 4, 1, 1, 1, 4, 4, 4, 1, 0, 4, 4, 4, 4, 4, 4, 4, 4, 4, 4, 4, 0, 4,\n",
      "        4, 4, 1, 4, 4, 4, 4, 1], device='cuda:0'), data.y=tensor([3, 3, 1, 1, 1, 1, 5, 2, 2, 2, 4, 0, 0, 3, 2, 3, 2, 4, 1, 5, 4, 3, 2, 4,\n",
      "        4, 1, 4, 3, 3, 3, 5, 0], device='cuda:0')\n",
      "type(pred)=<class 'torch.Tensor'>, type(data.y)=<class 'torch.Tensor'>\n"
     ]
    },
    {
     "name": "stderr",
     "output_type": "stream",
     "text": [
      "Iterating eval graphs:  51%|█████▏    | 18/35 [00:01<00:01, 13.40batch/s]"
     ]
    },
    {
     "name": "stdout",
     "output_type": "stream",
     "text": [
      "DataBatch(edge_index=[2, 133568], edge_attr=[133568, 7], y=[32], num_nodes=7365, x=[7365], batch=[7365], ptr=[33])\n",
      "pred=tensor([4, 4, 4, 4, 4, 4, 4, 4, 0, 4, 0, 4, 4, 4, 0, 1, 1, 4, 4, 0, 4, 4, 4, 4,\n",
      "        4, 4, 1, 1, 4, 4, 4, 4], device='cuda:0'), data.y=tensor([4, 4, 5, 4, 2, 0, 5, 1, 2, 4, 3, 5, 1, 5, 4, 1, 0, 4, 5, 0, 2, 5, 1, 4,\n",
      "        4, 2, 2, 1, 4, 3, 5, 4], device='cuda:0')\n",
      "type(pred)=<class 'torch.Tensor'>, type(data.y)=<class 'torch.Tensor'>\n",
      "DataBatch(edge_index=[2, 118182], edge_attr=[118182, 7], y=[32], num_nodes=7006, x=[7006], batch=[7006], ptr=[33])\n",
      "pred=tensor([1, 1, 1, 4, 4, 4, 4, 4, 4, 4, 0, 1, 0, 1, 1, 4, 4, 4, 4, 4, 4, 4, 4, 4,\n",
      "        1, 4, 4, 4, 0, 4, 4, 1], device='cuda:0'), data.y=tensor([2, 5, 1, 1, 4, 4, 1, 5, 1, 2, 0, 2, 2, 0, 5, 4, 1, 4, 4, 4, 4, 5, 4, 4,\n",
      "        1, 3, 4, 2, 4, 4, 3, 1], device='cuda:0')\n",
      "type(pred)=<class 'torch.Tensor'>, type(data.y)=<class 'torch.Tensor'>\n",
      "DataBatch(edge_index=[2, 144366], edge_attr=[144366, 7], y=[32], num_nodes=7705, x=[7705], batch=[7705], ptr=[33])\n",
      "pred=tensor([4, 4, 4, 1, 0, 0, 4, 4, 1, 4, 4, 4, 4, 4, 4, 1, 4, 0, 4, 4, 0, 4, 0, 4,\n",
      "        4, 4, 1, 4, 4, 4, 4, 4], device='cuda:0'), data.y=tensor([0, 4, 0, 1, 0, 0, 4, 1, 1, 2, 4, 4, 2, 0, 5, 1, 1, 5, 1, 4, 0, 4, 2, 3,\n",
      "        3, 3, 1, 1, 1, 1, 3, 4], device='cuda:0')\n",
      "type(pred)=<class 'torch.Tensor'>, type(data.y)=<class 'torch.Tensor'>\n"
     ]
    },
    {
     "name": "stderr",
     "output_type": "stream",
     "text": [
      "Iterating eval graphs:  57%|█████▋    | 20/35 [00:01<00:01, 13.03batch/s]"
     ]
    },
    {
     "name": "stdout",
     "output_type": "stream",
     "text": [
      "DataBatch(edge_index=[2, 140508], edge_attr=[140508, 7], y=[32], num_nodes=6848, x=[6848], batch=[6848], ptr=[33])\n",
      "pred=tensor([1, 4, 0, 1, 4, 1, 4, 4, 0, 0, 4, 4, 0, 4, 4, 4, 4, 4, 1, 4, 4, 4, 4, 4,\n",
      "        0, 4, 4, 4, 4, 0, 4, 4], device='cuda:0'), data.y=tensor([3, 3, 0, 1, 1, 3, 1, 3, 2, 4, 5, 0, 3, 3, 4, 0, 2, 5, 3, 1, 0, 5, 0, 5,\n",
      "        2, 2, 3, 2, 4, 0, 2, 4], device='cuda:0')\n",
      "type(pred)=<class 'torch.Tensor'>, type(data.y)=<class 'torch.Tensor'>\n",
      "DataBatch(edge_index=[2, 159828], edge_attr=[159828, 7], y=[32], num_nodes=8428, x=[8428], batch=[8428], ptr=[33])\n",
      "pred=tensor([4, 4, 0, 0, 0, 0, 4, 4, 4, 4, 4, 4, 4, 4, 4, 1, 4, 0, 4, 4, 4, 4, 4, 4,\n",
      "        4, 4, 4, 4, 4, 4, 4, 1], device='cuda:0'), data.y=tensor([5, 0, 0, 2, 0, 4, 4, 3, 1, 5, 5, 3, 0, 5, 0, 0, 1, 0, 2, 5, 4, 5, 1, 5,\n",
      "        1, 3, 4, 1, 1, 2, 3, 1], device='cuda:0')\n",
      "type(pred)=<class 'torch.Tensor'>, type(data.y)=<class 'torch.Tensor'>\n",
      "DataBatch(edge_index=[2, 136874], edge_attr=[136874, 7], y=[32], num_nodes=6771, x=[6771], batch=[6771], ptr=[33])\n",
      "pred=tensor([0, 4, 4, 4, 4, 4, 4, 0, 4, 4, 0, 4, 4, 4, 4, 0, 4, 1, 1, 4, 0, 4, 4, 1,\n",
      "        4, 1, 4, 1, 4, 0, 4, 0], device='cuda:0'), data.y=tensor([3, 4, 1, 4, 4, 0, 4, 0, 3, 2, 0, 0, 4, 3, 1, 0, 1, 0, 1, 3, 1, 1, 0, 2,\n",
      "        4, 1, 3, 1, 2, 5, 0, 1], device='cuda:0')\n",
      "type(pred)=<class 'torch.Tensor'>, type(data.y)=<class 'torch.Tensor'>\n"
     ]
    },
    {
     "name": "stderr",
     "output_type": "stream",
     "text": [
      "Iterating eval graphs:  69%|██████▊   | 24/35 [00:01<00:00, 13.07batch/s]"
     ]
    },
    {
     "name": "stdout",
     "output_type": "stream",
     "text": [
      "DataBatch(edge_index=[2, 171060], edge_attr=[171060, 7], y=[32], num_nodes=8260, x=[8260], batch=[8260], ptr=[33])\n",
      "pred=tensor([4, 4, 1, 4, 4, 4, 4, 0, 1, 4, 0, 0, 1, 4, 4, 4, 4, 4, 0, 4, 0, 4, 4, 4,\n",
      "        4, 4, 4, 4, 4, 4, 1, 4], device='cuda:0'), data.y=tensor([5, 3, 3, 0, 1, 4, 4, 2, 1, 4, 5, 5, 1, 5, 5, 3, 2, 3, 0, 0, 0, 3, 4, 4,\n",
      "        5, 4, 2, 3, 4, 1, 1, 2], device='cuda:0')\n",
      "type(pred)=<class 'torch.Tensor'>, type(data.y)=<class 'torch.Tensor'>\n",
      "DataBatch(edge_index=[2, 136498], edge_attr=[136498, 7], y=[32], num_nodes=7887, x=[7887], batch=[7887], ptr=[33])\n",
      "pred=tensor([0, 4, 4, 4, 4, 0, 4, 4, 4, 4, 4, 1, 4, 1, 4, 0, 4, 4, 0, 0, 0, 0, 4, 0,\n",
      "        4, 4, 4, 1, 4, 4, 4, 4], device='cuda:0'), data.y=tensor([2, 4, 4, 0, 4, 5, 4, 1, 4, 2, 3, 1, 2, 1, 1, 4, 0, 3, 0, 0, 3, 3, 2, 0,\n",
      "        4, 0, 4, 1, 3, 3, 4, 0], device='cuda:0')\n",
      "type(pred)=<class 'torch.Tensor'>, type(data.y)=<class 'torch.Tensor'>\n",
      "DataBatch(edge_index=[2, 126350], edge_attr=[126350, 7], y=[32], num_nodes=6480, x=[6480], batch=[6480], ptr=[33])\n",
      "pred=tensor([4, 4, 4, 4, 4, 4, 4, 4, 4, 4, 4, 4, 4, 1, 4, 4, 4, 4, 4, 4, 0, 4, 4, 0,\n",
      "        4, 0, 0, 4, 4, 4, 4, 1], device='cuda:0'), data.y=tensor([3, 5, 3, 3, 4, 3, 0, 1, 3, 1, 2, 3, 0, 3, 4, 2, 1, 4, 0, 5, 4, 1, 3, 4,\n",
      "        1, 0, 0, 1, 0, 2, 5, 3], device='cuda:0')\n",
      "type(pred)=<class 'torch.Tensor'>, type(data.y)=<class 'torch.Tensor'>\n"
     ]
    },
    {
     "name": "stderr",
     "output_type": "stream",
     "text": [
      "Iterating eval graphs:  74%|███████▍  | 26/35 [00:01<00:00, 12.65batch/s]"
     ]
    },
    {
     "name": "stdout",
     "output_type": "stream",
     "text": [
      "DataBatch(edge_index=[2, 152242], edge_attr=[152242, 7], y=[32], num_nodes=7983, x=[7983], batch=[7983], ptr=[33])\n",
      "pred=tensor([4, 0, 4, 1, 0, 4, 4, 0, 1, 4, 0, 1, 4, 0, 4, 0, 4, 0, 4, 4, 4, 4, 4, 0,\n",
      "        4, 4, 4, 1, 1, 4, 4, 4], device='cuda:0'), data.y=tensor([1, 4, 1, 1, 0, 2, 3, 0, 1, 4, 2, 1, 1, 0, 2, 0, 4, 0, 2, 0, 0, 1, 3, 4,\n",
      "        0, 4, 4, 1, 1, 4, 5, 0], device='cuda:0')\n",
      "type(pred)=<class 'torch.Tensor'>, type(data.y)=<class 'torch.Tensor'>\n",
      "DataBatch(edge_index=[2, 156674], edge_attr=[156674, 7], y=[32], num_nodes=7784, x=[7784], batch=[7784], ptr=[33])\n",
      "pred=tensor([4, 4, 0, 4, 4, 0, 0, 4, 4, 0, 4, 1, 4, 4, 0, 4, 1, 4, 1, 0, 4, 4, 0, 0,\n",
      "        4, 4, 1, 4, 0, 4, 1, 4], device='cuda:0'), data.y=tensor([5, 2, 5, 0, 4, 0, 5, 2, 1, 2, 3, 1, 1, 2, 3, 3, 1, 4, 1, 2, 4, 2, 5, 1,\n",
      "        4, 3, 2, 0, 0, 2, 5, 5], device='cuda:0')\n",
      "type(pred)=<class 'torch.Tensor'>, type(data.y)=<class 'torch.Tensor'>\n",
      "DataBatch(edge_index=[2, 151204], edge_attr=[151204, 7], y=[32], num_nodes=7305, x=[7305], batch=[7305], ptr=[33])\n",
      "pred=tensor([1, 4, 0, 4, 0, 4, 4, 4, 4, 4, 1, 1, 4, 0, 4, 4, 1, 4, 4, 4, 4, 4, 4, 4,\n",
      "        1, 1, 4, 1, 4, 4, 4, 4], device='cuda:0'), data.y=tensor([1, 4, 2, 3, 0, 3, 5, 2, 1, 4, 0, 0, 3, 2, 3, 3, 1, 2, 2, 1, 1, 5, 3, 2,\n",
      "        4, 1, 3, 2, 3, 2, 2, 2], device='cuda:0')\n",
      "type(pred)=<class 'torch.Tensor'>, type(data.y)=<class 'torch.Tensor'>\n"
     ]
    },
    {
     "name": "stderr",
     "output_type": "stream",
     "text": [
      "Iterating eval graphs:  86%|████████▌ | 30/35 [00:02<00:00, 12.86batch/s]"
     ]
    },
    {
     "name": "stdout",
     "output_type": "stream",
     "text": [
      "DataBatch(edge_index=[2, 139872], edge_attr=[139872, 7], y=[32], num_nodes=7363, x=[7363], batch=[7363], ptr=[33])\n",
      "pred=tensor([4, 4, 4, 0, 4, 4, 4, 1, 4, 4, 4, 1, 0, 4, 4, 4, 4, 0, 4, 4, 4, 4, 0, 4,\n",
      "        4, 4, 4, 4, 4, 4, 4, 4], device='cuda:0'), data.y=tensor([4, 4, 4, 0, 4, 3, 4, 5, 0, 4, 3, 3, 5, 3, 4, 5, 5, 2, 3, 4, 3, 0, 5, 4,\n",
      "        3, 1, 3, 4, 3, 0, 2, 4], device='cuda:0')\n",
      "type(pred)=<class 'torch.Tensor'>, type(data.y)=<class 'torch.Tensor'>\n",
      "DataBatch(edge_index=[2, 133850], edge_attr=[133850, 7], y=[32], num_nodes=7706, x=[7706], batch=[7706], ptr=[33])\n",
      "pred=tensor([4, 1, 4, 0, 4, 4, 1, 1, 4, 1, 0, 4, 4, 4, 1, 4, 4, 4, 4, 1, 4, 1, 4, 4,\n",
      "        4, 4, 4, 4, 4, 4, 4, 4], device='cuda:0'), data.y=tensor([4, 1, 3, 2, 4, 0, 1, 0, 0, 1, 4, 3, 2, 3, 1, 5, 4, 2, 3, 4, 4, 2, 1, 4,\n",
      "        4, 4, 1, 1, 4, 5, 4, 4], device='cuda:0')\n",
      "type(pred)=<class 'torch.Tensor'>, type(data.y)=<class 'torch.Tensor'>\n",
      "DataBatch(edge_index=[2, 129794], edge_attr=[129794, 7], y=[32], num_nodes=6955, x=[6955], batch=[6955], ptr=[33])\n",
      "pred=tensor([4, 4, 4, 4, 4, 4, 4, 4, 4, 0, 1, 4, 4, 0, 4, 4, 4, 4, 4, 4, 4, 1, 4, 4,\n",
      "        4, 4, 4, 4, 4, 4, 4, 4], device='cuda:0'), data.y=tensor([1, 0, 4, 3, 1, 0, 3, 5, 4, 4, 0, 4, 0, 4, 4, 0, 4, 4, 1, 3, 4, 1, 3, 0,\n",
      "        4, 4, 4, 2, 3, 5, 4, 1], device='cuda:0')\n",
      "type(pred)=<class 'torch.Tensor'>, type(data.y)=<class 'torch.Tensor'>\n"
     ]
    },
    {
     "name": "stderr",
     "output_type": "stream",
     "text": [
      "Iterating eval graphs:  91%|█████████▏| 32/35 [00:02<00:00, 12.94batch/s]"
     ]
    },
    {
     "name": "stdout",
     "output_type": "stream",
     "text": [
      "DataBatch(edge_index=[2, 154384], edge_attr=[154384, 7], y=[32], num_nodes=8229, x=[8229], batch=[8229], ptr=[33])\n",
      "pred=tensor([1, 4, 4, 4, 4, 0, 1, 4, 1, 4, 0, 4, 4, 4, 4, 4, 4, 4, 4, 4, 4, 4, 4, 4,\n",
      "        0, 4, 4, 4, 4, 4, 1, 4], device='cuda:0'), data.y=tensor([4, 3, 0, 3, 5, 1, 1, 1, 5, 3, 0, 1, 5, 4, 4, 3, 2, 4, 2, 2, 3, 5, 3, 0,\n",
      "        0, 4, 3, 4, 3, 3, 4, 2], device='cuda:0')\n",
      "type(pred)=<class 'torch.Tensor'>, type(data.y)=<class 'torch.Tensor'>\n",
      "DataBatch(edge_index=[2, 118838], edge_attr=[118838, 7], y=[32], num_nodes=6812, x=[6812], batch=[6812], ptr=[33])\n",
      "pred=tensor([1, 4, 1, 4, 4, 1, 4, 4, 4, 4, 4, 0, 0, 4, 4, 1, 4, 0, 4, 4, 4, 1, 1, 4,\n",
      "        4, 4, 1, 4, 1, 4, 4, 4], device='cuda:0'), data.y=tensor([3, 4, 0, 0, 4, 2, 5, 2, 4, 1, 3, 1, 1, 1, 3, 0, 2, 2, 4, 2, 0, 5, 1, 3,\n",
      "        4, 4, 2, 1, 1, 3, 4, 5], device='cuda:0')\n",
      "type(pred)=<class 'torch.Tensor'>, type(data.y)=<class 'torch.Tensor'>\n",
      "DataBatch(edge_index=[2, 153150], edge_attr=[153150, 7], y=[32], num_nodes=7683, x=[7683], batch=[7683], ptr=[33])\n",
      "pred=tensor([4, 1, 4, 0, 1, 4, 0, 4, 1, 4, 4, 1, 1, 4, 0, 4, 0, 4, 4, 4, 4, 4, 4, 4,\n",
      "        4, 4, 4, 4, 4, 4, 4, 4], device='cuda:0'), data.y=tensor([2, 2, 4, 3, 1, 3, 3, 1, 3, 0, 5, 1, 3, 4, 4, 0, 4, 3, 4, 2, 2, 4, 4, 3,\n",
      "        2, 4, 0, 0, 3, 1, 4, 5], device='cuda:0')\n",
      "type(pred)=<class 'torch.Tensor'>, type(data.y)=<class 'torch.Tensor'>\n"
     ]
    },
    {
     "name": "stderr",
     "output_type": "stream",
     "text": [
      "Iterating eval graphs: 100%|██████████| 35/35 [00:02<00:00, 13.02batch/s]\n",
      "Epoch 9/10, Loss: 1.7062, Train Acc: 0.3366, Val Acc: 0.3339\n",
      "Epoch 9/10, Loss: 1.7062, Train Acc: 0.3366, Val Acc: 0.3339\n",
      "Epoch 9/10, Loss: 1.7062, Train Acc: 0.3366, Val Acc: 0.3339\n",
      "Epoch 9/10, Loss: 1.7062, Train Acc: 0.3366, Val Acc: 0.3339\n",
      "Epoch 9/10, Loss: 1.7062, Train Acc: 0.3366, Val Acc: 0.3339\n"
     ]
    },
    {
     "name": "stdout",
     "output_type": "stream",
     "text": [
      "DataBatch(edge_index=[2, 158418], edge_attr=[158418, 7], y=[32], num_nodes=8101, x=[8101], batch=[8101], ptr=[33])\n",
      "pred=tensor([1, 1, 4, 4, 4, 4, 4, 1, 4, 4, 1, 0, 4, 4, 4, 1, 4, 4, 4, 4, 0, 0, 4, 4,\n",
      "        4, 4, 4, 4, 4, 0, 4, 4], device='cuda:0'), data.y=tensor([1, 2, 1, 5, 3, 4, 4, 2, 0, 5, 4, 4, 4, 2, 3, 0, 4, 4, 2, 4, 0, 0, 4, 0,\n",
      "        2, 0, 4, 4, 4, 4, 5, 3], device='cuda:0')\n",
      "type(pred)=<class 'torch.Tensor'>, type(data.y)=<class 'torch.Tensor'>\n",
      "DataBatch(edge_index=[2, 145944], edge_attr=[145944, 7], y=[32], num_nodes=8005, x=[8005], batch=[8005], ptr=[33])\n",
      "pred=tensor([4, 4, 4, 4, 4, 4, 0, 1, 4, 4, 4, 0, 4, 0, 4, 4, 4, 4, 4, 1, 4, 4, 4, 1,\n",
      "        4, 4, 4, 4, 4, 4, 4, 4], device='cuda:0'), data.y=tensor([0, 3, 4, 4, 4, 5, 0, 1, 2, 3, 1, 4, 1, 0, 5, 0, 3, 3, 5, 4, 5, 2, 4, 1,\n",
      "        1, 0, 4, 4, 5, 4, 2, 5], device='cuda:0')\n",
      "type(pred)=<class 'torch.Tensor'>, type(data.y)=<class 'torch.Tensor'>\n",
      "Epoch 9/10, Loss: 1.7062, Train Acc: 0.3366, Val Acc: 0.3339\n"
     ]
    },
    {
     "name": "stderr",
     "output_type": "stream",
     "text": [
      "Iterating training graphs: 100%|██████████| 140/140 [00:13<00:00, 10.26batch/s]\n"
     ]
    },
    {
     "name": "stdout",
     "output_type": "stream",
     "text": [
      "Checkpoint saved at /home/haislich/Documents/noisy_labels/hackaton/checkpoints/B/model_B_epoch_10.pth\n"
     ]
    },
    {
     "name": "stderr",
     "output_type": "stream",
     "text": [
      "Iterating eval graphs:   6%|▌         | 2/35 [00:00<00:02, 13.90batch/s]"
     ]
    },
    {
     "name": "stdout",
     "output_type": "stream",
     "text": [
      "DataBatch(edge_index=[2, 135416], edge_attr=[135416, 7], y=[32], num_nodes=7817, x=[7817], batch=[7817], ptr=[33])\n",
      "pred=tensor([4, 0, 4, 1, 4, 4, 3, 4, 1, 4, 4, 4, 4, 4, 0, 4, 4, 4, 1, 4, 0, 4, 0, 4,\n",
      "        1, 0, 0, 4, 0, 4, 1, 4], device='cuda:0'), data.y=tensor([4, 0, 1, 1, 2, 4, 4, 3, 1, 4, 4, 0, 5, 3, 0, 2, 3, 1, 0, 4, 1, 4, 5, 3,\n",
      "        0, 2, 0, 4, 1, 5, 0, 3], device='cuda:0')\n",
      "type(pred)=<class 'torch.Tensor'>, type(data.y)=<class 'torch.Tensor'>\n",
      "DataBatch(edge_index=[2, 121262], edge_attr=[121262, 7], y=[32], num_nodes=6966, x=[6966], batch=[6966], ptr=[33])\n",
      "pred=tensor([1, 4, 4, 4, 4, 4, 4, 4, 0, 4, 0, 1, 4, 4, 0, 1, 2, 1, 4, 0, 4, 1, 4, 4,\n",
      "        4, 4, 4, 4, 4, 4, 4, 4], device='cuda:0'), data.y=tensor([2, 0, 5, 2, 4, 4, 1, 5, 2, 4, 0, 1, 3, 5, 3, 3, 1, 1, 1, 3, 5, 5, 4, 5,\n",
      "        2, 3, 4, 0, 4, 1, 4, 1], device='cuda:0')\n",
      "type(pred)=<class 'torch.Tensor'>, type(data.y)=<class 'torch.Tensor'>\n",
      "DataBatch(edge_index=[2, 144698], edge_attr=[144698, 7], y=[32], num_nodes=7569, x=[7569], batch=[7569], ptr=[33])\n",
      "pred=tensor([1, 4, 4, 4, 0, 1, 4, 0, 1, 4, 4, 1, 2, 4, 4, 1, 4, 0, 0, 4, 4, 4, 4, 4,\n",
      "        1, 4, 4, 4, 1, 1, 4, 0], device='cuda:0'), data.y=tensor([2, 0, 4, 5, 3, 2, 4, 0, 0, 4, 4, 4, 3, 0, 0, 5, 4, 3, 3, 2, 5, 4, 2, 0,\n",
      "        1, 4, 3, 5, 5, 1, 5, 0], device='cuda:0')\n",
      "type(pred)=<class 'torch.Tensor'>, type(data.y)=<class 'torch.Tensor'>\n"
     ]
    },
    {
     "name": "stderr",
     "output_type": "stream",
     "text": [
      "Iterating eval graphs:  11%|█▏        | 4/35 [00:00<00:02, 13.56batch/s]"
     ]
    },
    {
     "name": "stdout",
     "output_type": "stream",
     "text": [
      "DataBatch(edge_index=[2, 127950], edge_attr=[127950, 7], y=[32], num_nodes=7645, x=[7645], batch=[7645], ptr=[33])\n",
      "pred=tensor([4, 4, 4, 4, 0, 4, 4, 1, 1, 0, 4, 0, 1, 4, 0, 4, 4, 4, 4, 4, 0, 1, 4, 4,\n",
      "        1, 4, 4, 0, 4, 4, 0, 1], device='cuda:0'), data.y=tensor([2, 4, 5, 4, 5, 0, 4, 1, 0, 0, 2, 1, 4, 4, 5, 4, 4, 4, 1, 1, 5, 1, 5, 4,\n",
      "        0, 5, 4, 0, 1, 1, 0, 4], device='cuda:0')\n",
      "type(pred)=<class 'torch.Tensor'>, type(data.y)=<class 'torch.Tensor'>\n",
      "DataBatch(edge_index=[2, 120872], edge_attr=[120872, 7], y=[32], num_nodes=7820, x=[7820], batch=[7820], ptr=[33])\n",
      "pred=tensor([0, 4, 4, 4, 1, 4, 4, 4, 0, 4, 4, 1, 4, 1, 4, 0, 4, 0, 0, 1, 0, 4, 4, 4,\n",
      "        4, 4, 4, 4, 0, 0, 4, 0], device='cuda:0'), data.y=tensor([3, 1, 0, 2, 2, 3, 5, 4, 0, 5, 4, 2, 4, 4, 1, 0, 1, 4, 0, 4, 0, 4, 5, 0,\n",
      "        5, 2, 3, 0, 2, 5, 4, 0], device='cuda:0')\n",
      "type(pred)=<class 'torch.Tensor'>, type(data.y)=<class 'torch.Tensor'>\n"
     ]
    },
    {
     "name": "stderr",
     "output_type": "stream",
     "text": [
      "Iterating eval graphs:  17%|█▋        | 6/35 [00:00<00:02, 13.98batch/s]"
     ]
    },
    {
     "name": "stdout",
     "output_type": "stream",
     "text": [
      "DataBatch(edge_index=[2, 125522], edge_attr=[125522, 7], y=[32], num_nodes=6715, x=[6715], batch=[6715], ptr=[33])\n",
      "pred=tensor([2, 4, 4, 0, 4, 0, 4, 4, 4, 4, 4, 1, 1, 4, 4, 4, 0, 4, 4, 4, 4, 4, 4, 0,\n",
      "        4, 4, 4, 2, 1, 1, 0, 4], device='cuda:0'), data.y=tensor([4, 3, 4, 3, 5, 5, 5, 2, 4, 4, 3, 4, 4, 5, 5, 4, 0, 3, 5, 4, 2, 0, 1, 0,\n",
      "        4, 4, 2, 2, 1, 0, 0, 2], device='cuda:0')\n",
      "type(pred)=<class 'torch.Tensor'>, type(data.y)=<class 'torch.Tensor'>\n"
     ]
    },
    {
     "name": "stderr",
     "output_type": "stream",
     "text": [
      "Iterating eval graphs:  23%|██▎       | 8/35 [00:00<00:01, 13.97batch/s]"
     ]
    },
    {
     "name": "stdout",
     "output_type": "stream",
     "text": [
      "DataBatch(edge_index=[2, 120666], edge_attr=[120666, 7], y=[32], num_nodes=7079, x=[7079], batch=[7079], ptr=[33])\n",
      "pred=tensor([1, 4, 1, 1, 1, 1, 4, 1, 4, 4, 4, 4, 4, 4, 4, 4, 4, 4, 4, 0, 4, 4, 2, 4,\n",
      "        0, 1, 0, 4, 1, 1, 4, 4], device='cuda:0'), data.y=tensor([3, 3, 1, 1, 1, 4, 2, 2, 2, 2, 4, 2, 3, 3, 4, 3, 4, 3, 3, 5, 4, 3, 2, 3,\n",
      "        0, 2, 3, 0, 1, 1, 2, 0], device='cuda:0')\n",
      "type(pred)=<class 'torch.Tensor'>, type(data.y)=<class 'torch.Tensor'>\n",
      "DataBatch(edge_index=[2, 137498], edge_attr=[137498, 7], y=[32], num_nodes=7324, x=[7324], batch=[7324], ptr=[33])\n",
      "pred=tensor([0, 0, 0, 1, 0, 1, 4, 4, 1, 1, 4, 4, 1, 1, 4, 4, 1, 0, 4, 4, 0, 4, 0, 0,\n",
      "        0, 1, 1, 0, 0, 0, 4, 4], device='cuda:0'), data.y=tensor([0, 4, 4, 1, 0, 2, 2, 2, 4, 1, 3, 2, 1, 1, 4, 5, 2, 0, 5, 1, 5, 0, 0, 3,\n",
      "        0, 1, 1, 0, 0, 0, 4, 4], device='cuda:0')\n",
      "type(pred)=<class 'torch.Tensor'>, type(data.y)=<class 'torch.Tensor'>\n",
      "DataBatch(edge_index=[2, 137840], edge_attr=[137840, 7], y=[32], num_nodes=7719, x=[7719], batch=[7719], ptr=[33])\n",
      "pred=tensor([4, 1, 1, 4, 4, 4, 4, 0, 4, 0, 0, 1, 4, 4, 1, 4, 4, 4, 0, 4, 0, 4, 4, 4,\n",
      "        4, 4, 4, 1, 1, 0, 4, 4], device='cuda:0'), data.y=tensor([4, 1, 4, 1, 3, 4, 1, 0, 3, 3, 0, 1, 3, 4, 1, 4, 4, 0, 2, 1, 0, 5, 3, 3,\n",
      "        2, 4, 4, 0, 1, 3, 2, 4], device='cuda:0')\n",
      "type(pred)=<class 'torch.Tensor'>, type(data.y)=<class 'torch.Tensor'>\n"
     ]
    },
    {
     "name": "stderr",
     "output_type": "stream",
     "text": [
      "Iterating eval graphs:  29%|██▊       | 10/35 [00:00<00:01, 12.66batch/s]"
     ]
    },
    {
     "name": "stdout",
     "output_type": "stream",
     "text": [
      "DataBatch(edge_index=[2, 198718], edge_attr=[198718, 7], y=[32], num_nodes=8382, x=[8382], batch=[8382], ptr=[33])\n",
      "pred=tensor([2, 1, 2, 2, 0, 0, 4, 0, 4, 0, 0, 0, 2, 2, 0, 4, 0, 4, 4, 4, 0, 4, 4, 2,\n",
      "        4, 4, 0, 2, 4, 1, 4, 4], device='cuda:0'), data.y=tensor([1, 1, 2, 1, 5, 3, 3, 5, 4, 2, 0, 0, 0, 3, 3, 4, 2, 4, 2, 1, 2, 3, 4, 5,\n",
      "        4, 4, 0, 5, 4, 5, 4, 2], device='cuda:0')\n",
      "type(pred)=<class 'torch.Tensor'>, type(data.y)=<class 'torch.Tensor'>\n",
      "DataBatch(edge_index=[2, 122004], edge_attr=[122004, 7], y=[32], num_nodes=6747, x=[6747], batch=[6747], ptr=[33])\n",
      "pred=tensor([4, 4, 0, 0, 0, 4, 3, 0, 4, 4, 1, 0, 4, 0, 4, 0, 4, 4, 4, 4, 1, 1, 1, 0,\n",
      "        4, 4, 0, 4, 4, 4, 4, 1], device='cuda:0'), data.y=tensor([4, 4, 5, 4, 0, 4, 0, 5, 1, 1, 3, 4, 3, 5, 1, 4, 3, 4, 5, 2, 4, 4, 1, 4,\n",
      "        3, 2, 0, 4, 3, 4, 2, 5], device='cuda:0')\n",
      "type(pred)=<class 'torch.Tensor'>, type(data.y)=<class 'torch.Tensor'>\n"
     ]
    },
    {
     "name": "stderr",
     "output_type": "stream",
     "text": [
      "Iterating eval graphs:  34%|███▍      | 12/35 [00:00<00:01, 13.14batch/s]"
     ]
    },
    {
     "name": "stdout",
     "output_type": "stream",
     "text": [
      "DataBatch(edge_index=[2, 135852], edge_attr=[135852, 7], y=[32], num_nodes=7607, x=[7607], batch=[7607], ptr=[33])\n",
      "pred=tensor([4, 4, 0, 0, 4, 1, 0, 4, 4, 4, 4, 4, 1, 0, 4, 4, 0, 4, 1, 1, 4, 4, 4, 4,\n",
      "        0, 1, 0, 1, 1, 0, 2, 0], device='cuda:0'), data.y=tensor([4, 3, 5, 5, 5, 2, 2, 1, 3, 4, 3, 3, 3, 0, 1, 1, 0, 1, 2, 1, 0, 4, 3, 3,\n",
      "        2, 2, 0, 2, 1, 0, 1, 0], device='cuda:0')\n",
      "type(pred)=<class 'torch.Tensor'>, type(data.y)=<class 'torch.Tensor'>\n"
     ]
    },
    {
     "name": "stderr",
     "output_type": "stream",
     "text": [
      "Iterating eval graphs:  40%|████      | 14/35 [00:01<00:01, 12.64batch/s]"
     ]
    },
    {
     "name": "stdout",
     "output_type": "stream",
     "text": [
      "DataBatch(edge_index=[2, 139278], edge_attr=[139278, 7], y=[32], num_nodes=7386, x=[7386], batch=[7386], ptr=[33])\n",
      "pred=tensor([1, 4, 4, 4, 4, 0, 0, 0, 4, 1, 0, 4, 4, 4, 0, 0, 4, 0, 4, 4, 4, 0, 4, 0,\n",
      "        4, 4, 1, 0, 4, 1, 1, 4], device='cuda:0'), data.y=tensor([1, 0, 4, 5, 1, 5, 1, 1, 2, 0, 4, 2, 2, 4, 1, 0, 1, 5, 4, 4, 3, 0, 4, 4,\n",
      "        0, 2, 0, 3, 3, 1, 0, 3], device='cuda:0')\n",
      "type(pred)=<class 'torch.Tensor'>, type(data.y)=<class 'torch.Tensor'>\n",
      "DataBatch(edge_index=[2, 149492], edge_attr=[149492, 7], y=[32], num_nodes=7921, x=[7921], batch=[7921], ptr=[33])\n",
      "pred=tensor([4, 2, 4, 4, 1, 4, 1, 4, 1, 0, 0, 0, 4, 4, 1, 4, 4, 4, 0, 4, 0, 0, 2, 4,\n",
      "        4, 1, 4, 4, 4, 0, 4, 4], device='cuda:0'), data.y=tensor([1, 5, 0, 3, 1, 1, 1, 1, 2, 3, 4, 2, 4, 0, 3, 4, 1, 3, 0, 3, 2, 4, 1, 3,\n",
      "        4, 2, 5, 5, 1, 3, 0, 4], device='cuda:0')\n",
      "type(pred)=<class 'torch.Tensor'>, type(data.y)=<class 'torch.Tensor'>\n",
      "DataBatch(edge_index=[2, 138360], edge_attr=[138360, 7], y=[32], num_nodes=7638, x=[7638], batch=[7638], ptr=[33])\n",
      "pred=tensor([4, 4, 1, 1, 1, 1, 4, 4, 0, 1, 0, 0, 1, 4, 4, 4, 4, 4, 4, 4, 4, 4, 0, 4,\n",
      "        4, 0, 1, 2, 4, 0, 2, 1], device='cuda:0'), data.y=tensor([3, 3, 1, 1, 1, 1, 5, 2, 2, 2, 4, 0, 0, 3, 2, 3, 2, 4, 1, 5, 4, 3, 2, 4,\n",
      "        4, 1, 4, 3, 3, 3, 5, 0], device='cuda:0')\n",
      "type(pred)=<class 'torch.Tensor'>, type(data.y)=<class 'torch.Tensor'>\n"
     ]
    },
    {
     "name": "stderr",
     "output_type": "stream",
     "text": [
      "Iterating eval graphs:  46%|████▌     | 16/35 [00:01<00:01, 12.81batch/s]"
     ]
    },
    {
     "name": "stdout",
     "output_type": "stream",
     "text": [
      "DataBatch(edge_index=[2, 133568], edge_attr=[133568, 7], y=[32], num_nodes=7365, x=[7365], batch=[7365], ptr=[33])\n",
      "pred=tensor([0, 4, 4, 4, 4, 0, 4, 4, 0, 4, 0, 4, 4, 4, 0, 1, 1, 4, 4, 0, 4, 4, 4, 1,\n",
      "        0, 2, 1, 1, 4, 2, 4, 4], device='cuda:0'), data.y=tensor([4, 4, 5, 4, 2, 0, 5, 1, 2, 4, 3, 5, 1, 5, 4, 1, 0, 4, 5, 0, 2, 5, 1, 4,\n",
      "        4, 2, 2, 1, 4, 3, 5, 4], device='cuda:0')\n",
      "type(pred)=<class 'torch.Tensor'>, type(data.y)=<class 'torch.Tensor'>\n",
      "DataBatch(edge_index=[2, 118182], edge_attr=[118182, 7], y=[32], num_nodes=7006, x=[7006], batch=[7006], ptr=[33])\n",
      "pred=tensor([1, 1, 1, 1, 4, 4, 4, 0, 4, 4, 0, 1, 0, 1, 1, 4, 4, 4, 4, 4, 4, 4, 4, 4,\n",
      "        1, 0, 4, 4, 0, 4, 4, 1], device='cuda:0'), data.y=tensor([2, 5, 1, 1, 4, 4, 1, 5, 1, 2, 0, 2, 2, 0, 5, 4, 1, 4, 4, 4, 4, 5, 4, 4,\n",
      "        1, 3, 4, 2, 4, 4, 3, 1], device='cuda:0')\n",
      "type(pred)=<class 'torch.Tensor'>, type(data.y)=<class 'torch.Tensor'>\n"
     ]
    },
    {
     "name": "stderr",
     "output_type": "stream",
     "text": [
      "Iterating eval graphs:  51%|█████▏    | 18/35 [00:01<00:01, 13.10batch/s]"
     ]
    },
    {
     "name": "stdout",
     "output_type": "stream",
     "text": [
      "DataBatch(edge_index=[2, 144366], edge_attr=[144366, 7], y=[32], num_nodes=7705, x=[7705], batch=[7705], ptr=[33])\n",
      "pred=tensor([0, 4, 0, 1, 0, 0, 4, 4, 1, 4, 4, 4, 4, 4, 4, 1, 4, 0, 4, 4, 0, 4, 0, 2,\n",
      "        4, 4, 1, 1, 0, 0, 4, 4], device='cuda:0'), data.y=tensor([0, 4, 0, 1, 0, 0, 4, 1, 1, 2, 4, 4, 2, 0, 5, 1, 1, 5, 1, 4, 0, 4, 2, 3,\n",
      "        3, 3, 1, 1, 1, 1, 3, 4], device='cuda:0')\n",
      "type(pred)=<class 'torch.Tensor'>, type(data.y)=<class 'torch.Tensor'>\n"
     ]
    },
    {
     "name": "stderr",
     "output_type": "stream",
     "text": [
      "Iterating eval graphs:  57%|█████▋    | 20/35 [00:01<00:01, 12.80batch/s]"
     ]
    },
    {
     "name": "stdout",
     "output_type": "stream",
     "text": [
      "DataBatch(edge_index=[2, 140508], edge_attr=[140508, 7], y=[32], num_nodes=6848, x=[6848], batch=[6848], ptr=[33])\n",
      "pred=tensor([1, 4, 0, 1, 4, 1, 2, 4, 0, 0, 4, 0, 0, 0, 0, 4, 4, 4, 1, 4, 4, 4, 4, 4,\n",
      "        0, 4, 1, 1, 4, 0, 4, 4], device='cuda:0'), data.y=tensor([3, 3, 0, 1, 1, 3, 1, 3, 2, 4, 5, 0, 3, 3, 4, 0, 2, 5, 3, 1, 0, 5, 0, 5,\n",
      "        2, 2, 3, 2, 4, 0, 2, 4], device='cuda:0')\n",
      "type(pred)=<class 'torch.Tensor'>, type(data.y)=<class 'torch.Tensor'>\n",
      "DataBatch(edge_index=[2, 159828], edge_attr=[159828, 7], y=[32], num_nodes=8428, x=[8428], batch=[8428], ptr=[33])\n",
      "pred=tensor([0, 0, 0, 0, 0, 0, 4, 0, 1, 4, 2, 4, 1, 4, 4, 1, 4, 0, 0, 4, 4, 4, 4, 2,\n",
      "        4, 4, 4, 2, 4, 4, 0, 1], device='cuda:0'), data.y=tensor([5, 0, 0, 2, 0, 4, 4, 3, 1, 5, 5, 3, 0, 5, 0, 0, 1, 0, 2, 5, 4, 5, 1, 5,\n",
      "        1, 3, 4, 1, 1, 2, 3, 1], device='cuda:0')\n",
      "type(pred)=<class 'torch.Tensor'>, type(data.y)=<class 'torch.Tensor'>\n",
      "DataBatch(edge_index=[2, 136874], edge_attr=[136874, 7], y=[32], num_nodes=6771, x=[6771], batch=[6771], ptr=[33])\n",
      "pred=tensor([0, 4, 1, 4, 4, 4, 0, 0, 4, 4, 0, 4, 4, 4, 4, 0, 4, 1, 1, 4, 1, 4, 4, 1,\n",
      "        4, 1, 2, 1, 2, 0, 2, 0], device='cuda:0'), data.y=tensor([3, 4, 1, 4, 4, 0, 4, 0, 3, 2, 0, 0, 4, 3, 1, 0, 1, 0, 1, 3, 1, 1, 0, 2,\n",
      "        4, 1, 3, 1, 2, 5, 0, 1], device='cuda:0')\n",
      "type(pred)=<class 'torch.Tensor'>, type(data.y)=<class 'torch.Tensor'>\n"
     ]
    },
    {
     "name": "stderr",
     "output_type": "stream",
     "text": [
      "Iterating eval graphs:  63%|██████▎   | 22/35 [00:01<00:01, 12.50batch/s]"
     ]
    },
    {
     "name": "stdout",
     "output_type": "stream",
     "text": [
      "DataBatch(edge_index=[2, 171060], edge_attr=[171060, 7], y=[32], num_nodes=8260, x=[8260], batch=[8260], ptr=[33])\n",
      "pred=tensor([0, 0, 1, 0, 2, 4, 4, 0, 1, 4, 0, 0, 1, 4, 4, 4, 4, 4, 0, 0, 0, 1, 4, 4,\n",
      "        0, 4, 4, 1, 4, 4, 1, 4], device='cuda:0'), data.y=tensor([5, 3, 3, 0, 1, 4, 4, 2, 1, 4, 5, 5, 1, 5, 5, 3, 2, 3, 0, 0, 0, 3, 4, 4,\n",
      "        5, 4, 2, 3, 4, 1, 1, 2], device='cuda:0')\n",
      "type(pred)=<class 'torch.Tensor'>, type(data.y)=<class 'torch.Tensor'>\n",
      "DataBatch(edge_index=[2, 136498], edge_attr=[136498, 7], y=[32], num_nodes=7887, x=[7887], batch=[7887], ptr=[33])\n",
      "pred=tensor([0, 4, 4, 4, 0, 0, 4, 4, 4, 4, 4, 1, 4, 1, 4, 0, 4, 4, 0, 0, 0, 0, 1, 0,\n",
      "        4, 1, 0, 1, 4, 4, 4, 0], device='cuda:0'), data.y=tensor([2, 4, 4, 0, 4, 5, 4, 1, 4, 2, 3, 1, 2, 1, 1, 4, 0, 3, 0, 0, 3, 3, 2, 0,\n",
      "        4, 0, 4, 1, 3, 3, 4, 0], device='cuda:0')\n",
      "type(pred)=<class 'torch.Tensor'>, type(data.y)=<class 'torch.Tensor'>\n"
     ]
    },
    {
     "name": "stderr",
     "output_type": "stream",
     "text": [
      "Iterating eval graphs:  69%|██████▊   | 24/35 [00:01<00:00, 12.74batch/s]"
     ]
    },
    {
     "name": "stdout",
     "output_type": "stream",
     "text": [
      "DataBatch(edge_index=[2, 126350], edge_attr=[126350, 7], y=[32], num_nodes=6480, x=[6480], batch=[6480], ptr=[33])\n",
      "pred=tensor([1, 0, 4, 4, 4, 4, 1, 4, 0, 4, 4, 4, 0, 1, 4, 4, 4, 1, 4, 4, 0, 4, 0, 0,\n",
      "        1, 0, 0, 4, 4, 4, 4, 1], device='cuda:0'), data.y=tensor([3, 5, 3, 3, 4, 3, 0, 1, 3, 1, 2, 3, 0, 3, 4, 2, 1, 4, 0, 5, 4, 1, 3, 4,\n",
      "        1, 0, 0, 1, 0, 2, 5, 3], device='cuda:0')\n",
      "type(pred)=<class 'torch.Tensor'>, type(data.y)=<class 'torch.Tensor'>\n"
     ]
    },
    {
     "name": "stderr",
     "output_type": "stream",
     "text": [
      "Iterating eval graphs:  74%|███████▍  | 26/35 [00:02<00:00, 12.31batch/s]"
     ]
    },
    {
     "name": "stdout",
     "output_type": "stream",
     "text": [
      "DataBatch(edge_index=[2, 152242], edge_attr=[152242, 7], y=[32], num_nodes=7983, x=[7983], batch=[7983], ptr=[33])\n",
      "pred=tensor([1, 0, 4, 1, 0, 0, 1, 0, 1, 4, 0, 1, 1, 0, 0, 0, 0, 0, 4, 0, 4, 4, 4, 0,\n",
      "        4, 4, 2, 1, 1, 1, 4, 4], device='cuda:0'), data.y=tensor([1, 4, 1, 1, 0, 2, 3, 0, 1, 4, 2, 1, 1, 0, 2, 0, 4, 0, 2, 0, 0, 1, 3, 4,\n",
      "        0, 4, 4, 1, 1, 4, 5, 0], device='cuda:0')\n",
      "type(pred)=<class 'torch.Tensor'>, type(data.y)=<class 'torch.Tensor'>\n",
      "DataBatch(edge_index=[2, 156674], edge_attr=[156674, 7], y=[32], num_nodes=7784, x=[7784], batch=[7784], ptr=[33])\n",
      "pred=tensor([4, 4, 0, 4, 4, 0, 0, 0, 2, 0, 4, 1, 4, 4, 0, 4, 1, 4, 1, 0, 4, 4, 0, 0,\n",
      "        0, 2, 1, 4, 0, 0, 1, 0], device='cuda:0'), data.y=tensor([5, 2, 5, 0, 4, 0, 5, 2, 1, 2, 3, 1, 1, 2, 3, 3, 1, 4, 1, 2, 4, 2, 5, 1,\n",
      "        4, 3, 2, 0, 0, 2, 5, 5], device='cuda:0')\n",
      "type(pred)=<class 'torch.Tensor'>, type(data.y)=<class 'torch.Tensor'>\n",
      "DataBatch(edge_index=[2, 151204], edge_attr=[151204, 7], y=[32], num_nodes=7305, x=[7305], batch=[7305], ptr=[33])\n",
      "pred=tensor([1, 0, 0, 4, 0, 4, 0, 4, 1, 4, 1, 1, 0, 0, 4, 4, 1, 1, 0, 1, 4, 2, 4, 4,\n",
      "        1, 1, 0, 1, 4, 1, 4, 4], device='cuda:0'), data.y=tensor([1, 4, 2, 3, 0, 3, 5, 2, 1, 4, 0, 0, 3, 2, 3, 3, 1, 2, 2, 1, 1, 5, 3, 2,\n",
      "        4, 1, 3, 2, 3, 2, 2, 2], device='cuda:0')\n",
      "type(pred)=<class 'torch.Tensor'>, type(data.y)=<class 'torch.Tensor'>\n"
     ]
    },
    {
     "name": "stderr",
     "output_type": "stream",
     "text": [
      "Iterating eval graphs:  80%|████████  | 28/35 [00:02<00:00, 12.38batch/s]"
     ]
    },
    {
     "name": "stdout",
     "output_type": "stream",
     "text": [
      "DataBatch(edge_index=[2, 139872], edge_attr=[139872, 7], y=[32], num_nodes=7363, x=[7363], batch=[7363], ptr=[33])\n",
      "pred=tensor([4, 4, 4, 0, 4, 4, 4, 1, 0, 4, 0, 1, 0, 4, 4, 4, 4, 0, 4, 4, 4, 0, 0, 4,\n",
      "        4, 2, 4, 2, 4, 0, 4, 4], device='cuda:0'), data.y=tensor([4, 4, 4, 0, 4, 3, 4, 5, 0, 4, 3, 3, 5, 3, 4, 5, 5, 2, 3, 4, 3, 0, 5, 4,\n",
      "        3, 1, 3, 4, 3, 0, 2, 4], device='cuda:0')\n",
      "type(pred)=<class 'torch.Tensor'>, type(data.y)=<class 'torch.Tensor'>\n",
      "DataBatch(edge_index=[2, 133850], edge_attr=[133850, 7], y=[32], num_nodes=7706, x=[7706], batch=[7706], ptr=[33])\n",
      "pred=tensor([4, 1, 4, 0, 4, 4, 1, 1, 4, 1, 0, 4, 4, 4, 1, 4, 4, 4, 0, 1, 4, 1, 4, 4,\n",
      "        4, 4, 2, 4, 4, 2, 0, 4], device='cuda:0'), data.y=tensor([4, 1, 3, 2, 4, 0, 1, 0, 0, 1, 4, 3, 2, 3, 1, 5, 4, 2, 3, 4, 4, 2, 1, 4,\n",
      "        4, 4, 1, 1, 4, 5, 4, 4], device='cuda:0')\n",
      "type(pred)=<class 'torch.Tensor'>, type(data.y)=<class 'torch.Tensor'>\n"
     ]
    },
    {
     "name": "stderr",
     "output_type": "stream",
     "text": [
      "Iterating eval graphs:  86%|████████▌ | 30/35 [00:02<00:00, 12.61batch/s]"
     ]
    },
    {
     "name": "stdout",
     "output_type": "stream",
     "text": [
      "DataBatch(edge_index=[2, 129794], edge_attr=[129794, 7], y=[32], num_nodes=6955, x=[6955], batch=[6955], ptr=[33])\n",
      "pred=tensor([4, 0, 4, 4, 0, 4, 4, 0, 4, 0, 1, 4, 4, 0, 4, 4, 4, 4, 4, 0, 4, 1, 4, 2,\n",
      "        0, 4, 4, 0, 4, 4, 4, 1], device='cuda:0'), data.y=tensor([1, 0, 4, 3, 1, 0, 3, 5, 4, 4, 0, 4, 0, 4, 4, 0, 4, 4, 1, 3, 4, 1, 3, 0,\n",
      "        4, 4, 4, 2, 3, 5, 4, 1], device='cuda:0')\n",
      "type(pred)=<class 'torch.Tensor'>, type(data.y)=<class 'torch.Tensor'>\n"
     ]
    },
    {
     "name": "stderr",
     "output_type": "stream",
     "text": [
      "Iterating eval graphs:  91%|█████████▏| 32/35 [00:02<00:00, 12.68batch/s]"
     ]
    },
    {
     "name": "stdout",
     "output_type": "stream",
     "text": [
      "DataBatch(edge_index=[2, 154384], edge_attr=[154384, 7], y=[32], num_nodes=8229, x=[8229], batch=[8229], ptr=[33])\n",
      "pred=tensor([1, 2, 4, 4, 4, 0, 1, 1, 0, 1, 0, 4, 4, 4, 4, 4, 2, 4, 4, 4, 0, 4, 4, 0,\n",
      "        0, 4, 4, 4, 4, 2, 1, 4], device='cuda:0'), data.y=tensor([4, 3, 0, 3, 5, 1, 1, 1, 5, 3, 0, 1, 5, 4, 4, 3, 2, 4, 2, 2, 3, 5, 3, 0,\n",
      "        0, 4, 3, 4, 3, 3, 4, 2], device='cuda:0')\n",
      "type(pred)=<class 'torch.Tensor'>, type(data.y)=<class 'torch.Tensor'>\n",
      "DataBatch(edge_index=[2, 118838], edge_attr=[118838, 7], y=[32], num_nodes=6812, x=[6812], batch=[6812], ptr=[33])\n",
      "pred=tensor([1, 4, 1, 4, 4, 1, 2, 4, 4, 4, 4, 1, 0, 4, 4, 1, 4, 0, 4, 0, 0, 0, 1, 1,\n",
      "        4, 4, 1, 0, 1, 4, 4, 4], device='cuda:0'), data.y=tensor([3, 4, 0, 0, 4, 2, 5, 2, 4, 1, 3, 1, 1, 1, 3, 0, 2, 2, 4, 2, 0, 5, 1, 3,\n",
      "        4, 4, 2, 1, 1, 3, 4, 5], device='cuda:0')\n",
      "type(pred)=<class 'torch.Tensor'>, type(data.y)=<class 'torch.Tensor'>\n",
      "DataBatch(edge_index=[2, 153150], edge_attr=[153150, 7], y=[32], num_nodes=7683, x=[7683], batch=[7683], ptr=[33])\n",
      "pred=tensor([4, 1, 4, 0, 1, 4, 1, 4, 1, 4, 4, 1, 1, 4, 0, 0, 0, 0, 4, 1, 2, 4, 4, 4,\n",
      "        1, 4, 2, 4, 4, 4, 4, 4], device='cuda:0'), data.y=tensor([2, 2, 4, 3, 1, 3, 3, 1, 3, 0, 5, 1, 3, 4, 4, 0, 4, 3, 4, 2, 2, 4, 4, 3,\n",
      "        2, 4, 0, 0, 3, 1, 4, 5], device='cuda:0')\n",
      "type(pred)=<class 'torch.Tensor'>, type(data.y)=<class 'torch.Tensor'>\n"
     ]
    },
    {
     "name": "stderr",
     "output_type": "stream",
     "text": [
      "Iterating eval graphs: 100%|██████████| 35/35 [00:02<00:00, 12.76batch/s]\n",
      "Epoch 10/10, Loss: 1.6917, Train Acc: 0.3449, Val Acc: 0.3589\n",
      "Epoch 10/10, Loss: 1.6917, Train Acc: 0.3449, Val Acc: 0.3589\n",
      "Epoch 10/10, Loss: 1.6917, Train Acc: 0.3449, Val Acc: 0.3589\n",
      "Epoch 10/10, Loss: 1.6917, Train Acc: 0.3449, Val Acc: 0.3589\n",
      "Epoch 10/10, Loss: 1.6917, Train Acc: 0.3449, Val Acc: 0.3589\n"
     ]
    },
    {
     "name": "stdout",
     "output_type": "stream",
     "text": [
      "DataBatch(edge_index=[2, 158418], edge_attr=[158418, 7], y=[32], num_nodes=8101, x=[8101], batch=[8101], ptr=[33])\n",
      "pred=tensor([1, 1, 0, 4, 4, 4, 4, 1, 4, 4, 1, 0, 4, 0, 0, 1, 4, 4, 4, 0, 0, 0, 2, 4,\n",
      "        4, 4, 4, 4, 4, 0, 2, 4], device='cuda:0'), data.y=tensor([1, 2, 1, 5, 3, 4, 4, 2, 0, 5, 4, 4, 4, 2, 3, 0, 4, 4, 2, 4, 0, 0, 4, 0,\n",
      "        2, 0, 4, 4, 4, 4, 5, 3], device='cuda:0')\n",
      "type(pred)=<class 'torch.Tensor'>, type(data.y)=<class 'torch.Tensor'>\n",
      "DataBatch(edge_index=[2, 145944], edge_attr=[145944, 7], y=[32], num_nodes=8005, x=[8005], batch=[8005], ptr=[33])\n",
      "pred=tensor([0, 4, 0, 4, 4, 4, 0, 1, 0, 4, 2, 0, 1, 0, 4, 0, 4, 4, 4, 1, 0, 4, 4, 1,\n",
      "        0, 0, 4, 1, 4, 4, 4, 4], device='cuda:0'), data.y=tensor([0, 3, 4, 4, 4, 5, 0, 1, 2, 3, 1, 4, 1, 0, 5, 0, 3, 3, 5, 4, 5, 2, 4, 1,\n",
      "        1, 0, 4, 4, 5, 4, 2, 5], device='cuda:0')\n",
      "type(pred)=<class 'torch.Tensor'>, type(data.y)=<class 'torch.Tensor'>\n",
      "Epoch 10/10, Loss: 1.6917, Train Acc: 0.3449, Val Acc: 0.3589\n",
      "Best model updated and saved at /home/haislich/Documents/noisy_labels/hackaton/checkpoints/model_B_best.pth\n"
     ]
    }
   ],
   "source": [
    "if args.train_path:\n",
    "    full_dataset = GraphDataset(args.train_path, transform=add_zeros)\n",
    "    val_size = int(0.2 * len(full_dataset))\n",
    "    train_size = len(full_dataset) - val_size\n",
    "\n",
    "    \n",
    "    generator = torch.Generator().manual_seed(12)\n",
    "    train_dataset, val_dataset = random_split(full_dataset, [train_size, val_size], generator=generator)\n",
    "\n",
    "    train_loader = DataLoader(train_dataset, batch_size=args.batch_size, shuffle=True)\n",
    "    val_loader = DataLoader(val_dataset, batch_size=args.batch_size, shuffle=False)\n",
    "\n",
    "    num_epochs = args.epochs\n",
    "    best_val_accuracy = 0.0   \n",
    "\n",
    "    train_losses = []\n",
    "    train_accuracies = []\n",
    "    val_losses = []\n",
    "    val_accuracies = []\n",
    "\n",
    "    if num_checkpoints > 1:\n",
    "        checkpoint_intervals = [int((i + 1) * num_epochs / num_checkpoints) for i in range(num_checkpoints)]\n",
    "    else:\n",
    "        checkpoint_intervals = [num_epochs]\n",
    "\n",
    "    for epoch in range(num_epochs):\n",
    "        train_loss, train_acc = train(\n",
    "            train_loader, model, optimizer, criterion, device,\n",
    "            save_checkpoints=(epoch + 1 in checkpoint_intervals),\n",
    "            checkpoint_path=os.path.join(checkpoints_folder, f\"model_{test_dir_name}\"),\n",
    "            current_epoch=epoch\n",
    "        )\n",
    "\n",
    "        val_loss,val_acc = evaluate(val_loader, model, device, calculate_accuracy=True)\n",
    "\n",
    "        print(f\"Epoch {epoch + 1}/{num_epochs}, Loss: {train_loss:.4f}, Train Acc: {train_acc:.4f}, Val Acc: {val_acc:.4f}\")\n",
    "        logging.info(f\"Epoch {epoch + 1}/{num_epochs}, Loss: {train_loss:.4f}, Train Acc: {train_acc:.4f}, Val Acc: {val_acc:.4f}\")\n",
    "\n",
    "        train_losses.append(train_loss)\n",
    "        train_accuracies.append(train_acc)\n",
    "        val_losses.append(val_loss)\n",
    "        val_accuracies.append(val_acc)\n",
    "\n",
    "        \n",
    "        if val_acc > best_val_accuracy:\n",
    "            best_val_accuracy = val_acc\n",
    "            torch.save(model.state_dict(), checkpoint_path)\n",
    "            print(f\"Best model updated and saved at {checkpoint_path}\")\n",
    "\n",
    "    plot_training_progress(train_losses, train_accuracies, os.path.join(logs_folder, \"plots\"))\n",
    "    plot_training_progress(val_losses, val_accuracies, os.path.join(logs_folder, \"plotsVal\"))"
   ]
  },
  {
   "cell_type": "code",
   "execution_count": 44,
   "metadata": {
    "trusted": true
   },
   "outputs": [
    {
     "data": {
      "text/plain": [
       "11739"
      ]
     },
     "execution_count": 44,
     "metadata": {},
     "output_type": "execute_result"
    }
   ],
   "source": [
    "import gc\n",
    "del train_dataset\n",
    "del train_loader\n",
    "del full_dataset\n",
    "del val_dataset\n",
    "del val_loader\n",
    "gc.collect()"
   ]
  },
  {
   "cell_type": "code",
   "execution_count": 53,
   "metadata": {
    "id": "xsXZIj4Mdu3I",
    "trusted": true
   },
   "outputs": [],
   "source": [
    "test_dataset = GraphDataset(args.test_path, transform=add_zeros)\n",
    "test_loader = DataLoader(test_dataset, batch_size=args.batch_size, shuffle=False)\n",
    "    "
   ]
  },
  {
   "cell_type": "code",
   "execution_count": 47,
   "metadata": {
    "id": "x1OnGq_nCmTr",
    "trusted": true
   },
   "outputs": [
    {
     "name": "stderr",
     "output_type": "stream",
     "text": [
      "Iterating eval graphs:   0%|          | 0/74 [00:00<?, ?batch/s]\n"
     ]
    },
    {
     "ename": "AttributeError",
     "evalue": "'bool' object has no attribute 'sum'",
     "output_type": "error",
     "traceback": [
      "\u001b[31m---------------------------------------------------------------------------\u001b[39m",
      "\u001b[31mAttributeError\u001b[39m                            Traceback (most recent call last)",
      "\u001b[36mCell\u001b[39m\u001b[36m \u001b[39m\u001b[32mIn[47]\u001b[39m\u001b[32m, line 2\u001b[39m\n\u001b[32m      1\u001b[39m model.load_state_dict(torch.load(checkpoint_path))\n\u001b[32m----> \u001b[39m\u001b[32m2\u001b[39m predictions = \u001b[43mevaluate\u001b[49m\u001b[43m(\u001b[49m\u001b[43mtest_loader\u001b[49m\u001b[43m,\u001b[49m\u001b[43m \u001b[49m\u001b[43mmodel\u001b[49m\u001b[43m,\u001b[49m\u001b[43m \u001b[49m\u001b[43mdevice\u001b[49m\u001b[43m,\u001b[49m\u001b[43m \u001b[49m\u001b[43mcalculate_accuracy\u001b[49m\u001b[43m=\u001b[49m\u001b[38;5;28;43;01mTrue\u001b[39;49;00m\u001b[43m)\u001b[49m\n\u001b[32m      3\u001b[39m save_predictions(predictions, args.test_path)\n",
      "\u001b[36mCell\u001b[39m\u001b[36m \u001b[39m\u001b[32mIn[9]\u001b[39m\u001b[32m, line 15\u001b[39m, in \u001b[36mevaluate\u001b[39m\u001b[34m(data_loader, model, device, calculate_accuracy)\u001b[39m\n\u001b[32m     12\u001b[39m pred = output.argmax(dim=\u001b[32m1\u001b[39m)\n\u001b[32m     14\u001b[39m \u001b[38;5;28;01mif\u001b[39;00m calculate_accuracy:\n\u001b[32m---> \u001b[39m\u001b[32m15\u001b[39m     correct += \u001b[43m(\u001b[49m\u001b[43mpred\u001b[49m\u001b[43m \u001b[49m\u001b[43m==\u001b[49m\u001b[43m \u001b[49m\u001b[43mdata\u001b[49m\u001b[43m.\u001b[49m\u001b[43my\u001b[49m\u001b[43m)\u001b[49m\u001b[43m.\u001b[49m\u001b[43msum\u001b[49m().item()\n\u001b[32m     16\u001b[39m     total += data.y.size(\u001b[32m0\u001b[39m)\n\u001b[32m     17\u001b[39m     total_loss += criterion(output, data.y).item()\n",
      "\u001b[31mAttributeError\u001b[39m: 'bool' object has no attribute 'sum'"
     ]
    }
   ],
   "source": [
    "model.load_state_dict(torch.load(checkpoint_path))\n",
    "predictions = evaluate(test_loader, model, device, calculate_accuracy=True)\n",
    "save_predictions(predictions, args.test_path)"
   ]
  },
  {
   "cell_type": "code",
   "execution_count": null,
   "metadata": {},
   "outputs": [
    {
     "name": "stderr",
     "output_type": "stream",
     "text": [
      "Iterating eval graphs:   0%|          | 0/74 [00:00<?, ?batch/s]"
     ]
    },
    {
     "name": "stdout",
     "output_type": "stream",
     "text": [
      "DataBatch(edge_index=[2, 150304], edge_attr=[150304, 7], num_nodes=7701, x=[7701], batch=[7701], ptr=[33])\n",
      "pred=tensor([2, 2, 3, 2, 2, 2, 2, 2, 2, 2, 1, 2, 4, 2, 2, 2, 2, 2, 2, 2, 2, 2, 2, 2,\n",
      "        2, 3, 2, 2, 2, 2, 2, 2], device='cuda:0'), data.y=None\n",
      "type(pred)=<class 'torch.Tensor'>, type(data.y)=<class 'NoneType'>\n"
     ]
    },
    {
     "name": "stderr",
     "output_type": "stream",
     "text": [
      "\n"
     ]
    },
    {
     "ename": "AttributeError",
     "evalue": "'bool' object has no attribute 'sum'",
     "output_type": "error",
     "traceback": [
      "\u001b[31m---------------------------------------------------------------------------\u001b[39m",
      "\u001b[31mAttributeError\u001b[39m                            Traceback (most recent call last)",
      "\u001b[36mCell\u001b[39m\u001b[36m \u001b[39m\u001b[32mIn[57]\u001b[39m\u001b[32m, line 33\u001b[39m\n\u001b[32m     30\u001b[39m     \u001b[38;5;28;01mreturn\u001b[39;00m predictions\n\u001b[32m     32\u001b[39m model.load_state_dict(torch.load(checkpoint_path))\n\u001b[32m---> \u001b[39m\u001b[32m33\u001b[39m predictions = \u001b[43mevaluate\u001b[49m\u001b[43m(\u001b[49m\u001b[43mtest_loader\u001b[49m\u001b[43m,\u001b[49m\u001b[43m \u001b[49m\u001b[43mmodel\u001b[49m\u001b[43m,\u001b[49m\u001b[43m \u001b[49m\u001b[43mdevice\u001b[49m\u001b[43m,\u001b[49m\u001b[43m \u001b[49m\u001b[43mcalculate_accuracy\u001b[49m\u001b[43m=\u001b[49m\u001b[38;5;28;43;01mTrue\u001b[39;49;00m\u001b[43m)\u001b[49m\n\u001b[32m     34\u001b[39m save_predictions(predictions, args.test_path)\n",
      "\u001b[36mCell\u001b[39m\u001b[36m \u001b[39m\u001b[32mIn[57]\u001b[39m\u001b[32m, line 22\u001b[39m, in \u001b[36mevaluate\u001b[39m\u001b[34m(data_loader, model, device, calculate_accuracy)\u001b[39m\n\u001b[32m     19\u001b[39m \u001b[38;5;28mprint\u001b[39m(\u001b[33mf\u001b[39m\u001b[33m\"\u001b[39m\u001b[38;5;132;01m{\u001b[39;00m\u001b[38;5;28mtype\u001b[39m(pred)\u001b[38;5;132;01m=}\u001b[39;00m\u001b[33m, \u001b[39m\u001b[38;5;132;01m{\u001b[39;00m\u001b[38;5;28mtype\u001b[39m(data.y)\u001b[38;5;132;01m=}\u001b[39;00m\u001b[33m\"\u001b[39m)\n\u001b[32m     20\u001b[39m \u001b[38;5;66;03m# print(f\"{pred data. }\")\u001b[39;00m\n\u001b[32m---> \u001b[39m\u001b[32m22\u001b[39m correct += \u001b[43m(\u001b[49m\u001b[43mpred\u001b[49m\u001b[43m \u001b[49m\u001b[43m==\u001b[49m\u001b[43m \u001b[49m\u001b[43mdata\u001b[49m\u001b[43m.\u001b[49m\u001b[43my\u001b[49m\u001b[43m)\u001b[49m\u001b[43m.\u001b[49m\u001b[43msum\u001b[49m().item()\n\u001b[32m     23\u001b[39m total += data.y.size(\u001b[32m0\u001b[39m)\n\u001b[32m     24\u001b[39m total_loss += criterion(output, data.y).item()\n",
      "\u001b[31mAttributeError\u001b[39m: 'bool' object has no attribute 'sum'"
     ]
    }
   ],
   "source": [
    "# test_loader = DataLoader(test_dataset, batch_size=args.batch_size, shuffle=False)\n",
    "\n",
    "# def evaluate(data_loader, model, device, calculate_accuracy=False):\n",
    "#     model.eval()\n",
    "#     correct = 0\n",
    "#     total = 0\n",
    "#     predictions = []\n",
    "#     total_loss = 0\n",
    "#     criterion = torch.nn.CrossEntropyLoss()\n",
    "#     with torch.no_grad():\n",
    "#         for data in tqdm(data_loader, desc=\"Iterating eval graphs\", unit=\"batch\"):\n",
    "#             print(data)\n",
    "#             data = data.to(device)\n",
    "#             output = model(data)\n",
    "#             pred = output.argmax(dim=1)\n",
    "            \n",
    "#             if calculate_accuracy:\n",
    "#                 print(f\"{pred=}, {data.y=}\")\n",
    "#                 print(f\"{type(pred)=}, {type(data.y)=}\")\n",
    "#                 # print(f\"{pred data. }\")\n",
    "\n",
    "#                 correct += (pred == data.y).sum().item()\n",
    "#                 total += data.y.size(0)\n",
    "#                 total_loss += criterion(output, data.y).item()\n",
    "#             else:\n",
    "#                 predictions.extend(pred.cpu().numpy())\n",
    "#     if calculate_accuracy:\n",
    "#         accuracy = correct / total\n",
    "#         return  total_loss / len(data_loader),accuracy\n",
    "#     return predictions\n",
    "\n",
    "# model.load_state_dict(torch.load(checkpoint_path))\n",
    "# predictions = evaluate(test_loader, model, device, calculate_accuracy=True)\n",
    "# save_predictions(predictions, args.test_path)"
   ]
  },
  {
   "cell_type": "code",
   "execution_count": null,
   "metadata": {},
   "outputs": [],
   "source": []
  }
 ],
 "metadata": {
  "accelerator": "GPU",
  "colab": {
   "gpuType": "T4",
   "provenance": []
  },
  "kaggle": {
   "accelerator": "gpu",
   "dataSources": [],
   "dockerImageVersionId": 30918,
   "isGpuEnabled": true,
   "isInternetEnabled": false,
   "language": "python",
   "sourceType": "notebook"
  },
  "kernelspec": {
   "display_name": "Python 3",
   "language": "python",
   "name": "python3"
  },
  "language_info": {
   "codemirror_mode": {
    "name": "ipython",
    "version": 3
   },
   "file_extension": ".py",
   "mimetype": "text/x-python",
   "name": "python",
   "nbconvert_exporter": "python",
   "pygments_lexer": "ipython3",
   "version": "3.10.12"
  }
 },
 "nbformat": 4,
 "nbformat_minor": 4
}
