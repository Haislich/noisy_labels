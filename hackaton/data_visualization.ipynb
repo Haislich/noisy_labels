{
 "cells": [
  {
   "cell_type": "code",
   "execution_count": 1,
   "id": "73d1fcd7",
   "metadata": {},
   "outputs": [],
   "source": [
    "import sklearn\n",
    "import os\n",
    "import torch\n",
    "import pandas as pd\n",
    "import matplotlib.pyplot as plt\n",
    "import logging\n",
    "from tqdm import tqdm\n",
    "from torch_geometric.loader import DataLoader\n",
    "from torch.utils.data import random_split\n",
    "from functools import partial\n",
    "import optuna\n",
    "import gc\n",
    "from typing import Literal\n",
    "import torch.nn.functional as F\n",
    "\n",
    "# Load utility functions from cloned repository\n",
    "from src.loadData import GraphDataset\n",
    "from src.utils import set_seed\n",
    "from src.models import GNN\n",
    "\n",
    "\n",
    "# Set the random seed\n",
    "set_seed()\n",
    "\n"
   ]
  },
  {
   "cell_type": "code",
   "execution_count": 2,
   "id": "8a9a8da5",
   "metadata": {},
   "outputs": [],
   "source": [
    "def add_zeros(data):\n",
    "    data.x = torch.zeros(data.num_nodes, dtype=torch.long)\n",
    "    return data"
   ]
  },
  {
   "cell_type": "code",
   "execution_count": null,
   "id": "c83c61c7",
   "metadata": {},
   "outputs": [],
   "source": [
    "def load_dataloader(dataset_name:Literal[\"A\",\"B\",\"C\",\"D\"],default_batch_size =32):\n",
    "    train_path = f\"./datasets/{dataset_name}/train.json.gz\"\n",
    "    full_dataset = GraphDataset(train_path, transform=add_zeros)\n",
    "    val_size = int(0.2 * len(full_dataset))\n",
    "    train_size = len(full_dataset) - val_size\n",
    "    generator = torch.Generator().manual_seed(12)\n",
    "    train_dataset, val_dataset = random_split(\n",
    "        full_dataset, [train_size, val_size], generator=generator\n",
    "    )\n",
    "    train_loader = DataLoader(\n",
    "        train_dataset,  # type:ignore\n",
    "        batch_size=default_batch_size,\n",
    "        shuffle=True,\n",
    "    )\n",
    "    val_loader = DataLoader(\n",
    "        val_dataset,  # type:ignore\n",
    "        batch_size=default_batch_size,\n",
    "        shuffle=False,\n",
    "    )\n",
    "    return train_loader, val_loader"
   ]
  },
  {
   "cell_type": "code",
   "execution_count": null,
   "id": "c262cc09",
   "metadata": {},
   "outputs": [],
   "source": [
    "train,_ = load_dataloader(\"A\")"
   ]
  },
  {
   "cell_type": "code",
   "execution_count": 9,
   "id": "4f78600d",
   "metadata": {},
   "outputs": [
    {
     "data": {
      "text/plain": [
       "Data(edge_index=[2, 3746], edge_attr=[3746, 7], y=[1], num_nodes=300, x=[300])"
      ]
     },
     "execution_count": 9,
     "metadata": {},
     "output_type": "execute_result"
    }
   ],
   "source": [
    "train.dataset[0]"
   ]
  },
  {
   "cell_type": "code",
   "execution_count": 15,
   "id": "0f8af102",
   "metadata": {},
   "outputs": [
    {
     "data": {
      "text/plain": [
       "{1: 1531, 2: 2684, 4: 1558, 3: 1585, 5: 595, 0: 1071}"
      ]
     },
     "execution_count": 15,
     "metadata": {},
     "output_type": "execute_result"
    }
   ],
   "source": [
    "labels = dict()\n",
    "for elem in train.dataset:\n",
    "    count = labels.get(elem.y.item(),0)\n",
    "    labels[elem.y.item()] = count + 1\n",
    "labels"
   ]
  },
  {
   "cell_type": "code",
   "execution_count": 21,
   "id": "c8817469",
   "metadata": {},
   "outputs": [
    {
     "data": {
      "text/plain": [
       "[(1, 1531), (2, 2684), (4, 1558), (3, 1585), (5, 595), (0, 1071)]"
      ]
     },
     "execution_count": 21,
     "metadata": {},
     "output_type": "execute_result"
    }
   ],
   "source": [
    "list(labels.items())"
   ]
  },
  {
   "cell_type": "code",
   "execution_count": 27,
   "id": "c52348d9",
   "metadata": {},
   "outputs": [
    {
     "data": {
      "text/plain": [
       "array([[   0, 1071],\n",
       "       [   2, 2684],\n",
       "       [   5,  595]], dtype=uint32)"
      ]
     },
     "execution_count": 27,
     "metadata": {},
     "output_type": "execute_result"
    }
   ],
   "source": [
    "torch.tensor(sorted(list(labels.items())), dtype = torch.uint32).numpy()[[0,2,5]]"
   ]
  },
  {
   "cell_type": "code",
   "execution_count": null,
   "id": "fb30702c",
   "metadata": {},
   "outputs": [],
   "source": []
  }
 ],
 "metadata": {
  "kernelspec": {
   "display_name": ".venv",
   "language": "python",
   "name": "python3"
  },
  "language_info": {
   "codemirror_mode": {
    "name": "ipython",
    "version": 3
   },
   "file_extension": ".py",
   "mimetype": "text/x-python",
   "name": "python",
   "nbconvert_exporter": "python",
   "pygments_lexer": "ipython3",
   "version": "3.12.9"
  }
 },
 "nbformat": 4,
 "nbformat_minor": 5
}
