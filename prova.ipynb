{
 "cells": [
  {
   "cell_type": "code",
   "execution_count": null,
   "id": "fff5fc71",
   "metadata": {},
   "outputs": [],
   "source": [
    "import json\n",
    "\n",
    "with open(\"./results.json\", \"r\") as fp:\n",
    "    results = json.load(fp)\n"
   ]
  },
  {
   "cell_type": "code",
   "execution_count": 8,
   "id": "a6581589",
   "metadata": {},
   "outputs": [
    {
     "data": {
      "text/plain": [
       "{'round_0': {'cross_entropy_loss': [{'cycle': 1,\n",
       "    'seed': 1,\n",
       "    'val_loss': 1.421361967181483,\n",
       "    'val_f1': 0.3993156245588621,\n",
       "    'model_path': 'checkpoints/A/model_epoch_0_cross_entropy_loss.pth'},\n",
       "   {'cycle': 2,\n",
       "    'seed': 2,\n",
       "    'val_loss': 1.264314167465724,\n",
       "    'val_f1': 0.588687281972069,\n",
       "    'model_path': 'checkpoints/A/model_epoch_0_cross_entropy_loss.pth'},\n",
       "   {'cycle': 3,\n",
       "    'seed': 3,\n",
       "    'val_loss': 1.5318429131879874,\n",
       "    'val_f1': 0.4202100190761772,\n",
       "    'model_path': 'checkpoints/A/model_epoch_0_cross_entropy_loss.pth'}],\n",
       "  'ncod_loss': [{'cycle': 1,\n",
       "    'seed': 1,\n",
       "    'val_loss': 1.5199667849439256,\n",
       "    'val_f1': 0.46149233147557267,\n",
       "    'model_path': 'checkpoints/A/model_epoch_0_ncod_loss.pth'},\n",
       "   {'cycle': 2,\n",
       "    'seed': 2,\n",
       "    'val_loss': 1.599887876645893,\n",
       "    'val_f1': 0.4765044299530824,\n",
       "    'model_path': 'checkpoints/A/model_epoch_0_ncod_loss.pth'},\n",
       "   {'cycle': 3,\n",
       "    'seed': 3,\n",
       "    'val_loss': 1.5051618476286002,\n",
       "    'val_f1': 0.43214105979829043,\n",
       "    'model_path': 'checkpoints/A/model_epoch_0_ncod_loss.pth'}],\n",
       "  'noisy_cross_entropy_loss': [{'cycle': 1,\n",
       "    'seed': 1,\n",
       "    'val_loss': 1.4244173993455602,\n",
       "    'val_f1': 0.43225013696838877,\n",
       "    'model_path': 'checkpoints/A/model_epoch_0_noisy_cross_entropy_loss.pth'},\n",
       "   {'cycle': 2,\n",
       "    'seed': 2,\n",
       "    'val_loss': 1.5911263675554423,\n",
       "    'val_f1': 0.5306062980771734,\n",
       "    'model_path': 'checkpoints/A/model_epoch_0_noisy_cross_entropy_loss.pth'},\n",
       "   {'cycle': 3,\n",
       "    'seed': 3,\n",
       "    'val_loss': 1.575953890245857,\n",
       "    'val_f1': 0.43554244547031756,\n",
       "    'model_path': 'checkpoints/A/model_epoch_0_noisy_cross_entropy_loss.pth'}],\n",
       "  'symmetric_cross_entropy_loss': [{'cycle': 1,\n",
       "    'seed': 1,\n",
       "    'val_loss': 1.5449560931388369,\n",
       "    'val_f1': 0.3952042043473174,\n",
       "    'model_path': 'checkpoints/A/model_epoch_0_symmetric_cross_entropy_loss.pth'},\n",
       "   {'cycle': 2,\n",
       "    'seed': 2,\n",
       "    'val_loss': 2.923393367875552,\n",
       "    'val_f1': 0.2817249482301065,\n",
       "    'model_path': 'checkpoints/A/model_epoch_0_symmetric_cross_entropy_loss.pth'},\n",
       "   {'cycle': 3,\n",
       "    'seed': 3,\n",
       "    'val_loss': 1.533849979123325,\n",
       "    'val_f1': 0.37786352173661936,\n",
       "    'model_path': 'checkpoints/A/model_epoch_0_symmetric_cross_entropy_loss.pth'}],\n",
       "  'weighted_symmetric_cross_entropy_loss': [{'cycle': 1,\n",
       "    'seed': 1,\n",
       "    'val_loss': 1.5766401671348733,\n",
       "    'val_f1': 0.3234560354768377,\n",
       "    'model_path': 'checkpoints/A/model_epoch_0_weighted_symmetric_cross_entropy_loss.pth'},\n",
       "   {'cycle': 2,\n",
       "    'seed': 2,\n",
       "    'val_loss': 1.801983525567021,\n",
       "    'val_f1': 0.40300183873292283,\n",
       "    'model_path': 'checkpoints/A/model_epoch_0_weighted_symmetric_cross_entropy_loss.pth'},\n",
       "   {'cycle': 3,\n",
       "    'seed': 3,\n",
       "    'val_loss': 1.4863351794844823,\n",
       "    'val_f1': 0.4979520772605879,\n",
       "    'model_path': 'checkpoints/A/model_epoch_0_weighted_symmetric_cross_entropy_loss.pth'}],\n",
       "  'outlier_discounting_loss': [{'cycle': 1,\n",
       "    'seed': 1,\n",
       "    'val_loss': 1.3663831847779295,\n",
       "    'val_f1': 0.49819687330169465,\n",
       "    'model_path': 'checkpoints/A/model_epoch_0_outlier_discounting_loss.pth'},\n",
       "   {'cycle': 2,\n",
       "    'seed': 2,\n",
       "    'val_loss': 1.3311263982285844,\n",
       "    'val_f1': 0.5830524033547375,\n",
       "    'model_path': 'checkpoints/A/model_epoch_0_outlier_discounting_loss.pth'},\n",
       "   {'cycle': 3,\n",
       "    'seed': 3,\n",
       "    'val_loss': 1.4660249280591382,\n",
       "    'val_f1': 0.3696086887438272,\n",
       "    'model_path': 'checkpoints/A/model_epoch_0_outlier_discounting_loss.pth'}]}}"
      ]
     },
     "execution_count": 8,
     "metadata": {},
     "output_type": "execute_result"
    }
   ],
   "source": [
    "results"
   ]
  },
  {
   "cell_type": "code",
   "execution_count": 7,
   "id": "335dd9f3",
   "metadata": {},
   "outputs": [
    {
     "data": {
      "text/plain": [
       "['checkpoints/A/model_epoch_0_cross_entropy_loss.pth',\n",
       " 'checkpoints/A/model_epoch_0_ncod_loss.pth',\n",
       " 'checkpoints/A/model_epoch_0_noisy_cross_entropy_loss.pth',\n",
       " 'checkpoints/A/model_epoch_0_symmetric_cross_entropy_loss.pth',\n",
       " 'checkpoints/A/model_epoch_0_weighted_symmetric_cross_entropy_loss.pth',\n",
       " 'checkpoints/A/model_epoch_0_outlier_discounting_loss.pth']"
      ]
     },
     "execution_count": 7,
     "metadata": {},
     "output_type": "execute_result"
    }
   ],
   "source": [
    "pretrained = []\n",
    "for loss in results[\"round_0\"]:\n",
    "    pretrained.append(\n",
    "        max(results[\"round_0\"][loss], key=lambda x: x[\"val_f1\"])[\"model_path\"],\n",
    "    )\n",
    "pretrained"
   ]
  },
  {
   "cell_type": "code",
   "execution_count": null,
   "id": "bc4b8ef7",
   "metadata": {},
   "outputs": [],
   "source": []
  }
 ],
 "metadata": {
  "kernelspec": {
   "display_name": ".venv",
   "language": "python",
   "name": "python3"
  },
  "language_info": {
   "codemirror_mode": {
    "name": "ipython",
    "version": 3
   },
   "file_extension": ".py",
   "mimetype": "text/x-python",
   "name": "python",
   "nbconvert_exporter": "python",
   "pygments_lexer": "ipython3",
   "version": "3.12.9"
  }
 },
 "nbformat": 4,
 "nbformat_minor": 5
}
